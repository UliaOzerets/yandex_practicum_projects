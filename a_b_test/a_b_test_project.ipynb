{
 "cells": [
  {
   "cell_type": "markdown",
   "metadata": {},
   "source": [
    "# Приоритизация гипотез, запуск A/B-теста и анализ результатов"
   ]
  },
  {
   "cell_type": "markdown",
   "metadata": {},
   "source": [
    "Мы — аналитики крупного интернет-магазина. Вместе с отделом маркетинга мы подготовили список гипотез для увеличения выручки.\n",
    "В этом проекте мы будем приоритизировать гипотезы, запускать A/B-тест и анализировать полученные результаты. "
   ]
  },
  {
   "cell_type": "markdown",
   "metadata": {},
   "source": [
    "## Часть I. Приоритизация гипотез."
   ]
  },
  {
   "cell_type": "markdown",
   "metadata": {},
   "source": [
    "### Импорт, анализ и предобработка данных"
   ]
  },
  {
   "cell_type": "code",
   "execution_count": 1,
   "metadata": {},
   "outputs": [],
   "source": [
    "#импортируем библиотеки\n",
    "import pandas as pd\n",
    "pd.set_option('display.max_colwidth', 130)\n",
    "import numpy as np\n",
    "import matplotlib.pyplot as plt\n",
    "import datetime as dt\n",
    "import scipy.stats as stats"
   ]
  },
  {
   "cell_type": "code",
   "execution_count": 2,
   "metadata": {},
   "outputs": [],
   "source": [
    "#читаем файл\n",
    "data = pd.read_csv('/datasets/hypothesis.csv')"
   ]
  },
  {
   "cell_type": "code",
   "execution_count": 3,
   "metadata": {},
   "outputs": [
    {
     "name": "stdout",
     "output_type": "stream",
     "text": [
      "<class 'pandas.core.frame.DataFrame'>\n",
      "RangeIndex: 9 entries, 0 to 8\n",
      "Data columns (total 5 columns):\n",
      " #   Column      Non-Null Count  Dtype \n",
      "---  ------      --------------  ----- \n",
      " 0   Hypothesis  9 non-null      object\n",
      " 1   Reach       9 non-null      int64 \n",
      " 2   Impact      9 non-null      int64 \n",
      " 3   Confidence  9 non-null      int64 \n",
      " 4   Efforts     9 non-null      int64 \n",
      "dtypes: int64(4), object(1)\n",
      "memory usage: 488.0+ bytes\n"
     ]
    }
   ],
   "source": [
    "#изучим информацию о данных\n",
    "data.info()"
   ]
  },
  {
   "cell_type": "code",
   "execution_count": 4,
   "metadata": {},
   "outputs": [],
   "source": [
    "#приведем названия столбцов к верному регистру\n",
    "data.columns = ['hypothesis', 'reach', 'impact', 'confidence', 'efforts']"
   ]
  },
  {
   "cell_type": "code",
   "execution_count": 5,
   "metadata": {},
   "outputs": [
    {
     "data": {
      "text/html": [
       "<div>\n",
       "<style scoped>\n",
       "    .dataframe tbody tr th:only-of-type {\n",
       "        vertical-align: middle;\n",
       "    }\n",
       "\n",
       "    .dataframe tbody tr th {\n",
       "        vertical-align: top;\n",
       "    }\n",
       "\n",
       "    .dataframe thead th {\n",
       "        text-align: right;\n",
       "    }\n",
       "</style>\n",
       "<table border=\"1\" class=\"dataframe\">\n",
       "  <thead>\n",
       "    <tr style=\"text-align: right;\">\n",
       "      <th></th>\n",
       "      <th>hypothesis</th>\n",
       "      <th>reach</th>\n",
       "      <th>impact</th>\n",
       "      <th>confidence</th>\n",
       "      <th>efforts</th>\n",
       "    </tr>\n",
       "  </thead>\n",
       "  <tbody>\n",
       "    <tr>\n",
       "      <th>0</th>\n",
       "      <td>Добавить два новых канала привлечения трафика, что позволит привлекать на 30% больше пользователей</td>\n",
       "      <td>3</td>\n",
       "      <td>10</td>\n",
       "      <td>8</td>\n",
       "      <td>6</td>\n",
       "    </tr>\n",
       "    <tr>\n",
       "      <th>1</th>\n",
       "      <td>Запустить собственную службу доставки, что сократит срок доставки заказов</td>\n",
       "      <td>2</td>\n",
       "      <td>5</td>\n",
       "      <td>4</td>\n",
       "      <td>10</td>\n",
       "    </tr>\n",
       "    <tr>\n",
       "      <th>2</th>\n",
       "      <td>Добавить блоки рекомендаций товаров на сайт интернет магазина, чтобы повысить конверсию и средний чек заказа</td>\n",
       "      <td>8</td>\n",
       "      <td>3</td>\n",
       "      <td>7</td>\n",
       "      <td>3</td>\n",
       "    </tr>\n",
       "    <tr>\n",
       "      <th>3</th>\n",
       "      <td>Изменить структура категорий, что увеличит конверсию, т.к. пользователи быстрее найдут нужный товар</td>\n",
       "      <td>8</td>\n",
       "      <td>3</td>\n",
       "      <td>3</td>\n",
       "      <td>8</td>\n",
       "    </tr>\n",
       "    <tr>\n",
       "      <th>4</th>\n",
       "      <td>Изменить цвет фона главной страницы, чтобы увеличить вовлеченность пользователей</td>\n",
       "      <td>3</td>\n",
       "      <td>1</td>\n",
       "      <td>1</td>\n",
       "      <td>1</td>\n",
       "    </tr>\n",
       "    <tr>\n",
       "      <th>5</th>\n",
       "      <td>Добавить страницу отзывов клиентов о магазине, что позволит увеличить количество заказов</td>\n",
       "      <td>3</td>\n",
       "      <td>2</td>\n",
       "      <td>2</td>\n",
       "      <td>3</td>\n",
       "    </tr>\n",
       "    <tr>\n",
       "      <th>6</th>\n",
       "      <td>Показать на главной странице баннеры с актуальными акциями и распродажами, чтобы увеличить конверсию</td>\n",
       "      <td>5</td>\n",
       "      <td>3</td>\n",
       "      <td>8</td>\n",
       "      <td>3</td>\n",
       "    </tr>\n",
       "    <tr>\n",
       "      <th>7</th>\n",
       "      <td>Добавить форму подписки на все основные страницы, чтобы собрать базу клиентов для email-рассылок</td>\n",
       "      <td>10</td>\n",
       "      <td>7</td>\n",
       "      <td>8</td>\n",
       "      <td>5</td>\n",
       "    </tr>\n",
       "    <tr>\n",
       "      <th>8</th>\n",
       "      <td>Запустить акцию, дающую скидку на товар в день рождения</td>\n",
       "      <td>1</td>\n",
       "      <td>9</td>\n",
       "      <td>9</td>\n",
       "      <td>5</td>\n",
       "    </tr>\n",
       "  </tbody>\n",
       "</table>\n",
       "</div>"
      ],
      "text/plain": [
       "                                                                                                     hypothesis  \\\n",
       "0            Добавить два новых канала привлечения трафика, что позволит привлекать на 30% больше пользователей   \n",
       "1                                     Запустить собственную службу доставки, что сократит срок доставки заказов   \n",
       "2  Добавить блоки рекомендаций товаров на сайт интернет магазина, чтобы повысить конверсию и средний чек заказа   \n",
       "3           Изменить структура категорий, что увеличит конверсию, т.к. пользователи быстрее найдут нужный товар   \n",
       "4                              Изменить цвет фона главной страницы, чтобы увеличить вовлеченность пользователей   \n",
       "5                      Добавить страницу отзывов клиентов о магазине, что позволит увеличить количество заказов   \n",
       "6          Показать на главной странице баннеры с актуальными акциями и распродажами, чтобы увеличить конверсию   \n",
       "7              Добавить форму подписки на все основные страницы, чтобы собрать базу клиентов для email-рассылок   \n",
       "8                                                       Запустить акцию, дающую скидку на товар в день рождения   \n",
       "\n",
       "   reach  impact  confidence  efforts  \n",
       "0      3      10           8        6  \n",
       "1      2       5           4       10  \n",
       "2      8       3           7        3  \n",
       "3      8       3           3        8  \n",
       "4      3       1           1        1  \n",
       "5      3       2           2        3  \n",
       "6      5       3           8        3  \n",
       "7     10       7           8        5  \n",
       "8      1       9           9        5  "
      ]
     },
     "execution_count": 5,
     "metadata": {},
     "output_type": "execute_result"
    }
   ],
   "source": [
    "#смотрим данные\n",
    "data"
   ]
  },
  {
   "cell_type": "markdown",
   "metadata": {},
   "source": [
    "У нас есть 9 гипотез. Для каждой имеется оценка охвата пользователей, влияние на них, уверенноть в реализации гипотезы и оценка затрат ресурсов на каждую"
   ]
  },
  {
   "cell_type": "markdown",
   "metadata": {},
   "source": [
    "### Применение фреймворка ICE"
   ]
  },
  {
   "cell_type": "code",
   "execution_count": 6,
   "metadata": {},
   "outputs": [],
   "source": [
    "#создадим столбец 'ICE'\n",
    "data['ICE'] = round((data['impact'] * data['confidence']) / data['efforts'], 2)"
   ]
  },
  {
   "cell_type": "code",
   "execution_count": 7,
   "metadata": {},
   "outputs": [
    {
     "data": {
      "text/html": [
       "<div>\n",
       "<style scoped>\n",
       "    .dataframe tbody tr th:only-of-type {\n",
       "        vertical-align: middle;\n",
       "    }\n",
       "\n",
       "    .dataframe tbody tr th {\n",
       "        vertical-align: top;\n",
       "    }\n",
       "\n",
       "    .dataframe thead th {\n",
       "        text-align: right;\n",
       "    }\n",
       "</style>\n",
       "<table border=\"1\" class=\"dataframe\">\n",
       "  <thead>\n",
       "    <tr style=\"text-align: right;\">\n",
       "      <th></th>\n",
       "      <th>hypothesis</th>\n",
       "      <th>ICE</th>\n",
       "    </tr>\n",
       "  </thead>\n",
       "  <tbody>\n",
       "    <tr>\n",
       "      <th>8</th>\n",
       "      <td>Запустить акцию, дающую скидку на товар в день рождения</td>\n",
       "      <td>16.20</td>\n",
       "    </tr>\n",
       "    <tr>\n",
       "      <th>0</th>\n",
       "      <td>Добавить два новых канала привлечения трафика, что позволит привлекать на 30% больше пользователей</td>\n",
       "      <td>13.33</td>\n",
       "    </tr>\n",
       "    <tr>\n",
       "      <th>7</th>\n",
       "      <td>Добавить форму подписки на все основные страницы, чтобы собрать базу клиентов для email-рассылок</td>\n",
       "      <td>11.20</td>\n",
       "    </tr>\n",
       "    <tr>\n",
       "      <th>6</th>\n",
       "      <td>Показать на главной странице баннеры с актуальными акциями и распродажами, чтобы увеличить конверсию</td>\n",
       "      <td>8.00</td>\n",
       "    </tr>\n",
       "    <tr>\n",
       "      <th>2</th>\n",
       "      <td>Добавить блоки рекомендаций товаров на сайт интернет магазина, чтобы повысить конверсию и средний чек заказа</td>\n",
       "      <td>7.00</td>\n",
       "    </tr>\n",
       "    <tr>\n",
       "      <th>1</th>\n",
       "      <td>Запустить собственную службу доставки, что сократит срок доставки заказов</td>\n",
       "      <td>2.00</td>\n",
       "    </tr>\n",
       "    <tr>\n",
       "      <th>5</th>\n",
       "      <td>Добавить страницу отзывов клиентов о магазине, что позволит увеличить количество заказов</td>\n",
       "      <td>1.33</td>\n",
       "    </tr>\n",
       "    <tr>\n",
       "      <th>3</th>\n",
       "      <td>Изменить структура категорий, что увеличит конверсию, т.к. пользователи быстрее найдут нужный товар</td>\n",
       "      <td>1.12</td>\n",
       "    </tr>\n",
       "    <tr>\n",
       "      <th>4</th>\n",
       "      <td>Изменить цвет фона главной страницы, чтобы увеличить вовлеченность пользователей</td>\n",
       "      <td>1.00</td>\n",
       "    </tr>\n",
       "  </tbody>\n",
       "</table>\n",
       "</div>"
      ],
      "text/plain": [
       "                                                                                                     hypothesis  \\\n",
       "8                                                       Запустить акцию, дающую скидку на товар в день рождения   \n",
       "0            Добавить два новых канала привлечения трафика, что позволит привлекать на 30% больше пользователей   \n",
       "7              Добавить форму подписки на все основные страницы, чтобы собрать базу клиентов для email-рассылок   \n",
       "6          Показать на главной странице баннеры с актуальными акциями и распродажами, чтобы увеличить конверсию   \n",
       "2  Добавить блоки рекомендаций товаров на сайт интернет магазина, чтобы повысить конверсию и средний чек заказа   \n",
       "1                                     Запустить собственную службу доставки, что сократит срок доставки заказов   \n",
       "5                      Добавить страницу отзывов клиентов о магазине, что позволит увеличить количество заказов   \n",
       "3           Изменить структура категорий, что увеличит конверсию, т.к. пользователи быстрее найдут нужный товар   \n",
       "4                              Изменить цвет фона главной страницы, чтобы увеличить вовлеченность пользователей   \n",
       "\n",
       "     ICE  \n",
       "8  16.20  \n",
       "0  13.33  \n",
       "7  11.20  \n",
       "6   8.00  \n",
       "2   7.00  \n",
       "1   2.00  \n",
       "5   1.33  \n",
       "3   1.12  \n",
       "4   1.00  "
      ]
     },
     "execution_count": 7,
     "metadata": {},
     "output_type": "execute_result"
    }
   ],
   "source": [
    "#посмотрим, какие гипотезы наиболее преспективны, согласно методу ICE\n",
    "data[['hypothesis', 'ICE']].sort_values(by='ICE', ascending=False)"
   ]
  },
  {
   "cell_type": "markdown",
   "metadata": {},
   "source": [
    "Наиболее перспективные гипотезы по ICE - 8, 0 и 7"
   ]
  },
  {
   "cell_type": "markdown",
   "metadata": {},
   "source": [
    "### Применение фреймворка RICE"
   ]
  },
  {
   "cell_type": "code",
   "execution_count": 8,
   "metadata": {},
   "outputs": [],
   "source": [
    "#добавим столбец 'RICE'\n",
    "data['RICE'] = (data['reach'] * data['impact'] * data['confidence']) / data['efforts']"
   ]
  },
  {
   "cell_type": "code",
   "execution_count": 9,
   "metadata": {},
   "outputs": [
    {
     "data": {
      "text/html": [
       "<div>\n",
       "<style scoped>\n",
       "    .dataframe tbody tr th:only-of-type {\n",
       "        vertical-align: middle;\n",
       "    }\n",
       "\n",
       "    .dataframe tbody tr th {\n",
       "        vertical-align: top;\n",
       "    }\n",
       "\n",
       "    .dataframe thead th {\n",
       "        text-align: right;\n",
       "    }\n",
       "</style>\n",
       "<table border=\"1\" class=\"dataframe\">\n",
       "  <thead>\n",
       "    <tr style=\"text-align: right;\">\n",
       "      <th></th>\n",
       "      <th>hypothesis</th>\n",
       "      <th>RICE</th>\n",
       "    </tr>\n",
       "  </thead>\n",
       "  <tbody>\n",
       "    <tr>\n",
       "      <th>7</th>\n",
       "      <td>Добавить форму подписки на все основные страницы, чтобы собрать базу клиентов для email-рассылок</td>\n",
       "      <td>112.0</td>\n",
       "    </tr>\n",
       "    <tr>\n",
       "      <th>2</th>\n",
       "      <td>Добавить блоки рекомендаций товаров на сайт интернет магазина, чтобы повысить конверсию и средний чек заказа</td>\n",
       "      <td>56.0</td>\n",
       "    </tr>\n",
       "    <tr>\n",
       "      <th>0</th>\n",
       "      <td>Добавить два новых канала привлечения трафика, что позволит привлекать на 30% больше пользователей</td>\n",
       "      <td>40.0</td>\n",
       "    </tr>\n",
       "    <tr>\n",
       "      <th>6</th>\n",
       "      <td>Показать на главной странице баннеры с актуальными акциями и распродажами, чтобы увеличить конверсию</td>\n",
       "      <td>40.0</td>\n",
       "    </tr>\n",
       "    <tr>\n",
       "      <th>8</th>\n",
       "      <td>Запустить акцию, дающую скидку на товар в день рождения</td>\n",
       "      <td>16.2</td>\n",
       "    </tr>\n",
       "    <tr>\n",
       "      <th>3</th>\n",
       "      <td>Изменить структура категорий, что увеличит конверсию, т.к. пользователи быстрее найдут нужный товар</td>\n",
       "      <td>9.0</td>\n",
       "    </tr>\n",
       "    <tr>\n",
       "      <th>1</th>\n",
       "      <td>Запустить собственную службу доставки, что сократит срок доставки заказов</td>\n",
       "      <td>4.0</td>\n",
       "    </tr>\n",
       "    <tr>\n",
       "      <th>5</th>\n",
       "      <td>Добавить страницу отзывов клиентов о магазине, что позволит увеличить количество заказов</td>\n",
       "      <td>4.0</td>\n",
       "    </tr>\n",
       "    <tr>\n",
       "      <th>4</th>\n",
       "      <td>Изменить цвет фона главной страницы, чтобы увеличить вовлеченность пользователей</td>\n",
       "      <td>3.0</td>\n",
       "    </tr>\n",
       "  </tbody>\n",
       "</table>\n",
       "</div>"
      ],
      "text/plain": [
       "                                                                                                     hypothesis  \\\n",
       "7              Добавить форму подписки на все основные страницы, чтобы собрать базу клиентов для email-рассылок   \n",
       "2  Добавить блоки рекомендаций товаров на сайт интернет магазина, чтобы повысить конверсию и средний чек заказа   \n",
       "0            Добавить два новых канала привлечения трафика, что позволит привлекать на 30% больше пользователей   \n",
       "6          Показать на главной странице баннеры с актуальными акциями и распродажами, чтобы увеличить конверсию   \n",
       "8                                                       Запустить акцию, дающую скидку на товар в день рождения   \n",
       "3           Изменить структура категорий, что увеличит конверсию, т.к. пользователи быстрее найдут нужный товар   \n",
       "1                                     Запустить собственную службу доставки, что сократит срок доставки заказов   \n",
       "5                      Добавить страницу отзывов клиентов о магазине, что позволит увеличить количество заказов   \n",
       "4                              Изменить цвет фона главной страницы, чтобы увеличить вовлеченность пользователей   \n",
       "\n",
       "    RICE  \n",
       "7  112.0  \n",
       "2   56.0  \n",
       "0   40.0  \n",
       "6   40.0  \n",
       "8   16.2  \n",
       "3    9.0  \n",
       "1    4.0  \n",
       "5    4.0  \n",
       "4    3.0  "
      ]
     },
     "execution_count": 9,
     "metadata": {},
     "output_type": "execute_result"
    }
   ],
   "source": [
    "#посмотрим, какие гипотезы наиболее преспективны, согласно методу RICE\n",
    "data[['hypothesis', 'RICE']].sort_values(by='RICE', ascending=False)"
   ]
  },
  {
   "cell_type": "markdown",
   "metadata": {},
   "source": [
    "Наиболее перспективные гипотезы по RICE - 7, 2, 0 и 6"
   ]
  },
  {
   "cell_type": "markdown",
   "metadata": {},
   "source": [
    "Приоритетной по методу RICE оказалась гипотеза по номером 7. так произошло, потому что показатель reach у этой гипотезы(оценка охвата пользователей, которых затронет реализация этой гипотезы) имеет наибольшее значение - 10, в то время как у гипотезы 8, которая стала приоритетной по ICE - показатель reach равен 1 (внедрение этой гипотезы затронет наименьшее количество пользователей)"
   ]
  },
  {
   "cell_type": "markdown",
   "metadata": {},
   "source": [
    "## Часть II. Анализ A/B-теста"
   ]
  },
  {
   "cell_type": "markdown",
   "metadata": {},
   "source": [
    "### Импорт, анализ и предобработка данных"
   ]
  },
  {
   "cell_type": "code",
   "execution_count": 10,
   "metadata": {},
   "outputs": [],
   "source": [
    "#читаем файлы\n",
    "data_orders = pd.read_csv('/datasets/orders.csv')\n",
    "data_visitors = pd.read_csv('/datasets/visitors.csv')"
   ]
  },
  {
   "cell_type": "code",
   "execution_count": 11,
   "metadata": {},
   "outputs": [
    {
     "name": "stdout",
     "output_type": "stream",
     "text": [
      "<class 'pandas.core.frame.DataFrame'>\n",
      "RangeIndex: 1197 entries, 0 to 1196\n",
      "Data columns (total 5 columns):\n",
      " #   Column         Non-Null Count  Dtype \n",
      "---  ------         --------------  ----- \n",
      " 0   transactionId  1197 non-null   int64 \n",
      " 1   visitorId      1197 non-null   int64 \n",
      " 2   date           1197 non-null   object\n",
      " 3   revenue        1197 non-null   int64 \n",
      " 4   group          1197 non-null   object\n",
      "dtypes: int64(3), object(2)\n",
      "memory usage: 46.9+ KB\n"
     ]
    }
   ],
   "source": [
    "#изучаем информацию датафрейма data_orders\n",
    "data_orders.info()"
   ]
  },
  {
   "cell_type": "code",
   "execution_count": 12,
   "metadata": {},
   "outputs": [
    {
     "name": "stdout",
     "output_type": "stream",
     "text": [
      "<class 'pandas.core.frame.DataFrame'>\n",
      "RangeIndex: 62 entries, 0 to 61\n",
      "Data columns (total 3 columns):\n",
      " #   Column    Non-Null Count  Dtype \n",
      "---  ------    --------------  ----- \n",
      " 0   date      62 non-null     object\n",
      " 1   group     62 non-null     object\n",
      " 2   visitors  62 non-null     int64 \n",
      "dtypes: int64(1), object(2)\n",
      "memory usage: 1.6+ KB\n"
     ]
    }
   ],
   "source": [
    "#изучаем информацию датафрейма data_visitors\n",
    "data_visitors.info()"
   ]
  },
  {
   "cell_type": "markdown",
   "metadata": {},
   "source": [
    "В обоих датафреймах необходимо изменить тип данных в колонке date с типа object на тип datetime. Так же, в датафрейме \"data_orders\" необхоимо привести название столбцов в грамотный вид"
   ]
  },
  {
   "cell_type": "code",
   "execution_count": 13,
   "metadata": {},
   "outputs": [
    {
     "data": {
      "text/html": [
       "<div>\n",
       "<style scoped>\n",
       "    .dataframe tbody tr th:only-of-type {\n",
       "        vertical-align: middle;\n",
       "    }\n",
       "\n",
       "    .dataframe tbody tr th {\n",
       "        vertical-align: top;\n",
       "    }\n",
       "\n",
       "    .dataframe thead th {\n",
       "        text-align: right;\n",
       "    }\n",
       "</style>\n",
       "<table border=\"1\" class=\"dataframe\">\n",
       "  <thead>\n",
       "    <tr style=\"text-align: right;\">\n",
       "      <th></th>\n",
       "      <th>transactionId</th>\n",
       "      <th>visitorId</th>\n",
       "      <th>date</th>\n",
       "      <th>revenue</th>\n",
       "      <th>group</th>\n",
       "    </tr>\n",
       "  </thead>\n",
       "  <tbody>\n",
       "    <tr>\n",
       "      <th>0</th>\n",
       "      <td>3667963787</td>\n",
       "      <td>3312258926</td>\n",
       "      <td>2019-08-15</td>\n",
       "      <td>1650</td>\n",
       "      <td>B</td>\n",
       "    </tr>\n",
       "    <tr>\n",
       "      <th>1</th>\n",
       "      <td>2804400009</td>\n",
       "      <td>3642806036</td>\n",
       "      <td>2019-08-15</td>\n",
       "      <td>730</td>\n",
       "      <td>B</td>\n",
       "    </tr>\n",
       "    <tr>\n",
       "      <th>2</th>\n",
       "      <td>2961555356</td>\n",
       "      <td>4069496402</td>\n",
       "      <td>2019-08-15</td>\n",
       "      <td>400</td>\n",
       "      <td>A</td>\n",
       "    </tr>\n",
       "    <tr>\n",
       "      <th>3</th>\n",
       "      <td>3797467345</td>\n",
       "      <td>1196621759</td>\n",
       "      <td>2019-08-15</td>\n",
       "      <td>9759</td>\n",
       "      <td>B</td>\n",
       "    </tr>\n",
       "    <tr>\n",
       "      <th>4</th>\n",
       "      <td>2282983706</td>\n",
       "      <td>2322279887</td>\n",
       "      <td>2019-08-15</td>\n",
       "      <td>2308</td>\n",
       "      <td>B</td>\n",
       "    </tr>\n",
       "  </tbody>\n",
       "</table>\n",
       "</div>"
      ],
      "text/plain": [
       "   transactionId   visitorId        date  revenue group\n",
       "0     3667963787  3312258926  2019-08-15     1650     B\n",
       "1     2804400009  3642806036  2019-08-15      730     B\n",
       "2     2961555356  4069496402  2019-08-15      400     A\n",
       "3     3797467345  1196621759  2019-08-15     9759     B\n",
       "4     2282983706  2322279887  2019-08-15     2308     B"
      ]
     },
     "execution_count": 13,
     "metadata": {},
     "output_type": "execute_result"
    }
   ],
   "source": [
    "#смотрим данные датафрейма data_orders\n",
    "data_orders.head()"
   ]
  },
  {
   "cell_type": "code",
   "execution_count": 14,
   "metadata": {},
   "outputs": [
    {
     "data": {
      "text/html": [
       "<div>\n",
       "<style scoped>\n",
       "    .dataframe tbody tr th:only-of-type {\n",
       "        vertical-align: middle;\n",
       "    }\n",
       "\n",
       "    .dataframe tbody tr th {\n",
       "        vertical-align: top;\n",
       "    }\n",
       "\n",
       "    .dataframe thead th {\n",
       "        text-align: right;\n",
       "    }\n",
       "</style>\n",
       "<table border=\"1\" class=\"dataframe\">\n",
       "  <thead>\n",
       "    <tr style=\"text-align: right;\">\n",
       "      <th></th>\n",
       "      <th>date</th>\n",
       "      <th>group</th>\n",
       "      <th>visitors</th>\n",
       "    </tr>\n",
       "  </thead>\n",
       "  <tbody>\n",
       "    <tr>\n",
       "      <th>0</th>\n",
       "      <td>2019-08-01</td>\n",
       "      <td>A</td>\n",
       "      <td>719</td>\n",
       "    </tr>\n",
       "    <tr>\n",
       "      <th>1</th>\n",
       "      <td>2019-08-02</td>\n",
       "      <td>A</td>\n",
       "      <td>619</td>\n",
       "    </tr>\n",
       "    <tr>\n",
       "      <th>2</th>\n",
       "      <td>2019-08-03</td>\n",
       "      <td>A</td>\n",
       "      <td>507</td>\n",
       "    </tr>\n",
       "    <tr>\n",
       "      <th>3</th>\n",
       "      <td>2019-08-04</td>\n",
       "      <td>A</td>\n",
       "      <td>717</td>\n",
       "    </tr>\n",
       "    <tr>\n",
       "      <th>4</th>\n",
       "      <td>2019-08-05</td>\n",
       "      <td>A</td>\n",
       "      <td>756</td>\n",
       "    </tr>\n",
       "  </tbody>\n",
       "</table>\n",
       "</div>"
      ],
      "text/plain": [
       "         date group  visitors\n",
       "0  2019-08-01     A       719\n",
       "1  2019-08-02     A       619\n",
       "2  2019-08-03     A       507\n",
       "3  2019-08-04     A       717\n",
       "4  2019-08-05     A       756"
      ]
     },
     "execution_count": 14,
     "metadata": {},
     "output_type": "execute_result"
    }
   ],
   "source": [
    "#смотрим данные датафрейма data_visitors\n",
    "data_visitors.head()"
   ]
  },
  {
   "cell_type": "code",
   "execution_count": 15,
   "metadata": {},
   "outputs": [],
   "source": [
    "#приводим столбец date к типу datetime\n",
    "data_orders['date'] = pd.to_datetime(data_orders['date'])"
   ]
  },
  {
   "cell_type": "code",
   "execution_count": 16,
   "metadata": {},
   "outputs": [],
   "source": [
    "#приводим столбец date к типу datetime\n",
    "data_visitors['date'] = pd.to_datetime(data_visitors['date'])"
   ]
  },
  {
   "cell_type": "code",
   "execution_count": 17,
   "metadata": {},
   "outputs": [],
   "source": [
    "data_orders.columns = ['transaction_id', 'visitor_id', 'date', 'revenue', 'group']"
   ]
  },
  {
   "cell_type": "code",
   "execution_count": 18,
   "metadata": {},
   "outputs": [
    {
     "name": "stdout",
     "output_type": "stream",
     "text": [
      "<class 'pandas.core.frame.DataFrame'>\n",
      "RangeIndex: 1197 entries, 0 to 1196\n",
      "Data columns (total 5 columns):\n",
      " #   Column          Non-Null Count  Dtype         \n",
      "---  ------          --------------  -----         \n",
      " 0   transaction_id  1197 non-null   int64         \n",
      " 1   visitor_id      1197 non-null   int64         \n",
      " 2   date            1197 non-null   datetime64[ns]\n",
      " 3   revenue         1197 non-null   int64         \n",
      " 4   group           1197 non-null   object        \n",
      "dtypes: datetime64[ns](1), int64(3), object(1)\n",
      "memory usage: 46.9+ KB\n"
     ]
    }
   ],
   "source": [
    "#проверяем изменения в датафрейме data_orders\n",
    "data_orders.info()"
   ]
  },
  {
   "cell_type": "code",
   "execution_count": 19,
   "metadata": {},
   "outputs": [
    {
     "name": "stdout",
     "output_type": "stream",
     "text": [
      "<class 'pandas.core.frame.DataFrame'>\n",
      "RangeIndex: 62 entries, 0 to 61\n",
      "Data columns (total 3 columns):\n",
      " #   Column    Non-Null Count  Dtype         \n",
      "---  ------    --------------  -----         \n",
      " 0   date      62 non-null     datetime64[ns]\n",
      " 1   group     62 non-null     object        \n",
      " 2   visitors  62 non-null     int64         \n",
      "dtypes: datetime64[ns](1), int64(1), object(1)\n",
      "memory usage: 1.6+ KB\n"
     ]
    }
   ],
   "source": [
    "#проверяем изменения в датафрейме data_visitors\n",
    "data_visitors.info()"
   ]
  },
  {
   "cell_type": "markdown",
   "metadata": {},
   "source": [
    "Проведем еще некоторые предварительные исследования"
   ]
  },
  {
   "cell_type": "code",
   "execution_count": 20,
   "metadata": {},
   "outputs": [
    {
     "data": {
      "text/plain": [
       "array(['A', 'B'], dtype=object)"
      ]
     },
     "execution_count": 20,
     "metadata": {},
     "output_type": "execute_result"
    }
   ],
   "source": [
    "#посмотрим, какие группы участвуют в тесте\n",
    "data_visitors['group'].unique()"
   ]
  },
  {
   "cell_type": "code",
   "execution_count": 21,
   "metadata": {},
   "outputs": [
    {
     "data": {
      "text/plain": [
       "Timestamp('2019-08-01 00:00:00')"
      ]
     },
     "execution_count": 21,
     "metadata": {},
     "output_type": "execute_result"
    }
   ],
   "source": [
    "#минимальная дата теста\n",
    "data_visitors['date'].min()"
   ]
  },
  {
   "cell_type": "code",
   "execution_count": 22,
   "metadata": {},
   "outputs": [
    {
     "data": {
      "text/plain": [
       "Timestamp('2019-08-31 00:00:00')"
      ]
     },
     "execution_count": 22,
     "metadata": {},
     "output_type": "execute_result"
    }
   ],
   "source": [
    "#максимальная дата теста\n",
    "data_visitors['date'].max()"
   ]
  },
  {
   "cell_type": "code",
   "execution_count": 23,
   "metadata": {},
   "outputs": [
    {
     "data": {
      "text/plain": [
       "group\n",
       "A    503\n",
       "B    586\n",
       "Name: visitor_id, dtype: int64"
      ]
     },
     "execution_count": 23,
     "metadata": {},
     "output_type": "execute_result"
    }
   ],
   "source": [
    "#количество уникальных пользователей в группах\n",
    "users_by_group = data_orders.groupby('group')['visitor_id'].nunique()\n",
    "users_by_group"
   ]
  },
  {
   "cell_type": "markdown",
   "metadata": {},
   "source": [
    "У нас имеется достаточно большая разница в количестве пользователей по группам - около 14%.Но это различие не достаточный повод прекратить исследование"
   ]
  },
  {
   "cell_type": "code",
   "execution_count": 24,
   "metadata": {},
   "outputs": [],
   "source": [
    "#объеденим датафреймы по столбцу visitor_id\n",
    "merged_orders = pd.merge(data_orders[data_orders['group'] == 'A'],\n",
    "                         data_orders[data_orders['group'] == 'B'], on='visitor_id', how='inner')"
   ]
  },
  {
   "cell_type": "code",
   "execution_count": 25,
   "metadata": {},
   "outputs": [
    {
     "data": {
      "text/plain": [
       "58"
      ]
     },
     "execution_count": 25,
     "metadata": {},
     "output_type": "execute_result"
    }
   ],
   "source": [
    "#найдём дубликаты\n",
    "duplicates = merged_orders.groupby('visitor_id')\n",
    "both_group_users = duplicates['visitor_id'].nunique()\n",
    "both_group_users.shape[0]"
   ]
  },
  {
   "cell_type": "markdown",
   "metadata": {},
   "source": [
    "У нас есть 58 пользователей, которые находятся в обоих группах. Их наличие может существенно повлиять на результаты теста. Удалим дубликаты этих пользователей из наших данных"
   ]
  },
  {
   "cell_type": "code",
   "execution_count": 26,
   "metadata": {},
   "outputs": [],
   "source": [
    "#удалим дубликаты\n",
    "data_orders_new = data_orders.query('visitor_id not in @both_group_users')"
   ]
  },
  {
   "cell_type": "code",
   "execution_count": 27,
   "metadata": {},
   "outputs": [],
   "source": [
    "#выберем пользователей из группы А\n",
    "visitors_a = data_visitors[data_visitors['group'] == 'A']"
   ]
  },
  {
   "cell_type": "code",
   "execution_count": 28,
   "metadata": {},
   "outputs": [],
   "source": [
    "#выберем пользователей из группы В\n",
    "visitors_b = data_visitors[data_visitors['group'] == 'B']"
   ]
  },
  {
   "cell_type": "code",
   "execution_count": 29,
   "metadata": {},
   "outputs": [
    {
     "data": {
      "image/png": "[encoded data removed]",
      "text/plain": [
       "<Figure size 432x288 with 1 Axes>"
      ]
     },
     "metadata": {
      "needs_background": "light"
     },
     "output_type": "display_data"
    }
   ],
   "source": [
    "#строим график\n",
    "plt.plot(visitors_a['date'], visitors_a['visitors'])\n",
    "plt.plot(visitors_b['date'], visitors_b['visitors'])\n",
    "plt.legend(['A', 'B'])\n",
    "plt.title('Динамика посетителей по дням по группам')\n",
    "plt.xlabel('Дата')\n",
    "plt.xticks(rotation=90)\n",
    "plt.ylabel('Количество посетителей')\n",
    "plt.show()"
   ]
  },
  {
   "cell_type": "markdown",
   "metadata": {},
   "source": [
    "В целом динамика посетителей по дням достаточно разнообразна. Есть небольшие всплески у обеих групп, но в целом, количество юзеров практически идентично. Тем не менее, количество посетилетей у группы В хоть ненамного, но преобладает над количеством посетителей группы А"
   ]
  },
  {
   "cell_type": "markdown",
   "metadata": {},
   "source": [
    "Предобработка данных завершена, переходим к А/В-тесту"
   ]
  },
  {
   "cell_type": "markdown",
   "metadata": {},
   "source": [
    "### Подготовка к проведению А/В-теста"
   ]
  },
  {
   "cell_type": "code",
   "execution_count": 30,
   "metadata": {},
   "outputs": [],
   "source": [
    "#создаем массив значений из дат и групп\n",
    "dates_groups = data_orders_new[['date','group']].drop_duplicates()"
   ]
  },
  {
   "cell_type": "code",
   "execution_count": 31,
   "metadata": {},
   "outputs": [],
   "source": [
    "#получаем агрегированные кумулятивные по дням данные о заказах \n",
    "orders_aggregated = dates_groups.apply(\n",
    "    lambda x: data_orders_new[\n",
    "        np.logical_and(\n",
    "            data_orders_new['date'] <= x['date'], data_orders_new['group'] == x['group']\n",
    "        )\n",
    "    ].agg(\n",
    "        {\n",
    "            'date' : 'max', \n",
    "            'group' : 'max', \n",
    "            'transaction_id' : 'nunique', \n",
    "            'visitor_id' : 'nunique', \n",
    "            'revenue' : 'sum'\n",
    "        }\n",
    "    ), \n",
    "    axis=1,\n",
    ").sort_values(by=['date','group'])"
   ]
  },
  {
   "cell_type": "code",
   "execution_count": 32,
   "metadata": {},
   "outputs": [],
   "source": [
    "#получаем агрегированные кумулятивные по дням данные о посетителях интернет-магазина\n",
    "visitors_aggregated = dates_groups.apply(\n",
    "    lambda x: data_visitors[\n",
    "        np.logical_and(\n",
    "            data_visitors['date'] <= x['date'], data_visitors['group'] == x['group']\n",
    "        )\n",
    "    ].agg(\n",
    "        {\n",
    "            'date': 'max', \n",
    "            'group': 'max', \n",
    "            'visitors': 'sum'\n",
    "        }\n",
    "    ),\n",
    "    axis=1,\n",
    ").sort_values(by=['date', 'group'])"
   ]
  },
  {
   "cell_type": "code",
   "execution_count": 33,
   "metadata": {},
   "outputs": [],
   "source": [
    "#объединяем данные в одной таблице\n",
    "cumulative_data = orders_aggregated.merge(visitors_aggregated, on=['date', 'group'], how='left')\n",
    "#присваиваем её столбцам понятные названия\n",
    "cumulative_data.columns = ['date', 'group', 'orders', 'buyers', 'revenue', 'visitors']"
   ]
  },
  {
   "cell_type": "code",
   "execution_count": 34,
   "metadata": {},
   "outputs": [
    {
     "data": {
      "text/html": [
       "<div>\n",
       "<style scoped>\n",
       "    .dataframe tbody tr th:only-of-type {\n",
       "        vertical-align: middle;\n",
       "    }\n",
       "\n",
       "    .dataframe tbody tr th {\n",
       "        vertical-align: top;\n",
       "    }\n",
       "\n",
       "    .dataframe thead th {\n",
       "        text-align: right;\n",
       "    }\n",
       "</style>\n",
       "<table border=\"1\" class=\"dataframe\">\n",
       "  <thead>\n",
       "    <tr style=\"text-align: right;\">\n",
       "      <th></th>\n",
       "      <th>date</th>\n",
       "      <th>group</th>\n",
       "      <th>orders</th>\n",
       "      <th>buyers</th>\n",
       "      <th>revenue</th>\n",
       "      <th>visitors</th>\n",
       "    </tr>\n",
       "  </thead>\n",
       "  <tbody>\n",
       "    <tr>\n",
       "      <th>0</th>\n",
       "      <td>2019-08-01</td>\n",
       "      <td>A</td>\n",
       "      <td>24</td>\n",
       "      <td>20</td>\n",
       "      <td>148579</td>\n",
       "      <td>719</td>\n",
       "    </tr>\n",
       "    <tr>\n",
       "      <th>1</th>\n",
       "      <td>2019-08-01</td>\n",
       "      <td>B</td>\n",
       "      <td>21</td>\n",
       "      <td>20</td>\n",
       "      <td>101217</td>\n",
       "      <td>713</td>\n",
       "    </tr>\n",
       "    <tr>\n",
       "      <th>2</th>\n",
       "      <td>2019-08-02</td>\n",
       "      <td>A</td>\n",
       "      <td>44</td>\n",
       "      <td>38</td>\n",
       "      <td>242401</td>\n",
       "      <td>1338</td>\n",
       "    </tr>\n",
       "    <tr>\n",
       "      <th>3</th>\n",
       "      <td>2019-08-02</td>\n",
       "      <td>B</td>\n",
       "      <td>45</td>\n",
       "      <td>43</td>\n",
       "      <td>266748</td>\n",
       "      <td>1294</td>\n",
       "    </tr>\n",
       "    <tr>\n",
       "      <th>4</th>\n",
       "      <td>2019-08-03</td>\n",
       "      <td>A</td>\n",
       "      <td>68</td>\n",
       "      <td>62</td>\n",
       "      <td>354874</td>\n",
       "      <td>1845</td>\n",
       "    </tr>\n",
       "  </tbody>\n",
       "</table>\n",
       "</div>"
      ],
      "text/plain": [
       "        date group  orders  buyers  revenue  visitors\n",
       "0 2019-08-01     A      24      20   148579       719\n",
       "1 2019-08-01     B      21      20   101217       713\n",
       "2 2019-08-02     A      44      38   242401      1338\n",
       "3 2019-08-02     B      45      43   266748      1294\n",
       "4 2019-08-03     A      68      62   354874      1845"
      ]
     },
     "execution_count": 34,
     "metadata": {},
     "output_type": "execute_result"
    }
   ],
   "source": [
    "#смотрим как прошло объединение\n",
    "cumulative_data.head()"
   ]
  },
  {
   "cell_type": "code",
   "execution_count": 35,
   "metadata": {},
   "outputs": [
    {
     "data": {
      "text/plain": [
       "Timestamp('2019-08-01 00:00:00')"
      ]
     },
     "execution_count": 35,
     "metadata": {},
     "output_type": "execute_result"
    }
   ],
   "source": [
    "#проверим, корректно ли создан датафрейм. определим минимальную дату\n",
    "cumulative_data['date'].min()"
   ]
  },
  {
   "cell_type": "code",
   "execution_count": 36,
   "metadata": {},
   "outputs": [
    {
     "data": {
      "text/plain": [
       "Timestamp('2019-08-31 00:00:00')"
      ]
     },
     "execution_count": 36,
     "metadata": {},
     "output_type": "execute_result"
    }
   ],
   "source": [
    "#максимальную дату\n",
    "cumulative_data['date'].max()"
   ]
  },
  {
   "cell_type": "markdown",
   "metadata": {},
   "source": [
    "Максимальная и минимальная дата аналогичны датам исходного датафрейма, а значит - новый датафрейм создан корректно.\n",
    "\n",
    "Данные собраны, теперь можно переходить к построению графиков"
   ]
  },
  {
   "cell_type": "markdown",
   "metadata": {},
   "source": [
    "### График кумулятивной выручки по группам"
   ]
  },
  {
   "cell_type": "code",
   "execution_count": 37,
   "metadata": {},
   "outputs": [],
   "source": [
    "#создаем датафрейм с кумулятивной выручкой по дням для группы А\n",
    "cumulative_revenue_a = cumulative_data[cumulative_data['group'] == 'A'][['date', 'revenue', 'orders']]"
   ]
  },
  {
   "cell_type": "code",
   "execution_count": 38,
   "metadata": {},
   "outputs": [],
   "source": [
    "#создаем датафрейм с кумулятивной выручкой по дням для группы В\n",
    "cumulative_revenue_b = cumulative_data[cumulative_data['group'] == 'B'][['date', 'revenue', 'orders']]"
   ]
  },
  {
   "cell_type": "code",
   "execution_count": 39,
   "metadata": {},
   "outputs": [
    {
     "data": {
      "image/png": "[encoded data removed]",
      "text/plain": [
       "<Figure size 432x288 with 1 Axes>"
      ]
     },
     "metadata": {
      "needs_background": "light"
     },
     "output_type": "display_data"
    }
   ],
   "source": [
    "#строим график\n",
    "plt.plot(cumulative_revenue_a['date'], cumulative_revenue_a['revenue'])\n",
    "plt.plot(cumulative_revenue_b['date'], cumulative_revenue_b['revenue'])\n",
    "plt.legend(['A', 'B'])\n",
    "plt.title('График кумулятивной выручки по группам')\n",
    "plt.xlabel('Дата')\n",
    "plt.xticks(rotation=90)\n",
    "plt.ylabel('Выручка')\n",
    "plt.show()"
   ]
  },
  {
   "cell_type": "markdown",
   "metadata": {},
   "source": [
    "Исходя из графика видно, что обе группы начинали с приблизительно одинаковыми значениями выручки. Начиная с 5-го дня теста группа В начала лидировать, а после 18-го дня теста в группе произошел резкий скачок, который позволил остаться группе В на лидирующей позиции с большим отрывом.\n",
    "\n",
    "Такой скачок может быть вызван либо резким увеличением количества заказов, либо появлением дорогостоящих заказов, сумма которых значительно выше чем у других заказов"
   ]
  },
  {
   "cell_type": "markdown",
   "metadata": {},
   "source": [
    "### График кумулятивного среднего чека по группам"
   ]
  },
  {
   "cell_type": "code",
   "execution_count": 40,
   "metadata": {},
   "outputs": [
    {
     "data": {
      "image/png": "[encoded data removed]",
      "text/plain": [
       "<Figure size 432x288 with 1 Axes>"
      ]
     },
     "metadata": {
      "needs_background": "light"
     },
     "output_type": "display_data"
    }
   ],
   "source": [
    "#строим график\n",
    "plt.plot(cumulative_revenue_a['date'], cumulative_revenue_a['revenue']/cumulative_revenue_a['orders'])\n",
    "plt.plot(cumulative_revenue_b['date'], cumulative_revenue_b['revenue']/cumulative_revenue_b['orders'])\n",
    "plt.legend(['A', 'B'])\n",
    "plt.title('График кумулятивного среднего чека по группам')\n",
    "plt.xlabel('Дата')\n",
    "plt.xticks(rotation=90)\n",
    "plt.ylabel('Выручка')\n",
    "plt.show()"
   ]
  },
  {
   "cell_type": "markdown",
   "metadata": {},
   "source": [
    "Что касается среднего чека - у группы В в первые дни пошел резкий рост среднего чека. Затем, с 11-го по 14 день лидирующей группой стала группа А, а вскоре, после нескольких дней одинакового среднего чека, группа В с большим скачком стала лидирующей"
   ]
  },
  {
   "cell_type": "markdown",
   "metadata": {},
   "source": [
    "### График относительного изменения кумулятивного среднего чека группы B к группе A"
   ]
  },
  {
   "cell_type": "code",
   "execution_count": 41,
   "metadata": {},
   "outputs": [],
   "source": [
    "#объединяем данные в один датафрейм\n",
    "merge_cumulative_revenue = cumulative_revenue_a.merge(cumulative_revenue_b, on='date', how='left', suffixes=['A', 'B'])"
   ]
  },
  {
   "cell_type": "code",
   "execution_count": 42,
   "metadata": {},
   "outputs": [
    {
     "data": {
      "image/png": "[encoded data removed]",
      "text/plain": [
       "<Figure size 432x288 with 1 Axes>"
      ]
     },
     "metadata": {
      "needs_background": "light"
     },
     "output_type": "display_data"
    }
   ],
   "source": [
    "#строим график\n",
    "plt.plot(merge_cumulative_revenue['date'],\n",
    "         (merge_cumulative_revenue['revenueB'] / merge_cumulative_revenue['ordersB']) /\n",
    "         (merge_cumulative_revenue['revenueA'] / merge_cumulative_revenue['ordersA']))\n",
    "plt.title('График относительного изменения кумулятивного среднего чека группы B к группе A')\n",
    "plt.xlabel('Дата')\n",
    "plt.xticks(rotation=90)\n",
    "plt.ylabel('Выручка')\n",
    "plt.show()"
   ]
  },
  {
   "cell_type": "markdown",
   "metadata": {},
   "source": [
    "Согласно графику видно, что результаты теста претерпевали значительные колебания - резкий рост с первого дня, а затем достаточно сильный спад с 8-го до 13-го. А затем последовал подъем, а на 19-й день резкий скачок. Предположительно, в эту дату совершались заказы, с аномально большими суммами"
   ]
  },
  {
   "cell_type": "markdown",
   "metadata": {},
   "source": [
    "### График кумулятивного среднего количества заказов на посетителя по группам"
   ]
  },
  {
   "cell_type": "code",
   "execution_count": 43,
   "metadata": {},
   "outputs": [],
   "source": [
    "#добавляем столбец конверсии\n",
    "cumulative_data['conversion'] = cumulative_data['orders'] / cumulative_data['visitors']"
   ]
  },
  {
   "cell_type": "code",
   "execution_count": 44,
   "metadata": {},
   "outputs": [],
   "source": [
    "#выбираем данные по группе А\n",
    "cumulative_data_a = cumulative_data[cumulative_data['group'] == 'A']"
   ]
  },
  {
   "cell_type": "code",
   "execution_count": 45,
   "metadata": {},
   "outputs": [],
   "source": [
    "#выбираем данные по группе В\n",
    "cumulative_data_b = cumulative_data[cumulative_data['group'] == 'B']"
   ]
  },
  {
   "cell_type": "code",
   "execution_count": 46,
   "metadata": {},
   "outputs": [
    {
     "data": {
      "image/png": "[encoded data removed]",
      "text/plain": [
       "<Figure size 432x288 with 1 Axes>"
      ]
     },
     "metadata": {
      "needs_background": "light"
     },
     "output_type": "display_data"
    }
   ],
   "source": [
    "#строим график\n",
    "plt.plot(cumulative_data_a['date'], cumulative_data_a['conversion'], label='A') \n",
    "plt.plot(cumulative_data_b['date'], cumulative_data_b['conversion'], label='B') \n",
    "plt.legend(['A', 'B'])\n",
    "plt.title('График кумулятивного среднего количества заказов на посетителя по группам')\n",
    "plt.xlabel('Дата')\n",
    "plt.xticks(rotation=90)\n",
    "plt.ylabel('Среднее количество заказов')\n",
    "plt.show()"
   ]
  },
  {
   "cell_type": "markdown",
   "metadata": {},
   "source": [
    "Анализируя график видно, что группа В до 6-го дня теста была на второй позиции. Но начиная с 6-го дня - конверсия заказов группы В росла и разница между группами стала существенной"
   ]
  },
  {
   "cell_type": "markdown",
   "metadata": {},
   "source": [
    "### График относительного изменения кумулятивного среднего количества заказов на посетителя группы B к группе A"
   ]
  },
  {
   "cell_type": "code",
   "execution_count": 47,
   "metadata": {},
   "outputs": [],
   "source": [
    "#\n",
    "merge_cum_conversion = cumulative_data_a[['date', 'conversion']].merge(cumulative_data_b[['date', 'conversion']], \n",
    "                                                                       on='date', how='left', suffixes=['A', 'B'])"
   ]
  },
  {
   "cell_type": "code",
   "execution_count": 48,
   "metadata": {},
   "outputs": [
    {
     "data": {
      "image/png": "[encoded data removed]",
      "text/plain": [
       "<Figure size 432x288 with 1 Axes>"
      ]
     },
     "metadata": {
      "needs_background": "light"
     },
     "output_type": "display_data"
    }
   ],
   "source": [
    "#строим график\n",
    "plt.plot(merge_cum_conversion['date'], \n",
    "         (merge_cum_conversion['conversionB'] / merge_cum_conversion['conversionA']) -1)\n",
    "plt.title('График относительного изменения кумулятивного среднего количества заказов на посетителя группы B к группе A')\n",
    "plt.xlabel('Дата')\n",
    "plt.xticks(rotation=90)\n",
    "plt.ylabel('Среднее количество заказов')\n",
    "plt.axhline(y=0, color='black', linestyle='--')\n",
    "plt.show()"
   ]
  },
  {
   "cell_type": "markdown",
   "metadata": {},
   "source": [
    "С самого начала группа В отставала относительно группы А, но происходил хороший рост. Затем на 2-й день теста конверсия стремительно упала, но в течении 3-х дней после снова стремительно начала расти, по отношению к группе А. К окончанию исследования конверсия группы В ещё не установилась , поэтому делать выводы пока рано"
   ]
  },
  {
   "cell_type": "markdown",
   "metadata": {},
   "source": [
    "### Точечный график количества заказов по пользователям"
   ]
  },
  {
   "cell_type": "code",
   "execution_count": 49,
   "metadata": {},
   "outputs": [],
   "source": [
    "#создаём датафрейм с нужными данными\n",
    "orders_users= data_orders.groupby('visitor_id', as_index=False).agg({'transaction_id': 'nunique'})"
   ]
  },
  {
   "cell_type": "code",
   "execution_count": 50,
   "metadata": {},
   "outputs": [
    {
     "data": {
      "image/png": "[encoded data removed]",
      "text/plain": [
       "<Figure size 432x288 with 1 Axes>"
      ]
     },
     "metadata": {
      "needs_background": "light"
     },
     "output_type": "display_data"
    }
   ],
   "source": [
    "#строим график\n",
    "x_values = pd.Series(range(0, len(orders_users)))\n",
    "plt.scatter(x_values, orders_users['transaction_id'])\n",
    "plt.title('Точечный график количества заказов по пользователям')\n",
    "plt.xlabel('Порядковый номер пользователя')\n",
    "plt.ylabel('Количество заказов')\n",
    "plt.show()"
   ]
  },
  {
   "cell_type": "markdown",
   "metadata": {},
   "source": [
    "Исходя из представленных данных, в основном каждый пользователь совершает 1 покупку. Количество заказов от одного пользователя больше 2-х раз - крайне редкое явление. Есть пользователи, которые оформляли более 10 заказов. Такие значения похожи на выбросы. Посмотрим, какое количество заказов делают большее количество пользователей, рассчитав процентиль"
   ]
  },
  {
   "cell_type": "markdown",
   "metadata": {},
   "source": [
    "### Расчет 95-й и 99-й перцентиля количества заказов на пользователя"
   ]
  },
  {
   "cell_type": "code",
   "execution_count": 51,
   "metadata": {},
   "outputs": [
    {
     "data": {
      "text/plain": [
       "array([2., 4.])"
      ]
     },
     "execution_count": 51,
     "metadata": {},
     "output_type": "execute_result"
    }
   ],
   "source": [
    "#рассчитываем перцентиль\n",
    "np.percentile(orders_users['transaction_id'], [95,99])"
   ]
  },
  {
   "cell_type": "markdown",
   "metadata": {},
   "source": [
    "В основном, пользователи делали 1 заказ. 5% пользователей совершали заказ дважды, и только 1% делали заказ больше 4 раз.\n",
    "Для дальнейшего анализа границей определения аномальных пользователей возьмем тех, кто делал заказ больше 3-х раз включительно"
   ]
  },
  {
   "cell_type": "markdown",
   "metadata": {},
   "source": [
    "### Точечный график стоимостей заказов"
   ]
  },
  {
   "cell_type": "code",
   "execution_count": 52,
   "metadata": {},
   "outputs": [
    {
     "data": {
      "text/html": [
       "<div>\n",
       "<style scoped>\n",
       "    .dataframe tbody tr th:only-of-type {\n",
       "        vertical-align: middle;\n",
       "    }\n",
       "\n",
       "    .dataframe tbody tr th {\n",
       "        vertical-align: top;\n",
       "    }\n",
       "\n",
       "    .dataframe thead th {\n",
       "        text-align: right;\n",
       "    }\n",
       "</style>\n",
       "<table border=\"1\" class=\"dataframe\">\n",
       "  <thead>\n",
       "    <tr style=\"text-align: right;\">\n",
       "      <th></th>\n",
       "      <th>transaction_id</th>\n",
       "      <th>visitor_id</th>\n",
       "      <th>date</th>\n",
       "      <th>revenue</th>\n",
       "      <th>group</th>\n",
       "    </tr>\n",
       "  </thead>\n",
       "  <tbody>\n",
       "    <tr>\n",
       "      <th>425</th>\n",
       "      <td>590470918</td>\n",
       "      <td>1920142716</td>\n",
       "      <td>2019-08-19</td>\n",
       "      <td>1294500</td>\n",
       "      <td>B</td>\n",
       "    </tr>\n",
       "    <tr>\n",
       "      <th>1196</th>\n",
       "      <td>3936777065</td>\n",
       "      <td>2108080724</td>\n",
       "      <td>2019-08-15</td>\n",
       "      <td>202740</td>\n",
       "      <td>B</td>\n",
       "    </tr>\n",
       "    <tr>\n",
       "      <th>858</th>\n",
       "      <td>192721366</td>\n",
       "      <td>1316129916</td>\n",
       "      <td>2019-08-27</td>\n",
       "      <td>93940</td>\n",
       "      <td>A</td>\n",
       "    </tr>\n",
       "    <tr>\n",
       "      <th>1136</th>\n",
       "      <td>666610489</td>\n",
       "      <td>1307669133</td>\n",
       "      <td>2019-08-13</td>\n",
       "      <td>92550</td>\n",
       "      <td>A</td>\n",
       "    </tr>\n",
       "    <tr>\n",
       "      <th>744</th>\n",
       "      <td>3668308183</td>\n",
       "      <td>888512513</td>\n",
       "      <td>2019-08-27</td>\n",
       "      <td>86620</td>\n",
       "      <td>B</td>\n",
       "    </tr>\n",
       "    <tr>\n",
       "      <th>...</th>\n",
       "      <td>...</td>\n",
       "      <td>...</td>\n",
       "      <td>...</td>\n",
       "      <td>...</td>\n",
       "      <td>...</td>\n",
       "    </tr>\n",
       "    <tr>\n",
       "      <th>933</th>\n",
       "      <td>3760662696</td>\n",
       "      <td>3577713868</td>\n",
       "      <td>2019-08-27</td>\n",
       "      <td>60</td>\n",
       "      <td>B</td>\n",
       "    </tr>\n",
       "    <tr>\n",
       "      <th>459</th>\n",
       "      <td>863448794</td>\n",
       "      <td>2738601405</td>\n",
       "      <td>2019-08-19</td>\n",
       "      <td>50</td>\n",
       "      <td>B</td>\n",
       "    </tr>\n",
       "    <tr>\n",
       "      <th>756</th>\n",
       "      <td>125335873</td>\n",
       "      <td>3423937755</td>\n",
       "      <td>2019-08-30</td>\n",
       "      <td>50</td>\n",
       "      <td>B</td>\n",
       "    </tr>\n",
       "    <tr>\n",
       "      <th>584</th>\n",
       "      <td>1126146019</td>\n",
       "      <td>2705308997</td>\n",
       "      <td>2019-08-20</td>\n",
       "      <td>50</td>\n",
       "      <td>A</td>\n",
       "    </tr>\n",
       "    <tr>\n",
       "      <th>1091</th>\n",
       "      <td>750632879</td>\n",
       "      <td>4256040402</td>\n",
       "      <td>2019-08-12</td>\n",
       "      <td>50</td>\n",
       "      <td>A</td>\n",
       "    </tr>\n",
       "  </tbody>\n",
       "</table>\n",
       "<p>1197 rows × 5 columns</p>\n",
       "</div>"
      ],
      "text/plain": [
       "      transaction_id  visitor_id       date  revenue group\n",
       "425        590470918  1920142716 2019-08-19  1294500     B\n",
       "1196      3936777065  2108080724 2019-08-15   202740     B\n",
       "858        192721366  1316129916 2019-08-27    93940     A\n",
       "1136       666610489  1307669133 2019-08-13    92550     A\n",
       "744       3668308183   888512513 2019-08-27    86620     B\n",
       "...              ...         ...        ...      ...   ...\n",
       "933       3760662696  3577713868 2019-08-27       60     B\n",
       "459        863448794  2738601405 2019-08-19       50     B\n",
       "756        125335873  3423937755 2019-08-30       50     B\n",
       "584       1126146019  2705308997 2019-08-20       50     A\n",
       "1091       750632879  4256040402 2019-08-12       50     A\n",
       "\n",
       "[1197 rows x 5 columns]"
      ]
     },
     "execution_count": 52,
     "metadata": {},
     "output_type": "execute_result"
    }
   ],
   "source": [
    "#группируем заказы по стоимости\n",
    "revenue_orders = data_orders_new.sort_values(by='revenue', ascending=False)\n",
    "revenue_orders"
   ]
  },
  {
   "cell_type": "code",
   "execution_count": 53,
   "metadata": {},
   "outputs": [
    {
     "data": {
      "image/png": "[encoded data removed]",
      "text/plain": [
       "<Figure size 432x288 with 1 Axes>"
      ]
     },
     "metadata": {
      "needs_background": "light"
     },
     "output_type": "display_data"
    }
   ],
   "source": [
    "#строим график\n",
    "x_values = pd.Series(range(0, len(data_orders_new['revenue'])))\n",
    "plt.scatter(x_values, data_orders_new['revenue'])\n",
    "plt.title('Точечный график стоимостей заказов')\n",
    "plt.xlabel('Порядковый номер заказа')\n",
    "plt.ylabel('Стоимость заказа')\n",
    "plt.show()"
   ]
  },
  {
   "cell_type": "markdown",
   "metadata": {},
   "source": [
    "Получаем довольно интересные данные. У нас есть заказ, стоимостью больше 1,2 миллиона, заказ на 202 тысячи. Однако остальные заказы примерно одинаковых сумм и стоимостью ниже 100 тысяч. Составим еще один график, убрав выбросы больших значений"
   ]
  },
  {
   "cell_type": "code",
   "execution_count": 54,
   "metadata": {},
   "outputs": [
    {
     "data": {
      "image/png": "[encoded data removed]",
      "text/plain": [
       "<Figure size 432x288 with 1 Axes>"
      ]
     },
     "metadata": {
      "needs_background": "light"
     },
     "output_type": "display_data"
    }
   ],
   "source": [
    "#строим график\n",
    "x_values = pd.Series(range(0, len(data_orders_new['revenue'])))\n",
    "plt.scatter(x_values, data_orders_new['revenue'])\n",
    "plt.title('Точечный график стоимостей заказов')\n",
    "plt.xlabel('Порядковый номер заказа')\n",
    "plt.ylabel('Стоимость заказа')\n",
    "plt.ylim(0, 250000)\n",
    "plt.show()"
   ]
  },
  {
   "cell_type": "markdown",
   "metadata": {},
   "source": [
    "Как видно на графике, большая часть заказов не превышает сумму 50 тысяч, а основная часть находится примерно до 25 тысяч. Рассчитаем перцентиль"
   ]
  },
  {
   "cell_type": "markdown",
   "metadata": {},
   "source": [
    "### Расчет 95-й и 99-й перцентиля стоимости заказов"
   ]
  },
  {
   "cell_type": "code",
   "execution_count": 55,
   "metadata": {},
   "outputs": [
    {
     "data": {
      "text/plain": [
       "array([28000. , 58233.2])"
      ]
     },
     "execution_count": 55,
     "metadata": {},
     "output_type": "execute_result"
    }
   ],
   "source": [
    "np.percentile(revenue_orders['revenue'], [95, 99])"
   ]
  },
  {
   "cell_type": "markdown",
   "metadata": {},
   "source": [
    "Только 5% заказов превосходят сумму 28000, а 1% заказов на сумму более 54 тысяч. Для дальнейшего анализа мы примем за аномальные заказы те, сумма которых больше 28 тысяч"
   ]
  },
  {
   "cell_type": "markdown",
   "metadata": {},
   "source": [
    "### Расчет статистической значимости различий в среднем количестве заказов на посетителя между группами по «сырым» данным"
   ]
  },
  {
   "cell_type": "markdown",
   "metadata": {},
   "source": [
    "Сначала сфомулируем гипотезы.\n",
    "- Нулевая гипотеза: различий в среднем количестве заказов между группами нет\n",
    "- Альтернативная гипотеза: различия в среднем между группами есть"
   ]
  },
  {
   "cell_type": "markdown",
   "metadata": {},
   "source": [
    "Подготовим данные для расчетов"
   ]
  },
  {
   "cell_type": "code",
   "execution_count": 56,
   "metadata": {},
   "outputs": [],
   "source": [
    "#определим ежедневное количество пользователей каждый день из группы А\n",
    "visitors_a_day = data_visitors[data_visitors['group'] == 'A'][['date', 'visitors']]\n",
    "visitors_a_day.columns = ['date', 'visitors_A_day']"
   ]
  },
  {
   "cell_type": "code",
   "execution_count": 57,
   "metadata": {},
   "outputs": [],
   "source": [
    "#определим ежедневное количество пользователей каждый день из группы В\n",
    "visitors_b_day = data_visitors[data_visitors['group'] == 'B'][['date', 'visitors']]\n",
    "visitors_b_day.columns = ['date', 'visitors_B_day']"
   ]
  },
  {
   "cell_type": "code",
   "execution_count": 58,
   "metadata": {},
   "outputs": [],
   "source": [
    "#определим количество посетителей с накоплением по дням для группы А\n",
    "visitors_a_cumm = visitors_a_day.apply(\n",
    "    lambda x: visitors_a_day[visitors_a_day['date'] <= x['date']].agg(\n",
    "        {'date': 'max', 'visitors_A_day': 'sum'}\n",
    "    ),\n",
    "    axis=1,\n",
    ")\n",
    "visitors_a_cumm.columns = ['date', 'visitors_A_cumm']"
   ]
  },
  {
   "cell_type": "code",
   "execution_count": 59,
   "metadata": {},
   "outputs": [],
   "source": [
    "#определим количество посетителей с накоплением по дням для группы В\n",
    "visitors_b_cumm = visitors_b_day.apply(\n",
    "    lambda x: visitors_b_day[visitors_b_day['date'] <= x['date']].agg(\n",
    "        {'date': 'max', 'visitors_B_day': 'sum'}\n",
    "    ),\n",
    "    axis=1,\n",
    ")\n",
    "visitors_b_cumm.columns = ['date', 'visitors_B_cumm']"
   ]
  },
  {
   "cell_type": "code",
   "execution_count": 60,
   "metadata": {},
   "outputs": [],
   "source": [
    "#посчитаем количество заказов и выручку ежедневно для группы А\n",
    "orders_a_day = (\n",
    "    data_orders_new[data_orders_new['group'] == 'A'][['date', 'transaction_id', 'visitor_id', 'revenue']]\n",
    "    .groupby('date', as_index=False)\n",
    "    .agg({'transaction_id': pd.Series.nunique, 'revenue': 'sum'})\n",
    ")\n",
    "orders_a_day.columns = ['date', 'orders_A_day', 'revenue_A_day']"
   ]
  },
  {
   "cell_type": "code",
   "execution_count": 61,
   "metadata": {},
   "outputs": [],
   "source": [
    "#посчитаем количество заказов и выручку ежедневно для группы В\n",
    "orders_b_day = (\n",
    "    data_orders_new[data_orders_new['group'] == 'A'][['date', 'transaction_id', 'visitor_id', 'revenue']]\n",
    "    .groupby('date', as_index=False)\n",
    "    .agg({'transaction_id': pd.Series.nunique, 'revenue': 'sum'})\n",
    ")\n",
    "orders_b_day.columns = ['date', 'orders_B_day', 'revenue_B_day']"
   ]
  },
  {
   "cell_type": "code",
   "execution_count": 62,
   "metadata": {},
   "outputs": [],
   "source": [
    "#рассчитаем количество заказов и выручку с накоплением для группы А\n",
    "orders_a_cumm = orders_a_day.apply(\n",
    "    lambda x: orders_a_day[orders_a_day['date'] <= x['date']].agg(\n",
    "        {'date': 'max', 'orders_A_day': 'sum', 'revenue_A_day': 'sum'}\n",
    "    ),\n",
    "    axis=1,\n",
    ").sort_values(by=['date'])\n",
    "orders_a_cumm.columns = ['date', 'orders_A_cumm', 'revenue_A_cumm']"
   ]
  },
  {
   "cell_type": "code",
   "execution_count": 63,
   "metadata": {},
   "outputs": [],
   "source": [
    "#рассчитаем количество заказов и выручку с накоплением для группы B\n",
    "orders_b_cumm = orders_b_day.apply(\n",
    "    lambda x: orders_b_day[orders_b_day['date'] <= x['date']].agg(\n",
    "        {'date': 'max', 'orders_B_day': 'sum', 'revenue_B_day': 'sum'}\n",
    "    ),\n",
    "    axis=1,\n",
    ").sort_values(by=['date'])\n",
    "orders_b_cumm.columns = ['date', 'orders_B_cumm', 'revenue_B_cumm']"
   ]
  },
  {
   "cell_type": "code",
   "execution_count": 64,
   "metadata": {},
   "outputs": [
    {
     "data": {
      "text/html": [
       "<div>\n",
       "<style scoped>\n",
       "    .dataframe tbody tr th:only-of-type {\n",
       "        vertical-align: middle;\n",
       "    }\n",
       "\n",
       "    .dataframe tbody tr th {\n",
       "        vertical-align: top;\n",
       "    }\n",
       "\n",
       "    .dataframe thead th {\n",
       "        text-align: right;\n",
       "    }\n",
       "</style>\n",
       "<table border=\"1\" class=\"dataframe\">\n",
       "  <thead>\n",
       "    <tr style=\"text-align: right;\">\n",
       "      <th></th>\n",
       "      <th>date</th>\n",
       "      <th>orders_A_day</th>\n",
       "      <th>revenue_A_day</th>\n",
       "      <th>orders_B_day</th>\n",
       "      <th>revenue_B_day</th>\n",
       "      <th>orders_A_cumm</th>\n",
       "      <th>revenue_A_cumm</th>\n",
       "      <th>orders_B_cumm</th>\n",
       "      <th>revenue_B_cumm</th>\n",
       "      <th>visitors_A_day</th>\n",
       "      <th>visitors_B_day</th>\n",
       "      <th>visitors_A_cumm</th>\n",
       "      <th>visitors_B_cumm</th>\n",
       "    </tr>\n",
       "  </thead>\n",
       "  <tbody>\n",
       "    <tr>\n",
       "      <th>0</th>\n",
       "      <td>2019-08-01</td>\n",
       "      <td>24</td>\n",
       "      <td>148579</td>\n",
       "      <td>24</td>\n",
       "      <td>148579</td>\n",
       "      <td>24</td>\n",
       "      <td>148579</td>\n",
       "      <td>24</td>\n",
       "      <td>148579</td>\n",
       "      <td>719</td>\n",
       "      <td>713</td>\n",
       "      <td>719</td>\n",
       "      <td>713</td>\n",
       "    </tr>\n",
       "    <tr>\n",
       "      <th>1</th>\n",
       "      <td>2019-08-02</td>\n",
       "      <td>20</td>\n",
       "      <td>93822</td>\n",
       "      <td>20</td>\n",
       "      <td>93822</td>\n",
       "      <td>44</td>\n",
       "      <td>242401</td>\n",
       "      <td>44</td>\n",
       "      <td>242401</td>\n",
       "      <td>619</td>\n",
       "      <td>581</td>\n",
       "      <td>1338</td>\n",
       "      <td>1294</td>\n",
       "    </tr>\n",
       "    <tr>\n",
       "      <th>2</th>\n",
       "      <td>2019-08-03</td>\n",
       "      <td>24</td>\n",
       "      <td>112473</td>\n",
       "      <td>24</td>\n",
       "      <td>112473</td>\n",
       "      <td>68</td>\n",
       "      <td>354874</td>\n",
       "      <td>68</td>\n",
       "      <td>354874</td>\n",
       "      <td>507</td>\n",
       "      <td>509</td>\n",
       "      <td>1845</td>\n",
       "      <td>1803</td>\n",
       "    </tr>\n",
       "    <tr>\n",
       "      <th>3</th>\n",
       "      <td>2019-08-04</td>\n",
       "      <td>16</td>\n",
       "      <td>70825</td>\n",
       "      <td>16</td>\n",
       "      <td>70825</td>\n",
       "      <td>84</td>\n",
       "      <td>425699</td>\n",
       "      <td>84</td>\n",
       "      <td>425699</td>\n",
       "      <td>717</td>\n",
       "      <td>770</td>\n",
       "      <td>2562</td>\n",
       "      <td>2573</td>\n",
       "    </tr>\n",
       "    <tr>\n",
       "      <th>4</th>\n",
       "      <td>2019-08-05</td>\n",
       "      <td>25</td>\n",
       "      <td>124218</td>\n",
       "      <td>25</td>\n",
       "      <td>124218</td>\n",
       "      <td>109</td>\n",
       "      <td>549917</td>\n",
       "      <td>109</td>\n",
       "      <td>549917</td>\n",
       "      <td>756</td>\n",
       "      <td>707</td>\n",
       "      <td>3318</td>\n",
       "      <td>3280</td>\n",
       "    </tr>\n",
       "  </tbody>\n",
       "</table>\n",
       "</div>"
      ],
      "text/plain": [
       "        date  orders_A_day  revenue_A_day  orders_B_day  revenue_B_day  \\\n",
       "0 2019-08-01            24         148579            24         148579   \n",
       "1 2019-08-02            20          93822            20          93822   \n",
       "2 2019-08-03            24         112473            24         112473   \n",
       "3 2019-08-04            16          70825            16          70825   \n",
       "4 2019-08-05            25         124218            25         124218   \n",
       "\n",
       "   orders_A_cumm  revenue_A_cumm  orders_B_cumm  revenue_B_cumm  \\\n",
       "0             24          148579             24          148579   \n",
       "1             44          242401             44          242401   \n",
       "2             68          354874             68          354874   \n",
       "3             84          425699             84          425699   \n",
       "4            109          549917            109          549917   \n",
       "\n",
       "   visitors_A_day  visitors_B_day  visitors_A_cumm  visitors_B_cumm  \n",
       "0             719             713              719              713  \n",
       "1             619             581             1338             1294  \n",
       "2             507             509             1845             1803  \n",
       "3             717             770             2562             2573  \n",
       "4             756             707             3318             3280  "
      ]
     },
     "execution_count": 64,
     "metadata": {},
     "output_type": "execute_result"
    }
   ],
   "source": [
    "#объеденим все созданные таблицы по столбцу date\n",
    "new_data= (\n",
    "    orders_a_day.merge(\n",
    "        orders_b_day, on='date', how='left'\n",
    "    )\n",
    "    .merge(orders_a_cumm, on='date',  how='left')\n",
    "    .merge(orders_b_cumm, on='date', how='left')\n",
    "    .merge(visitors_a_day, on='date', how='left')\n",
    "    .merge(visitors_b_day, on='date', how='left')\n",
    "    .merge(visitors_a_cumm, on='date', how='left')\n",
    "    .merge(visitors_b_cumm, on='date', how='left')\n",
    ")\n",
    "#проверим изменения\n",
    "new_data.head()"
   ]
  },
  {
   "cell_type": "code",
   "execution_count": 65,
   "metadata": {},
   "outputs": [],
   "source": [
    "#создадим датафрейм с подсчетом количества заказов каждого пользователя группы А\n",
    "orders_a_users = (\n",
    "    data_orders_new[data_orders_new['group'] == 'A']\n",
    "    .groupby('visitor_id', as_index=False)\n",
    "    .agg({'transaction_id': pd.Series.nunique})\n",
    ")\n",
    "orders_a_users.columns = ['user_id', 'orders']"
   ]
  },
  {
   "cell_type": "code",
   "execution_count": 66,
   "metadata": {},
   "outputs": [],
   "source": [
    "#создадим датафрейм с подсчетом количества заказов каждого пользователя группы B\n",
    "orders_b_users = (\n",
    "    data_orders_new[data_orders_new['group'] == 'B']\n",
    "    .groupby('visitor_id', as_index=False)\n",
    "    .agg({'transaction_id': pd.Series.nunique})\n",
    ")\n",
    "orders_b_users.columns = ['user_id', 'orders']"
   ]
  },
  {
   "cell_type": "code",
   "execution_count": 67,
   "metadata": {},
   "outputs": [],
   "source": [
    "#заполним значения покупок пользователей, которые их не совершали - нулями для группы А\n",
    "sample_a = pd.concat([orders_a_users['orders'],\n",
    "                     pd.Series(0, index=np.arange(new_data['visitors_A_day'].sum() - len(orders_a_users['orders'])),\n",
    "                               name='orders')],axis=0)"
   ]
  },
  {
   "cell_type": "code",
   "execution_count": 68,
   "metadata": {},
   "outputs": [],
   "source": [
    "#заполним значения покупок пользователей, которые их не совершали - нулями для группы В\n",
    "sample_b = pd.concat([orders_b_users['orders'],\n",
    "                     pd.Series(0, index=np.arange(new_data['visitors_B_day'].sum() - len(orders_b_users['orders'])),\n",
    "                               name='orders')],axis=0)"
   ]
  },
  {
   "cell_type": "markdown",
   "metadata": {},
   "source": [
    "Для расчета статистической значимости будем использовать непараметрический тест Уилкоксона-Манна-Уитни. Так как он используется, когда в данных находятся выбросы, которые могут изменять результат теста. В наших \"сырых\" данных как раз такие имеются"
   ]
  },
  {
   "cell_type": "code",
   "execution_count": 69,
   "metadata": {},
   "outputs": [
    {
     "data": {
      "text/plain": [
       "'0.017'"
      ]
     },
     "execution_count": 69,
     "metadata": {},
     "output_type": "execute_result"
    }
   ],
   "source": [
    "#рассчитаем p-value для сравнения среднего между группами\n",
    "\"{0:.3f}\".format(stats.mannwhitneyu(sample_a, sample_b)[1])"
   ]
  },
  {
   "cell_type": "code",
   "execution_count": 70,
   "metadata": {},
   "outputs": [
    {
     "data": {
      "text/plain": [
       "'0.138'"
      ]
     },
     "execution_count": 70,
     "metadata": {},
     "output_type": "execute_result"
    }
   ],
   "source": [
    "#рассчитаем относительное различие в среднем между группами\n",
    "\"{0:.3f}\".format(sample_b.mean() / sample_a.mean() - 1)"
   ]
  },
  {
   "cell_type": "markdown",
   "metadata": {},
   "source": [
    "Рассчитаное p-value(0,017) значительно меньше 0,05 - поэтому нулевую гипотезу (Но-различий в среднем количестве заказов между группами нет) можно отвергнуть. Получается, что различия в среднем между группами есть.\n",
    "Относительный прирост среднего числа заказов группы В превосходит аналогичное значение для группы А на 13,8%. Что показывает, что количество заказов у группы В больше"
   ]
  },
  {
   "cell_type": "markdown",
   "metadata": {},
   "source": [
    "### Расчет статистической значимости различий  в среднем чеке заказа между группами по «сырым» данным"
   ]
  },
  {
   "cell_type": "markdown",
   "metadata": {},
   "source": [
    "Установим гипотезы:\n",
    "- Нулевая гипотеза: различий в среднем чеке между группами нет\n",
    "- Альтернативная гипотеза: различия в среднем между группами есть"
   ]
  },
  {
   "cell_type": "code",
   "execution_count": 71,
   "metadata": {},
   "outputs": [
    {
     "data": {
      "text/plain": [
       "'0.729'"
      ]
     },
     "execution_count": 71,
     "metadata": {},
     "output_type": "execute_result"
    }
   ],
   "source": [
    "#рассчитаем p-value для сравнения среднего чека между группами\n",
    "'{0:.3f}'.format(stats.mannwhitneyu(data_orders_new[data_orders_new['group']=='A']['revenue'],\n",
    "                                    data_orders_new[data_orders_new['group']=='B']['revenue'])[1])"
   ]
  },
  {
   "cell_type": "code",
   "execution_count": 72,
   "metadata": {},
   "outputs": [
    {
     "data": {
      "text/plain": [
       "'0.259'"
      ]
     },
     "execution_count": 72,
     "metadata": {},
     "output_type": "execute_result"
    }
   ],
   "source": [
    "#рассчитаем относительное различие в среднем чеке между группами\n",
    "'{0:.3f}'.format(data_orders_new[data_orders_new['group']=='B']['revenue'].mean()/\n",
    "                 data_orders_new[data_orders_new['group']=='A']['revenue'].mean()-1)"
   ]
  },
  {
   "cell_type": "markdown",
   "metadata": {},
   "source": [
    "Рассчитаный p-value(0,729) гораздо больше 0,05, что говорит нам о том, что отвергать нулевую гипотезу (Но-различий в среднем чеке между группами нет) мы не можем. Тем не менее, средний чек группы В на 25,9% больше среднего чека группы А.\n",
    "\n",
    "Посмотрим на статистическую значимость, убрав выбросы из данных"
   ]
  },
  {
   "cell_type": "markdown",
   "metadata": {},
   "source": [
    "### Расчет статистической значимости различий в среднем количестве заказов на посетителя между группами по «очищенным» данным"
   ]
  },
  {
   "cell_type": "markdown",
   "metadata": {},
   "source": [
    "Как уже было указано выше, примем за аномальных пользователей тех, кто делал заказ больше 3-х раз включительно или совершил заказ на сумму более 28 тысяч\n",
    "\n",
    "Сфомулируем гипотезы.\n",
    "\n",
    "- Нулевая гипотеза: различий в среднем количестве заказов между группами нет\n",
    "- Альтернативная гипотеза: различия в среднем между группами есть"
   ]
  },
  {
   "cell_type": "code",
   "execution_count": 73,
   "metadata": {},
   "outputs": [],
   "source": [
    "#добавим коду автоматизированности, добавляя в расчеты значения выбранного перцентиля\n",
    "percentile = 0.95\n",
    "orders_a_threshold = orders_a_users['orders'].quantile(percentile)\n",
    "orders_b_threshold = orders_b_users['orders'].quantile(percentile)"
   ]
  },
  {
   "cell_type": "code",
   "execution_count": 74,
   "metadata": {},
   "outputs": [],
   "source": [
    "#посчитаем количество аномальных пользователей с числом заказа более трех включительно\n",
    "users_many_orders = pd.concat(\n",
    "    [\n",
    "        orders_a_users[orders_a_users['orders'] > orders_a_threshold]['user_id'],\n",
    "        orders_b_users[orders_b_users['orders'] > orders_b_threshold]['user_id'],\n",
    "    ],\n",
    "    axis=0,\n",
    ")"
   ]
  },
  {
   "cell_type": "code",
   "execution_count": 75,
   "metadata": {},
   "outputs": [],
   "source": [
    "#аналогично поступим и с определением стоимости заказов\n",
    "percentile = 0.95\n",
    "expensive_orders = data_orders_new['revenue'].quantile(percentile)"
   ]
  },
  {
   "cell_type": "code",
   "execution_count": 76,
   "metadata": {},
   "outputs": [],
   "source": [
    "#определим количество аномальных пользователей с суммой оплаты заказа более 30 тысяч\n",
    "users_expensive_orders = data_orders_new[data_orders_new['revenue'] > expensive_orders]['visitor_id']"
   ]
  },
  {
   "cell_type": "code",
   "execution_count": 77,
   "metadata": {},
   "outputs": [
    {
     "data": {
      "text/plain": [
       "74"
      ]
     },
     "execution_count": 77,
     "metadata": {},
     "output_type": "execute_result"
    }
   ],
   "source": [
    "#объеденим предыдущие 2 таблицы и определим, сколько у нас пользователей в числе аномальных\n",
    "not_normal_users = (\n",
    "    pd.concat([users_many_orders, users_expensive_orders], axis=0)\n",
    "    .drop_duplicates()\n",
    "    .sort_values()\n",
    ")\n",
    "not_normal_users.shape[0]"
   ]
  },
  {
   "cell_type": "markdown",
   "metadata": {},
   "source": [
    "Получается, что из всех пользователей - 74 юзеров являются аномальными (с большим количеством заказов или дорогостоящими заказами). Исключим их и снова посчитаем ститистическую значимость"
   ]
  },
  {
   "cell_type": "code",
   "execution_count": 78,
   "metadata": {},
   "outputs": [],
   "source": [
    "#устраним аномальных пользователей из группы А\n",
    "sample_a_filtered = pd.concat(\n",
    "    [\n",
    "        orders_a_users[\n",
    "            np.logical_not(orders_a_users['user_id'].isin(not_normal_users))\n",
    "        ]['orders'],\n",
    "        pd.Series(\n",
    "            0,\n",
    "            index=np.arange(\n",
    "                new_data['visitors_A_day'].sum() - len(orders_a_users['orders'])\n",
    "            ),\n",
    "            name='orders',\n",
    "        ),\n",
    "    ],\n",
    "    axis=0)"
   ]
  },
  {
   "cell_type": "code",
   "execution_count": 79,
   "metadata": {},
   "outputs": [],
   "source": [
    "#устраним аномальных пользователей из группы В\n",
    "sample_b_filtered = pd.concat(\n",
    "    [\n",
    "        orders_b_users[\n",
    "            np.logical_not(orders_b_users['user_id'].isin(not_normal_users))\n",
    "        ]['orders'],\n",
    "        pd.Series(\n",
    "            0,\n",
    "            index=np.arange(\n",
    "                new_data['visitors_B_day'].sum() - len(orders_b_users['orders'])\n",
    "            ),\n",
    "            name='orders',\n",
    "        ),\n",
    "    ],\n",
    "    axis=0)"
   ]
  },
  {
   "cell_type": "code",
   "execution_count": 80,
   "metadata": {},
   "outputs": [
    {
     "data": {
      "text/plain": [
       "'0.013'"
      ]
     },
     "execution_count": 80,
     "metadata": {},
     "output_type": "execute_result"
    }
   ],
   "source": [
    "#рассчитаем p-value для сравнения среднего между отфильтрованными группами\n",
    "'{0:.3f}'.format(stats.mannwhitneyu(sample_a_filtered, sample_b_filtered)[1])"
   ]
  },
  {
   "cell_type": "code",
   "execution_count": 81,
   "metadata": {},
   "outputs": [
    {
     "data": {
      "text/plain": [
       "'0.173'"
      ]
     },
     "execution_count": 81,
     "metadata": {},
     "output_type": "execute_result"
    }
   ],
   "source": [
    "#рассчитаем относительное различие в среднем между отфильтрованными группами\n",
    "'{0:.3f}'.format(sample_b_filtered.mean()/sample_a_filtered.mean()-1)"
   ]
  },
  {
   "cell_type": "markdown",
   "metadata": {},
   "source": [
    "По сравнению с \"сырыми данными\" кардинально ничего не изменилось - p-value(0.013 - а в \"сырых\" данных значение составило 0,017) меньше 0,05. Относительный прирост среднего числа заказов группы В составляет 17,3%( в \"сырых\" данных показатель составил 13,8%)\n",
    "Нулевую гипотезу мы отвергаем - различия в среднем между группами есть"
   ]
  },
  {
   "cell_type": "markdown",
   "metadata": {},
   "source": [
    "### Расчет статистической значимости различий в среднем чеке заказа между группами по «очищенным» данным"
   ]
  },
  {
   "cell_type": "markdown",
   "metadata": {},
   "source": [
    "Установим гипотезы:\n",
    "\n",
    "- Нулевая гипотеза: различий в среднем чеке между группами нет\n",
    "- Альтернативная гипотеза: различия в среднем между группами есть"
   ]
  },
  {
   "cell_type": "code",
   "execution_count": 82,
   "metadata": {},
   "outputs": [
    {
     "data": {
      "text/plain": [
       "'0.738'"
      ]
     },
     "execution_count": 82,
     "metadata": {},
     "output_type": "execute_result"
    }
   ],
   "source": [
    "#рассчитаем p-value для сравнения среднего чека между группами по «очищенным» данным\n",
    "'{0:.3f}'.format(\n",
    "        stats.mannwhitneyu(\n",
    "            data_orders_new[\n",
    "                np.logical_and(\n",
    "                    data_orders_new['group'] == 'A',\n",
    "                    np.logical_not(data_orders_new['visitor_id'].isin(not_normal_users)),\n",
    "                )\n",
    "            ]['revenue'],\n",
    "            data_orders_new[\n",
    "                np.logical_and(\n",
    "                    data_orders_new['group'] == 'B',\n",
    "                    np.logical_not(data_orders_new['visitor_id'].isin(not_normal_users)),\n",
    "                )\n",
    "            ]['revenue'],\n",
    "        )[1]\n",
    "    )"
   ]
  },
  {
   "cell_type": "code",
   "execution_count": 83,
   "metadata": {},
   "outputs": [
    {
     "data": {
      "text/plain": [
       "'-0.020'"
      ]
     },
     "execution_count": 83,
     "metadata": {},
     "output_type": "execute_result"
    }
   ],
   "source": [
    "##рассчитаем относительное различие в среднем чеке между группами по «очищенным» данным\n",
    "\"{0:.3f}\".format(\n",
    "        data_orders_new[\n",
    "            np.logical_and(\n",
    "                data_orders_new['group'] == 'B',\n",
    "                np.logical_not(data_orders_new['visitor_id'].isin(not_normal_users)),\n",
    "            )\n",
    "        ]['revenue'].mean()\n",
    "        / data_orders_new[\n",
    "            np.logical_and(\n",
    "                data_orders_new['group'] == 'A',\n",
    "                np.logical_not(data_orders_new['visitor_id'].isin(not_normal_users)),\n",
    "            )\n",
    "        ]['revenue'].mean()\n",
    "        - 1\n",
    "    )"
   ]
  },
  {
   "cell_type": "markdown",
   "metadata": {},
   "source": [
    "По отфильтрованным данным значение p-value(0,739) осталось аналогичным как и по \"сырым\" данным (p-value = 0,729). Соответственно, мы не можем отвергнуть нулевую гипотезу - различий в среднем чеке между группами нет.\n",
    "Изменилось относительное различие в среднем чеке - по отфильтрованным данным у группы В средний чек ниже среднего чека группы А на -2%. "
   ]
  },
  {
   "cell_type": "markdown",
   "metadata": {},
   "source": [
    "## Результаты А/В-теста"
   ]
  },
  {
   "cell_type": "markdown",
   "metadata": {},
   "source": [
    "Подытожим результаты:\n",
    "\n",
    "- P-value для сравнения среднего между группами (\"сырые\" данные) - 0,017\n",
    "- относительное различие в среднем между группами (\"сырые\" данные) - 0,138\n",
    "\n",
    "- P-value для сравнения среднего между группами (отфильтрованные данные) - 0,013\n",
    "- относительное различие в среднем между группами (отфильтрованные данные) - 0,173\n",
    "\n",
    "- P-value для сравнения среднего чека между группами (\"сырые\" данные) - 0,729\n",
    "- относительное различие в среднем чеке между группами (\"сырые\" данные) - 0,259\n",
    "\n",
    "- P-value для сравнения среднего чека между группами (отфильтрованные данные) - 0,738\n",
    "- относительное различие в среднем чеке между группами (отфильтрованные данные) - -0,020"
   ]
  },
  {
   "cell_type": "markdown",
   "metadata": {},
   "source": [
    "- По результатам теста выявлено - нет значимых различий в среднем чеке между группами. \n",
    "- Есть значительные различия в среднем между группами, скорее всего, это связано с тем, что группа В является тестовой, и использовала сайт нашего интернет-магазина с изменениями.\n",
    "- На протяжении теста пользователи из группы В имели большую конверсию в покупателей, по сравнению с группой А\n",
    "- Тест длился на протяжении 31 дня\n",
    "- Были обнаружены пользователи, которые находились в обоих группах одновременно, что является недопустимым для исследования, эти пользователи были удалены из дальнейшего теста"
   ]
  },
  {
   "cell_type": "markdown",
   "metadata": {},
   "source": [
    "Отделом аналитики рекомендуется остановить тест - фиксируя факт преимущества группы В"
   ]
  }
 ],
 "metadata": {
  "ExecuteTimeLog": [
   {
    "duration": 384,
    "start_time": "2023-06-16T08:44:03.466Z"
   },
   {
    "duration": 68,
    "start_time": "2023-06-16T08:44:36.208Z"
   },
   {
    "duration": 13,
    "start_time": "2023-06-16T08:44:39.494Z"
   },
   {
    "duration": 9,
    "start_time": "2023-06-16T08:51:56.179Z"
   },
   {
    "duration": 61,
    "start_time": "2023-06-16T08:53:17.742Z"
   },
   {
    "duration": 9,
    "start_time": "2023-06-16T08:53:35.939Z"
   },
   {
    "duration": 5,
    "start_time": "2023-06-16T08:53:47.068Z"
   },
   {
    "duration": 8,
    "start_time": "2023-06-16T08:54:16.272Z"
   },
   {
    "duration": 10,
    "start_time": "2023-06-16T08:55:33.783Z"
   },
   {
    "duration": 11,
    "start_time": "2023-06-16T08:56:38.803Z"
   },
   {
    "duration": 5,
    "start_time": "2023-06-16T08:58:16.658Z"
   },
   {
    "duration": 12,
    "start_time": "2023-06-16T08:58:47.936Z"
   },
   {
    "duration": 8,
    "start_time": "2023-06-16T09:01:12.291Z"
   },
   {
    "duration": 8,
    "start_time": "2023-06-16T09:04:53.938Z"
   },
   {
    "duration": 7,
    "start_time": "2023-06-16T09:04:59.004Z"
   },
   {
    "duration": 284,
    "start_time": "2023-06-16T09:06:08.700Z"
   },
   {
    "duration": 404,
    "start_time": "2023-06-16T09:06:27.453Z"
   },
   {
    "duration": 27,
    "start_time": "2023-06-16T09:06:28.544Z"
   },
   {
    "duration": 13,
    "start_time": "2023-06-16T09:06:29.848Z"
   },
   {
    "duration": 3,
    "start_time": "2023-06-16T09:06:31.036Z"
   },
   {
    "duration": 16,
    "start_time": "2023-06-16T09:06:31.994Z"
   },
   {
    "duration": 6,
    "start_time": "2023-06-16T09:07:22.255Z"
   },
   {
    "duration": 10,
    "start_time": "2023-06-16T09:07:24.312Z"
   },
   {
    "duration": 5,
    "start_time": "2023-06-16T09:12:18.745Z"
   },
   {
    "duration": 11,
    "start_time": "2023-06-16T09:13:05.479Z"
   },
   {
    "duration": 423,
    "start_time": "2023-06-16T09:25:08.655Z"
   },
   {
    "duration": 26,
    "start_time": "2023-06-16T09:25:09.877Z"
   },
   {
    "duration": 9,
    "start_time": "2023-06-16T09:25:10.644Z"
   },
   {
    "duration": 3,
    "start_time": "2023-06-16T09:25:11.492Z"
   },
   {
    "duration": 8,
    "start_time": "2023-06-16T09:25:11.911Z"
   },
   {
    "duration": 5,
    "start_time": "2023-06-16T09:25:14.010Z"
   },
   {
    "duration": 9,
    "start_time": "2023-06-16T09:25:14.434Z"
   },
   {
    "duration": 4,
    "start_time": "2023-06-16T09:25:17.049Z"
   },
   {
    "duration": 9,
    "start_time": "2023-06-16T09:25:17.494Z"
   },
   {
    "duration": 161,
    "start_time": "2023-06-16T09:26:50.552Z"
   },
   {
    "duration": 9,
    "start_time": "2023-06-16T09:27:06.121Z"
   },
   {
    "duration": 10,
    "start_time": "2023-06-16T09:27:20.394Z"
   },
   {
    "duration": 11,
    "start_time": "2023-06-16T09:27:39.006Z"
   },
   {
    "duration": 10,
    "start_time": "2023-06-16T09:27:48.576Z"
   },
   {
    "duration": 7,
    "start_time": "2023-06-16T09:27:55.509Z"
   },
   {
    "duration": 7,
    "start_time": "2023-06-16T09:27:59.712Z"
   },
   {
    "duration": 7,
    "start_time": "2023-06-16T09:29:42.604Z"
   },
   {
    "duration": 9,
    "start_time": "2023-06-16T09:29:52.143Z"
   },
   {
    "duration": 4,
    "start_time": "2023-06-16T09:30:06.528Z"
   },
   {
    "duration": 12,
    "start_time": "2023-06-16T09:30:10.092Z"
   },
   {
    "duration": 4,
    "start_time": "2023-06-16T09:31:03.913Z"
   },
   {
    "duration": 10,
    "start_time": "2023-06-16T09:31:06.346Z"
   },
   {
    "duration": 13,
    "start_time": "2023-06-16T09:31:11.256Z"
   },
   {
    "duration": 17,
    "start_time": "2023-06-16T09:31:19.974Z"
   },
   {
    "duration": 84,
    "start_time": "2023-06-16T09:49:10.068Z"
   },
   {
    "duration": 5,
    "start_time": "2023-06-16T09:49:22.167Z"
   },
   {
    "duration": 27,
    "start_time": "2023-06-16T09:50:22.641Z"
   },
   {
    "duration": 200,
    "start_time": "2023-06-16T09:51:16.437Z"
   },
   {
    "duration": 65,
    "start_time": "2023-06-16T09:52:23.829Z"
   },
   {
    "duration": 161,
    "start_time": "2023-06-16T09:52:29.996Z"
   },
   {
    "duration": 115,
    "start_time": "2023-06-16T09:53:42.468Z"
   },
   {
    "duration": 107,
    "start_time": "2023-06-16T09:54:08.060Z"
   },
   {
    "duration": 9,
    "start_time": "2023-06-16T09:54:52.349Z"
   },
   {
    "duration": 9,
    "start_time": "2023-06-16T09:55:07.742Z"
   },
   {
    "duration": 4,
    "start_time": "2023-06-16T09:58:54.881Z"
   },
   {
    "duration": 3,
    "start_time": "2023-06-16T09:58:55.769Z"
   },
   {
    "duration": 10,
    "start_time": "2023-06-16T09:58:56.909Z"
   },
   {
    "duration": 6,
    "start_time": "2023-06-16T09:59:21.432Z"
   },
   {
    "duration": 146,
    "start_time": "2023-06-16T09:59:21.983Z"
   },
   {
    "duration": 123,
    "start_time": "2023-06-16T09:59:23.040Z"
   },
   {
    "duration": 8,
    "start_time": "2023-06-16T09:59:23.843Z"
   },
   {
    "duration": 9,
    "start_time": "2023-06-16T09:59:24.516Z"
   },
   {
    "duration": 6,
    "start_time": "2023-06-16T10:02:04.672Z"
   },
   {
    "duration": 10,
    "start_time": "2023-06-16T10:08:38.918Z"
   },
   {
    "duration": 11,
    "start_time": "2023-06-16T10:22:07.709Z"
   },
   {
    "duration": 3,
    "start_time": "2023-06-16T10:22:14.356Z"
   },
   {
    "duration": 4,
    "start_time": "2023-06-16T10:22:15.661Z"
   },
   {
    "duration": 4,
    "start_time": "2023-06-16T10:22:17.161Z"
   },
   {
    "duration": 6,
    "start_time": "2023-06-16T10:22:48.853Z"
   },
   {
    "duration": 9,
    "start_time": "2023-06-16T10:22:49.746Z"
   },
   {
    "duration": 151,
    "start_time": "2023-06-16T10:26:08.125Z"
   },
   {
    "duration": 133,
    "start_time": "2023-06-16T10:26:18.238Z"
   },
   {
    "duration": 9,
    "start_time": "2023-06-16T10:26:30.081Z"
   },
   {
    "duration": 6,
    "start_time": "2023-06-16T10:26:35.650Z"
   },
   {
    "duration": 6,
    "start_time": "2023-06-16T10:26:49.950Z"
   },
   {
    "duration": 9,
    "start_time": "2023-06-16T10:26:50.635Z"
   },
   {
    "duration": 10,
    "start_time": "2023-06-16T10:27:19.114Z"
   },
   {
    "duration": 10,
    "start_time": "2023-06-16T10:27:41.413Z"
   },
   {
    "duration": 9,
    "start_time": "2023-06-16T10:28:30.024Z"
   },
   {
    "duration": 12,
    "start_time": "2023-06-16T10:29:09.829Z"
   },
   {
    "duration": 10,
    "start_time": "2023-06-16T10:29:23.238Z"
   },
   {
    "duration": 147,
    "start_time": "2023-06-16T10:36:32.518Z"
   },
   {
    "duration": 109,
    "start_time": "2023-06-16T10:36:36.222Z"
   },
   {
    "duration": 15,
    "start_time": "2023-06-16T10:36:37.814Z"
   },
   {
    "duration": 7,
    "start_time": "2023-06-16T10:38:22.101Z"
   },
   {
    "duration": 9,
    "start_time": "2023-06-16T10:38:22.943Z"
   },
   {
    "duration": 9,
    "start_time": "2023-06-16T10:39:38.840Z"
   },
   {
    "duration": 8,
    "start_time": "2023-06-16T10:39:40.428Z"
   },
   {
    "duration": 6,
    "start_time": "2023-06-16T10:39:42.644Z"
   },
   {
    "duration": 7,
    "start_time": "2023-06-16T10:39:51.118Z"
   },
   {
    "duration": 9,
    "start_time": "2023-06-16T10:39:52.086Z"
   },
   {
    "duration": 7,
    "start_time": "2023-06-16T10:39:53.302Z"
   },
   {
    "duration": 9,
    "start_time": "2023-06-16T10:40:01.348Z"
   },
   {
    "duration": 838,
    "start_time": "2023-06-16T10:40:36.458Z"
   },
   {
    "duration": 25,
    "start_time": "2023-06-16T10:40:37.298Z"
   },
   {
    "duration": 12,
    "start_time": "2023-06-16T10:40:37.621Z"
   },
   {
    "duration": 4,
    "start_time": "2023-06-16T10:40:38.306Z"
   },
   {
    "duration": 13,
    "start_time": "2023-06-16T10:40:38.713Z"
   },
   {
    "duration": 6,
    "start_time": "2023-06-16T10:40:40.173Z"
   },
   {
    "duration": 9,
    "start_time": "2023-06-16T10:40:40.601Z"
   },
   {
    "duration": 4,
    "start_time": "2023-06-16T10:40:42.063Z"
   },
   {
    "duration": 9,
    "start_time": "2023-06-16T10:40:42.467Z"
   },
   {
    "duration": 59,
    "start_time": "2023-06-16T10:40:45.705Z"
   },
   {
    "duration": 10,
    "start_time": "2023-06-16T10:40:46.128Z"
   },
   {
    "duration": 10,
    "start_time": "2023-06-16T10:40:46.809Z"
   },
   {
    "duration": 8,
    "start_time": "2023-06-16T10:40:47.611Z"
   },
   {
    "duration": 7,
    "start_time": "2023-06-16T10:40:48.450Z"
   },
   {
    "duration": 5,
    "start_time": "2023-06-16T10:40:49.315Z"
   },
   {
    "duration": 4,
    "start_time": "2023-06-16T10:40:49.771Z"
   },
   {
    "duration": 3,
    "start_time": "2023-06-16T10:40:50.038Z"
   },
   {
    "duration": 10,
    "start_time": "2023-06-16T10:40:50.956Z"
   },
   {
    "duration": 11,
    "start_time": "2023-06-16T10:40:51.535Z"
   },
   {
    "duration": 5,
    "start_time": "2023-06-16T10:40:53.676Z"
   },
   {
    "duration": 157,
    "start_time": "2023-06-16T10:40:54.922Z"
   },
   {
    "duration": 112,
    "start_time": "2023-06-16T10:40:55.505Z"
   },
   {
    "duration": 6,
    "start_time": "2023-06-16T10:40:58.068Z"
   },
   {
    "duration": 8,
    "start_time": "2023-06-16T10:40:59.246Z"
   },
   {
    "duration": 6,
    "start_time": "2023-06-16T10:41:00.543Z"
   },
   {
    "duration": 8,
    "start_time": "2023-06-16T10:41:01.491Z"
   },
   {
    "duration": 8,
    "start_time": "2023-06-16T10:42:33.813Z"
   },
   {
    "duration": 406,
    "start_time": "2023-06-16T10:48:52.175Z"
   },
   {
    "duration": 27,
    "start_time": "2023-06-16T10:48:53.751Z"
   },
   {
    "duration": 2,
    "start_time": "2023-06-16T10:49:01.088Z"
   },
   {
    "duration": 620,
    "start_time": "2023-06-16T10:49:09.211Z"
   },
   {
    "duration": 27,
    "start_time": "2023-06-16T10:49:09.833Z"
   },
   {
    "duration": 11,
    "start_time": "2023-06-16T10:49:10.241Z"
   },
   {
    "duration": 4,
    "start_time": "2023-06-16T10:49:10.726Z"
   },
   {
    "duration": 11,
    "start_time": "2023-06-16T10:49:11.106Z"
   },
   {
    "duration": 6,
    "start_time": "2023-06-16T10:49:12.569Z"
   },
   {
    "duration": 9,
    "start_time": "2023-06-16T10:49:12.971Z"
   },
   {
    "duration": 5,
    "start_time": "2023-06-16T10:49:14.464Z"
   },
   {
    "duration": 11,
    "start_time": "2023-06-16T10:49:15.154Z"
   },
   {
    "duration": 59,
    "start_time": "2023-06-16T10:49:18.004Z"
   },
   {
    "duration": 10,
    "start_time": "2023-06-16T10:49:18.073Z"
   },
   {
    "duration": 9,
    "start_time": "2023-06-16T10:49:18.461Z"
   },
   {
    "duration": 7,
    "start_time": "2023-06-16T10:49:19.621Z"
   },
   {
    "duration": 8,
    "start_time": "2023-06-16T10:49:20.030Z"
   },
   {
    "duration": 8,
    "start_time": "2023-06-16T10:49:20.405Z"
   },
   {
    "duration": 4,
    "start_time": "2023-06-16T10:49:21.130Z"
   },
   {
    "duration": 3,
    "start_time": "2023-06-16T10:49:21.514Z"
   },
   {
    "duration": 10,
    "start_time": "2023-06-16T10:49:21.908Z"
   },
   {
    "duration": 10,
    "start_time": "2023-06-16T10:49:22.607Z"
   },
   {
    "duration": 6,
    "start_time": "2023-06-16T10:49:24.266Z"
   },
   {
    "duration": 160,
    "start_time": "2023-06-16T10:49:24.810Z"
   },
   {
    "duration": 124,
    "start_time": "2023-06-16T10:49:25.241Z"
   },
   {
    "duration": 8,
    "start_time": "2023-06-16T10:49:26.060Z"
   },
   {
    "duration": 8,
    "start_time": "2023-06-16T10:49:26.732Z"
   },
   {
    "duration": 5,
    "start_time": "2023-06-16T10:53:50.476Z"
   },
   {
    "duration": 8,
    "start_time": "2023-06-16T10:53:59.121Z"
   },
   {
    "duration": 4,
    "start_time": "2023-06-16T10:54:44.260Z"
   },
   {
    "duration": 8,
    "start_time": "2023-06-16T10:54:45.206Z"
   },
   {
    "duration": 4,
    "start_time": "2023-06-16T10:54:58.602Z"
   },
   {
    "duration": 11,
    "start_time": "2023-06-16T10:54:59.751Z"
   },
   {
    "duration": 7,
    "start_time": "2023-06-16T10:56:37.728Z"
   },
   {
    "duration": 9,
    "start_time": "2023-06-16T10:56:38.926Z"
   },
   {
    "duration": 266,
    "start_time": "2023-06-16T11:10:48.399Z"
   },
   {
    "duration": 165,
    "start_time": "2023-06-16T11:11:21.542Z"
   },
   {
    "duration": 166,
    "start_time": "2023-06-16T11:14:39.775Z"
   },
   {
    "duration": 227,
    "start_time": "2023-06-16T11:22:24.207Z"
   },
   {
    "duration": 168,
    "start_time": "2023-06-16T11:23:14.149Z"
   },
   {
    "duration": 249,
    "start_time": "2023-06-16T11:25:35.602Z"
   },
   {
    "duration": 177,
    "start_time": "2023-06-16T11:27:58.261Z"
   },
   {
    "duration": 5,
    "start_time": "2023-06-16T12:11:35.460Z"
   },
   {
    "duration": 4,
    "start_time": "2023-06-16T12:11:35.896Z"
   },
   {
    "duration": 195,
    "start_time": "2023-06-16T12:11:36.330Z"
   },
   {
    "duration": 162,
    "start_time": "2023-06-16T12:14:48.811Z"
   },
   {
    "duration": 8,
    "start_time": "2023-06-16T12:36:00.022Z"
   },
   {
    "duration": 13,
    "start_time": "2023-06-16T12:36:43.090Z"
   },
   {
    "duration": 12,
    "start_time": "2023-06-16T12:51:16.601Z"
   },
   {
    "duration": 6,
    "start_time": "2023-06-16T12:51:21.153Z"
   },
   {
    "duration": 11,
    "start_time": "2023-06-16T12:52:11.421Z"
   },
   {
    "duration": 6,
    "start_time": "2023-06-16T12:52:15.840Z"
   },
   {
    "duration": 17,
    "start_time": "2023-06-16T12:52:37.912Z"
   },
   {
    "duration": 146,
    "start_time": "2023-06-16T12:58:46.962Z"
   },
   {
    "duration": 281,
    "start_time": "2023-06-16T12:59:29.346Z"
   },
   {
    "duration": 166,
    "start_time": "2023-06-16T13:00:18.692Z"
   },
   {
    "duration": 6,
    "start_time": "2023-06-16T13:01:05.405Z"
   },
   {
    "duration": 6,
    "start_time": "2023-06-16T13:01:16.436Z"
   },
   {
    "duration": 164,
    "start_time": "2023-06-16T13:01:17.222Z"
   },
   {
    "duration": 3,
    "start_time": "2023-06-16T13:08:55.035Z"
   },
   {
    "duration": 94,
    "start_time": "2023-06-16T13:12:29.919Z"
   },
   {
    "duration": 12,
    "start_time": "2023-06-16T13:13:08.171Z"
   },
   {
    "duration": 127,
    "start_time": "2023-06-16T13:13:57.415Z"
   },
   {
    "duration": 278,
    "start_time": "2023-06-16T13:14:49.944Z"
   },
   {
    "duration": 98,
    "start_time": "2023-06-16T13:15:17.116Z"
   },
   {
    "duration": 7,
    "start_time": "2023-06-16T13:16:34.471Z"
   },
   {
    "duration": 98,
    "start_time": "2023-06-16T13:16:56.559Z"
   },
   {
    "duration": 9,
    "start_time": "2023-06-16T13:17:46.190Z"
   },
   {
    "duration": 251,
    "start_time": "2023-06-16T13:18:22.530Z"
   },
   {
    "duration": 12,
    "start_time": "2023-06-16T13:18:35.435Z"
   },
   {
    "duration": 15,
    "start_time": "2023-06-16T13:19:09.400Z"
   },
   {
    "duration": 10,
    "start_time": "2023-06-16T13:19:41.106Z"
   },
   {
    "duration": 6,
    "start_time": "2023-06-16T13:20:14.905Z"
   },
   {
    "duration": 108,
    "start_time": "2023-06-16T13:20:18.871Z"
   },
   {
    "duration": 102,
    "start_time": "2023-06-16T13:20:28.578Z"
   },
   {
    "duration": 6,
    "start_time": "2023-06-16T13:20:30.279Z"
   },
   {
    "duration": 111,
    "start_time": "2023-06-16T13:20:31.157Z"
   },
   {
    "duration": 128,
    "start_time": "2023-06-16T13:26:14.336Z"
   },
   {
    "duration": 4,
    "start_time": "2023-06-16T13:31:10.369Z"
   },
   {
    "duration": 11,
    "start_time": "2023-06-16T13:37:49.418Z"
   },
   {
    "duration": 6,
    "start_time": "2023-06-16T13:37:58.355Z"
   },
   {
    "duration": 3,
    "start_time": "2023-06-16T13:40:56.199Z"
   },
   {
    "duration": 11,
    "start_time": "2023-06-16T13:40:58.874Z"
   },
   {
    "duration": 4,
    "start_time": "2023-06-16T13:41:14.171Z"
   },
   {
    "duration": 140,
    "start_time": "2023-06-16T13:42:10.338Z"
   },
   {
    "duration": 11,
    "start_time": "2023-06-16T13:43:20.319Z"
   },
   {
    "duration": 132,
    "start_time": "2023-06-16T13:48:43.322Z"
   },
   {
    "duration": 124,
    "start_time": "2023-06-16T13:48:49.817Z"
   },
   {
    "duration": 5,
    "start_time": "2023-06-16T13:51:53.590Z"
   },
   {
    "duration": 783,
    "start_time": "2023-06-17T10:05:19.665Z"
   },
   {
    "duration": 68,
    "start_time": "2023-06-17T10:05:20.450Z"
   },
   {
    "duration": 11,
    "start_time": "2023-06-17T10:05:20.544Z"
   },
   {
    "duration": 4,
    "start_time": "2023-06-17T10:05:21.020Z"
   },
   {
    "duration": 12,
    "start_time": "2023-06-17T10:05:21.431Z"
   },
   {
    "duration": 5,
    "start_time": "2023-06-17T10:05:23.013Z"
   },
   {
    "duration": 9,
    "start_time": "2023-06-17T10:05:23.666Z"
   },
   {
    "duration": 6,
    "start_time": "2023-06-17T10:05:25.368Z"
   },
   {
    "duration": 10,
    "start_time": "2023-06-17T10:05:25.824Z"
   },
   {
    "duration": 131,
    "start_time": "2023-06-17T10:05:27.978Z"
   },
   {
    "duration": 11,
    "start_time": "2023-06-17T10:05:28.204Z"
   },
   {
    "duration": 13,
    "start_time": "2023-06-17T10:05:28.621Z"
   },
   {
    "duration": 11,
    "start_time": "2023-06-17T10:05:29.435Z"
   },
   {
    "duration": 10,
    "start_time": "2023-06-17T10:05:29.845Z"
   },
   {
    "duration": 7,
    "start_time": "2023-06-17T10:05:30.229Z"
   },
   {
    "duration": 5,
    "start_time": "2023-06-17T10:05:30.622Z"
   },
   {
    "duration": 3,
    "start_time": "2023-06-17T10:05:31.024Z"
   },
   {
    "duration": 10,
    "start_time": "2023-06-17T10:05:31.425Z"
   },
   {
    "duration": 9,
    "start_time": "2023-06-17T10:05:31.821Z"
   },
   {
    "duration": 5,
    "start_time": "2023-06-17T10:05:33.017Z"
   },
   {
    "duration": 151,
    "start_time": "2023-06-17T10:05:33.409Z"
   },
   {
    "duration": 112,
    "start_time": "2023-06-17T10:05:33.869Z"
   },
   {
    "duration": 7,
    "start_time": "2023-06-17T10:05:34.340Z"
   },
   {
    "duration": 8,
    "start_time": "2023-06-17T10:05:34.821Z"
   },
   {
    "duration": 6,
    "start_time": "2023-06-17T10:05:36.113Z"
   },
   {
    "duration": 5,
    "start_time": "2023-06-17T10:05:36.521Z"
   },
   {
    "duration": 263,
    "start_time": "2023-06-17T10:05:37.917Z"
   },
   {
    "duration": 185,
    "start_time": "2023-06-17T10:05:39.230Z"
   },
   {
    "duration": 6,
    "start_time": "2023-06-17T10:05:40.561Z"
   },
   {
    "duration": 180,
    "start_time": "2023-06-17T10:05:41.017Z"
   },
   {
    "duration": 6,
    "start_time": "2023-06-17T10:05:42.461Z"
   },
   {
    "duration": 188,
    "start_time": "2023-06-17T10:05:44.563Z"
   },
   {
    "duration": 6,
    "start_time": "2023-06-17T10:05:46.268Z"
   },
   {
    "duration": 13,
    "start_time": "2023-06-17T10:05:48.305Z"
   },
   {
    "duration": 140,
    "start_time": "2023-06-17T10:05:48.853Z"
   },
   {
    "duration": 6,
    "start_time": "2023-06-17T10:05:51.464Z"
   },
   {
    "duration": 128,
    "start_time": "2023-06-17T10:06:57.130Z"
   },
   {
    "duration": 5,
    "start_time": "2023-06-17T10:07:03.145Z"
   },
   {
    "duration": 9,
    "start_time": "2023-06-17T10:22:35.659Z"
   },
   {
    "duration": 14,
    "start_time": "2023-06-17T10:23:39.079Z"
   },
   {
    "duration": 12,
    "start_time": "2023-06-17T10:24:17.865Z"
   },
   {
    "duration": 9,
    "start_time": "2023-06-17T10:33:34.047Z"
   },
   {
    "duration": 9,
    "start_time": "2023-06-17T10:33:53.334Z"
   },
   {
    "duration": 4,
    "start_time": "2023-06-17T10:41:22.104Z"
   },
   {
    "duration": 10,
    "start_time": "2023-06-17T10:41:28.711Z"
   },
   {
    "duration": 11,
    "start_time": "2023-06-17T10:44:25.107Z"
   },
   {
    "duration": 74,
    "start_time": "2023-06-17T10:45:01.982Z"
   },
   {
    "duration": 3,
    "start_time": "2023-06-17T10:46:20.724Z"
   },
   {
    "duration": 44,
    "start_time": "2023-06-17T10:46:24.927Z"
   },
   {
    "duration": 291,
    "start_time": "2023-06-17T10:46:49.308Z"
   },
   {
    "duration": 6,
    "start_time": "2023-06-17T10:53:57.409Z"
   },
   {
    "duration": 11,
    "start_time": "2023-06-17T10:54:02.916Z"
   },
   {
    "duration": 5,
    "start_time": "2023-06-17T10:54:59.606Z"
   },
   {
    "duration": 9,
    "start_time": "2023-06-17T10:55:31.132Z"
   },
   {
    "duration": 4,
    "start_time": "2023-06-17T10:55:38.352Z"
   },
   {
    "duration": 20,
    "start_time": "2023-06-17T10:57:53.758Z"
   },
   {
    "duration": 5,
    "start_time": "2023-06-17T10:58:17.340Z"
   },
   {
    "duration": 5,
    "start_time": "2023-06-17T10:58:18.554Z"
   },
   {
    "duration": 50,
    "start_time": "2023-06-17T10:58:26.438Z"
   },
   {
    "duration": 51,
    "start_time": "2023-06-17T10:58:32.512Z"
   },
   {
    "duration": 43,
    "start_time": "2023-06-17T11:11:00.866Z"
   },
   {
    "duration": 50,
    "start_time": "2023-06-17T11:11:39.569Z"
   },
   {
    "duration": 46,
    "start_time": "2023-06-17T11:11:46.542Z"
   },
   {
    "duration": 13,
    "start_time": "2023-06-17T11:13:50.945Z"
   },
   {
    "duration": 14,
    "start_time": "2023-06-17T11:14:15.045Z"
   },
   {
    "duration": 20,
    "start_time": "2023-06-17T11:14:20.961Z"
   },
   {
    "duration": 19,
    "start_time": "2023-06-17T11:16:49.979Z"
   },
   {
    "duration": 22,
    "start_time": "2023-06-17T11:17:23.648Z"
   },
   {
    "duration": 16,
    "start_time": "2023-06-17T11:17:31.921Z"
   },
   {
    "duration": 51,
    "start_time": "2023-06-17T11:19:19.948Z"
   },
   {
    "duration": 46,
    "start_time": "2023-06-17T11:19:45.477Z"
   },
   {
    "duration": 51,
    "start_time": "2023-06-17T11:20:21.712Z"
   },
   {
    "duration": 47,
    "start_time": "2023-06-17T11:20:25.686Z"
   },
   {
    "duration": 45,
    "start_time": "2023-06-17T11:22:11.825Z"
   },
   {
    "duration": 36,
    "start_time": "2023-06-17T11:23:19.947Z"
   },
   {
    "duration": 21,
    "start_time": "2023-06-17T11:23:43.658Z"
   },
   {
    "duration": 26,
    "start_time": "2023-06-17T11:24:28.812Z"
   },
   {
    "duration": 64,
    "start_time": "2023-06-17T11:28:19.673Z"
   },
   {
    "duration": 73,
    "start_time": "2023-06-17T11:28:31.891Z"
   },
   {
    "duration": 70,
    "start_time": "2023-06-17T11:29:53.406Z"
   },
   {
    "duration": 66,
    "start_time": "2023-06-17T11:30:02.491Z"
   },
   {
    "duration": 89,
    "start_time": "2023-06-17T11:30:15.833Z"
   },
   {
    "duration": 67,
    "start_time": "2023-06-17T11:33:58.010Z"
   },
   {
    "duration": 75,
    "start_time": "2023-06-17T11:33:59.955Z"
   },
   {
    "duration": 10,
    "start_time": "2023-06-17T11:35:57.052Z"
   },
   {
    "duration": 6,
    "start_time": "2023-06-17T11:36:25.569Z"
   },
   {
    "duration": 4,
    "start_time": "2023-06-17T11:37:32.219Z"
   },
   {
    "duration": 4,
    "start_time": "2023-06-17T11:37:33.307Z"
   },
   {
    "duration": 8,
    "start_time": "2023-06-17T11:38:00.239Z"
   },
   {
    "duration": 374,
    "start_time": "2023-06-17T11:38:36.593Z"
   },
   {
    "duration": 24,
    "start_time": "2023-06-17T11:38:54.645Z"
   },
   {
    "duration": 5,
    "start_time": "2023-06-17T11:39:06.241Z"
   },
   {
    "duration": 8,
    "start_time": "2023-06-17T11:53:35.845Z"
   },
   {
    "duration": 9,
    "start_time": "2023-06-17T11:53:37.219Z"
   },
   {
    "duration": 1048,
    "start_time": "2023-06-17T12:15:23.311Z"
   },
   {
    "duration": 983,
    "start_time": "2023-06-17T12:15:43.210Z"
   },
   {
    "duration": 10,
    "start_time": "2023-06-17T12:20:06.734Z"
   },
   {
    "duration": 7,
    "start_time": "2023-06-17T12:20:11.681Z"
   },
   {
    "duration": 7,
    "start_time": "2023-06-17T12:20:48.804Z"
   },
   {
    "duration": 6,
    "start_time": "2023-06-17T12:23:36.975Z"
   },
   {
    "duration": 21,
    "start_time": "2023-06-17T12:23:43.167Z"
   },
   {
    "duration": 4,
    "start_time": "2023-06-17T12:24:15.406Z"
   },
   {
    "duration": 7,
    "start_time": "2023-06-17T12:24:29.711Z"
   },
   {
    "duration": 5,
    "start_time": "2023-06-17T12:24:34.734Z"
   },
   {
    "duration": 5,
    "start_time": "2023-06-17T12:24:37.498Z"
   },
   {
    "duration": 6,
    "start_time": "2023-06-17T12:24:39.037Z"
   },
   {
    "duration": 6,
    "start_time": "2023-06-17T12:26:55.547Z"
   },
   {
    "duration": 12,
    "start_time": "2023-06-17T12:32:14.684Z"
   },
   {
    "duration": 1241,
    "start_time": "2023-06-17T12:32:26.469Z"
   },
   {
    "duration": 9,
    "start_time": "2023-06-17T12:33:03.601Z"
   },
   {
    "duration": 5,
    "start_time": "2023-06-17T12:33:12.372Z"
   },
   {
    "duration": 9,
    "start_time": "2023-06-17T12:33:40.001Z"
   },
   {
    "duration": 6,
    "start_time": "2023-06-17T12:33:43.640Z"
   },
   {
    "duration": 18,
    "start_time": "2023-06-17T12:34:12.651Z"
   },
   {
    "duration": 11,
    "start_time": "2023-06-17T12:34:14.365Z"
   },
   {
    "duration": 24,
    "start_time": "2023-06-17T12:34:54.972Z"
   },
   {
    "duration": 4,
    "start_time": "2023-06-17T12:34:56.326Z"
   },
   {
    "duration": 11,
    "start_time": "2023-06-17T12:43:10.498Z"
   },
   {
    "duration": 13,
    "start_time": "2023-06-17T12:43:56.398Z"
   },
   {
    "duration": 9,
    "start_time": "2023-06-17T12:44:53.903Z"
   },
   {
    "duration": 1110,
    "start_time": "2023-06-17T13:22:24.613Z"
   },
   {
    "duration": 30,
    "start_time": "2023-06-17T13:22:25.727Z"
   },
   {
    "duration": 16,
    "start_time": "2023-06-17T13:22:25.765Z"
   },
   {
    "duration": 4,
    "start_time": "2023-06-17T13:22:25.784Z"
   },
   {
    "duration": 13,
    "start_time": "2023-06-17T13:22:26.009Z"
   },
   {
    "duration": 7,
    "start_time": "2023-06-17T13:22:27.514Z"
   },
   {
    "duration": 23,
    "start_time": "2023-06-17T13:22:27.845Z"
   },
   {
    "duration": 4,
    "start_time": "2023-06-17T13:22:29.606Z"
   },
   {
    "duration": 10,
    "start_time": "2023-06-17T13:22:29.971Z"
   },
   {
    "duration": 67,
    "start_time": "2023-06-17T13:22:32.003Z"
   },
   {
    "duration": 13,
    "start_time": "2023-06-17T13:22:32.336Z"
   },
   {
    "duration": 15,
    "start_time": "2023-06-17T13:22:33.104Z"
   },
   {
    "duration": 8,
    "start_time": "2023-06-17T13:22:33.815Z"
   },
   {
    "duration": 7,
    "start_time": "2023-06-17T13:22:34.211Z"
   },
   {
    "duration": 5,
    "start_time": "2023-06-17T13:22:35.208Z"
   },
   {
    "duration": 3,
    "start_time": "2023-06-17T13:22:35.533Z"
   },
   {
    "duration": 3,
    "start_time": "2023-06-17T13:22:35.933Z"
   },
   {
    "duration": 17,
    "start_time": "2023-06-17T13:22:36.344Z"
   },
   {
    "duration": 9,
    "start_time": "2023-06-17T13:22:37.232Z"
   },
   {
    "duration": 16,
    "start_time": "2023-06-17T13:22:38.753Z"
   },
   {
    "duration": 158,
    "start_time": "2023-06-17T13:22:39.136Z"
   },
   {
    "duration": 115,
    "start_time": "2023-06-17T13:22:39.526Z"
   },
   {
    "duration": 7,
    "start_time": "2023-06-17T13:22:39.967Z"
   },
   {
    "duration": 13,
    "start_time": "2023-06-17T13:22:40.358Z"
   },
   {
    "duration": 5,
    "start_time": "2023-06-17T13:22:42.035Z"
   },
   {
    "duration": 4,
    "start_time": "2023-06-17T13:22:42.471Z"
   },
   {
    "duration": 257,
    "start_time": "2023-06-17T13:22:42.940Z"
   },
   {
    "duration": 175,
    "start_time": "2023-06-17T13:22:44.570Z"
   },
   {
    "duration": 7,
    "start_time": "2023-06-17T13:22:46.367Z"
   },
   {
    "duration": 13,
    "start_time": "2023-06-17T13:22:46.737Z"
   },
   {
    "duration": 166,
    "start_time": "2023-06-17T13:22:47.171Z"
   },
   {
    "duration": 6,
    "start_time": "2023-06-17T13:22:48.919Z"
   },
   {
    "duration": 120,
    "start_time": "2023-06-17T13:22:49.612Z"
   },
   {
    "duration": 4,
    "start_time": "2023-06-17T13:22:51.270Z"
   },
   {
    "duration": 12,
    "start_time": "2023-06-17T13:22:53.499Z"
   },
   {
    "duration": 134,
    "start_time": "2023-06-17T13:22:53.953Z"
   },
   {
    "duration": 5,
    "start_time": "2023-06-17T13:22:55.608Z"
   },
   {
    "duration": 5,
    "start_time": "2023-06-17T13:22:57.710Z"
   },
   {
    "duration": 4,
    "start_time": "2023-06-17T13:22:57.933Z"
   },
   {
    "duration": 53,
    "start_time": "2023-06-17T13:22:58.337Z"
   },
   {
    "duration": 50,
    "start_time": "2023-06-17T13:22:58.746Z"
   },
   {
    "duration": 19,
    "start_time": "2023-06-17T13:22:59.148Z"
   },
   {
    "duration": 16,
    "start_time": "2023-06-17T13:22:59.537Z"
   },
   {
    "duration": 48,
    "start_time": "2023-06-17T13:22:59.904Z"
   },
   {
    "duration": 46,
    "start_time": "2023-06-17T13:23:00.270Z"
   },
   {
    "duration": 28,
    "start_time": "2023-06-17T13:23:00.667Z"
   },
   {
    "duration": 62,
    "start_time": "2023-06-17T13:23:01.088Z"
   },
   {
    "duration": 79,
    "start_time": "2023-06-17T13:23:01.419Z"
   },
   {
    "duration": 5,
    "start_time": "2023-06-17T13:23:01.814Z"
   },
   {
    "duration": 6,
    "start_time": "2023-06-17T13:23:02.211Z"
   },
   {
    "duration": 22,
    "start_time": "2023-06-17T13:23:02.975Z"
   },
   {
    "duration": 4,
    "start_time": "2023-06-17T13:23:03.392Z"
   },
   {
    "duration": 12,
    "start_time": "2023-06-17T13:23:04.851Z"
   },
   {
    "duration": 7,
    "start_time": "2023-06-17T13:23:05.232Z"
   },
   {
    "duration": 6,
    "start_time": "2023-06-17T13:23:06.995Z"
   },
   {
    "duration": 4,
    "start_time": "2023-06-17T13:23:07.425Z"
   },
   {
    "duration": 12,
    "start_time": "2023-06-17T13:23:07.872Z"
   },
   {
    "duration": 7,
    "start_time": "2023-06-17T13:23:08.342Z"
   },
   {
    "duration": 7,
    "start_time": "2023-06-17T13:23:08.641Z"
   },
   {
    "duration": 22,
    "start_time": "2023-06-17T13:23:09.018Z"
   },
   {
    "duration": 6,
    "start_time": "2023-06-17T13:23:09.499Z"
   },
   {
    "duration": 16,
    "start_time": "2023-06-17T13:23:10.827Z"
   },
   {
    "duration": 13,
    "start_time": "2023-06-17T13:23:11.238Z"
   },
   {
    "duration": 1680,
    "start_time": "2023-06-18T08:06:20.785Z"
   },
   {
    "duration": 75,
    "start_time": "2023-06-18T08:06:24.487Z"
   },
   {
    "duration": 18,
    "start_time": "2023-06-18T08:06:24.917Z"
   },
   {
    "duration": 3,
    "start_time": "2023-06-18T08:06:26.056Z"
   },
   {
    "duration": 156,
    "start_time": "2023-06-18T08:06:42.747Z"
   },
   {
    "duration": 17,
    "start_time": "2023-06-18T08:06:49.510Z"
   },
   {
    "duration": 3,
    "start_time": "2023-06-18T08:13:25.445Z"
   },
   {
    "duration": 29,
    "start_time": "2023-06-18T08:13:27.777Z"
   },
   {
    "duration": 11,
    "start_time": "2023-06-18T08:13:28.145Z"
   },
   {
    "duration": 2,
    "start_time": "2023-06-18T08:13:28.519Z"
   },
   {
    "duration": 9,
    "start_time": "2023-06-18T08:13:29.301Z"
   },
   {
    "duration": 38,
    "start_time": "2023-06-18T08:20:02.051Z"
   },
   {
    "duration": 11,
    "start_time": "2023-06-18T08:20:04.088Z"
   },
   {
    "duration": 6,
    "start_time": "2023-06-18T08:21:08.585Z"
   },
   {
    "duration": 12,
    "start_time": "2023-06-18T08:21:09.169Z"
   },
   {
    "duration": 139,
    "start_time": "2023-06-18T08:21:41.020Z"
   },
   {
    "duration": 11,
    "start_time": "2023-06-18T08:21:41.371Z"
   },
   {
    "duration": 11,
    "start_time": "2023-06-18T08:21:41.736Z"
   },
   {
    "duration": 8,
    "start_time": "2023-06-18T08:21:43.392Z"
   },
   {
    "duration": 7,
    "start_time": "2023-06-18T08:21:43.842Z"
   },
   {
    "duration": 5,
    "start_time": "2023-06-18T08:21:45.655Z"
   },
   {
    "duration": 4,
    "start_time": "2023-06-18T08:21:46.164Z"
   },
   {
    "duration": 3,
    "start_time": "2023-06-18T08:21:46.856Z"
   },
   {
    "duration": 11,
    "start_time": "2023-06-18T08:21:47.239Z"
   },
   {
    "duration": 10,
    "start_time": "2023-06-18T08:21:47.969Z"
   },
   {
    "duration": 5,
    "start_time": "2023-06-18T08:31:42.255Z"
   },
   {
    "duration": 6,
    "start_time": "2023-06-18T08:31:55.480Z"
   },
   {
    "duration": 5,
    "start_time": "2023-06-18T08:32:32.570Z"
   },
   {
    "duration": 6,
    "start_time": "2023-06-18T08:32:40.738Z"
   },
   {
    "duration": 6,
    "start_time": "2023-06-18T08:33:33.676Z"
   },
   {
    "duration": 10,
    "start_time": "2023-06-18T08:38:33.315Z"
   },
   {
    "duration": 8,
    "start_time": "2023-06-18T08:38:36.652Z"
   },
   {
    "duration": 19,
    "start_time": "2023-06-18T08:38:48.248Z"
   },
   {
    "duration": 8,
    "start_time": "2023-06-18T08:39:40.954Z"
   },
   {
    "duration": 17,
    "start_time": "2023-06-18T08:39:52.703Z"
   },
   {
    "duration": 15,
    "start_time": "2023-06-18T08:39:58.728Z"
   },
   {
    "duration": 8,
    "start_time": "2023-06-18T08:40:04.258Z"
   },
   {
    "duration": 8,
    "start_time": "2023-06-18T08:40:20.773Z"
   },
   {
    "duration": 6,
    "start_time": "2023-06-18T08:55:57.859Z"
   },
   {
    "duration": 7,
    "start_time": "2023-06-18T08:56:22.277Z"
   },
   {
    "duration": 6,
    "start_time": "2023-06-18T08:56:25.607Z"
   },
   {
    "duration": 6,
    "start_time": "2023-06-18T08:56:31.706Z"
   },
   {
    "duration": 7,
    "start_time": "2023-06-18T08:56:59.354Z"
   },
   {
    "duration": 7,
    "start_time": "2023-06-18T09:03:38.478Z"
   },
   {
    "duration": 6,
    "start_time": "2023-06-18T09:03:42.738Z"
   },
   {
    "duration": 11,
    "start_time": "2023-06-18T09:04:17.830Z"
   },
   {
    "duration": 11,
    "start_time": "2023-06-18T09:04:27.113Z"
   },
   {
    "duration": 34,
    "start_time": "2023-06-18T09:04:39.837Z"
   },
   {
    "duration": 70,
    "start_time": "2023-06-18T09:04:49.335Z"
   },
   {
    "duration": 5,
    "start_time": "2023-06-18T09:06:35.905Z"
   },
   {
    "duration": 8,
    "start_time": "2023-06-18T09:06:41.620Z"
   },
   {
    "duration": 7,
    "start_time": "2023-06-18T09:07:34.861Z"
   },
   {
    "duration": 8,
    "start_time": "2023-06-18T09:07:59.439Z"
   },
   {
    "duration": 11,
    "start_time": "2023-06-18T09:27:13.602Z"
   },
   {
    "duration": 20,
    "start_time": "2023-06-18T09:27:35.454Z"
   },
   {
    "duration": 10,
    "start_time": "2023-06-18T09:27:47.337Z"
   },
   {
    "duration": 4,
    "start_time": "2023-06-18T09:28:02.502Z"
   },
   {
    "duration": 1141,
    "start_time": "2023-06-18T09:29:13.936Z"
   },
   {
    "duration": 9,
    "start_time": "2023-06-18T09:29:22.997Z"
   },
   {
    "duration": 6,
    "start_time": "2023-06-18T09:31:10.294Z"
   },
   {
    "duration": 9,
    "start_time": "2023-06-18T09:31:17.011Z"
   },
   {
    "duration": 6,
    "start_time": "2023-06-18T09:35:08.712Z"
   },
   {
    "duration": 7,
    "start_time": "2023-06-18T09:35:28.486Z"
   },
   {
    "duration": 10,
    "start_time": "2023-06-18T09:36:39.507Z"
   },
   {
    "duration": 8,
    "start_time": "2023-06-18T09:36:40.030Z"
   },
   {
    "duration": 5,
    "start_time": "2023-06-18T09:36:41.359Z"
   },
   {
    "duration": 10,
    "start_time": "2023-06-18T09:36:42.266Z"
   },
   {
    "duration": 6,
    "start_time": "2023-06-18T09:36:42.901Z"
   },
   {
    "duration": 9,
    "start_time": "2023-06-18T09:37:56.456Z"
   },
   {
    "duration": 17,
    "start_time": "2023-06-18T09:37:57.303Z"
   },
   {
    "duration": 1345,
    "start_time": "2023-06-18T09:38:10.237Z"
   },
   {
    "duration": 30,
    "start_time": "2023-06-18T09:38:11.584Z"
   },
   {
    "duration": 610,
    "start_time": "2023-06-18T09:38:11.617Z"
   },
   {
    "duration": 2140,
    "start_time": "2023-06-18T09:38:12.230Z"
   },
   {
    "duration": 593,
    "start_time": "2023-06-18T09:38:14.372Z"
   },
   {
    "duration": 30,
    "start_time": "2023-06-18T09:38:14.968Z"
   },
   {
    "duration": 88,
    "start_time": "2023-06-18T09:38:15.000Z"
   },
   {
    "duration": 5,
    "start_time": "2023-06-18T09:38:17.354Z"
   },
   {
    "duration": 12,
    "start_time": "2023-06-18T09:38:17.761Z"
   },
   {
    "duration": 65,
    "start_time": "2023-06-18T09:38:20.558Z"
   },
   {
    "duration": 12,
    "start_time": "2023-06-18T09:38:20.934Z"
   },
   {
    "duration": 12,
    "start_time": "2023-06-18T09:38:21.510Z"
   },
   {
    "duration": 14,
    "start_time": "2023-06-18T09:38:22.896Z"
   },
   {
    "duration": 9,
    "start_time": "2023-06-18T09:38:23.294Z"
   },
   {
    "duration": 6,
    "start_time": "2023-06-18T09:38:23.676Z"
   },
   {
    "duration": 4,
    "start_time": "2023-06-18T09:38:24.441Z"
   },
   {
    "duration": 4,
    "start_time": "2023-06-18T09:38:24.843Z"
   },
   {
    "duration": 15,
    "start_time": "2023-06-18T09:38:25.232Z"
   },
   {
    "duration": 13,
    "start_time": "2023-06-18T09:38:25.664Z"
   },
   {
    "duration": 4,
    "start_time": "2023-06-18T09:38:27.133Z"
   },
   {
    "duration": 4,
    "start_time": "2023-06-18T09:38:27.537Z"
   },
   {
    "duration": 5,
    "start_time": "2023-06-18T09:38:27.966Z"
   },
   {
    "duration": 9,
    "start_time": "2023-06-18T09:38:28.379Z"
   },
   {
    "duration": 10,
    "start_time": "2023-06-18T09:38:30.157Z"
   },
   {
    "duration": 693,
    "start_time": "2023-06-18T09:38:30.708Z"
   },
   {
    "duration": 5,
    "start_time": "2023-06-18T09:40:30.557Z"
   },
   {
    "duration": 11,
    "start_time": "2023-06-18T09:41:53.247Z"
   },
   {
    "duration": 1902,
    "start_time": "2023-06-18T09:44:11.948Z"
   },
   {
    "duration": 5,
    "start_time": "2023-06-18T09:45:27.237Z"
   },
   {
    "duration": 18,
    "start_time": "2023-06-18T09:45:35.035Z"
   },
   {
    "duration": 1511,
    "start_time": "2023-06-18T09:45:49.624Z"
   },
   {
    "duration": 10,
    "start_time": "2023-06-18T09:47:04.603Z"
   },
   {
    "duration": 5,
    "start_time": "2023-06-18T09:47:14.996Z"
   },
   {
    "duration": 5,
    "start_time": "2023-06-18T09:47:28.436Z"
   },
   {
    "duration": 292,
    "start_time": "2023-06-18T09:48:25.299Z"
   },
   {
    "duration": 197,
    "start_time": "2023-06-18T09:49:12.536Z"
   },
   {
    "duration": 226,
    "start_time": "2023-06-18T09:50:17.907Z"
   },
   {
    "duration": 7,
    "start_time": "2023-06-18T09:52:51.869Z"
   },
   {
    "duration": 177,
    "start_time": "2023-06-18T09:53:08.809Z"
   },
   {
    "duration": 135,
    "start_time": "2023-06-18T09:53:13.973Z"
   },
   {
    "duration": 6,
    "start_time": "2023-06-18T09:53:20.471Z"
   },
   {
    "duration": 13,
    "start_time": "2023-06-18T09:53:21.629Z"
   },
   {
    "duration": 10,
    "start_time": "2023-06-18T09:53:41.531Z"
   },
   {
    "duration": 5,
    "start_time": "2023-06-18T09:53:52.490Z"
   },
   {
    "duration": 6,
    "start_time": "2023-06-18T09:55:56.372Z"
   },
   {
    "duration": 6,
    "start_time": "2023-06-18T09:55:57.178Z"
   },
   {
    "duration": 277,
    "start_time": "2023-06-18T09:55:57.969Z"
   },
   {
    "duration": 229,
    "start_time": "2023-06-18T09:56:02.249Z"
   },
   {
    "duration": 6,
    "start_time": "2023-06-18T09:56:05.765Z"
   },
   {
    "duration": 17,
    "start_time": "2023-06-18T09:56:07.428Z"
   },
   {
    "duration": 260,
    "start_time": "2023-06-18T09:56:09.665Z"
   },
   {
    "duration": 7,
    "start_time": "2023-06-18T10:09:12.208Z"
   },
   {
    "duration": 5,
    "start_time": "2023-06-18T10:10:31.973Z"
   },
   {
    "duration": 4,
    "start_time": "2023-06-18T10:10:32.730Z"
   },
   {
    "duration": 163,
    "start_time": "2023-06-18T10:12:36.108Z"
   },
   {
    "duration": 188,
    "start_time": "2023-06-18T10:12:53.957Z"
   },
   {
    "duration": 162,
    "start_time": "2023-06-18T10:13:15.832Z"
   },
   {
    "duration": 309,
    "start_time": "2023-06-18T10:14:09.562Z"
   },
   {
    "duration": 173,
    "start_time": "2023-06-18T10:16:33.764Z"
   },
   {
    "duration": 176,
    "start_time": "2023-06-18T10:17:02.401Z"
   },
   {
    "duration": 193,
    "start_time": "2023-06-18T10:21:15.843Z"
   },
   {
    "duration": 21,
    "start_time": "2023-06-18T10:22:55.434Z"
   },
   {
    "duration": 6,
    "start_time": "2023-06-18T10:23:02.405Z"
   },
   {
    "duration": 18,
    "start_time": "2023-06-18T10:23:08.467Z"
   },
   {
    "duration": 5,
    "start_time": "2023-06-18T10:23:21.337Z"
   },
   {
    "duration": 15,
    "start_time": "2023-06-18T10:23:27.768Z"
   },
   {
    "duration": 5,
    "start_time": "2023-06-18T10:23:57.140Z"
   },
   {
    "duration": 20,
    "start_time": "2023-06-18T10:24:03.426Z"
   },
   {
    "duration": 6,
    "start_time": "2023-06-18T10:24:40.320Z"
   },
   {
    "duration": 162,
    "start_time": "2023-06-18T10:29:37.732Z"
   },
   {
    "duration": 12,
    "start_time": "2023-06-18T10:30:23.702Z"
   },
   {
    "duration": 6,
    "start_time": "2023-06-18T10:30:27.956Z"
   },
   {
    "duration": 12,
    "start_time": "2023-06-18T10:30:40.622Z"
   },
   {
    "duration": 7,
    "start_time": "2023-06-18T10:31:21.163Z"
   },
   {
    "duration": 7,
    "start_time": "2023-06-18T10:31:34.966Z"
   },
   {
    "duration": 6,
    "start_time": "2023-06-18T10:31:44.783Z"
   },
   {
    "duration": 202,
    "start_time": "2023-06-18T10:32:36.432Z"
   },
   {
    "duration": 347,
    "start_time": "2023-06-18T10:33:17.191Z"
   },
   {
    "duration": 194,
    "start_time": "2023-06-18T10:33:32.705Z"
   },
   {
    "duration": 194,
    "start_time": "2023-06-18T10:34:13.434Z"
   },
   {
    "duration": 222,
    "start_time": "2023-06-18T10:48:13.927Z"
   },
   {
    "duration": 64,
    "start_time": "2023-06-18T10:56:07.448Z"
   },
   {
    "duration": 16,
    "start_time": "2023-06-18T10:56:50.431Z"
   },
   {
    "duration": 17,
    "start_time": "2023-06-18T10:57:06.474Z"
   },
   {
    "duration": 10,
    "start_time": "2023-06-18T10:57:20.930Z"
   },
   {
    "duration": 243,
    "start_time": "2023-06-18T10:59:18.897Z"
   },
   {
    "duration": 469,
    "start_time": "2023-06-18T10:59:43.698Z"
   },
   {
    "duration": 304,
    "start_time": "2023-06-18T11:00:08.443Z"
   },
   {
    "duration": 8,
    "start_time": "2023-06-18T11:05:18.016Z"
   },
   {
    "duration": 188,
    "start_time": "2023-06-18T11:05:22.392Z"
   },
   {
    "duration": 7,
    "start_time": "2023-06-18T11:05:54.586Z"
   },
   {
    "duration": 116,
    "start_time": "2023-06-18T11:05:55.327Z"
   },
   {
    "duration": 14,
    "start_time": "2023-06-18T11:06:23.564Z"
   },
   {
    "duration": 6,
    "start_time": "2023-06-18T11:06:32.180Z"
   },
   {
    "duration": 7,
    "start_time": "2023-06-18T11:06:56.248Z"
   },
   {
    "duration": 15,
    "start_time": "2023-06-18T11:07:06.847Z"
   },
   {
    "duration": 6,
    "start_time": "2023-06-18T11:07:14.195Z"
   },
   {
    "duration": 7,
    "start_time": "2023-06-18T11:07:27.235Z"
   },
   {
    "duration": 8,
    "start_time": "2023-06-18T11:08:13.074Z"
   },
   {
    "duration": 142,
    "start_time": "2023-06-18T11:10:56.934Z"
   },
   {
    "duration": 6,
    "start_time": "2023-06-18T11:11:10.909Z"
   },
   {
    "duration": 21,
    "start_time": "2023-06-18T11:12:59.013Z"
   },
   {
    "duration": 150,
    "start_time": "2023-06-18T11:13:13.332Z"
   },
   {
    "duration": 197,
    "start_time": "2023-06-18T11:13:47.407Z"
   },
   {
    "duration": 15,
    "start_time": "2023-06-18T11:13:57.570Z"
   },
   {
    "duration": 161,
    "start_time": "2023-06-18T11:14:37.831Z"
   },
   {
    "duration": 5,
    "start_time": "2023-06-18T11:15:27.332Z"
   },
   {
    "duration": 132,
    "start_time": "2023-06-18T11:16:57.156Z"
   },
   {
    "duration": 8,
    "start_time": "2023-06-18T11:16:58.950Z"
   },
   {
    "duration": 146,
    "start_time": "2023-06-18T11:17:00.000Z"
   },
   {
    "duration": 5,
    "start_time": "2023-06-18T11:17:04.152Z"
   },
   {
    "duration": 1270,
    "start_time": "2023-06-18T11:17:45.317Z"
   },
   {
    "duration": 45,
    "start_time": "2023-06-18T11:17:46.589Z"
   },
   {
    "duration": 13,
    "start_time": "2023-06-18T11:17:46.684Z"
   },
   {
    "duration": 9,
    "start_time": "2023-06-18T11:17:47.241Z"
   },
   {
    "duration": 12,
    "start_time": "2023-06-18T11:17:47.640Z"
   },
   {
    "duration": 7,
    "start_time": "2023-06-18T11:17:50.148Z"
   },
   {
    "duration": 11,
    "start_time": "2023-06-18T11:17:50.846Z"
   },
   {
    "duration": 4,
    "start_time": "2023-06-18T11:17:53.304Z"
   },
   {
    "duration": 11,
    "start_time": "2023-06-18T11:17:53.665Z"
   },
   {
    "duration": 78,
    "start_time": "2023-06-18T11:17:56.056Z"
   },
   {
    "duration": 13,
    "start_time": "2023-06-18T11:17:56.452Z"
   },
   {
    "duration": 12,
    "start_time": "2023-06-18T11:17:56.913Z"
   },
   {
    "duration": 8,
    "start_time": "2023-06-18T11:17:58.782Z"
   },
   {
    "duration": 8,
    "start_time": "2023-06-18T11:17:59.464Z"
   },
   {
    "duration": 5,
    "start_time": "2023-06-18T11:18:00.203Z"
   },
   {
    "duration": 4,
    "start_time": "2023-06-18T11:18:00.701Z"
   },
   {
    "duration": 4,
    "start_time": "2023-06-18T11:18:01.154Z"
   },
   {
    "duration": 15,
    "start_time": "2023-06-18T11:18:01.575Z"
   },
   {
    "duration": 10,
    "start_time": "2023-06-18T11:18:02.032Z"
   },
   {
    "duration": 4,
    "start_time": "2023-06-18T11:18:02.900Z"
   },
   {
    "duration": 11,
    "start_time": "2023-06-18T11:18:03.418Z"
   },
   {
    "duration": 5,
    "start_time": "2023-06-18T11:18:04.304Z"
   },
   {
    "duration": 7,
    "start_time": "2023-06-18T11:18:04.731Z"
   },
   {
    "duration": 9,
    "start_time": "2023-06-18T11:18:05.945Z"
   },
   {
    "duration": 9,
    "start_time": "2023-06-18T11:18:06.347Z"
   },
   {
    "duration": 5,
    "start_time": "2023-06-18T11:18:07.731Z"
   },
   {
    "duration": 9,
    "start_time": "2023-06-18T11:18:08.110Z"
   },
   {
    "duration": 5,
    "start_time": "2023-06-18T11:18:08.477Z"
   },
   {
    "duration": 362,
    "start_time": "2023-06-18T11:18:08.932Z"
   },
   {
    "duration": 6,
    "start_time": "2023-06-18T11:18:12.204Z"
   },
   {
    "duration": 176,
    "start_time": "2023-06-18T11:18:12.554Z"
   },
   {
    "duration": 148,
    "start_time": "2023-06-18T11:18:13.350Z"
   },
   {
    "duration": 7,
    "start_time": "2023-06-18T11:18:13.735Z"
   },
   {
    "duration": 9,
    "start_time": "2023-06-18T11:18:14.201Z"
   },
   {
    "duration": 7,
    "start_time": "2023-06-18T11:18:15.000Z"
   },
   {
    "duration": 4,
    "start_time": "2023-06-18T11:18:15.367Z"
   },
   {
    "duration": 6,
    "start_time": "2023-06-18T11:18:18.146Z"
   },
   {
    "duration": 6,
    "start_time": "2023-06-18T11:18:19.071Z"
   },
   {
    "duration": 212,
    "start_time": "2023-06-18T11:18:19.079Z"
   },
   {
    "duration": 283,
    "start_time": "2023-06-18T11:18:21.411Z"
   },
   {
    "duration": 8,
    "start_time": "2023-06-18T11:18:23.523Z"
   },
   {
    "duration": 13,
    "start_time": "2023-06-18T11:18:24.663Z"
   },
   {
    "duration": 183,
    "start_time": "2023-06-18T11:18:32.044Z"
   },
   {
    "duration": 4,
    "start_time": "2023-06-18T11:18:33.800Z"
   },
   {
    "duration": 3,
    "start_time": "2023-06-18T11:18:34.174Z"
   },
   {
    "duration": 3,
    "start_time": "2023-06-18T11:18:34.570Z"
   },
   {
    "duration": 229,
    "start_time": "2023-06-18T11:18:35.010Z"
   },
   {
    "duration": 7,
    "start_time": "2023-06-18T11:18:36.728Z"
   },
   {
    "duration": 301,
    "start_time": "2023-06-18T11:18:37.162Z"
   },
   {
    "duration": 6,
    "start_time": "2023-06-18T11:18:40.837Z"
   },
   {
    "duration": 130,
    "start_time": "2023-06-18T11:18:41.729Z"
   },
   {
    "duration": 5,
    "start_time": "2023-06-18T11:18:45.358Z"
   },
   {
    "duration": 7,
    "start_time": "2023-06-18T11:19:13.060Z"
   },
   {
    "duration": 137,
    "start_time": "2023-06-18T11:19:16.017Z"
   },
   {
    "duration": 11,
    "start_time": "2023-06-18T11:19:32.907Z"
   },
   {
    "duration": 14,
    "start_time": "2023-06-18T11:19:42.243Z"
   },
   {
    "duration": 139,
    "start_time": "2023-06-18T11:19:46.259Z"
   },
   {
    "duration": 213,
    "start_time": "2023-06-18T11:21:37.756Z"
   },
   {
    "duration": 7,
    "start_time": "2023-06-18T11:41:41.673Z"
   },
   {
    "duration": 7,
    "start_time": "2023-06-18T11:41:47.534Z"
   },
   {
    "duration": 6,
    "start_time": "2023-06-18T11:41:48.394Z"
   },
   {
    "duration": 57,
    "start_time": "2023-06-18T11:41:50.179Z"
   },
   {
    "duration": 63,
    "start_time": "2023-06-18T11:41:51.072Z"
   },
   {
    "duration": 17,
    "start_time": "2023-06-18T11:42:12.329Z"
   },
   {
    "duration": 15,
    "start_time": "2023-06-18T11:42:24.067Z"
   },
   {
    "duration": 19,
    "start_time": "2023-06-18T11:42:56.434Z"
   },
   {
    "duration": 53,
    "start_time": "2023-06-18T11:42:57.935Z"
   },
   {
    "duration": 51,
    "start_time": "2023-06-18T11:42:58.441Z"
   },
   {
    "duration": 38,
    "start_time": "2023-06-18T11:43:00.508Z"
   },
   {
    "duration": 99,
    "start_time": "2023-06-18T11:43:15.411Z"
   },
   {
    "duration": 88,
    "start_time": "2023-06-18T11:43:23.178Z"
   },
   {
    "duration": 4,
    "start_time": "2023-06-18T11:43:25.992Z"
   },
   {
    "duration": 5,
    "start_time": "2023-06-18T11:43:27.342Z"
   },
   {
    "duration": 32,
    "start_time": "2023-06-18T11:43:29.039Z"
   },
   {
    "duration": 8,
    "start_time": "2023-06-18T11:43:29.768Z"
   },
   {
    "duration": 12,
    "start_time": "2023-06-18T11:44:40.525Z"
   },
   {
    "duration": 7,
    "start_time": "2023-06-18T11:44:41.539Z"
   },
   {
    "duration": 6,
    "start_time": "2023-06-18T11:45:02.931Z"
   },
   {
    "duration": 4,
    "start_time": "2023-06-18T11:45:03.843Z"
   },
   {
    "duration": 10,
    "start_time": "2023-06-18T11:45:11.611Z"
   },
   {
    "duration": 4,
    "start_time": "2023-06-18T11:45:14.790Z"
   },
   {
    "duration": 5,
    "start_time": "2023-06-18T11:45:20.578Z"
   },
   {
    "duration": 6,
    "start_time": "2023-06-18T11:45:40.727Z"
   },
   {
    "duration": 6,
    "start_time": "2023-06-18T11:45:41.427Z"
   },
   {
    "duration": 22,
    "start_time": "2023-06-18T11:45:42.164Z"
   },
   {
    "duration": 5,
    "start_time": "2023-06-18T11:45:43.468Z"
   },
   {
    "duration": 166,
    "start_time": "2023-06-18T11:48:53.576Z"
   },
   {
    "duration": 13,
    "start_time": "2023-06-18T11:49:14.782Z"
   },
   {
    "duration": 6,
    "start_time": "2023-06-18T11:55:24.130Z"
   },
   {
    "duration": 8,
    "start_time": "2023-06-18T11:58:00.259Z"
   },
   {
    "duration": 7,
    "start_time": "2023-06-18T11:58:01.359Z"
   },
   {
    "duration": 5,
    "start_time": "2023-06-18T11:58:56.134Z"
   },
   {
    "duration": 16,
    "start_time": "2023-06-18T11:58:57.112Z"
   },
   {
    "duration": 8,
    "start_time": "2023-06-18T11:59:28.628Z"
   },
   {
    "duration": 6,
    "start_time": "2023-06-18T11:59:35.318Z"
   },
   {
    "duration": 10,
    "start_time": "2023-06-18T11:59:35.732Z"
   },
   {
    "duration": 5,
    "start_time": "2023-06-18T11:59:36.107Z"
   },
   {
    "duration": 5,
    "start_time": "2023-06-18T11:59:36.463Z"
   },
   {
    "duration": 7,
    "start_time": "2023-06-18T11:59:37.236Z"
   },
   {
    "duration": 7,
    "start_time": "2023-06-18T11:59:59.780Z"
   },
   {
    "duration": 9,
    "start_time": "2023-06-18T12:00:00.223Z"
   },
   {
    "duration": 28,
    "start_time": "2023-06-18T12:00:00.615Z"
   },
   {
    "duration": 4,
    "start_time": "2023-06-18T12:00:01.132Z"
   },
   {
    "duration": 6,
    "start_time": "2023-06-18T12:06:32.232Z"
   },
   {
    "duration": 8,
    "start_time": "2023-06-18T12:06:34.307Z"
   },
   {
    "duration": 6,
    "start_time": "2023-06-18T12:06:34.588Z"
   },
   {
    "duration": 34,
    "start_time": "2023-06-18T12:06:35.404Z"
   },
   {
    "duration": 5,
    "start_time": "2023-06-18T12:06:36.339Z"
   },
   {
    "duration": 11,
    "start_time": "2023-06-18T12:09:04.655Z"
   },
   {
    "duration": 10,
    "start_time": "2023-06-18T12:09:23.028Z"
   },
   {
    "duration": 1110,
    "start_time": "2023-06-18T12:32:38.029Z"
   },
   {
    "duration": 28,
    "start_time": "2023-06-18T12:32:39.141Z"
   },
   {
    "duration": 11,
    "start_time": "2023-06-18T12:32:39.171Z"
   },
   {
    "duration": 5,
    "start_time": "2023-06-18T12:32:39.184Z"
   },
   {
    "duration": 16,
    "start_time": "2023-06-18T12:32:39.600Z"
   },
   {
    "duration": 6,
    "start_time": "2023-06-18T12:32:41.294Z"
   },
   {
    "duration": 10,
    "start_time": "2023-06-18T12:32:41.482Z"
   },
   {
    "duration": 5,
    "start_time": "2023-06-18T12:32:43.742Z"
   },
   {
    "duration": 11,
    "start_time": "2023-06-18T12:32:44.797Z"
   },
   {
    "duration": 63,
    "start_time": "2023-06-18T12:32:46.129Z"
   },
   {
    "duration": 11,
    "start_time": "2023-06-18T12:32:46.845Z"
   },
   {
    "duration": 10,
    "start_time": "2023-06-18T12:32:47.349Z"
   },
   {
    "duration": 8,
    "start_time": "2023-06-18T12:32:49.301Z"
   },
   {
    "duration": 9,
    "start_time": "2023-06-18T12:32:49.649Z"
   },
   {
    "duration": 6,
    "start_time": "2023-06-18T12:32:50.002Z"
   },
   {
    "duration": 4,
    "start_time": "2023-06-18T12:32:50.336Z"
   },
   {
    "duration": 5,
    "start_time": "2023-06-18T12:32:50.728Z"
   },
   {
    "duration": 12,
    "start_time": "2023-06-18T12:32:51.131Z"
   },
   {
    "duration": 11,
    "start_time": "2023-06-18T12:32:51.526Z"
   },
   {
    "duration": 4,
    "start_time": "2023-06-18T12:32:52.331Z"
   },
   {
    "duration": 5,
    "start_time": "2023-06-18T12:32:52.753Z"
   },
   {
    "duration": 6,
    "start_time": "2023-06-18T12:32:53.192Z"
   },
   {
    "duration": 7,
    "start_time": "2023-06-18T12:32:53.610Z"
   },
   {
    "duration": 12,
    "start_time": "2023-06-18T12:32:54.892Z"
   },
   {
    "duration": 11,
    "start_time": "2023-06-18T12:32:55.335Z"
   },
   {
    "duration": 6,
    "start_time": "2023-06-18T12:32:56.297Z"
   },
   {
    "duration": 4,
    "start_time": "2023-06-18T12:32:56.690Z"
   },
   {
    "duration": 3,
    "start_time": "2023-06-18T12:32:57.095Z"
   },
   {
    "duration": 299,
    "start_time": "2023-06-18T12:32:57.494Z"
   },
   {
    "duration": 8,
    "start_time": "2023-06-18T12:33:00.630Z"
   },
   {
    "duration": 182,
    "start_time": "2023-06-18T12:33:01.016Z"
   },
   {
    "duration": 133,
    "start_time": "2023-06-18T12:33:01.403Z"
   },
   {
    "duration": 88,
    "start_time": "2023-06-18T12:33:01.828Z"
   },
   {
    "duration": 9,
    "start_time": "2023-06-18T12:33:02.239Z"
   },
   {
    "duration": 4,
    "start_time": "2023-06-18T12:33:02.695Z"
   },
   {
    "duration": 5,
    "start_time": "2023-06-18T12:33:03.140Z"
   },
   {
    "duration": 6,
    "start_time": "2023-06-18T12:33:05.427Z"
   },
   {
    "duration": 6,
    "start_time": "2023-06-18T12:33:05.825Z"
   },
   {
    "duration": 269,
    "start_time": "2023-06-18T12:33:07.530Z"
   },
   {
    "duration": 209,
    "start_time": "2023-06-18T12:33:09.147Z"
   },
   {
    "duration": 5,
    "start_time": "2023-06-18T12:33:10.342Z"
   },
   {
    "duration": 203,
    "start_time": "2023-06-18T12:33:10.734Z"
   },
   {
    "duration": 4,
    "start_time": "2023-06-18T12:33:11.953Z"
   },
   {
    "duration": 4,
    "start_time": "2023-06-18T12:33:12.330Z"
   },
   {
    "duration": 4,
    "start_time": "2023-06-18T12:33:12.700Z"
   },
   {
    "duration": 214,
    "start_time": "2023-06-18T12:33:13.041Z"
   },
   {
    "duration": 8,
    "start_time": "2023-06-18T12:33:14.134Z"
   },
   {
    "duration": 334,
    "start_time": "2023-06-18T12:33:14.496Z"
   },
   {
    "duration": 7,
    "start_time": "2023-06-18T12:33:16.332Z"
   },
   {
    "duration": 141,
    "start_time": "2023-06-18T12:33:16.692Z"
   },
   {
    "duration": 5,
    "start_time": "2023-06-18T12:33:17.798Z"
   },
   {
    "duration": 15,
    "start_time": "2023-06-18T12:33:19.229Z"
   },
   {
    "duration": 191,
    "start_time": "2023-06-18T12:33:19.613Z"
   },
   {
    "duration": 161,
    "start_time": "2023-06-18T12:33:20.391Z"
   },
   {
    "duration": 7,
    "start_time": "2023-06-18T12:33:22.312Z"
   },
   {
    "duration": 12,
    "start_time": "2023-06-18T12:33:24.921Z"
   },
   {
    "duration": 5,
    "start_time": "2023-06-18T12:33:25.291Z"
   },
   {
    "duration": 126,
    "start_time": "2023-06-18T12:33:25.632Z"
   },
   {
    "duration": 71,
    "start_time": "2023-06-18T12:33:26.005Z"
   },
   {
    "duration": 15,
    "start_time": "2023-06-18T12:33:26.397Z"
   },
   {
    "duration": 14,
    "start_time": "2023-06-18T12:33:26.745Z"
   },
   {
    "duration": 52,
    "start_time": "2023-06-18T12:33:27.115Z"
   },
   {
    "duration": 52,
    "start_time": "2023-06-18T12:33:27.527Z"
   },
   {
    "duration": 34,
    "start_time": "2023-06-18T12:33:28.397Z"
   },
   {
    "duration": 63,
    "start_time": "2023-06-18T12:33:28.833Z"
   },
   {
    "duration": 67,
    "start_time": "2023-06-18T12:33:29.245Z"
   },
   {
    "duration": 7,
    "start_time": "2023-06-18T12:33:29.835Z"
   },
   {
    "duration": 5,
    "start_time": "2023-06-18T12:33:30.293Z"
   },
   {
    "duration": 32,
    "start_time": "2023-06-18T12:33:31.087Z"
   },
   {
    "duration": 5,
    "start_time": "2023-06-18T12:33:31.431Z"
   },
   {
    "duration": 9,
    "start_time": "2023-06-18T12:33:33.589Z"
   },
   {
    "duration": 7,
    "start_time": "2023-06-18T12:33:34.034Z"
   },
   {
    "duration": 6,
    "start_time": "2023-06-18T12:33:36.938Z"
   },
   {
    "duration": 6,
    "start_time": "2023-06-18T12:33:37.302Z"
   },
   {
    "duration": 5,
    "start_time": "2023-06-18T12:33:37.698Z"
   },
   {
    "duration": 4,
    "start_time": "2023-06-18T12:33:38.093Z"
   },
   {
    "duration": 6,
    "start_time": "2023-06-18T12:33:39.203Z"
   },
   {
    "duration": 8,
    "start_time": "2023-06-18T12:33:39.943Z"
   },
   {
    "duration": 6,
    "start_time": "2023-06-18T12:33:40.304Z"
   },
   {
    "duration": 21,
    "start_time": "2023-06-18T12:33:40.690Z"
   },
   {
    "duration": 5,
    "start_time": "2023-06-18T12:33:41.095Z"
   },
   {
    "duration": 12,
    "start_time": "2023-06-18T12:33:42.482Z"
   },
   {
    "duration": 9,
    "start_time": "2023-06-18T12:33:42.828Z"
   },
   {
    "duration": 1793,
    "start_time": "2023-06-18T17:38:25.139Z"
   },
   {
    "duration": 130,
    "start_time": "2023-06-18T17:38:26.947Z"
   },
   {
    "duration": 33,
    "start_time": "2023-06-18T17:38:27.085Z"
   },
   {
    "duration": 4,
    "start_time": "2023-06-18T17:38:27.295Z"
   },
   {
    "duration": 29,
    "start_time": "2023-06-18T17:38:28.708Z"
   },
   {
    "duration": 18,
    "start_time": "2023-06-18T17:38:31.641Z"
   },
   {
    "duration": 18,
    "start_time": "2023-06-18T17:38:31.999Z"
   },
   {
    "duration": 15,
    "start_time": "2023-06-18T17:38:34.298Z"
   },
   {
    "duration": 33,
    "start_time": "2023-06-18T17:38:34.696Z"
   },
   {
    "duration": 421,
    "start_time": "2023-06-18T17:38:37.104Z"
   },
   {
    "duration": 43,
    "start_time": "2023-06-18T17:38:37.538Z"
   },
   {
    "duration": 30,
    "start_time": "2023-06-18T17:38:37.876Z"
   },
   {
    "duration": 10,
    "start_time": "2023-06-18T17:38:39.093Z"
   },
   {
    "duration": 15,
    "start_time": "2023-06-18T17:38:40.238Z"
   },
   {
    "duration": 17,
    "start_time": "2023-06-18T17:38:40.736Z"
   },
   {
    "duration": 18,
    "start_time": "2023-06-18T17:38:41.863Z"
   },
   {
    "duration": 26,
    "start_time": "2023-06-18T17:38:42.331Z"
   },
   {
    "duration": 28,
    "start_time": "2023-06-18T17:38:42.789Z"
   },
   {
    "duration": 43,
    "start_time": "2023-06-18T17:38:43.510Z"
   },
   {
    "duration": 13,
    "start_time": "2023-06-18T17:38:44.458Z"
   },
   {
    "duration": 10,
    "start_time": "2023-06-18T17:38:44.851Z"
   },
   {
    "duration": 6,
    "start_time": "2023-06-18T17:38:45.298Z"
   },
   {
    "duration": 9,
    "start_time": "2023-06-18T17:38:45.763Z"
   },
   {
    "duration": 20,
    "start_time": "2023-06-18T17:42:54.530Z"
   },
   {
    "duration": 28,
    "start_time": "2023-06-18T17:42:55.057Z"
   },
   {
    "duration": 40,
    "start_time": "2023-06-18T17:44:26.947Z"
   },
   {
    "duration": 16,
    "start_time": "2023-06-18T17:44:35.454Z"
   },
   {
    "duration": 149,
    "start_time": "2023-06-18T17:45:30.699Z"
   },
   {
    "duration": 231,
    "start_time": "2023-06-18T17:45:45.550Z"
   },
   {
    "duration": 155,
    "start_time": "2023-06-18T17:45:56.257Z"
   },
   {
    "duration": 11,
    "start_time": "2023-06-18T17:46:42.031Z"
   },
   {
    "duration": 211,
    "start_time": "2023-06-18T17:46:43.963Z"
   },
   {
    "duration": 15,
    "start_time": "2023-06-18T17:47:23.903Z"
   },
   {
    "duration": 51,
    "start_time": "2023-06-18T17:47:28.950Z"
   },
   {
    "duration": 16,
    "start_time": "2023-06-18T17:50:09.143Z"
   },
   {
    "duration": 18,
    "start_time": "2023-06-18T17:51:31.261Z"
   },
   {
    "duration": 0,
    "start_time": "2023-06-18T17:52:01.093Z"
   },
   {
    "duration": 2465,
    "start_time": "2023-06-18T17:52:03.774Z"
   },
   {
    "duration": 18,
    "start_time": "2023-06-18T17:52:10.225Z"
   },
   {
    "duration": 13,
    "start_time": "2023-06-18T17:52:21.091Z"
   },
   {
    "duration": 1396,
    "start_time": "2023-06-18T17:53:55.409Z"
   },
   {
    "duration": 58,
    "start_time": "2023-06-18T17:53:56.807Z"
   },
   {
    "duration": 41,
    "start_time": "2023-06-18T17:53:56.912Z"
   },
   {
    "duration": 5,
    "start_time": "2023-06-18T17:53:57.369Z"
   },
   {
    "duration": 28,
    "start_time": "2023-06-18T17:53:57.837Z"
   },
   {
    "duration": 87,
    "start_time": "2023-06-18T17:54:01.082Z"
   },
   {
    "duration": 13,
    "start_time": "2023-06-18T17:54:01.295Z"
   },
   {
    "duration": 5,
    "start_time": "2023-06-18T17:54:03.898Z"
   },
   {
    "duration": 26,
    "start_time": "2023-06-18T17:54:04.281Z"
   },
   {
    "duration": 112,
    "start_time": "2023-06-18T17:54:07.079Z"
   },
   {
    "duration": 16,
    "start_time": "2023-06-18T17:54:07.463Z"
   },
   {
    "duration": 30,
    "start_time": "2023-06-18T17:54:07.892Z"
   },
   {
    "duration": 39,
    "start_time": "2023-06-18T17:54:09.281Z"
   },
   {
    "duration": 15,
    "start_time": "2023-06-18T17:54:09.644Z"
   },
   {
    "duration": 16,
    "start_time": "2023-06-18T17:54:10.091Z"
   },
   {
    "duration": 10,
    "start_time": "2023-06-18T17:54:10.519Z"
   },
   {
    "duration": 14,
    "start_time": "2023-06-18T17:54:10.895Z"
   },
   {
    "duration": 38,
    "start_time": "2023-06-18T17:54:11.243Z"
   },
   {
    "duration": 46,
    "start_time": "2023-06-18T17:54:12.096Z"
   },
   {
    "duration": 14,
    "start_time": "2023-06-18T17:54:12.841Z"
   },
   {
    "duration": 11,
    "start_time": "2023-06-18T17:54:13.198Z"
   },
   {
    "duration": 9,
    "start_time": "2023-06-18T17:54:13.598Z"
   },
   {
    "duration": 9,
    "start_time": "2023-06-18T17:54:13.977Z"
   },
   {
    "duration": 28,
    "start_time": "2023-06-18T17:54:16.265Z"
   },
   {
    "duration": 7,
    "start_time": "2023-06-18T17:54:16.690Z"
   },
   {
    "duration": 6,
    "start_time": "2023-06-18T17:54:18.785Z"
   },
   {
    "duration": 6,
    "start_time": "2023-06-18T17:54:19.162Z"
   },
   {
    "duration": 13,
    "start_time": "2023-06-18T17:54:19.626Z"
   },
   {
    "duration": 510,
    "start_time": "2023-06-18T17:54:20.046Z"
   },
   {
    "duration": 13,
    "start_time": "2023-06-18T17:54:33.066Z"
   },
   {
    "duration": 396,
    "start_time": "2023-06-18T17:54:34.237Z"
   },
   {
    "duration": 244,
    "start_time": "2023-06-18T17:54:35.165Z"
   },
   {
    "duration": 22,
    "start_time": "2023-06-18T17:54:35.613Z"
   },
   {
    "duration": 48,
    "start_time": "2023-06-18T17:54:36.041Z"
   },
   {
    "duration": 16,
    "start_time": "2023-06-18T17:54:37.189Z"
   },
   {
    "duration": 7,
    "start_time": "2023-06-18T17:54:37.894Z"
   },
   {
    "duration": 11,
    "start_time": "2023-06-18T17:54:40.338Z"
   },
   {
    "duration": 13,
    "start_time": "2023-06-18T17:54:40.908Z"
   },
   {
    "duration": 387,
    "start_time": "2023-06-18T17:54:41.371Z"
   },
   {
    "duration": 466,
    "start_time": "2023-06-18T17:54:51.635Z"
   },
   {
    "duration": 17,
    "start_time": "2023-06-18T17:54:59.556Z"
   },
   {
    "duration": 305,
    "start_time": "2023-06-18T17:55:00.255Z"
   },
   {
    "duration": 20,
    "start_time": "2023-06-18T17:55:10.737Z"
   },
   {
    "duration": 10,
    "start_time": "2023-06-18T17:55:11.119Z"
   },
   {
    "duration": 7,
    "start_time": "2023-06-18T17:55:11.530Z"
   },
   {
    "duration": 359,
    "start_time": "2023-06-18T17:55:11.963Z"
   },
   {
    "duration": 14,
    "start_time": "2023-06-18T17:55:24.456Z"
   },
   {
    "duration": 430,
    "start_time": "2023-06-18T17:55:25.341Z"
   },
   {
    "duration": 6,
    "start_time": "2023-06-18T18:08:12.863Z"
   },
   {
    "duration": 191,
    "start_time": "2023-06-18T18:08:13.179Z"
   },
   {
    "duration": 8,
    "start_time": "2023-06-18T18:08:15.354Z"
   },
   {
    "duration": 14,
    "start_time": "2023-06-18T18:08:51.374Z"
   },
   {
    "duration": 182,
    "start_time": "2023-06-18T18:08:52.202Z"
   },
   {
    "duration": 178,
    "start_time": "2023-06-18T18:08:55.559Z"
   },
   {
    "duration": 6,
    "start_time": "2023-06-18T18:08:59.160Z"
   },
   {
    "duration": 5,
    "start_time": "2023-06-18T18:09:01.500Z"
   },
   {
    "duration": 5,
    "start_time": "2023-06-18T18:09:01.900Z"
   },
   {
    "duration": 156,
    "start_time": "2023-06-18T18:09:02.347Z"
   },
   {
    "duration": 56,
    "start_time": "2023-06-18T18:09:03.433Z"
   },
   {
    "duration": 18,
    "start_time": "2023-06-18T18:09:03.650Z"
   },
   {
    "duration": 39,
    "start_time": "2023-06-18T18:09:04.038Z"
   },
   {
    "duration": 73,
    "start_time": "2023-06-18T18:09:04.398Z"
   },
   {
    "duration": 52,
    "start_time": "2023-06-18T18:09:04.954Z"
   },
   {
    "duration": 39,
    "start_time": "2023-06-18T18:09:05.534Z"
   },
   {
    "duration": 71,
    "start_time": "2023-06-18T18:09:06.943Z"
   },
   {
    "duration": 96,
    "start_time": "2023-06-18T18:09:07.378Z"
   },
   {
    "duration": 7,
    "start_time": "2023-06-18T18:09:07.853Z"
   },
   {
    "duration": 18,
    "start_time": "2023-06-18T18:09:08.140Z"
   },
   {
    "duration": 21,
    "start_time": "2023-06-18T18:09:09.461Z"
   },
   {
    "duration": 6,
    "start_time": "2023-06-18T18:09:10.155Z"
   },
   {
    "duration": 11,
    "start_time": "2023-06-18T18:09:15.853Z"
   },
   {
    "duration": 8,
    "start_time": "2023-06-18T18:09:16.557Z"
   },
   {
    "duration": 11,
    "start_time": "2023-06-18T18:09:19.830Z"
   },
   {
    "duration": 6,
    "start_time": "2023-06-18T18:09:20.389Z"
   },
   {
    "duration": 5,
    "start_time": "2023-06-18T18:09:21.484Z"
   },
   {
    "duration": 6,
    "start_time": "2023-06-18T18:09:21.970Z"
   },
   {
    "duration": 31,
    "start_time": "2023-06-18T18:09:38.233Z"
   },
   {
    "duration": 6,
    "start_time": "2023-06-18T18:09:46.680Z"
   },
   {
    "duration": 8,
    "start_time": "2023-06-18T18:09:47.304Z"
   },
   {
    "duration": 32,
    "start_time": "2023-06-18T18:09:48.162Z"
   },
   {
    "duration": 14,
    "start_time": "2023-06-18T18:09:48.862Z"
   },
   {
    "duration": 12,
    "start_time": "2023-06-18T18:09:51.087Z"
   },
   {
    "duration": 94,
    "start_time": "2023-06-18T18:09:51.101Z"
   },
   {
    "duration": 3,
    "start_time": "2023-06-18T18:11:36.864Z"
   },
   {
    "duration": 28,
    "start_time": "2023-06-18T18:11:37.861Z"
   },
   {
    "duration": 11,
    "start_time": "2023-06-18T18:11:38.655Z"
   },
   {
    "duration": 13,
    "start_time": "2023-06-18T18:11:39.036Z"
   },
   {
    "duration": 22,
    "start_time": "2023-06-18T18:11:39.428Z"
   },
   {
    "duration": 5,
    "start_time": "2023-06-18T18:11:42.207Z"
   },
   {
    "duration": 9,
    "start_time": "2023-06-18T18:11:42.559Z"
   },
   {
    "duration": 16,
    "start_time": "2023-06-18T18:11:45.137Z"
   },
   {
    "duration": 11,
    "start_time": "2023-06-18T18:11:46.660Z"
   },
   {
    "duration": 88,
    "start_time": "2023-06-18T18:11:48.859Z"
   },
   {
    "duration": 19,
    "start_time": "2023-06-18T18:11:49.236Z"
   },
   {
    "duration": 20,
    "start_time": "2023-06-18T18:11:49.640Z"
   },
   {
    "duration": 20,
    "start_time": "2023-06-18T18:11:51.237Z"
   },
   {
    "duration": 8,
    "start_time": "2023-06-18T18:11:51.599Z"
   },
   {
    "duration": 5,
    "start_time": "2023-06-18T18:11:52.665Z"
   },
   {
    "duration": 4,
    "start_time": "2023-06-18T18:11:53.079Z"
   },
   {
    "duration": 8,
    "start_time": "2023-06-18T18:11:53.524Z"
   },
   {
    "duration": 12,
    "start_time": "2023-06-18T18:11:53.600Z"
   },
   {
    "duration": 21,
    "start_time": "2023-06-18T18:11:55.207Z"
   },
   {
    "duration": 1299,
    "start_time": "2023-06-18T18:12:07.069Z"
   },
   {
    "duration": 48,
    "start_time": "2023-06-18T18:12:09.504Z"
   },
   {
    "duration": 46,
    "start_time": "2023-06-18T18:12:09.842Z"
   },
   {
    "duration": 11,
    "start_time": "2023-06-18T18:12:10.212Z"
   },
   {
    "duration": 15,
    "start_time": "2023-06-18T18:12:11.177Z"
   },
   {
    "duration": 8,
    "start_time": "2023-06-18T18:12:13.978Z"
   },
   {
    "duration": 17,
    "start_time": "2023-06-18T18:12:14.405Z"
   },
   {
    "duration": 14,
    "start_time": "2023-06-18T18:12:17.354Z"
   },
   {
    "duration": 10,
    "start_time": "2023-06-18T18:12:17.781Z"
   },
   {
    "duration": 88,
    "start_time": "2023-06-18T18:12:21.405Z"
   },
   {
    "duration": 20,
    "start_time": "2023-06-18T18:12:21.608Z"
   },
   {
    "duration": 18,
    "start_time": "2023-06-18T18:12:22.800Z"
   },
   {
    "duration": 27,
    "start_time": "2023-06-18T18:12:23.650Z"
   },
   {
    "duration": 18,
    "start_time": "2023-06-18T18:12:24.042Z"
   },
   {
    "duration": 8,
    "start_time": "2023-06-18T18:12:25.621Z"
   },
   {
    "duration": 4,
    "start_time": "2023-06-18T18:12:26.000Z"
   },
   {
    "duration": 10,
    "start_time": "2023-06-18T18:12:26.344Z"
   },
   {
    "duration": 16,
    "start_time": "2023-06-18T18:12:26.867Z"
   },
   {
    "duration": 40,
    "start_time": "2023-06-18T18:12:27.618Z"
   },
   {
    "duration": 11,
    "start_time": "2023-06-18T18:12:28.608Z"
   },
   {
    "duration": 4,
    "start_time": "2023-06-18T18:12:28.962Z"
   },
   {
    "duration": 9,
    "start_time": "2023-06-18T18:12:29.340Z"
   },
   {
    "duration": 12,
    "start_time": "2023-06-18T18:12:29.744Z"
   },
   {
    "duration": 9,
    "start_time": "2023-06-18T18:12:32.155Z"
   },
   {
    "duration": 11,
    "start_time": "2023-06-18T18:12:32.643Z"
   },
   {
    "duration": 4,
    "start_time": "2023-06-18T18:12:34.701Z"
   },
   {
    "duration": 4,
    "start_time": "2023-06-18T18:12:34.905Z"
   },
   {
    "duration": 11,
    "start_time": "2023-06-18T18:12:35.142Z"
   },
   {
    "duration": 345,
    "start_time": "2023-06-18T18:12:35.563Z"
   },
   {
    "duration": 6,
    "start_time": "2023-06-18T18:12:57.388Z"
   },
   {
    "duration": 181,
    "start_time": "2023-06-18T18:12:57.848Z"
   },
   {
    "duration": 133,
    "start_time": "2023-06-18T18:12:58.348Z"
   },
   {
    "duration": 7,
    "start_time": "2023-06-18T18:12:58.996Z"
   },
   {
    "duration": 9,
    "start_time": "2023-06-18T18:12:59.054Z"
   },
   {
    "duration": 7,
    "start_time": "2023-06-18T18:12:59.448Z"
   },
   {
    "duration": 5,
    "start_time": "2023-06-18T18:13:01.007Z"
   },
   {
    "duration": 6,
    "start_time": "2023-06-18T18:13:06.285Z"
   },
   {
    "duration": 5,
    "start_time": "2023-06-18T18:13:06.704Z"
   },
   {
    "duration": 223,
    "start_time": "2023-06-18T18:13:07.250Z"
   },
   {
    "duration": 257,
    "start_time": "2023-06-18T18:13:09.501Z"
   },
   {
    "duration": 6,
    "start_time": "2023-06-18T18:13:11.288Z"
   },
   {
    "duration": 245,
    "start_time": "2023-06-18T18:13:11.618Z"
   },
   {
    "duration": 4,
    "start_time": "2023-06-18T18:13:13.956Z"
   },
   {
    "duration": 4,
    "start_time": "2023-06-18T18:13:14.296Z"
   },
   {
    "duration": 7,
    "start_time": "2023-06-18T18:13:14.664Z"
   },
   {
    "duration": 238,
    "start_time": "2023-06-18T18:13:15.033Z"
   },
   {
    "duration": 8,
    "start_time": "2023-06-18T18:13:17.580Z"
   },
   {
    "duration": 380,
    "start_time": "2023-06-18T18:13:17.600Z"
   },
   {
    "duration": 14,
    "start_time": "2023-06-18T18:13:21.508Z"
   },
   {
    "duration": 151,
    "start_time": "2023-06-18T18:13:21.852Z"
   },
   {
    "duration": 14,
    "start_time": "2023-06-18T18:13:23.734Z"
   },
   {
    "duration": 13,
    "start_time": "2023-06-18T18:13:25.798Z"
   },
   {
    "duration": 163,
    "start_time": "2023-06-18T18:13:26.908Z"
   },
   {
    "duration": 146,
    "start_time": "2023-06-18T18:13:28.292Z"
   },
   {
    "duration": 8,
    "start_time": "2023-06-18T18:13:34.540Z"
   },
   {
    "duration": 6,
    "start_time": "2023-06-18T18:13:36.545Z"
   },
   {
    "duration": 5,
    "start_time": "2023-06-18T18:13:37.000Z"
   },
   {
    "duration": 153,
    "start_time": "2023-06-18T18:13:37.008Z"
   },
   {
    "duration": 54,
    "start_time": "2023-06-18T18:13:37.288Z"
   },
   {
    "duration": 16,
    "start_time": "2023-06-18T18:13:37.679Z"
   },
   {
    "duration": 14,
    "start_time": "2023-06-18T18:13:38.180Z"
   },
   {
    "duration": 79,
    "start_time": "2023-06-18T18:13:38.600Z"
   },
   {
    "duration": 51,
    "start_time": "2023-06-18T18:13:38.681Z"
   },
   {
    "duration": 36,
    "start_time": "2023-06-18T18:13:39.034Z"
   },
   {
    "duration": 68,
    "start_time": "2023-06-18T18:13:39.300Z"
   },
   {
    "duration": 100,
    "start_time": "2023-06-18T18:13:39.728Z"
   },
   {
    "duration": 10,
    "start_time": "2023-06-18T18:13:40.631Z"
   },
   {
    "duration": 5,
    "start_time": "2023-06-18T18:13:40.954Z"
   },
   {
    "duration": 33,
    "start_time": "2023-06-18T18:13:41.693Z"
   },
   {
    "duration": 5,
    "start_time": "2023-06-18T18:13:42.094Z"
   },
   {
    "duration": 10,
    "start_time": "2023-06-18T18:13:43.480Z"
   },
   {
    "duration": 20,
    "start_time": "2023-06-18T18:13:43.809Z"
   },
   {
    "duration": 6,
    "start_time": "2023-06-18T18:13:45.457Z"
   },
   {
    "duration": 8,
    "start_time": "2023-06-18T18:13:45.836Z"
   },
   {
    "duration": 12,
    "start_time": "2023-06-18T18:13:46.730Z"
   },
   {
    "duration": 5,
    "start_time": "2023-06-18T18:13:47.340Z"
   },
   {
    "duration": 5,
    "start_time": "2023-06-18T18:13:48.796Z"
   },
   {
    "duration": 12,
    "start_time": "2023-06-18T18:13:50.348Z"
   },
   {
    "duration": 9,
    "start_time": "2023-06-18T18:13:50.732Z"
   },
   {
    "duration": 22,
    "start_time": "2023-06-18T18:13:52.290Z"
   },
   {
    "duration": 8,
    "start_time": "2023-06-18T18:13:52.837Z"
   },
   {
    "duration": 13,
    "start_time": "2023-06-18T18:13:54.656Z"
   },
   {
    "duration": 13,
    "start_time": "2023-06-18T18:13:55.112Z"
   },
   {
    "duration": 1091,
    "start_time": "2023-06-18T18:58:54.198Z"
   },
   {
    "duration": 26,
    "start_time": "2023-06-18T18:58:55.291Z"
   },
   {
    "duration": 11,
    "start_time": "2023-06-18T18:58:55.319Z"
   },
   {
    "duration": 4,
    "start_time": "2023-06-18T18:58:55.332Z"
   },
   {
    "duration": 23,
    "start_time": "2023-06-18T18:58:55.338Z"
   },
   {
    "duration": 5,
    "start_time": "2023-06-18T18:58:55.363Z"
   },
   {
    "duration": 14,
    "start_time": "2023-06-18T18:58:55.370Z"
   },
   {
    "duration": 8,
    "start_time": "2023-06-18T18:58:55.385Z"
   },
   {
    "duration": 10,
    "start_time": "2023-06-18T18:58:55.395Z"
   },
   {
    "duration": 58,
    "start_time": "2023-06-18T18:58:55.408Z"
   },
   {
    "duration": 11,
    "start_time": "2023-06-18T18:58:55.467Z"
   },
   {
    "duration": 16,
    "start_time": "2023-06-18T18:58:55.479Z"
   },
   {
    "duration": 10,
    "start_time": "2023-06-18T18:58:55.496Z"
   },
   {
    "duration": 13,
    "start_time": "2023-06-18T18:58:55.507Z"
   },
   {
    "duration": 5,
    "start_time": "2023-06-18T18:58:55.521Z"
   },
   {
    "duration": 5,
    "start_time": "2023-06-18T18:58:55.527Z"
   },
   {
    "duration": 10,
    "start_time": "2023-06-18T18:58:55.533Z"
   },
   {
    "duration": 24,
    "start_time": "2023-06-18T18:58:55.544Z"
   },
   {
    "duration": 19,
    "start_time": "2023-06-18T18:58:55.570Z"
   },
   {
    "duration": 5,
    "start_time": "2023-06-18T18:58:55.591Z"
   },
   {
    "duration": 6,
    "start_time": "2023-06-18T18:58:55.598Z"
   },
   {
    "duration": 8,
    "start_time": "2023-06-18T18:58:55.605Z"
   },
   {
    "duration": 6,
    "start_time": "2023-06-18T18:58:55.615Z"
   },
   {
    "duration": 9,
    "start_time": "2023-06-18T18:58:55.623Z"
   },
   {
    "duration": 5,
    "start_time": "2023-06-18T18:58:55.634Z"
   },
   {
    "duration": 123,
    "start_time": "2023-06-18T18:58:55.641Z"
   },
   {
    "duration": 0,
    "start_time": "2023-06-18T18:58:55.767Z"
   },
   {
    "duration": 0,
    "start_time": "2023-06-18T18:58:55.768Z"
   },
   {
    "duration": 0,
    "start_time": "2023-06-18T18:58:55.769Z"
   },
   {
    "duration": 0,
    "start_time": "2023-06-18T18:58:55.770Z"
   },
   {
    "duration": 0,
    "start_time": "2023-06-18T18:58:55.771Z"
   },
   {
    "duration": 0,
    "start_time": "2023-06-18T18:58:55.772Z"
   },
   {
    "duration": 0,
    "start_time": "2023-06-18T18:58:55.774Z"
   },
   {
    "duration": 0,
    "start_time": "2023-06-18T18:58:55.775Z"
   },
   {
    "duration": 0,
    "start_time": "2023-06-18T18:58:55.776Z"
   },
   {
    "duration": 0,
    "start_time": "2023-06-18T18:58:55.777Z"
   },
   {
    "duration": 0,
    "start_time": "2023-06-18T18:58:55.779Z"
   },
   {
    "duration": 0,
    "start_time": "2023-06-18T18:58:55.780Z"
   },
   {
    "duration": 0,
    "start_time": "2023-06-18T18:58:55.780Z"
   },
   {
    "duration": 0,
    "start_time": "2023-06-18T18:58:55.782Z"
   },
   {
    "duration": 0,
    "start_time": "2023-06-18T18:58:55.783Z"
   },
   {
    "duration": 0,
    "start_time": "2023-06-18T18:58:55.784Z"
   },
   {
    "duration": 0,
    "start_time": "2023-06-18T18:58:55.785Z"
   },
   {
    "duration": 0,
    "start_time": "2023-06-18T18:58:55.787Z"
   },
   {
    "duration": 0,
    "start_time": "2023-06-18T18:58:55.787Z"
   },
   {
    "duration": 0,
    "start_time": "2023-06-18T18:58:55.788Z"
   },
   {
    "duration": 0,
    "start_time": "2023-06-18T18:58:55.790Z"
   },
   {
    "duration": 0,
    "start_time": "2023-06-18T18:58:55.791Z"
   },
   {
    "duration": 0,
    "start_time": "2023-06-18T18:58:55.791Z"
   },
   {
    "duration": 0,
    "start_time": "2023-06-18T18:58:55.793Z"
   },
   {
    "duration": 0,
    "start_time": "2023-06-18T18:58:55.794Z"
   },
   {
    "duration": 0,
    "start_time": "2023-06-18T18:58:55.795Z"
   },
   {
    "duration": 0,
    "start_time": "2023-06-18T18:58:55.796Z"
   },
   {
    "duration": 0,
    "start_time": "2023-06-18T18:58:55.797Z"
   },
   {
    "duration": 0,
    "start_time": "2023-06-18T18:58:55.798Z"
   },
   {
    "duration": 0,
    "start_time": "2023-06-18T18:58:55.799Z"
   },
   {
    "duration": 0,
    "start_time": "2023-06-18T18:58:55.800Z"
   },
   {
    "duration": 0,
    "start_time": "2023-06-18T18:58:55.801Z"
   },
   {
    "duration": 0,
    "start_time": "2023-06-18T18:58:55.802Z"
   },
   {
    "duration": 0,
    "start_time": "2023-06-18T18:58:55.803Z"
   },
   {
    "duration": 0,
    "start_time": "2023-06-18T18:58:55.804Z"
   },
   {
    "duration": 0,
    "start_time": "2023-06-18T18:58:55.805Z"
   },
   {
    "duration": 0,
    "start_time": "2023-06-18T18:58:55.806Z"
   },
   {
    "duration": 0,
    "start_time": "2023-06-18T18:58:55.852Z"
   },
   {
    "duration": 0,
    "start_time": "2023-06-18T18:58:55.853Z"
   },
   {
    "duration": 0,
    "start_time": "2023-06-18T18:58:55.853Z"
   },
   {
    "duration": 0,
    "start_time": "2023-06-18T18:58:55.855Z"
   },
   {
    "duration": 0,
    "start_time": "2023-06-18T18:58:55.858Z"
   },
   {
    "duration": 0,
    "start_time": "2023-06-18T18:58:55.859Z"
   },
   {
    "duration": 0,
    "start_time": "2023-06-18T18:58:55.859Z"
   },
   {
    "duration": 0,
    "start_time": "2023-06-18T18:58:55.860Z"
   },
   {
    "duration": 0,
    "start_time": "2023-06-18T18:58:55.860Z"
   },
   {
    "duration": 0,
    "start_time": "2023-06-18T18:58:55.861Z"
   },
   {
    "duration": 0,
    "start_time": "2023-06-18T18:58:55.862Z"
   },
   {
    "duration": 0,
    "start_time": "2023-06-18T18:58:55.862Z"
   },
   {
    "duration": 0,
    "start_time": "2023-06-18T18:58:55.863Z"
   },
   {
    "duration": 0,
    "start_time": "2023-06-18T18:58:55.863Z"
   },
   {
    "duration": 0,
    "start_time": "2023-06-18T18:58:55.864Z"
   },
   {
    "duration": 0,
    "start_time": "2023-06-18T18:58:55.865Z"
   },
   {
    "duration": 0,
    "start_time": "2023-06-18T18:58:55.866Z"
   },
   {
    "duration": 0,
    "start_time": "2023-06-18T18:58:55.867Z"
   },
   {
    "duration": 0,
    "start_time": "2023-06-18T18:58:55.868Z"
   },
   {
    "duration": 0,
    "start_time": "2023-06-18T18:58:55.869Z"
   },
   {
    "duration": 0,
    "start_time": "2023-06-18T18:58:55.870Z"
   },
   {
    "duration": 1093,
    "start_time": "2023-06-18T18:59:15.699Z"
   },
   {
    "duration": 27,
    "start_time": "2023-06-18T18:59:16.794Z"
   },
   {
    "duration": 12,
    "start_time": "2023-06-18T18:59:16.823Z"
   },
   {
    "duration": 10,
    "start_time": "2023-06-18T18:59:16.837Z"
   },
   {
    "duration": 32,
    "start_time": "2023-06-18T18:59:16.849Z"
   },
   {
    "duration": 7,
    "start_time": "2023-06-18T18:59:16.882Z"
   },
   {
    "duration": 11,
    "start_time": "2023-06-18T18:59:16.890Z"
   },
   {
    "duration": 13,
    "start_time": "2023-06-18T18:59:16.902Z"
   },
   {
    "duration": 15,
    "start_time": "2023-06-18T18:59:16.916Z"
   },
   {
    "duration": 59,
    "start_time": "2023-06-18T18:59:16.933Z"
   },
   {
    "duration": 10,
    "start_time": "2023-06-18T18:59:16.994Z"
   },
   {
    "duration": 17,
    "start_time": "2023-06-18T18:59:17.005Z"
   },
   {
    "duration": 12,
    "start_time": "2023-06-18T18:59:17.024Z"
   },
   {
    "duration": 12,
    "start_time": "2023-06-18T18:59:17.037Z"
   },
   {
    "duration": 14,
    "start_time": "2023-06-18T18:59:17.053Z"
   },
   {
    "duration": 6,
    "start_time": "2023-06-18T18:59:17.068Z"
   },
   {
    "duration": 9,
    "start_time": "2023-06-18T18:59:17.075Z"
   },
   {
    "duration": 29,
    "start_time": "2023-06-18T18:59:17.085Z"
   },
   {
    "duration": 19,
    "start_time": "2023-06-18T18:59:17.115Z"
   },
   {
    "duration": 5,
    "start_time": "2023-06-18T18:59:17.136Z"
   },
   {
    "duration": 7,
    "start_time": "2023-06-18T18:59:17.142Z"
   },
   {
    "duration": 18,
    "start_time": "2023-06-18T18:59:17.151Z"
   },
   {
    "duration": 7,
    "start_time": "2023-06-18T18:59:17.171Z"
   },
   {
    "duration": 15,
    "start_time": "2023-06-18T18:59:17.179Z"
   },
   {
    "duration": 6,
    "start_time": "2023-06-18T18:59:17.195Z"
   },
   {
    "duration": 5,
    "start_time": "2023-06-18T18:59:17.202Z"
   },
   {
    "duration": 4,
    "start_time": "2023-06-18T18:59:17.208Z"
   },
   {
    "duration": 3,
    "start_time": "2023-06-18T18:59:17.216Z"
   },
   {
    "duration": 300,
    "start_time": "2023-06-18T18:59:17.220Z"
   },
   {
    "duration": 6,
    "start_time": "2023-06-18T18:59:17.522Z"
   },
   {
    "duration": 171,
    "start_time": "2023-06-18T18:59:17.529Z"
   },
   {
    "duration": 117,
    "start_time": "2023-06-18T18:59:17.702Z"
   },
   {
    "duration": 6,
    "start_time": "2023-06-18T18:59:17.821Z"
   },
   {
    "duration": 11,
    "start_time": "2023-06-18T18:59:17.828Z"
   },
   {
    "duration": 11,
    "start_time": "2023-06-18T18:59:17.855Z"
   },
   {
    "duration": 6,
    "start_time": "2023-06-18T18:59:17.868Z"
   },
   {
    "duration": 5,
    "start_time": "2023-06-18T18:59:17.876Z"
   },
   {
    "duration": 7,
    "start_time": "2023-06-18T18:59:17.882Z"
   },
   {
    "duration": 206,
    "start_time": "2023-06-18T18:59:17.891Z"
   },
   {
    "duration": 232,
    "start_time": "2023-06-18T18:59:18.099Z"
   },
   {
    "duration": 6,
    "start_time": "2023-06-18T18:59:18.333Z"
   },
   {
    "duration": 197,
    "start_time": "2023-06-18T18:59:18.340Z"
   },
   {
    "duration": 4,
    "start_time": "2023-06-18T18:59:18.538Z"
   },
   {
    "duration": 7,
    "start_time": "2023-06-18T18:59:18.557Z"
   },
   {
    "duration": 5,
    "start_time": "2023-06-18T18:59:18.566Z"
   },
   {
    "duration": 208,
    "start_time": "2023-06-18T18:59:18.572Z"
   },
   {
    "duration": 8,
    "start_time": "2023-06-18T18:59:18.782Z"
   },
   {
    "duration": 301,
    "start_time": "2023-06-18T18:59:18.791Z"
   },
   {
    "duration": 6,
    "start_time": "2023-06-18T18:59:19.093Z"
   },
   {
    "duration": 138,
    "start_time": "2023-06-18T18:59:19.100Z"
   },
   {
    "duration": 23,
    "start_time": "2023-06-18T18:59:19.240Z"
   },
   {
    "duration": 12,
    "start_time": "2023-06-18T18:59:19.265Z"
   },
   {
    "duration": 129,
    "start_time": "2023-06-18T18:59:19.278Z"
   },
   {
    "duration": 193,
    "start_time": "2023-06-18T18:59:19.408Z"
   },
   {
    "duration": 5,
    "start_time": "2023-06-18T18:59:19.603Z"
   },
   {
    "duration": 5,
    "start_time": "2023-06-18T18:59:19.609Z"
   },
   {
    "duration": 7,
    "start_time": "2023-06-18T18:59:19.615Z"
   },
   {
    "duration": 63,
    "start_time": "2023-06-18T18:59:19.623Z"
   },
   {
    "duration": 43,
    "start_time": "2023-06-18T18:59:19.688Z"
   },
   {
    "duration": 25,
    "start_time": "2023-06-18T18:59:19.732Z"
   },
   {
    "duration": 34,
    "start_time": "2023-06-18T18:59:19.758Z"
   },
   {
    "duration": 49,
    "start_time": "2023-06-18T18:59:19.794Z"
   },
   {
    "duration": 60,
    "start_time": "2023-06-18T18:59:19.845Z"
   },
   {
    "duration": 27,
    "start_time": "2023-06-18T18:59:19.906Z"
   },
   {
    "duration": 71,
    "start_time": "2023-06-18T18:59:19.934Z"
   },
   {
    "duration": 75,
    "start_time": "2023-06-18T18:59:20.007Z"
   },
   {
    "duration": 5,
    "start_time": "2023-06-18T18:59:20.083Z"
   },
   {
    "duration": 18,
    "start_time": "2023-06-18T18:59:20.090Z"
   },
   {
    "duration": 33,
    "start_time": "2023-06-18T18:59:20.110Z"
   },
   {
    "duration": 6,
    "start_time": "2023-06-18T18:59:20.145Z"
   },
   {
    "duration": 11,
    "start_time": "2023-06-18T18:59:20.158Z"
   },
   {
    "duration": 6,
    "start_time": "2023-06-18T18:59:20.170Z"
   },
   {
    "duration": 5,
    "start_time": "2023-06-18T18:59:20.178Z"
   },
   {
    "duration": 6,
    "start_time": "2023-06-18T18:59:20.184Z"
   },
   {
    "duration": 22,
    "start_time": "2023-06-18T18:59:20.191Z"
   },
   {
    "duration": 10,
    "start_time": "2023-06-18T18:59:20.214Z"
   },
   {
    "duration": 12,
    "start_time": "2023-06-18T18:59:20.225Z"
   },
   {
    "duration": 28,
    "start_time": "2023-06-18T18:59:20.238Z"
   },
   {
    "duration": 26,
    "start_time": "2023-06-18T18:59:20.268Z"
   },
   {
    "duration": 39,
    "start_time": "2023-06-18T18:59:20.296Z"
   },
   {
    "duration": 4,
    "start_time": "2023-06-18T18:59:20.336Z"
   },
   {
    "duration": 13,
    "start_time": "2023-06-18T18:59:20.344Z"
   },
   {
    "duration": 17,
    "start_time": "2023-06-18T18:59:20.364Z"
   },
   {
    "duration": 14,
    "start_time": "2023-06-18T19:00:11.798Z"
   },
   {
    "duration": 4,
    "start_time": "2023-06-18T19:06:02.112Z"
   },
   {
    "duration": 1336,
    "start_time": "2023-06-18T19:06:08.204Z"
   },
   {
    "duration": 29,
    "start_time": "2023-06-18T19:06:09.546Z"
   },
   {
    "duration": 18,
    "start_time": "2023-06-18T19:06:09.577Z"
   },
   {
    "duration": 4,
    "start_time": "2023-06-18T19:06:10.395Z"
   },
   {
    "duration": 13,
    "start_time": "2023-06-18T19:06:10.764Z"
   },
   {
    "duration": 7,
    "start_time": "2023-06-18T19:06:14.764Z"
   },
   {
    "duration": 19,
    "start_time": "2023-06-18T19:06:15.213Z"
   },
   {
    "duration": 15,
    "start_time": "2023-06-18T19:06:18.010Z"
   },
   {
    "duration": 12,
    "start_time": "2023-06-18T19:06:18.366Z"
   },
   {
    "duration": 93,
    "start_time": "2023-06-18T19:06:21.617Z"
   },
   {
    "duration": 15,
    "start_time": "2023-06-18T19:06:21.940Z"
   },
   {
    "duration": 16,
    "start_time": "2023-06-18T19:06:22.740Z"
   },
   {
    "duration": 15,
    "start_time": "2023-06-18T19:06:23.841Z"
   },
   {
    "duration": 8,
    "start_time": "2023-06-18T19:06:24.199Z"
   },
   {
    "duration": 5,
    "start_time": "2023-06-18T19:06:24.601Z"
   },
   {
    "duration": 5,
    "start_time": "2023-06-18T19:06:25.353Z"
   },
   {
    "duration": 7,
    "start_time": "2023-06-18T19:06:25.714Z"
   },
   {
    "duration": 11,
    "start_time": "2023-06-18T19:06:26.072Z"
   },
   {
    "duration": 17,
    "start_time": "2023-06-18T19:06:26.434Z"
   },
   {
    "duration": 4,
    "start_time": "2023-06-18T19:06:27.601Z"
   },
   {
    "duration": 12,
    "start_time": "2023-06-18T19:06:27.945Z"
   },
   {
    "duration": 4,
    "start_time": "2023-06-18T19:06:28.301Z"
   },
   {
    "duration": 7,
    "start_time": "2023-06-18T19:06:28.657Z"
   },
   {
    "duration": 10,
    "start_time": "2023-06-18T19:06:30.599Z"
   },
   {
    "duration": 15,
    "start_time": "2023-06-18T19:06:31.010Z"
   },
   {
    "duration": 6,
    "start_time": "2023-06-18T19:10:08.779Z"
   },
   {
    "duration": 31,
    "start_time": "2023-06-18T19:10:23.055Z"
   },
   {
    "duration": 7,
    "start_time": "2023-06-18T19:10:38.798Z"
   },
   {
    "duration": 14,
    "start_time": "2023-06-18T19:11:05.534Z"
   },
   {
    "duration": 7,
    "start_time": "2023-06-18T19:11:42.590Z"
   },
   {
    "duration": 11,
    "start_time": "2023-06-18T19:11:44.296Z"
   },
   {
    "duration": 7,
    "start_time": "2023-06-18T19:11:45.417Z"
   },
   {
    "duration": 11,
    "start_time": "2023-06-18T19:11:51.410Z"
   },
   {
    "duration": 4,
    "start_time": "2023-06-18T19:12:07.500Z"
   },
   {
    "duration": 20,
    "start_time": "2023-06-18T19:12:08.048Z"
   },
   {
    "duration": 408,
    "start_time": "2023-06-18T19:12:09.197Z"
   },
   {
    "duration": 1478,
    "start_time": "2023-06-18T19:14:47.611Z"
   },
   {
    "duration": 61,
    "start_time": "2023-06-18T19:14:49.091Z"
   },
   {
    "duration": 73,
    "start_time": "2023-06-18T19:14:49.154Z"
   },
   {
    "duration": 5,
    "start_time": "2023-06-18T19:14:49.541Z"
   },
   {
    "duration": 21,
    "start_time": "2023-06-18T19:14:49.904Z"
   },
   {
    "duration": 6,
    "start_time": "2023-06-18T19:14:52.605Z"
   },
   {
    "duration": 13,
    "start_time": "2023-06-18T19:14:52.947Z"
   },
   {
    "duration": 14,
    "start_time": "2023-06-18T19:14:55.132Z"
   },
   {
    "duration": 24,
    "start_time": "2023-06-18T19:14:55.460Z"
   },
   {
    "duration": 87,
    "start_time": "2023-06-18T19:14:57.111Z"
   },
   {
    "duration": 20,
    "start_time": "2023-06-18T19:14:57.452Z"
   },
   {
    "duration": 12,
    "start_time": "2023-06-18T19:14:57.774Z"
   },
   {
    "duration": 11,
    "start_time": "2023-06-18T19:14:58.840Z"
   },
   {
    "duration": 9,
    "start_time": "2023-06-18T19:14:59.814Z"
   },
   {
    "duration": 9,
    "start_time": "2023-06-18T19:15:00.566Z"
   },
   {
    "duration": 4,
    "start_time": "2023-06-18T19:15:00.907Z"
   },
   {
    "duration": 8,
    "start_time": "2023-06-18T19:15:01.253Z"
   },
   {
    "duration": 29,
    "start_time": "2023-06-18T19:15:01.640Z"
   },
   {
    "duration": 20,
    "start_time": "2023-06-18T19:15:01.969Z"
   },
   {
    "duration": 6,
    "start_time": "2023-06-18T19:15:03.483Z"
   },
   {
    "duration": 5,
    "start_time": "2023-06-18T19:15:03.804Z"
   },
   {
    "duration": 6,
    "start_time": "2023-06-18T19:15:04.190Z"
   },
   {
    "duration": 8,
    "start_time": "2023-06-18T19:15:04.583Z"
   },
   {
    "duration": 12,
    "start_time": "2023-06-18T19:15:06.496Z"
   },
   {
    "duration": 8,
    "start_time": "2023-06-18T19:15:07.095Z"
   },
   {
    "duration": 6,
    "start_time": "2023-06-18T19:15:21.978Z"
   },
   {
    "duration": 12,
    "start_time": "2023-06-18T19:15:24.848Z"
   },
   {
    "duration": 132,
    "start_time": "2023-06-18T19:18:56.247Z"
   },
   {
    "duration": 8,
    "start_time": "2023-06-18T19:19:04.666Z"
   },
   {
    "duration": 14,
    "start_time": "2023-06-18T19:19:08.207Z"
   },
   {
    "duration": 21,
    "start_time": "2023-06-18T19:19:09.144Z"
   },
   {
    "duration": 13,
    "start_time": "2023-06-18T19:19:57.313Z"
   },
   {
    "duration": 1221,
    "start_time": "2023-06-18T19:20:08.045Z"
   },
   {
    "duration": 31,
    "start_time": "2023-06-18T19:20:09.441Z"
   },
   {
    "duration": 21,
    "start_time": "2023-06-18T19:20:09.799Z"
   },
   {
    "duration": 3,
    "start_time": "2023-06-18T19:20:10.193Z"
   },
   {
    "duration": 19,
    "start_time": "2023-06-18T19:20:10.542Z"
   },
   {
    "duration": 8,
    "start_time": "2023-06-18T19:20:13.242Z"
   },
   {
    "duration": 18,
    "start_time": "2023-06-18T19:20:13.932Z"
   },
   {
    "duration": 5,
    "start_time": "2023-06-18T19:20:15.700Z"
   },
   {
    "duration": 18,
    "start_time": "2023-06-18T19:20:16.007Z"
   },
   {
    "duration": 89,
    "start_time": "2023-06-18T19:20:17.801Z"
   },
   {
    "duration": 19,
    "start_time": "2023-06-18T19:20:18.134Z"
   },
   {
    "duration": 11,
    "start_time": "2023-06-18T19:20:18.500Z"
   },
   {
    "duration": 19,
    "start_time": "2023-06-18T19:20:19.619Z"
   },
   {
    "duration": 17,
    "start_time": "2023-06-18T19:20:20.000Z"
   },
   {
    "duration": 6,
    "start_time": "2023-06-18T19:20:20.400Z"
   },
   {
    "duration": 4,
    "start_time": "2023-06-18T19:20:20.755Z"
   },
   {
    "duration": 4,
    "start_time": "2023-06-18T19:20:21.100Z"
   },
   {
    "duration": 17,
    "start_time": "2023-06-18T19:20:21.445Z"
   },
   {
    "duration": 12,
    "start_time": "2023-06-18T19:20:22.549Z"
   },
   {
    "duration": 5,
    "start_time": "2023-06-18T19:20:23.300Z"
   },
   {
    "duration": 9,
    "start_time": "2023-06-18T19:20:23.638Z"
   },
   {
    "duration": 9,
    "start_time": "2023-06-18T19:20:24.041Z"
   },
   {
    "duration": 8,
    "start_time": "2023-06-18T19:20:24.502Z"
   },
   {
    "duration": 11,
    "start_time": "2023-06-18T19:20:26.862Z"
   },
   {
    "duration": 7,
    "start_time": "2023-06-18T19:20:27.255Z"
   },
   {
    "duration": 5,
    "start_time": "2023-06-18T19:20:30.354Z"
   },
   {
    "duration": 31,
    "start_time": "2023-06-18T19:20:32.395Z"
   },
   {
    "duration": 4,
    "start_time": "2023-06-18T19:22:22.832Z"
   },
   {
    "duration": 3,
    "start_time": "2023-06-18T19:22:23.250Z"
   },
   {
    "duration": 395,
    "start_time": "2023-06-18T19:22:23.730Z"
   },
   {
    "duration": 7,
    "start_time": "2023-06-18T19:23:22.201Z"
   },
   {
    "duration": 233,
    "start_time": "2023-06-18T19:23:22.604Z"
   },
   {
    "duration": 155,
    "start_time": "2023-06-18T19:23:22.941Z"
   },
   {
    "duration": 10,
    "start_time": "2023-06-18T19:23:23.339Z"
   },
   {
    "duration": 12,
    "start_time": "2023-06-18T19:23:24.251Z"
   },
   {
    "duration": 8,
    "start_time": "2023-06-18T19:23:25.143Z"
   },
   {
    "duration": 14,
    "start_time": "2023-06-18T19:23:25.511Z"
   },
   {
    "duration": 6,
    "start_time": "2023-06-18T19:23:27.449Z"
   },
   {
    "duration": 15,
    "start_time": "2023-06-18T19:23:27.927Z"
   },
   {
    "duration": 248,
    "start_time": "2023-06-18T19:23:28.934Z"
   },
   {
    "duration": 246,
    "start_time": "2023-06-18T19:23:55.561Z"
   },
   {
    "duration": 8,
    "start_time": "2023-06-18T19:24:34.597Z"
   },
   {
    "duration": 208,
    "start_time": "2023-06-18T19:24:35.215Z"
   },
   {
    "duration": 6,
    "start_time": "2023-06-18T19:25:11.899Z"
   },
   {
    "duration": 5,
    "start_time": "2023-06-18T19:25:12.334Z"
   },
   {
    "duration": 6,
    "start_time": "2023-06-18T19:25:12.750Z"
   },
   {
    "duration": 274,
    "start_time": "2023-06-18T19:25:13.763Z"
   },
   {
    "duration": 11,
    "start_time": "2023-06-18T19:26:20.995Z"
   },
   {
    "duration": 337,
    "start_time": "2023-06-18T19:26:22.425Z"
   },
   {
    "duration": 8,
    "start_time": "2023-06-18T19:28:15.697Z"
   },
   {
    "duration": 209,
    "start_time": "2023-06-18T19:28:16.108Z"
   },
   {
    "duration": 7,
    "start_time": "2023-06-18T19:28:18.405Z"
   },
   {
    "duration": 20,
    "start_time": "2023-06-18T19:28:20.007Z"
   },
   {
    "duration": 143,
    "start_time": "2023-06-18T19:28:21.145Z"
   },
   {
    "duration": 190,
    "start_time": "2023-06-18T19:28:22.651Z"
   },
   {
    "duration": 8,
    "start_time": "2023-06-18T19:28:25.533Z"
   },
   {
    "duration": 7,
    "start_time": "2023-06-18T19:28:27.502Z"
   },
   {
    "duration": 7,
    "start_time": "2023-06-18T19:28:27.860Z"
   },
   {
    "duration": 151,
    "start_time": "2023-06-18T19:28:28.197Z"
   },
   {
    "duration": 64,
    "start_time": "2023-06-18T19:28:28.537Z"
   },
   {
    "duration": 17,
    "start_time": "2023-06-18T19:28:28.890Z"
   },
   {
    "duration": 21,
    "start_time": "2023-06-18T19:28:29.196Z"
   },
   {
    "duration": 77,
    "start_time": "2023-06-18T19:28:30.491Z"
   },
   {
    "duration": 57,
    "start_time": "2023-06-18T19:28:30.800Z"
   },
   {
    "duration": 43,
    "start_time": "2023-06-18T19:28:31.140Z"
   },
   {
    "duration": 120,
    "start_time": "2023-06-18T19:28:31.599Z"
   },
   {
    "duration": 124,
    "start_time": "2023-06-18T19:28:32.845Z"
   },
   {
    "duration": 6,
    "start_time": "2023-06-18T19:28:33.193Z"
   },
   {
    "duration": 7,
    "start_time": "2023-06-18T19:28:33.547Z"
   },
   {
    "duration": 31,
    "start_time": "2023-06-18T19:28:34.373Z"
   },
   {
    "duration": 5,
    "start_time": "2023-06-18T19:28:34.792Z"
   },
   {
    "duration": 13,
    "start_time": "2023-06-18T19:29:17.442Z"
   },
   {
    "duration": 8,
    "start_time": "2023-06-18T19:29:18.012Z"
   },
   {
    "duration": 8,
    "start_time": "2023-06-18T19:30:04.497Z"
   },
   {
    "duration": 9,
    "start_time": "2023-06-18T19:30:04.900Z"
   },
   {
    "duration": 6,
    "start_time": "2023-06-18T19:30:05.254Z"
   },
   {
    "duration": 5,
    "start_time": "2023-06-18T19:30:05.650Z"
   },
   {
    "duration": 8,
    "start_time": "2023-06-18T19:30:07.396Z"
   },
   {
    "duration": 10,
    "start_time": "2023-06-18T19:30:22.294Z"
   },
   {
    "duration": 7,
    "start_time": "2023-06-18T19:30:22.718Z"
   },
   {
    "duration": 35,
    "start_time": "2023-06-18T19:30:23.479Z"
   },
   {
    "duration": 12,
    "start_time": "2023-06-18T19:30:23.958Z"
   },
   {
    "duration": 19,
    "start_time": "2023-06-18T19:31:07.042Z"
   },
   {
    "duration": 13,
    "start_time": "2023-06-18T19:31:07.436Z"
   },
   {
    "duration": 1419,
    "start_time": "2023-06-18T19:35:30.334Z"
   },
   {
    "duration": 31,
    "start_time": "2023-06-18T19:35:31.756Z"
   },
   {
    "duration": 22,
    "start_time": "2023-06-18T19:35:31.789Z"
   },
   {
    "duration": 30,
    "start_time": "2023-06-18T19:35:31.818Z"
   },
   {
    "duration": 23,
    "start_time": "2023-06-18T19:35:31.911Z"
   },
   {
    "duration": 10,
    "start_time": "2023-06-18T19:35:35.445Z"
   },
   {
    "duration": 13,
    "start_time": "2023-06-18T19:35:35.742Z"
   },
   {
    "duration": 11,
    "start_time": "2023-06-18T19:35:37.650Z"
   },
   {
    "duration": 14,
    "start_time": "2023-06-18T19:35:37.941Z"
   },
   {
    "duration": 78,
    "start_time": "2023-06-18T19:35:39.815Z"
   },
   {
    "duration": 18,
    "start_time": "2023-06-18T19:35:40.105Z"
   },
   {
    "duration": 15,
    "start_time": "2023-06-18T19:35:40.414Z"
   },
   {
    "duration": 12,
    "start_time": "2023-06-18T19:35:41.040Z"
   },
   {
    "duration": 19,
    "start_time": "2023-06-18T19:35:41.406Z"
   },
   {
    "duration": 7,
    "start_time": "2023-06-18T19:35:41.698Z"
   },
   {
    "duration": 6,
    "start_time": "2023-06-18T19:35:42.011Z"
   },
   {
    "duration": 4,
    "start_time": "2023-06-18T19:35:42.338Z"
   },
   {
    "duration": 18,
    "start_time": "2023-06-18T19:35:42.710Z"
   },
   {
    "duration": 15,
    "start_time": "2023-06-18T19:35:43.039Z"
   },
   {
    "duration": 6,
    "start_time": "2023-06-18T19:35:43.742Z"
   },
   {
    "duration": 11,
    "start_time": "2023-06-18T19:35:44.114Z"
   },
   {
    "duration": 11,
    "start_time": "2023-06-18T19:35:44.514Z"
   },
   {
    "duration": 9,
    "start_time": "2023-06-18T19:35:45.363Z"
   },
   {
    "duration": 16,
    "start_time": "2023-06-18T19:35:46.412Z"
   },
   {
    "duration": 8,
    "start_time": "2023-06-18T19:35:47.747Z"
   },
   {
    "duration": 8,
    "start_time": "2023-06-18T19:35:49.636Z"
   },
   {
    "duration": 11,
    "start_time": "2023-06-18T19:35:51.638Z"
   },
   {
    "duration": 5,
    "start_time": "2023-06-18T19:35:52.006Z"
   },
   {
    "duration": 437,
    "start_time": "2023-06-18T19:35:52.352Z"
   },
   {
    "duration": 10,
    "start_time": "2023-06-18T19:35:56.714Z"
   },
   {
    "duration": 265,
    "start_time": "2023-06-18T19:35:57.040Z"
   },
   {
    "duration": 180,
    "start_time": "2023-06-18T19:35:57.813Z"
   },
   {
    "duration": 15,
    "start_time": "2023-06-18T19:35:58.207Z"
   },
   {
    "duration": 12,
    "start_time": "2023-06-18T19:35:58.565Z"
   },
   {
    "duration": 9,
    "start_time": "2023-06-18T19:35:58.907Z"
   },
   {
    "duration": 6,
    "start_time": "2023-06-18T19:35:59.299Z"
   },
   {
    "duration": 10,
    "start_time": "2023-06-18T19:36:01.433Z"
   },
   {
    "duration": 13,
    "start_time": "2023-06-18T19:36:01.806Z"
   },
   {
    "duration": 313,
    "start_time": "2023-06-18T19:36:02.177Z"
   },
   {
    "duration": 274,
    "start_time": "2023-06-18T19:36:03.549Z"
   },
   {
    "duration": 9,
    "start_time": "2023-06-18T19:36:04.632Z"
   },
   {
    "duration": 287,
    "start_time": "2023-06-18T19:36:05.014Z"
   },
   {
    "duration": 8,
    "start_time": "2023-06-18T19:36:06.011Z"
   },
   {
    "duration": 4,
    "start_time": "2023-06-18T19:36:06.406Z"
   },
   {
    "duration": 4,
    "start_time": "2023-06-18T19:36:06.707Z"
   },
   {
    "duration": 339,
    "start_time": "2023-06-18T19:36:07.053Z"
   },
   {
    "duration": 14,
    "start_time": "2023-06-18T19:36:08.157Z"
   },
   {
    "duration": 373,
    "start_time": "2023-06-18T19:36:08.544Z"
   },
   {
    "duration": 9,
    "start_time": "2023-06-18T19:36:11.040Z"
   },
   {
    "duration": 215,
    "start_time": "2023-06-18T19:36:11.403Z"
   },
   {
    "duration": 8,
    "start_time": "2023-06-18T19:36:12.530Z"
   },
   {
    "duration": 21,
    "start_time": "2023-06-18T19:36:13.991Z"
   },
   {
    "duration": 226,
    "start_time": "2023-06-18T19:36:14.356Z"
   },
   {
    "duration": 209,
    "start_time": "2023-06-18T19:36:15.086Z"
   },
   {
    "duration": 10,
    "start_time": "2023-06-18T19:36:17.315Z"
   },
   {
    "duration": 6,
    "start_time": "2023-06-18T19:36:19.495Z"
   },
   {
    "duration": 8,
    "start_time": "2023-06-18T19:36:19.829Z"
   },
   {
    "duration": 175,
    "start_time": "2023-06-18T19:36:20.178Z"
   },
   {
    "duration": 61,
    "start_time": "2023-06-18T19:36:20.543Z"
   },
   {
    "duration": 36,
    "start_time": "2023-06-18T19:36:20.905Z"
   },
   {
    "duration": 23,
    "start_time": "2023-06-18T19:36:21.294Z"
   },
   {
    "duration": 86,
    "start_time": "2023-06-18T19:36:21.638Z"
   },
   {
    "duration": 59,
    "start_time": "2023-06-18T19:36:21.988Z"
   },
   {
    "duration": 43,
    "start_time": "2023-06-18T19:36:22.347Z"
   },
   {
    "duration": 131,
    "start_time": "2023-06-18T19:36:22.703Z"
   },
   {
    "duration": 109,
    "start_time": "2023-06-18T19:36:23.055Z"
   },
   {
    "duration": 10,
    "start_time": "2023-06-18T19:36:23.408Z"
   },
   {
    "duration": 6,
    "start_time": "2023-06-18T19:36:23.786Z"
   },
   {
    "duration": 29,
    "start_time": "2023-06-18T19:36:24.501Z"
   },
   {
    "duration": 6,
    "start_time": "2023-06-18T19:36:24.895Z"
   },
   {
    "duration": 13,
    "start_time": "2023-06-18T19:36:26.698Z"
   },
   {
    "duration": 10,
    "start_time": "2023-06-18T19:36:27.094Z"
   },
   {
    "duration": 7,
    "start_time": "2023-06-18T19:36:29.698Z"
   },
   {
    "duration": 8,
    "start_time": "2023-06-18T19:36:30.052Z"
   },
   {
    "duration": 12,
    "start_time": "2023-06-18T19:36:30.435Z"
   },
   {
    "duration": 5,
    "start_time": "2023-06-18T19:36:30.785Z"
   },
   {
    "duration": 7,
    "start_time": "2023-06-18T19:36:32.195Z"
   },
   {
    "duration": 12,
    "start_time": "2023-06-18T19:36:32.936Z"
   },
   {
    "duration": 9,
    "start_time": "2023-06-18T19:36:33.293Z"
   },
   {
    "duration": 51,
    "start_time": "2023-06-18T19:36:33.632Z"
   },
   {
    "duration": 16,
    "start_time": "2023-06-18T19:36:34.005Z"
   },
   {
    "duration": 16,
    "start_time": "2023-06-18T19:36:35.442Z"
   },
   {
    "duration": 13,
    "start_time": "2023-06-18T19:36:35.797Z"
   }
  ],
  "kernelspec": {
   "display_name": "Python 3 (ipykernel)",
   "language": "python",
   "name": "python3"
  },
  "language_info": {
   "codemirror_mode": {
    "name": "ipython",
    "version": 3
   },
   "file_extension": ".py",
   "mimetype": "text/x-python",
   "name": "python",
   "nbconvert_exporter": "python",
   "pygments_lexer": "ipython3",
   "version": "3.11.3"
  },
  "toc": {
   "base_numbering": 1,
   "nav_menu": {},
   "number_sections": true,
   "sideBar": true,
   "skip_h1_title": true,
   "title_cell": "Table of Contents",
   "title_sidebar": "Contents",
   "toc_cell": false,
   "toc_position": {},
   "toc_section_display": true,
   "toc_window_display": false
  }
 },
 "nbformat": 4,
 "nbformat_minor": 2
}
