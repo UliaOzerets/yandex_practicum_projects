{
 "cells": [
  {
   "cell_type": "markdown",
   "metadata": {},
   "source": [
    "# Проект \"Выявление профилей потребления\""
   ]
  },
  {
   "cell_type": "markdown",
   "metadata": {},
   "source": [
    "Интернет-магазин товаров для дома «Пока все ещё тут» хочет провести анализ имеющихся данных по покупателям и товарам, которые они приобретают.\n",
    "\n",
    "Цель менеджера магазина - увеличение выручки\n",
    "\n",
    "Задача — сегментировать покупателей по профилю потребления на основе предоставленных данных и предоставить рекомендации увеличения прибыли для менеджера"
   ]
  },
  {
   "cell_type": "markdown",
   "metadata": {},
   "source": [
    "# Материалы:"
   ]
  },
  {
   "cell_type": "markdown",
   "metadata": {},
   "source": [
    "- Дашборд (https://public.tableau.com/app/profile/.71835970/viz/__16924590464210/Dashboard1)"
   ]
  },
  {
   "cell_type": "markdown",
   "metadata": {},
   "source": [
    "## Загрузка и предварительный анализ данных"
   ]
  },
  {
   "cell_type": "markdown",
   "metadata": {},
   "source": [
    "Загрузим данные о заказах, покупателях и товарах.\n",
    "\n",
    "Изучим данные:\n",
    "\n",
    "- определим типы данных, все ли типы данных подходят\n",
    "- оценим общую информацию: количество колонок, значений в каждой\n",
    "- добавим промежуточный вывод"
   ]
  },
  {
   "cell_type": "code",
   "execution_count": 1,
   "metadata": {},
   "outputs": [],
   "source": [
    "#импортируем библиотеки\n",
    "import pandas as pd\n",
    "pd.options.display.max_colwidth = 130\n",
    "import datetime\n",
    "import matplotlib.pyplot as plt\n",
    "import plotly.express as px\n",
    "from plotly import graph_objects as go\n",
    "import re\n",
    "from scipy import stats as st\n",
    "import numpy as np\n",
    "from scipy.stats import f_oneway"
   ]
  },
  {
   "cell_type": "code",
   "execution_count": 2,
   "metadata": {},
   "outputs": [
    {
     "data": {
      "text/html": [
       "<div>\n",
       "<style scoped>\n",
       "    .dataframe tbody tr th:only-of-type {\n",
       "        vertical-align: middle;\n",
       "    }\n",
       "\n",
       "    .dataframe tbody tr th {\n",
       "        vertical-align: top;\n",
       "    }\n",
       "\n",
       "    .dataframe thead th {\n",
       "        text-align: right;\n",
       "    }\n",
       "</style>\n",
       "<table border=\"1\" class=\"dataframe\">\n",
       "  <thead>\n",
       "    <tr style=\"text-align: right;\">\n",
       "      <th></th>\n",
       "      <th>date</th>\n",
       "      <th>customer_id</th>\n",
       "      <th>order_id</th>\n",
       "      <th>product</th>\n",
       "      <th>quantity</th>\n",
       "      <th>price</th>\n",
       "    </tr>\n",
       "  </thead>\n",
       "  <tbody>\n",
       "    <tr>\n",
       "      <th>0</th>\n",
       "      <td>2018100100</td>\n",
       "      <td>ee47d746-6d2f-4d3c-9622-c31412542920</td>\n",
       "      <td>68477</td>\n",
       "      <td>Комнатное растение в горшке Алое Вера, d12, h30</td>\n",
       "      <td>1</td>\n",
       "      <td>142.0</td>\n",
       "    </tr>\n",
       "    <tr>\n",
       "      <th>1</th>\n",
       "      <td>2018100100</td>\n",
       "      <td>ee47d746-6d2f-4d3c-9622-c31412542920</td>\n",
       "      <td>68477</td>\n",
       "      <td>Комнатное растение в горшке Кофе Арабика, d12, h25</td>\n",
       "      <td>1</td>\n",
       "      <td>194.0</td>\n",
       "    </tr>\n",
       "    <tr>\n",
       "      <th>2</th>\n",
       "      <td>2018100100</td>\n",
       "      <td>ee47d746-6d2f-4d3c-9622-c31412542920</td>\n",
       "      <td>68477</td>\n",
       "      <td>Радермахера d-12 см h-20 см</td>\n",
       "      <td>1</td>\n",
       "      <td>112.0</td>\n",
       "    </tr>\n",
       "    <tr>\n",
       "      <th>3</th>\n",
       "      <td>2018100100</td>\n",
       "      <td>ee47d746-6d2f-4d3c-9622-c31412542920</td>\n",
       "      <td>68477</td>\n",
       "      <td>Хризолидокарпус Лутесценс d-9 см</td>\n",
       "      <td>1</td>\n",
       "      <td>179.0</td>\n",
       "    </tr>\n",
       "    <tr>\n",
       "      <th>4</th>\n",
       "      <td>2018100100</td>\n",
       "      <td>ee47d746-6d2f-4d3c-9622-c31412542920</td>\n",
       "      <td>68477</td>\n",
       "      <td>Циперус Зумула d-12 см h-25 см</td>\n",
       "      <td>1</td>\n",
       "      <td>112.0</td>\n",
       "    </tr>\n",
       "    <tr>\n",
       "      <th>...</th>\n",
       "      <td>...</td>\n",
       "      <td>...</td>\n",
       "      <td>...</td>\n",
       "      <td>...</td>\n",
       "      <td>...</td>\n",
       "      <td>...</td>\n",
       "    </tr>\n",
       "    <tr>\n",
       "      <th>7469</th>\n",
       "      <td>2020013021</td>\n",
       "      <td>63208953-a8e4-4f77-9b47-3a46e7b72eee</td>\n",
       "      <td>104002</td>\n",
       "      <td>томата (помидор) Черниченский черри № 116 сорт индетерминантный позднеспелый черный</td>\n",
       "      <td>2</td>\n",
       "      <td>38.0</td>\n",
       "    </tr>\n",
       "    <tr>\n",
       "      <th>7470</th>\n",
       "      <td>2020013022</td>\n",
       "      <td>d99d25f1-4017-4fcd-8d29-c580cc695a1a</td>\n",
       "      <td>107336</td>\n",
       "      <td>Дендробиум Санок Анна Грин 1 ствол d-12 см</td>\n",
       "      <td>1</td>\n",
       "      <td>869.0</td>\n",
       "    </tr>\n",
       "    <tr>\n",
       "      <th>7471</th>\n",
       "      <td>2020013102</td>\n",
       "      <td>2c9bd08d-8c55-4e7a-9bfb-8c56ba42c6d6</td>\n",
       "      <td>106336</td>\n",
       "      <td>Подставка для обуви резиновая Attribute 80x40 см AMC080</td>\n",
       "      <td>1</td>\n",
       "      <td>354.0</td>\n",
       "    </tr>\n",
       "    <tr>\n",
       "      <th>7472</th>\n",
       "      <td>2020013112</td>\n",
       "      <td>cdd17932-623e-415f-a577-3b31312fd0e2</td>\n",
       "      <td>102002</td>\n",
       "      <td>Тагетис крупноцветковый рассада однолетних цветов в кассете по 6 шт</td>\n",
       "      <td>1</td>\n",
       "      <td>128.0</td>\n",
       "    </tr>\n",
       "    <tr>\n",
       "      <th>7473</th>\n",
       "      <td>2020013115</td>\n",
       "      <td>2e460a26-35af-453d-a369-a036e95a40e0</td>\n",
       "      <td>103225</td>\n",
       "      <td>Вешалка для блузок 41 см красный Attribute AHM781</td>\n",
       "      <td>1</td>\n",
       "      <td>104.0</td>\n",
       "    </tr>\n",
       "  </tbody>\n",
       "</table>\n",
       "<p>7474 rows × 6 columns</p>\n",
       "</div>"
      ],
      "text/plain": [
       "            date                           customer_id  order_id  \\\n",
       "0     2018100100  ee47d746-6d2f-4d3c-9622-c31412542920     68477   \n",
       "1     2018100100  ee47d746-6d2f-4d3c-9622-c31412542920     68477   \n",
       "2     2018100100  ee47d746-6d2f-4d3c-9622-c31412542920     68477   \n",
       "3     2018100100  ee47d746-6d2f-4d3c-9622-c31412542920     68477   \n",
       "4     2018100100  ee47d746-6d2f-4d3c-9622-c31412542920     68477   \n",
       "...          ...                                   ...       ...   \n",
       "7469  2020013021  63208953-a8e4-4f77-9b47-3a46e7b72eee    104002   \n",
       "7470  2020013022  d99d25f1-4017-4fcd-8d29-c580cc695a1a    107336   \n",
       "7471  2020013102  2c9bd08d-8c55-4e7a-9bfb-8c56ba42c6d6    106336   \n",
       "7472  2020013112  cdd17932-623e-415f-a577-3b31312fd0e2    102002   \n",
       "7473  2020013115  2e460a26-35af-453d-a369-a036e95a40e0    103225   \n",
       "\n",
       "                                                                                  product  \\\n",
       "0                                         Комнатное растение в горшке Алое Вера, d12, h30   \n",
       "1                                      Комнатное растение в горшке Кофе Арабика, d12, h25   \n",
       "2                                                             Радермахера d-12 см h-20 см   \n",
       "3                                                        Хризолидокарпус Лутесценс d-9 см   \n",
       "4                                                          Циперус Зумула d-12 см h-25 см   \n",
       "...                                                                                   ...   \n",
       "7469  томата (помидор) Черниченский черри № 116 сорт индетерминантный позднеспелый черный   \n",
       "7470                                           Дендробиум Санок Анна Грин 1 ствол d-12 см   \n",
       "7471                              Подставка для обуви резиновая Attribute 80x40 см AMC080   \n",
       "7472                  Тагетис крупноцветковый рассада однолетних цветов в кассете по 6 шт   \n",
       "7473                                    Вешалка для блузок 41 см красный Attribute AHM781   \n",
       "\n",
       "      quantity  price  \n",
       "0            1  142.0  \n",
       "1            1  194.0  \n",
       "2            1  112.0  \n",
       "3            1  179.0  \n",
       "4            1  112.0  \n",
       "...        ...    ...  \n",
       "7469         2   38.0  \n",
       "7470         1  869.0  \n",
       "7471         1  354.0  \n",
       "7472         1  128.0  \n",
       "7473         1  104.0  \n",
       "\n",
       "[7474 rows x 6 columns]"
      ]
     },
     "execution_count": 2,
     "metadata": {},
     "output_type": "execute_result"
    }
   ],
   "source": [
    "#загружаем данные и выводим на экран\n",
    "google_id = \"1DkqEQWZoHh22YrsYcNUxSzlhgFqdl0tf\"\n",
    "data = pd.read_csv(f\"https://drive.google.com/uc?export=download&id={google_id}\" )\n",
    "data"
   ]
  },
  {
   "cell_type": "markdown",
   "metadata": {},
   "source": [
    "В целом данные выглядят вполне нормально. Немного не в том формате тип данных в колонке date, посмотрим на данные поближе"
   ]
  },
  {
   "cell_type": "code",
   "execution_count": 3,
   "metadata": {},
   "outputs": [
    {
     "name": "stdout",
     "output_type": "stream",
     "text": [
      "<class 'pandas.core.frame.DataFrame'>\n",
      "RangeIndex: 7474 entries, 0 to 7473\n",
      "Data columns (total 6 columns):\n",
      " #   Column       Non-Null Count  Dtype  \n",
      "---  ------       --------------  -----  \n",
      " 0   date         7474 non-null   int64  \n",
      " 1   customer_id  7474 non-null   object \n",
      " 2   order_id     7474 non-null   int64  \n",
      " 3   product      7474 non-null   object \n",
      " 4   quantity     7474 non-null   int64  \n",
      " 5   price        7474 non-null   float64\n",
      "dtypes: float64(1), int64(3), object(2)\n",
      "memory usage: 350.5+ KB\n"
     ]
    }
   ],
   "source": [
    "#выведем общую информацию о датафрейме\n",
    "data.info()"
   ]
  },
  {
   "cell_type": "markdown",
   "metadata": {},
   "source": [
    "У нас есть 6 столбцов. На первый взгляд пропусков нет, но мы проверим это позже. Неверный формат данных в столбце date - будет необходимо заменить с int64 на datetime. Для остальных типы данных подходящие. Всего имеется 7 474 строки с данными"
   ]
  },
  {
   "cell_type": "code",
   "execution_count": 4,
   "metadata": {},
   "outputs": [
    {
     "data": {
      "text/html": [
       "<div>\n",
       "<style scoped>\n",
       "    .dataframe tbody tr th:only-of-type {\n",
       "        vertical-align: middle;\n",
       "    }\n",
       "\n",
       "    .dataframe tbody tr th {\n",
       "        vertical-align: top;\n",
       "    }\n",
       "\n",
       "    .dataframe thead th {\n",
       "        text-align: right;\n",
       "    }\n",
       "</style>\n",
       "<table border=\"1\" class=\"dataframe\">\n",
       "  <thead>\n",
       "    <tr style=\"text-align: right;\">\n",
       "      <th></th>\n",
       "      <th>date</th>\n",
       "      <th>order_id</th>\n",
       "      <th>quantity</th>\n",
       "      <th>price</th>\n",
       "    </tr>\n",
       "  </thead>\n",
       "  <tbody>\n",
       "    <tr>\n",
       "      <th>count</th>\n",
       "      <td>7.474000e+03</td>\n",
       "      <td>7474.000000</td>\n",
       "      <td>7474.000000</td>\n",
       "      <td>7474.000000</td>\n",
       "    </tr>\n",
       "    <tr>\n",
       "      <th>mean</th>\n",
       "      <td>2.018913e+09</td>\n",
       "      <td>49449.884265</td>\n",
       "      <td>2.362858</td>\n",
       "      <td>478.737501</td>\n",
       "    </tr>\n",
       "    <tr>\n",
       "      <th>std</th>\n",
       "      <td>4.278878e+05</td>\n",
       "      <td>32679.642404</td>\n",
       "      <td>14.500497</td>\n",
       "      <td>901.615895</td>\n",
       "    </tr>\n",
       "    <tr>\n",
       "      <th>min</th>\n",
       "      <td>2.018100e+09</td>\n",
       "      <td>12624.000000</td>\n",
       "      <td>1.000000</td>\n",
       "      <td>9.000000</td>\n",
       "    </tr>\n",
       "    <tr>\n",
       "      <th>25%</th>\n",
       "      <td>2.019022e+09</td>\n",
       "      <td>14833.000000</td>\n",
       "      <td>1.000000</td>\n",
       "      <td>97.000000</td>\n",
       "    </tr>\n",
       "    <tr>\n",
       "      <th>50%</th>\n",
       "      <td>2.019051e+09</td>\n",
       "      <td>68768.000000</td>\n",
       "      <td>1.000000</td>\n",
       "      <td>135.000000</td>\n",
       "    </tr>\n",
       "    <tr>\n",
       "      <th>75%</th>\n",
       "      <td>2.019063e+09</td>\n",
       "      <td>71257.750000</td>\n",
       "      <td>1.000000</td>\n",
       "      <td>439.000000</td>\n",
       "    </tr>\n",
       "    <tr>\n",
       "      <th>max</th>\n",
       "      <td>2.020013e+09</td>\n",
       "      <td>112789.000000</td>\n",
       "      <td>1000.000000</td>\n",
       "      <td>14917.000000</td>\n",
       "    </tr>\n",
       "  </tbody>\n",
       "</table>\n",
       "</div>"
      ],
      "text/plain": [
       "               date       order_id     quantity         price\n",
       "count  7.474000e+03    7474.000000  7474.000000   7474.000000\n",
       "mean   2.018913e+09   49449.884265     2.362858    478.737501\n",
       "std    4.278878e+05   32679.642404    14.500497    901.615895\n",
       "min    2.018100e+09   12624.000000     1.000000      9.000000\n",
       "25%    2.019022e+09   14833.000000     1.000000     97.000000\n",
       "50%    2.019051e+09   68768.000000     1.000000    135.000000\n",
       "75%    2.019063e+09   71257.750000     1.000000    439.000000\n",
       "max    2.020013e+09  112789.000000  1000.000000  14917.000000"
      ]
     },
     "execution_count": 4,
     "metadata": {},
     "output_type": "execute_result"
    }
   ],
   "source": [
    "#посмотрим описание данных\n",
    "data.describe()"
   ]
  },
  {
   "cell_type": "markdown",
   "metadata": {},
   "source": [
    "- во всех представленных числовых столбцах одинаковое количество строк\n",
    "- в столбце quantity(количество товара в заказе) минимальное количество товаров - 1, максимальное - 1000. Менеджер говорил о том, что в данных самый большой заказ - тестовый и его не нужно учитывать. Поэтому позже мы исключим этот заказ из наших данных. Среднее значение количество товара в заказе - 1. В дальнейшем мы проверим этот момент - действительно ли большая часть заказов стостит из заказа 1 позиции или нет\n",
    "- в столбце price (цена товара) минимальная цена товара - 9 ден. ед., в то время как максимальная - 14 917 ден. ед. Среднее значение цены равно 135 ден. ед."
   ]
  },
  {
   "cell_type": "code",
   "execution_count": 5,
   "metadata": {},
   "outputs": [
    {
     "data": {
      "text/plain": [
       "(7474, 6)"
      ]
     },
     "execution_count": 5,
     "metadata": {},
     "output_type": "execute_result"
    }
   ],
   "source": [
    "#оценим форму датасета\n",
    "data.shape"
   ]
  },
  {
   "cell_type": "markdown",
   "metadata": {},
   "source": [
    "Как уже было сказано выше - мы имеем датасет в 6 столбцов и количеством строк в каждом - 7 474"
   ]
  },
  {
   "cell_type": "markdown",
   "metadata": {},
   "source": [
    "### Итоги раздела"
   ]
  },
  {
   "cell_type": "markdown",
   "metadata": {},
   "source": [
    "В результате загрузки и предварительного анализа данных мы имеем:\n",
    "\n",
    "- мы имеем датасет в 6 столбцов и количеством строк в каждом - 7 474\n",
    "- в столбце quantity(количество товара в заказе) минимальное количество товаров - 1, максимальное - 1000. Менеджер говорил о том, что в данных самый большой заказ - тестовый и его не нужно учитывать. Поэтому позже мы исключим этот заказ из наших данных. Среднее значение количество товара в заказе - 1.\n",
    "- в столбце price (цена товара) минимальная цена товара - 9 ден. ед., в то время как максимальная - 14 917 ден. ед. Среднее значение цены равно 135 ден. ед.\n",
    "- формат типа данных в колонке date необходимо изменить с int64 на datetime\n",
    "\n",
    "Перейдем к этапу предобработки данных"
   ]
  },
  {
   "cell_type": "markdown",
   "metadata": {},
   "source": [
    "## Предобработка данных"
   ]
  },
  {
   "cell_type": "markdown",
   "metadata": {},
   "source": [
    "На этом этапе мы проведем такие работы:\n",
    "    \n",
    "- исправим типы данных, которые изначально определены неверно\n",
    "- добавим столбцы с годом, месяцем, днем заказа и с суммой по каждой позиции в заказе\n",
    "- проанализируем и исправим стиль написания колонок при необходимости\n",
    "- произведём поиск пропущенных значений. При возможности, заполним их\n",
    "- определим - есть ли дубликаты. при необходимости - удалим их\n",
    "- проанализируем общую информацию о датафрейме после предобработки данных\n",
    "- добавим промежуточный вывод\n",
    "\n",
    "Нам были предоставлены данные, которые никогда не анализировались, к тому же, нет никакой гарантии, что при записи данных не было сбоев и дублирования строк"
   ]
  },
  {
   "cell_type": "markdown",
   "metadata": {},
   "source": [
    "### Изменение типов данных и добавление новых столбцов"
   ]
  },
  {
   "cell_type": "markdown",
   "metadata": {},
   "source": [
    "В нашем датафрейме этот этап необходим только для столбца date - с int64 на datetime. Вместе с изменением типа данных, добавим в датафрейм столбцы с годом, месяцем и днём недели, для последующей рабоы с данными. Столбец  date имеет значения в формате YYYYMMDDHH, поэтому проведем дополнительные преобразования"
   ]
  },
  {
   "cell_type": "code",
   "execution_count": 6,
   "metadata": {},
   "outputs": [],
   "source": [
    "#переведём тип данных в строку и при необходиости добавим нули перед месяцем и днём\n",
    "data['date'] = data['date'].astype(str).str.zfill(10)"
   ]
  },
  {
   "cell_type": "code",
   "execution_count": 7,
   "metadata": {},
   "outputs": [],
   "source": [
    "#извлекаем год\n",
    "data['year'] = data['date'].str.slice(0, 4)"
   ]
  },
  {
   "cell_type": "code",
   "execution_count": 8,
   "metadata": {},
   "outputs": [],
   "source": [
    "#извлекаем месяц\n",
    "data['month'] = data['date'].str.slice(4, 6)"
   ]
  },
  {
   "cell_type": "code",
   "execution_count": 9,
   "metadata": {},
   "outputs": [],
   "source": [
    "#извлекаем день\n",
    "data['day'] = data['date'].str.slice(6, 8)"
   ]
  },
  {
   "cell_type": "code",
   "execution_count": 10,
   "metadata": {},
   "outputs": [],
   "source": [
    "#объединяем год, месяц и день в формат даты и приводим к нему\n",
    "data['date'] = pd.to_datetime(data[['year', 'month', 'day']], format='%Y-%m-%d')\n",
    "data['date'] = pd.to_datetime(data['date'])"
   ]
  },
  {
   "cell_type": "code",
   "execution_count": 11,
   "metadata": {},
   "outputs": [],
   "source": [
    "#назначаем  столбцам 'year', 'month', 'day' тип данных int вместо object\n",
    "data['year'] = data['year'].astype('int')\n",
    "data['month'] = data['month'].astype('int')\n",
    "data['day'] = data['day'].astype('int')"
   ]
  },
  {
   "cell_type": "code",
   "execution_count": 12,
   "metadata": {},
   "outputs": [],
   "source": [
    "#добавим столбец  с итоговой суммой по каждой позиции в заказе\n",
    "data['full_price'] = data['price'] * data['quantity']"
   ]
  },
  {
   "cell_type": "code",
   "execution_count": 13,
   "metadata": {},
   "outputs": [
    {
     "data": {
      "text/html": [
       "<div>\n",
       "<style scoped>\n",
       "    .dataframe tbody tr th:only-of-type {\n",
       "        vertical-align: middle;\n",
       "    }\n",
       "\n",
       "    .dataframe tbody tr th {\n",
       "        vertical-align: top;\n",
       "    }\n",
       "\n",
       "    .dataframe thead th {\n",
       "        text-align: right;\n",
       "    }\n",
       "</style>\n",
       "<table border=\"1\" class=\"dataframe\">\n",
       "  <thead>\n",
       "    <tr style=\"text-align: right;\">\n",
       "      <th></th>\n",
       "      <th>date</th>\n",
       "      <th>customer_id</th>\n",
       "      <th>order_id</th>\n",
       "      <th>product</th>\n",
       "      <th>quantity</th>\n",
       "      <th>price</th>\n",
       "      <th>year</th>\n",
       "      <th>month</th>\n",
       "      <th>day</th>\n",
       "      <th>full_price</th>\n",
       "    </tr>\n",
       "  </thead>\n",
       "  <tbody>\n",
       "    <tr>\n",
       "      <th>0</th>\n",
       "      <td>2018-10-01</td>\n",
       "      <td>ee47d746-6d2f-4d3c-9622-c31412542920</td>\n",
       "      <td>68477</td>\n",
       "      <td>Комнатное растение в горшке Алое Вера, d12, h30</td>\n",
       "      <td>1</td>\n",
       "      <td>142.0</td>\n",
       "      <td>2018</td>\n",
       "      <td>10</td>\n",
       "      <td>1</td>\n",
       "      <td>142.0</td>\n",
       "    </tr>\n",
       "    <tr>\n",
       "      <th>1</th>\n",
       "      <td>2018-10-01</td>\n",
       "      <td>ee47d746-6d2f-4d3c-9622-c31412542920</td>\n",
       "      <td>68477</td>\n",
       "      <td>Комнатное растение в горшке Кофе Арабика, d12, h25</td>\n",
       "      <td>1</td>\n",
       "      <td>194.0</td>\n",
       "      <td>2018</td>\n",
       "      <td>10</td>\n",
       "      <td>1</td>\n",
       "      <td>194.0</td>\n",
       "    </tr>\n",
       "    <tr>\n",
       "      <th>2</th>\n",
       "      <td>2018-10-01</td>\n",
       "      <td>ee47d746-6d2f-4d3c-9622-c31412542920</td>\n",
       "      <td>68477</td>\n",
       "      <td>Радермахера d-12 см h-20 см</td>\n",
       "      <td>1</td>\n",
       "      <td>112.0</td>\n",
       "      <td>2018</td>\n",
       "      <td>10</td>\n",
       "      <td>1</td>\n",
       "      <td>112.0</td>\n",
       "    </tr>\n",
       "    <tr>\n",
       "      <th>3</th>\n",
       "      <td>2018-10-01</td>\n",
       "      <td>ee47d746-6d2f-4d3c-9622-c31412542920</td>\n",
       "      <td>68477</td>\n",
       "      <td>Хризолидокарпус Лутесценс d-9 см</td>\n",
       "      <td>1</td>\n",
       "      <td>179.0</td>\n",
       "      <td>2018</td>\n",
       "      <td>10</td>\n",
       "      <td>1</td>\n",
       "      <td>179.0</td>\n",
       "    </tr>\n",
       "    <tr>\n",
       "      <th>4</th>\n",
       "      <td>2018-10-01</td>\n",
       "      <td>ee47d746-6d2f-4d3c-9622-c31412542920</td>\n",
       "      <td>68477</td>\n",
       "      <td>Циперус Зумула d-12 см h-25 см</td>\n",
       "      <td>1</td>\n",
       "      <td>112.0</td>\n",
       "      <td>2018</td>\n",
       "      <td>10</td>\n",
       "      <td>1</td>\n",
       "      <td>112.0</td>\n",
       "    </tr>\n",
       "    <tr>\n",
       "      <th>...</th>\n",
       "      <td>...</td>\n",
       "      <td>...</td>\n",
       "      <td>...</td>\n",
       "      <td>...</td>\n",
       "      <td>...</td>\n",
       "      <td>...</td>\n",
       "      <td>...</td>\n",
       "      <td>...</td>\n",
       "      <td>...</td>\n",
       "      <td>...</td>\n",
       "    </tr>\n",
       "    <tr>\n",
       "      <th>7469</th>\n",
       "      <td>2020-01-30</td>\n",
       "      <td>63208953-a8e4-4f77-9b47-3a46e7b72eee</td>\n",
       "      <td>104002</td>\n",
       "      <td>томата (помидор) Черниченский черри № 116 сорт индетерминантный позднеспелый черный</td>\n",
       "      <td>2</td>\n",
       "      <td>38.0</td>\n",
       "      <td>2020</td>\n",
       "      <td>1</td>\n",
       "      <td>30</td>\n",
       "      <td>76.0</td>\n",
       "    </tr>\n",
       "    <tr>\n",
       "      <th>7470</th>\n",
       "      <td>2020-01-30</td>\n",
       "      <td>d99d25f1-4017-4fcd-8d29-c580cc695a1a</td>\n",
       "      <td>107336</td>\n",
       "      <td>Дендробиум Санок Анна Грин 1 ствол d-12 см</td>\n",
       "      <td>1</td>\n",
       "      <td>869.0</td>\n",
       "      <td>2020</td>\n",
       "      <td>1</td>\n",
       "      <td>30</td>\n",
       "      <td>869.0</td>\n",
       "    </tr>\n",
       "    <tr>\n",
       "      <th>7471</th>\n",
       "      <td>2020-01-31</td>\n",
       "      <td>2c9bd08d-8c55-4e7a-9bfb-8c56ba42c6d6</td>\n",
       "      <td>106336</td>\n",
       "      <td>Подставка для обуви резиновая Attribute 80x40 см AMC080</td>\n",
       "      <td>1</td>\n",
       "      <td>354.0</td>\n",
       "      <td>2020</td>\n",
       "      <td>1</td>\n",
       "      <td>31</td>\n",
       "      <td>354.0</td>\n",
       "    </tr>\n",
       "    <tr>\n",
       "      <th>7472</th>\n",
       "      <td>2020-01-31</td>\n",
       "      <td>cdd17932-623e-415f-a577-3b31312fd0e2</td>\n",
       "      <td>102002</td>\n",
       "      <td>Тагетис крупноцветковый рассада однолетних цветов в кассете по 6 шт</td>\n",
       "      <td>1</td>\n",
       "      <td>128.0</td>\n",
       "      <td>2020</td>\n",
       "      <td>1</td>\n",
       "      <td>31</td>\n",
       "      <td>128.0</td>\n",
       "    </tr>\n",
       "    <tr>\n",
       "      <th>7473</th>\n",
       "      <td>2020-01-31</td>\n",
       "      <td>2e460a26-35af-453d-a369-a036e95a40e0</td>\n",
       "      <td>103225</td>\n",
       "      <td>Вешалка для блузок 41 см красный Attribute AHM781</td>\n",
       "      <td>1</td>\n",
       "      <td>104.0</td>\n",
       "      <td>2020</td>\n",
       "      <td>1</td>\n",
       "      <td>31</td>\n",
       "      <td>104.0</td>\n",
       "    </tr>\n",
       "  </tbody>\n",
       "</table>\n",
       "<p>7474 rows × 10 columns</p>\n",
       "</div>"
      ],
      "text/plain": [
       "           date                           customer_id  order_id  \\\n",
       "0    2018-10-01  ee47d746-6d2f-4d3c-9622-c31412542920     68477   \n",
       "1    2018-10-01  ee47d746-6d2f-4d3c-9622-c31412542920     68477   \n",
       "2    2018-10-01  ee47d746-6d2f-4d3c-9622-c31412542920     68477   \n",
       "3    2018-10-01  ee47d746-6d2f-4d3c-9622-c31412542920     68477   \n",
       "4    2018-10-01  ee47d746-6d2f-4d3c-9622-c31412542920     68477   \n",
       "...         ...                                   ...       ...   \n",
       "7469 2020-01-30  63208953-a8e4-4f77-9b47-3a46e7b72eee    104002   \n",
       "7470 2020-01-30  d99d25f1-4017-4fcd-8d29-c580cc695a1a    107336   \n",
       "7471 2020-01-31  2c9bd08d-8c55-4e7a-9bfb-8c56ba42c6d6    106336   \n",
       "7472 2020-01-31  cdd17932-623e-415f-a577-3b31312fd0e2    102002   \n",
       "7473 2020-01-31  2e460a26-35af-453d-a369-a036e95a40e0    103225   \n",
       "\n",
       "                                                                                  product  \\\n",
       "0                                         Комнатное растение в горшке Алое Вера, d12, h30   \n",
       "1                                      Комнатное растение в горшке Кофе Арабика, d12, h25   \n",
       "2                                                             Радермахера d-12 см h-20 см   \n",
       "3                                                        Хризолидокарпус Лутесценс d-9 см   \n",
       "4                                                          Циперус Зумула d-12 см h-25 см   \n",
       "...                                                                                   ...   \n",
       "7469  томата (помидор) Черниченский черри № 116 сорт индетерминантный позднеспелый черный   \n",
       "7470                                           Дендробиум Санок Анна Грин 1 ствол d-12 см   \n",
       "7471                              Подставка для обуви резиновая Attribute 80x40 см AMC080   \n",
       "7472                  Тагетис крупноцветковый рассада однолетних цветов в кассете по 6 шт   \n",
       "7473                                    Вешалка для блузок 41 см красный Attribute AHM781   \n",
       "\n",
       "      quantity  price  year  month  day  full_price  \n",
       "0            1  142.0  2018     10    1       142.0  \n",
       "1            1  194.0  2018     10    1       194.0  \n",
       "2            1  112.0  2018     10    1       112.0  \n",
       "3            1  179.0  2018     10    1       179.0  \n",
       "4            1  112.0  2018     10    1       112.0  \n",
       "...        ...    ...   ...    ...  ...         ...  \n",
       "7469         2   38.0  2020      1   30        76.0  \n",
       "7470         1  869.0  2020      1   30       869.0  \n",
       "7471         1  354.0  2020      1   31       354.0  \n",
       "7472         1  128.0  2020      1   31       128.0  \n",
       "7473         1  104.0  2020      1   31       104.0  \n",
       "\n",
       "[7474 rows x 10 columns]"
      ]
     },
     "execution_count": 13,
     "metadata": {},
     "output_type": "execute_result"
    }
   ],
   "source": [
    "#оценим преобразования датафрема\n",
    "data"
   ]
  },
  {
   "cell_type": "markdown",
   "metadata": {},
   "source": [
    "Все наши изменения прошли успешно, идём дальше"
   ]
  },
  {
   "cell_type": "markdown",
   "metadata": {},
   "source": [
    "### Стиль колонок"
   ]
  },
  {
   "cell_type": "markdown",
   "metadata": {},
   "source": [
    "В дальнейшем исследовании нам будет необходимо разбить товары на категории. Учитывая, что в столбце product есть товары, которые начинаются с заглавной буквы, а некоторые с прописной - чтобы легче категоризировать приведем все названия товаров к нижнему регистру"
   ]
  },
  {
   "cell_type": "code",
   "execution_count": 14,
   "metadata": {},
   "outputs": [],
   "source": [
    "#приведем названия товаров к нижнему регистру\n",
    "data['product'] = data['product'].str.lower()"
   ]
  },
  {
   "cell_type": "markdown",
   "metadata": {},
   "source": [
    "перейдем к следующему пункту - поиску пропущенных значений"
   ]
  },
  {
   "cell_type": "markdown",
   "metadata": {},
   "source": [
    "### Поиск пропущенных значений"
   ]
  },
  {
   "cell_type": "markdown",
   "metadata": {},
   "source": [
    "Исследуем, есть ли пропущенные значения в строках датафрейма"
   ]
  },
  {
   "cell_type": "code",
   "execution_count": 15,
   "metadata": {},
   "outputs": [
    {
     "data": {
      "text/plain": [
       "date           0\n",
       "customer_id    0\n",
       "order_id       0\n",
       "product        0\n",
       "quantity       0\n",
       "price          0\n",
       "year           0\n",
       "month          0\n",
       "day            0\n",
       "full_price     0\n",
       "dtype: int64"
      ]
     },
     "execution_count": 15,
     "metadata": {},
     "output_type": "execute_result"
    }
   ],
   "source": [
    "#проведем поиск пропущенных значений\n",
    "data.isna().sum()"
   ]
  },
  {
   "cell_type": "markdown",
   "metadata": {},
   "source": [
    "Пропущенных значений нет. Перейдем к поиску дубликатов"
   ]
  },
  {
   "cell_type": "markdown",
   "metadata": {},
   "source": [
    "### Поиск дубликатов"
   ]
  },
  {
   "cell_type": "markdown",
   "metadata": {},
   "source": [
    "Так как у нас достаточно небольшой датафрейм по количеству столбцов, проверим наличие строк-дубликатов по столбцам ('date', 'customer_id', 'order_id', 'product')"
   ]
  },
  {
   "cell_type": "code",
   "execution_count": 16,
   "metadata": {},
   "outputs": [
    {
     "name": "stdout",
     "output_type": "stream",
     "text": [
      "дубликаты найдены\n"
     ]
    }
   ],
   "source": [
    "#зададим поиск дубликатов\n",
    "duplicates = data.duplicated(subset=['customer_id', 'order_id', 'product'])\n",
    "if duplicates.any():\n",
    "    print(\"дубликаты найдены\")\n",
    "else:\n",
    "    print(\"дубликаты не найдены\")"
   ]
  },
  {
   "cell_type": "code",
   "execution_count": 17,
   "metadata": {},
   "outputs": [
    {
     "data": {
      "text/html": [
       "<div>\n",
       "<style scoped>\n",
       "    .dataframe tbody tr th:only-of-type {\n",
       "        vertical-align: middle;\n",
       "    }\n",
       "\n",
       "    .dataframe tbody tr th {\n",
       "        vertical-align: top;\n",
       "    }\n",
       "\n",
       "    .dataframe thead th {\n",
       "        text-align: right;\n",
       "    }\n",
       "</style>\n",
       "<table border=\"1\" class=\"dataframe\">\n",
       "  <thead>\n",
       "    <tr style=\"text-align: right;\">\n",
       "      <th></th>\n",
       "      <th>date</th>\n",
       "      <th>customer_id</th>\n",
       "      <th>order_id</th>\n",
       "      <th>product</th>\n",
       "      <th>quantity</th>\n",
       "      <th>price</th>\n",
       "      <th>year</th>\n",
       "      <th>month</th>\n",
       "      <th>day</th>\n",
       "      <th>full_price</th>\n",
       "    </tr>\n",
       "  </thead>\n",
       "  <tbody>\n",
       "    <tr>\n",
       "      <th>58</th>\n",
       "      <td>2018-10-02</td>\n",
       "      <td>b731df05-98fa-4610-8496-716ec530a02c</td>\n",
       "      <td>68474</td>\n",
       "      <td>доска гладильная eurogold professional 130х48 см металлическая сетка 35748w</td>\n",
       "      <td>1</td>\n",
       "      <td>3299.0</td>\n",
       "      <td>2018</td>\n",
       "      <td>10</td>\n",
       "      <td>2</td>\n",
       "      <td>3299.0</td>\n",
       "    </tr>\n",
       "    <tr>\n",
       "      <th>59</th>\n",
       "      <td>2018-10-02</td>\n",
       "      <td>b731df05-98fa-4610-8496-716ec530a02c</td>\n",
       "      <td>68474</td>\n",
       "      <td>доска гладильная eurogold professional 130х48 см металлическая сетка 35748w</td>\n",
       "      <td>1</td>\n",
       "      <td>3299.0</td>\n",
       "      <td>2018</td>\n",
       "      <td>10</td>\n",
       "      <td>2</td>\n",
       "      <td>3299.0</td>\n",
       "    </tr>\n",
       "    <tr>\n",
       "      <th>60</th>\n",
       "      <td>2018-10-02</td>\n",
       "      <td>b731df05-98fa-4610-8496-716ec530a02c</td>\n",
       "      <td>68474</td>\n",
       "      <td>доска гладильная eurogold professional 130х48 см металлическая сетка 35748w</td>\n",
       "      <td>1</td>\n",
       "      <td>3299.0</td>\n",
       "      <td>2018</td>\n",
       "      <td>10</td>\n",
       "      <td>2</td>\n",
       "      <td>3299.0</td>\n",
       "    </tr>\n",
       "    <tr>\n",
       "      <th>63</th>\n",
       "      <td>2018-10-03</td>\n",
       "      <td>b731df05-98fa-4610-8496-716ec530a02c</td>\n",
       "      <td>68474</td>\n",
       "      <td>доска гладильная eurogold professional 130х48 см металлическая сетка 35748w</td>\n",
       "      <td>1</td>\n",
       "      <td>3299.0</td>\n",
       "      <td>2018</td>\n",
       "      <td>10</td>\n",
       "      <td>3</td>\n",
       "      <td>3299.0</td>\n",
       "    </tr>\n",
       "    <tr>\n",
       "      <th>94</th>\n",
       "      <td>2018-10-04</td>\n",
       "      <td>32de7df8-8d4f-4c84-a7b9-c41d00dd83ba</td>\n",
       "      <td>68522</td>\n",
       "      <td>эвкалипт гунни d-17 см h-60 см</td>\n",
       "      <td>1</td>\n",
       "      <td>1409.0</td>\n",
       "      <td>2018</td>\n",
       "      <td>10</td>\n",
       "      <td>4</td>\n",
       "      <td>1409.0</td>\n",
       "    </tr>\n",
       "    <tr>\n",
       "      <th>...</th>\n",
       "      <td>...</td>\n",
       "      <td>...</td>\n",
       "      <td>...</td>\n",
       "      <td>...</td>\n",
       "      <td>...</td>\n",
       "      <td>...</td>\n",
       "      <td>...</td>\n",
       "      <td>...</td>\n",
       "      <td>...</td>\n",
       "      <td>...</td>\n",
       "    </tr>\n",
       "    <tr>\n",
       "      <th>6706</th>\n",
       "      <td>2019-10-28</td>\n",
       "      <td>57cc80a2-2610-4eef-9457-e7c3bf0c72f0</td>\n",
       "      <td>70960</td>\n",
       "      <td>сумка-тележка 2-х колесная gimi argo красная</td>\n",
       "      <td>1</td>\n",
       "      <td>1087.0</td>\n",
       "      <td>2019</td>\n",
       "      <td>10</td>\n",
       "      <td>28</td>\n",
       "      <td>1087.0</td>\n",
       "    </tr>\n",
       "    <tr>\n",
       "      <th>6711</th>\n",
       "      <td>2019-10-28</td>\n",
       "      <td>cb65d08a-dae7-4890-aef0-bb9f79055e02</td>\n",
       "      <td>73108</td>\n",
       "      <td>мирт d-9 см h-15 см</td>\n",
       "      <td>1</td>\n",
       "      <td>134.0</td>\n",
       "      <td>2019</td>\n",
       "      <td>10</td>\n",
       "      <td>28</td>\n",
       "      <td>134.0</td>\n",
       "    </tr>\n",
       "    <tr>\n",
       "      <th>6728</th>\n",
       "      <td>2019-10-31</td>\n",
       "      <td>ffaeab76-3a8d-49ee-860f-17273b2fc8a2</td>\n",
       "      <td>73136</td>\n",
       "      <td>таз пластмассовый со стиральной доской (иж), 1404021</td>\n",
       "      <td>1</td>\n",
       "      <td>397.0</td>\n",
       "      <td>2019</td>\n",
       "      <td>10</td>\n",
       "      <td>31</td>\n",
       "      <td>397.0</td>\n",
       "    </tr>\n",
       "    <tr>\n",
       "      <th>6729</th>\n",
       "      <td>2019-10-31</td>\n",
       "      <td>ffaeab76-3a8d-49ee-860f-17273b2fc8a2</td>\n",
       "      <td>73136</td>\n",
       "      <td>таз пластмассовый со стиральной доской (иж), 1404021</td>\n",
       "      <td>1</td>\n",
       "      <td>397.0</td>\n",
       "      <td>2019</td>\n",
       "      <td>10</td>\n",
       "      <td>31</td>\n",
       "      <td>397.0</td>\n",
       "    </tr>\n",
       "    <tr>\n",
       "      <th>6736</th>\n",
       "      <td>2019-10-31</td>\n",
       "      <td>344aa778-e436-419e-a9c6-9b8f37b7c1df</td>\n",
       "      <td>73137</td>\n",
       "      <td>сумка-тележка 2-х колесная gimi argo синяя</td>\n",
       "      <td>1</td>\n",
       "      <td>1087.0</td>\n",
       "      <td>2019</td>\n",
       "      <td>10</td>\n",
       "      <td>31</td>\n",
       "      <td>1087.0</td>\n",
       "    </tr>\n",
       "  </tbody>\n",
       "</table>\n",
       "<p>1886 rows × 10 columns</p>\n",
       "</div>"
      ],
      "text/plain": [
       "           date                           customer_id  order_id  \\\n",
       "58   2018-10-02  b731df05-98fa-4610-8496-716ec530a02c     68474   \n",
       "59   2018-10-02  b731df05-98fa-4610-8496-716ec530a02c     68474   \n",
       "60   2018-10-02  b731df05-98fa-4610-8496-716ec530a02c     68474   \n",
       "63   2018-10-03  b731df05-98fa-4610-8496-716ec530a02c     68474   \n",
       "94   2018-10-04  32de7df8-8d4f-4c84-a7b9-c41d00dd83ba     68522   \n",
       "...         ...                                   ...       ...   \n",
       "6706 2019-10-28  57cc80a2-2610-4eef-9457-e7c3bf0c72f0     70960   \n",
       "6711 2019-10-28  cb65d08a-dae7-4890-aef0-bb9f79055e02     73108   \n",
       "6728 2019-10-31  ffaeab76-3a8d-49ee-860f-17273b2fc8a2     73136   \n",
       "6729 2019-10-31  ffaeab76-3a8d-49ee-860f-17273b2fc8a2     73136   \n",
       "6736 2019-10-31  344aa778-e436-419e-a9c6-9b8f37b7c1df     73137   \n",
       "\n",
       "                                                                          product  \\\n",
       "58    доска гладильная eurogold professional 130х48 см металлическая сетка 35748w   \n",
       "59    доска гладильная eurogold professional 130х48 см металлическая сетка 35748w   \n",
       "60    доска гладильная eurogold professional 130х48 см металлическая сетка 35748w   \n",
       "63    доска гладильная eurogold professional 130х48 см металлическая сетка 35748w   \n",
       "94                                                 эвкалипт гунни d-17 см h-60 см   \n",
       "...                                                                           ...   \n",
       "6706                                 сумка-тележка 2-х колесная gimi argo красная   \n",
       "6711                                                          мирт d-9 см h-15 см   \n",
       "6728                         таз пластмассовый со стиральной доской (иж), 1404021   \n",
       "6729                         таз пластмассовый со стиральной доской (иж), 1404021   \n",
       "6736                                   сумка-тележка 2-х колесная gimi argo синяя   \n",
       "\n",
       "      quantity   price  year  month  day  full_price  \n",
       "58           1  3299.0  2018     10    2      3299.0  \n",
       "59           1  3299.0  2018     10    2      3299.0  \n",
       "60           1  3299.0  2018     10    2      3299.0  \n",
       "63           1  3299.0  2018     10    3      3299.0  \n",
       "94           1  1409.0  2018     10    4      1409.0  \n",
       "...        ...     ...   ...    ...  ...         ...  \n",
       "6706         1  1087.0  2019     10   28      1087.0  \n",
       "6711         1   134.0  2019     10   28       134.0  \n",
       "6728         1   397.0  2019     10   31       397.0  \n",
       "6729         1   397.0  2019     10   31       397.0  \n",
       "6736         1  1087.0  2019     10   31      1087.0  \n",
       "\n",
       "[1886 rows x 10 columns]"
      ]
     },
     "execution_count": 17,
     "metadata": {},
     "output_type": "execute_result"
    }
   ],
   "source": [
    "#посмотрим на строки-дубликаты\n",
    "data[duplicates]"
   ]
  },
  {
   "cell_type": "markdown",
   "metadata": {},
   "source": [
    "Мы нашли 1886 строк-дубликатов. Это достаточно большое количество для такого датафрейма как наш (в 7 474 строки). Но как мы уже обсуждали выше - эти данные никогда не проходили анализ. Возможно, в работе приложения есть периодические технические сбои, которые задваивают заказы. Мы удалим данные дубликаты, а в конце направим рекомендацию для технического отдела нашего приложения - проанализировать техническую часть при формировании и оформлении заказа "
   ]
  },
  {
   "cell_type": "code",
   "execution_count": 18,
   "metadata": {},
   "outputs": [],
   "source": [
    "#удалим дубликаты\n",
    "data.drop_duplicates(subset=['customer_id', 'order_id', 'product'], inplace=True)"
   ]
  },
  {
   "cell_type": "code",
   "execution_count": 19,
   "metadata": {},
   "outputs": [
    {
     "name": "stdout",
     "output_type": "stream",
     "text": [
      "дубликаты не найдены\n"
     ]
    }
   ],
   "source": [
    "#проверим, остались ли еще дубликаты\n",
    "duplicates = data.duplicated(subset=['customer_id', 'order_id', 'product'])\n",
    "if duplicates.any():\n",
    "    print(\"дубликаты найдены\")\n",
    "else:\n",
    "    print(\"дубликаты не найдены\")"
   ]
  },
  {
   "cell_type": "markdown",
   "metadata": {},
   "source": [
    "Дубликатов-строк больше не осталось. Необходимо добавить проверку что каждому номеру заказа - назначен только 1 покупатель"
   ]
  },
  {
   "cell_type": "code",
   "execution_count": 20,
   "metadata": {},
   "outputs": [
    {
     "data": {
      "text/html": [
       "<div>\n",
       "<style scoped>\n",
       "    .dataframe tbody tr th:only-of-type {\n",
       "        vertical-align: middle;\n",
       "    }\n",
       "\n",
       "    .dataframe tbody tr th {\n",
       "        vertical-align: top;\n",
       "    }\n",
       "\n",
       "    .dataframe thead th {\n",
       "        text-align: right;\n",
       "    }\n",
       "</style>\n",
       "<table border=\"1\" class=\"dataframe\">\n",
       "  <thead>\n",
       "    <tr style=\"text-align: right;\">\n",
       "      <th></th>\n",
       "      <th>customer_id</th>\n",
       "    </tr>\n",
       "    <tr>\n",
       "      <th>order_id</th>\n",
       "      <th></th>\n",
       "    </tr>\n",
       "  </thead>\n",
       "  <tbody>\n",
       "    <tr>\n",
       "      <th>14872</th>\n",
       "      <td>2</td>\n",
       "    </tr>\n",
       "    <tr>\n",
       "      <th>68785</th>\n",
       "      <td>2</td>\n",
       "    </tr>\n",
       "    <tr>\n",
       "      <th>69283</th>\n",
       "      <td>2</td>\n",
       "    </tr>\n",
       "    <tr>\n",
       "      <th>69310</th>\n",
       "      <td>2</td>\n",
       "    </tr>\n",
       "    <tr>\n",
       "      <th>69345</th>\n",
       "      <td>2</td>\n",
       "    </tr>\n",
       "    <tr>\n",
       "      <th>69410</th>\n",
       "      <td>2</td>\n",
       "    </tr>\n",
       "    <tr>\n",
       "      <th>69485</th>\n",
       "      <td>3</td>\n",
       "    </tr>\n",
       "    <tr>\n",
       "      <th>69531</th>\n",
       "      <td>2</td>\n",
       "    </tr>\n",
       "    <tr>\n",
       "      <th>69833</th>\n",
       "      <td>2</td>\n",
       "    </tr>\n",
       "    <tr>\n",
       "      <th>70114</th>\n",
       "      <td>2</td>\n",
       "    </tr>\n",
       "    <tr>\n",
       "      <th>70542</th>\n",
       "      <td>2</td>\n",
       "    </tr>\n",
       "    <tr>\n",
       "      <th>70631</th>\n",
       "      <td>2</td>\n",
       "    </tr>\n",
       "    <tr>\n",
       "      <th>70726</th>\n",
       "      <td>2</td>\n",
       "    </tr>\n",
       "    <tr>\n",
       "      <th>70808</th>\n",
       "      <td>2</td>\n",
       "    </tr>\n",
       "    <tr>\n",
       "      <th>70903</th>\n",
       "      <td>2</td>\n",
       "    </tr>\n",
       "    <tr>\n",
       "      <th>70946</th>\n",
       "      <td>2</td>\n",
       "    </tr>\n",
       "    <tr>\n",
       "      <th>71054</th>\n",
       "      <td>2</td>\n",
       "    </tr>\n",
       "    <tr>\n",
       "      <th>71226</th>\n",
       "      <td>2</td>\n",
       "    </tr>\n",
       "    <tr>\n",
       "      <th>71461</th>\n",
       "      <td>2</td>\n",
       "    </tr>\n",
       "    <tr>\n",
       "      <th>71480</th>\n",
       "      <td>3</td>\n",
       "    </tr>\n",
       "    <tr>\n",
       "      <th>71542</th>\n",
       "      <td>2</td>\n",
       "    </tr>\n",
       "    <tr>\n",
       "      <th>71571</th>\n",
       "      <td>2</td>\n",
       "    </tr>\n",
       "    <tr>\n",
       "      <th>71648</th>\n",
       "      <td>2</td>\n",
       "    </tr>\n",
       "    <tr>\n",
       "      <th>71663</th>\n",
       "      <td>2</td>\n",
       "    </tr>\n",
       "    <tr>\n",
       "      <th>72188</th>\n",
       "      <td>2</td>\n",
       "    </tr>\n",
       "    <tr>\n",
       "      <th>72778</th>\n",
       "      <td>2</td>\n",
       "    </tr>\n",
       "    <tr>\n",
       "      <th>72790</th>\n",
       "      <td>2</td>\n",
       "    </tr>\n",
       "    <tr>\n",
       "      <th>72845</th>\n",
       "      <td>4</td>\n",
       "    </tr>\n",
       "    <tr>\n",
       "      <th>72950</th>\n",
       "      <td>2</td>\n",
       "    </tr>\n",
       "  </tbody>\n",
       "</table>\n",
       "</div>"
      ],
      "text/plain": [
       "          customer_id\n",
       "order_id             \n",
       "14872               2\n",
       "68785               2\n",
       "69283               2\n",
       "69310               2\n",
       "69345               2\n",
       "69410               2\n",
       "69485               3\n",
       "69531               2\n",
       "69833               2\n",
       "70114               2\n",
       "70542               2\n",
       "70631               2\n",
       "70726               2\n",
       "70808               2\n",
       "70903               2\n",
       "70946               2\n",
       "71054               2\n",
       "71226               2\n",
       "71461               2\n",
       "71480               3\n",
       "71542               2\n",
       "71571               2\n",
       "71648               2\n",
       "71663               2\n",
       "72188               2\n",
       "72778               2\n",
       "72790               2\n",
       "72845               4\n",
       "72950               2"
      ]
     },
     "execution_count": 20,
     "metadata": {},
     "output_type": "execute_result"
    }
   ],
   "source": [
    "#определим заказы, которые при одинаковых данных имеют больше одного покупателя\n",
    "bug_orders = data.groupby('order_id').agg({'customer_id': 'nunique'}).query('customer_id > 1')\n",
    "bug_orders"
   ]
  },
  {
   "cell_type": "markdown",
   "metadata": {},
   "source": [
    "У нас есть 29 заказов, которым присвоены больше чем 1 покупатель. Посмотрим более детально"
   ]
  },
  {
   "cell_type": "code",
   "execution_count": 21,
   "metadata": {},
   "outputs": [
    {
     "data": {
      "text/html": [
       "<div>\n",
       "<style scoped>\n",
       "    .dataframe tbody tr th:only-of-type {\n",
       "        vertical-align: middle;\n",
       "    }\n",
       "\n",
       "    .dataframe tbody tr th {\n",
       "        vertical-align: top;\n",
       "    }\n",
       "\n",
       "    .dataframe thead th {\n",
       "        text-align: right;\n",
       "    }\n",
       "</style>\n",
       "<table border=\"1\" class=\"dataframe\">\n",
       "  <thead>\n",
       "    <tr style=\"text-align: right;\">\n",
       "      <th></th>\n",
       "      <th>date</th>\n",
       "      <th>customer_id</th>\n",
       "      <th>order_id</th>\n",
       "      <th>product</th>\n",
       "      <th>quantity</th>\n",
       "      <th>price</th>\n",
       "      <th>year</th>\n",
       "      <th>month</th>\n",
       "      <th>day</th>\n",
       "      <th>full_price</th>\n",
       "    </tr>\n",
       "  </thead>\n",
       "  <tbody>\n",
       "    <tr>\n",
       "      <th>3963</th>\n",
       "      <td>2019-05-21</td>\n",
       "      <td>4bd9c1e8-b2cc-4ec5-97eb-28d8f3c22d8d</td>\n",
       "      <td>71480</td>\n",
       "      <td>мята перечная шоколадная chocolate d-7 см h-10 см укорененный черенок</td>\n",
       "      <td>1</td>\n",
       "      <td>74.0</td>\n",
       "      <td>2019</td>\n",
       "      <td>5</td>\n",
       "      <td>21</td>\n",
       "      <td>74.0</td>\n",
       "    </tr>\n",
       "    <tr>\n",
       "      <th>4025</th>\n",
       "      <td>2019-05-24</td>\n",
       "      <td>d8080f8f-3685-433b-b416-beb0a8f06606</td>\n",
       "      <td>71480</td>\n",
       "      <td>мята перечная шоколадная chocolate d-7 см h-10 см укорененный черенок</td>\n",
       "      <td>1</td>\n",
       "      <td>74.0</td>\n",
       "      <td>2019</td>\n",
       "      <td>5</td>\n",
       "      <td>24</td>\n",
       "      <td>74.0</td>\n",
       "    </tr>\n",
       "    <tr>\n",
       "      <th>4026</th>\n",
       "      <td>2019-05-25</td>\n",
       "      <td>51f04abe-a71a-4694-87b7-ad9ef4930e51</td>\n",
       "      <td>71480</td>\n",
       "      <td>мята перечная шоколадная chocolate d-7 см h-10 см укорененный черенок</td>\n",
       "      <td>1</td>\n",
       "      <td>74.0</td>\n",
       "      <td>2019</td>\n",
       "      <td>5</td>\n",
       "      <td>25</td>\n",
       "      <td>74.0</td>\n",
       "    </tr>\n",
       "  </tbody>\n",
       "</table>\n",
       "</div>"
      ],
      "text/plain": [
       "           date                           customer_id  order_id  \\\n",
       "3963 2019-05-21  4bd9c1e8-b2cc-4ec5-97eb-28d8f3c22d8d     71480   \n",
       "4025 2019-05-24  d8080f8f-3685-433b-b416-beb0a8f06606     71480   \n",
       "4026 2019-05-25  51f04abe-a71a-4694-87b7-ad9ef4930e51     71480   \n",
       "\n",
       "                                                                    product  \\\n",
       "3963  мята перечная шоколадная chocolate d-7 см h-10 см укорененный черенок   \n",
       "4025  мята перечная шоколадная chocolate d-7 см h-10 см укорененный черенок   \n",
       "4026  мята перечная шоколадная chocolate d-7 см h-10 см укорененный черенок   \n",
       "\n",
       "      quantity  price  year  month  day  full_price  \n",
       "3963         1   74.0  2019      5   21        74.0  \n",
       "4025         1   74.0  2019      5   24        74.0  \n",
       "4026         1   74.0  2019      5   25        74.0  "
      ]
     },
     "execution_count": 21,
     "metadata": {},
     "output_type": "execute_result"
    }
   ],
   "source": [
    "#посмотрим на заказ из списка более детально\n",
    "data[data['order_id'] == 71480]"
   ]
  },
  {
   "cell_type": "markdown",
   "metadata": {},
   "source": [
    "Как видно, заказ №71480 имеет одинаковый товар, но 3 различные id-покупателя и даты. \n",
    "\n",
    "Вероятно, технический сбой  привел к тому, что id-заказа стало одинаковым в 3-х разных заказах, или сбой привел к изменению id-покупателя в одном и том же заказе.\n",
    "\n",
    "На данный момент у нас нет возможности дать ответ - сделаны эти заказы разными покупателями или нет, поэтому  мы удалим строки дублирующихся заказов. Так как неизвестно, когда и по какой причине возникла техническая ошибка, которая привела к сбою в данных - будем оставлять последнее изменение заказа (последнюю строку)"
   ]
  },
  {
   "cell_type": "code",
   "execution_count": 22,
   "metadata": {},
   "outputs": [],
   "source": [
    "#удалим строки \n",
    "data = data.drop(index=[5518, 5519, 5520, 512, 1154, 1177, 1196, 1237, 1282, 1292, 1323, 1519, 1706, 2118, 2211, 2322,\n",
    "                       2409, 2491, 2579, 2720, 2996, 3932, 3963, 4025, 4089, 4297, 4909, 5020, 6026, 6440, 6447, 6504, \n",
    "                       6505, 6508, 6601])"
   ]
  },
  {
   "cell_type": "code",
   "execution_count": 23,
   "metadata": {},
   "outputs": [
    {
     "data": {
      "text/html": [
       "<div>\n",
       "<style scoped>\n",
       "    .dataframe tbody tr th:only-of-type {\n",
       "        vertical-align: middle;\n",
       "    }\n",
       "\n",
       "    .dataframe tbody tr th {\n",
       "        vertical-align: top;\n",
       "    }\n",
       "\n",
       "    .dataframe thead th {\n",
       "        text-align: right;\n",
       "    }\n",
       "</style>\n",
       "<table border=\"1\" class=\"dataframe\">\n",
       "  <thead>\n",
       "    <tr style=\"text-align: right;\">\n",
       "      <th></th>\n",
       "      <th>customer_id</th>\n",
       "    </tr>\n",
       "    <tr>\n",
       "      <th>order_id</th>\n",
       "      <th></th>\n",
       "    </tr>\n",
       "  </thead>\n",
       "  <tbody>\n",
       "  </tbody>\n",
       "</table>\n",
       "</div>"
      ],
      "text/plain": [
       "Empty DataFrame\n",
       "Columns: [customer_id]\n",
       "Index: []"
      ]
     },
     "execution_count": 23,
     "metadata": {},
     "output_type": "execute_result"
    }
   ],
   "source": [
    "#проверим еще раз, остались ли заказы, которые при одинаковых данных имеют больше одного покупателя\n",
    "bug_orders_new = data.groupby('order_id').agg({'customer_id': 'nunique'}).query('customer_id > 1')\n",
    "bug_orders_new"
   ]
  },
  {
   "cell_type": "markdown",
   "metadata": {},
   "source": [
    "Проверим так же, есть ли заказы с одним id но с разными датами"
   ]
  },
  {
   "cell_type": "code",
   "execution_count": 24,
   "metadata": {},
   "outputs": [
    {
     "data": {
      "text/html": [
       "<div>\n",
       "<style scoped>\n",
       "    .dataframe tbody tr th:only-of-type {\n",
       "        vertical-align: middle;\n",
       "    }\n",
       "\n",
       "    .dataframe tbody tr th {\n",
       "        vertical-align: top;\n",
       "    }\n",
       "\n",
       "    .dataframe thead th {\n",
       "        text-align: right;\n",
       "    }\n",
       "</style>\n",
       "<table border=\"1\" class=\"dataframe\">\n",
       "  <thead>\n",
       "    <tr style=\"text-align: right;\">\n",
       "      <th></th>\n",
       "      <th>date</th>\n",
       "    </tr>\n",
       "    <tr>\n",
       "      <th>order_id</th>\n",
       "      <th></th>\n",
       "    </tr>\n",
       "  </thead>\n",
       "  <tbody>\n",
       "    <tr>\n",
       "      <th>14500</th>\n",
       "      <td>2</td>\n",
       "    </tr>\n",
       "    <tr>\n",
       "      <th>14898</th>\n",
       "      <td>2</td>\n",
       "    </tr>\n",
       "    <tr>\n",
       "      <th>69527</th>\n",
       "      <td>2</td>\n",
       "    </tr>\n",
       "    <tr>\n",
       "      <th>69750</th>\n",
       "      <td>2</td>\n",
       "    </tr>\n",
       "    <tr>\n",
       "      <th>69807</th>\n",
       "      <td>2</td>\n",
       "    </tr>\n",
       "    <tr>\n",
       "      <th>70186</th>\n",
       "      <td>2</td>\n",
       "    </tr>\n",
       "    <tr>\n",
       "      <th>70318</th>\n",
       "      <td>2</td>\n",
       "    </tr>\n",
       "    <tr>\n",
       "      <th>70995</th>\n",
       "      <td>2</td>\n",
       "    </tr>\n",
       "    <tr>\n",
       "      <th>71143</th>\n",
       "      <td>2</td>\n",
       "    </tr>\n",
       "    <tr>\n",
       "      <th>71426</th>\n",
       "      <td>2</td>\n",
       "    </tr>\n",
       "  </tbody>\n",
       "</table>\n",
       "</div>"
      ],
      "text/plain": [
       "          date\n",
       "order_id      \n",
       "14500        2\n",
       "14898        2\n",
       "69527        2\n",
       "69750        2\n",
       "69807        2\n",
       "70186        2\n",
       "70318        2\n",
       "70995        2\n",
       "71143        2\n",
       "71426        2"
      ]
     },
     "execution_count": 24,
     "metadata": {},
     "output_type": "execute_result"
    }
   ],
   "source": [
    "#проверим еще раз, остались ли заказы, которые при одинаковых id имеют разные даты\n",
    "bug_orders_second = data.groupby('order_id').agg({'date': 'nunique'}).query('date > 1')\n",
    "bug_orders_second"
   ]
  },
  {
   "cell_type": "code",
   "execution_count": 25,
   "metadata": {},
   "outputs": [
    {
     "data": {
      "text/html": [
       "<div>\n",
       "<style scoped>\n",
       "    .dataframe tbody tr th:only-of-type {\n",
       "        vertical-align: middle;\n",
       "    }\n",
       "\n",
       "    .dataframe tbody tr th {\n",
       "        vertical-align: top;\n",
       "    }\n",
       "\n",
       "    .dataframe thead th {\n",
       "        text-align: right;\n",
       "    }\n",
       "</style>\n",
       "<table border=\"1\" class=\"dataframe\">\n",
       "  <thead>\n",
       "    <tr style=\"text-align: right;\">\n",
       "      <th></th>\n",
       "      <th>date</th>\n",
       "      <th>customer_id</th>\n",
       "      <th>order_id</th>\n",
       "      <th>product</th>\n",
       "      <th>quantity</th>\n",
       "      <th>price</th>\n",
       "      <th>year</th>\n",
       "      <th>month</th>\n",
       "      <th>day</th>\n",
       "      <th>full_price</th>\n",
       "    </tr>\n",
       "  </thead>\n",
       "  <tbody>\n",
       "    <tr>\n",
       "      <th>482</th>\n",
       "      <td>2018-10-28</td>\n",
       "      <td>3ee43256-af7d-4036-90d4-eeefa1afc767</td>\n",
       "      <td>14500</td>\n",
       "      <td>многолетнее растение душица-орегано розовый объем 0,5 л</td>\n",
       "      <td>1</td>\n",
       "      <td>89.0</td>\n",
       "      <td>2018</td>\n",
       "      <td>10</td>\n",
       "      <td>28</td>\n",
       "      <td>89.0</td>\n",
       "    </tr>\n",
       "    <tr>\n",
       "      <th>483</th>\n",
       "      <td>2018-10-28</td>\n",
       "      <td>3ee43256-af7d-4036-90d4-eeefa1afc767</td>\n",
       "      <td>14500</td>\n",
       "      <td>многолетнее растение тимьян-чабрец розовый объем 0,5 л</td>\n",
       "      <td>1</td>\n",
       "      <td>89.0</td>\n",
       "      <td>2018</td>\n",
       "      <td>10</td>\n",
       "      <td>28</td>\n",
       "      <td>89.0</td>\n",
       "    </tr>\n",
       "    <tr>\n",
       "      <th>484</th>\n",
       "      <td>2018-10-28</td>\n",
       "      <td>3ee43256-af7d-4036-90d4-eeefa1afc767</td>\n",
       "      <td>14500</td>\n",
       "      <td>пеларгония зональная диам. 12 см белая полумахровая</td>\n",
       "      <td>1</td>\n",
       "      <td>188.0</td>\n",
       "      <td>2018</td>\n",
       "      <td>10</td>\n",
       "      <td>28</td>\n",
       "      <td>188.0</td>\n",
       "    </tr>\n",
       "    <tr>\n",
       "      <th>485</th>\n",
       "      <td>2018-10-28</td>\n",
       "      <td>3ee43256-af7d-4036-90d4-eeefa1afc767</td>\n",
       "      <td>14500</td>\n",
       "      <td>пеларгония зональная диам. 12 см розовая с малиновым полумахровая</td>\n",
       "      <td>1</td>\n",
       "      <td>188.0</td>\n",
       "      <td>2018</td>\n",
       "      <td>10</td>\n",
       "      <td>28</td>\n",
       "      <td>188.0</td>\n",
       "    </tr>\n",
       "    <tr>\n",
       "      <th>486</th>\n",
       "      <td>2018-10-28</td>\n",
       "      <td>3ee43256-af7d-4036-90d4-eeefa1afc767</td>\n",
       "      <td>14500</td>\n",
       "      <td>пеларгония зональная диам. 12 см сиреневый полумахровый</td>\n",
       "      <td>1</td>\n",
       "      <td>188.0</td>\n",
       "      <td>2018</td>\n",
       "      <td>10</td>\n",
       "      <td>28</td>\n",
       "      <td>188.0</td>\n",
       "    </tr>\n",
       "    <tr>\n",
       "      <th>487</th>\n",
       "      <td>2018-10-28</td>\n",
       "      <td>3ee43256-af7d-4036-90d4-eeefa1afc767</td>\n",
       "      <td>14500</td>\n",
       "      <td>пеларгония зональная диам. 12 см ярко красная махровая</td>\n",
       "      <td>1</td>\n",
       "      <td>188.0</td>\n",
       "      <td>2018</td>\n",
       "      <td>10</td>\n",
       "      <td>28</td>\n",
       "      <td>188.0</td>\n",
       "    </tr>\n",
       "    <tr>\n",
       "      <th>488</th>\n",
       "      <td>2018-10-28</td>\n",
       "      <td>3ee43256-af7d-4036-90d4-eeefa1afc767</td>\n",
       "      <td>14500</td>\n",
       "      <td>рассада зелени для кухни базилик арарат, кассета по 6шт</td>\n",
       "      <td>1</td>\n",
       "      <td>169.0</td>\n",
       "      <td>2018</td>\n",
       "      <td>10</td>\n",
       "      <td>28</td>\n",
       "      <td>169.0</td>\n",
       "    </tr>\n",
       "    <tr>\n",
       "      <th>489</th>\n",
       "      <td>2018-10-28</td>\n",
       "      <td>3ee43256-af7d-4036-90d4-eeefa1afc767</td>\n",
       "      <td>14500</td>\n",
       "      <td>рассада зелени для кухни лаванды в горшке диам. 9 см</td>\n",
       "      <td>1</td>\n",
       "      <td>101.0</td>\n",
       "      <td>2018</td>\n",
       "      <td>10</td>\n",
       "      <td>28</td>\n",
       "      <td>101.0</td>\n",
       "    </tr>\n",
       "    <tr>\n",
       "      <th>490</th>\n",
       "      <td>2018-10-28</td>\n",
       "      <td>3ee43256-af7d-4036-90d4-eeefa1afc767</td>\n",
       "      <td>14500</td>\n",
       "      <td>рассада зелени для кухни розмарина в кассете по 6 шт</td>\n",
       "      <td>1</td>\n",
       "      <td>210.0</td>\n",
       "      <td>2018</td>\n",
       "      <td>10</td>\n",
       "      <td>28</td>\n",
       "      <td>210.0</td>\n",
       "    </tr>\n",
       "    <tr>\n",
       "      <th>550</th>\n",
       "      <td>2018-10-31</td>\n",
       "      <td>3ee43256-af7d-4036-90d4-eeefa1afc767</td>\n",
       "      <td>14500</td>\n",
       "      <td>рассада зелени для кухни розмарина в горшке диам. 9 см</td>\n",
       "      <td>1</td>\n",
       "      <td>101.0</td>\n",
       "      <td>2018</td>\n",
       "      <td>10</td>\n",
       "      <td>31</td>\n",
       "      <td>101.0</td>\n",
       "    </tr>\n",
       "  </tbody>\n",
       "</table>\n",
       "</div>"
      ],
      "text/plain": [
       "          date                           customer_id  order_id  \\\n",
       "482 2018-10-28  3ee43256-af7d-4036-90d4-eeefa1afc767     14500   \n",
       "483 2018-10-28  3ee43256-af7d-4036-90d4-eeefa1afc767     14500   \n",
       "484 2018-10-28  3ee43256-af7d-4036-90d4-eeefa1afc767     14500   \n",
       "485 2018-10-28  3ee43256-af7d-4036-90d4-eeefa1afc767     14500   \n",
       "486 2018-10-28  3ee43256-af7d-4036-90d4-eeefa1afc767     14500   \n",
       "487 2018-10-28  3ee43256-af7d-4036-90d4-eeefa1afc767     14500   \n",
       "488 2018-10-28  3ee43256-af7d-4036-90d4-eeefa1afc767     14500   \n",
       "489 2018-10-28  3ee43256-af7d-4036-90d4-eeefa1afc767     14500   \n",
       "490 2018-10-28  3ee43256-af7d-4036-90d4-eeefa1afc767     14500   \n",
       "550 2018-10-31  3ee43256-af7d-4036-90d4-eeefa1afc767     14500   \n",
       "\n",
       "                                                               product  \\\n",
       "482            многолетнее растение душица-орегано розовый объем 0,5 л   \n",
       "483             многолетнее растение тимьян-чабрец розовый объем 0,5 л   \n",
       "484                пеларгония зональная диам. 12 см белая полумахровая   \n",
       "485  пеларгония зональная диам. 12 см розовая с малиновым полумахровая   \n",
       "486            пеларгония зональная диам. 12 см сиреневый полумахровый   \n",
       "487             пеларгония зональная диам. 12 см ярко красная махровая   \n",
       "488            рассада зелени для кухни базилик арарат, кассета по 6шт   \n",
       "489               рассада зелени для кухни лаванды в горшке диам. 9 см   \n",
       "490               рассада зелени для кухни розмарина в кассете по 6 шт   \n",
       "550             рассада зелени для кухни розмарина в горшке диам. 9 см   \n",
       "\n",
       "     quantity  price  year  month  day  full_price  \n",
       "482         1   89.0  2018     10   28        89.0  \n",
       "483         1   89.0  2018     10   28        89.0  \n",
       "484         1  188.0  2018     10   28       188.0  \n",
       "485         1  188.0  2018     10   28       188.0  \n",
       "486         1  188.0  2018     10   28       188.0  \n",
       "487         1  188.0  2018     10   28       188.0  \n",
       "488         1  169.0  2018     10   28       169.0  \n",
       "489         1  101.0  2018     10   28       101.0  \n",
       "490         1  210.0  2018     10   28       210.0  \n",
       "550         1  101.0  2018     10   31       101.0  "
      ]
     },
     "execution_count": 25,
     "metadata": {},
     "output_type": "execute_result"
    }
   ],
   "source": [
    "#посмотрим на заказ из списка более детально\n",
    "data[data['order_id'] == 14500]"
   ]
  },
  {
   "cell_type": "markdown",
   "metadata": {},
   "source": [
    "Как видно, один и тот же покупатель сделал большой заказ 28 октября, 29 октября он добавил еще один товар(с другим названием) но эта позиция не получила своего отдельного id-заказа, а была прикреплена к заказу с предыдущего дня.\n",
    "\n",
    "Так как здесь уже указаны разные позиции, мы не можем просто удалить строку. Вместо этого дадим заказу другой id. Для этого сначала узнаем максимальное значение id-заказа\n",
    "\n",
    "Проанализируем всё дублеры, и исправим заказы"
   ]
  },
  {
   "cell_type": "code",
   "execution_count": 26,
   "metadata": {},
   "outputs": [
    {
     "data": {
      "text/plain": [
       "112789"
      ]
     },
     "execution_count": 26,
     "metadata": {},
     "output_type": "execute_result"
    }
   ],
   "source": [
    "#определим максимальное значение id-заказа\n",
    "data['order_id'].max()"
   ]
  },
  {
   "cell_type": "code",
   "execution_count": 27,
   "metadata": {},
   "outputs": [],
   "source": [
    "#назначим заказам новые номера\n",
    "data.loc[550, 'order_id'] = 112790\n",
    "data.loc[5803, 'order_id'] = 112791\n",
    "data.loc[1351, 'order_id'] = 112792\n",
    "data.loc[1814, 'order_id'] = 112793\n",
    "data.loc[1807, 'order_id'] = 112794\n",
    "data.loc[1802, 'order_id'] = 112795\n",
    "data.loc[1938, 'order_id'] = 112796\n",
    "data.loc[2743, 'order_id'] = 112797\n",
    "data.loc[2948, 'order_id'] = 112798\n",
    "data.loc[3797, 'order_id'] = 112799"
   ]
  },
  {
   "cell_type": "code",
   "execution_count": 28,
   "metadata": {},
   "outputs": [
    {
     "data": {
      "text/html": [
       "<div>\n",
       "<style scoped>\n",
       "    .dataframe tbody tr th:only-of-type {\n",
       "        vertical-align: middle;\n",
       "    }\n",
       "\n",
       "    .dataframe tbody tr th {\n",
       "        vertical-align: top;\n",
       "    }\n",
       "\n",
       "    .dataframe thead th {\n",
       "        text-align: right;\n",
       "    }\n",
       "</style>\n",
       "<table border=\"1\" class=\"dataframe\">\n",
       "  <thead>\n",
       "    <tr style=\"text-align: right;\">\n",
       "      <th></th>\n",
       "      <th>date</th>\n",
       "    </tr>\n",
       "    <tr>\n",
       "      <th>order_id</th>\n",
       "      <th></th>\n",
       "    </tr>\n",
       "  </thead>\n",
       "  <tbody>\n",
       "  </tbody>\n",
       "</table>\n",
       "</div>"
      ],
      "text/plain": [
       "Empty DataFrame\n",
       "Columns: [date]\n",
       "Index: []"
      ]
     },
     "execution_count": 28,
     "metadata": {},
     "output_type": "execute_result"
    }
   ],
   "source": [
    "#проверим еще раз, остались ли заказы, которые при одинаковых id имеют разные даты\n",
    "bug_orders_repeat = data.groupby('order_id').agg({'date': 'nunique'}).query('date > 1')\n",
    "bug_orders_repeat"
   ]
  },
  {
   "cell_type": "markdown",
   "metadata": {},
   "source": [
    "Все дублирующие строки были удалены. Так же удалим в этом разделе тестовый заказ менеджера магазина"
   ]
  },
  {
   "cell_type": "markdown",
   "metadata": {},
   "source": [
    "### Удаление тестового заказа менеджера"
   ]
  },
  {
   "cell_type": "code",
   "execution_count": 29,
   "metadata": {},
   "outputs": [
    {
     "data": {
      "text/html": [
       "<div>\n",
       "<style scoped>\n",
       "    .dataframe tbody tr th:only-of-type {\n",
       "        vertical-align: middle;\n",
       "    }\n",
       "\n",
       "    .dataframe tbody tr th {\n",
       "        vertical-align: top;\n",
       "    }\n",
       "\n",
       "    .dataframe thead th {\n",
       "        text-align: right;\n",
       "    }\n",
       "</style>\n",
       "<table border=\"1\" class=\"dataframe\">\n",
       "  <thead>\n",
       "    <tr style=\"text-align: right;\">\n",
       "      <th></th>\n",
       "      <th>date</th>\n",
       "      <th>customer_id</th>\n",
       "      <th>order_id</th>\n",
       "      <th>product</th>\n",
       "      <th>quantity</th>\n",
       "      <th>price</th>\n",
       "      <th>year</th>\n",
       "      <th>month</th>\n",
       "      <th>day</th>\n",
       "      <th>full_price</th>\n",
       "    </tr>\n",
       "  </thead>\n",
       "  <tbody>\n",
       "    <tr>\n",
       "      <th>5456</th>\n",
       "      <td>2019-06-18</td>\n",
       "      <td>312e9a3e-5fca-43ff-a6a1-892d2b2d5ba6</td>\n",
       "      <td>71743</td>\n",
       "      <td>вантуз с деревянной ручкой d14 см красный, burstenmann, 0522/0000</td>\n",
       "      <td>1000</td>\n",
       "      <td>675.0</td>\n",
       "      <td>2019</td>\n",
       "      <td>6</td>\n",
       "      <td>18</td>\n",
       "      <td>675000.0</td>\n",
       "    </tr>\n",
       "  </tbody>\n",
       "</table>\n",
       "</div>"
      ],
      "text/plain": [
       "           date                           customer_id  order_id  \\\n",
       "5456 2019-06-18  312e9a3e-5fca-43ff-a6a1-892d2b2d5ba6     71743   \n",
       "\n",
       "                                                                product  \\\n",
       "5456  вантуз с деревянной ручкой d14 см красный, burstenmann, 0522/0000   \n",
       "\n",
       "      quantity  price  year  month  day  full_price  \n",
       "5456      1000  675.0  2019      6   18    675000.0  "
      ]
     },
     "execution_count": 29,
     "metadata": {},
     "output_type": "execute_result"
    }
   ],
   "source": [
    "#найдем тестовый заказ\n",
    "test_order = data.nlargest(1, 'quantity')\n",
    "test_order"
   ]
  },
  {
   "cell_type": "code",
   "execution_count": 30,
   "metadata": {},
   "outputs": [],
   "source": [
    "#удалим строку с ним\n",
    "data = data.drop(index=5456)"
   ]
  },
  {
   "cell_type": "markdown",
   "metadata": {},
   "source": [
    "Мы нашли и удалили тестовый заказ менеджера. Предобработка данных подошла к концу"
   ]
  },
  {
   "cell_type": "markdown",
   "metadata": {},
   "source": [
    "### Анализ общей информации"
   ]
  },
  {
   "cell_type": "markdown",
   "metadata": {},
   "source": [
    "Оценим, что получилось в результате предобработки данных"
   ]
  },
  {
   "cell_type": "code",
   "execution_count": 31,
   "metadata": {},
   "outputs": [
    {
     "data": {
      "text/html": [
       "<div>\n",
       "<style scoped>\n",
       "    .dataframe tbody tr th:only-of-type {\n",
       "        vertical-align: middle;\n",
       "    }\n",
       "\n",
       "    .dataframe tbody tr th {\n",
       "        vertical-align: top;\n",
       "    }\n",
       "\n",
       "    .dataframe thead th {\n",
       "        text-align: right;\n",
       "    }\n",
       "</style>\n",
       "<table border=\"1\" class=\"dataframe\">\n",
       "  <thead>\n",
       "    <tr style=\"text-align: right;\">\n",
       "      <th></th>\n",
       "      <th>date</th>\n",
       "      <th>customer_id</th>\n",
       "      <th>order_id</th>\n",
       "      <th>product</th>\n",
       "      <th>quantity</th>\n",
       "      <th>price</th>\n",
       "      <th>year</th>\n",
       "      <th>month</th>\n",
       "      <th>day</th>\n",
       "      <th>full_price</th>\n",
       "    </tr>\n",
       "  </thead>\n",
       "  <tbody>\n",
       "    <tr>\n",
       "      <th>0</th>\n",
       "      <td>2018-10-01</td>\n",
       "      <td>ee47d746-6d2f-4d3c-9622-c31412542920</td>\n",
       "      <td>68477</td>\n",
       "      <td>комнатное растение в горшке алое вера, d12, h30</td>\n",
       "      <td>1</td>\n",
       "      <td>142.0</td>\n",
       "      <td>2018</td>\n",
       "      <td>10</td>\n",
       "      <td>1</td>\n",
       "      <td>142.0</td>\n",
       "    </tr>\n",
       "    <tr>\n",
       "      <th>1</th>\n",
       "      <td>2018-10-01</td>\n",
       "      <td>ee47d746-6d2f-4d3c-9622-c31412542920</td>\n",
       "      <td>68477</td>\n",
       "      <td>комнатное растение в горшке кофе арабика, d12, h25</td>\n",
       "      <td>1</td>\n",
       "      <td>194.0</td>\n",
       "      <td>2018</td>\n",
       "      <td>10</td>\n",
       "      <td>1</td>\n",
       "      <td>194.0</td>\n",
       "    </tr>\n",
       "    <tr>\n",
       "      <th>2</th>\n",
       "      <td>2018-10-01</td>\n",
       "      <td>ee47d746-6d2f-4d3c-9622-c31412542920</td>\n",
       "      <td>68477</td>\n",
       "      <td>радермахера d-12 см h-20 см</td>\n",
       "      <td>1</td>\n",
       "      <td>112.0</td>\n",
       "      <td>2018</td>\n",
       "      <td>10</td>\n",
       "      <td>1</td>\n",
       "      <td>112.0</td>\n",
       "    </tr>\n",
       "    <tr>\n",
       "      <th>3</th>\n",
       "      <td>2018-10-01</td>\n",
       "      <td>ee47d746-6d2f-4d3c-9622-c31412542920</td>\n",
       "      <td>68477</td>\n",
       "      <td>хризолидокарпус лутесценс d-9 см</td>\n",
       "      <td>1</td>\n",
       "      <td>179.0</td>\n",
       "      <td>2018</td>\n",
       "      <td>10</td>\n",
       "      <td>1</td>\n",
       "      <td>179.0</td>\n",
       "    </tr>\n",
       "    <tr>\n",
       "      <th>4</th>\n",
       "      <td>2018-10-01</td>\n",
       "      <td>ee47d746-6d2f-4d3c-9622-c31412542920</td>\n",
       "      <td>68477</td>\n",
       "      <td>циперус зумула d-12 см h-25 см</td>\n",
       "      <td>1</td>\n",
       "      <td>112.0</td>\n",
       "      <td>2018</td>\n",
       "      <td>10</td>\n",
       "      <td>1</td>\n",
       "      <td>112.0</td>\n",
       "    </tr>\n",
       "    <tr>\n",
       "      <th>...</th>\n",
       "      <td>...</td>\n",
       "      <td>...</td>\n",
       "      <td>...</td>\n",
       "      <td>...</td>\n",
       "      <td>...</td>\n",
       "      <td>...</td>\n",
       "      <td>...</td>\n",
       "      <td>...</td>\n",
       "      <td>...</td>\n",
       "      <td>...</td>\n",
       "    </tr>\n",
       "    <tr>\n",
       "      <th>7469</th>\n",
       "      <td>2020-01-30</td>\n",
       "      <td>63208953-a8e4-4f77-9b47-3a46e7b72eee</td>\n",
       "      <td>104002</td>\n",
       "      <td>томата (помидор) черниченский черри № 116 сорт индетерминантный позднеспелый черный</td>\n",
       "      <td>2</td>\n",
       "      <td>38.0</td>\n",
       "      <td>2020</td>\n",
       "      <td>1</td>\n",
       "      <td>30</td>\n",
       "      <td>76.0</td>\n",
       "    </tr>\n",
       "    <tr>\n",
       "      <th>7470</th>\n",
       "      <td>2020-01-30</td>\n",
       "      <td>d99d25f1-4017-4fcd-8d29-c580cc695a1a</td>\n",
       "      <td>107336</td>\n",
       "      <td>дендробиум санок анна грин 1 ствол d-12 см</td>\n",
       "      <td>1</td>\n",
       "      <td>869.0</td>\n",
       "      <td>2020</td>\n",
       "      <td>1</td>\n",
       "      <td>30</td>\n",
       "      <td>869.0</td>\n",
       "    </tr>\n",
       "    <tr>\n",
       "      <th>7471</th>\n",
       "      <td>2020-01-31</td>\n",
       "      <td>2c9bd08d-8c55-4e7a-9bfb-8c56ba42c6d6</td>\n",
       "      <td>106336</td>\n",
       "      <td>подставка для обуви резиновая attribute 80x40 см amc080</td>\n",
       "      <td>1</td>\n",
       "      <td>354.0</td>\n",
       "      <td>2020</td>\n",
       "      <td>1</td>\n",
       "      <td>31</td>\n",
       "      <td>354.0</td>\n",
       "    </tr>\n",
       "    <tr>\n",
       "      <th>7472</th>\n",
       "      <td>2020-01-31</td>\n",
       "      <td>cdd17932-623e-415f-a577-3b31312fd0e2</td>\n",
       "      <td>102002</td>\n",
       "      <td>тагетис крупноцветковый рассада однолетних цветов в кассете по 6 шт</td>\n",
       "      <td>1</td>\n",
       "      <td>128.0</td>\n",
       "      <td>2020</td>\n",
       "      <td>1</td>\n",
       "      <td>31</td>\n",
       "      <td>128.0</td>\n",
       "    </tr>\n",
       "    <tr>\n",
       "      <th>7473</th>\n",
       "      <td>2020-01-31</td>\n",
       "      <td>2e460a26-35af-453d-a369-a036e95a40e0</td>\n",
       "      <td>103225</td>\n",
       "      <td>вешалка для блузок 41 см красный attribute ahm781</td>\n",
       "      <td>1</td>\n",
       "      <td>104.0</td>\n",
       "      <td>2020</td>\n",
       "      <td>1</td>\n",
       "      <td>31</td>\n",
       "      <td>104.0</td>\n",
       "    </tr>\n",
       "  </tbody>\n",
       "</table>\n",
       "<p>5552 rows × 10 columns</p>\n",
       "</div>"
      ],
      "text/plain": [
       "           date                           customer_id  order_id  \\\n",
       "0    2018-10-01  ee47d746-6d2f-4d3c-9622-c31412542920     68477   \n",
       "1    2018-10-01  ee47d746-6d2f-4d3c-9622-c31412542920     68477   \n",
       "2    2018-10-01  ee47d746-6d2f-4d3c-9622-c31412542920     68477   \n",
       "3    2018-10-01  ee47d746-6d2f-4d3c-9622-c31412542920     68477   \n",
       "4    2018-10-01  ee47d746-6d2f-4d3c-9622-c31412542920     68477   \n",
       "...         ...                                   ...       ...   \n",
       "7469 2020-01-30  63208953-a8e4-4f77-9b47-3a46e7b72eee    104002   \n",
       "7470 2020-01-30  d99d25f1-4017-4fcd-8d29-c580cc695a1a    107336   \n",
       "7471 2020-01-31  2c9bd08d-8c55-4e7a-9bfb-8c56ba42c6d6    106336   \n",
       "7472 2020-01-31  cdd17932-623e-415f-a577-3b31312fd0e2    102002   \n",
       "7473 2020-01-31  2e460a26-35af-453d-a369-a036e95a40e0    103225   \n",
       "\n",
       "                                                                                  product  \\\n",
       "0                                         комнатное растение в горшке алое вера, d12, h30   \n",
       "1                                      комнатное растение в горшке кофе арабика, d12, h25   \n",
       "2                                                             радермахера d-12 см h-20 см   \n",
       "3                                                        хризолидокарпус лутесценс d-9 см   \n",
       "4                                                          циперус зумула d-12 см h-25 см   \n",
       "...                                                                                   ...   \n",
       "7469  томата (помидор) черниченский черри № 116 сорт индетерминантный позднеспелый черный   \n",
       "7470                                           дендробиум санок анна грин 1 ствол d-12 см   \n",
       "7471                              подставка для обуви резиновая attribute 80x40 см amc080   \n",
       "7472                  тагетис крупноцветковый рассада однолетних цветов в кассете по 6 шт   \n",
       "7473                                    вешалка для блузок 41 см красный attribute ahm781   \n",
       "\n",
       "      quantity  price  year  month  day  full_price  \n",
       "0            1  142.0  2018     10    1       142.0  \n",
       "1            1  194.0  2018     10    1       194.0  \n",
       "2            1  112.0  2018     10    1       112.0  \n",
       "3            1  179.0  2018     10    1       179.0  \n",
       "4            1  112.0  2018     10    1       112.0  \n",
       "...        ...    ...   ...    ...  ...         ...  \n",
       "7469         2   38.0  2020      1   30        76.0  \n",
       "7470         1  869.0  2020      1   30       869.0  \n",
       "7471         1  354.0  2020      1   31       354.0  \n",
       "7472         1  128.0  2020      1   31       128.0  \n",
       "7473         1  104.0  2020      1   31       104.0  \n",
       "\n",
       "[5552 rows x 10 columns]"
      ]
     },
     "execution_count": 31,
     "metadata": {},
     "output_type": "execute_result"
    }
   ],
   "source": [
    "#посмотрим на датасет в общем\n",
    "data"
   ]
  },
  {
   "cell_type": "markdown",
   "metadata": {},
   "source": [
    "Мы добавили новые столбцы, в целом, данные выглядят хорошо"
   ]
  },
  {
   "cell_type": "code",
   "execution_count": 32,
   "metadata": {},
   "outputs": [
    {
     "name": "stdout",
     "output_type": "stream",
     "text": [
      "<class 'pandas.core.frame.DataFrame'>\n",
      "Int64Index: 5552 entries, 0 to 7473\n",
      "Data columns (total 10 columns):\n",
      " #   Column       Non-Null Count  Dtype         \n",
      "---  ------       --------------  -----         \n",
      " 0   date         5552 non-null   datetime64[ns]\n",
      " 1   customer_id  5552 non-null   object        \n",
      " 2   order_id     5552 non-null   int64         \n",
      " 3   product      5552 non-null   object        \n",
      " 4   quantity     5552 non-null   int64         \n",
      " 5   price        5552 non-null   float64       \n",
      " 6   year         5552 non-null   int64         \n",
      " 7   month        5552 non-null   int64         \n",
      " 8   day          5552 non-null   int64         \n",
      " 9   full_price   5552 non-null   float64       \n",
      "dtypes: datetime64[ns](1), float64(2), int64(5), object(2)\n",
      "memory usage: 477.1+ KB\n"
     ]
    }
   ],
   "source": [
    "#посмотрим типы данных\n",
    "data.info()"
   ]
  },
  {
   "cell_type": "markdown",
   "metadata": {},
   "source": [
    "Типы данных подходят"
   ]
  },
  {
   "cell_type": "code",
   "execution_count": 33,
   "metadata": {},
   "outputs": [
    {
     "data": {
      "text/plain": [
       "(5552, 10)"
      ]
     },
     "execution_count": 33,
     "metadata": {},
     "output_type": "execute_result"
    }
   ],
   "source": [
    "#оценим размер датасета\n",
    "data.shape"
   ]
  },
  {
   "cell_type": "markdown",
   "metadata": {},
   "source": [
    "В результате предобработки размер датасета сократился на 25,7%. Это достаточно большой показатель, но, учитывая, что данные не были ни разу обработаны - такое количество удаленных данных является нормальным.\n",
    "\n",
    "По итогам предобработки, мы сохранили датасет на 74,3% и увеличили количество столбцов с 6 до 10"
   ]
  },
  {
   "cell_type": "markdown",
   "metadata": {},
   "source": [
    "### Итоги раздела"
   ]
  },
  {
   "cell_type": "markdown",
   "metadata": {},
   "source": [
    "В результате предобработки данных было выполнено:\n",
    "\n",
    "- столбец \"date\" приведён в верный формат данных - datetime64\n",
    "- добавлены и приведены в нужный формат новые столбцы: \"год\", \"месяц\", \"день\", \"итоговая цена\"\n",
    "- данные в столбце \"product\" приведены в нижний регистр\n",
    "- удалён тестовый заказ менеджера\n",
    "- удалены дубликаты\n",
    "- проведен поиск пропущенных значений\n",
    "- в результате предобработки, датасет сохранён на 74,3% и увеличено количество столбцов с 6 до 10"
   ]
  },
  {
   "cell_type": "markdown",
   "metadata": {},
   "source": [
    "## Исследовательский анализ данных"
   ]
  },
  {
   "cell_type": "markdown",
   "metadata": {},
   "source": [
    "На этом этапе исследования поставлены такие задачи:\n",
    "\n",
    "- определим даты первого и последнего заказа в наших данных. Узнаем, какой временный промежуток представлен в данных\n",
    "- определим количество уникальных пользователей приложения, количество заказов и рассчитаем среднее количество заказов на одного покупателя\n",
    "- исследуем, как изменяется количество заказов каждый месяц. Добавим визуализацию\n",
    "- исследуем, как меняется выручка от заказов каждый месяц. Добавим визуализацию\n",
    "- исследуем, как меняется средний чек заказов каждый месяц. Добавим визуализацию\n",
    "- сформулируем промежуточный вывод"
   ]
  },
  {
   "cell_type": "markdown",
   "metadata": {},
   "source": [
    "### Определение временного промежутка в данных"
   ]
  },
  {
   "cell_type": "code",
   "execution_count": 34,
   "metadata": {},
   "outputs": [
    {
     "data": {
      "text/plain": [
       "Timestamp('2018-10-01 00:00:00')"
      ]
     },
     "execution_count": 34,
     "metadata": {},
     "output_type": "execute_result"
    }
   ],
   "source": [
    "#определим минимальную дату заказа\n",
    "data['date'].min()"
   ]
  },
  {
   "cell_type": "code",
   "execution_count": 35,
   "metadata": {},
   "outputs": [
    {
     "data": {
      "text/plain": [
       "Timestamp('2020-01-31 00:00:00')"
      ]
     },
     "execution_count": 35,
     "metadata": {},
     "output_type": "execute_result"
    }
   ],
   "source": [
    "#определим максимальную дату заказа\n",
    "data['date'].max()"
   ]
  },
  {
   "cell_type": "markdown",
   "metadata": {},
   "source": [
    "У нас есть данные по заказам из приложения с 1 октября 2018 по 31 января 2020 года. В целом около 1,5 года"
   ]
  },
  {
   "cell_type": "markdown",
   "metadata": {},
   "source": [
    "### Покупатели и заказы"
   ]
  },
  {
   "cell_type": "code",
   "execution_count": 36,
   "metadata": {},
   "outputs": [
    {
     "data": {
      "text/plain": [
       "2429"
      ]
     },
     "execution_count": 36,
     "metadata": {},
     "output_type": "execute_result"
    }
   ],
   "source": [
    "#определим количество уникальных покупателей\n",
    "costumers = data['customer_id'].nunique()\n",
    "costumers"
   ]
  },
  {
   "cell_type": "markdown",
   "metadata": {},
   "source": [
    "За указанный промежуток времени в приложении делали заказ 2 429 человек"
   ]
  },
  {
   "cell_type": "code",
   "execution_count": 37,
   "metadata": {},
   "outputs": [
    {
     "data": {
      "text/plain": [
       "3530"
      ]
     },
     "execution_count": 37,
     "metadata": {},
     "output_type": "execute_result"
    }
   ],
   "source": [
    "#определим количество заказов\n",
    "orders = data['order_id'].nunique()\n",
    "orders"
   ]
  },
  {
   "cell_type": "markdown",
   "metadata": {},
   "source": [
    "Было совершено 3 530 заказов"
   ]
  },
  {
   "cell_type": "code",
   "execution_count": 38,
   "metadata": {},
   "outputs": [
    {
     "data": {
      "text/plain": [
       "1.45"
      ]
     },
     "execution_count": 38,
     "metadata": {},
     "output_type": "execute_result"
    }
   ],
   "source": [
    "#определим соотношение количества заказов на количество покупателей\n",
    "events = round(orders / costumers, 2)\n",
    "events"
   ]
  },
  {
   "cell_type": "markdown",
   "metadata": {},
   "source": [
    "В среднем, на одного покупателя приходится примерно 1,5 заказа. Это достаточно интересная информация"
   ]
  },
  {
   "cell_type": "markdown",
   "metadata": {},
   "source": [
    "### Изменение количества заказов ежемесячно"
   ]
  },
  {
   "cell_type": "code",
   "execution_count": 39,
   "metadata": {},
   "outputs": [
    {
     "data": {
      "text/html": [
       "<div>\n",
       "<style scoped>\n",
       "    .dataframe tbody tr th:only-of-type {\n",
       "        vertical-align: middle;\n",
       "    }\n",
       "\n",
       "    .dataframe tbody tr th {\n",
       "        vertical-align: top;\n",
       "    }\n",
       "\n",
       "    .dataframe thead th {\n",
       "        text-align: right;\n",
       "    }\n",
       "</style>\n",
       "<table border=\"1\" class=\"dataframe\">\n",
       "  <thead>\n",
       "    <tr style=\"text-align: right;\">\n",
       "      <th></th>\n",
       "      <th></th>\n",
       "      <th>order_id</th>\n",
       "    </tr>\n",
       "    <tr>\n",
       "      <th>year</th>\n",
       "      <th>month</th>\n",
       "      <th></th>\n",
       "    </tr>\n",
       "  </thead>\n",
       "  <tbody>\n",
       "    <tr>\n",
       "      <th rowspan=\"3\" valign=\"top\">2018</th>\n",
       "      <th>10</th>\n",
       "      <td>240</td>\n",
       "    </tr>\n",
       "    <tr>\n",
       "      <th>11</th>\n",
       "      <td>204</td>\n",
       "    </tr>\n",
       "    <tr>\n",
       "      <th>12</th>\n",
       "      <td>283</td>\n",
       "    </tr>\n",
       "    <tr>\n",
       "      <th rowspan=\"12\" valign=\"top\">2019</th>\n",
       "      <th>1</th>\n",
       "      <td>167</td>\n",
       "    </tr>\n",
       "    <tr>\n",
       "      <th>2</th>\n",
       "      <td>290</td>\n",
       "    </tr>\n",
       "    <tr>\n",
       "      <th>3</th>\n",
       "      <td>246</td>\n",
       "    </tr>\n",
       "    <tr>\n",
       "      <th>4</th>\n",
       "      <td>267</td>\n",
       "    </tr>\n",
       "    <tr>\n",
       "      <th>5</th>\n",
       "      <td>183</td>\n",
       "    </tr>\n",
       "    <tr>\n",
       "      <th>6</th>\n",
       "      <td>160</td>\n",
       "    </tr>\n",
       "    <tr>\n",
       "      <th>7</th>\n",
       "      <td>199</td>\n",
       "    </tr>\n",
       "    <tr>\n",
       "      <th>8</th>\n",
       "      <td>174</td>\n",
       "    </tr>\n",
       "    <tr>\n",
       "      <th>9</th>\n",
       "      <td>181</td>\n",
       "    </tr>\n",
       "    <tr>\n",
       "      <th>10</th>\n",
       "      <td>204</td>\n",
       "    </tr>\n",
       "    <tr>\n",
       "      <th>11</th>\n",
       "      <td>217</td>\n",
       "    </tr>\n",
       "    <tr>\n",
       "      <th>12</th>\n",
       "      <td>246</td>\n",
       "    </tr>\n",
       "    <tr>\n",
       "      <th>2020</th>\n",
       "      <th>1</th>\n",
       "      <td>269</td>\n",
       "    </tr>\n",
       "  </tbody>\n",
       "</table>\n",
       "</div>"
      ],
      "text/plain": [
       "            order_id\n",
       "year month          \n",
       "2018 10          240\n",
       "     11          204\n",
       "     12          283\n",
       "2019 1           167\n",
       "     2           290\n",
       "     3           246\n",
       "     4           267\n",
       "     5           183\n",
       "     6           160\n",
       "     7           199\n",
       "     8           174\n",
       "     9           181\n",
       "     10          204\n",
       "     11          217\n",
       "     12          246\n",
       "2020 1           269"
      ]
     },
     "execution_count": 39,
     "metadata": {},
     "output_type": "execute_result"
    }
   ],
   "source": [
    "#рассчитаем количество заказов каждый месяц\n",
    "orders_by_month = data.groupby(['year','month']).agg({'order_id': 'nunique'})\n",
    "orders_by_month"
   ]
  },
  {
   "cell_type": "code",
   "execution_count": 40,
   "metadata": {},
   "outputs": [
    {
     "data": {
      "image/png": "[encoded data removed]",
      "text/plain": [
       "<Figure size 1584x864 with 1 Axes>"
      ]
     },
     "metadata": {
      "needs_background": "light"
     },
     "output_type": "display_data"
    }
   ],
   "source": [
    "#построим график\n",
    "orders_by_month.plot(kind='bar', figsize=(22, 12), color='darkblue', legend=False)\n",
    "plt.title('Изменение количества заказов ежемесячно')\n",
    "plt.xlabel('Год, месяц')\n",
    "plt.ylabel('Количество заказов')\n",
    "plt.show()"
   ]
  },
  {
   "cell_type": "markdown",
   "metadata": {},
   "source": [
    "С начала  изучения данных количество заказов нестабильно - первые 7 месяцев количество заказов ежемесячно растёт и падает. \n",
    "\n",
    "- наибольшее количество заказов было в феврале 2019 года - 290\n",
    "- наименьшее количество в июле 2019 - 160\n",
    "- начиная с августа 2019 год количество заказов стабильно растёт"
   ]
  },
  {
   "cell_type": "markdown",
   "metadata": {},
   "source": [
    "### Изменение выручки от заказов ежемесячно"
   ]
  },
  {
   "cell_type": "markdown",
   "metadata": {},
   "source": [
    "Посмотрим, как изменятся выручка от заказов каждый месяц на протяжении изучаемого периода"
   ]
  },
  {
   "cell_type": "code",
   "execution_count": 41,
   "metadata": {},
   "outputs": [
    {
     "data": {
      "text/html": [
       "<div>\n",
       "<style scoped>\n",
       "    .dataframe tbody tr th:only-of-type {\n",
       "        vertical-align: middle;\n",
       "    }\n",
       "\n",
       "    .dataframe tbody tr th {\n",
       "        vertical-align: top;\n",
       "    }\n",
       "\n",
       "    .dataframe thead th {\n",
       "        text-align: right;\n",
       "    }\n",
       "</style>\n",
       "<table border=\"1\" class=\"dataframe\">\n",
       "  <thead>\n",
       "    <tr style=\"text-align: right;\">\n",
       "      <th></th>\n",
       "      <th></th>\n",
       "      <th>full_price</th>\n",
       "    </tr>\n",
       "    <tr>\n",
       "      <th>year</th>\n",
       "      <th>month</th>\n",
       "      <th></th>\n",
       "    </tr>\n",
       "  </thead>\n",
       "  <tbody>\n",
       "    <tr>\n",
       "      <th rowspan=\"3\" valign=\"top\">2018</th>\n",
       "      <th>10</th>\n",
       "      <td>351536.0</td>\n",
       "    </tr>\n",
       "    <tr>\n",
       "      <th>11</th>\n",
       "      <td>359348.0</td>\n",
       "    </tr>\n",
       "    <tr>\n",
       "      <th>12</th>\n",
       "      <td>348399.0</td>\n",
       "    </tr>\n",
       "    <tr>\n",
       "      <th rowspan=\"12\" valign=\"top\">2019</th>\n",
       "      <th>1</th>\n",
       "      <td>234834.0</td>\n",
       "    </tr>\n",
       "    <tr>\n",
       "      <th>2</th>\n",
       "      <td>306796.0</td>\n",
       "    </tr>\n",
       "    <tr>\n",
       "      <th>3</th>\n",
       "      <td>251457.0</td>\n",
       "    </tr>\n",
       "    <tr>\n",
       "      <th>4</th>\n",
       "      <td>317038.0</td>\n",
       "    </tr>\n",
       "    <tr>\n",
       "      <th>5</th>\n",
       "      <td>235866.0</td>\n",
       "    </tr>\n",
       "    <tr>\n",
       "      <th>6</th>\n",
       "      <td>226811.0</td>\n",
       "    </tr>\n",
       "    <tr>\n",
       "      <th>7</th>\n",
       "      <td>234932.0</td>\n",
       "    </tr>\n",
       "    <tr>\n",
       "      <th>8</th>\n",
       "      <td>172421.0</td>\n",
       "    </tr>\n",
       "    <tr>\n",
       "      <th>9</th>\n",
       "      <td>179509.0</td>\n",
       "    </tr>\n",
       "    <tr>\n",
       "      <th>10</th>\n",
       "      <td>210924.0</td>\n",
       "    </tr>\n",
       "    <tr>\n",
       "      <th>11</th>\n",
       "      <td>128792.0</td>\n",
       "    </tr>\n",
       "    <tr>\n",
       "      <th>12</th>\n",
       "      <td>202885.0</td>\n",
       "    </tr>\n",
       "    <tr>\n",
       "      <th>2020</th>\n",
       "      <th>1</th>\n",
       "      <td>174036.0</td>\n",
       "    </tr>\n",
       "  </tbody>\n",
       "</table>\n",
       "</div>"
      ],
      "text/plain": [
       "            full_price\n",
       "year month            \n",
       "2018 10       351536.0\n",
       "     11       359348.0\n",
       "     12       348399.0\n",
       "2019 1        234834.0\n",
       "     2        306796.0\n",
       "     3        251457.0\n",
       "     4        317038.0\n",
       "     5        235866.0\n",
       "     6        226811.0\n",
       "     7        234932.0\n",
       "     8        172421.0\n",
       "     9        179509.0\n",
       "     10       210924.0\n",
       "     11       128792.0\n",
       "     12       202885.0\n",
       "2020 1        174036.0"
      ]
     },
     "execution_count": 41,
     "metadata": {},
     "output_type": "execute_result"
    }
   ],
   "source": [
    "#рассчитаем сумму выручки каждый месяц\n",
    "revenue_by_month = round(data.groupby(['year','month']).agg({'full_price': 'sum'}), 0)\n",
    "revenue_by_month"
   ]
  },
  {
   "cell_type": "code",
   "execution_count": 42,
   "metadata": {
    "scrolled": false
   },
   "outputs": [
    {
     "data": {
      "image/png": "[encoded data removed]",
      "text/plain": [
       "<Figure size 1584x864 with 1 Axes>"
      ]
     },
     "metadata": {
      "needs_background": "light"
     },
     "output_type": "display_data"
    }
   ],
   "source": [
    "#построим график\n",
    "revenue_by_month.plot(figsize=(22, 12), color='navy', grid=True, legend=False)\n",
    "plt.title('Изменение выручки от заказов ежемесячно')\n",
    "plt.xlabel('Год, месяц')\n",
    "plt.ylabel('Сумма дохода за месяц')\n",
    "plt.ylim(bottom=0)\n",
    "plt.show()"
   ]
  },
  {
   "cell_type": "markdown",
   "metadata": {},
   "source": [
    "Исходя из представленных данных видно, что первые 3 месяца работы приложения имели хороший доход\n",
    "\n",
    "- начиная с января 2019 года наиболее доходными месяцами были февраль (306 796 ден. ед) и апрель (317 038 ден. ед)\n",
    "- в остальные месяцы выручка составила менее 250 000 ден. ед.\n",
    "- ноябрь 2019 был наихудшим месяцем по выручке - 128 792 ден. ед\n",
    "- На 31 января 2020 года выручка в 2 раза меньше, чем была в первый месяц работы приложения - октябрь 2018. Причины такого снижения пока непонятны"
   ]
  },
  {
   "cell_type": "markdown",
   "metadata": {},
   "source": [
    "### Изменение среднего чека заказов ежемесячно"
   ]
  },
  {
   "cell_type": "markdown",
   "metadata": {},
   "source": [
    "Исследуем как меняется сумма среднего чека по заказам ежемесячно. Для этого сначала добавим новый столбец - который будет показывать общую сумму каждого заказа"
   ]
  },
  {
   "cell_type": "code",
   "execution_count": 43,
   "metadata": {},
   "outputs": [
    {
     "data": {
      "text/plain": [
       "year  month\n",
       "2018  10       1465.0\n",
       "      11       1762.0\n",
       "      12       1231.0\n",
       "2019  1        1406.0\n",
       "      2        1058.0\n",
       "      3        1022.0\n",
       "      4        1187.0\n",
       "      5        1289.0\n",
       "      6        1418.0\n",
       "      7        1181.0\n",
       "      8         991.0\n",
       "      9         992.0\n",
       "      10       1034.0\n",
       "      11        594.0\n",
       "      12        825.0\n",
       "2020  1         647.0\n",
       "Name: full_price, dtype: float64"
      ]
     },
     "execution_count": 43,
     "metadata": {},
     "output_type": "execute_result"
    }
   ],
   "source": [
    "#рассчитаем значение среднего чека каждый месяц\n",
    "mean_revenue_by_month = round(data.groupby(['year', 'month',\n",
    "                                            'order_id'])['full_price'].sum().groupby(['year', 'month']).mean(), 0)\n",
    "mean_revenue_by_month"
   ]
  },
  {
   "cell_type": "code",
   "execution_count": 44,
   "metadata": {},
   "outputs": [
    {
     "data": {
      "image/png": "[encoded data removed]",
      "text/plain": [
       "<Figure size 1584x864 with 1 Axes>"
      ]
     },
     "metadata": {
      "needs_background": "light"
     },
     "output_type": "display_data"
    }
   ],
   "source": [
    "#построим график\n",
    "mean_revenue_by_month.plot(kind='bar', figsize=(22, 12), color='darkblue', legend=False)\n",
    "plt.title('Изменение суммы среднего чека заказов ежемесячно')\n",
    "plt.xlabel('Год, месяц')\n",
    "plt.ylabel('Средний чек за месяц')\n",
    "plt.show()"
   ]
  },
  {
   "cell_type": "markdown",
   "metadata": {},
   "source": [
    "В результате:\n",
    "\n",
    "- изменение среднего чека имеет достаточно хаотичный порядок\n",
    "- наивысшее значение ср. чека было в ноябре 2018 - 1 762 ден. ед.\n",
    "- в 2019 году было 2 основных пика значений - январь (1 408) и июнь(1 418)\n",
    "- наименьшее значение быо в ноябре 2019 года - 594 ден. ед."
   ]
  },
  {
   "cell_type": "markdown",
   "metadata": {},
   "source": [
    "### Динамика изменения количествa покупателей каждый месяц"
   ]
  },
  {
   "cell_type": "markdown",
   "metadata": {},
   "source": [
    "Проанализируем количество уникальных покупателей, которые делают заказы - как меняется их количество каждый месяц"
   ]
  },
  {
   "cell_type": "code",
   "execution_count": 45,
   "metadata": {},
   "outputs": [
    {
     "data": {
      "text/html": [
       "<div>\n",
       "<style scoped>\n",
       "    .dataframe tbody tr th:only-of-type {\n",
       "        vertical-align: middle;\n",
       "    }\n",
       "\n",
       "    .dataframe tbody tr th {\n",
       "        vertical-align: top;\n",
       "    }\n",
       "\n",
       "    .dataframe thead th {\n",
       "        text-align: right;\n",
       "    }\n",
       "</style>\n",
       "<table border=\"1\" class=\"dataframe\">\n",
       "  <thead>\n",
       "    <tr style=\"text-align: right;\">\n",
       "      <th></th>\n",
       "      <th></th>\n",
       "      <th>customer_id</th>\n",
       "    </tr>\n",
       "    <tr>\n",
       "      <th>year</th>\n",
       "      <th>month</th>\n",
       "      <th></th>\n",
       "    </tr>\n",
       "  </thead>\n",
       "  <tbody>\n",
       "    <tr>\n",
       "      <th rowspan=\"3\" valign=\"top\">2018</th>\n",
       "      <th>10</th>\n",
       "      <td>180</td>\n",
       "    </tr>\n",
       "    <tr>\n",
       "      <th>11</th>\n",
       "      <td>178</td>\n",
       "    </tr>\n",
       "    <tr>\n",
       "      <th>12</th>\n",
       "      <td>232</td>\n",
       "    </tr>\n",
       "    <tr>\n",
       "      <th rowspan=\"12\" valign=\"top\">2019</th>\n",
       "      <th>1</th>\n",
       "      <td>151</td>\n",
       "    </tr>\n",
       "    <tr>\n",
       "      <th>2</th>\n",
       "      <td>246</td>\n",
       "    </tr>\n",
       "    <tr>\n",
       "      <th>3</th>\n",
       "      <td>231</td>\n",
       "    </tr>\n",
       "    <tr>\n",
       "      <th>4</th>\n",
       "      <td>236</td>\n",
       "    </tr>\n",
       "    <tr>\n",
       "      <th>5</th>\n",
       "      <td>168</td>\n",
       "    </tr>\n",
       "    <tr>\n",
       "      <th>6</th>\n",
       "      <td>150</td>\n",
       "    </tr>\n",
       "    <tr>\n",
       "      <th>7</th>\n",
       "      <td>186</td>\n",
       "    </tr>\n",
       "    <tr>\n",
       "      <th>8</th>\n",
       "      <td>165</td>\n",
       "    </tr>\n",
       "    <tr>\n",
       "      <th>9</th>\n",
       "      <td>173</td>\n",
       "    </tr>\n",
       "    <tr>\n",
       "      <th>10</th>\n",
       "      <td>175</td>\n",
       "    </tr>\n",
       "    <tr>\n",
       "      <th>11</th>\n",
       "      <td>217</td>\n",
       "    </tr>\n",
       "    <tr>\n",
       "      <th>12</th>\n",
       "      <td>246</td>\n",
       "    </tr>\n",
       "    <tr>\n",
       "      <th>2020</th>\n",
       "      <th>1</th>\n",
       "      <td>269</td>\n",
       "    </tr>\n",
       "  </tbody>\n",
       "</table>\n",
       "</div>"
      ],
      "text/plain": [
       "            customer_id\n",
       "year month             \n",
       "2018 10             180\n",
       "     11             178\n",
       "     12             232\n",
       "2019 1              151\n",
       "     2              246\n",
       "     3              231\n",
       "     4              236\n",
       "     5              168\n",
       "     6              150\n",
       "     7              186\n",
       "     8              165\n",
       "     9              173\n",
       "     10             175\n",
       "     11             217\n",
       "     12             246\n",
       "2020 1              269"
      ]
     },
     "execution_count": 45,
     "metadata": {},
     "output_type": "execute_result"
    }
   ],
   "source": [
    "#сгруппируем данные\n",
    "customers_by_month = data.groupby(['year', 'month']).agg({'customer_id': 'nunique'})\n",
    "customers_by_month"
   ]
  },
  {
   "cell_type": "code",
   "execution_count": 46,
   "metadata": {},
   "outputs": [
    {
     "data": {
      "image/png": "[encoded data removed]",
      "text/plain": [
       "<Figure size 1584x864 with 1 Axes>"
      ]
     },
     "metadata": {
      "needs_background": "light"
     },
     "output_type": "display_data"
    }
   ],
   "source": [
    "#построим график\n",
    "customers_by_month.plot(kind='bar', figsize=(22, 12), color='darkblue', legend=False)\n",
    "plt.title('Динамика изменения количества покупателей каждый месяц')\n",
    "plt.xlabel('Год, месяц')\n",
    "plt.ylabel('Количество покупателей')\n",
    "plt.show()"
   ]
  },
  {
   "cell_type": "markdown",
   "metadata": {},
   "source": [
    "Анализируя данные графика:\n",
    "\n",
    "- количество пользователей начиная с августа 2019 года растет. Это вполне хороший показатель\n",
    "- первые полгода количество покупателей имело скачкообразный характер - больше пользователей пользовались приложением в декабре, феврале, марте и апреле"
   ]
  },
  {
   "cell_type": "markdown",
   "metadata": {},
   "source": [
    "### Итоги раздела"
   ]
  },
  {
   "cell_type": "markdown",
   "metadata": {},
   "source": [
    "В результате проведения исследовательского анализа данных было определено:\n",
    "\n",
    "- нам представлены данные по заказам из приложения с 1 октября 2018 по 31 января 2020 года\n",
    "- за указанный промежуток времени в приложении делали заказ 2 429 человек\n",
    "- было совершено 3 530 заказов\n",
    "- в среднем, на одного покупателя приходится 1 заказ\n",
    "\n",
    "Количество заказов:\n",
    "- первые 7 месяцев работы приложения количество заказов было нестабильно - оно постоянно росло и снижалось\n",
    "- с февраля по апрель 2019 года количество заказов было на порядок выше, чем с мая по ноябрь этого же года\n",
    "- с августа 2019 года количество заказов стабильно растёт\n",
    "\n",
    "Изменение выручки по месяцам:\n",
    "- с октября по декабрь 2018 года доход был довольно высокий - более 340 000 ден.ед.\n",
    "- начиная с января 2019 года выручка имеет пиковые значения, но постоянно снижается. Сумма выручки не превышает 318 000 ден. ед.\n",
    "- в отличии от периода октябрь-декабрь 2018 года - аналогичный период 2019 года характеризуется значительным снижением прибыли\n",
    "\n",
    "Ежемесячное изменение суммы среднего чека заказа:\n",
    "- изменение среднего чека имеет достаточно хаотичный порядок\n",
    "- наивысшее значение ср. чека было в ноябре 2018 - 1 762 ден. ед.\n",
    "- в 2019 году было 2 основных пика значений - январь (1 408) и июнь(1 418)\n",
    "- наименьшее значение быо в ноябре 2019 года - 594 ден. ед.\n",
    "\n",
    "Ежемесячное изменение количествa покупателей каждый месяц:\n",
    "- количество пользователей начиная с августа 2019 года растет. Это вполне хороший показатель\n",
    "- первые полгода количество покупателей имело скачкообразный характер - больше пользователей пользоваись приложением в декабре, феврале, марте и апреле"
   ]
  },
  {
   "cell_type": "markdown",
   "metadata": {},
   "source": [
    "##  Сегментация покупателей"
   ]
  },
  {
   "cell_type": "markdown",
   "metadata": {},
   "source": [
    "В этом разделе мы проведем категоризацию покупателей и заказов по разным данным:\n",
    "\n",
    "- сгруппируем данные по каждому заказу. Проанализируем стоимость заказов. На основе определенных сумм - разработаем категории заказов. Сгруппируем данные заказов по категориям и определим - какие заказы и с какими суммами пользователи делают чаще. \n",
    "- сгруппируем данные по каждому пользователю. На основе этих данных - разработаем категории (по количеству заказов, сделанных каждым пользователем). Сгруппируем данные на основе категорий и исследуем - какое количество заказов делает каждый пользователь. \n",
    "- добавим столбец с категориями товаров(например: комнатные растения, рассада, кухонные принадлежности, декор, хозяйственные принадлежности и пр.) Исследуем, какие категории товаров приобретаются пользователями чаще и приносят большую прибыль. Рассчитаем общую прибыль и среднюю цену для каждой категории товаров. \n",
    "- на основе полученных данных составим портрет лояльного покупателя: наиболее прибыльные категории товаров, количество заказов и пр\n",
    "- сформулируем промежуточный вывод"
   ]
  },
  {
   "cell_type": "markdown",
   "metadata": {},
   "source": [
    "### Категории заказов по суммам"
   ]
  },
  {
   "cell_type": "markdown",
   "metadata": {},
   "source": [
    "Для этой задачи мы сгруппируем наши заказы по суммам и создадим функцию, которая разделит заказы по категориям. Определим такие категории:\n",
    "\n",
    "- первая - сумма заказов которых не превышает 500 ден. ед.\n",
    "- вторая - сумма заказов которых не превышает 1000 ден. ед.\n",
    "- третья - сумма заказов которых не превышает 2000 ден. ед.\n",
    "- четвертая - сумма заказов которых не превышает 3000 ден. ед.\n",
    "- пятая - сумма заказов которых не превышает 4000 ден. ед.\n",
    "- шестая - сумма заказов которых не превышает 5000 ден. ед.\n",
    "- седьмая - сумма заказа более 5000 ден. ед."
   ]
  },
  {
   "cell_type": "code",
   "execution_count": 47,
   "metadata": {},
   "outputs": [
    {
     "data": {
      "text/html": [
       "<div>\n",
       "<style scoped>\n",
       "    .dataframe tbody tr th:only-of-type {\n",
       "        vertical-align: middle;\n",
       "    }\n",
       "\n",
       "    .dataframe tbody tr th {\n",
       "        vertical-align: top;\n",
       "    }\n",
       "\n",
       "    .dataframe thead th {\n",
       "        text-align: right;\n",
       "    }\n",
       "</style>\n",
       "<table border=\"1\" class=\"dataframe\">\n",
       "  <thead>\n",
       "    <tr style=\"text-align: right;\">\n",
       "      <th></th>\n",
       "      <th>order_id</th>\n",
       "      <th>full_price</th>\n",
       "    </tr>\n",
       "  </thead>\n",
       "  <tbody>\n",
       "    <tr>\n",
       "      <th>0</th>\n",
       "      <td>12624</td>\n",
       "      <td>375.0</td>\n",
       "    </tr>\n",
       "    <tr>\n",
       "      <th>1</th>\n",
       "      <td>13547</td>\n",
       "      <td>684.0</td>\n",
       "    </tr>\n",
       "    <tr>\n",
       "      <th>2</th>\n",
       "      <td>14480</td>\n",
       "      <td>359.0</td>\n",
       "    </tr>\n",
       "    <tr>\n",
       "      <th>3</th>\n",
       "      <td>14481</td>\n",
       "      <td>600.0</td>\n",
       "    </tr>\n",
       "    <tr>\n",
       "      <th>4</th>\n",
       "      <td>14482</td>\n",
       "      <td>376.0</td>\n",
       "    </tr>\n",
       "    <tr>\n",
       "      <th>...</th>\n",
       "      <td>...</td>\n",
       "      <td>...</td>\n",
       "    </tr>\n",
       "    <tr>\n",
       "      <th>3525</th>\n",
       "      <td>112795</td>\n",
       "      <td>1574.0</td>\n",
       "    </tr>\n",
       "    <tr>\n",
       "      <th>3526</th>\n",
       "      <td>112796</td>\n",
       "      <td>637.0</td>\n",
       "    </tr>\n",
       "    <tr>\n",
       "      <th>3527</th>\n",
       "      <td>112797</td>\n",
       "      <td>749.0</td>\n",
       "    </tr>\n",
       "    <tr>\n",
       "      <th>3528</th>\n",
       "      <td>112798</td>\n",
       "      <td>59.0</td>\n",
       "    </tr>\n",
       "    <tr>\n",
       "      <th>3529</th>\n",
       "      <td>112799</td>\n",
       "      <td>1949.0</td>\n",
       "    </tr>\n",
       "  </tbody>\n",
       "</table>\n",
       "<p>3530 rows × 2 columns</p>\n",
       "</div>"
      ],
      "text/plain": [
       "      order_id  full_price\n",
       "0        12624       375.0\n",
       "1        13547       684.0\n",
       "2        14480       359.0\n",
       "3        14481       600.0\n",
       "4        14482       376.0\n",
       "...        ...         ...\n",
       "3525    112795      1574.0\n",
       "3526    112796       637.0\n",
       "3527    112797       749.0\n",
       "3528    112798        59.0\n",
       "3529    112799      1949.0\n",
       "\n",
       "[3530 rows x 2 columns]"
      ]
     },
     "execution_count": 47,
     "metadata": {},
     "output_type": "execute_result"
    }
   ],
   "source": [
    "#сгруппируем заказы по суммам выручки\n",
    "orders_category = data.groupby('order_id').agg({'full_price': 'sum'}).reset_index()\n",
    "orders_category"
   ]
  },
  {
   "cell_type": "code",
   "execution_count": 48,
   "metadata": {},
   "outputs": [],
   "source": [
    "#создадим функцию\n",
    "def category(full_price):\n",
    "    if full_price <= 500:\n",
    "        return 'первая'\n",
    "    elif full_price <= 1000:\n",
    "        return 'вторая'\n",
    "    elif full_price <= 2000:\n",
    "        return 'третья'\n",
    "    elif full_price <= 3000:\n",
    "        return 'четвертая'\n",
    "    elif full_price <= 4000:\n",
    "        return 'пятая'\n",
    "    elif full_price <= 5000:\n",
    "        return 'шестая'\n",
    "    else:\n",
    "        return 'седьмая'"
   ]
  },
  {
   "cell_type": "code",
   "execution_count": 49,
   "metadata": {},
   "outputs": [],
   "source": [
    "#добавим столбец категорий в наш датасет\n",
    "data['category'] = data.apply(lambda row: category(row['full_price']), axis=1)"
   ]
  },
  {
   "cell_type": "code",
   "execution_count": 50,
   "metadata": {},
   "outputs": [
    {
     "data": {
      "text/html": [
       "<div>\n",
       "<style scoped>\n",
       "    .dataframe tbody tr th:only-of-type {\n",
       "        vertical-align: middle;\n",
       "    }\n",
       "\n",
       "    .dataframe tbody tr th {\n",
       "        vertical-align: top;\n",
       "    }\n",
       "\n",
       "    .dataframe thead th {\n",
       "        text-align: right;\n",
       "    }\n",
       "</style>\n",
       "<table border=\"1\" class=\"dataframe\">\n",
       "  <thead>\n",
       "    <tr style=\"text-align: right;\">\n",
       "      <th></th>\n",
       "      <th>order_id</th>\n",
       "    </tr>\n",
       "    <tr>\n",
       "      <th>category</th>\n",
       "      <th></th>\n",
       "    </tr>\n",
       "  </thead>\n",
       "  <tbody>\n",
       "    <tr>\n",
       "      <th>первая</th>\n",
       "      <td>1894</td>\n",
       "    </tr>\n",
       "    <tr>\n",
       "      <th>вторая</th>\n",
       "      <td>684</td>\n",
       "    </tr>\n",
       "    <tr>\n",
       "      <th>третья</th>\n",
       "      <td>595</td>\n",
       "    </tr>\n",
       "    <tr>\n",
       "      <th>четвертая</th>\n",
       "      <td>197</td>\n",
       "    </tr>\n",
       "    <tr>\n",
       "      <th>пятая</th>\n",
       "      <td>102</td>\n",
       "    </tr>\n",
       "    <tr>\n",
       "      <th>седьмая</th>\n",
       "      <td>101</td>\n",
       "    </tr>\n",
       "    <tr>\n",
       "      <th>шестая</th>\n",
       "      <td>43</td>\n",
       "    </tr>\n",
       "  </tbody>\n",
       "</table>\n",
       "</div>"
      ],
      "text/plain": [
       "           order_id\n",
       "category           \n",
       "первая         1894\n",
       "вторая          684\n",
       "третья          595\n",
       "четвертая       197\n",
       "пятая           102\n",
       "седьмая         101\n",
       "шестая           43"
      ]
     },
     "execution_count": 50,
     "metadata": {},
     "output_type": "execute_result"
    }
   ],
   "source": [
    "#сгруппируем заказы по категориям\n",
    "orders_categories = data.groupby('category').agg({'order_id': 'nunique'}).sort_values(by='order_id', ascending=False)\n",
    "orders_categories"
   ]
  },
  {
   "cell_type": "code",
   "execution_count": 51,
   "metadata": {},
   "outputs": [
    {
     "data": {
      "image/png": "[encoded data removed]",
      "text/plain": [
       "<Figure size 1152x720 with 1 Axes>"
      ]
     },
     "metadata": {
      "needs_background": "light"
     },
     "output_type": "display_data"
    }
   ],
   "source": [
    "#построим график\n",
    "orders_categories.plot(kind='bar', figsize=(16, 10), color='darkblue', legend=False)\n",
    "plt.title('Количество заказов по категориям')\n",
    "plt.xlabel('Категория')\n",
    "plt.ylabel('Количество заказов')\n",
    "plt.show()"
   ]
  },
  {
   "cell_type": "markdown",
   "metadata": {},
   "source": [
    "- преимущественное количество заказов по сумме не превышает 500 ден. ед. Таких заказов у нас 1 894\n",
    "- категории заказов до 1 000 - 2 000 ден. ед. имеют примерные значения - 684 и 595 заказов\n",
    "- а самая дорогостоящая категория - более 5 000 ден. ед. имеет всего 43 заказа\n",
    "\n",
    "\n",
    "В целом можно сказать, что покупатели гораздо чаще делают небольшие и недорогие заказы"
   ]
  },
  {
   "cell_type": "markdown",
   "metadata": {},
   "source": [
    "### Категории пользователей по количеству заказов"
   ]
  },
  {
   "cell_type": "markdown",
   "metadata": {},
   "source": [
    "В этом пункте мы разделим покупателей в приложении на категории согласно количеству осуществленных заказов. Категории будут следующие:\n",
    "\n",
    "- единоразовый - пользователь сделал 1 заказ за всё время\n",
    "- повторный - покупатель совершил  2 заказа\n",
    "- периодичный - пользователь сделал 3 или более заказов"
   ]
  },
  {
   "cell_type": "code",
   "execution_count": 52,
   "metadata": {},
   "outputs": [],
   "source": [
    "#создадим функцию\n",
    "def user_type(count_orders):\n",
    "    if count_orders == 1:\n",
    "        return 'единоразовый'\n",
    "    elif count_orders == 2:\n",
    "        return 'повторный'\n",
    "    else:\n",
    "        return 'периодичный'"
   ]
  },
  {
   "cell_type": "code",
   "execution_count": 53,
   "metadata": {},
   "outputs": [
    {
     "data": {
      "text/html": [
       "<div>\n",
       "<style scoped>\n",
       "    .dataframe tbody tr th:only-of-type {\n",
       "        vertical-align: middle;\n",
       "    }\n",
       "\n",
       "    .dataframe tbody tr th {\n",
       "        vertical-align: top;\n",
       "    }\n",
       "\n",
       "    .dataframe thead th {\n",
       "        text-align: right;\n",
       "    }\n",
       "</style>\n",
       "<table border=\"1\" class=\"dataframe\">\n",
       "  <thead>\n",
       "    <tr style=\"text-align: right;\">\n",
       "      <th></th>\n",
       "      <th>customer_id</th>\n",
       "      <th>order_id</th>\n",
       "    </tr>\n",
       "  </thead>\n",
       "  <tbody>\n",
       "    <tr>\n",
       "      <th>0</th>\n",
       "      <td>000d6849-084e-4d9f-ac03-37174eaf60c4</td>\n",
       "      <td>1</td>\n",
       "    </tr>\n",
       "    <tr>\n",
       "      <th>1</th>\n",
       "      <td>001cee7f-0b29-4716-b202-0042213ab038</td>\n",
       "      <td>1</td>\n",
       "    </tr>\n",
       "    <tr>\n",
       "      <th>2</th>\n",
       "      <td>00299f34-5385-4d13-9aea-c80b81658e1b</td>\n",
       "      <td>1</td>\n",
       "    </tr>\n",
       "    <tr>\n",
       "      <th>3</th>\n",
       "      <td>002d4d3a-4a59-406b-86ec-c3314357e498</td>\n",
       "      <td>1</td>\n",
       "    </tr>\n",
       "    <tr>\n",
       "      <th>4</th>\n",
       "      <td>003bbd39-0000-41ff-b7f9-2ddaec152037</td>\n",
       "      <td>1</td>\n",
       "    </tr>\n",
       "    <tr>\n",
       "      <th>...</th>\n",
       "      <td>...</td>\n",
       "      <td>...</td>\n",
       "    </tr>\n",
       "    <tr>\n",
       "      <th>2424</th>\n",
       "      <td>ff601403-b094-4b86-9ac6-264d725b9277</td>\n",
       "      <td>2</td>\n",
       "    </tr>\n",
       "    <tr>\n",
       "      <th>2425</th>\n",
       "      <td>ffaeab76-3a8d-49ee-860f-17273b2fc8a2</td>\n",
       "      <td>1</td>\n",
       "    </tr>\n",
       "    <tr>\n",
       "      <th>2426</th>\n",
       "      <td>ffb5976a-7a4d-460b-95c4-5ffaba31cb24</td>\n",
       "      <td>1</td>\n",
       "    </tr>\n",
       "    <tr>\n",
       "      <th>2427</th>\n",
       "      <td>ffb80538-3fda-4351-8ea9-9d2bec58bb07</td>\n",
       "      <td>1</td>\n",
       "    </tr>\n",
       "    <tr>\n",
       "      <th>2428</th>\n",
       "      <td>ffe82299-3f5b-4214-87fe-3d36ecccfac3</td>\n",
       "      <td>1</td>\n",
       "    </tr>\n",
       "  </tbody>\n",
       "</table>\n",
       "<p>2429 rows × 2 columns</p>\n",
       "</div>"
      ],
      "text/plain": [
       "                               customer_id  order_id\n",
       "0     000d6849-084e-4d9f-ac03-37174eaf60c4         1\n",
       "1     001cee7f-0b29-4716-b202-0042213ab038         1\n",
       "2     00299f34-5385-4d13-9aea-c80b81658e1b         1\n",
       "3     002d4d3a-4a59-406b-86ec-c3314357e498         1\n",
       "4     003bbd39-0000-41ff-b7f9-2ddaec152037         1\n",
       "...                                    ...       ...\n",
       "2424  ff601403-b094-4b86-9ac6-264d725b9277         2\n",
       "2425  ffaeab76-3a8d-49ee-860f-17273b2fc8a2         1\n",
       "2426  ffb5976a-7a4d-460b-95c4-5ffaba31cb24         1\n",
       "2427  ffb80538-3fda-4351-8ea9-9d2bec58bb07         1\n",
       "2428  ffe82299-3f5b-4214-87fe-3d36ecccfac3         1\n",
       "\n",
       "[2429 rows x 2 columns]"
      ]
     },
     "execution_count": 53,
     "metadata": {},
     "output_type": "execute_result"
    }
   ],
   "source": [
    "#группируем данные пользователей по количеству совершенных заказов \n",
    "count_orders = data.groupby('customer_id').agg({'order_id': 'nunique'}).reset_index()\n",
    "count_orders"
   ]
  },
  {
   "cell_type": "code",
   "execution_count": 54,
   "metadata": {},
   "outputs": [],
   "source": [
    "#объеденим таблицу с количеством заказов у каждого пользователя с датафреймом\n",
    "data = pd.merge(data, count_orders, on='customer_id')"
   ]
  },
  {
   "cell_type": "code",
   "execution_count": 55,
   "metadata": {},
   "outputs": [],
   "source": [
    "#добавим столбец в датафрейм\n",
    "data['user_type'] = data['order_id_y'].apply(user_type)"
   ]
  },
  {
   "cell_type": "code",
   "execution_count": 56,
   "metadata": {},
   "outputs": [],
   "source": [
    "#удалим ненужный столбец\n",
    "data.drop('order_id_y', axis=1, inplace=True)\n"
   ]
  },
  {
   "cell_type": "code",
   "execution_count": 57,
   "metadata": {},
   "outputs": [],
   "source": [
    "#\n",
    "data = data.rename(columns={'order_id_x': 'order_id'})"
   ]
  },
  {
   "cell_type": "code",
   "execution_count": 58,
   "metadata": {},
   "outputs": [
    {
     "data": {
      "text/html": [
       "<div>\n",
       "<style scoped>\n",
       "    .dataframe tbody tr th:only-of-type {\n",
       "        vertical-align: middle;\n",
       "    }\n",
       "\n",
       "    .dataframe tbody tr th {\n",
       "        vertical-align: top;\n",
       "    }\n",
       "\n",
       "    .dataframe thead th {\n",
       "        text-align: right;\n",
       "    }\n",
       "</style>\n",
       "<table border=\"1\" class=\"dataframe\">\n",
       "  <thead>\n",
       "    <tr style=\"text-align: right;\">\n",
       "      <th></th>\n",
       "      <th>customer_id</th>\n",
       "    </tr>\n",
       "    <tr>\n",
       "      <th>user_type</th>\n",
       "      <th></th>\n",
       "    </tr>\n",
       "  </thead>\n",
       "  <tbody>\n",
       "    <tr>\n",
       "      <th>единоразовый</th>\n",
       "      <td>1535</td>\n",
       "    </tr>\n",
       "    <tr>\n",
       "      <th>повторный</th>\n",
       "      <td>865</td>\n",
       "    </tr>\n",
       "    <tr>\n",
       "      <th>периодичный</th>\n",
       "      <td>29</td>\n",
       "    </tr>\n",
       "  </tbody>\n",
       "</table>\n",
       "</div>"
      ],
      "text/plain": [
       "              customer_id\n",
       "user_type                \n",
       "единоразовый         1535\n",
       "повторный             865\n",
       "периодичный            29"
      ]
     },
     "execution_count": 58,
     "metadata": {},
     "output_type": "execute_result"
    }
   ],
   "source": [
    "#группируем заказы по категориям\n",
    "customer_type = data.groupby('user_type').agg({'customer_id': 'nunique'}).sort_values(by='customer_id', ascending=False)\n",
    "customer_type"
   ]
  },
  {
   "cell_type": "code",
   "execution_count": 59,
   "metadata": {},
   "outputs": [
    {
     "data": {
      "image/png": "[encoded data removed]",
      "text/plain": [
       "<Figure size 1152x720 with 1 Axes>"
      ]
     },
     "metadata": {
      "needs_background": "light"
     },
     "output_type": "display_data"
    }
   ],
   "source": [
    "#построим график\n",
    "customer_type.plot(kind='bar', figsize=(16, 10), color='darkblue', legend=False)\n",
    "plt.title('Количество заказов  по пользователям')\n",
    "plt.xlabel('Категория')\n",
    "plt.ylabel('Количество пользователей')\n",
    "plt.show()"
   ]
  },
  {
   "cell_type": "markdown",
   "metadata": {},
   "source": [
    "Исходя из данных:\n",
    "\n",
    "- наибольшее количество пользователей(1 535 человек) за указанный промежуток времени в данных совершили только 1 заказ\n",
    "- 2 заказа сделали 865 пользователей\n",
    "- 3 и более заказов сделали всего 29 человек\n",
    "\n",
    "Возможно, пользователи регистрируются, делают первый заказ, а потом по каким-то причинам (технические неполадки, неудобное использование приложения, некачественный товар) прекращают использовать приложение. \n",
    "\n",
    "Посмотрим на категории товаров на следующем этапе"
   ]
  },
  {
   "cell_type": "markdown",
   "metadata": {},
   "source": [
    "### Категории товаров"
   ]
  },
  {
   "cell_type": "markdown",
   "metadata": {},
   "source": [
    "На этом этапе:\n",
    "\n",
    "- мы разделим все товары в приложении на категории\n",
    "- исследуем, какие категории товаров приобретаются пользователями чаще и приносят большую прибыль\n",
    "- рассчитаем общую прибыль и среднюю цену для каждой категории товаров"
   ]
  },
  {
   "cell_type": "code",
   "execution_count": 60,
   "metadata": {},
   "outputs": [
    {
     "data": {
      "text/plain": [
       "2339"
      ]
     },
     "execution_count": 60,
     "metadata": {},
     "output_type": "execute_result"
    }
   ],
   "source": [
    "#определим количество уникальных названий товаров\n",
    "data['product'].nunique()"
   ]
  },
  {
   "cell_type": "markdown",
   "metadata": {},
   "source": [
    "У нас есть 2 339 уникальных названий товаров"
   ]
  },
  {
   "cell_type": "code",
   "execution_count": 61,
   "metadata": {},
   "outputs": [],
   "source": [
    "#создадим функцию\n",
    "def categorize_item(product):\n",
    "    if \"комнатное\" in product or \"d-12\" in product or \"герань\" in product or \"d-9\" in product or \"d-13\" in product \\\n",
    "    or \"фиалка\" in product or \"скиммия\" in product or \"роза\" in product or \"пуансеттия\" in product \\\n",
    "    or \"пеларгония\" in product or \"спатифиллум\" in product or \"дендробиум\" in product or \"нефролепис\" in product \\\n",
    "    or \"калла\" in product or \"иссоп\" in product or \"сантолина\" in product or \"многолетнее\" in product \\\n",
    "    or \"суккулент\" in product or \"эхеверия\" in product or \"эвкалипт\" in product or \"адиантум\" in product \\\n",
    "    or \"кампанула\" in product or \"настурция\" in product or \"калатея\" in product or \"нолина\" in product or \"мирт\" in product \\\n",
    "    or \"афеляндра\" in product or \"бакопа\" in product or \"тимьян\" in product or \"d-15\" in product or \"космея\" in product \\\n",
    "    or \"эхинокактус\" in product or \"хризантема\" in product or \"горшок\" in product or \"d-10\" in product or \"флокс\" in product \\\n",
    "    or \"d-7\" in product or \"физостегия\" in product or \"черенок\" in product or \"антуриум\" in product or \"d-17\" in product \\\n",
    "    or \"калибрахоа\" in product or \"платикодон\" in product or \"гвоздика\" in product or \"кореопсис\" in product \\\n",
    "    or \"горшке\" in product or \"d-21\" in product or \"комнатная\" in product or \"бакопа\" in product or \"цикламен\" in product \\\n",
    "    or \"d-5\" in product or \"вербейник\" in product or \"фуксия\" in product or \"горшке\" in product or \"овсянница\" in product \\\n",
    "    or \"гипсофила\" in product or \"тюльпан\" in product or \"гвоздика\" in product or \"аквилегия\" in product or \"седум\" in product \\\n",
    "    or \"виола\" in product or \"календула\" in product or \"ранункулус\" in product or \"комнатный\" in product or \"зверобой\" in product \\\n",
    "    or \"георгина\" in product or \"смолевка\" in product or \"цинния\" in product or \"лавр\" in product or \"колокольчик\" in product \\\n",
    "    or \"котовник\" in product or \"флокс\" in product or \"эхинацея\" in product or \"ясколка\" in product or \"лилейник\" in product \\\n",
    "    or \"папоротник\" in product or \"энотера\" in product or \"вербена\" in product or \"петуния\" in product or \"гортензия\" in product \\\n",
    "    or \"лобелия\" in product or \"виноград\" in product or \"декабрист\" in product or \"пиретрум\" in product or \"калла\" in product \\\n",
    "    or \"примула\" in product or \"вероника\" in product or \"алиссум\" in product or \"бадан\" in product or \"камнеломка\" in product \\\n",
    "    or \"колокольчик\" in product or \"лапчатка\" in product or \"мята\" in product or \"гайлардия\" in product or \"монарда\" in product \\\n",
    "    or \"нивянник\" in product or \"рудбекия\" in product or \"барвинок\" in product or \"осина\" in product or \"аквилегия\" in product \\\n",
    "    or \"бузульник\" in product or \"камнеломка\" in product or \"солидаго\" in product or \"анемона\" in product or \"вигна\" in product \\\n",
    "    or \"хоста\" in product or \"астра\" in product: \n",
    "        return \"растения\"\n",
    "    elif \"сушилка\" in product or \"полимербыт\" in product or \"прищепок\" in product or \"светильник\" in product \\\n",
    "    or \"гладильная\" in product or \"вешалка\" in product or \"напольные\" in product or \"придверный\" in product \\\n",
    "    or \"корыто\" in product or \"мусора\" in product or \"одежный\" in product or \"корзина\" in product or \"белья\" in product \\\n",
    "    or \"хлопковый\" in product or \"вешалок\" in product or \"вакуумный\" in product or \"круглый\" in product or \"плечики\" in product \\\n",
    "    or \"кофр\" in product or \"влаговпитывающий\" in product or \"мусорный\" in product or \"карниз\" in product \\\n",
    "    or \"мусора\" in product or \"textilebox\" in product or \"стеллажный\" in product or \"хранения\" in product \\\n",
    "    or \"вешалка-плечики\" in product or \"плечики\" in product or \"утюг\" in product or \"урна\" in product \\\n",
    "    or \"кашпо\" in product or \"sochi\" in product or \"зажигалок\" in product or \"вешалка-стойка\" in product \\\n",
    "    or \"вешалки\" in product or \"фен\" in product or \"термометр\" in product or \"обувная\" in product or \"ролик\" in product \\\n",
    "    or \"ролика\" in product or \"почтовый\" in product or \"шило\" in product or \"ковш\" in product or \"комод\" in product \\\n",
    "    or \"глажения\" in product or \"змееголовник\" in product or \"обуви\" in product or \"вешалка-сушилка\" in product \\\n",
    "    or \"коробка\" in product or \"покрытие\" in product or \"крючок\" in product or \"этажерка\" in product or \"полки\" in product \\\n",
    "    or \"ключница\" in product or \"вешалка-перекладина\" in product or \"гладильной\" in product or \"пылесос\" in product \\\n",
    "    or \"урна-пепельница\" in product or \"обувница-3\" in product or \"бидон\" in product or \"пуф\" in product or \"стяжки\" in product \\\n",
    "    or \"коврик\" in product or \"корзинка\" in product or \"алюминиевый\" in product:\n",
    "        return \"для дома\"\n",
    "    elif \"рассада\" in product or \"однолетнее\" in product or \"однолетних\" in product or \"томата\" in product \\\n",
    "    or \"кассете\" in product or \"клубника\" in product or \"г\" in product or \"петуния\" in product or \"арбуз\" in product \\\n",
    "    or \"баклажан\" in product or \"дыня\" in product or \"клубника\" in product or \"патиссон\" in product or \"кориандр\" in product \\\n",
    "    or \"лук\" in product:\n",
    "        return \"рассада\"\n",
    "    elif \"чехол\" in product or \"скатерть\" in product or \"подрукавник\" in product or \"одеяло\" in product \\\n",
    "    or \"салфетка\" in product or \"простыня\" in product or \"плед\" in product or \"подушка\" in product or \"наматрасник\" in product \\\n",
    "    or \"халат\" in product or \"полотенце\" in product or \"махровая\" in product or \"покрывало\" in product or \"кухонных\" in product \\\n",
    "    or \"комплект постельного\" in product or \"сервировочная\" in product or \"простынь\" in product or \"полотенец\" in product \\\n",
    "    or \"рукав\" in product or \"наволочка\" in product or \"пододеяльник\" in product or \"постельное\" in product:\n",
    "        return \"текстиль\"\n",
    "    elif \"тележка\" in product or \"сумка-тележка\" in product or \"тележки\" in product or \"сумка\" in product \\\n",
    "    or \"корзина на колесах\" in product:\n",
    "        return \"сумки\"\n",
    "    elif \"стяжка\" in product or \"щетка\" in product or \"лестница-стремянка\" in product or \"инструмент\" in product \\\n",
    "    or \"петля\" in product or \"линейка\" in product or \"стремянки\" in product or \"строительный\" in product \\\n",
    "    or \"стремянка\" in product or \"крепеж\" in product or \"пружина\" in product or \"сверел\" in product or \"сверло-фреза\" in product \\\n",
    "    or \"сварка\" in product or \"угольник\" in product or \"петля-стрела\" in product or \"ручка-скоба\" in product \\\n",
    "    or \"стремянка-табурет\" in product or \"фал\" in product or \"штангенциркуль\" in product or \"напильников\" in product \\\n",
    "    or \"стремянки\" in product or \"насадка-моп\" in product or \"сверло\" in product or \"фиксатор-шар\" in product \\\n",
    "    or \"шпагат\" in product or \"завертка\" in product or \"ручка\" in product or \"уголок\" in product or \"основание\" in product \\\n",
    "    or \"шпингалет\" in product or \"шнур хозяйственный \" in product:\n",
    "        return \"для ремонта\"\n",
    "    elif \"декоративная\" in product or \"искусственный\" in product or \"новогоднее\" in product or \"муляж\" in product \\\n",
    "    or \"сервировочная\" in product or \"фоторамка\" in product or \"подставка\" in product or \"искусственная\" in product:\n",
    "        return \"декор\" \n",
    "    elif \"салфетка\" in product or \"полов\" in product or \"щетка-сметка\" in product or \"щетка-утюжок\" in product \\\n",
    "    or \"веник\" in product or \"латексные\" in product or \"protec\" in product or \"биопорошок\" in product \\\n",
    "    or \"чистящий\" in product or \"смахивания\" in product or \"швабра\" in product or \"мыло\" in product or \"прессованное\" in product \\\n",
    "    or \"швабры\" in product or \"совок\" in product or \"сметка\" in product or \"швабре\" in product or \"известкового\" in product \\\n",
    "    or \"полировки\" in product or \"сантехники\" in product or \"губка\" in product or \"резиновые\" in product \\\n",
    "    or \"антижир\" in product or \"мытья\" in product or \"ополаскиватель\" in product or \"салфеток\" in product \\\n",
    "    or \"гипоаллергенный\" in product or \"кондиционер\" in product or \"посудомоечных\" in product or \"насадка-отжим\" in product \\\n",
    "    or \"ведро\" in product or \"нетканые\" in product or \"насадка\" in product or \"тряпкодержатель\" in product \\\n",
    "    or \"скребком\" in product or \"окномойка\" in product or \"микрофибры\" in product or \"засоров\" in product \\\n",
    "    or \"скребок\" in product or \"отжим\" in product or \"антинакипин\" in product or \"отбеливатель\" in product \\\n",
    "    or \"вентиляционная\" in product or \"запасная\" in product or \"тряпка\" in product or \"чистки\" in product \\\n",
    "    or \"бельевые\" in product or \"стирки\" in product or \"таз пластмассовый\" in product or \"перчатки extra\" in product:\n",
    "        return \"для уборки\"\n",
    "    elif \"рыбочистка\" in product or \"пищевой\" in product or \"выпечки\" in product or \"посуды\" in product \\\n",
    "    or \"кондитерский\" in product or \"миска\" in product or \"банка\" in product or \"чайник\" in product \\\n",
    "    or \"салатник\" in product or \"столовая\" in product or \"чайная\" in product or \"нож\" in product or \"мини-сковорода\" in product \\\n",
    "    or \"сковорода\" in product  or \"сковороды\" in product or \"обеденная\" in product or \"котел\" in product \\\n",
    "    or \"термос\" in product or \"luminarc\" in product or \"кухни\" in product or \"кувшин\" in product or \"толкушка\" in product \\\n",
    "    or \"противень\" in product or \"кухонное\" in product or \"рассекатель\" in product or \"ножей\" in product \\\n",
    "    or \"миксер\" in product or \"пьезозажигалка\" in product or \"tepмокружка\" in product or \"овощей\" in product \\\n",
    "    or \"нож\" in product or \"салатник\" in product or \"ножеточка\" in product or \"масленка\" in product or \"косточек\" in product \\\n",
    "    or \"тарелка\" in product or \"салатников\" in product or \"овощеварка\" in product or \"фужеров\" in product \\\n",
    "    or \"разделочная\" in product or \"терка\" in product or \"кружка\" in product or \"глазунья\" in product \\\n",
    "    or \"лопатка\" in product or \"салфетница\" in product or \"стакан\" in product or \"измельчитель\" in product \\\n",
    "    or \"холодца\" in product or \"мантоварка\" in product or \"стаканов\" in product or \"хлебница\" in product or \"ножницы\" in product \\\n",
    "    or \"картофелемялка\" in product or \"кексов\" in product or \"термостакан\" in product or \"чеснока\" in product \\\n",
    "    or \"соковыжималка\" in product or \"дуршлаг\" in product or \"чайный\" in product or \"бокалов\" in product \\\n",
    "    or \"электроштопор\" in product or \"свч\" in product or \"мантоварка-пароварка\" in product or \"контейнер\" in product \\\n",
    "    or \"соуса\" in product or \"овощей\" in product or \"просеиватель\" in product or \"блюдо\" in product or \"кастрюля\" in product \\\n",
    "    or \"выпечки\" in product or \"орехоколка\" in product or \"скалка\" in product or \"венчик\" in product or \"сито\" in product \\\n",
    "    or \"тортница\" in product or \"сотейник\" in product or \"шприц\" in product or \"сахарница\" in product or \"соковарка\" in product \\\n",
    "    or \"терка\" in product or \"половник\" in product or \"кипятильник\" in product or \"яйца\" in product or \"мерный\" in product \\\n",
    "    or \"овощечистка\" in product or \"столовых\" in product or \"кухонная\" in product or \"стерилизации\" in product \\\n",
    "    or \"лоток\" in product:\n",
    "        return \"для кухни\"\n",
    "    elif \"сиденье\" in product or \"корзина\" in product or \"пробка\" in product or \"ванной\" in product \\\n",
    "    or \"душа\" in product or \"ёрш\" in product or \"противоскользящий\" in product or \"подголовник\" in product \\\n",
    "    or \"ванную\" in product or \"ерш\" in product or \"дозатор\" in product or \"стиральной\" in product or \"пена\" in product \\\n",
    "    or \"зубная\" in product or \"сиденье\" in product or \"увлажняющая\" in product or \"держатель\" in product \\\n",
    "    or \"пробка\" in product or \"мыльница\" in product or \"кольца\" in product or \"вантуз\" in product or \"дозатор\" in product \\\n",
    "    or \"мыло-скраб\" in product or \"унитаза\" in product:\n",
    "        return \"для ванны\"\n",
    "    else:\n",
    "        return \"другое\""
   ]
  },
  {
   "cell_type": "code",
   "execution_count": 62,
   "metadata": {},
   "outputs": [],
   "source": [
    "#добавим новый столбец в датафрейм\n",
    "data['category_product'] = data.apply(lambda row: categorize_item(row['product']), axis=1)"
   ]
  },
  {
   "cell_type": "code",
   "execution_count": 63,
   "metadata": {},
   "outputs": [
    {
     "data": {
      "text/html": [
       "<div>\n",
       "<style scoped>\n",
       "    .dataframe tbody tr th:only-of-type {\n",
       "        vertical-align: middle;\n",
       "    }\n",
       "\n",
       "    .dataframe tbody tr th {\n",
       "        vertical-align: top;\n",
       "    }\n",
       "\n",
       "    .dataframe thead th {\n",
       "        text-align: right;\n",
       "    }\n",
       "</style>\n",
       "<table border=\"1\" class=\"dataframe\">\n",
       "  <thead>\n",
       "    <tr style=\"text-align: right;\">\n",
       "      <th></th>\n",
       "      <th>date</th>\n",
       "      <th>customer_id</th>\n",
       "      <th>order_id</th>\n",
       "      <th>product</th>\n",
       "      <th>quantity</th>\n",
       "      <th>price</th>\n",
       "      <th>year</th>\n",
       "      <th>month</th>\n",
       "      <th>day</th>\n",
       "      <th>full_price</th>\n",
       "      <th>category</th>\n",
       "      <th>user_type</th>\n",
       "      <th>category_product</th>\n",
       "    </tr>\n",
       "  </thead>\n",
       "  <tbody>\n",
       "  </tbody>\n",
       "</table>\n",
       "</div>"
      ],
      "text/plain": [
       "Empty DataFrame\n",
       "Columns: [date, customer_id, order_id, product, quantity, price, year, month, day, full_price, category, user_type, category_product]\n",
       "Index: []"
      ]
     },
     "execution_count": 63,
     "metadata": {},
     "output_type": "execute_result"
    }
   ],
   "source": [
    "#проверим, не остались ли у нас позиции в категории \"Другое\"\n",
    "replay = data.query('category_product == \"другое\"')\n",
    "replay"
   ]
  },
  {
   "cell_type": "markdown",
   "metadata": {},
   "source": [
    "Мы успешно добавили категории для наших товаров. Теперь исследуем категории:\n",
    "\n",
    "- в каких категориях пользователи приобретают большее количество едениц товаров\n",
    "- суммы прибыли для каждой категории\n",
    "- средняя цена товаров в каждой категории"
   ]
  },
  {
   "cell_type": "code",
   "execution_count": 64,
   "metadata": {},
   "outputs": [
    {
     "data": {
      "text/plain": [
       "13352"
      ]
     },
     "execution_count": 64,
     "metadata": {},
     "output_type": "execute_result"
    }
   ],
   "source": [
    "#определим общее количество приобретенных товаров в еденицах\n",
    "data['quantity'].sum()"
   ]
  },
  {
   "cell_type": "code",
   "execution_count": 66,
   "metadata": {},
   "outputs": [
    {
     "data": {
      "text/html": [
       "<div>\n",
       "<style scoped>\n",
       "    .dataframe tbody tr th:only-of-type {\n",
       "        vertical-align: middle;\n",
       "    }\n",
       "\n",
       "    .dataframe tbody tr th {\n",
       "        vertical-align: top;\n",
       "    }\n",
       "\n",
       "    .dataframe thead th {\n",
       "        text-align: right;\n",
       "    }\n",
       "</style>\n",
       "<table border=\"1\" class=\"dataframe\">\n",
       "  <thead>\n",
       "    <tr style=\"text-align: right;\">\n",
       "      <th></th>\n",
       "      <th>quantity</th>\n",
       "    </tr>\n",
       "    <tr>\n",
       "      <th>category_product</th>\n",
       "      <th></th>\n",
       "    </tr>\n",
       "  </thead>\n",
       "  <tbody>\n",
       "    <tr>\n",
       "      <th>растения</th>\n",
       "      <td>3660</td>\n",
       "    </tr>\n",
       "    <tr>\n",
       "      <th>для дома</th>\n",
       "      <td>2688</td>\n",
       "    </tr>\n",
       "    <tr>\n",
       "      <th>декор</th>\n",
       "      <td>1851</td>\n",
       "    </tr>\n",
       "    <tr>\n",
       "      <th>рассада</th>\n",
       "      <td>1833</td>\n",
       "    </tr>\n",
       "    <tr>\n",
       "      <th>для ремонта</th>\n",
       "      <td>1178</td>\n",
       "    </tr>\n",
       "    <tr>\n",
       "      <th>для кухни</th>\n",
       "      <td>972</td>\n",
       "    </tr>\n",
       "    <tr>\n",
       "      <th>текстиль</th>\n",
       "      <td>343</td>\n",
       "    </tr>\n",
       "    <tr>\n",
       "      <th>для уборки</th>\n",
       "      <td>311</td>\n",
       "    </tr>\n",
       "    <tr>\n",
       "      <th>сумки</th>\n",
       "      <td>283</td>\n",
       "    </tr>\n",
       "    <tr>\n",
       "      <th>для ванны</th>\n",
       "      <td>233</td>\n",
       "    </tr>\n",
       "  </tbody>\n",
       "</table>\n",
       "</div>"
      ],
      "text/plain": [
       "                  quantity\n",
       "category_product          \n",
       "растения              3660\n",
       "для дома              2688\n",
       "декор                 1851\n",
       "рассада               1833\n",
       "для ремонта           1178\n",
       "для кухни              972\n",
       "текстиль               343\n",
       "для уборки             311\n",
       "сумки                  283\n",
       "для ванны              233"
      ]
     },
     "execution_count": 66,
     "metadata": {},
     "output_type": "execute_result"
    }
   ],
   "source": [
    "#группируем данные по количеству приобретенных товаров в каждой категории\n",
    "category_count = data.groupby('category_product').agg({'quantity': 'sum'}).sort_values(by='quantity', ascending=False)\n",
    "category_count"
   ]
  },
  {
   "cell_type": "code",
   "execution_count": 67,
   "metadata": {},
   "outputs": [
    {
     "data": {
      "image/png": "[encoded data removed]",
      "text/plain": [
       "<Figure size 1152x720 with 1 Axes>"
      ]
     },
     "metadata": {
      "needs_background": "light"
     },
     "output_type": "display_data"
    }
   ],
   "source": [
    "#построим график\n",
    "category_count.plot(kind='bar', figsize=(16, 10), color='darkblue', legend=False)\n",
    "plt.title('Количество приобретенных товаров в каждой категории')\n",
    "plt.xlabel('Категория')\n",
    "plt.ylabel('Количество приобретенных товаров')\n",
    "plt.show()"
   ]
  },
  {
   "cell_type": "markdown",
   "metadata": {},
   "source": [
    "Имеем такую картину:\n",
    "\n",
    "- лидирует категория \"растения\" - из нее было приобретено 3 660 товаров\n",
    "- на втором месте \"для дома\"- 2 688 товаров\n",
    "- замыкает лидирующую тройку к тегория \"декор\" - 1 851 товар\n",
    "\n",
    "создадим сводную таблицу, которая покажет количество товаров в каждой категории, для дополнения анализа"
   ]
  },
  {
   "cell_type": "code",
   "execution_count": 68,
   "metadata": {},
   "outputs": [
    {
     "data": {
      "text/html": [
       "<div>\n",
       "<style scoped>\n",
       "    .dataframe tbody tr th:only-of-type {\n",
       "        vertical-align: middle;\n",
       "    }\n",
       "\n",
       "    .dataframe tbody tr th {\n",
       "        vertical-align: top;\n",
       "    }\n",
       "\n",
       "    .dataframe thead th {\n",
       "        text-align: right;\n",
       "    }\n",
       "</style>\n",
       "<table border=\"1\" class=\"dataframe\">\n",
       "  <thead>\n",
       "    <tr style=\"text-align: right;\">\n",
       "      <th></th>\n",
       "      <th>product</th>\n",
       "    </tr>\n",
       "    <tr>\n",
       "      <th>category_product</th>\n",
       "      <th></th>\n",
       "    </tr>\n",
       "  </thead>\n",
       "  <tbody>\n",
       "    <tr>\n",
       "      <th>растения</th>\n",
       "      <td>682</td>\n",
       "    </tr>\n",
       "    <tr>\n",
       "      <th>для дома</th>\n",
       "      <td>547</td>\n",
       "    </tr>\n",
       "    <tr>\n",
       "      <th>рассада</th>\n",
       "      <td>465</td>\n",
       "    </tr>\n",
       "    <tr>\n",
       "      <th>для кухни</th>\n",
       "      <td>204</td>\n",
       "    </tr>\n",
       "    <tr>\n",
       "      <th>сумки</th>\n",
       "      <td>88</td>\n",
       "    </tr>\n",
       "    <tr>\n",
       "      <th>декор</th>\n",
       "      <td>77</td>\n",
       "    </tr>\n",
       "    <tr>\n",
       "      <th>для ремонта</th>\n",
       "      <td>73</td>\n",
       "    </tr>\n",
       "    <tr>\n",
       "      <th>текстиль</th>\n",
       "      <td>71</td>\n",
       "    </tr>\n",
       "    <tr>\n",
       "      <th>для уборки</th>\n",
       "      <td>68</td>\n",
       "    </tr>\n",
       "    <tr>\n",
       "      <th>для ванны</th>\n",
       "      <td>64</td>\n",
       "    </tr>\n",
       "  </tbody>\n",
       "</table>\n",
       "</div>"
      ],
      "text/plain": [
       "                  product\n",
       "category_product         \n",
       "растения              682\n",
       "для дома              547\n",
       "рассада               465\n",
       "для кухни             204\n",
       "сумки                  88\n",
       "декор                  77\n",
       "для ремонта            73\n",
       "текстиль               71\n",
       "для уборки             68\n",
       "для ванны              64"
      ]
     },
     "execution_count": 68,
     "metadata": {},
     "output_type": "execute_result"
    }
   ],
   "source": [
    "#определим количество товаров в каждой категории\n",
    "product_count = data.groupby('category_product').agg({'product': 'nunique'}).sort_values(by='product', ascending=False)\n",
    "product_count"
   ]
  },
  {
   "cell_type": "code",
   "execution_count": 69,
   "metadata": {},
   "outputs": [
    {
     "data": {
      "image/png": "[encoded data removed]",
      "text/plain": [
       "<Figure size 1152x720 with 1 Axes>"
      ]
     },
     "metadata": {
      "needs_background": "light"
     },
     "output_type": "display_data"
    }
   ],
   "source": [
    "#построим график\n",
    "product_count.plot(kind='bar', figsize=(16, 10), color='darkblue', legend=False)\n",
    "plt.title('Количество товаров в каждой категории')\n",
    "plt.xlabel('Категория')\n",
    "plt.ylabel('Количество товаров')\n",
    "plt.show()"
   ]
  },
  {
   "cell_type": "markdown",
   "metadata": {},
   "source": [
    "- действительно, по количеству товаров категория \"растения\" является лидирующей\n",
    "- категория \"рассада\" переходит на третье место"
   ]
  },
  {
   "cell_type": "markdown",
   "metadata": {},
   "source": [
    "Рассчитаем общую прибыль и среднюю цену для каждой категории товаров"
   ]
  },
  {
   "cell_type": "code",
   "execution_count": 70,
   "metadata": {},
   "outputs": [
    {
     "data": {
      "text/html": [
       "<div>\n",
       "<style scoped>\n",
       "    .dataframe tbody tr th:only-of-type {\n",
       "        vertical-align: middle;\n",
       "    }\n",
       "\n",
       "    .dataframe tbody tr th {\n",
       "        vertical-align: top;\n",
       "    }\n",
       "\n",
       "    .dataframe thead th {\n",
       "        text-align: right;\n",
       "    }\n",
       "</style>\n",
       "<table border=\"1\" class=\"dataframe\">\n",
       "  <thead>\n",
       "    <tr style=\"text-align: right;\">\n",
       "      <th></th>\n",
       "      <th>full_price</th>\n",
       "    </tr>\n",
       "    <tr>\n",
       "      <th>category_product</th>\n",
       "      <th></th>\n",
       "    </tr>\n",
       "  </thead>\n",
       "  <tbody>\n",
       "    <tr>\n",
       "      <th>для дома</th>\n",
       "      <td>1403183</td>\n",
       "    </tr>\n",
       "    <tr>\n",
       "      <th>сумки</th>\n",
       "      <td>698811</td>\n",
       "    </tr>\n",
       "    <tr>\n",
       "      <th>растения</th>\n",
       "      <td>525204</td>\n",
       "    </tr>\n",
       "    <tr>\n",
       "      <th>рассада</th>\n",
       "      <td>425916</td>\n",
       "    </tr>\n",
       "    <tr>\n",
       "      <th>для кухни</th>\n",
       "      <td>222063</td>\n",
       "    </tr>\n",
       "    <tr>\n",
       "      <th>для ремонта</th>\n",
       "      <td>196490</td>\n",
       "    </tr>\n",
       "    <tr>\n",
       "      <th>текстиль</th>\n",
       "      <td>170454</td>\n",
       "    </tr>\n",
       "    <tr>\n",
       "      <th>для ванны</th>\n",
       "      <td>101572</td>\n",
       "    </tr>\n",
       "    <tr>\n",
       "      <th>декор</th>\n",
       "      <td>98659</td>\n",
       "    </tr>\n",
       "    <tr>\n",
       "      <th>для уборки</th>\n",
       "      <td>93230</td>\n",
       "    </tr>\n",
       "  </tbody>\n",
       "</table>\n",
       "</div>"
      ],
      "text/plain": [
       "                  full_price\n",
       "category_product            \n",
       "для дома             1403183\n",
       "сумки                 698811\n",
       "растения              525204\n",
       "рассада               425916\n",
       "для кухни             222063\n",
       "для ремонта           196490\n",
       "текстиль              170454\n",
       "для ванны             101572\n",
       "декор                  98659\n",
       "для уборки             93230"
      ]
     },
     "execution_count": 70,
     "metadata": {},
     "output_type": "execute_result"
    }
   ],
   "source": [
    "#определим прибыль по категориям\n",
    "category_total =  data.groupby('category_product').agg({'full_price': 'sum'}).sort_values(by='full_price',ascending=False)\n",
    "category_total.astype('int')"
   ]
  },
  {
   "cell_type": "code",
   "execution_count": 71,
   "metadata": {},
   "outputs": [
    {
     "data": {
      "image/png": "[encoded data removed]",
      "text/plain": [
       "<Figure size 1152x720 with 1 Axes>"
      ]
     },
     "metadata": {
      "needs_background": "light"
     },
     "output_type": "display_data"
    }
   ],
   "source": [
    "#построим график\n",
    "category_total.plot(kind='bar', figsize=(16, 10), color='darkblue', legend=False)\n",
    "plt.title('Сумма прибыли в каждой категории')\n",
    "plt.xlabel('Категория')\n",
    "plt.ylabel('Сумма прибыли')\n",
    "plt.show()"
   ]
  },
  {
   "cell_type": "markdown",
   "metadata": {},
   "source": [
    "Получается довольно неоднозначная ситуация:\n",
    "\n",
    "- по доходу со значительным отрывом лидирует категория \"для дома\" - 1 403 183 ден.ед.\n",
    "- на втором месте категория \"сумки\" - 698 811 ден.ед.\n",
    "- лидирующая по количеству приобретенных товаров на третьем месте с суммой прибыли - 525 204 ден.ед.\n",
    "- категории \"декор\" и \"для уборки\" имеют приблизительно одинаковые значения 98 659 и 93 230 ден. ед. соответсвенно\n",
    "\n",
    "Вероятно, всё же имеет большое значение цена товаров в каждой категории. Посмотрим на среднюю цену товаров по каждой категории"
   ]
  },
  {
   "cell_type": "code",
   "execution_count": 72,
   "metadata": {},
   "outputs": [
    {
     "data": {
      "text/html": [
       "<div>\n",
       "<style scoped>\n",
       "    .dataframe tbody tr th:only-of-type {\n",
       "        vertical-align: middle;\n",
       "    }\n",
       "\n",
       "    .dataframe tbody tr th {\n",
       "        vertical-align: top;\n",
       "    }\n",
       "\n",
       "    .dataframe thead th {\n",
       "        text-align: right;\n",
       "    }\n",
       "</style>\n",
       "<table border=\"1\" class=\"dataframe\">\n",
       "  <thead>\n",
       "    <tr style=\"text-align: right;\">\n",
       "      <th></th>\n",
       "      <th>price</th>\n",
       "    </tr>\n",
       "    <tr>\n",
       "      <th>category_product</th>\n",
       "      <th></th>\n",
       "    </tr>\n",
       "  </thead>\n",
       "  <tbody>\n",
       "    <tr>\n",
       "      <th>сумки</th>\n",
       "      <td>2492.0</td>\n",
       "    </tr>\n",
       "    <tr>\n",
       "      <th>для ремонта</th>\n",
       "      <td>1381.0</td>\n",
       "    </tr>\n",
       "    <tr>\n",
       "      <th>для дома</th>\n",
       "      <td>1037.0</td>\n",
       "    </tr>\n",
       "    <tr>\n",
       "      <th>для ванны</th>\n",
       "      <td>757.0</td>\n",
       "    </tr>\n",
       "    <tr>\n",
       "      <th>текстиль</th>\n",
       "      <td>595.0</td>\n",
       "    </tr>\n",
       "    <tr>\n",
       "      <th>для уборки</th>\n",
       "      <td>519.0</td>\n",
       "    </tr>\n",
       "    <tr>\n",
       "      <th>для кухни</th>\n",
       "      <td>380.0</td>\n",
       "    </tr>\n",
       "    <tr>\n",
       "      <th>рассада</th>\n",
       "      <td>280.0</td>\n",
       "    </tr>\n",
       "    <tr>\n",
       "      <th>растения</th>\n",
       "      <td>169.0</td>\n",
       "    </tr>\n",
       "    <tr>\n",
       "      <th>декор</th>\n",
       "      <td>72.0</td>\n",
       "    </tr>\n",
       "  </tbody>\n",
       "</table>\n",
       "</div>"
      ],
      "text/plain": [
       "                   price\n",
       "category_product        \n",
       "сумки             2492.0\n",
       "для ремонта       1381.0\n",
       "для дома          1037.0\n",
       "для ванны          757.0\n",
       "текстиль           595.0\n",
       "для уборки         519.0\n",
       "для кухни          380.0\n",
       "рассада            280.0\n",
       "растения           169.0\n",
       "декор               72.0"
      ]
     },
     "execution_count": 72,
     "metadata": {},
     "output_type": "execute_result"
    }
   ],
   "source": [
    "#рассчитаем среднюю цену товаров по категориям\n",
    "avg_price = round(data.groupby('category_product').agg({'price': 'mean'}).sort_values(by='price', ascending=False), 0)\n",
    "avg_price"
   ]
  },
  {
   "cell_type": "code",
   "execution_count": 73,
   "metadata": {},
   "outputs": [
    {
     "data": {
      "image/png": "[encoded data removed]",
      "text/plain": [
       "<Figure size 1152x720 with 1 Axes>"
      ]
     },
     "metadata": {
      "needs_background": "light"
     },
     "output_type": "display_data"
    }
   ],
   "source": [
    "#построим график\n",
    "avg_price.plot(kind='bar', figsize=(16, 10), color='darkblue', legend=False)\n",
    "plt.title('Средняя цена товаров в категории')\n",
    "plt.xlabel('Категория')\n",
    "plt.ylabel('Средняя цена товаров')\n",
    "plt.show()"
   ]
  },
  {
   "cell_type": "markdown",
   "metadata": {},
   "source": [
    "- наибольшую среднюю цену имеет категория \"сумки\" - 2 492 ден. ед в среднем за одну позицию товара\n",
    "- с большим отрывом следует категория \"для ремонта\" - 1 381 ден. ед.\n",
    "- и категория \"для дома\" - 1 037 ден. ед.\n",
    "\n",
    "остальные категории имеют среднюю цену  ниже 1 000 ден. ед за позицию товара"
   ]
  },
  {
   "cell_type": "markdown",
   "metadata": {},
   "source": [
    "### Сегментация покупателей по категориям количества заказов"
   ]
  },
  {
   "cell_type": "markdown",
   "metadata": {},
   "source": [
    "Возьмем за основу нашу категоризацию пользователей приложения по количеству заказов.\n",
    "\n",
    "Продублируем, что у нас есть 3 категории:\n",
    "\n",
    "- единоразовый - пользователь сделал 1 заказ за всё время\n",
    "- повторный - покупатель совершил 2 заказа\n",
    "- периодичный - пользователь сделал 3 или более заказов\n",
    "\n",
    "В результате такого разделения по количеству пользователей мы имеем следующее:\n",
    "- единоразовый - 1535 человека\n",
    "- повторный - 865\n",
    "- периодичный - 29\n",
    "\n",
    "Изучим эти категории более подробно. А именно:\n",
    "- количество товаров, которые приобрела каждая категория\n",
    "- принесенная прибыль от каждой категории\n",
    "- категории товаров, которые преимущественно покупают\n",
    "- средний чек заказа в каждой категории\n",
    "- частоту заказов\n",
    "\n",
    "Вначале, разделим наши категории в отдельные датасеты"
   ]
  },
  {
   "cell_type": "code",
   "execution_count": 74,
   "metadata": {},
   "outputs": [],
   "source": [
    "#разделим на категории\n",
    "first = data.query(\"user_type == 'единоразовый'\")\n",
    "second = data.query(\"user_type == 'повторный'\")\n",
    "third = data.query(\"user_type == 'периодичный'\")"
   ]
  },
  {
   "cell_type": "markdown",
   "metadata": {},
   "source": [
    "#### Количество приобретенных товаров"
   ]
  },
  {
   "cell_type": "code",
   "execution_count": 75,
   "metadata": {},
   "outputs": [
    {
     "data": {
      "text/plain": [
       "9625"
      ]
     },
     "execution_count": 75,
     "metadata": {},
     "output_type": "execute_result"
    }
   ],
   "source": [
    "#общее количество товаров у 1-й группы\n",
    "product_one = first['quantity'].sum()\n",
    "product_one"
   ]
  },
  {
   "cell_type": "code",
   "execution_count": 76,
   "metadata": {},
   "outputs": [
    {
     "data": {
      "text/plain": [
       "2563"
      ]
     },
     "execution_count": 76,
     "metadata": {},
     "output_type": "execute_result"
    }
   ],
   "source": [
    "#общее количество товаров у 2-й группы\n",
    "product_two = second['quantity'].sum()\n",
    "product_two"
   ]
  },
  {
   "cell_type": "code",
   "execution_count": 77,
   "metadata": {},
   "outputs": [
    {
     "data": {
      "text/plain": [
       "1164"
      ]
     },
     "execution_count": 77,
     "metadata": {},
     "output_type": "execute_result"
    }
   ],
   "source": [
    "#общее количество товаров у 3-й группы\n",
    "product_three = third['quantity'].sum()\n",
    "product_three"
   ]
  },
  {
   "cell_type": "markdown",
   "metadata": {},
   "source": [
    "По количеству приобретенных товаров:\n",
    "\n",
    "- категория \"единоразовый\" приобрела 9 625 товаров\n",
    "- категория \"повторный\" приобрела 2 563 товара\n",
    "- категория \"периодичный\" приобрела 1 164 товара\n",
    "\n",
    "Пока всё логично - наибольшая по количеству пользователей категория приобрела наибольшее количество товаров"
   ]
  },
  {
   "cell_type": "markdown",
   "metadata": {},
   "source": [
    "#### Прибыль от каждой категории"
   ]
  },
  {
   "cell_type": "code",
   "execution_count": 78,
   "metadata": {},
   "outputs": [
    {
     "data": {
      "text/plain": [
       "2006990.0"
      ]
     },
     "execution_count": 78,
     "metadata": {},
     "output_type": "execute_result"
    }
   ],
   "source": [
    "#прибыль 1-й группы\n",
    "revenue_one = first['full_price'].sum()\n",
    "revenue_one"
   ]
  },
  {
   "cell_type": "code",
   "execution_count": 79,
   "metadata": {},
   "outputs": [
    {
     "data": {
      "text/plain": [
       "1572165.0"
      ]
     },
     "execution_count": 79,
     "metadata": {},
     "output_type": "execute_result"
    }
   ],
   "source": [
    "#прибыль 2-й группы\n",
    "revenue_two = round(second['full_price'].sum(), 0)\n",
    "revenue_two"
   ]
  },
  {
   "cell_type": "code",
   "execution_count": 80,
   "metadata": {},
   "outputs": [
    {
     "data": {
      "text/plain": [
       "356429.0"
      ]
     },
     "execution_count": 80,
     "metadata": {},
     "output_type": "execute_result"
    }
   ],
   "source": [
    "#прибыль 3-й группы\n",
    "revenue_three = third['full_price'].sum()\n",
    "revenue_three"
   ]
  },
  {
   "cell_type": "markdown",
   "metadata": {},
   "source": [
    "- категория \"единоразовый\" принесла прибыль 2 006 990 ден. ед.\n",
    "- категория \"повторный\" принесла прибыль 1 572 165 ден. ед.\n",
    "- категория \"периодичный\" принесла прибыль 356 429 ден. ед.\n",
    "- категория периодичных покупателей по принесённой прибыли заметно отстает"
   ]
  },
  {
   "cell_type": "markdown",
   "metadata": {},
   "source": [
    "#### Преимущественные категории товаров"
   ]
  },
  {
   "cell_type": "code",
   "execution_count": 81,
   "metadata": {},
   "outputs": [
    {
     "data": {
      "text/html": [
       "<div>\n",
       "<style scoped>\n",
       "    .dataframe tbody tr th:only-of-type {\n",
       "        vertical-align: middle;\n",
       "    }\n",
       "\n",
       "    .dataframe tbody tr th {\n",
       "        vertical-align: top;\n",
       "    }\n",
       "\n",
       "    .dataframe thead th {\n",
       "        text-align: right;\n",
       "    }\n",
       "</style>\n",
       "<table border=\"1\" class=\"dataframe\">\n",
       "  <thead>\n",
       "    <tr style=\"text-align: right;\">\n",
       "      <th></th>\n",
       "      <th>quantity</th>\n",
       "    </tr>\n",
       "    <tr>\n",
       "      <th>category_product</th>\n",
       "      <th></th>\n",
       "    </tr>\n",
       "  </thead>\n",
       "  <tbody>\n",
       "    <tr>\n",
       "      <th>растения</th>\n",
       "      <td>2648</td>\n",
       "    </tr>\n",
       "    <tr>\n",
       "      <th>для дома</th>\n",
       "      <td>1912</td>\n",
       "    </tr>\n",
       "    <tr>\n",
       "      <th>декор</th>\n",
       "      <td>1629</td>\n",
       "    </tr>\n",
       "    <tr>\n",
       "      <th>рассада</th>\n",
       "      <td>1147</td>\n",
       "    </tr>\n",
       "    <tr>\n",
       "      <th>для ремонта</th>\n",
       "      <td>915</td>\n",
       "    </tr>\n",
       "    <tr>\n",
       "      <th>для кухни</th>\n",
       "      <td>716</td>\n",
       "    </tr>\n",
       "    <tr>\n",
       "      <th>для уборки</th>\n",
       "      <td>234</td>\n",
       "    </tr>\n",
       "    <tr>\n",
       "      <th>текстиль</th>\n",
       "      <td>157</td>\n",
       "    </tr>\n",
       "    <tr>\n",
       "      <th>для ванны</th>\n",
       "      <td>138</td>\n",
       "    </tr>\n",
       "    <tr>\n",
       "      <th>сумки</th>\n",
       "      <td>129</td>\n",
       "    </tr>\n",
       "  </tbody>\n",
       "</table>\n",
       "</div>"
      ],
      "text/plain": [
       "                  quantity\n",
       "category_product          \n",
       "растения              2648\n",
       "для дома              1912\n",
       "декор                 1629\n",
       "рассада               1147\n",
       "для ремонта            915\n",
       "для кухни              716\n",
       "для уборки             234\n",
       "текстиль               157\n",
       "для ванны              138\n",
       "сумки                  129"
      ]
     },
     "execution_count": 81,
     "metadata": {},
     "output_type": "execute_result"
    }
   ],
   "source": [
    "#категории 1-й группы\n",
    "category_one = first.groupby('category_product').agg({'quantity': 'sum'}).sort_values(by='quantity', ascending=False)\n",
    "category_one"
   ]
  },
  {
   "cell_type": "code",
   "execution_count": 82,
   "metadata": {},
   "outputs": [
    {
     "data": {
      "text/html": [
       "<div>\n",
       "<style scoped>\n",
       "    .dataframe tbody tr th:only-of-type {\n",
       "        vertical-align: middle;\n",
       "    }\n",
       "\n",
       "    .dataframe tbody tr th {\n",
       "        vertical-align: top;\n",
       "    }\n",
       "\n",
       "    .dataframe thead th {\n",
       "        text-align: right;\n",
       "    }\n",
       "</style>\n",
       "<table border=\"1\" class=\"dataframe\">\n",
       "  <thead>\n",
       "    <tr style=\"text-align: right;\">\n",
       "      <th></th>\n",
       "      <th>quantity</th>\n",
       "    </tr>\n",
       "    <tr>\n",
       "      <th>category_product</th>\n",
       "      <th></th>\n",
       "    </tr>\n",
       "  </thead>\n",
       "  <tbody>\n",
       "    <tr>\n",
       "      <th>растения</th>\n",
       "      <td>726</td>\n",
       "    </tr>\n",
       "    <tr>\n",
       "      <th>для дома</th>\n",
       "      <td>625</td>\n",
       "    </tr>\n",
       "    <tr>\n",
       "      <th>рассада</th>\n",
       "      <td>432</td>\n",
       "    </tr>\n",
       "    <tr>\n",
       "      <th>для кухни</th>\n",
       "      <td>215</td>\n",
       "    </tr>\n",
       "    <tr>\n",
       "      <th>декор</th>\n",
       "      <td>156</td>\n",
       "    </tr>\n",
       "    <tr>\n",
       "      <th>сумки</th>\n",
       "      <td>117</td>\n",
       "    </tr>\n",
       "    <tr>\n",
       "      <th>текстиль</th>\n",
       "      <td>92</td>\n",
       "    </tr>\n",
       "    <tr>\n",
       "      <th>для ремонта</th>\n",
       "      <td>76</td>\n",
       "    </tr>\n",
       "    <tr>\n",
       "      <th>для ванны</th>\n",
       "      <td>62</td>\n",
       "    </tr>\n",
       "    <tr>\n",
       "      <th>для уборки</th>\n",
       "      <td>62</td>\n",
       "    </tr>\n",
       "  </tbody>\n",
       "</table>\n",
       "</div>"
      ],
      "text/plain": [
       "                  quantity\n",
       "category_product          \n",
       "растения               726\n",
       "для дома               625\n",
       "рассада                432\n",
       "для кухни              215\n",
       "декор                  156\n",
       "сумки                  117\n",
       "текстиль                92\n",
       "для ремонта             76\n",
       "для ванны               62\n",
       "для уборки              62"
      ]
     },
     "execution_count": 82,
     "metadata": {},
     "output_type": "execute_result"
    }
   ],
   "source": [
    "#категории 2-й группы\n",
    "category_two = second.groupby('category_product').agg({'quantity': 'sum'}).sort_values(by='quantity', ascending=False)\n",
    "category_two"
   ]
  },
  {
   "cell_type": "code",
   "execution_count": 83,
   "metadata": {},
   "outputs": [
    {
     "data": {
      "text/html": [
       "<div>\n",
       "<style scoped>\n",
       "    .dataframe tbody tr th:only-of-type {\n",
       "        vertical-align: middle;\n",
       "    }\n",
       "\n",
       "    .dataframe tbody tr th {\n",
       "        vertical-align: top;\n",
       "    }\n",
       "\n",
       "    .dataframe thead th {\n",
       "        text-align: right;\n",
       "    }\n",
       "</style>\n",
       "<table border=\"1\" class=\"dataframe\">\n",
       "  <thead>\n",
       "    <tr style=\"text-align: right;\">\n",
       "      <th></th>\n",
       "      <th>quantity</th>\n",
       "    </tr>\n",
       "    <tr>\n",
       "      <th>category_product</th>\n",
       "      <th></th>\n",
       "    </tr>\n",
       "  </thead>\n",
       "  <tbody>\n",
       "    <tr>\n",
       "      <th>растения</th>\n",
       "      <td>286</td>\n",
       "    </tr>\n",
       "    <tr>\n",
       "      <th>рассада</th>\n",
       "      <td>254</td>\n",
       "    </tr>\n",
       "    <tr>\n",
       "      <th>для ремонта</th>\n",
       "      <td>187</td>\n",
       "    </tr>\n",
       "    <tr>\n",
       "      <th>для дома</th>\n",
       "      <td>151</td>\n",
       "    </tr>\n",
       "    <tr>\n",
       "      <th>текстиль</th>\n",
       "      <td>94</td>\n",
       "    </tr>\n",
       "    <tr>\n",
       "      <th>декор</th>\n",
       "      <td>66</td>\n",
       "    </tr>\n",
       "    <tr>\n",
       "      <th>для кухни</th>\n",
       "      <td>41</td>\n",
       "    </tr>\n",
       "    <tr>\n",
       "      <th>сумки</th>\n",
       "      <td>37</td>\n",
       "    </tr>\n",
       "    <tr>\n",
       "      <th>для ванны</th>\n",
       "      <td>33</td>\n",
       "    </tr>\n",
       "    <tr>\n",
       "      <th>для уборки</th>\n",
       "      <td>15</td>\n",
       "    </tr>\n",
       "  </tbody>\n",
       "</table>\n",
       "</div>"
      ],
      "text/plain": [
       "                  quantity\n",
       "category_product          \n",
       "растения               286\n",
       "рассада                254\n",
       "для ремонта            187\n",
       "для дома               151\n",
       "текстиль                94\n",
       "декор                   66\n",
       "для кухни               41\n",
       "сумки                   37\n",
       "для ванны               33\n",
       "для уборки              15"
      ]
     },
     "execution_count": 83,
     "metadata": {},
     "output_type": "execute_result"
    }
   ],
   "source": [
    "#категории 3-й группы\n",
    "category_three = third.groupby('category_product').agg({'quantity': 'sum'}).sort_values(by='quantity', ascending=False)\n",
    "category_three"
   ]
  },
  {
   "cell_type": "markdown",
   "metadata": {},
   "source": [
    "- наибольшее количество покупок из категории \"растения\"\n",
    "- в двух товары \"для дома\" и \"рассада\"\n",
    "- во 1-й и 3-ей \"декор\" и \"для ремонта\""
   ]
  },
  {
   "cell_type": "markdown",
   "metadata": {},
   "source": [
    "#### Частота заказов"
   ]
  },
  {
   "cell_type": "markdown",
   "metadata": {},
   "source": [
    "Для определения частоты сначала определим минимальную и максимальную даты заказов для каждой категории"
   ]
  },
  {
   "cell_type": "code",
   "execution_count": 84,
   "metadata": {},
   "outputs": [],
   "source": [
    "#минимальная дата 1-й группы\n",
    "min_date_one = first['date'].min()"
   ]
  },
  {
   "cell_type": "code",
   "execution_count": 85,
   "metadata": {},
   "outputs": [],
   "source": [
    "#максимальная дата 1-й группы\n",
    "max_date_one = first['date'].max()"
   ]
  },
  {
   "cell_type": "code",
   "execution_count": 86,
   "metadata": {},
   "outputs": [],
   "source": [
    "#рассчитаем разницу между мин. и макс. датами\n",
    "delta_one = max_date_one - min_date_one"
   ]
  },
  {
   "cell_type": "code",
   "execution_count": 87,
   "metadata": {},
   "outputs": [
    {
     "data": {
      "text/plain": [
       "485"
      ]
     },
     "execution_count": 87,
     "metadata": {},
     "output_type": "execute_result"
    }
   ],
   "source": [
    "#подсчитаем количество дней\n",
    "days_one = delta_one.days\n",
    "days_one"
   ]
  },
  {
   "cell_type": "code",
   "execution_count": 88,
   "metadata": {},
   "outputs": [],
   "source": [
    "#минимальная дата 2-й группы\n",
    "min_date_two = second['date'].min()"
   ]
  },
  {
   "cell_type": "code",
   "execution_count": 89,
   "metadata": {},
   "outputs": [],
   "source": [
    "#максимальная дата 2-й группы\n",
    "max_date_two = second['date'].max()"
   ]
  },
  {
   "cell_type": "code",
   "execution_count": 90,
   "metadata": {},
   "outputs": [],
   "source": [
    "#рассчитаем разницу между мин. и макс. датами\n",
    "delta_two = max_date_two - min_date_two"
   ]
  },
  {
   "cell_type": "code",
   "execution_count": 91,
   "metadata": {},
   "outputs": [
    {
     "data": {
      "text/plain": [
       "487"
      ]
     },
     "execution_count": 91,
     "metadata": {},
     "output_type": "execute_result"
    }
   ],
   "source": [
    "#подсчитаем количество дней\n",
    "days_two = delta_two.days\n",
    "days_two"
   ]
  },
  {
   "cell_type": "code",
   "execution_count": 92,
   "metadata": {},
   "outputs": [
    {
     "data": {
      "text/plain": [
       "Timestamp('2018-10-01 00:00:00')"
      ]
     },
     "execution_count": 92,
     "metadata": {},
     "output_type": "execute_result"
    }
   ],
   "source": [
    "#минимальная дата 3-й группы\n",
    "min_date_three = third['date'].min()\n",
    "min_date_three"
   ]
  },
  {
   "cell_type": "code",
   "execution_count": 93,
   "metadata": {},
   "outputs": [
    {
     "data": {
      "text/plain": [
       "Timestamp('2019-10-31 00:00:00')"
      ]
     },
     "execution_count": 93,
     "metadata": {},
     "output_type": "execute_result"
    }
   ],
   "source": [
    "#максимальная дата 3-й группы\n",
    "max_date_three = third['date'].max()\n",
    "max_date_three"
   ]
  },
  {
   "cell_type": "code",
   "execution_count": 94,
   "metadata": {},
   "outputs": [],
   "source": [
    "#рассчитаем разницу между мин. и макс. датами\n",
    "delta_three = max_date_three - min_date_three"
   ]
  },
  {
   "cell_type": "code",
   "execution_count": 95,
   "metadata": {},
   "outputs": [
    {
     "data": {
      "text/plain": [
       "395"
      ]
     },
     "execution_count": 95,
     "metadata": {},
     "output_type": "execute_result"
    }
   ],
   "source": [
    "#подсчитаем количество дней\n",
    "days_three = delta_three.days\n",
    "days_three"
   ]
  },
  {
   "cell_type": "markdown",
   "metadata": {},
   "source": [
    "количество дней:\n",
    "\n",
    "- для категории second  - 487 дней\n",
    "- для категории first - 485 дней\n",
    "- для категории third - 395 дней\n",
    "- последний заказ пользователей третьей категории (те, кто сделал больше 2-х заказов) был 31 октября. И затем до января 2020 не было ни одного заказа. Это достаточно важный факт, который необходимо учитывать"
   ]
  },
  {
   "cell_type": "markdown",
   "metadata": {},
   "source": [
    "Определим количество заказов"
   ]
  },
  {
   "cell_type": "code",
   "execution_count": 96,
   "metadata": {},
   "outputs": [
    {
     "data": {
      "text/plain": [
       "1535"
      ]
     },
     "execution_count": 96,
     "metadata": {},
     "output_type": "execute_result"
    }
   ],
   "source": [
    "#для 1-й группы\n",
    "one = first['order_id'].nunique()\n",
    "one"
   ]
  },
  {
   "cell_type": "code",
   "execution_count": 97,
   "metadata": {},
   "outputs": [
    {
     "data": {
      "text/plain": [
       "1730"
      ]
     },
     "execution_count": 97,
     "metadata": {},
     "output_type": "execute_result"
    }
   ],
   "source": [
    "#для 2-й группы\n",
    "two = second['order_id'].nunique()\n",
    "two"
   ]
  },
  {
   "cell_type": "code",
   "execution_count": 98,
   "metadata": {},
   "outputs": [
    {
     "data": {
      "text/plain": [
       "265"
      ]
     },
     "execution_count": 98,
     "metadata": {},
     "output_type": "execute_result"
    }
   ],
   "source": [
    "#для 3-й группы\n",
    "three = third['order_id'].nunique()\n",
    "three"
   ]
  },
  {
   "cell_type": "markdown",
   "metadata": {},
   "source": [
    "Рассчитаем частоту"
   ]
  },
  {
   "cell_type": "code",
   "execution_count": 99,
   "metadata": {},
   "outputs": [
    {
     "data": {
      "text/plain": [
       "3.16"
      ]
     },
     "execution_count": 99,
     "metadata": {},
     "output_type": "execute_result"
    }
   ],
   "source": [
    "#частота для 1-й группы\n",
    "frequency_one = round(one / days_one, 2)\n",
    "frequency_one"
   ]
  },
  {
   "cell_type": "code",
   "execution_count": 100,
   "metadata": {},
   "outputs": [
    {
     "data": {
      "text/plain": [
       "3.55"
      ]
     },
     "execution_count": 100,
     "metadata": {},
     "output_type": "execute_result"
    }
   ],
   "source": [
    "#частота для 2-й группы\n",
    "frequency_two = round(two / days_two, 2)\n",
    "frequency_two"
   ]
  },
  {
   "cell_type": "code",
   "execution_count": 101,
   "metadata": {},
   "outputs": [
    {
     "data": {
      "text/plain": [
       "0.67"
      ]
     },
     "execution_count": 101,
     "metadata": {},
     "output_type": "execute_result"
    }
   ],
   "source": [
    "#частота для 3-й группы\n",
    "frequency_three = round(three / days_three, 2)\n",
    "frequency_three"
   ]
  },
  {
   "cell_type": "markdown",
   "metadata": {},
   "source": [
    "Что касается частоты покупок:\n",
    "\n",
    "- категория \"повторный\" лидирует\n",
    "- затем идет категория пользователей с одним заказом\n",
    "- в конце пользователи с покупками больше 2-х заказов"
   ]
  },
  {
   "cell_type": "markdown",
   "metadata": {},
   "source": [
    "#### Средний чек"
   ]
  },
  {
   "cell_type": "code",
   "execution_count": 102,
   "metadata": {},
   "outputs": [
    {
     "data": {
      "text/plain": [
       "1307.49"
      ]
     },
     "execution_count": 102,
     "metadata": {},
     "output_type": "execute_result"
    }
   ],
   "source": [
    "#средний чек для 1-й группы\n",
    "avg_one = round(revenue_one / one,2)\n",
    "avg_one"
   ]
  },
  {
   "cell_type": "code",
   "execution_count": 103,
   "metadata": {},
   "outputs": [
    {
     "data": {
      "text/plain": [
       "908.77"
      ]
     },
     "execution_count": 103,
     "metadata": {},
     "output_type": "execute_result"
    }
   ],
   "source": [
    "#средний чек для 2-й группы\n",
    "avg_two = round(revenue_two / two, 2)\n",
    "avg_two"
   ]
  },
  {
   "cell_type": "code",
   "execution_count": 104,
   "metadata": {},
   "outputs": [
    {
     "data": {
      "text/plain": [
       "1345.02"
      ]
     },
     "execution_count": 104,
     "metadata": {},
     "output_type": "execute_result"
    }
   ],
   "source": [
    "#средний чек для 3-й группы\n",
    "avg_three = round(revenue_three / three, 2)\n",
    "avg_three"
   ]
  },
  {
   "cell_type": "markdown",
   "metadata": {},
   "source": [
    "В среднем клиенты платят за один заказ:\n",
    "\n",
    "- в категории \"единоразовый\" - 1 307\n",
    "- \"повторный\" - 908\n",
    "- \"периодический\" - 1 345"
   ]
  },
  {
   "cell_type": "markdown",
   "metadata": {},
   "source": [
    "Для более подробной сегментации можно добавить такие данные клиентов:\n",
    "- пол\n",
    "- возраст\n",
    "- семейное положение\n",
    "- адрес места жительства (населенный пункт)\n",
    "\n",
    "все эти данные помогут сделать сегментирование пользователей более полным и даст более четкую картину лояльного покупателя"
   ]
  },
  {
   "cell_type": "markdown",
   "metadata": {},
   "source": [
    "### Портрет лояльного покупателя"
   ]
  },
  {
   "cell_type": "markdown",
   "metadata": {},
   "source": [
    "Напомним, что цель нашего менеджера - получение прибыли.\n",
    "Исходя из изученных данных, и так же сегментации покупателей, лояльным покупателем можно назвать пользователя который:\n",
    "\n",
    "- совершает покупки в категориях \"для дома\", \"рассада\", \"растения\" или \"декор\". Эти категории наиболее часто используются для пользователей всех сегментов\n",
    "- совершает 1-2 заказа. Эти пользователи приносят больший доход, по сравнению с покупателями, которые делают заказы периодически\n",
    "- совершает заказы со средним чеком от 1000 ден. ед"
   ]
  },
  {
   "cell_type": "markdown",
   "metadata": {},
   "source": [
    "### Итоги раздела"
   ]
  },
  {
   "cell_type": "markdown",
   "metadata": {},
   "source": [
    "В результате работы с данными в этом разделе:\n",
    "\n",
    "Категории заказов по суммам:\n",
    "- преимущественное количество заказов по сумме не превышает 500 ден. ед. Таких заказов у нас 1 894\n",
    "- категории заказов до 1 000 - 2 000 ден. ед. имеют примерные значения - 684 и 595 заказов\n",
    "- а самая дорогостоящая категория - более 5 000 ден. ед. имеет всего 43 заказа\n",
    "\n",
    "В целом можно сказать, что покупатели гораздо чаще делают небольшие и недорогие заказы\n",
    "\n",
    "Категории пользователей по количеству заказов:\n",
    "- наибольшее количество пользователей(1 535 человек) за указанный промежуток времени в данных совершили только 1 заказ\n",
    "- 2 заказа сделали 865 пользователей\n",
    "- 3 и более заказов сделали всего 29 человек\n",
    "\n",
    "Большинство пользователей делают заказ единожды - этот вопрос необходимо задать разработчикам прилодения. Возможно, неполадки в работе приложения мешают покупателям взаимодействовать с приложением на постоянной основе\n",
    "\n",
    "Категории товаров\n",
    "- все товары были разделены на такие категории - \"растения\", \"декор\", \"для дома\", \"рассада\", \"для кухни\", \"для ремонта\", \"для уборки\",  \"сумки\", \"текстиль\", \"для ванны\".\n",
    "\n",
    "По количеству приобретенных товаров в каждой категории:\n",
    "- лидирует категория \"растения\" - из нее было приобретено 3 660 товаров\n",
    "- на втором месте \"для дома\"- 2 688 товаров\n",
    "- замыкает лидирующую тройку к тегория \"декор\" - 1 851 товар\n",
    "\n",
    "По сумме прибыли в каждой категории:\n",
    "- по доходу со значительным отрывом лидирует категория \"для дома\" - 1 403 183 ден.ед.\n",
    "- на втором месте категория \"сумки\" - 698 811 ден.ед.\n",
    "- лидирующая по количеству приобретенных товаров на третьем месте с суммой прибыли - 525 204 ден.ед.\n",
    "- категории \"декор\" и \"для уборки\" имеют приблизительно одинаковые значения 98 659 и 93 230 ден. ед. соответсвенно\n",
    "\n",
    "По средней цене товаров в категории:\n",
    "- наибольшую среднюю цену имеет категория \"сумки\" - 2 492 ден. ед в среднем за одну позицию товара\n",
    "- с большим отрывом следует категория \"для ремонта\" - 1 381 ден. ед.\n",
    "- и категория \"для дома\" - 1 037 ден. ед.\n",
    "\n",
    "\n",
    "Сегментация пользователей:\n",
    "- По количеству приобретенных товаров:\n",
    "  - категория \"единоразовый\" приобрела 9 625 товаров\n",
    "  - категория \"повторный\" приобрела 2 563 товара\n",
    "  - категория \"периодичный\" приобрела 1 164 товара\n",
    "  \n",
    "- По принесённой прибыли:\n",
    "  - категория \"единоразовый\" принесла прибыль 2 006 990 ден. ед.\n",
    "  - категория \"повторный\" принесла прибыль 1 572 165 ден. ед.\n",
    "  - категория \"периодичный\" принесла прибыль 356 429 ден. ед.\n",
    "  - категория периодичных покупателей по принесённой прибыли заметно отстает\n",
    "  \n",
    "- По категориям товаров:\n",
    "  - наибольшее количество покупок из категории \"декор\"\n",
    "  - во всех трех категориях в топ-3 товаров попали \"растения\"\n",
    "  - в двух товары \"для дома\"\n",
    "  - во 2-й и 3-ей \"рассада\"\n",
    "  \n",
    "- По частоте покупок:\n",
    "  - категория \"повторный\" лидирует\n",
    "  - затем идет категория пользователей с одним заказом\n",
    "  - в конце пользователи с покупками больше 2-х заказов\n",
    "  \n",
    "- По среднему чеку за заказ:\n",
    "  - в категории \"единоразовый\" - 1 307\n",
    "  - \"повторный\" - 908\n",
    "  - \"периодический\" - 1 345\n",
    "\n",
    "Был определен портрет лояльного покупателя. Однако, необходимо проанализировать работу приложения (в т.ч. техническую часть). Более подробные рекомендации для менеджера будут указаны в итогом разделе"
   ]
  },
  {
   "cell_type": "markdown",
   "metadata": {},
   "source": [
    "## Статистический анализ данных"
   ]
  },
  {
   "cell_type": "markdown",
   "metadata": {},
   "source": [
    "### Определение гипотез"
   ]
  },
  {
   "cell_type": "markdown",
   "metadata": {},
   "source": [
    "В этом разделе будет проведён статистический анализ 2 групп гипотез:\n",
    "\n",
    "Первый набор гипотез - равенство среднего чека среди пользователей двух групп (те, кто сделал 1 заказ и те, кто сделал больше двух) :\n",
    "- нулевая гипотеза - статистических различий между средними чеками двух групп нет\n",
    "- альтернативная гипотеза - статистические различия между средними чеками двух групп есть\n",
    "\n",
    "Мы будем рассматривать именно эти две группы, т.к. при сегментации покупателей средние чеки этих групп примерно одинаковые. Однако, группа пользователей, которые совершили более 2-х заказов во всей остальной сегментации не являются приоритетными (остальные показатели на порядок ниже показателей других групп) \n",
    "Проведя статистический анализ, мы сможем более точно понять - будет ли целесообразно давать рекомендации по привлечению внимания этой группы покупателей\n",
    "\n",
    "Второй набор гипотез - равенство среднего количества товаров в заказе между двух групп (те, кто сделал 1 заказ и те, кто сделал больше двух):\n",
    "- нулевая гипотеза - среднее количество товаров у двух групп - равное\n",
    "- альтернативная гипотеза - среднее количество товаров у двух групп - не равное\n",
    "\n",
    "Здесь мы проверим: есть ли статистические различия по количеству товаров у покупателей с одним заказом или те, кто сделал больше двух. В случае, если нулевая гипотеза не будет опровергнута, можно выдвинуть предположение - для получения большей прибыли более важно не количество заказов каждого покупателя - а количество товаров. Таким образом, передав информацию менеджеру - он может разработать маркетинговую схему, при которой пользователи смогут получать, например, скидку или на следуюший заказ, или, например, на 3(4,5) позицию товара в одном заказе"
   ]
  },
  {
   "cell_type": "markdown",
   "metadata": {},
   "source": [
    "### Определение метода статистического анализа "
   ]
  },
  {
   "cell_type": "markdown",
   "metadata": {},
   "source": [
    "Для первого и второго набора гипотез будем использовать тест Стьюдента, т.к у нас гипотеза о равенстве двух независимых друг от друга выборок. Значение p-value возьмем 0.01 - т.к. по количеству значений выборки у нас достаточно различны, для минимизации ошибки и получения более точных результатов"
   ]
  },
  {
   "cell_type": "markdown",
   "metadata": {},
   "source": [
    "### Проведение статистического анализа"
   ]
  },
  {
   "cell_type": "markdown",
   "metadata": {},
   "source": [
    "#### Первый набор гипотез"
   ]
  },
  {
   "cell_type": "code",
   "execution_count": 105,
   "metadata": {},
   "outputs": [],
   "source": [
    "#рассчитаем средний чек для 1-й группы\n",
    "mean_price_one = round(first.groupby('order_id').agg({'full_price': 'mean'}), 2)"
   ]
  },
  {
   "cell_type": "code",
   "execution_count": 106,
   "metadata": {},
   "outputs": [],
   "source": [
    "#рассчитаем средний чек для 3-й группы\n",
    "mean_price_three = round(third.groupby(['customer_id', 'order_id'])['full_price'].sum().groupby('customer_id').mean(),2)"
   ]
  },
  {
   "cell_type": "code",
   "execution_count": 107,
   "metadata": {},
   "outputs": [
    {
     "name": "stdout",
     "output_type": "stream",
     "text": [
      "p-значение: [0.54836653]\n",
      "Не отвергаем нулевую гипотезу\n"
     ]
    }
   ],
   "source": [
    "#проверим гипотезу\n",
    "results = st.ttest_ind(mean_price_one, mean_price_three)\n",
    "alpha = 0.01\n",
    "print('p-значение:', results.pvalue)\n",
    "\n",
    "if results.pvalue < alpha:\n",
    "    print('Отвергаем нулевую гипотезу')\n",
    "else:\n",
    "    print('Не отвергаем нулевую гипотезу')"
   ]
  },
  {
   "cell_type": "markdown",
   "metadata": {},
   "source": [
    "В результате проведения теста мы не можем на данном моменте отвергнуть нулевую гипотезу (статистических различий между средними чеками двух групп нет)\n",
    "\n",
    "На основе полученных данных мы добавим рекомендации по 3-ей группе пользователей для менеджера"
   ]
  },
  {
   "cell_type": "markdown",
   "metadata": {},
   "source": [
    "#### Второй набор гипотез"
   ]
  },
  {
   "cell_type": "code",
   "execution_count": 108,
   "metadata": {},
   "outputs": [],
   "source": [
    "#рассчитаем количество позиций товара у каждого пользователя\n",
    "mean_quantity_one = first.groupby('customer_id')['quantity'].sum()"
   ]
  },
  {
   "cell_type": "code",
   "execution_count": 109,
   "metadata": {},
   "outputs": [],
   "source": [
    "#рассчитаем среднее количество товара для каждого пользователя\n",
    "mean_quantity_three = round(third.groupby(['customer_id', 'order_id'])['quantity'].sum().groupby('customer_id').mean(), 2)"
   ]
  },
  {
   "cell_type": "code",
   "execution_count": 110,
   "metadata": {},
   "outputs": [
    {
     "name": "stdout",
     "output_type": "stream",
     "text": [
      "p-значение: 0.7530680100763631\n",
      "Не отвергаем нулевую гипотезу\n"
     ]
    }
   ],
   "source": [
    "#проверим гипотезу\n",
    "results = st.ttest_ind(mean_quantity_one, mean_quantity_three)\n",
    "alpha = 0.01\n",
    "print('p-значение:', results.pvalue)\n",
    "\n",
    "if results.pvalue < alpha:\n",
    "    print('Отвергаем нулевую гипотезу')\n",
    "else:\n",
    "    print('Не отвергаем нулевую гипотезу')"
   ]
  },
  {
   "cell_type": "markdown",
   "metadata": {},
   "source": [
    "В этом тесте мы так же не можем отвергнуть нулевую гипотезу(среднее количество товаров у двух групп - равное)\n",
    "\n",
    "Интерпретацию результата анализа мы добавим в отдел рекомендаций для менеджера"
   ]
  },
  {
   "cell_type": "markdown",
   "metadata": {},
   "source": [
    "### Итоги раздела"
   ]
  },
  {
   "cell_type": "markdown",
   "metadata": {},
   "source": [
    "В этом разделе мы определили 2 набора гипотез и провели статистический анализ данных\n",
    "\n",
    "Первый набор гипотез - равенство среднего чека среди пользователей двух групп (те, кто сделал 1 заказ и те, кто сделал больше двух) :\n",
    "- нулевая гипотеза - статистических различий между средними чеками двух групп нет\n",
    "- альтернативная гипотеза - статистические различия между средними чеками двух групп есть\n",
    "\n",
    "Второй набор гипотез - равенство среднего количества товаров в заказе между двух групп (те, кто сделал 1 заказ и те, кто сделал больше двух):\n",
    "- нулевая гипотеза - среднее количество товаров у двух групп - равное\n",
    "- альтернативная гипотеза - среднее количество товаров у двух групп - не равное\n",
    "\n",
    "Для первого и второго набора гипотез использовали тест Стьюдента.\n",
    "\n",
    "В результате проведения теста в обоих случаях нет оснований отвергать нулевые гипотезы."
   ]
  },
  {
   "cell_type": "markdown",
   "metadata": {},
   "source": [
    "## Заключение"
   ]
  },
  {
   "cell_type": "markdown",
   "metadata": {},
   "source": [
    "### Общий вывод исследования"
   ]
  },
  {
   "cell_type": "markdown",
   "metadata": {},
   "source": [
    "В данном проекте у нас были данные интернет-магазина товаров для дома «Пока все ещё тут».\n",
    "\n",
    "Цель менеджера магазина - увеличение выручки\n",
    "\n",
    "Была поставлена задача — сегментировать покупателей по профилю потребления на основе предоставленных данных и предоставить рекомендации увеличения прибыли для менеджера\n",
    "\n",
    "В нашем распоряжении был обновленный датасет, который описывал транзакции интернет-магазина товаров для дома и быта «Пока все ещё тут».\n",
    "\n",
    "Колонки в датасетах :\n",
    "\n",
    "date — дата заказа;\n",
    "customer_id — идентификатор покупателя;\n",
    "order_id — идентификатор заказа;\n",
    "product — наименование товара;\n",
    "quantity — количество товара в заказе;\n",
    "price — цена товара\n",
    "\n",
    "В результате загрузки и предварительного анализа данных:\n",
    "\n",
    "- мы имеем датасет в 6 столбцов и количеством строк в каждом - 7 474\n",
    "- в столбце quantity(количество товара в заказе) минимальное количество товаров - 1, максимальное - 1000. Менеджер говорил о том, что в данных самый большой заказ - тестовый и его не нужно учитывать. Поэтому позже мы исключим этот заказ из наших данных. Среднее значение количество товара в заказе - 1.\n",
    "- в столбце price (цена товара) минимальная цена товара - 9 ден. ед., в то время как максимальная - 14 917 ден. ед. Среднее значение цены равно 135 ден. ед.\n",
    "- формат типа данных в колонке date необходимо изменить с int64 на datetime\n",
    "\n",
    "\n",
    "В результате предобработки данных было выполнено:\n",
    "\n",
    "- столбец \"date\" приведён в верный формат данных - datetime64\n",
    "- добавлены и приведены в нужный формат новые столбцы: \"год\", \"месяц\", \"день\", \"итоговая цена\"\n",
    "- данные в столбце \"product\" приведены в нижний регистр\n",
    "- удалён тестовый заказ менеджера\n",
    "- удалены дубликаты\n",
    "- проведен поиск пропущенных значений\n",
    "- в результате предобработки, датасет сохранён на 74,3% и увеличено количество столбцов с 6 до 10\n",
    "\n",
    "В результате проведения исследовательского анализа данных было определено:\n",
    "\n",
    "- нам представлены данные по заказам из приложения с 1 октября 2018 по 31 января 2020 года\n",
    "- за указанный промежуток времени в приложении делали заказ 2 429 человек\n",
    "- было совершено 3 530 заказов\n",
    "- в среднем, на одного покупателя приходится 1,5 заказа\n",
    "\n",
    "Количество заказов:\n",
    "\n",
    "- первые 7 месяцев работы приложения количество заказов было нестабильно - оно постоянно росло и снижалось\n",
    "- с февраля по апрель 2019 года количество заказов было на порядок выше, чем с мая по ноябрь этого же года\n",
    "- с августа 2019 года количество заказов стабильно растёт\n",
    "\n",
    "Изменение выручки по месяцам:\n",
    "\n",
    "- с октября по декабрь 2018 года доход был довольно высокий - более 340 000 ден.ед.\n",
    "- начиная с января 2019 года выручка имеет пиковые значения, но постоянно снижается. Сумма выручки не превышает 318 000 ден. ед.\n",
    "- в отличии от периода октябрь-декабрь 2018 года - аналогичный период 2019 года характеризуется значительным снижением прибыли\n",
    "\n",
    "Ежемесячное изменение суммы среднего чека заказа:\n",
    "\n",
    "- изменение среднего чека имеет достаточно хаотичный порядок\n",
    "- наивысшее значение ср. чека было в ноябре 2018 - 1 762 ден. ед.\n",
    "- в 2019 году было 2 основных пика значений - январь (1 408) и июнь(1 418)\n",
    "- наименьшее значение быо в ноябре 2019 года - 594 ден. ед.\n",
    "\n",
    "Ежемесячное изменение количествa покупателей каждый месяц:\n",
    "\n",
    "- количество пользователей начиная с августа 2019 года растет. Это вполне хороший показатель\n",
    "- первые полгода количество покупателей имело скачкообразный характер - больше пользователей пользоваись приложением в декабре, феврале, марте и апреле\n",
    "\n",
    "В результате работы с данными в разделе сегментации:\n",
    "\n",
    "Категории заказов по суммам:\n",
    "\n",
    "- преимущественное количество заказов по сумме не превышает 500 ден. ед. Таких заказов у нас 1 894\n",
    "- категории заказов до 1 000 - 2 000 ден. ед. имеют примерные значения - 684 и 595 заказов\n",
    "- а самая дорогостоящая категория - более 5 000 ден. ед. имеет всего 43 заказа\n",
    "- В целом можно сказать, что покупатели гораздо чаще делают небольшие и недорогие заказы\n",
    "\n",
    "Категории пользователей по количеству заказов:\n",
    "\n",
    "- наибольшее количество пользователей(1 535 человек) за указанный промежуток времени в данных совершили только 1 заказ\n",
    "- 2 заказа сделали 865 пользователей\n",
    "- 3 и более заказов сделали всего 29 человек\n",
    "- Большинство пользователей делают заказ единожды - этот вопрос необходимо задать разработчикам прилодения. Возможно, неполадки в работе приложения мешают покупателям взаимодействовать с приложением на постоянной основе\n",
    "\n",
    "Категории товаров\n",
    "\n",
    "- все товары были разделены на такие категории - \"растения\", \"декор\", \"для дома\", \"рассада\", \"для кухни\", \"для ремонта\", \"для уборки\", \"сумки\", \"текстиль\", \"для ванны\".\n",
    "\n",
    "По количеству приобретенных товаров в каждой категории:\n",
    "\n",
    "- лидирует категория \"растения\" - из нее было приобретено 2 419 товаров\n",
    "- на втором месте \"декор\" - 2 376 товаров\n",
    "- замыкает лидирующую тройку категория \"для дома\" - 2 325 товара\n",
    "\n",
    "По сумме прибыли в каждой категории:\n",
    "\n",
    "- со значительным отрывом лидирует категория \"для дома\" - 1 266 294 ден. ед.\n",
    "- на втором месте категория \"сумки\" - 824 270 ден. ед.\n",
    "- лидирующая по количеству приобретенных товаров на третьем месте с суммой прибыли - 397 954 ден. ед.\n",
    "- категория \"декор\", лидирующая по количеству проданных едениц товара находится на последнем месте по прибыли - 135 554 ден. ед.\n",
    "\n",
    "По средней цене товаров в категории:\n",
    "\n",
    "- наибольшую среднюю цену имеет категория \"сумки\" - 2 076 ден. ед в среднем за одну позицию товара\n",
    "- с большим отрывом следует категория \"для ремонта\" - 1 152 ден. ед.\n",
    "- категория \"для дома\" - 1 097 ден. ед.\n",
    "- Был определен портрет лояльного покупателя. Однако, необходимо проанализировать работу приложения (в т.ч. техническую часть). \n",
    "\n",
    "Цель нашего менеджера - получение прибыли. Исходя из изученных данных, лояльным покупателем можно назвать пользователя который:\n",
    "\n",
    "- совершает покупки в категориях \"для дома\", \"рассада\", \"растения\" или \"декор\". Эти категории наиболее часто используютчя для пользователей всех сегментов\n",
    "- совершает 1-2 заказа. Эти пользователи приносят больший доход, по сравнению с покупателями, которые делают заказы периодически\n",
    "- совершает заказы со средним чеком от 1000 ден. ед\n",
    "\n",
    "В  разделе статистического анализа мы определили 2 набора гипотез и провели статистический анализ данных\n",
    "\n",
    "Первый набор гипотез - равенство среднего чека среди пользователей двух групп (те, кто сделал 1 заказ и те, кто сделал больше двух) :\n",
    "- нулевая гипотеза - статистических различий между средними чеками двух групп нет\n",
    "- альтернативная гипотеза - статистические различия между средними чеками двух групп есть\n",
    "\n",
    "Второй набор гипотез - равенство среднего количества товаров в заказе между двух групп (те, кто сделал 1 заказ и те, кто сделал больше двух):\n",
    "- нулевая гипотеза - среднее количество товаров у двух групп - равное\n",
    "- альтернативная гипотеза - среднее количество товаров у двух групп - не равное\n",
    "\n",
    "Для первого и второго набора гипотез использовали тест Стьюдента.\n",
    "\n",
    "В результате проведения теста в обоих случаях нет оснований отвергать нулевые гипотезы."
   ]
  },
  {
   "cell_type": "markdown",
   "metadata": {},
   "source": [
    "### Рекомендации для менеджера"
   ]
  },
  {
   "cell_type": "markdown",
   "metadata": {},
   "source": [
    "В данном разделе отдел аналитики укажет основные рекомендации по работе с уже имеющимися данными и последующими, а так же укажем результаты сегментации покупателей:\n",
    "\n",
    "Были разработаны  3 категории:\n",
    "\n",
    "- единоразовый - пользователь сделал 1 заказ за всё время\n",
    "- повторный - покупатель совершил 2 заказа\n",
    "- периодичный - пользователь сделал 3 или более заказов\n",
    "\n",
    "\n",
    "Сегментация пользователей:\n",
    "- По количеству пользователей:\n",
    "  - единоразовый - 1535 человека\n",
    "  - повторный - 865\n",
    "  - периодичный - 29\n",
    "\n",
    "- По количеству приобретенных товаров:\n",
    "  - категория \"единоразовый\" приобрела 9 625 товаров\n",
    "  - категория \"повторный\" приобрела 2 563 товара\n",
    "  - категория \"периодичный\" приобрела 1 164 товара\n",
    "  \n",
    "- По принесённой прибыли:\n",
    "  - категория \"единоразовый\" принесла прибыль 2 006 990 ден. ед.\n",
    "  - категория \"повторный\" принесла прибыль 1 572 165 ден. ед.\n",
    "  - категория \"периодичный\" принесла прибыль 356 429 ден. ед.\n",
    "  - категория периодичных покупателей по принесённой прибыли заметно отстает\n",
    "  \n",
    "- По категориям товаров:\n",
    "  - наибольшее количество покупок из категории \"декор\"\n",
    "  - во всех трех категориях в топ-3 товаров попали \"растения\"\n",
    "  - в двух товары \"для дома\"\n",
    "  - во 2-й и 3-ей \"рассада\"\n",
    "  \n",
    "- По частоте покупок:\n",
    "  - категория \"повторный\" лидирует\n",
    "  - затем идет категория пользователей с одним заказом\n",
    "  - в конце пользователи с покупками больше 2-х заказов\n",
    "  \n",
    "- По среднему чеку за заказ:\n",
    "  - в категории \"единоразовый\" - 1 307\n",
    "  - \"повторный\" - 908\n",
    "  - \"периодический\" - 1 345\n",
    "  \n",
    "  \n",
    "Рекомендуется:\n",
    "\n",
    "- провести проверку технического обслуживания приложения: возможно, работа приложения нестабильна. На это указывает несколько факторов:\n",
    "  - назначение заказам разных покупателей одного id-заказа\n",
    "  - большое количество дублирующихся заказов в необработанном датасете\n",
    "  - большинство покупателей делали заказ в приложении только один раз\n",
    "- проанализировать интерфейс приложения - возможно, одноразовые покупки связаны с неудобством использования приложения (проведение А/В-теста)\n",
    "- добавить информацию пользователя при регистрации, добавить такие данные:\n",
    "  - дата рождения\n",
    "  - возраст\n",
    "  - добавление этих данных позволит создать большую сегментацию пользователей\n",
    "- разработать систему лояльности для пользователей: \n",
    "  - добавить систему скидок для категории \"единоразовый\" при покупке, при которой количество позиций товара будет больше определённого числа, установленного менеджером (например, при покупке больше 4-х позиций на последующие позиции будет предоставлена скидка, но при условии оформления одного заказа)\n",
    "  - при переходе пользователя из категории \"единоразовый\" в другие - будет происходит и смена системы лояльности\n",
    "  - для категорий \"повторный\" и \"периодичный\" добавить систему поощрения: скидки на последующий заказ или предоставление бонусов(которые покупатель смотеж использовать как скидку на следующий заказ), но с ограничением по времени использования(этот момент позволит взять под контроль эти категории, особенно \"периодичный\"(последний заказ покупателя из этой категории был в октябре 2019) если пользователи долго не будут формировать последующий заказ - бонусы будут сгорать)\n",
    "- проанализировать разработанные категории, при необходимости - провести изменения\n",
    "- провести анализ ассортимента на основе получения прибыли: расширить ассортимент в более доходных категориях, таких как \"для дома\", \"рассада\", \"растения\" и \"декор\". Эти категории наиболее часто используютчя для пользователей всех сегментов."
   ]
  }
 ],
 "metadata": {
  "ExecuteTimeLog": [
   {
    "duration": 131,
    "start_time": "2023-08-15T08:46:50.210Z"
   },
   {
    "duration": 951,
    "start_time": "2023-08-15T08:47:58.983Z"
   },
   {
    "duration": 3,
    "start_time": "2023-08-15T08:48:02.959Z"
   },
   {
    "duration": 1109,
    "start_time": "2023-08-15T08:48:56.438Z"
   },
   {
    "duration": 1006,
    "start_time": "2023-08-15T08:49:17.939Z"
   },
   {
    "duration": 16,
    "start_time": "2023-08-15T08:53:24.061Z"
   },
   {
    "duration": 23,
    "start_time": "2023-08-15T08:54:15.899Z"
   },
   {
    "duration": 3,
    "start_time": "2023-08-15T08:54:17.947Z"
   },
   {
    "duration": 1050,
    "start_time": "2023-08-15T08:54:18.633Z"
   },
   {
    "duration": 13,
    "start_time": "2023-08-15T08:54:21.655Z"
   },
   {
    "duration": 23,
    "start_time": "2023-08-15T08:54:23.533Z"
   },
   {
    "duration": 5,
    "start_time": "2023-08-15T08:54:35.199Z"
   },
   {
    "duration": 21,
    "start_time": "2023-08-15T08:57:37.183Z"
   },
   {
    "duration": 926,
    "start_time": "2023-08-15T08:58:04.686Z"
   },
   {
    "duration": 893,
    "start_time": "2023-08-15T09:03:02.131Z"
   },
   {
    "duration": 1256,
    "start_time": "2023-08-15T09:03:11.858Z"
   },
   {
    "duration": 947,
    "start_time": "2023-08-15T09:03:21.652Z"
   },
   {
    "duration": 5,
    "start_time": "2023-08-15T09:09:21.969Z"
   },
   {
    "duration": 102,
    "start_time": "2023-08-15T09:14:50.706Z"
   },
   {
    "duration": 86,
    "start_time": "2023-08-15T09:17:01.859Z"
   },
   {
    "duration": 12,
    "start_time": "2023-08-15T09:17:13.747Z"
   },
   {
    "duration": 229,
    "start_time": "2023-08-15T09:17:26.843Z"
   },
   {
    "duration": 17,
    "start_time": "2023-08-15T09:17:46.234Z"
   },
   {
    "duration": 8,
    "start_time": "2023-08-15T09:22:00.939Z"
   },
   {
    "duration": 6,
    "start_time": "2023-08-15T09:22:05.845Z"
   },
   {
    "duration": 17,
    "start_time": "2023-08-15T09:23:44.265Z"
   },
   {
    "duration": 10,
    "start_time": "2023-08-15T09:24:27.753Z"
   },
   {
    "duration": 8,
    "start_time": "2023-08-15T09:24:29.593Z"
   },
   {
    "duration": 8,
    "start_time": "2023-08-15T09:25:38.657Z"
   },
   {
    "duration": 16,
    "start_time": "2023-08-15T09:25:39.636Z"
   },
   {
    "duration": 12,
    "start_time": "2023-08-15T09:29:49.981Z"
   },
   {
    "duration": 9,
    "start_time": "2023-08-15T09:30:02.575Z"
   },
   {
    "duration": 6,
    "start_time": "2023-08-15T09:30:15.080Z"
   },
   {
    "duration": 6,
    "start_time": "2023-08-15T09:30:25.656Z"
   },
   {
    "duration": 32,
    "start_time": "2023-08-15T09:30:41.609Z"
   },
   {
    "duration": 13,
    "start_time": "2023-08-15T09:30:47.164Z"
   },
   {
    "duration": 19,
    "start_time": "2023-08-15T09:31:51.738Z"
   },
   {
    "duration": 8,
    "start_time": "2023-08-15T09:32:32.778Z"
   },
   {
    "duration": 20,
    "start_time": "2023-08-15T09:32:34.212Z"
   },
   {
    "duration": 12,
    "start_time": "2023-08-15T09:33:07.984Z"
   },
   {
    "duration": 22,
    "start_time": "2023-08-15T09:33:09.536Z"
   },
   {
    "duration": 8,
    "start_time": "2023-08-15T09:35:18.888Z"
   },
   {
    "duration": 14,
    "start_time": "2023-08-15T09:35:20.457Z"
   },
   {
    "duration": 12,
    "start_time": "2023-08-15T09:35:49.480Z"
   },
   {
    "duration": 11,
    "start_time": "2023-08-15T09:35:57.167Z"
   },
   {
    "duration": 8,
    "start_time": "2023-08-15T09:36:02.913Z"
   },
   {
    "duration": 779,
    "start_time": "2023-08-15T09:36:14.059Z"
   },
   {
    "duration": 964,
    "start_time": "2023-08-15T09:36:15.365Z"
   },
   {
    "duration": 14,
    "start_time": "2023-08-15T09:36:17.546Z"
   },
   {
    "duration": 23,
    "start_time": "2023-08-15T09:36:18.747Z"
   },
   {
    "duration": 5,
    "start_time": "2023-08-15T09:36:20.164Z"
   },
   {
    "duration": 11,
    "start_time": "2023-08-15T09:36:24.153Z"
   },
   {
    "duration": 78,
    "start_time": "2023-08-15T09:36:24.958Z"
   },
   {
    "duration": 6,
    "start_time": "2023-08-15T09:36:25.840Z"
   },
   {
    "duration": 6,
    "start_time": "2023-08-15T09:36:26.303Z"
   },
   {
    "duration": 13,
    "start_time": "2023-08-15T09:36:26.990Z"
   },
   {
    "duration": 12,
    "start_time": "2023-08-15T09:36:40.398Z"
   },
   {
    "duration": 6,
    "start_time": "2023-08-15T09:36:55.038Z"
   },
   {
    "duration": 6,
    "start_time": "2023-08-15T09:36:55.704Z"
   },
   {
    "duration": 6,
    "start_time": "2023-08-15T09:36:56.357Z"
   },
   {
    "duration": 30,
    "start_time": "2023-08-15T09:36:57.116Z"
   },
   {
    "duration": 4,
    "start_time": "2023-08-15T09:36:58.563Z"
   },
   {
    "duration": 8,
    "start_time": "2023-08-15T09:37:06.721Z"
   },
   {
    "duration": 14,
    "start_time": "2023-08-15T09:37:08.159Z"
   },
   {
    "duration": 23,
    "start_time": "2023-08-15T09:37:14.993Z"
   },
   {
    "duration": 43,
    "start_time": "2023-08-15T09:40:13.957Z"
   },
   {
    "duration": 5,
    "start_time": "2023-08-15T09:41:31.834Z"
   },
   {
    "duration": 16,
    "start_time": "2023-08-15T09:42:35.140Z"
   },
   {
    "duration": 11,
    "start_time": "2023-08-15T09:45:45.294Z"
   },
   {
    "duration": 17,
    "start_time": "2023-08-15T09:46:09.451Z"
   },
   {
    "duration": 111,
    "start_time": "2023-08-15T09:48:29.420Z"
   },
   {
    "duration": 8,
    "start_time": "2023-08-15T09:48:33.217Z"
   },
   {
    "duration": 8,
    "start_time": "2023-08-15T09:49:25.456Z"
   },
   {
    "duration": 12,
    "start_time": "2023-08-15T09:49:31.202Z"
   },
   {
    "duration": 19,
    "start_time": "2023-08-15T09:49:34.900Z"
   },
   {
    "duration": 6,
    "start_time": "2023-08-15T09:51:15.996Z"
   },
   {
    "duration": 26,
    "start_time": "2023-08-15T09:51:17.244Z"
   },
   {
    "duration": 10,
    "start_time": "2023-08-15T09:51:59.341Z"
   },
   {
    "duration": 26,
    "start_time": "2023-08-15T09:52:00.514Z"
   },
   {
    "duration": 12,
    "start_time": "2023-08-15T09:55:49.968Z"
   },
   {
    "duration": 10,
    "start_time": "2023-08-15T09:56:07.729Z"
   },
   {
    "duration": 8,
    "start_time": "2023-08-15T09:56:18.303Z"
   },
   {
    "duration": 9,
    "start_time": "2023-08-15T09:56:33.842Z"
   },
   {
    "duration": 11,
    "start_time": "2023-08-15T09:56:58.827Z"
   },
   {
    "duration": 10,
    "start_time": "2023-08-15T09:57:00.080Z"
   },
   {
    "duration": 12,
    "start_time": "2023-08-15T09:57:17.186Z"
   },
   {
    "duration": 5,
    "start_time": "2023-08-15T10:00:11.029Z"
   },
   {
    "duration": 2185,
    "start_time": "2023-08-15T10:00:21.689Z"
   },
   {
    "duration": 5,
    "start_time": "2023-08-15T10:00:45.033Z"
   },
   {
    "duration": 16,
    "start_time": "2023-08-15T10:01:52.835Z"
   },
   {
    "duration": 5,
    "start_time": "2023-08-15T10:03:08.204Z"
   },
   {
    "duration": 29,
    "start_time": "2023-08-15T10:17:15.679Z"
   },
   {
    "duration": 20,
    "start_time": "2023-08-15T10:17:45.647Z"
   },
   {
    "duration": 22,
    "start_time": "2023-08-15T10:18:00.344Z"
   },
   {
    "duration": 14,
    "start_time": "2023-08-15T10:18:09.766Z"
   },
   {
    "duration": 5,
    "start_time": "2023-08-15T10:18:17.808Z"
   },
   {
    "duration": 4,
    "start_time": "2023-08-15T10:18:18.294Z"
   },
   {
    "duration": 20,
    "start_time": "2023-08-15T10:18:19.075Z"
   },
   {
    "duration": 12,
    "start_time": "2023-08-15T10:18:22.534Z"
   },
   {
    "duration": 8,
    "start_time": "2023-08-15T10:18:23.797Z"
   },
   {
    "duration": 11,
    "start_time": "2023-08-15T10:18:27.246Z"
   },
   {
    "duration": 10,
    "start_time": "2023-08-15T10:18:27.874Z"
   },
   {
    "duration": 9,
    "start_time": "2023-08-15T10:18:30.075Z"
   },
   {
    "duration": 9,
    "start_time": "2023-08-15T10:18:30.914Z"
   },
   {
    "duration": 13,
    "start_time": "2023-08-15T10:18:37.320Z"
   },
   {
    "duration": 13,
    "start_time": "2023-08-15T10:18:44.490Z"
   },
   {
    "duration": 4,
    "start_time": "2023-08-15T10:18:45.174Z"
   },
   {
    "duration": 26,
    "start_time": "2023-08-15T10:18:47.004Z"
   },
   {
    "duration": 18,
    "start_time": "2023-08-15T10:18:48.345Z"
   },
   {
    "duration": 5,
    "start_time": "2023-08-15T10:19:26.609Z"
   },
   {
    "duration": 27,
    "start_time": "2023-08-15T10:20:41.950Z"
   },
   {
    "duration": 5,
    "start_time": "2023-08-15T10:21:02.019Z"
   },
   {
    "duration": 723,
    "start_time": "2023-08-15T10:33:11.415Z"
   },
   {
    "duration": 1406,
    "start_time": "2023-08-15T10:33:12.141Z"
   },
   {
    "duration": 14,
    "start_time": "2023-08-15T10:33:15.520Z"
   },
   {
    "duration": 34,
    "start_time": "2023-08-15T10:33:15.988Z"
   },
   {
    "duration": 5,
    "start_time": "2023-08-15T10:33:16.673Z"
   },
   {
    "duration": 12,
    "start_time": "2023-08-15T10:33:19.474Z"
   },
   {
    "duration": 8,
    "start_time": "2023-08-15T10:33:19.757Z"
   },
   {
    "duration": 7,
    "start_time": "2023-08-15T10:33:20.150Z"
   },
   {
    "duration": 6,
    "start_time": "2023-08-15T10:33:20.613Z"
   },
   {
    "duration": 66,
    "start_time": "2023-08-15T10:33:20.621Z"
   },
   {
    "duration": 12,
    "start_time": "2023-08-15T10:33:21.051Z"
   },
   {
    "duration": 5,
    "start_time": "2023-08-15T10:33:21.254Z"
   },
   {
    "duration": 24,
    "start_time": "2023-08-15T10:33:21.745Z"
   },
   {
    "duration": 13,
    "start_time": "2023-08-15T10:33:24.098Z"
   },
   {
    "duration": 8,
    "start_time": "2023-08-15T10:33:25.681Z"
   },
   {
    "duration": 11,
    "start_time": "2023-08-15T10:33:27.381Z"
   },
   {
    "duration": 23,
    "start_time": "2023-08-15T10:33:27.755Z"
   },
   {
    "duration": 9,
    "start_time": "2023-08-15T10:33:29.614Z"
   },
   {
    "duration": 10,
    "start_time": "2023-08-15T10:33:30.051Z"
   },
   {
    "duration": 15,
    "start_time": "2023-08-15T10:33:32.293Z"
   },
   {
    "duration": 6,
    "start_time": "2023-08-15T10:33:35.144Z"
   },
   {
    "duration": 21,
    "start_time": "2023-08-15T10:33:38.548Z"
   },
   {
    "duration": 14,
    "start_time": "2023-08-15T10:33:40.169Z"
   },
   {
    "duration": 4,
    "start_time": "2023-08-15T10:33:41.976Z"
   },
   {
    "duration": 5,
    "start_time": "2023-08-15T10:40:02.606Z"
   },
   {
    "duration": 5,
    "start_time": "2023-08-15T10:40:18.067Z"
   },
   {
    "duration": 6,
    "start_time": "2023-08-15T10:44:05.156Z"
   },
   {
    "duration": 7,
    "start_time": "2023-08-15T10:44:14.848Z"
   },
   {
    "duration": 7,
    "start_time": "2023-08-15T10:44:19.334Z"
   },
   {
    "duration": 5,
    "start_time": "2023-08-15T10:44:42.188Z"
   },
   {
    "duration": 5,
    "start_time": "2023-08-15T10:45:04.333Z"
   },
   {
    "duration": 5,
    "start_time": "2023-08-15T10:45:58.558Z"
   },
   {
    "duration": 5,
    "start_time": "2023-08-15T10:46:29.983Z"
   },
   {
    "duration": 7,
    "start_time": "2023-08-15T10:47:01.450Z"
   },
   {
    "duration": 4,
    "start_time": "2023-08-15T10:47:44.428Z"
   },
   {
    "duration": 75,
    "start_time": "2023-08-15T10:53:18.170Z"
   },
   {
    "duration": 59,
    "start_time": "2023-08-15T10:53:23.087Z"
   },
   {
    "duration": 115,
    "start_time": "2023-08-15T10:54:04.690Z"
   },
   {
    "duration": 217,
    "start_time": "2023-08-15T10:55:40.561Z"
   },
   {
    "duration": 111,
    "start_time": "2023-08-15T10:55:57.555Z"
   },
   {
    "duration": 8,
    "start_time": "2023-08-15T10:56:07.257Z"
   },
   {
    "duration": 15,
    "start_time": "2023-08-15T10:56:12.790Z"
   },
   {
    "duration": 11,
    "start_time": "2023-08-15T10:56:38.554Z"
   },
   {
    "duration": 14,
    "start_time": "2023-08-15T11:00:02.923Z"
   },
   {
    "duration": 8,
    "start_time": "2023-08-15T11:01:49.510Z"
   },
   {
    "duration": 6,
    "start_time": "2023-08-15T11:01:52.931Z"
   },
   {
    "duration": 14,
    "start_time": "2023-08-15T11:06:37.954Z"
   },
   {
    "duration": 19,
    "start_time": "2023-08-15T11:08:17.139Z"
   },
   {
    "duration": 11,
    "start_time": "2023-08-15T11:08:25.285Z"
   },
   {
    "duration": 8,
    "start_time": "2023-08-15T11:08:54.650Z"
   },
   {
    "duration": 10,
    "start_time": "2023-08-15T11:09:37.093Z"
   },
   {
    "duration": 8,
    "start_time": "2023-08-15T11:09:45.156Z"
   },
   {
    "duration": 732,
    "start_time": "2023-08-15T11:11:39.905Z"
   },
   {
    "duration": 1349,
    "start_time": "2023-08-15T11:11:40.814Z"
   },
   {
    "duration": 13,
    "start_time": "2023-08-15T11:11:42.166Z"
   },
   {
    "duration": 21,
    "start_time": "2023-08-15T11:11:42.181Z"
   },
   {
    "duration": 5,
    "start_time": "2023-08-15T11:11:44.032Z"
   },
   {
    "duration": 12,
    "start_time": "2023-08-15T11:11:46.348Z"
   },
   {
    "duration": 7,
    "start_time": "2023-08-15T11:11:46.662Z"
   },
   {
    "duration": 6,
    "start_time": "2023-08-15T11:11:47.003Z"
   },
   {
    "duration": 6,
    "start_time": "2023-08-15T11:11:47.468Z"
   },
   {
    "duration": 35,
    "start_time": "2023-08-15T11:11:47.907Z"
   },
   {
    "duration": 8,
    "start_time": "2023-08-15T11:11:47.944Z"
   },
   {
    "duration": 4,
    "start_time": "2023-08-15T11:11:48.179Z"
   },
   {
    "duration": 22,
    "start_time": "2023-08-15T11:11:48.586Z"
   },
   {
    "duration": 9,
    "start_time": "2023-08-15T11:11:49.958Z"
   },
   {
    "duration": 7,
    "start_time": "2023-08-15T11:11:51.366Z"
   },
   {
    "duration": 11,
    "start_time": "2023-08-15T11:11:52.890Z"
   },
   {
    "duration": 19,
    "start_time": "2023-08-15T11:11:53.300Z"
   },
   {
    "duration": 9,
    "start_time": "2023-08-15T11:11:56.083Z"
   },
   {
    "duration": 11,
    "start_time": "2023-08-15T11:11:56.519Z"
   },
   {
    "duration": 14,
    "start_time": "2023-08-15T11:11:58.578Z"
   },
   {
    "duration": 7,
    "start_time": "2023-08-15T11:12:00.074Z"
   },
   {
    "duration": 22,
    "start_time": "2023-08-15T11:12:02.962Z"
   },
   {
    "duration": 12,
    "start_time": "2023-08-15T11:12:04.930Z"
   },
   {
    "duration": 4,
    "start_time": "2023-08-15T11:12:07.994Z"
   },
   {
    "duration": 5,
    "start_time": "2023-08-15T11:12:11.554Z"
   },
   {
    "duration": 5,
    "start_time": "2023-08-15T11:12:12.008Z"
   },
   {
    "duration": 5,
    "start_time": "2023-08-15T11:12:13.736Z"
   },
   {
    "duration": 6,
    "start_time": "2023-08-15T11:12:14.817Z"
   },
   {
    "duration": 4,
    "start_time": "2023-08-15T11:12:16.162Z"
   },
   {
    "duration": 9,
    "start_time": "2023-08-15T11:12:17.519Z"
   },
   {
    "duration": 10,
    "start_time": "2023-08-15T11:16:29.610Z"
   },
   {
    "duration": 25,
    "start_time": "2023-08-15T11:17:13.897Z"
   },
   {
    "duration": 6,
    "start_time": "2023-08-15T11:18:00.474Z"
   },
   {
    "duration": 5,
    "start_time": "2023-08-15T11:20:27.449Z"
   },
   {
    "duration": 72,
    "start_time": "2023-08-15T11:20:53.579Z"
   },
   {
    "duration": 9,
    "start_time": "2023-08-15T11:21:10.070Z"
   },
   {
    "duration": 5,
    "start_time": "2023-08-15T11:21:27.905Z"
   },
   {
    "duration": 5,
    "start_time": "2023-08-15T11:21:48.545Z"
   },
   {
    "duration": 13,
    "start_time": "2023-08-15T11:25:36.413Z"
   },
   {
    "duration": 31,
    "start_time": "2023-08-15T11:25:57.165Z"
   },
   {
    "duration": 14,
    "start_time": "2023-08-15T11:26:02.110Z"
   },
   {
    "duration": 16,
    "start_time": "2023-08-15T11:29:49.578Z"
   },
   {
    "duration": 707,
    "start_time": "2023-08-15T11:35:35.617Z"
   },
   {
    "duration": 1257,
    "start_time": "2023-08-15T11:35:36.326Z"
   },
   {
    "duration": 12,
    "start_time": "2023-08-15T11:35:37.585Z"
   },
   {
    "duration": 22,
    "start_time": "2023-08-15T11:35:39.521Z"
   },
   {
    "duration": 23,
    "start_time": "2023-08-15T11:36:55.845Z"
   },
   {
    "duration": 7,
    "start_time": "2023-08-15T11:37:09.398Z"
   },
   {
    "duration": 5,
    "start_time": "2023-08-15T11:37:24.648Z"
   },
   {
    "duration": 5,
    "start_time": "2023-08-15T11:37:29.656Z"
   },
   {
    "duration": 26,
    "start_time": "2023-08-15T11:37:31.061Z"
   },
   {
    "duration": 10,
    "start_time": "2023-08-15T11:37:51.742Z"
   },
   {
    "duration": 8,
    "start_time": "2023-08-15T11:37:53.359Z"
   },
   {
    "duration": 15,
    "start_time": "2023-08-15T11:37:55.465Z"
   },
   {
    "duration": 22,
    "start_time": "2023-08-15T11:37:56.989Z"
   },
   {
    "duration": 13,
    "start_time": "2023-08-15T11:39:17.104Z"
   },
   {
    "duration": 702,
    "start_time": "2023-08-15T11:41:08.703Z"
   },
   {
    "duration": 1003,
    "start_time": "2023-08-15T11:41:09.407Z"
   },
   {
    "duration": 13,
    "start_time": "2023-08-15T11:41:10.523Z"
   },
   {
    "duration": 30,
    "start_time": "2023-08-15T11:41:12.322Z"
   },
   {
    "duration": 4,
    "start_time": "2023-08-15T11:41:14.175Z"
   },
   {
    "duration": 11,
    "start_time": "2023-08-15T11:42:18.970Z"
   },
   {
    "duration": 8,
    "start_time": "2023-08-15T11:42:20.955Z"
   },
   {
    "duration": 717,
    "start_time": "2023-08-15T11:42:50.500Z"
   },
   {
    "duration": 1341,
    "start_time": "2023-08-15T11:42:51.219Z"
   },
   {
    "duration": 13,
    "start_time": "2023-08-15T11:42:52.561Z"
   },
   {
    "duration": 21,
    "start_time": "2023-08-15T11:42:53.483Z"
   },
   {
    "duration": 5,
    "start_time": "2023-08-15T11:42:54.789Z"
   },
   {
    "duration": 12,
    "start_time": "2023-08-15T11:42:56.456Z"
   },
   {
    "duration": 9,
    "start_time": "2023-08-15T11:42:56.850Z"
   },
   {
    "duration": 8,
    "start_time": "2023-08-15T11:42:57.254Z"
   },
   {
    "duration": 6,
    "start_time": "2023-08-15T11:42:57.739Z"
   },
   {
    "duration": 29,
    "start_time": "2023-08-15T11:42:57.994Z"
   },
   {
    "duration": 9,
    "start_time": "2023-08-15T11:42:58.493Z"
   },
   {
    "duration": 4,
    "start_time": "2023-08-15T11:42:58.757Z"
   },
   {
    "duration": 24,
    "start_time": "2023-08-15T11:42:59.416Z"
   },
   {
    "duration": 10,
    "start_time": "2023-08-15T11:43:02.795Z"
   },
   {
    "duration": 9,
    "start_time": "2023-08-15T11:43:04.280Z"
   },
   {
    "duration": 12,
    "start_time": "2023-08-15T11:43:05.761Z"
   },
   {
    "duration": 26,
    "start_time": "2023-08-15T11:43:06.789Z"
   },
   {
    "duration": 11,
    "start_time": "2023-08-15T11:43:18.489Z"
   },
   {
    "duration": 10,
    "start_time": "2023-08-15T11:43:19.180Z"
   },
   {
    "duration": 832,
    "start_time": "2023-08-15T11:43:52.144Z"
   },
   {
    "duration": 982,
    "start_time": "2023-08-15T11:43:52.978Z"
   },
   {
    "duration": 14,
    "start_time": "2023-08-15T11:43:53.962Z"
   },
   {
    "duration": 23,
    "start_time": "2023-08-15T11:43:55.185Z"
   },
   {
    "duration": 4,
    "start_time": "2023-08-15T11:43:56.493Z"
   },
   {
    "duration": 12,
    "start_time": "2023-08-15T11:43:58.359Z"
   },
   {
    "duration": 7,
    "start_time": "2023-08-15T11:43:58.658Z"
   },
   {
    "duration": 7,
    "start_time": "2023-08-15T11:43:58.955Z"
   },
   {
    "duration": 6,
    "start_time": "2023-08-15T11:43:59.258Z"
   },
   {
    "duration": 31,
    "start_time": "2023-08-15T11:43:59.574Z"
   },
   {
    "duration": 10,
    "start_time": "2023-08-15T11:43:59.975Z"
   },
   {
    "duration": 6,
    "start_time": "2023-08-15T11:44:00.409Z"
   },
   {
    "duration": 23,
    "start_time": "2023-08-15T11:44:00.845Z"
   },
   {
    "duration": 9,
    "start_time": "2023-08-15T11:44:03.308Z"
   },
   {
    "duration": 9,
    "start_time": "2023-08-15T11:44:04.939Z"
   },
   {
    "duration": 14,
    "start_time": "2023-08-15T11:44:28.010Z"
   },
   {
    "duration": 2003,
    "start_time": "2023-08-15T11:44:55.500Z"
   },
   {
    "duration": 11,
    "start_time": "2023-08-15T11:45:03.082Z"
   },
   {
    "duration": 18,
    "start_time": "2023-08-15T11:45:08.112Z"
   },
   {
    "duration": 800,
    "start_time": "2023-08-15T11:46:08.298Z"
   },
   {
    "duration": 927,
    "start_time": "2023-08-15T11:46:09.100Z"
   },
   {
    "duration": 14,
    "start_time": "2023-08-15T11:46:10.127Z"
   },
   {
    "duration": 22,
    "start_time": "2023-08-15T11:46:11.267Z"
   },
   {
    "duration": 4,
    "start_time": "2023-08-15T11:46:12.978Z"
   },
   {
    "duration": 13,
    "start_time": "2023-08-15T11:46:15.019Z"
   },
   {
    "duration": 36,
    "start_time": "2023-08-15T11:46:15.054Z"
   },
   {
    "duration": 7,
    "start_time": "2023-08-15T11:46:15.418Z"
   },
   {
    "duration": 6,
    "start_time": "2023-08-15T11:46:15.900Z"
   },
   {
    "duration": 29,
    "start_time": "2023-08-15T11:46:17.159Z"
   },
   {
    "duration": 2765,
    "start_time": "2023-08-15T11:46:57.329Z"
   },
   {
    "duration": 8,
    "start_time": "2023-08-15T11:47:47.702Z"
   },
   {
    "duration": 5,
    "start_time": "2023-08-15T11:47:49.246Z"
   },
   {
    "duration": 22,
    "start_time": "2023-08-15T11:47:49.710Z"
   },
   {
    "duration": 43,
    "start_time": "2023-08-15T11:47:57.989Z"
   },
   {
    "duration": 7,
    "start_time": "2023-08-15T11:47:58.469Z"
   },
   {
    "duration": 7,
    "start_time": "2023-08-15T11:47:59.051Z"
   },
   {
    "duration": 7,
    "start_time": "2023-08-15T11:47:59.535Z"
   },
   {
    "duration": 1041,
    "start_time": "2023-08-15T11:48:00.110Z"
   },
   {
    "duration": 0,
    "start_time": "2023-08-15T11:48:01.154Z"
   },
   {
    "duration": 765,
    "start_time": "2023-08-15T11:48:19.666Z"
   },
   {
    "duration": 1002,
    "start_time": "2023-08-15T11:48:20.433Z"
   },
   {
    "duration": 13,
    "start_time": "2023-08-15T11:48:21.437Z"
   },
   {
    "duration": 23,
    "start_time": "2023-08-15T11:48:22.659Z"
   },
   {
    "duration": 4,
    "start_time": "2023-08-15T11:48:24.290Z"
   },
   {
    "duration": 11,
    "start_time": "2023-08-15T11:48:25.652Z"
   },
   {
    "duration": 9,
    "start_time": "2023-08-15T11:48:27.228Z"
   },
   {
    "duration": 7,
    "start_time": "2023-08-15T11:48:30.428Z"
   },
   {
    "duration": 5,
    "start_time": "2023-08-15T11:48:31.560Z"
   },
   {
    "duration": 32,
    "start_time": "2023-08-15T11:48:33.047Z"
   },
   {
    "duration": 9,
    "start_time": "2023-08-15T11:48:34.724Z"
   },
   {
    "duration": 5,
    "start_time": "2023-08-15T11:48:36.182Z"
   },
   {
    "duration": 22,
    "start_time": "2023-08-15T11:48:36.925Z"
   },
   {
    "duration": 9,
    "start_time": "2023-08-15T11:48:43.291Z"
   },
   {
    "duration": 9,
    "start_time": "2023-08-15T11:48:47.624Z"
   },
   {
    "duration": 14,
    "start_time": "2023-08-15T11:48:49.398Z"
   },
   {
    "duration": 23,
    "start_time": "2023-08-15T11:48:50.841Z"
   },
   {
    "duration": 9,
    "start_time": "2023-08-15T11:48:54.214Z"
   },
   {
    "duration": 13,
    "start_time": "2023-08-15T11:48:54.674Z"
   },
   {
    "duration": 13,
    "start_time": "2023-08-15T11:48:56.712Z"
   },
   {
    "duration": 4,
    "start_time": "2023-08-15T11:48:58.307Z"
   },
   {
    "duration": 21,
    "start_time": "2023-08-15T11:49:00.040Z"
   },
   {
    "duration": 13,
    "start_time": "2023-08-15T11:49:07.302Z"
   },
   {
    "duration": 4,
    "start_time": "2023-08-15T11:49:13.599Z"
   },
   {
    "duration": 5,
    "start_time": "2023-08-15T11:49:16.366Z"
   },
   {
    "duration": 5,
    "start_time": "2023-08-15T11:49:17.283Z"
   },
   {
    "duration": 6,
    "start_time": "2023-08-15T11:49:19.356Z"
   },
   {
    "duration": 6,
    "start_time": "2023-08-15T11:49:21.234Z"
   },
   {
    "duration": 5,
    "start_time": "2023-08-15T11:49:29.678Z"
   },
   {
    "duration": 5,
    "start_time": "2023-08-15T11:49:49.940Z"
   },
   {
    "duration": 13,
    "start_time": "2023-08-15T11:55:44.419Z"
   },
   {
    "duration": 6,
    "start_time": "2023-08-15T11:56:18.370Z"
   },
   {
    "duration": 12,
    "start_time": "2023-08-15T11:58:08.052Z"
   },
   {
    "duration": 11,
    "start_time": "2023-08-15T11:58:42.226Z"
   },
   {
    "duration": 275,
    "start_time": "2023-08-15T12:01:42.558Z"
   },
   {
    "duration": 19,
    "start_time": "2023-08-15T12:02:26.894Z"
   },
   {
    "duration": 20,
    "start_time": "2023-08-15T12:03:14.068Z"
   },
   {
    "duration": 20,
    "start_time": "2023-08-15T12:03:58.249Z"
   },
   {
    "duration": 18,
    "start_time": "2023-08-15T12:04:18.285Z"
   },
   {
    "duration": 225,
    "start_time": "2023-08-15T12:06:46.539Z"
   },
   {
    "duration": 238,
    "start_time": "2023-08-15T12:07:13.090Z"
   },
   {
    "duration": 331,
    "start_time": "2023-08-15T12:07:35.140Z"
   },
   {
    "duration": 261,
    "start_time": "2023-08-15T12:08:07.306Z"
   },
   {
    "duration": 245,
    "start_time": "2023-08-15T12:08:25.302Z"
   },
   {
    "duration": 13,
    "start_time": "2023-08-15T12:11:14.142Z"
   },
   {
    "duration": 15,
    "start_time": "2023-08-15T12:11:18.748Z"
   },
   {
    "duration": 270,
    "start_time": "2023-08-15T12:11:24.737Z"
   },
   {
    "duration": 250,
    "start_time": "2023-08-15T12:11:39.036Z"
   },
   {
    "duration": 16,
    "start_time": "2023-08-15T12:13:05.955Z"
   },
   {
    "duration": 274,
    "start_time": "2023-08-15T12:14:08.560Z"
   },
   {
    "duration": 6,
    "start_time": "2023-08-15T12:15:49.990Z"
   },
   {
    "duration": 7,
    "start_time": "2023-08-15T12:22:09.832Z"
   },
   {
    "duration": 33,
    "start_time": "2023-08-15T12:22:11.283Z"
   },
   {
    "duration": 117,
    "start_time": "2023-08-15T12:22:29.278Z"
   },
   {
    "duration": 123,
    "start_time": "2023-08-15T12:22:41.178Z"
   },
   {
    "duration": 9,
    "start_time": "2023-08-15T12:23:32.315Z"
   },
   {
    "duration": 35,
    "start_time": "2023-08-15T12:23:33.885Z"
   },
   {
    "duration": 4,
    "start_time": "2023-08-15T12:31:52.964Z"
   },
   {
    "duration": 29,
    "start_time": "2023-08-15T12:31:54.118Z"
   },
   {
    "duration": 4,
    "start_time": "2023-08-15T12:32:24.129Z"
   },
   {
    "duration": 113,
    "start_time": "2023-08-15T12:40:05.772Z"
   },
   {
    "duration": 21,
    "start_time": "2023-08-15T12:40:13.544Z"
   },
   {
    "duration": 24,
    "start_time": "2023-08-15T12:40:35.439Z"
   },
   {
    "duration": 23,
    "start_time": "2023-08-15T12:40:42.247Z"
   },
   {
    "duration": 22,
    "start_time": "2023-08-15T12:41:12.706Z"
   },
   {
    "duration": 21,
    "start_time": "2023-08-15T12:42:07.171Z"
   },
   {
    "duration": 280,
    "start_time": "2023-08-15T12:42:11.316Z"
   },
   {
    "duration": 15,
    "start_time": "2023-08-15T12:43:26.598Z"
   },
   {
    "duration": 16,
    "start_time": "2023-08-15T12:43:57.506Z"
   },
   {
    "duration": 293,
    "start_time": "2023-08-15T12:44:44.009Z"
   },
   {
    "duration": 11,
    "start_time": "2023-08-15T12:48:23.403Z"
   },
   {
    "duration": 269,
    "start_time": "2023-08-15T12:48:32.972Z"
   },
   {
    "duration": 14,
    "start_time": "2023-08-15T12:50:33.637Z"
   },
   {
    "duration": 14,
    "start_time": "2023-08-15T12:50:43.629Z"
   },
   {
    "duration": 8,
    "start_time": "2023-08-15T12:51:05.206Z"
   },
   {
    "duration": 272,
    "start_time": "2023-08-15T12:51:13.110Z"
   },
   {
    "duration": 13,
    "start_time": "2023-08-15T12:51:41.171Z"
   },
   {
    "duration": 271,
    "start_time": "2023-08-15T12:51:47.021Z"
   },
   {
    "duration": 21,
    "start_time": "2023-08-15T12:57:40.468Z"
   },
   {
    "duration": 11,
    "start_time": "2023-08-15T12:57:45.923Z"
   },
   {
    "duration": 442,
    "start_time": "2023-08-15T12:57:49.625Z"
   },
   {
    "duration": 284,
    "start_time": "2023-08-15T12:59:43.422Z"
   },
   {
    "duration": 81,
    "start_time": "2023-08-15T13:07:05.684Z"
   },
   {
    "duration": 16,
    "start_time": "2023-08-15T13:07:17.459Z"
   },
   {
    "duration": 18,
    "start_time": "2023-08-15T13:08:45.912Z"
   },
   {
    "duration": 9,
    "start_time": "2023-08-15T13:10:28.001Z"
   },
   {
    "duration": 26,
    "start_time": "2023-08-15T13:10:31.558Z"
   },
   {
    "duration": 20,
    "start_time": "2023-08-15T13:11:39.259Z"
   },
   {
    "duration": 10,
    "start_time": "2023-08-15T13:11:42.690Z"
   },
   {
    "duration": 10,
    "start_time": "2023-08-15T13:11:43.825Z"
   },
   {
    "duration": 785,
    "start_time": "2023-08-15T13:11:54.780Z"
   },
   {
    "duration": 1449,
    "start_time": "2023-08-15T13:11:55.567Z"
   },
   {
    "duration": 12,
    "start_time": "2023-08-15T13:11:57.018Z"
   },
   {
    "duration": 22,
    "start_time": "2023-08-15T13:11:57.326Z"
   },
   {
    "duration": 3,
    "start_time": "2023-08-15T13:11:59.259Z"
   },
   {
    "duration": 26,
    "start_time": "2023-08-15T13:12:02.262Z"
   },
   {
    "duration": 12,
    "start_time": "2023-08-15T13:12:02.646Z"
   },
   {
    "duration": 7,
    "start_time": "2023-08-15T13:12:03.019Z"
   },
   {
    "duration": 9,
    "start_time": "2023-08-15T13:12:03.367Z"
   },
   {
    "duration": 31,
    "start_time": "2023-08-15T13:12:03.746Z"
   },
   {
    "duration": 9,
    "start_time": "2023-08-15T13:12:04.728Z"
   },
   {
    "duration": 4,
    "start_time": "2023-08-15T13:12:05.158Z"
   },
   {
    "duration": 23,
    "start_time": "2023-08-15T13:12:05.828Z"
   },
   {
    "duration": 10,
    "start_time": "2023-08-15T13:12:07.861Z"
   },
   {
    "duration": 9,
    "start_time": "2023-08-15T13:12:08.817Z"
   },
   {
    "duration": 13,
    "start_time": "2023-08-15T13:12:10.805Z"
   },
   {
    "duration": 22,
    "start_time": "2023-08-15T13:12:12.334Z"
   },
   {
    "duration": 10,
    "start_time": "2023-08-15T13:12:17.212Z"
   },
   {
    "duration": 10,
    "start_time": "2023-08-15T13:12:18.056Z"
   },
   {
    "duration": 125,
    "start_time": "2023-08-15T13:13:25.232Z"
   },
   {
    "duration": 21,
    "start_time": "2023-08-15T13:13:31.555Z"
   },
   {
    "duration": 16,
    "start_time": "2023-08-15T13:17:30.666Z"
   },
   {
    "duration": 18,
    "start_time": "2023-08-15T13:18:01.174Z"
   },
   {
    "duration": 17,
    "start_time": "2023-08-15T13:18:21.204Z"
   },
   {
    "duration": 18,
    "start_time": "2023-08-15T13:18:33.053Z"
   },
   {
    "duration": 13,
    "start_time": "2023-08-15T13:19:10.490Z"
   },
   {
    "duration": 14,
    "start_time": "2023-08-15T13:19:20.842Z"
   },
   {
    "duration": 15,
    "start_time": "2023-08-15T13:19:36.768Z"
   },
   {
    "duration": 20,
    "start_time": "2023-08-15T13:19:51.709Z"
   },
   {
    "duration": 12,
    "start_time": "2023-08-15T13:20:16.891Z"
   },
   {
    "duration": 17,
    "start_time": "2023-08-15T13:20:27.900Z"
   },
   {
    "duration": 14,
    "start_time": "2023-08-15T13:20:39.147Z"
   },
   {
    "duration": 12,
    "start_time": "2023-08-15T13:20:54.263Z"
   },
   {
    "duration": 12,
    "start_time": "2023-08-15T13:21:05.978Z"
   },
   {
    "duration": 15,
    "start_time": "2023-08-15T13:21:45.528Z"
   },
   {
    "duration": 13,
    "start_time": "2023-08-15T13:21:58.154Z"
   },
   {
    "duration": 18,
    "start_time": "2023-08-15T13:22:08.283Z"
   },
   {
    "duration": 20,
    "start_time": "2023-08-15T13:22:18.559Z"
   },
   {
    "duration": 12,
    "start_time": "2023-08-15T13:23:21.057Z"
   },
   {
    "duration": 20,
    "start_time": "2023-08-15T13:23:29.292Z"
   },
   {
    "duration": 5,
    "start_time": "2023-08-15T13:52:14.097Z"
   },
   {
    "duration": 15,
    "start_time": "2023-08-15T13:54:59.886Z"
   },
   {
    "duration": 9,
    "start_time": "2023-08-15T13:55:34.725Z"
   },
   {
    "duration": 22,
    "start_time": "2023-08-15T13:55:51.501Z"
   },
   {
    "duration": 9,
    "start_time": "2023-08-15T13:56:34.323Z"
   },
   {
    "duration": 20,
    "start_time": "2023-08-15T13:56:35.466Z"
   },
   {
    "duration": 8,
    "start_time": "2023-08-15T13:56:50.360Z"
   },
   {
    "duration": 9,
    "start_time": "2023-08-15T13:56:53.607Z"
   },
   {
    "duration": 8,
    "start_time": "2023-08-15T13:56:56.301Z"
   },
   {
    "duration": 13,
    "start_time": "2023-08-15T13:57:11.096Z"
   },
   {
    "duration": 14,
    "start_time": "2023-08-15T13:57:17.156Z"
   },
   {
    "duration": 124,
    "start_time": "2023-08-15T13:58:04.782Z"
   },
   {
    "duration": 13,
    "start_time": "2023-08-15T13:58:27.012Z"
   },
   {
    "duration": 807,
    "start_time": "2023-08-15T14:00:09.952Z"
   },
   {
    "duration": 1454,
    "start_time": "2023-08-15T14:00:10.761Z"
   },
   {
    "duration": 15,
    "start_time": "2023-08-15T14:00:12.217Z"
   },
   {
    "duration": 21,
    "start_time": "2023-08-15T14:00:14.196Z"
   },
   {
    "duration": 5,
    "start_time": "2023-08-15T14:00:15.009Z"
   },
   {
    "duration": 12,
    "start_time": "2023-08-15T14:00:17.283Z"
   },
   {
    "duration": 7,
    "start_time": "2023-08-15T14:00:17.487Z"
   },
   {
    "duration": 7,
    "start_time": "2023-08-15T14:00:17.808Z"
   },
   {
    "duration": 6,
    "start_time": "2023-08-15T14:00:18.134Z"
   },
   {
    "duration": 34,
    "start_time": "2023-08-15T14:00:18.448Z"
   },
   {
    "duration": 9,
    "start_time": "2023-08-15T14:00:18.762Z"
   },
   {
    "duration": 4,
    "start_time": "2023-08-15T14:00:19.071Z"
   },
   {
    "duration": 21,
    "start_time": "2023-08-15T14:00:19.416Z"
   },
   {
    "duration": 11,
    "start_time": "2023-08-15T14:00:21.988Z"
   },
   {
    "duration": 10,
    "start_time": "2023-08-15T14:00:22.776Z"
   },
   {
    "duration": 14,
    "start_time": "2023-08-15T14:00:25.152Z"
   },
   {
    "duration": 23,
    "start_time": "2023-08-15T14:00:26.140Z"
   },
   {
    "duration": 755,
    "start_time": "2023-08-15T14:01:21.800Z"
   },
   {
    "duration": 1140,
    "start_time": "2023-08-15T14:01:22.558Z"
   },
   {
    "duration": 13,
    "start_time": "2023-08-15T14:01:23.704Z"
   },
   {
    "duration": 25,
    "start_time": "2023-08-15T14:01:25.061Z"
   },
   {
    "duration": 5,
    "start_time": "2023-08-15T14:01:26.370Z"
   },
   {
    "duration": 12,
    "start_time": "2023-08-15T14:01:28.984Z"
   },
   {
    "duration": 7,
    "start_time": "2023-08-15T14:01:29.279Z"
   },
   {
    "duration": 6,
    "start_time": "2023-08-15T14:01:29.592Z"
   },
   {
    "duration": 6,
    "start_time": "2023-08-15T14:01:29.931Z"
   },
   {
    "duration": 35,
    "start_time": "2023-08-15T14:01:30.679Z"
   },
   {
    "duration": 9,
    "start_time": "2023-08-15T14:01:31.059Z"
   },
   {
    "duration": 4,
    "start_time": "2023-08-15T14:01:31.482Z"
   },
   {
    "duration": 21,
    "start_time": "2023-08-15T14:01:31.982Z"
   },
   {
    "duration": 14,
    "start_time": "2023-08-15T14:01:34.089Z"
   },
   {
    "duration": 10,
    "start_time": "2023-08-15T14:01:36.114Z"
   },
   {
    "duration": 10,
    "start_time": "2023-08-15T14:01:38.196Z"
   },
   {
    "duration": 21,
    "start_time": "2023-08-15T14:01:39.839Z"
   },
   {
    "duration": 10,
    "start_time": "2023-08-15T14:02:33.045Z"
   },
   {
    "duration": 9,
    "start_time": "2023-08-15T14:02:34.810Z"
   },
   {
    "duration": 14,
    "start_time": "2023-08-15T14:02:37.423Z"
   },
   {
    "duration": 15,
    "start_time": "2023-08-15T14:02:41.757Z"
   },
   {
    "duration": 4,
    "start_time": "2023-08-15T14:03:15.560Z"
   },
   {
    "duration": 13,
    "start_time": "2023-08-15T14:05:51.699Z"
   },
   {
    "duration": 15,
    "start_time": "2023-08-15T14:06:48.545Z"
   },
   {
    "duration": 13,
    "start_time": "2023-08-15T14:11:47.438Z"
   },
   {
    "duration": 15,
    "start_time": "2023-08-15T14:15:32.547Z"
   },
   {
    "duration": 14,
    "start_time": "2023-08-15T14:16:11.125Z"
   },
   {
    "duration": 12,
    "start_time": "2023-08-15T14:16:26.847Z"
   },
   {
    "duration": 16,
    "start_time": "2023-08-15T14:16:44.833Z"
   },
   {
    "duration": 13,
    "start_time": "2023-08-15T14:17:05.789Z"
   },
   {
    "duration": 13,
    "start_time": "2023-08-15T14:17:25.260Z"
   },
   {
    "duration": 15,
    "start_time": "2023-08-15T14:17:50.995Z"
   },
   {
    "duration": 13,
    "start_time": "2023-08-15T14:18:14.374Z"
   },
   {
    "duration": 16,
    "start_time": "2023-08-15T14:18:34.092Z"
   },
   {
    "duration": 12,
    "start_time": "2023-08-15T14:18:48.453Z"
   },
   {
    "duration": 13,
    "start_time": "2023-08-15T14:19:07.119Z"
   },
   {
    "duration": 13,
    "start_time": "2023-08-15T14:19:27.692Z"
   },
   {
    "duration": 13,
    "start_time": "2023-08-15T14:19:45.216Z"
   },
   {
    "duration": 12,
    "start_time": "2023-08-15T14:20:09.767Z"
   },
   {
    "duration": 12,
    "start_time": "2023-08-15T14:20:23.301Z"
   },
   {
    "duration": 14,
    "start_time": "2023-08-15T14:20:58.158Z"
   },
   {
    "duration": 13,
    "start_time": "2023-08-15T14:21:25.199Z"
   },
   {
    "duration": 14,
    "start_time": "2023-08-15T14:21:40.047Z"
   },
   {
    "duration": 13,
    "start_time": "2023-08-15T14:22:01.973Z"
   },
   {
    "duration": 13,
    "start_time": "2023-08-15T14:22:21.132Z"
   },
   {
    "duration": 11,
    "start_time": "2023-08-15T14:22:56.251Z"
   },
   {
    "duration": 11,
    "start_time": "2023-08-15T14:23:16.308Z"
   },
   {
    "duration": 14,
    "start_time": "2023-08-15T14:23:34.439Z"
   },
   {
    "duration": 13,
    "start_time": "2023-08-15T14:23:58.523Z"
   },
   {
    "duration": 12,
    "start_time": "2023-08-15T14:24:58.449Z"
   },
   {
    "duration": 14,
    "start_time": "2023-08-15T14:25:17.580Z"
   },
   {
    "duration": 12,
    "start_time": "2023-08-15T14:25:40.951Z"
   },
   {
    "duration": 14,
    "start_time": "2023-08-15T14:25:57.030Z"
   },
   {
    "duration": 14,
    "start_time": "2023-08-15T14:26:30.949Z"
   },
   {
    "duration": 13,
    "start_time": "2023-08-15T14:26:41.551Z"
   },
   {
    "duration": 7,
    "start_time": "2023-08-15T14:26:52.093Z"
   },
   {
    "duration": 12,
    "start_time": "2023-08-15T14:27:09.138Z"
   },
   {
    "duration": 12,
    "start_time": "2023-08-15T14:27:38.636Z"
   },
   {
    "duration": 14,
    "start_time": "2023-08-15T14:28:39.048Z"
   },
   {
    "duration": 6,
    "start_time": "2023-08-15T14:28:40.923Z"
   },
   {
    "duration": 85,
    "start_time": "2023-08-15T14:29:17.089Z"
   },
   {
    "duration": 12,
    "start_time": "2023-08-15T14:29:24.929Z"
   },
   {
    "duration": 788,
    "start_time": "2023-08-15T14:29:37.306Z"
   },
   {
    "duration": 1353,
    "start_time": "2023-08-15T14:29:38.096Z"
   },
   {
    "duration": 14,
    "start_time": "2023-08-15T14:29:39.451Z"
   },
   {
    "duration": 24,
    "start_time": "2023-08-15T14:29:40.993Z"
   },
   {
    "duration": 4,
    "start_time": "2023-08-15T14:29:41.417Z"
   },
   {
    "duration": 11,
    "start_time": "2023-08-15T14:29:43.712Z"
   },
   {
    "duration": 8,
    "start_time": "2023-08-15T14:29:44.009Z"
   },
   {
    "duration": 6,
    "start_time": "2023-08-15T14:29:44.614Z"
   },
   {
    "duration": 9,
    "start_time": "2023-08-15T14:29:44.622Z"
   },
   {
    "duration": 48,
    "start_time": "2023-08-15T14:29:44.872Z"
   },
   {
    "duration": 9,
    "start_time": "2023-08-15T14:29:45.187Z"
   },
   {
    "duration": 5,
    "start_time": "2023-08-15T14:29:45.486Z"
   },
   {
    "duration": 21,
    "start_time": "2023-08-15T14:29:45.792Z"
   },
   {
    "duration": 10,
    "start_time": "2023-08-15T14:29:48.371Z"
   },
   {
    "duration": 8,
    "start_time": "2023-08-15T14:29:50.424Z"
   },
   {
    "duration": 13,
    "start_time": "2023-08-15T14:29:52.273Z"
   },
   {
    "duration": 21,
    "start_time": "2023-08-15T14:29:52.838Z"
   },
   {
    "duration": 10,
    "start_time": "2023-08-15T14:29:57.458Z"
   },
   {
    "duration": 9,
    "start_time": "2023-08-15T14:29:57.865Z"
   },
   {
    "duration": 13,
    "start_time": "2023-08-15T14:29:59.798Z"
   },
   {
    "duration": 14,
    "start_time": "2023-08-15T14:30:01.934Z"
   },
   {
    "duration": 6,
    "start_time": "2023-08-15T14:30:03.363Z"
   },
   {
    "duration": 15,
    "start_time": "2023-08-15T14:30:04.029Z"
   },
   {
    "duration": 13,
    "start_time": "2023-08-15T14:30:05.653Z"
   },
   {
    "duration": 5,
    "start_time": "2023-08-15T14:30:06.948Z"
   },
   {
    "duration": 19,
    "start_time": "2023-08-15T14:30:12.414Z"
   },
   {
    "duration": 16,
    "start_time": "2023-08-15T14:30:33.223Z"
   },
   {
    "duration": 5,
    "start_time": "2023-08-15T14:30:38.397Z"
   },
   {
    "duration": 6,
    "start_time": "2023-08-15T14:31:49.807Z"
   },
   {
    "duration": 5,
    "start_time": "2023-08-15T14:31:50.440Z"
   },
   {
    "duration": 5,
    "start_time": "2023-08-15T14:31:52.454Z"
   },
   {
    "duration": 6,
    "start_time": "2023-08-15T14:32:01.613Z"
   },
   {
    "duration": 4,
    "start_time": "2023-08-15T14:32:04.367Z"
   },
   {
    "duration": 11,
    "start_time": "2023-08-15T14:32:08.311Z"
   },
   {
    "duration": 2244,
    "start_time": "2023-08-15T14:34:25.924Z"
   },
   {
    "duration": 532,
    "start_time": "2023-08-15T14:35:03.001Z"
   },
   {
    "duration": 8,
    "start_time": "2023-08-15T14:37:08.352Z"
   },
   {
    "duration": 7,
    "start_time": "2023-08-15T14:37:30.524Z"
   },
   {
    "duration": 20,
    "start_time": "2023-08-15T14:37:53.048Z"
   },
   {
    "duration": 9,
    "start_time": "2023-08-15T14:38:33.712Z"
   },
   {
    "duration": 8,
    "start_time": "2023-08-15T14:38:44.094Z"
   },
   {
    "duration": 22,
    "start_time": "2023-08-15T14:38:45.865Z"
   },
   {
    "duration": 12,
    "start_time": "2023-08-15T14:41:52.324Z"
   },
   {
    "duration": 14,
    "start_time": "2023-08-15T14:42:11.082Z"
   },
   {
    "duration": 12,
    "start_time": "2023-08-15T14:42:52.100Z"
   },
   {
    "duration": 13,
    "start_time": "2023-08-15T14:43:36.667Z"
   },
   {
    "duration": 20,
    "start_time": "2023-08-15T14:46:09.422Z"
   },
   {
    "duration": 15,
    "start_time": "2023-08-15T14:46:14.253Z"
   },
   {
    "duration": 17,
    "start_time": "2023-08-15T14:46:19.613Z"
   },
   {
    "duration": 107,
    "start_time": "2023-08-15T14:48:12.598Z"
   },
   {
    "duration": 6,
    "start_time": "2023-08-15T14:48:20.776Z"
   },
   {
    "duration": 16,
    "start_time": "2023-08-15T14:48:22.756Z"
   },
   {
    "duration": 15,
    "start_time": "2023-08-15T14:48:24.692Z"
   },
   {
    "duration": 5,
    "start_time": "2023-08-15T14:48:46.067Z"
   },
   {
    "duration": 18,
    "start_time": "2023-08-15T14:48:47.879Z"
   },
   {
    "duration": 14,
    "start_time": "2023-08-15T14:48:49.960Z"
   },
   {
    "duration": 734,
    "start_time": "2023-08-15T14:49:10.623Z"
   },
   {
    "duration": 985,
    "start_time": "2023-08-15T14:49:11.359Z"
   },
   {
    "duration": 17,
    "start_time": "2023-08-15T14:49:12.346Z"
   },
   {
    "duration": 23,
    "start_time": "2023-08-15T14:49:12.389Z"
   },
   {
    "duration": 3,
    "start_time": "2023-08-15T14:49:13.013Z"
   },
   {
    "duration": 11,
    "start_time": "2023-08-15T14:49:15.320Z"
   },
   {
    "duration": 7,
    "start_time": "2023-08-15T14:49:15.620Z"
   },
   {
    "duration": 6,
    "start_time": "2023-08-15T14:49:15.908Z"
   },
   {
    "duration": 5,
    "start_time": "2023-08-15T14:49:16.205Z"
   },
   {
    "duration": 29,
    "start_time": "2023-08-15T14:49:16.504Z"
   },
   {
    "duration": 9,
    "start_time": "2023-08-15T14:49:16.817Z"
   },
   {
    "duration": 4,
    "start_time": "2023-08-15T14:49:17.139Z"
   },
   {
    "duration": 20,
    "start_time": "2023-08-15T14:49:17.508Z"
   },
   {
    "duration": 10,
    "start_time": "2023-08-15T14:49:19.306Z"
   },
   {
    "duration": 8,
    "start_time": "2023-08-15T14:49:20.652Z"
   },
   {
    "duration": 11,
    "start_time": "2023-08-15T14:49:22.656Z"
   },
   {
    "duration": 21,
    "start_time": "2023-08-15T14:49:23.587Z"
   },
   {
    "duration": 8,
    "start_time": "2023-08-15T14:49:27.078Z"
   },
   {
    "duration": 9,
    "start_time": "2023-08-15T14:49:27.561Z"
   },
   {
    "duration": 20,
    "start_time": "2023-08-15T14:49:29.155Z"
   },
   {
    "duration": 13,
    "start_time": "2023-08-15T14:49:32.010Z"
   },
   {
    "duration": 6,
    "start_time": "2023-08-15T14:49:33.536Z"
   },
   {
    "duration": 12,
    "start_time": "2023-08-15T14:49:34.909Z"
   },
   {
    "duration": 13,
    "start_time": "2023-08-15T14:49:36.937Z"
   },
   {
    "duration": 13,
    "start_time": "2023-08-15T14:49:39.937Z"
   },
   {
    "duration": 5,
    "start_time": "2023-08-15T14:50:32.518Z"
   },
   {
    "duration": 6,
    "start_time": "2023-08-15T14:50:45.329Z"
   },
   {
    "duration": 13,
    "start_time": "2023-08-15T14:50:58.832Z"
   },
   {
    "duration": 17,
    "start_time": "2023-08-15T14:51:07.691Z"
   },
   {
    "duration": 3,
    "start_time": "2023-08-15T14:51:43.656Z"
   },
   {
    "duration": 13,
    "start_time": "2023-08-15T14:51:46.172Z"
   },
   {
    "duration": 14,
    "start_time": "2023-08-15T14:52:00.633Z"
   },
   {
    "duration": 13,
    "start_time": "2023-08-15T14:52:08.416Z"
   },
   {
    "duration": 768,
    "start_time": "2023-08-15T14:52:32.684Z"
   },
   {
    "duration": 1046,
    "start_time": "2023-08-15T14:52:33.455Z"
   },
   {
    "duration": 14,
    "start_time": "2023-08-15T14:52:34.502Z"
   },
   {
    "duration": 24,
    "start_time": "2023-08-15T14:52:35.172Z"
   },
   {
    "duration": 4,
    "start_time": "2023-08-15T14:52:36.066Z"
   },
   {
    "duration": 12,
    "start_time": "2023-08-15T14:52:39.058Z"
   },
   {
    "duration": 8,
    "start_time": "2023-08-15T14:52:39.352Z"
   },
   {
    "duration": 6,
    "start_time": "2023-08-15T14:52:39.757Z"
   },
   {
    "duration": 7,
    "start_time": "2023-08-15T14:52:40.205Z"
   },
   {
    "duration": 49,
    "start_time": "2023-08-15T14:52:40.214Z"
   },
   {
    "duration": 8,
    "start_time": "2023-08-15T14:52:40.638Z"
   },
   {
    "duration": 5,
    "start_time": "2023-08-15T14:52:40.864Z"
   },
   {
    "duration": 22,
    "start_time": "2023-08-15T14:52:41.691Z"
   },
   {
    "duration": 10,
    "start_time": "2023-08-15T14:52:43.685Z"
   },
   {
    "duration": 9,
    "start_time": "2023-08-15T14:52:44.874Z"
   },
   {
    "duration": 12,
    "start_time": "2023-08-15T14:52:47.459Z"
   },
   {
    "duration": 22,
    "start_time": "2023-08-15T14:52:48.215Z"
   },
   {
    "duration": 9,
    "start_time": "2023-08-15T14:52:50.077Z"
   },
   {
    "duration": 28,
    "start_time": "2023-08-15T14:52:50.088Z"
   },
   {
    "duration": 15,
    "start_time": "2023-08-15T14:52:51.216Z"
   },
   {
    "duration": 12,
    "start_time": "2023-08-15T14:52:53.711Z"
   },
   {
    "duration": 5,
    "start_time": "2023-08-15T14:52:55.192Z"
   },
   {
    "duration": 12,
    "start_time": "2023-08-15T14:52:55.712Z"
   },
   {
    "duration": 15,
    "start_time": "2023-08-15T14:52:57.319Z"
   },
   {
    "duration": 12,
    "start_time": "2023-08-15T14:52:59.169Z"
   },
   {
    "duration": 4,
    "start_time": "2023-08-15T14:53:02.179Z"
   },
   {
    "duration": 12,
    "start_time": "2023-08-15T14:53:06.161Z"
   },
   {
    "duration": 12,
    "start_time": "2023-08-15T14:53:09.470Z"
   },
   {
    "duration": 13,
    "start_time": "2023-08-15T14:55:02.964Z"
   },
   {
    "duration": 15,
    "start_time": "2023-08-15T14:55:22.574Z"
   },
   {
    "duration": 755,
    "start_time": "2023-08-15T14:56:25.260Z"
   },
   {
    "duration": 1329,
    "start_time": "2023-08-15T14:56:26.017Z"
   },
   {
    "duration": 12,
    "start_time": "2023-08-15T14:56:27.348Z"
   },
   {
    "duration": 31,
    "start_time": "2023-08-15T14:56:27.362Z"
   },
   {
    "duration": 4,
    "start_time": "2023-08-15T14:56:27.496Z"
   },
   {
    "duration": 11,
    "start_time": "2023-08-15T14:56:30.162Z"
   },
   {
    "duration": 125,
    "start_time": "2023-08-15T14:56:30.491Z"
   },
   {
    "duration": 7,
    "start_time": "2023-08-15T14:56:30.821Z"
   },
   {
    "duration": 49,
    "start_time": "2023-08-15T14:56:31.164Z"
   },
   {
    "duration": 28,
    "start_time": "2023-08-15T14:56:31.486Z"
   },
   {
    "duration": 9,
    "start_time": "2023-08-15T14:56:31.817Z"
   },
   {
    "duration": 4,
    "start_time": "2023-08-15T14:56:32.139Z"
   },
   {
    "duration": 24,
    "start_time": "2023-08-15T14:56:32.466Z"
   },
   {
    "duration": 9,
    "start_time": "2023-08-15T14:56:33.797Z"
   },
   {
    "duration": 9,
    "start_time": "2023-08-15T14:56:35.112Z"
   },
   {
    "duration": 12,
    "start_time": "2023-08-15T14:56:36.664Z"
   },
   {
    "duration": 20,
    "start_time": "2023-08-15T14:56:37.168Z"
   },
   {
    "duration": 10,
    "start_time": "2023-08-15T14:56:38.848Z"
   },
   {
    "duration": 9,
    "start_time": "2023-08-15T14:56:39.196Z"
   },
   {
    "duration": 14,
    "start_time": "2023-08-15T14:56:40.581Z"
   },
   {
    "duration": 13,
    "start_time": "2023-08-15T14:56:41.768Z"
   },
   {
    "duration": 6,
    "start_time": "2023-08-15T14:56:43.063Z"
   },
   {
    "duration": 12,
    "start_time": "2023-08-15T14:56:43.463Z"
   },
   {
    "duration": 13,
    "start_time": "2023-08-15T14:56:45.595Z"
   },
   {
    "duration": 14,
    "start_time": "2023-08-15T14:56:55.957Z"
   },
   {
    "duration": 14,
    "start_time": "2023-08-15T15:01:44.263Z"
   },
   {
    "duration": 4,
    "start_time": "2023-08-15T15:02:49.392Z"
   },
   {
    "duration": 22,
    "start_time": "2023-08-15T15:03:43.491Z"
   },
   {
    "duration": 14,
    "start_time": "2023-08-15T15:04:05.381Z"
   },
   {
    "duration": 781,
    "start_time": "2023-08-15T15:04:27.739Z"
   },
   {
    "duration": 1414,
    "start_time": "2023-08-15T15:04:28.522Z"
   },
   {
    "duration": 12,
    "start_time": "2023-08-15T15:04:29.938Z"
   },
   {
    "duration": 36,
    "start_time": "2023-08-15T15:04:29.952Z"
   },
   {
    "duration": 5,
    "start_time": "2023-08-15T15:04:29.989Z"
   },
   {
    "duration": 11,
    "start_time": "2023-08-15T15:04:32.012Z"
   },
   {
    "duration": 6,
    "start_time": "2023-08-15T15:04:32.309Z"
   },
   {
    "duration": 6,
    "start_time": "2023-08-15T15:04:32.606Z"
   },
   {
    "duration": 7,
    "start_time": "2023-08-15T15:04:32.895Z"
   },
   {
    "duration": 30,
    "start_time": "2023-08-15T15:04:33.180Z"
   },
   {
    "duration": 9,
    "start_time": "2023-08-15T15:04:33.464Z"
   },
   {
    "duration": 4,
    "start_time": "2023-08-15T15:04:33.757Z"
   },
   {
    "duration": 25,
    "start_time": "2023-08-15T15:04:34.039Z"
   },
   {
    "duration": 9,
    "start_time": "2023-08-15T15:04:35.732Z"
   },
   {
    "duration": 9,
    "start_time": "2023-08-15T15:04:36.925Z"
   },
   {
    "duration": 11,
    "start_time": "2023-08-15T15:04:38.324Z"
   },
   {
    "duration": 25,
    "start_time": "2023-08-15T15:04:38.842Z"
   },
   {
    "duration": 9,
    "start_time": "2023-08-15T15:04:40.559Z"
   },
   {
    "duration": 9,
    "start_time": "2023-08-15T15:04:40.966Z"
   },
   {
    "duration": 17,
    "start_time": "2023-08-15T15:04:42.352Z"
   },
   {
    "duration": 13,
    "start_time": "2023-08-15T15:04:43.763Z"
   },
   {
    "duration": 5,
    "start_time": "2023-08-15T15:04:45.732Z"
   },
   {
    "duration": 11,
    "start_time": "2023-08-15T15:04:46.119Z"
   },
   {
    "duration": 12,
    "start_time": "2023-08-15T15:04:47.631Z"
   },
   {
    "duration": 12,
    "start_time": "2023-08-15T15:04:49.400Z"
   },
   {
    "duration": 15,
    "start_time": "2023-08-15T15:05:23.990Z"
   },
   {
    "duration": 14,
    "start_time": "2023-08-15T15:06:36.529Z"
   },
   {
    "duration": 13,
    "start_time": "2023-08-15T15:07:08.421Z"
   },
   {
    "duration": 14,
    "start_time": "2023-08-15T15:07:45.918Z"
   },
   {
    "duration": 13,
    "start_time": "2023-08-15T15:08:24.114Z"
   },
   {
    "duration": 12,
    "start_time": "2023-08-15T15:08:58.392Z"
   },
   {
    "duration": 13,
    "start_time": "2023-08-15T15:09:30.149Z"
   },
   {
    "duration": 32,
    "start_time": "2023-08-15T15:10:36.716Z"
   },
   {
    "duration": 4,
    "start_time": "2023-08-15T15:10:39.180Z"
   },
   {
    "duration": 5,
    "start_time": "2023-08-15T15:10:44.279Z"
   },
   {
    "duration": 16,
    "start_time": "2023-08-15T15:10:51.283Z"
   },
   {
    "duration": 15,
    "start_time": "2023-08-15T15:11:36.975Z"
   },
   {
    "duration": 761,
    "start_time": "2023-08-15T15:13:30.796Z"
   },
   {
    "duration": 1509,
    "start_time": "2023-08-15T15:13:31.560Z"
   },
   {
    "duration": 24,
    "start_time": "2023-08-15T15:13:33.071Z"
   },
   {
    "duration": 14,
    "start_time": "2023-08-15T15:13:36.478Z"
   },
   {
    "duration": 22,
    "start_time": "2023-08-15T15:13:38.157Z"
   },
   {
    "duration": 5,
    "start_time": "2023-08-15T15:13:40.131Z"
   },
   {
    "duration": 11,
    "start_time": "2023-08-15T15:13:41.985Z"
   },
   {
    "duration": 9,
    "start_time": "2023-08-15T15:13:42.276Z"
   },
   {
    "duration": 6,
    "start_time": "2023-08-15T15:13:42.887Z"
   },
   {
    "duration": 5,
    "start_time": "2023-08-15T15:13:43.319Z"
   },
   {
    "duration": 28,
    "start_time": "2023-08-15T15:13:43.668Z"
   },
   {
    "duration": 9,
    "start_time": "2023-08-15T15:13:44.151Z"
   },
   {
    "duration": 4,
    "start_time": "2023-08-15T15:13:44.588Z"
   },
   {
    "duration": 23,
    "start_time": "2023-08-15T15:13:45.023Z"
   },
   {
    "duration": 9,
    "start_time": "2023-08-15T15:13:46.683Z"
   },
   {
    "duration": 8,
    "start_time": "2023-08-15T15:13:47.961Z"
   },
   {
    "duration": 11,
    "start_time": "2023-08-15T15:13:49.224Z"
   },
   {
    "duration": 20,
    "start_time": "2023-08-15T15:13:49.725Z"
   },
   {
    "duration": 9,
    "start_time": "2023-08-15T15:13:52.166Z"
   },
   {
    "duration": 9,
    "start_time": "2023-08-15T15:13:52.602Z"
   },
   {
    "duration": 14,
    "start_time": "2023-08-15T15:13:53.489Z"
   },
   {
    "duration": 13,
    "start_time": "2023-08-15T15:13:55.208Z"
   },
   {
    "duration": 6,
    "start_time": "2023-08-15T15:13:56.547Z"
   },
   {
    "duration": 13,
    "start_time": "2023-08-15T15:13:57.596Z"
   },
   {
    "duration": 13,
    "start_time": "2023-08-15T15:13:59.031Z"
   },
   {
    "duration": 16,
    "start_time": "2023-08-15T15:14:04.500Z"
   },
   {
    "duration": 5,
    "start_time": "2023-08-15T15:14:16.550Z"
   },
   {
    "duration": 14,
    "start_time": "2023-08-15T15:14:44.146Z"
   },
   {
    "duration": 12,
    "start_time": "2023-08-15T15:15:06.671Z"
   },
   {
    "duration": 12,
    "start_time": "2023-08-15T15:15:24.246Z"
   },
   {
    "duration": 12,
    "start_time": "2023-08-15T15:15:40.493Z"
   },
   {
    "duration": 14,
    "start_time": "2023-08-15T15:15:51.971Z"
   },
   {
    "duration": 13,
    "start_time": "2023-08-15T15:16:07.804Z"
   },
   {
    "duration": 14,
    "start_time": "2023-08-15T15:16:24.429Z"
   },
   {
    "duration": 12,
    "start_time": "2023-08-15T15:16:42.125Z"
   },
   {
    "duration": 13,
    "start_time": "2023-08-15T15:16:57.828Z"
   },
   {
    "duration": 20,
    "start_time": "2023-08-15T15:17:13.883Z"
   },
   {
    "duration": 8,
    "start_time": "2023-08-15T15:17:25.326Z"
   },
   {
    "duration": 13,
    "start_time": "2023-08-15T15:17:27.411Z"
   },
   {
    "duration": 12,
    "start_time": "2023-08-15T15:17:47.304Z"
   },
   {
    "duration": 17,
    "start_time": "2023-08-15T15:18:45.270Z"
   },
   {
    "duration": 6,
    "start_time": "2023-08-15T15:18:47.504Z"
   },
   {
    "duration": 25,
    "start_time": "2023-08-15T15:18:49.550Z"
   },
   {
    "duration": 15,
    "start_time": "2023-08-15T15:18:51.832Z"
   },
   {
    "duration": 4,
    "start_time": "2023-08-15T15:18:53.469Z"
   },
   {
    "duration": 5,
    "start_time": "2023-08-15T15:18:59.916Z"
   },
   {
    "duration": 5,
    "start_time": "2023-08-15T15:19:00.506Z"
   },
   {
    "duration": 7,
    "start_time": "2023-08-15T15:19:01.722Z"
   },
   {
    "duration": 5,
    "start_time": "2023-08-15T15:19:03.262Z"
   },
   {
    "duration": 5,
    "start_time": "2023-08-15T15:19:09.726Z"
   },
   {
    "duration": 13,
    "start_time": "2023-08-15T15:19:12.346Z"
   },
   {
    "duration": 303,
    "start_time": "2023-08-15T15:37:31.930Z"
   },
   {
    "duration": 235,
    "start_time": "2023-08-15T15:39:35.524Z"
   },
   {
    "duration": 83,
    "start_time": "2023-08-15T15:41:44.660Z"
   },
   {
    "duration": 12,
    "start_time": "2023-08-15T15:41:50.856Z"
   },
   {
    "duration": 335,
    "start_time": "2023-08-15T15:42:24.555Z"
   },
   {
    "duration": 260,
    "start_time": "2023-08-15T15:42:33.523Z"
   },
   {
    "duration": 281,
    "start_time": "2023-08-15T15:42:50.557Z"
   },
   {
    "duration": 250,
    "start_time": "2023-08-15T15:43:10.112Z"
   },
   {
    "duration": 10,
    "start_time": "2023-08-15T15:45:34.648Z"
   },
   {
    "duration": 302,
    "start_time": "2023-08-15T15:45:40.788Z"
   },
   {
    "duration": 289,
    "start_time": "2023-08-15T15:48:09.961Z"
   },
   {
    "duration": 194,
    "start_time": "2023-08-15T15:48:32.882Z"
   },
   {
    "duration": 189,
    "start_time": "2023-08-15T15:48:41.486Z"
   },
   {
    "duration": 110,
    "start_time": "2023-08-15T15:48:45.247Z"
   },
   {
    "duration": 193,
    "start_time": "2023-08-15T15:48:47.346Z"
   },
   {
    "duration": 279,
    "start_time": "2023-08-15T15:48:55.078Z"
   },
   {
    "duration": 16,
    "start_time": "2023-08-15T15:53:30.366Z"
   },
   {
    "duration": 5,
    "start_time": "2023-08-15T15:53:42.292Z"
   },
   {
    "duration": 307,
    "start_time": "2023-08-15T15:53:46.870Z"
   },
   {
    "duration": 315,
    "start_time": "2023-08-15T15:57:52.844Z"
   },
   {
    "duration": 12,
    "start_time": "2023-08-15T15:59:11.446Z"
   },
   {
    "duration": 7,
    "start_time": "2023-08-15T15:59:15.645Z"
   },
   {
    "duration": 375,
    "start_time": "2023-08-15T15:59:44.820Z"
   },
   {
    "duration": 296,
    "start_time": "2023-08-15T16:00:02.572Z"
   },
   {
    "duration": 285,
    "start_time": "2023-08-15T16:00:23.362Z"
   },
   {
    "duration": 288,
    "start_time": "2023-08-15T16:00:35.266Z"
   },
   {
    "duration": 276,
    "start_time": "2023-08-15T16:00:43.208Z"
   },
   {
    "duration": 297,
    "start_time": "2023-08-15T16:01:54.046Z"
   },
   {
    "duration": 282,
    "start_time": "2023-08-15T16:02:08.475Z"
   },
   {
    "duration": 259,
    "start_time": "2023-08-15T16:02:24.745Z"
   },
   {
    "duration": 20,
    "start_time": "2023-08-15T16:37:09.223Z"
   },
   {
    "duration": 14,
    "start_time": "2023-08-15T16:38:32.969Z"
   },
   {
    "duration": 13,
    "start_time": "2023-08-15T16:39:55.236Z"
   },
   {
    "duration": 13,
    "start_time": "2023-08-15T16:40:10.435Z"
   },
   {
    "duration": 3,
    "start_time": "2023-08-15T16:47:04.572Z"
   },
   {
    "duration": 106,
    "start_time": "2023-08-15T16:48:31.269Z"
   },
   {
    "duration": 61,
    "start_time": "2023-08-15T16:49:30.831Z"
   },
   {
    "duration": 22,
    "start_time": "2023-08-15T16:49:34.487Z"
   },
   {
    "duration": 14,
    "start_time": "2023-08-15T16:50:23.353Z"
   },
   {
    "duration": 4,
    "start_time": "2023-08-15T16:50:23.792Z"
   },
   {
    "duration": 55,
    "start_time": "2023-08-15T16:50:24.877Z"
   },
   {
    "duration": 24,
    "start_time": "2023-08-15T16:50:25.981Z"
   },
   {
    "duration": 13,
    "start_time": "2023-08-15T16:52:23.650Z"
   },
   {
    "duration": 50256,
    "start_time": "2023-08-15T16:52:55.330Z"
   },
   {
    "duration": 13,
    "start_time": "2023-08-15T16:53:45.588Z"
   },
   {
    "duration": 47601,
    "start_time": "2023-08-15T16:53:58.808Z"
   },
   {
    "duration": 13,
    "start_time": "2023-08-15T16:54:46.411Z"
   },
   {
    "duration": 220,
    "start_time": "2023-08-15T16:54:57.366Z"
   },
   {
    "duration": 29,
    "start_time": "2023-08-15T16:55:45.664Z"
   },
   {
    "duration": 111,
    "start_time": "2023-08-15T16:56:27.859Z"
   },
   {
    "duration": 8,
    "start_time": "2023-08-15T16:56:33.111Z"
   },
   {
    "duration": 25,
    "start_time": "2023-08-15T16:56:39.886Z"
   },
   {
    "duration": 14,
    "start_time": "2023-08-15T16:57:01.380Z"
   },
   {
    "duration": 4,
    "start_time": "2023-08-15T16:59:37.563Z"
   },
   {
    "duration": 51,
    "start_time": "2023-08-15T16:59:38.781Z"
   },
   {
    "duration": 9,
    "start_time": "2023-08-15T16:59:40.525Z"
   },
   {
    "duration": 240,
    "start_time": "2023-08-15T16:59:58.334Z"
   },
   {
    "duration": 32,
    "start_time": "2023-08-15T17:00:24.072Z"
   },
   {
    "duration": 24,
    "start_time": "2023-08-15T17:00:52.953Z"
   },
   {
    "duration": 225,
    "start_time": "2023-08-15T17:10:48.899Z"
   },
   {
    "duration": 207,
    "start_time": "2023-08-15T17:11:19.115Z"
   },
   {
    "duration": 191,
    "start_time": "2023-08-15T17:11:33.242Z"
   },
   {
    "duration": 838,
    "start_time": "2023-08-15T17:11:38.147Z"
   },
   {
    "duration": 11,
    "start_time": "2023-08-15T17:13:07.471Z"
   },
   {
    "duration": 184,
    "start_time": "2023-08-15T17:13:11.207Z"
   },
   {
    "duration": 212,
    "start_time": "2023-08-15T17:15:25.020Z"
   },
   {
    "duration": 324,
    "start_time": "2023-08-15T17:15:33.159Z"
   },
   {
    "duration": 23,
    "start_time": "2023-08-15T17:30:05.288Z"
   },
   {
    "duration": 20,
    "start_time": "2023-08-15T17:30:21.113Z"
   },
   {
    "duration": 14,
    "start_time": "2023-08-15T17:30:30.176Z"
   },
   {
    "duration": 108,
    "start_time": "2023-08-15T17:35:32.690Z"
   },
   {
    "duration": 4,
    "start_time": "2023-08-15T17:35:48.226Z"
   },
   {
    "duration": 55,
    "start_time": "2023-08-15T17:35:50.713Z"
   },
   {
    "duration": 14,
    "start_time": "2023-08-15T17:35:53.275Z"
   },
   {
    "duration": 10,
    "start_time": "2023-08-15T17:36:17.147Z"
   },
   {
    "duration": 11,
    "start_time": "2023-08-15T17:36:30.217Z"
   },
   {
    "duration": 10,
    "start_time": "2023-08-15T17:37:15.667Z"
   },
   {
    "duration": 6,
    "start_time": "2023-08-15T17:38:00.580Z"
   },
   {
    "duration": 24,
    "start_time": "2023-08-15T17:38:38.647Z"
   },
   {
    "duration": 6,
    "start_time": "2023-08-15T17:39:25.436Z"
   },
   {
    "duration": 5,
    "start_time": "2023-08-15T17:39:36.608Z"
   },
   {
    "duration": 4,
    "start_time": "2023-08-15T17:40:05.160Z"
   },
   {
    "duration": 57,
    "start_time": "2023-08-15T17:40:06.890Z"
   },
   {
    "duration": 5,
    "start_time": "2023-08-15T17:40:08.174Z"
   },
   {
    "duration": 5,
    "start_time": "2023-08-15T17:40:09.727Z"
   },
   {
    "duration": 988,
    "start_time": "2023-08-16T08:10:02.953Z"
   },
   {
    "duration": 1502,
    "start_time": "2023-08-16T08:10:03.944Z"
   },
   {
    "duration": 14,
    "start_time": "2023-08-16T08:10:05.582Z"
   },
   {
    "duration": 20,
    "start_time": "2023-08-16T08:10:07.927Z"
   },
   {
    "duration": 4,
    "start_time": "2023-08-16T08:10:09.780Z"
   },
   {
    "duration": 11,
    "start_time": "2023-08-16T08:10:12.294Z"
   },
   {
    "duration": 7,
    "start_time": "2023-08-16T08:10:12.671Z"
   },
   {
    "duration": 7,
    "start_time": "2023-08-16T08:10:12.912Z"
   },
   {
    "duration": 6,
    "start_time": "2023-08-16T08:10:13.424Z"
   },
   {
    "duration": 29,
    "start_time": "2023-08-16T08:10:13.922Z"
   },
   {
    "duration": 10,
    "start_time": "2023-08-16T08:10:13.964Z"
   },
   {
    "duration": 4,
    "start_time": "2023-08-16T08:10:14.357Z"
   },
   {
    "duration": 21,
    "start_time": "2023-08-16T08:10:14.793Z"
   },
   {
    "duration": 9,
    "start_time": "2023-08-16T08:10:17.083Z"
   },
   {
    "duration": 11,
    "start_time": "2023-08-16T08:10:18.964Z"
   },
   {
    "duration": 11,
    "start_time": "2023-08-16T08:10:20.332Z"
   },
   {
    "duration": 25,
    "start_time": "2023-08-16T08:10:21.218Z"
   },
   {
    "duration": 8,
    "start_time": "2023-08-16T08:10:24.448Z"
   },
   {
    "duration": 9,
    "start_time": "2023-08-16T08:10:24.944Z"
   },
   {
    "duration": 13,
    "start_time": "2023-08-16T08:10:25.904Z"
   },
   {
    "duration": 12,
    "start_time": "2023-08-16T08:10:28.143Z"
   },
   {
    "duration": 5,
    "start_time": "2023-08-16T08:10:30.498Z"
   },
   {
    "duration": 11,
    "start_time": "2023-08-16T08:10:30.932Z"
   },
   {
    "duration": 12,
    "start_time": "2023-08-16T08:10:32.686Z"
   },
   {
    "duration": 14,
    "start_time": "2023-08-16T08:10:34.767Z"
   },
   {
    "duration": 5,
    "start_time": "2023-08-16T08:10:36.893Z"
   },
   {
    "duration": 10,
    "start_time": "2023-08-16T08:10:37.781Z"
   },
   {
    "duration": 11,
    "start_time": "2023-08-16T08:10:38.216Z"
   },
   {
    "duration": 13,
    "start_time": "2023-08-16T08:10:41.014Z"
   },
   {
    "duration": 5,
    "start_time": "2023-08-16T08:10:41.953Z"
   },
   {
    "duration": 20,
    "start_time": "2023-08-16T08:10:46.509Z"
   },
   {
    "duration": 13,
    "start_time": "2023-08-16T08:10:49.684Z"
   },
   {
    "duration": 4,
    "start_time": "2023-08-16T08:10:51.300Z"
   },
   {
    "duration": 5,
    "start_time": "2023-08-16T08:10:54.729Z"
   },
   {
    "duration": 5,
    "start_time": "2023-08-16T08:10:55.154Z"
   },
   {
    "duration": 7,
    "start_time": "2023-08-16T08:10:57.536Z"
   },
   {
    "duration": 6,
    "start_time": "2023-08-16T08:10:58.920Z"
   },
   {
    "duration": 4,
    "start_time": "2023-08-16T08:11:00.245Z"
   },
   {
    "duration": 11,
    "start_time": "2023-08-16T08:11:01.565Z"
   },
   {
    "duration": 292,
    "start_time": "2023-08-16T08:11:03.437Z"
   },
   {
    "duration": 17,
    "start_time": "2023-08-16T08:11:05.965Z"
   },
   {
    "duration": 229,
    "start_time": "2023-08-16T08:11:07.802Z"
   },
   {
    "duration": 12,
    "start_time": "2023-08-16T08:11:10.365Z"
   },
   {
    "duration": 8,
    "start_time": "2023-08-16T08:11:10.874Z"
   },
   {
    "duration": 349,
    "start_time": "2023-08-16T08:11:11.603Z"
   },
   {
    "duration": 14,
    "start_time": "2023-08-16T08:11:15.482Z"
   },
   {
    "duration": 5,
    "start_time": "2023-08-16T08:11:17.236Z"
   },
   {
    "duration": 78,
    "start_time": "2023-08-16T08:11:19.100Z"
   },
   {
    "duration": 11,
    "start_time": "2023-08-16T08:11:20.981Z"
   },
   {
    "duration": 195,
    "start_time": "2023-08-16T08:11:21.867Z"
   },
   {
    "duration": 15,
    "start_time": "2023-08-16T08:11:28.715Z"
   },
   {
    "duration": 4,
    "start_time": "2023-08-16T08:11:30.078Z"
   },
   {
    "duration": 56,
    "start_time": "2023-08-16T08:11:31.775Z"
   },
   {
    "duration": 10,
    "start_time": "2023-08-16T08:11:34.600Z"
   },
   {
    "duration": 3,
    "start_time": "2023-08-16T08:12:02.890Z"
   },
   {
    "duration": 56,
    "start_time": "2023-08-16T08:12:03.650Z"
   },
   {
    "duration": 10,
    "start_time": "2023-08-16T08:12:05.469Z"
   },
   {
    "duration": 3,
    "start_time": "2023-08-16T08:18:29.786Z"
   },
   {
    "duration": 50,
    "start_time": "2023-08-16T08:18:31.490Z"
   },
   {
    "duration": 21,
    "start_time": "2023-08-16T08:18:44.393Z"
   },
   {
    "duration": 12,
    "start_time": "2023-08-16T08:19:09.683Z"
   },
   {
    "duration": 11,
    "start_time": "2023-08-16T08:19:14.782Z"
   },
   {
    "duration": 10,
    "start_time": "2023-08-16T08:19:45.569Z"
   },
   {
    "duration": 27,
    "start_time": "2023-08-16T08:20:36.440Z"
   },
   {
    "duration": 9,
    "start_time": "2023-08-16T08:20:44.592Z"
   },
   {
    "duration": 11,
    "start_time": "2023-08-16T08:23:07.952Z"
   },
   {
    "duration": 7,
    "start_time": "2023-08-16T08:23:29.886Z"
   },
   {
    "duration": 3,
    "start_time": "2023-08-16T08:24:33.884Z"
   },
   {
    "duration": 18,
    "start_time": "2023-08-16T08:24:53.661Z"
   },
   {
    "duration": 63,
    "start_time": "2023-08-16T08:25:06.841Z"
   },
   {
    "duration": 10,
    "start_time": "2023-08-16T08:25:14.958Z"
   },
   {
    "duration": 24,
    "start_time": "2023-08-16T08:26:24.381Z"
   },
   {
    "duration": 9,
    "start_time": "2023-08-16T08:28:20.135Z"
   },
   {
    "duration": 12,
    "start_time": "2023-08-16T08:28:25.410Z"
   },
   {
    "duration": 18,
    "start_time": "2023-08-16T08:28:56.987Z"
   },
   {
    "duration": 10,
    "start_time": "2023-08-16T08:29:18.789Z"
   },
   {
    "duration": 60,
    "start_time": "2023-08-16T08:29:32.618Z"
   },
   {
    "duration": 11,
    "start_time": "2023-08-16T08:29:55.064Z"
   },
   {
    "duration": 793,
    "start_time": "2023-08-16T08:31:31.679Z"
   },
   {
    "duration": 1197,
    "start_time": "2023-08-16T08:31:32.474Z"
   },
   {
    "duration": 13,
    "start_time": "2023-08-16T08:31:33.673Z"
   },
   {
    "duration": 26,
    "start_time": "2023-08-16T08:31:33.687Z"
   },
   {
    "duration": 8,
    "start_time": "2023-08-16T08:31:35.300Z"
   },
   {
    "duration": 18,
    "start_time": "2023-08-16T08:31:37.774Z"
   },
   {
    "duration": 9,
    "start_time": "2023-08-16T08:31:37.847Z"
   },
   {
    "duration": 6,
    "start_time": "2023-08-16T08:31:38.223Z"
   },
   {
    "duration": 7,
    "start_time": "2023-08-16T08:31:38.666Z"
   },
   {
    "duration": 30,
    "start_time": "2023-08-16T08:31:39.179Z"
   },
   {
    "duration": 8,
    "start_time": "2023-08-16T08:31:39.211Z"
   },
   {
    "duration": 6,
    "start_time": "2023-08-16T08:31:39.552Z"
   },
   {
    "duration": 21,
    "start_time": "2023-08-16T08:31:39.820Z"
   },
   {
    "duration": 10,
    "start_time": "2023-08-16T08:31:41.490Z"
   },
   {
    "duration": 9,
    "start_time": "2023-08-16T08:31:42.829Z"
   },
   {
    "duration": 11,
    "start_time": "2023-08-16T08:31:44.192Z"
   },
   {
    "duration": 20,
    "start_time": "2023-08-16T08:31:44.669Z"
   },
   {
    "duration": 12,
    "start_time": "2023-08-16T08:31:46.074Z"
   },
   {
    "duration": 9,
    "start_time": "2023-08-16T08:31:46.412Z"
   },
   {
    "duration": 14,
    "start_time": "2023-08-16T08:31:47.474Z"
   },
   {
    "duration": 13,
    "start_time": "2023-08-16T08:31:49.518Z"
   },
   {
    "duration": 6,
    "start_time": "2023-08-16T08:31:50.842Z"
   },
   {
    "duration": 12,
    "start_time": "2023-08-16T08:31:51.185Z"
   },
   {
    "duration": 13,
    "start_time": "2023-08-16T08:31:51.828Z"
   },
   {
    "duration": 15,
    "start_time": "2023-08-16T08:31:52.821Z"
   },
   {
    "duration": 4,
    "start_time": "2023-08-16T08:31:54.137Z"
   },
   {
    "duration": 9,
    "start_time": "2023-08-16T08:31:54.210Z"
   },
   {
    "duration": 12,
    "start_time": "2023-08-16T08:31:54.574Z"
   },
   {
    "duration": 14,
    "start_time": "2023-08-16T08:31:56.312Z"
   },
   {
    "duration": 4,
    "start_time": "2023-08-16T08:31:56.682Z"
   },
   {
    "duration": 20,
    "start_time": "2023-08-16T08:31:58.190Z"
   },
   {
    "duration": 13,
    "start_time": "2023-08-16T08:32:02.874Z"
   },
   {
    "duration": 5,
    "start_time": "2023-08-16T08:32:04.350Z"
   },
   {
    "duration": 5,
    "start_time": "2023-08-16T08:32:08.230Z"
   },
   {
    "duration": 5,
    "start_time": "2023-08-16T08:32:08.584Z"
   },
   {
    "duration": 7,
    "start_time": "2023-08-16T08:32:09.987Z"
   },
   {
    "duration": 79,
    "start_time": "2023-08-16T08:32:11.912Z"
   },
   {
    "duration": 10,
    "start_time": "2023-08-16T08:32:19.333Z"
   },
   {
    "duration": 6,
    "start_time": "2023-08-16T08:32:32.194Z"
   },
   {
    "duration": 4,
    "start_time": "2023-08-16T08:32:34.025Z"
   },
   {
    "duration": 13,
    "start_time": "2023-08-16T08:32:36.232Z"
   },
   {
    "duration": 335,
    "start_time": "2023-08-16T08:32:37.172Z"
   },
   {
    "duration": 15,
    "start_time": "2023-08-16T08:32:39.335Z"
   },
   {
    "duration": 244,
    "start_time": "2023-08-16T08:32:40.220Z"
   },
   {
    "duration": 13,
    "start_time": "2023-08-16T08:32:42.483Z"
   },
   {
    "duration": 8,
    "start_time": "2023-08-16T08:32:43.383Z"
   },
   {
    "duration": 351,
    "start_time": "2023-08-16T08:32:45.451Z"
   },
   {
    "duration": 15,
    "start_time": "2023-08-16T08:32:48.300Z"
   },
   {
    "duration": 5,
    "start_time": "2023-08-16T08:32:49.122Z"
   },
   {
    "duration": 58,
    "start_time": "2023-08-16T08:32:50.001Z"
   },
   {
    "duration": 11,
    "start_time": "2023-08-16T08:32:50.474Z"
   },
   {
    "duration": 216,
    "start_time": "2023-08-16T08:32:52.064Z"
   },
   {
    "duration": 18,
    "start_time": "2023-08-16T08:32:54.635Z"
   },
   {
    "duration": 4,
    "start_time": "2023-08-16T08:32:56.809Z"
   },
   {
    "duration": 1976,
    "start_time": "2023-08-16T08:33:00.470Z"
   },
   {
    "duration": 11,
    "start_time": "2023-08-16T08:33:42.600Z"
   },
   {
    "duration": 2932,
    "start_time": "2023-08-16T08:33:45.647Z"
   },
   {
    "duration": 13,
    "start_time": "2023-08-16T08:35:06.807Z"
   },
   {
    "duration": 10,
    "start_time": "2023-08-16T08:37:11.153Z"
   },
   {
    "duration": 1804,
    "start_time": "2023-08-16T08:37:13.998Z"
   },
   {
    "duration": 13,
    "start_time": "2023-08-16T08:37:22.657Z"
   },
   {
    "duration": 9,
    "start_time": "2023-08-16T08:37:24.481Z"
   },
   {
    "duration": 2291,
    "start_time": "2023-08-16T08:37:25.807Z"
   },
   {
    "duration": 13,
    "start_time": "2023-08-16T08:38:14.469Z"
   },
   {
    "duration": 3,
    "start_time": "2023-08-16T08:38:16.549Z"
   },
   {
    "duration": 11,
    "start_time": "2023-08-16T08:38:19.999Z"
   },
   {
    "duration": 2404,
    "start_time": "2023-08-16T08:38:20.860Z"
   },
   {
    "duration": 736,
    "start_time": "2023-08-16T08:39:11.978Z"
   },
   {
    "duration": 910,
    "start_time": "2023-08-16T08:39:12.716Z"
   },
   {
    "duration": 12,
    "start_time": "2023-08-16T08:39:13.629Z"
   },
   {
    "duration": 24,
    "start_time": "2023-08-16T08:39:13.677Z"
   },
   {
    "duration": 5,
    "start_time": "2023-08-16T08:39:14.125Z"
   },
   {
    "duration": 13,
    "start_time": "2023-08-16T08:39:16.749Z"
   },
   {
    "duration": 8,
    "start_time": "2023-08-16T08:39:17.108Z"
   },
   {
    "duration": 6,
    "start_time": "2023-08-16T08:39:17.182Z"
   },
   {
    "duration": 6,
    "start_time": "2023-08-16T08:39:17.500Z"
   },
   {
    "duration": 28,
    "start_time": "2023-08-16T08:39:18.240Z"
   },
   {
    "duration": 142,
    "start_time": "2023-08-16T08:39:18.271Z"
   },
   {
    "duration": 4,
    "start_time": "2023-08-16T08:39:18.736Z"
   },
   {
    "duration": 23,
    "start_time": "2023-08-16T08:39:18.742Z"
   },
   {
    "duration": 10,
    "start_time": "2023-08-16T08:39:20.045Z"
   },
   {
    "duration": 7,
    "start_time": "2023-08-16T08:39:21.414Z"
   },
   {
    "duration": 11,
    "start_time": "2023-08-16T08:39:22.633Z"
   },
   {
    "duration": 22,
    "start_time": "2023-08-16T08:39:23.021Z"
   },
   {
    "duration": 9,
    "start_time": "2023-08-16T08:39:23.783Z"
   },
   {
    "duration": 9,
    "start_time": "2023-08-16T08:39:24.279Z"
   },
   {
    "duration": 14,
    "start_time": "2023-08-16T08:39:24.715Z"
   },
   {
    "duration": 17,
    "start_time": "2023-08-16T08:39:25.210Z"
   },
   {
    "duration": 6,
    "start_time": "2023-08-16T08:39:26.930Z"
   },
   {
    "duration": 27,
    "start_time": "2023-08-16T08:39:26.938Z"
   },
   {
    "duration": 12,
    "start_time": "2023-08-16T08:39:27.788Z"
   },
   {
    "duration": 14,
    "start_time": "2023-08-16T08:39:28.134Z"
   },
   {
    "duration": 5,
    "start_time": "2023-08-16T08:39:28.752Z"
   },
   {
    "duration": 8,
    "start_time": "2023-08-16T08:39:29.268Z"
   },
   {
    "duration": 12,
    "start_time": "2023-08-16T08:39:29.300Z"
   },
   {
    "duration": 14,
    "start_time": "2023-08-16T08:39:30.649Z"
   },
   {
    "duration": 6,
    "start_time": "2023-08-16T08:39:30.694Z"
   },
   {
    "duration": 19,
    "start_time": "2023-08-16T08:39:32.468Z"
   },
   {
    "duration": 15,
    "start_time": "2023-08-16T08:39:33.263Z"
   },
   {
    "duration": 4,
    "start_time": "2023-08-16T08:39:34.653Z"
   },
   {
    "duration": 5,
    "start_time": "2023-08-16T08:39:37.519Z"
   },
   {
    "duration": 5,
    "start_time": "2023-08-16T08:39:37.953Z"
   },
   {
    "duration": 7,
    "start_time": "2023-08-16T08:39:38.894Z"
   },
   {
    "duration": 5,
    "start_time": "2023-08-16T08:39:39.665Z"
   },
   {
    "duration": 4,
    "start_time": "2023-08-16T08:39:40.375Z"
   },
   {
    "duration": 14,
    "start_time": "2023-08-16T08:39:41.613Z"
   },
   {
    "duration": 323,
    "start_time": "2023-08-16T08:39:42.018Z"
   },
   {
    "duration": 15,
    "start_time": "2023-08-16T08:39:43.978Z"
   },
   {
    "duration": 231,
    "start_time": "2023-08-16T08:39:44.415Z"
   },
   {
    "duration": 12,
    "start_time": "2023-08-16T08:39:46.318Z"
   },
   {
    "duration": 8,
    "start_time": "2023-08-16T08:39:46.755Z"
   },
   {
    "duration": 363,
    "start_time": "2023-08-16T08:39:47.188Z"
   },
   {
    "duration": 13,
    "start_time": "2023-08-16T08:39:50.204Z"
   },
   {
    "duration": 3,
    "start_time": "2023-08-16T08:39:50.578Z"
   },
   {
    "duration": 54,
    "start_time": "2023-08-16T08:39:51.341Z"
   },
   {
    "duration": 11,
    "start_time": "2023-08-16T08:39:51.840Z"
   },
   {
    "duration": 203,
    "start_time": "2023-08-16T08:39:51.853Z"
   },
   {
    "duration": 13,
    "start_time": "2023-08-16T08:39:54.596Z"
   },
   {
    "duration": 3,
    "start_time": "2023-08-16T08:39:56.099Z"
   },
   {
    "duration": 73,
    "start_time": "2023-08-16T08:39:57.812Z"
   },
   {
    "duration": 1792,
    "start_time": "2023-08-16T08:39:59.121Z"
   },
   {
    "duration": 4,
    "start_time": "2023-08-16T08:40:43.506Z"
   },
   {
    "duration": 15,
    "start_time": "2023-08-16T08:40:43.987Z"
   },
   {
    "duration": 8,
    "start_time": "2023-08-16T08:40:44.361Z"
   },
   {
    "duration": 2091,
    "start_time": "2023-08-16T08:40:44.702Z"
   },
   {
    "duration": 0,
    "start_time": "2023-08-16T08:40:46.795Z"
   },
   {
    "duration": 11,
    "start_time": "2023-08-16T08:41:12.616Z"
   },
   {
    "duration": 59,
    "start_time": "2023-08-16T08:41:14.310Z"
   },
   {
    "duration": 11,
    "start_time": "2023-08-16T08:41:15.639Z"
   },
   {
    "duration": 25,
    "start_time": "2023-08-16T08:41:22.917Z"
   },
   {
    "duration": 183,
    "start_time": "2023-08-16T08:41:52.868Z"
   },
   {
    "duration": 14,
    "start_time": "2023-08-16T08:42:39.050Z"
   },
   {
    "duration": 11,
    "start_time": "2023-08-16T08:42:48.505Z"
   },
   {
    "duration": 170,
    "start_time": "2023-08-16T08:42:51.264Z"
   },
   {
    "duration": 189,
    "start_time": "2023-08-16T08:43:29.826Z"
   },
   {
    "duration": 182,
    "start_time": "2023-08-16T08:43:35.283Z"
   },
   {
    "duration": 4,
    "start_time": "2023-08-16T08:45:17.609Z"
   },
   {
    "duration": 13,
    "start_time": "2023-08-16T08:45:18.060Z"
   },
   {
    "duration": 10,
    "start_time": "2023-08-16T08:45:19.474Z"
   },
   {
    "duration": 2066,
    "start_time": "2023-08-16T08:45:19.846Z"
   },
   {
    "duration": 0,
    "start_time": "2023-08-16T08:45:21.914Z"
   },
   {
    "duration": 0,
    "start_time": "2023-08-16T08:45:21.915Z"
   },
   {
    "duration": 3,
    "start_time": "2023-08-16T08:45:30.909Z"
   },
   {
    "duration": 13,
    "start_time": "2023-08-16T08:45:31.633Z"
   },
   {
    "duration": 12,
    "start_time": "2023-08-16T08:45:32.903Z"
   },
   {
    "duration": 56,
    "start_time": "2023-08-16T08:45:33.335Z"
   },
   {
    "duration": 11,
    "start_time": "2023-08-16T08:45:35.519Z"
   },
   {
    "duration": 185,
    "start_time": "2023-08-16T08:45:37.094Z"
   },
   {
    "duration": 3,
    "start_time": "2023-08-16T08:46:22.481Z"
   },
   {
    "duration": 13,
    "start_time": "2023-08-16T08:46:22.917Z"
   },
   {
    "duration": 11,
    "start_time": "2023-08-16T08:46:28.002Z"
   },
   {
    "duration": 124,
    "start_time": "2023-08-16T08:46:34.417Z"
   },
   {
    "duration": 12,
    "start_time": "2023-08-16T08:46:39.468Z"
   },
   {
    "duration": 172,
    "start_time": "2023-08-16T08:46:40.338Z"
   },
   {
    "duration": 24,
    "start_time": "2023-08-16T08:55:45.361Z"
   },
   {
    "duration": 6,
    "start_time": "2023-08-16T08:55:53.470Z"
   },
   {
    "duration": 7,
    "start_time": "2023-08-16T08:56:11.504Z"
   },
   {
    "duration": 7,
    "start_time": "2023-08-16T08:56:14.223Z"
   },
   {
    "duration": 7,
    "start_time": "2023-08-16T08:56:50.479Z"
   },
   {
    "duration": 5,
    "start_time": "2023-08-16T08:57:32.038Z"
   },
   {
    "duration": 7,
    "start_time": "2023-08-16T08:58:03.831Z"
   },
   {
    "duration": 7,
    "start_time": "2023-08-16T08:58:09.225Z"
   },
   {
    "duration": 1363,
    "start_time": "2023-08-16T09:00:15.730Z"
   },
   {
    "duration": 1320,
    "start_time": "2023-08-16T09:00:19.893Z"
   },
   {
    "duration": 7,
    "start_time": "2023-08-16T09:00:59.360Z"
   },
   {
    "duration": 1401,
    "start_time": "2023-08-16T09:01:40.256Z"
   },
   {
    "duration": 808,
    "start_time": "2023-08-16T09:04:50.826Z"
   },
   {
    "duration": 1041,
    "start_time": "2023-08-16T09:04:51.636Z"
   },
   {
    "duration": 18,
    "start_time": "2023-08-16T09:04:52.680Z"
   },
   {
    "duration": 22,
    "start_time": "2023-08-16T09:04:53.075Z"
   },
   {
    "duration": 5,
    "start_time": "2023-08-16T09:04:56.265Z"
   },
   {
    "duration": 10,
    "start_time": "2023-08-16T09:04:57.923Z"
   },
   {
    "duration": 9,
    "start_time": "2023-08-16T09:04:58.294Z"
   },
   {
    "duration": 9,
    "start_time": "2023-08-16T09:04:58.544Z"
   },
   {
    "duration": 9,
    "start_time": "2023-08-16T09:04:59.046Z"
   },
   {
    "duration": 43,
    "start_time": "2023-08-16T09:04:59.062Z"
   },
   {
    "duration": 17,
    "start_time": "2023-08-16T09:04:59.547Z"
   },
   {
    "duration": 4,
    "start_time": "2023-08-16T09:04:59.979Z"
   },
   {
    "duration": 28,
    "start_time": "2023-08-16T09:04:59.985Z"
   },
   {
    "duration": 13,
    "start_time": "2023-08-16T09:05:02.702Z"
   },
   {
    "duration": 8,
    "start_time": "2023-08-16T09:05:03.424Z"
   },
   {
    "duration": 14,
    "start_time": "2023-08-16T09:05:05.064Z"
   },
   {
    "duration": 26,
    "start_time": "2023-08-16T09:05:05.081Z"
   },
   {
    "duration": 9,
    "start_time": "2023-08-16T09:05:07.674Z"
   },
   {
    "duration": 14,
    "start_time": "2023-08-16T09:05:08.165Z"
   },
   {
    "duration": 13,
    "start_time": "2023-08-16T09:05:09.516Z"
   },
   {
    "duration": 13,
    "start_time": "2023-08-16T09:05:11.407Z"
   },
   {
    "duration": 6,
    "start_time": "2023-08-16T09:05:13.160Z"
   },
   {
    "duration": 13,
    "start_time": "2023-08-16T09:05:13.634Z"
   },
   {
    "duration": 12,
    "start_time": "2023-08-16T09:05:14.808Z"
   },
   {
    "duration": 14,
    "start_time": "2023-08-16T09:05:16.872Z"
   },
   {
    "duration": 4,
    "start_time": "2023-08-16T09:05:19.867Z"
   },
   {
    "duration": 8,
    "start_time": "2023-08-16T09:05:20.249Z"
   },
   {
    "duration": 13,
    "start_time": "2023-08-16T09:05:21.003Z"
   },
   {
    "duration": 14,
    "start_time": "2023-08-16T09:05:22.876Z"
   },
   {
    "duration": 6,
    "start_time": "2023-08-16T09:05:23.749Z"
   },
   {
    "duration": 19,
    "start_time": "2023-08-16T09:05:25.237Z"
   },
   {
    "duration": 13,
    "start_time": "2023-08-16T09:05:27.129Z"
   },
   {
    "duration": 7,
    "start_time": "2023-08-16T09:05:28.873Z"
   },
   {
    "duration": 5,
    "start_time": "2023-08-16T09:05:30.772Z"
   },
   {
    "duration": 5,
    "start_time": "2023-08-16T09:05:31.143Z"
   },
   {
    "duration": 7,
    "start_time": "2023-08-16T09:05:32.759Z"
   },
   {
    "duration": 6,
    "start_time": "2023-08-16T09:05:33.890Z"
   },
   {
    "duration": 5,
    "start_time": "2023-08-16T09:05:35.648Z"
   },
   {
    "duration": 15,
    "start_time": "2023-08-16T09:05:36.784Z"
   },
   {
    "duration": 385,
    "start_time": "2023-08-16T09:05:38.851Z"
   },
   {
    "duration": 16,
    "start_time": "2023-08-16T09:05:41.654Z"
   },
   {
    "duration": 245,
    "start_time": "2023-08-16T09:05:43.370Z"
   },
   {
    "duration": 13,
    "start_time": "2023-08-16T09:05:46.463Z"
   },
   {
    "duration": 10,
    "start_time": "2023-08-16T09:05:46.477Z"
   },
   {
    "duration": 393,
    "start_time": "2023-08-16T09:05:47.185Z"
   },
   {
    "duration": 13,
    "start_time": "2023-08-16T09:05:50.582Z"
   },
   {
    "duration": 4,
    "start_time": "2023-08-16T09:05:51.025Z"
   },
   {
    "duration": 83,
    "start_time": "2023-08-16T09:05:51.480Z"
   },
   {
    "duration": 11,
    "start_time": "2023-08-16T09:05:51.972Z"
   },
   {
    "duration": 200,
    "start_time": "2023-08-16T09:05:53.312Z"
   },
   {
    "duration": 4,
    "start_time": "2023-08-16T09:05:57.002Z"
   },
   {
    "duration": 20,
    "start_time": "2023-08-16T09:05:57.483Z"
   },
   {
    "duration": 10,
    "start_time": "2023-08-16T09:05:58.252Z"
   },
   {
    "duration": 53,
    "start_time": "2023-08-16T09:05:59.332Z"
   },
   {
    "duration": 12,
    "start_time": "2023-08-16T09:06:00.821Z"
   },
   {
    "duration": 170,
    "start_time": "2023-08-16T09:06:01.622Z"
   },
   {
    "duration": 7,
    "start_time": "2023-08-16T09:06:06.174Z"
   },
   {
    "duration": 29,
    "start_time": "2023-08-16T09:06:10.347Z"
   },
   {
    "duration": 9,
    "start_time": "2023-08-16T09:06:48.890Z"
   },
   {
    "duration": 6,
    "start_time": "2023-08-16T09:08:21.388Z"
   },
   {
    "duration": 7,
    "start_time": "2023-08-16T09:08:31.187Z"
   },
   {
    "duration": 6,
    "start_time": "2023-08-16T09:13:20.825Z"
   },
   {
    "duration": 3,
    "start_time": "2023-08-16T09:16:33.032Z"
   },
   {
    "duration": 8,
    "start_time": "2023-08-16T09:16:45.404Z"
   },
   {
    "duration": 6,
    "start_time": "2023-08-16T09:19:45.568Z"
   },
   {
    "duration": 117,
    "start_time": "2023-08-16T09:28:40.193Z"
   },
   {
    "duration": 3,
    "start_time": "2023-08-16T09:28:47.794Z"
   },
   {
    "duration": 57,
    "start_time": "2023-08-16T09:29:59.124Z"
   },
   {
    "duration": 23,
    "start_time": "2023-08-16T09:30:11.552Z"
   },
   {
    "duration": 10,
    "start_time": "2023-08-16T09:30:46.874Z"
   },
   {
    "duration": 75,
    "start_time": "2023-08-16T09:31:44.776Z"
   },
   {
    "duration": 11,
    "start_time": "2023-08-16T09:31:50.049Z"
   },
   {
    "duration": 1230,
    "start_time": "2023-08-16T09:40:16.136Z"
   },
   {
    "duration": 1317,
    "start_time": "2023-08-16T09:40:49.079Z"
   },
   {
    "duration": 29,
    "start_time": "2023-08-16T10:30:16.857Z"
   },
   {
    "duration": 5,
    "start_time": "2023-08-16T10:32:12.682Z"
   },
   {
    "duration": 4,
    "start_time": "2023-08-16T10:32:19.776Z"
   },
   {
    "duration": 8,
    "start_time": "2023-08-16T10:32:36.991Z"
   },
   {
    "duration": 4,
    "start_time": "2023-08-16T10:32:44.897Z"
   },
   {
    "duration": 1355,
    "start_time": "2023-08-16T10:33:05.709Z"
   },
   {
    "duration": 17,
    "start_time": "2023-08-16T11:31:07.350Z"
   },
   {
    "duration": 6,
    "start_time": "2023-08-16T11:31:50.870Z"
   },
   {
    "duration": 10,
    "start_time": "2023-08-16T11:32:31.933Z"
   },
   {
    "duration": 6,
    "start_time": "2023-08-16T11:34:02.761Z"
   },
   {
    "duration": 14,
    "start_time": "2023-08-16T11:34:18.118Z"
   },
   {
    "duration": 11,
    "start_time": "2023-08-16T11:34:26.203Z"
   },
   {
    "duration": 4,
    "start_time": "2023-08-16T11:35:01.660Z"
   },
   {
    "duration": 3,
    "start_time": "2023-08-16T11:35:02.776Z"
   },
   {
    "duration": 12,
    "start_time": "2023-08-16T11:35:15.309Z"
   },
   {
    "duration": 34,
    "start_time": "2023-08-16T11:35:53.954Z"
   },
   {
    "duration": 4,
    "start_time": "2023-08-16T11:41:17.212Z"
   },
   {
    "duration": 4,
    "start_time": "2023-08-16T11:41:43.611Z"
   },
   {
    "duration": 5,
    "start_time": "2023-08-16T11:41:54.035Z"
   },
   {
    "duration": 12,
    "start_time": "2023-08-16T11:42:02.331Z"
   },
   {
    "duration": 26,
    "start_time": "2023-08-16T11:44:14.201Z"
   },
   {
    "duration": 4,
    "start_time": "2023-08-16T11:44:44.037Z"
   },
   {
    "duration": 10,
    "start_time": "2023-08-16T11:44:45.156Z"
   },
   {
    "duration": 13,
    "start_time": "2023-08-16T11:44:53.394Z"
   },
   {
    "duration": 37,
    "start_time": "2023-08-16T11:44:56.035Z"
   },
   {
    "duration": 22,
    "start_time": "2023-08-16T12:04:08.304Z"
   },
   {
    "duration": 139,
    "start_time": "2023-08-16T12:04:10.926Z"
   },
   {
    "duration": 22,
    "start_time": "2023-08-16T12:04:20.152Z"
   },
   {
    "duration": 4,
    "start_time": "2023-08-16T12:04:22.318Z"
   },
   {
    "duration": 4,
    "start_time": "2023-08-16T12:04:23.102Z"
   },
   {
    "duration": 8,
    "start_time": "2023-08-16T12:04:30.667Z"
   },
   {
    "duration": 9,
    "start_time": "2023-08-16T12:06:50.074Z"
   },
   {
    "duration": 8,
    "start_time": "2023-08-16T12:07:06.229Z"
   },
   {
    "duration": 4,
    "start_time": "2023-08-16T12:07:06.914Z"
   },
   {
    "duration": 5,
    "start_time": "2023-08-16T12:07:07.473Z"
   },
   {
    "duration": 10,
    "start_time": "2023-08-16T12:07:44.906Z"
   },
   {
    "duration": 4,
    "start_time": "2023-08-16T12:08:02.098Z"
   },
   {
    "duration": 8,
    "start_time": "2023-08-16T12:08:05.180Z"
   },
   {
    "duration": 25,
    "start_time": "2023-08-16T12:08:06.472Z"
   },
   {
    "duration": 10,
    "start_time": "2023-08-16T12:10:54.068Z"
   },
   {
    "duration": 4,
    "start_time": "2023-08-16T12:10:54.614Z"
   },
   {
    "duration": 4,
    "start_time": "2023-08-16T12:10:55.000Z"
   },
   {
    "duration": 8,
    "start_time": "2023-08-16T12:10:55.541Z"
   },
   {
    "duration": 5,
    "start_time": "2023-08-16T12:11:10.146Z"
   },
   {
    "duration": 14,
    "start_time": "2023-08-16T12:11:12.581Z"
   },
   {
    "duration": 27,
    "start_time": "2023-08-16T12:11:15.370Z"
   },
   {
    "duration": 26,
    "start_time": "2023-08-16T12:11:50.352Z"
   },
   {
    "duration": 15,
    "start_time": "2023-08-16T15:18:42.002Z"
   },
   {
    "duration": 6,
    "start_time": "2023-08-16T15:20:17.383Z"
   },
   {
    "duration": 27,
    "start_time": "2023-08-16T15:22:37.664Z"
   },
   {
    "duration": 20,
    "start_time": "2023-08-16T15:23:13.405Z"
   },
   {
    "duration": 5,
    "start_time": "2023-08-16T15:26:12.256Z"
   },
   {
    "duration": 18,
    "start_time": "2023-08-16T15:26:14.501Z"
   },
   {
    "duration": 805,
    "start_time": "2023-08-16T15:26:24.093Z"
   },
   {
    "duration": 1454,
    "start_time": "2023-08-16T15:26:24.900Z"
   },
   {
    "duration": 15,
    "start_time": "2023-08-16T15:26:26.357Z"
   },
   {
    "duration": 22,
    "start_time": "2023-08-16T15:26:27.060Z"
   },
   {
    "duration": 4,
    "start_time": "2023-08-16T15:26:30.362Z"
   },
   {
    "duration": 10,
    "start_time": "2023-08-16T15:26:32.641Z"
   },
   {
    "duration": 7,
    "start_time": "2023-08-16T15:26:32.987Z"
   },
   {
    "duration": 6,
    "start_time": "2023-08-16T15:26:33.317Z"
   },
   {
    "duration": 6,
    "start_time": "2023-08-16T15:26:33.647Z"
   },
   {
    "duration": 42,
    "start_time": "2023-08-16T15:26:33.972Z"
   },
   {
    "duration": 9,
    "start_time": "2023-08-16T15:26:34.315Z"
   },
   {
    "duration": 6,
    "start_time": "2023-08-16T15:26:34.664Z"
   },
   {
    "duration": 25,
    "start_time": "2023-08-16T15:26:35.015Z"
   },
   {
    "duration": 14,
    "start_time": "2023-08-16T15:26:37.013Z"
   },
   {
    "duration": 9,
    "start_time": "2023-08-16T15:26:38.267Z"
   },
   {
    "duration": 11,
    "start_time": "2023-08-16T15:26:39.535Z"
   },
   {
    "duration": 22,
    "start_time": "2023-08-16T15:26:39.865Z"
   },
   {
    "duration": 13,
    "start_time": "2023-08-16T15:26:41.534Z"
   },
   {
    "duration": 12,
    "start_time": "2023-08-16T15:26:41.872Z"
   },
   {
    "duration": 32,
    "start_time": "2023-08-16T15:26:42.555Z"
   },
   {
    "duration": 19,
    "start_time": "2023-08-16T15:26:44.481Z"
   },
   {
    "duration": 7,
    "start_time": "2023-08-16T15:26:45.865Z"
   },
   {
    "duration": 20,
    "start_time": "2023-08-16T15:26:46.204Z"
   },
   {
    "duration": 18,
    "start_time": "2023-08-16T15:26:47.812Z"
   },
   {
    "duration": 22,
    "start_time": "2023-08-16T15:26:48.188Z"
   },
   {
    "duration": 6,
    "start_time": "2023-08-16T15:27:03.693Z"
   },
   {
    "duration": 10,
    "start_time": "2023-08-16T15:27:04.123Z"
   },
   {
    "duration": 13,
    "start_time": "2023-08-16T15:27:04.608Z"
   },
   {
    "duration": 19,
    "start_time": "2023-08-16T15:27:06.414Z"
   },
   {
    "duration": 6,
    "start_time": "2023-08-16T15:27:06.639Z"
   },
   {
    "duration": 19,
    "start_time": "2023-08-16T15:27:08.322Z"
   },
   {
    "duration": 14,
    "start_time": "2023-08-16T15:27:10.755Z"
   },
   {
    "duration": 6,
    "start_time": "2023-08-16T15:27:13.930Z"
   },
   {
    "duration": 5,
    "start_time": "2023-08-16T15:27:14.312Z"
   },
   {
    "duration": 7,
    "start_time": "2023-08-16T15:27:15.683Z"
   },
   {
    "duration": 5,
    "start_time": "2023-08-16T15:27:16.464Z"
   },
   {
    "duration": 4,
    "start_time": "2023-08-16T15:27:17.232Z"
   },
   {
    "duration": 11,
    "start_time": "2023-08-16T15:27:18.613Z"
   },
   {
    "duration": 287,
    "start_time": "2023-08-16T15:27:19.722Z"
   },
   {
    "duration": 16,
    "start_time": "2023-08-16T15:27:21.824Z"
   },
   {
    "duration": 247,
    "start_time": "2023-08-16T15:27:22.223Z"
   },
   {
    "duration": 14,
    "start_time": "2023-08-16T15:27:25.224Z"
   },
   {
    "duration": 8,
    "start_time": "2023-08-16T15:27:26.832Z"
   },
   {
    "duration": 353,
    "start_time": "2023-08-16T15:27:27.696Z"
   },
   {
    "duration": 15,
    "start_time": "2023-08-16T15:27:30.753Z"
   },
   {
    "duration": 4,
    "start_time": "2023-08-16T15:27:31.624Z"
   },
   {
    "duration": 51,
    "start_time": "2023-08-16T15:27:32.090Z"
   },
   {
    "duration": 11,
    "start_time": "2023-08-16T15:27:32.773Z"
   },
   {
    "duration": 200,
    "start_time": "2023-08-16T15:27:33.242Z"
   },
   {
    "duration": 3,
    "start_time": "2023-08-16T15:27:36.261Z"
   },
   {
    "duration": 14,
    "start_time": "2023-08-16T15:27:36.693Z"
   },
   {
    "duration": 10,
    "start_time": "2023-08-16T15:27:37.138Z"
   },
   {
    "duration": 52,
    "start_time": "2023-08-16T15:27:37.597Z"
   },
   {
    "duration": 10,
    "start_time": "2023-08-16T15:27:38.265Z"
   },
   {
    "duration": 191,
    "start_time": "2023-08-16T15:27:39.181Z"
   },
   {
    "duration": 10,
    "start_time": "2023-08-16T15:27:41.989Z"
   },
   {
    "duration": 14,
    "start_time": "2023-08-16T15:27:45.445Z"
   },
   {
    "duration": 5,
    "start_time": "2023-08-16T15:28:00.625Z"
   },
   {
    "duration": 91,
    "start_time": "2023-08-16T15:28:02.932Z"
   },
   {
    "duration": 4,
    "start_time": "2023-08-16T15:28:18.752Z"
   },
   {
    "duration": 33,
    "start_time": "2023-08-16T15:28:20.228Z"
   },
   {
    "duration": 5,
    "start_time": "2023-08-16T15:29:10.675Z"
   },
   {
    "duration": 2608,
    "start_time": "2023-08-16T15:29:11.829Z"
   },
   {
    "duration": 8,
    "start_time": "2023-08-16T15:34:15.859Z"
   },
   {
    "duration": 5340,
    "start_time": "2023-08-16T15:34:25.005Z"
   },
   {
    "duration": 1172,
    "start_time": "2023-08-17T08:47:01.519Z"
   },
   {
    "duration": 1170,
    "start_time": "2023-08-17T08:47:02.694Z"
   },
   {
    "duration": 13,
    "start_time": "2023-08-17T08:47:03.866Z"
   },
   {
    "duration": 20,
    "start_time": "2023-08-17T08:47:06.800Z"
   },
   {
    "duration": 4,
    "start_time": "2023-08-17T08:47:08.444Z"
   },
   {
    "duration": 12,
    "start_time": "2023-08-17T08:47:10.477Z"
   },
   {
    "duration": 7,
    "start_time": "2023-08-17T08:47:10.795Z"
   },
   {
    "duration": 6,
    "start_time": "2023-08-17T08:47:11.097Z"
   },
   {
    "duration": 7,
    "start_time": "2023-08-17T08:47:11.401Z"
   },
   {
    "duration": 37,
    "start_time": "2023-08-17T08:47:11.698Z"
   },
   {
    "duration": 8,
    "start_time": "2023-08-17T08:47:12.003Z"
   },
   {
    "duration": 5,
    "start_time": "2023-08-17T08:47:12.302Z"
   },
   {
    "duration": 21,
    "start_time": "2023-08-17T08:47:12.598Z"
   },
   {
    "duration": 9,
    "start_time": "2023-08-17T08:47:14.784Z"
   },
   {
    "duration": 7,
    "start_time": "2023-08-17T08:47:15.541Z"
   },
   {
    "duration": 11,
    "start_time": "2023-08-17T08:47:17.606Z"
   },
   {
    "duration": 19,
    "start_time": "2023-08-17T08:47:18.045Z"
   },
   {
    "duration": 8,
    "start_time": "2023-08-17T08:47:20.580Z"
   },
   {
    "duration": 9,
    "start_time": "2023-08-17T08:47:21.132Z"
   },
   {
    "duration": 13,
    "start_time": "2023-08-17T08:47:22.634Z"
   },
   {
    "duration": 12,
    "start_time": "2023-08-17T08:47:24.514Z"
   },
   {
    "duration": 6,
    "start_time": "2023-08-17T08:47:25.861Z"
   },
   {
    "duration": 13,
    "start_time": "2023-08-17T08:47:26.279Z"
   },
   {
    "duration": 11,
    "start_time": "2023-08-17T08:47:27.474Z"
   },
   {
    "duration": 14,
    "start_time": "2023-08-17T08:47:28.189Z"
   },
   {
    "duration": 4,
    "start_time": "2023-08-17T08:47:29.756Z"
   },
   {
    "duration": 9,
    "start_time": "2023-08-17T08:47:30.337Z"
   },
   {
    "duration": 13,
    "start_time": "2023-08-17T08:47:30.748Z"
   },
   {
    "duration": 17,
    "start_time": "2023-08-17T08:47:37.471Z"
   },
   {
    "duration": 5,
    "start_time": "2023-08-17T08:47:37.905Z"
   },
   {
    "duration": 18,
    "start_time": "2023-08-17T08:47:39.970Z"
   },
   {
    "duration": 11,
    "start_time": "2023-08-17T08:47:43.247Z"
   },
   {
    "duration": 4,
    "start_time": "2023-08-17T08:47:45.278Z"
   },
   {
    "duration": 5,
    "start_time": "2023-08-17T08:47:48.287Z"
   },
   {
    "duration": 5,
    "start_time": "2023-08-17T08:47:48.659Z"
   },
   {
    "duration": 5,
    "start_time": "2023-08-17T08:47:51.267Z"
   },
   {
    "duration": 5,
    "start_time": "2023-08-17T08:47:52.097Z"
   },
   {
    "duration": 3,
    "start_time": "2023-08-17T08:47:52.865Z"
   },
   {
    "duration": 12,
    "start_time": "2023-08-17T08:47:54.381Z"
   },
   {
    "duration": 308,
    "start_time": "2023-08-17T08:47:54.798Z"
   },
   {
    "duration": 14,
    "start_time": "2023-08-17T08:47:57.770Z"
   },
   {
    "duration": 237,
    "start_time": "2023-08-17T08:47:59.118Z"
   },
   {
    "duration": 12,
    "start_time": "2023-08-17T08:48:02.784Z"
   },
   {
    "duration": 41,
    "start_time": "2023-08-17T08:48:02.798Z"
   },
   {
    "duration": 352,
    "start_time": "2023-08-17T08:48:03.489Z"
   },
   {
    "duration": 13,
    "start_time": "2023-08-17T08:48:09.939Z"
   },
   {
    "duration": 4,
    "start_time": "2023-08-17T08:48:10.470Z"
   },
   {
    "duration": 56,
    "start_time": "2023-08-17T08:48:11.141Z"
   },
   {
    "duration": 10,
    "start_time": "2023-08-17T08:48:11.844Z"
   },
   {
    "duration": 208,
    "start_time": "2023-08-17T08:48:13.870Z"
   },
   {
    "duration": 4,
    "start_time": "2023-08-17T08:48:19.178Z"
   },
   {
    "duration": 18,
    "start_time": "2023-08-17T08:48:19.653Z"
   },
   {
    "duration": 14,
    "start_time": "2023-08-17T08:48:20.342Z"
   },
   {
    "duration": 61,
    "start_time": "2023-08-17T08:48:20.786Z"
   },
   {
    "duration": 11,
    "start_time": "2023-08-17T08:48:21.221Z"
   },
   {
    "duration": 177,
    "start_time": "2023-08-17T08:48:22.575Z"
   },
   {
    "duration": 9,
    "start_time": "2023-08-17T08:48:25.496Z"
   },
   {
    "duration": 1636,
    "start_time": "2023-08-17T08:48:27.001Z"
   },
   {
    "duration": 1697,
    "start_time": "2023-08-17T08:56:22.352Z"
   },
   {
    "duration": 3,
    "start_time": "2023-08-17T09:09:15.900Z"
   },
   {
    "duration": 5,
    "start_time": "2023-08-17T09:36:02.158Z"
   },
   {
    "duration": 4,
    "start_time": "2023-08-17T09:38:13.185Z"
   },
   {
    "duration": 988,
    "start_time": "2023-08-17T09:39:14.643Z"
   },
   {
    "duration": 3,
    "start_time": "2023-08-17T09:41:06.485Z"
   },
   {
    "duration": 4,
    "start_time": "2023-08-17T09:41:13.394Z"
   },
   {
    "duration": 5,
    "start_time": "2023-08-17T09:41:14.398Z"
   },
   {
    "duration": 4,
    "start_time": "2023-08-17T09:41:15.683Z"
   },
   {
    "duration": 1363,
    "start_time": "2023-08-17T09:41:16.294Z"
   },
   {
    "duration": 4,
    "start_time": "2023-08-17T09:44:05.059Z"
   },
   {
    "duration": 5,
    "start_time": "2023-08-17T09:44:05.773Z"
   },
   {
    "duration": 3,
    "start_time": "2023-08-17T09:44:06.396Z"
   },
   {
    "duration": 1250,
    "start_time": "2023-08-17T09:44:07.036Z"
   },
   {
    "duration": 5,
    "start_time": "2023-08-17T09:46:45.653Z"
   },
   {
    "duration": 5,
    "start_time": "2023-08-17T09:46:46.280Z"
   },
   {
    "duration": 3,
    "start_time": "2023-08-17T09:46:46.954Z"
   },
   {
    "duration": 1488,
    "start_time": "2023-08-17T09:46:47.565Z"
   },
   {
    "duration": 4,
    "start_time": "2023-08-17T09:47:15.989Z"
   },
   {
    "duration": 6,
    "start_time": "2023-08-17T09:47:16.536Z"
   },
   {
    "duration": 4,
    "start_time": "2023-08-17T09:47:16.998Z"
   },
   {
    "duration": 1403,
    "start_time": "2023-08-17T09:47:17.573Z"
   },
   {
    "duration": 767,
    "start_time": "2023-08-17T09:48:32.391Z"
   },
   {
    "duration": 920,
    "start_time": "2023-08-17T09:48:34.130Z"
   },
   {
    "duration": 13,
    "start_time": "2023-08-17T09:48:35.074Z"
   },
   {
    "duration": 22,
    "start_time": "2023-08-17T09:48:35.949Z"
   },
   {
    "duration": 4,
    "start_time": "2023-08-17T09:48:36.531Z"
   },
   {
    "duration": 11,
    "start_time": "2023-08-17T09:48:38.751Z"
   },
   {
    "duration": 7,
    "start_time": "2023-08-17T09:48:39.486Z"
   },
   {
    "duration": 13,
    "start_time": "2023-08-17T09:48:39.495Z"
   },
   {
    "duration": 6,
    "start_time": "2023-08-17T09:48:39.851Z"
   },
   {
    "duration": 32,
    "start_time": "2023-08-17T09:48:39.859Z"
   },
   {
    "duration": 9,
    "start_time": "2023-08-17T09:48:40.122Z"
   },
   {
    "duration": 4,
    "start_time": "2023-08-17T09:48:40.623Z"
   },
   {
    "duration": 19,
    "start_time": "2023-08-17T09:48:40.690Z"
   },
   {
    "duration": 9,
    "start_time": "2023-08-17T09:48:42.017Z"
   },
   {
    "duration": 8,
    "start_time": "2023-08-17T09:48:43.330Z"
   },
   {
    "duration": 10,
    "start_time": "2023-08-17T09:48:44.252Z"
   },
   {
    "duration": 19,
    "start_time": "2023-08-17T09:48:44.516Z"
   },
   {
    "duration": 8,
    "start_time": "2023-08-17T09:48:45.109Z"
   },
   {
    "duration": 8,
    "start_time": "2023-08-17T09:48:45.428Z"
   },
   {
    "duration": 14,
    "start_time": "2023-08-17T09:48:46.018Z"
   },
   {
    "duration": 20,
    "start_time": "2023-08-17T09:48:46.662Z"
   },
   {
    "duration": 6,
    "start_time": "2023-08-17T09:48:47.290Z"
   },
   {
    "duration": 12,
    "start_time": "2023-08-17T09:48:47.604Z"
   },
   {
    "duration": 11,
    "start_time": "2023-08-17T09:48:48.229Z"
   },
   {
    "duration": 13,
    "start_time": "2023-08-17T09:48:48.522Z"
   },
   {
    "duration": 5,
    "start_time": "2023-08-17T09:48:49.174Z"
   },
   {
    "duration": 10,
    "start_time": "2023-08-17T09:48:49.488Z"
   },
   {
    "duration": 14,
    "start_time": "2023-08-17T09:48:49.798Z"
   },
   {
    "duration": 14,
    "start_time": "2023-08-17T09:48:52.016Z"
   },
   {
    "duration": 4,
    "start_time": "2023-08-17T09:48:52.341Z"
   },
   {
    "duration": 18,
    "start_time": "2023-08-17T09:48:53.806Z"
   },
   {
    "duration": 12,
    "start_time": "2023-08-17T09:48:55.947Z"
   },
   {
    "duration": 4,
    "start_time": "2023-08-17T09:48:56.895Z"
   },
   {
    "duration": 5,
    "start_time": "2023-08-17T09:48:59.263Z"
   },
   {
    "duration": 4,
    "start_time": "2023-08-17T09:48:59.518Z"
   },
   {
    "duration": 6,
    "start_time": "2023-08-17T09:49:01.002Z"
   },
   {
    "duration": 5,
    "start_time": "2023-08-17T09:49:01.480Z"
   },
   {
    "duration": 5,
    "start_time": "2023-08-17T09:49:02.290Z"
   },
   {
    "duration": 13,
    "start_time": "2023-08-17T09:49:03.237Z"
   },
   {
    "duration": 301,
    "start_time": "2023-08-17T09:49:04.484Z"
   },
   {
    "duration": 15,
    "start_time": "2023-08-17T09:49:06.452Z"
   },
   {
    "duration": 255,
    "start_time": "2023-08-17T09:49:07.759Z"
   },
   {
    "duration": 12,
    "start_time": "2023-08-17T09:49:10.345Z"
   },
   {
    "duration": 9,
    "start_time": "2023-08-17T09:49:10.954Z"
   },
   {
    "duration": 360,
    "start_time": "2023-08-17T09:49:11.982Z"
   },
   {
    "duration": 15,
    "start_time": "2023-08-17T09:49:15.124Z"
   },
   {
    "duration": 3,
    "start_time": "2023-08-17T09:49:15.656Z"
   },
   {
    "duration": 53,
    "start_time": "2023-08-17T09:49:16.070Z"
   },
   {
    "duration": 15,
    "start_time": "2023-08-17T09:49:16.742Z"
   },
   {
    "duration": 187,
    "start_time": "2023-08-17T09:49:17.270Z"
   },
   {
    "duration": 4,
    "start_time": "2023-08-17T09:49:20.484Z"
   },
   {
    "duration": 14,
    "start_time": "2023-08-17T09:49:20.872Z"
   },
   {
    "duration": 12,
    "start_time": "2023-08-17T09:49:21.782Z"
   },
   {
    "duration": 65,
    "start_time": "2023-08-17T09:49:22.109Z"
   },
   {
    "duration": 11,
    "start_time": "2023-08-17T09:49:22.441Z"
   },
   {
    "duration": 166,
    "start_time": "2023-08-17T09:49:22.840Z"
   },
   {
    "duration": 7,
    "start_time": "2023-08-17T09:49:25.844Z"
   },
   {
    "duration": 1362,
    "start_time": "2023-08-17T09:49:28.551Z"
   },
   {
    "duration": 4,
    "start_time": "2023-08-17T09:49:32.615Z"
   },
   {
    "duration": 7,
    "start_time": "2023-08-17T09:49:34.581Z"
   },
   {
    "duration": 4,
    "start_time": "2023-08-17T09:49:35.827Z"
   },
   {
    "duration": 1730,
    "start_time": "2023-08-17T09:49:37.274Z"
   },
   {
    "duration": 4,
    "start_time": "2023-08-17T09:51:28.468Z"
   },
   {
    "duration": 8,
    "start_time": "2023-08-17T09:51:29.095Z"
   },
   {
    "duration": 3,
    "start_time": "2023-08-17T09:51:30.105Z"
   },
   {
    "duration": 1429,
    "start_time": "2023-08-17T09:51:30.860Z"
   },
   {
    "duration": 4,
    "start_time": "2023-08-17T10:00:03.308Z"
   },
   {
    "duration": 5,
    "start_time": "2023-08-17T10:00:03.608Z"
   },
   {
    "duration": 135,
    "start_time": "2023-08-17T10:00:04.284Z"
   },
   {
    "duration": 5,
    "start_time": "2023-08-17T10:00:10.127Z"
   },
   {
    "duration": 2463,
    "start_time": "2023-08-17T10:00:11.650Z"
   },
   {
    "duration": 333,
    "start_time": "2023-08-17T10:00:50.629Z"
   },
   {
    "duration": 783,
    "start_time": "2023-08-17T10:00:59.226Z"
   },
   {
    "duration": 895,
    "start_time": "2023-08-17T10:01:00.011Z"
   },
   {
    "duration": 14,
    "start_time": "2023-08-17T10:01:00.909Z"
   },
   {
    "duration": 22,
    "start_time": "2023-08-17T10:01:01.356Z"
   },
   {
    "duration": 4,
    "start_time": "2023-08-17T10:01:01.941Z"
   },
   {
    "duration": 17,
    "start_time": "2023-08-17T10:01:04.417Z"
   },
   {
    "duration": 9,
    "start_time": "2023-08-17T10:01:04.726Z"
   },
   {
    "duration": 6,
    "start_time": "2023-08-17T10:01:05.046Z"
   },
   {
    "duration": 6,
    "start_time": "2023-08-17T10:01:05.342Z"
   },
   {
    "duration": 30,
    "start_time": "2023-08-17T10:01:05.646Z"
   },
   {
    "duration": 10,
    "start_time": "2023-08-17T10:01:05.957Z"
   },
   {
    "duration": 4,
    "start_time": "2023-08-17T10:01:06.263Z"
   },
   {
    "duration": 21,
    "start_time": "2023-08-17T10:01:06.584Z"
   },
   {
    "duration": 10,
    "start_time": "2023-08-17T10:01:08.356Z"
   },
   {
    "duration": 8,
    "start_time": "2023-08-17T10:01:09.469Z"
   },
   {
    "duration": 10,
    "start_time": "2023-08-17T10:01:10.795Z"
   },
   {
    "duration": 20,
    "start_time": "2023-08-17T10:01:11.150Z"
   },
   {
    "duration": 8,
    "start_time": "2023-08-17T10:01:12.247Z"
   },
   {
    "duration": 14,
    "start_time": "2023-08-17T10:01:12.554Z"
   },
   {
    "duration": 15,
    "start_time": "2023-08-17T10:01:13.632Z"
   },
   {
    "duration": 14,
    "start_time": "2023-08-17T10:01:15.020Z"
   },
   {
    "duration": 7,
    "start_time": "2023-08-17T10:01:17.071Z"
   },
   {
    "duration": 15,
    "start_time": "2023-08-17T10:01:17.529Z"
   },
   {
    "duration": 15,
    "start_time": "2023-08-17T10:01:18.427Z"
   },
   {
    "duration": 18,
    "start_time": "2023-08-17T10:01:20.026Z"
   },
   {
    "duration": 5,
    "start_time": "2023-08-17T10:01:20.877Z"
   },
   {
    "duration": 11,
    "start_time": "2023-08-17T10:01:21.321Z"
   },
   {
    "duration": 14,
    "start_time": "2023-08-17T10:01:22.430Z"
   },
   {
    "duration": 17,
    "start_time": "2023-08-17T10:01:23.759Z"
   },
   {
    "duration": 5,
    "start_time": "2023-08-17T10:01:24.165Z"
   },
   {
    "duration": 25,
    "start_time": "2023-08-17T10:01:25.514Z"
   },
   {
    "duration": 12,
    "start_time": "2023-08-17T10:01:26.850Z"
   },
   {
    "duration": 6,
    "start_time": "2023-08-17T10:01:29.200Z"
   },
   {
    "duration": 5,
    "start_time": "2023-08-17T10:01:31.242Z"
   },
   {
    "duration": 5,
    "start_time": "2023-08-17T10:01:31.622Z"
   },
   {
    "duration": 7,
    "start_time": "2023-08-17T10:01:33.024Z"
   },
   {
    "duration": 6,
    "start_time": "2023-08-17T10:01:33.974Z"
   },
   {
    "duration": 5,
    "start_time": "2023-08-17T10:01:35.256Z"
   },
   {
    "duration": 15,
    "start_time": "2023-08-17T10:01:36.758Z"
   },
   {
    "duration": 296,
    "start_time": "2023-08-17T10:01:37.176Z"
   },
   {
    "duration": 15,
    "start_time": "2023-08-17T10:01:39.741Z"
   },
   {
    "duration": 259,
    "start_time": "2023-08-17T10:01:40.098Z"
   },
   {
    "duration": 12,
    "start_time": "2023-08-17T10:01:42.510Z"
   },
   {
    "duration": 8,
    "start_time": "2023-08-17T10:01:42.954Z"
   },
   {
    "duration": 361,
    "start_time": "2023-08-17T10:01:43.690Z"
   },
   {
    "duration": 14,
    "start_time": "2023-08-17T10:01:47.024Z"
   },
   {
    "duration": 4,
    "start_time": "2023-08-17T10:01:47.673Z"
   },
   {
    "duration": 54,
    "start_time": "2023-08-17T10:01:48.658Z"
   },
   {
    "duration": 11,
    "start_time": "2023-08-17T10:01:49.109Z"
   },
   {
    "duration": 215,
    "start_time": "2023-08-17T10:01:49.876Z"
   },
   {
    "duration": 3,
    "start_time": "2023-08-17T10:01:52.528Z"
   },
   {
    "duration": 13,
    "start_time": "2023-08-17T10:01:53.287Z"
   },
   {
    "duration": 11,
    "start_time": "2023-08-17T10:01:53.711Z"
   },
   {
    "duration": 60,
    "start_time": "2023-08-17T10:01:54.136Z"
   },
   {
    "duration": 11,
    "start_time": "2023-08-17T10:01:54.895Z"
   },
   {
    "duration": 210,
    "start_time": "2023-08-17T10:01:56.174Z"
   },
   {
    "duration": 6,
    "start_time": "2023-08-17T10:01:58.676Z"
   },
   {
    "duration": 5,
    "start_time": "2023-08-17T10:02:02.395Z"
   },
   {
    "duration": 5,
    "start_time": "2023-08-17T10:02:04.545Z"
   },
   {
    "duration": 3,
    "start_time": "2023-08-17T10:02:06.418Z"
   },
   {
    "duration": 503,
    "start_time": "2023-08-17T10:02:07.843Z"
   },
   {
    "duration": 26,
    "start_time": "2023-08-17T10:02:24.162Z"
   },
   {
    "duration": 4,
    "start_time": "2023-08-17T10:04:24.813Z"
   },
   {
    "duration": 6,
    "start_time": "2023-08-17T10:04:25.483Z"
   },
   {
    "duration": 3,
    "start_time": "2023-08-17T10:04:27.385Z"
   },
   {
    "duration": 357,
    "start_time": "2023-08-17T10:04:28.102Z"
   },
   {
    "duration": 5,
    "start_time": "2023-08-17T10:09:05.783Z"
   },
   {
    "duration": 5,
    "start_time": "2023-08-17T10:09:05.851Z"
   },
   {
    "duration": 3,
    "start_time": "2023-08-17T10:09:06.435Z"
   },
   {
    "duration": 349,
    "start_time": "2023-08-17T10:09:06.895Z"
   },
   {
    "duration": 4,
    "start_time": "2023-08-17T10:10:02.696Z"
   },
   {
    "duration": 5,
    "start_time": "2023-08-17T10:10:03.162Z"
   },
   {
    "duration": 910,
    "start_time": "2023-08-17T10:10:03.630Z"
   },
   {
    "duration": 0,
    "start_time": "2023-08-17T10:10:04.542Z"
   },
   {
    "duration": 4,
    "start_time": "2023-08-17T10:10:14.736Z"
   },
   {
    "duration": 6,
    "start_time": "2023-08-17T10:10:15.420Z"
   },
   {
    "duration": 4,
    "start_time": "2023-08-17T10:10:15.909Z"
   },
   {
    "duration": 371,
    "start_time": "2023-08-17T10:10:17.057Z"
   },
   {
    "duration": 4,
    "start_time": "2023-08-17T10:12:14.754Z"
   },
   {
    "duration": 6,
    "start_time": "2023-08-17T10:12:15.108Z"
   },
   {
    "duration": 4,
    "start_time": "2023-08-17T10:12:15.635Z"
   },
   {
    "duration": 505,
    "start_time": "2023-08-17T10:12:16.299Z"
   },
   {
    "duration": 3,
    "start_time": "2023-08-17T10:18:09.600Z"
   },
   {
    "duration": 5,
    "start_time": "2023-08-17T10:18:10.032Z"
   },
   {
    "duration": 3,
    "start_time": "2023-08-17T10:18:10.533Z"
   },
   {
    "duration": 515,
    "start_time": "2023-08-17T10:18:11.218Z"
   },
   {
    "duration": 3,
    "start_time": "2023-08-17T10:19:17.666Z"
   },
   {
    "duration": 4,
    "start_time": "2023-08-17T10:19:17.733Z"
   },
   {
    "duration": 3,
    "start_time": "2023-08-17T10:19:18.138Z"
   },
   {
    "duration": 698,
    "start_time": "2023-08-17T10:19:18.988Z"
   },
   {
    "duration": 5,
    "start_time": "2023-08-17T10:29:47.080Z"
   },
   {
    "duration": 299,
    "start_time": "2023-08-17T10:30:26.058Z"
   },
   {
    "duration": 84,
    "start_time": "2023-08-17T10:38:45.593Z"
   },
   {
    "duration": 79,
    "start_time": "2023-08-17T10:39:03.192Z"
   },
   {
    "duration": 105,
    "start_time": "2023-08-17T11:08:47.815Z"
   },
   {
    "duration": 21,
    "start_time": "2023-08-17T11:09:08.710Z"
   },
   {
    "duration": 4,
    "start_time": "2023-08-17T12:04:11.661Z"
   },
   {
    "duration": 5,
    "start_time": "2023-08-17T12:04:15.933Z"
   },
   {
    "duration": 3,
    "start_time": "2023-08-17T12:04:24.201Z"
   },
   {
    "duration": 17,
    "start_time": "2023-08-17T12:04:25.795Z"
   },
   {
    "duration": 23,
    "start_time": "2023-08-17T12:04:30.928Z"
   },
   {
    "duration": 3,
    "start_time": "2023-08-17T12:05:37.760Z"
   },
   {
    "duration": 9,
    "start_time": "2023-08-17T12:05:38.305Z"
   },
   {
    "duration": 4,
    "start_time": "2023-08-17T12:05:38.767Z"
   },
   {
    "duration": 38,
    "start_time": "2023-08-17T12:05:39.263Z"
   },
   {
    "duration": 25,
    "start_time": "2023-08-17T12:05:40.294Z"
   },
   {
    "duration": 3,
    "start_time": "2023-08-17T12:08:29.670Z"
   },
   {
    "duration": 5,
    "start_time": "2023-08-17T12:08:30.310Z"
   },
   {
    "duration": 4,
    "start_time": "2023-08-17T12:08:30.829Z"
   },
   {
    "duration": 399,
    "start_time": "2023-08-17T12:08:31.393Z"
   },
   {
    "duration": 29,
    "start_time": "2023-08-17T12:08:32.490Z"
   },
   {
    "duration": 6,
    "start_time": "2023-08-17T12:19:09.775Z"
   },
   {
    "duration": 4,
    "start_time": "2023-08-17T12:19:13.625Z"
   },
   {
    "duration": 4,
    "start_time": "2023-08-17T12:19:15.496Z"
   },
   {
    "duration": 19,
    "start_time": "2023-08-17T12:19:28.694Z"
   },
   {
    "duration": 24,
    "start_time": "2023-08-17T12:19:30.895Z"
   },
   {
    "duration": 5,
    "start_time": "2023-08-17T12:20:16.292Z"
   },
   {
    "duration": 8,
    "start_time": "2023-08-17T12:20:17.298Z"
   },
   {
    "duration": 648,
    "start_time": "2023-08-17T12:20:21.713Z"
   },
   {
    "duration": 27,
    "start_time": "2023-08-17T12:20:23.205Z"
   },
   {
    "duration": 14,
    "start_time": "2023-08-17T12:20:37.375Z"
   },
   {
    "duration": 27,
    "start_time": "2023-08-17T12:20:50.503Z"
   },
   {
    "duration": 4,
    "start_time": "2023-08-17T12:21:36.177Z"
   },
   {
    "duration": 6,
    "start_time": "2023-08-17T12:21:36.736Z"
   },
   {
    "duration": 619,
    "start_time": "2023-08-17T12:21:37.066Z"
   },
   {
    "duration": 26,
    "start_time": "2023-08-17T12:21:37.795Z"
   },
   {
    "duration": 10,
    "start_time": "2023-08-17T12:21:55.246Z"
   },
   {
    "duration": 647,
    "start_time": "2023-08-17T12:22:02.868Z"
   },
   {
    "duration": 721,
    "start_time": "2023-08-17T12:22:07.950Z"
   },
   {
    "duration": 24,
    "start_time": "2023-08-17T12:22:17.954Z"
   },
   {
    "duration": 4,
    "start_time": "2023-08-17T12:24:57.595Z"
   },
   {
    "duration": 5,
    "start_time": "2023-08-17T12:24:59.136Z"
   },
   {
    "duration": 5,
    "start_time": "2023-08-17T12:25:00.056Z"
   },
   {
    "duration": 25,
    "start_time": "2023-08-17T12:25:01.305Z"
   },
   {
    "duration": 6,
    "start_time": "2023-08-17T12:25:27.074Z"
   },
   {
    "duration": 8,
    "start_time": "2023-08-17T12:25:36.896Z"
   },
   {
    "duration": 5,
    "start_time": "2023-08-17T12:25:41.573Z"
   },
   {
    "duration": 743850,
    "start_time": "2023-08-17T12:27:12.859Z"
   },
   {
    "duration": 952,
    "start_time": "2023-08-17T12:39:36.711Z"
   },
   {
    "duration": 277,
    "start_time": "2023-08-17T18:39:05.124Z"
   },
   {
    "duration": 775,
    "start_time": "2023-08-17T18:39:33.766Z"
   },
   {
    "duration": 1121,
    "start_time": "2023-08-17T18:39:34.543Z"
   },
   {
    "duration": 16,
    "start_time": "2023-08-17T18:39:35.773Z"
   },
   {
    "duration": 28,
    "start_time": "2023-08-17T18:39:38.093Z"
   },
   {
    "duration": 4,
    "start_time": "2023-08-17T18:39:39.405Z"
   },
   {
    "duration": 16,
    "start_time": "2023-08-17T18:39:41.168Z"
   },
   {
    "duration": 9,
    "start_time": "2023-08-17T18:39:41.489Z"
   },
   {
    "duration": 9,
    "start_time": "2023-08-17T18:39:41.815Z"
   },
   {
    "duration": 8,
    "start_time": "2023-08-17T18:39:42.105Z"
   },
   {
    "duration": 40,
    "start_time": "2023-08-17T18:39:42.425Z"
   },
   {
    "duration": 12,
    "start_time": "2023-08-17T18:39:42.719Z"
   },
   {
    "duration": 5,
    "start_time": "2023-08-17T18:39:43.042Z"
   },
   {
    "duration": 27,
    "start_time": "2023-08-17T18:39:43.351Z"
   },
   {
    "duration": 10,
    "start_time": "2023-08-17T18:39:45.335Z"
   },
   {
    "duration": 10,
    "start_time": "2023-08-17T18:39:46.648Z"
   },
   {
    "duration": 14,
    "start_time": "2023-08-17T18:39:47.963Z"
   },
   {
    "duration": 26,
    "start_time": "2023-08-17T18:39:48.310Z"
   },
   {
    "duration": 11,
    "start_time": "2023-08-17T18:39:49.556Z"
   },
   {
    "duration": 11,
    "start_time": "2023-08-17T18:39:49.871Z"
   },
   {
    "duration": 14,
    "start_time": "2023-08-17T18:39:50.663Z"
   },
   {
    "duration": 12,
    "start_time": "2023-08-17T18:39:52.190Z"
   },
   {
    "duration": 4,
    "start_time": "2023-08-17T18:39:53.026Z"
   },
   {
    "duration": 11,
    "start_time": "2023-08-17T18:39:53.458Z"
   },
   {
    "duration": 11,
    "start_time": "2023-08-17T18:39:54.647Z"
   },
   {
    "duration": 14,
    "start_time": "2023-08-17T18:39:55.904Z"
   },
   {
    "duration": 4,
    "start_time": "2023-08-17T18:39:57.145Z"
   },
   {
    "duration": 8,
    "start_time": "2023-08-17T18:39:57.555Z"
   },
   {
    "duration": 11,
    "start_time": "2023-08-17T18:39:58.331Z"
   },
   {
    "duration": 13,
    "start_time": "2023-08-17T18:39:59.980Z"
   },
   {
    "duration": 5,
    "start_time": "2023-08-17T18:40:00.803Z"
   },
   {
    "duration": 22,
    "start_time": "2023-08-17T18:40:02.308Z"
   },
   {
    "duration": 12,
    "start_time": "2023-08-17T18:40:03.781Z"
   },
   {
    "duration": 4,
    "start_time": "2023-08-17T18:40:04.715Z"
   },
   {
    "duration": 6,
    "start_time": "2023-08-17T18:40:06.583Z"
   },
   {
    "duration": 6,
    "start_time": "2023-08-17T18:40:06.954Z"
   },
   {
    "duration": 7,
    "start_time": "2023-08-17T18:40:08.593Z"
   },
   {
    "duration": 5,
    "start_time": "2023-08-17T18:40:09.856Z"
   },
   {
    "duration": 5,
    "start_time": "2023-08-17T18:40:10.690Z"
   },
   {
    "duration": 12,
    "start_time": "2023-08-17T18:40:11.943Z"
   },
   {
    "duration": 327,
    "start_time": "2023-08-17T18:40:12.370Z"
   },
   {
    "duration": 14,
    "start_time": "2023-08-17T18:40:15.855Z"
   },
   {
    "duration": 266,
    "start_time": "2023-08-17T18:40:16.204Z"
   },
   {
    "duration": 11,
    "start_time": "2023-08-17T18:40:18.386Z"
   },
   {
    "duration": 7,
    "start_time": "2023-08-17T18:40:18.783Z"
   },
   {
    "duration": 340,
    "start_time": "2023-08-17T18:40:20.326Z"
   },
   {
    "duration": 13,
    "start_time": "2023-08-17T18:40:24.082Z"
   },
   {
    "duration": 4,
    "start_time": "2023-08-17T18:40:24.535Z"
   },
   {
    "duration": 51,
    "start_time": "2023-08-17T18:40:25.024Z"
   },
   {
    "duration": 11,
    "start_time": "2023-08-17T18:40:25.336Z"
   },
   {
    "duration": 199,
    "start_time": "2023-08-17T18:40:27.000Z"
   },
   {
    "duration": 4,
    "start_time": "2023-08-17T18:40:29.381Z"
   },
   {
    "duration": 16,
    "start_time": "2023-08-17T18:40:29.826Z"
   },
   {
    "duration": 9,
    "start_time": "2023-08-17T18:40:30.263Z"
   },
   {
    "duration": 53,
    "start_time": "2023-08-17T18:40:30.740Z"
   },
   {
    "duration": 11,
    "start_time": "2023-08-17T18:40:31.053Z"
   },
   {
    "duration": 181,
    "start_time": "2023-08-17T18:40:31.814Z"
   },
   {
    "duration": 6,
    "start_time": "2023-08-17T18:40:34.651Z"
   },
   {
    "duration": 237,
    "start_time": "2023-08-17T18:40:39.162Z"
   },
   {
    "duration": 253,
    "start_time": "2023-08-17T18:40:42.607Z"
   },
   {
    "duration": 29,
    "start_time": "2023-08-17T18:41:48.900Z"
   },
   {
    "duration": 10,
    "start_time": "2023-08-17T18:42:42.465Z"
   },
   {
    "duration": 37,
    "start_time": "2023-08-17T18:42:44.305Z"
   },
   {
    "duration": 6,
    "start_time": "2023-08-17T18:42:59.209Z"
   },
   {
    "duration": 6,
    "start_time": "2023-08-17T18:43:01.943Z"
   },
   {
    "duration": 79,
    "start_time": "2023-08-17T18:45:07.130Z"
   },
   {
    "duration": 21,
    "start_time": "2023-08-17T18:45:11.788Z"
   },
   {
    "duration": 307,
    "start_time": "2023-08-17T19:06:50.675Z"
   },
   {
    "duration": 7,
    "start_time": "2023-08-17T19:06:51.578Z"
   },
   {
    "duration": 6,
    "start_time": "2023-08-17T19:06:53.965Z"
   },
   {
    "duration": 247,
    "start_time": "2023-08-17T19:08:38.784Z"
   },
   {
    "duration": 6,
    "start_time": "2023-08-17T19:08:39.084Z"
   },
   {
    "duration": 5,
    "start_time": "2023-08-17T19:08:40.941Z"
   },
   {
    "duration": 282,
    "start_time": "2023-08-17T19:08:45.917Z"
   },
   {
    "duration": 6,
    "start_time": "2023-08-17T19:08:46.441Z"
   },
   {
    "duration": 5,
    "start_time": "2023-08-17T19:08:47.717Z"
   },
   {
    "duration": 246,
    "start_time": "2023-08-17T19:11:58.438Z"
   },
   {
    "duration": 6,
    "start_time": "2023-08-17T19:11:59.140Z"
   },
   {
    "duration": 5,
    "start_time": "2023-08-17T19:12:00.456Z"
   },
   {
    "duration": 225,
    "start_time": "2023-08-17T19:13:55.622Z"
   },
   {
    "duration": 8,
    "start_time": "2023-08-17T19:13:55.850Z"
   },
   {
    "duration": 5,
    "start_time": "2023-08-17T19:13:57.232Z"
   },
   {
    "duration": 234,
    "start_time": "2023-08-17T19:16:40.011Z"
   },
   {
    "duration": 6,
    "start_time": "2023-08-17T19:16:40.247Z"
   },
   {
    "duration": 5,
    "start_time": "2023-08-17T19:16:44.084Z"
   },
   {
    "duration": 70,
    "start_time": "2023-08-17T19:16:50.189Z"
   },
   {
    "duration": 9,
    "start_time": "2023-08-17T19:16:58.206Z"
   },
   {
    "duration": 4,
    "start_time": "2023-08-17T19:17:19.448Z"
   },
   {
    "duration": 4,
    "start_time": "2023-08-17T19:17:26.252Z"
   },
   {
    "duration": 244,
    "start_time": "2023-08-17T19:22:40.680Z"
   },
   {
    "duration": 6,
    "start_time": "2023-08-17T19:22:41.416Z"
   },
   {
    "duration": 5,
    "start_time": "2023-08-17T19:22:42.976Z"
   },
   {
    "duration": 32,
    "start_time": "2023-08-17T19:22:49.387Z"
   },
   {
    "duration": 4,
    "start_time": "2023-08-17T19:29:54.075Z"
   },
   {
    "duration": 9,
    "start_time": "2023-08-17T19:30:19.532Z"
   },
   {
    "duration": 27,
    "start_time": "2023-08-17T19:30:25.679Z"
   },
   {
    "duration": 11,
    "start_time": "2023-08-17T19:31:07.947Z"
   },
   {
    "duration": 19,
    "start_time": "2023-08-17T19:31:09.463Z"
   },
   {
    "duration": 315,
    "start_time": "2023-08-17T19:33:26.245Z"
   },
   {
    "duration": 9,
    "start_time": "2023-08-17T19:33:26.562Z"
   },
   {
    "duration": 6,
    "start_time": "2023-08-17T19:33:39.413Z"
   },
   {
    "duration": 6,
    "start_time": "2023-08-17T19:33:42.467Z"
   },
   {
    "duration": 202,
    "start_time": "2023-08-17T19:34:31.098Z"
   },
   {
    "duration": 7,
    "start_time": "2023-08-17T19:34:31.714Z"
   },
   {
    "duration": 5,
    "start_time": "2023-08-17T19:34:33.808Z"
   },
   {
    "duration": 5,
    "start_time": "2023-08-17T19:34:50.782Z"
   },
   {
    "duration": 23,
    "start_time": "2023-08-17T19:36:34.844Z"
   },
   {
    "duration": 22,
    "start_time": "2023-08-17T19:37:37.355Z"
   },
   {
    "duration": 99,
    "start_time": "2023-08-17T19:37:57.099Z"
   },
   {
    "duration": 13,
    "start_time": "2023-08-17T19:38:42.785Z"
   },
   {
    "duration": 879,
    "start_time": "2023-08-18T10:28:20.802Z"
   },
   {
    "duration": 1325,
    "start_time": "2023-08-18T10:28:21.683Z"
   },
   {
    "duration": 14,
    "start_time": "2023-08-18T10:28:25.237Z"
   },
   {
    "duration": 23,
    "start_time": "2023-08-18T10:28:26.616Z"
   },
   {
    "duration": 4,
    "start_time": "2023-08-18T10:28:28.539Z"
   },
   {
    "duration": 10,
    "start_time": "2023-08-18T10:28:30.578Z"
   },
   {
    "duration": 6,
    "start_time": "2023-08-18T10:28:30.981Z"
   },
   {
    "duration": 6,
    "start_time": "2023-08-18T10:28:31.261Z"
   },
   {
    "duration": 6,
    "start_time": "2023-08-18T10:28:31.663Z"
   },
   {
    "duration": 27,
    "start_time": "2023-08-18T10:28:31.901Z"
   },
   {
    "duration": 8,
    "start_time": "2023-08-18T10:28:32.242Z"
   },
   {
    "duration": 4,
    "start_time": "2023-08-18T10:28:32.622Z"
   },
   {
    "duration": 21,
    "start_time": "2023-08-18T10:28:33.147Z"
   },
   {
    "duration": 10,
    "start_time": "2023-08-18T10:28:35.137Z"
   },
   {
    "duration": 7,
    "start_time": "2023-08-18T10:28:36.492Z"
   },
   {
    "duration": 11,
    "start_time": "2023-08-18T10:28:37.901Z"
   },
   {
    "duration": 23,
    "start_time": "2023-08-18T10:28:38.596Z"
   },
   {
    "duration": 8,
    "start_time": "2023-08-18T10:28:41.729Z"
   },
   {
    "duration": 14,
    "start_time": "2023-08-18T10:28:42.608Z"
   },
   {
    "duration": 14,
    "start_time": "2023-08-18T10:28:43.500Z"
   },
   {
    "duration": 13,
    "start_time": "2023-08-18T10:28:45.296Z"
   },
   {
    "duration": 6,
    "start_time": "2023-08-18T10:28:46.796Z"
   },
   {
    "duration": 12,
    "start_time": "2023-08-18T10:28:47.196Z"
   },
   {
    "duration": 13,
    "start_time": "2023-08-18T10:28:48.201Z"
   },
   {
    "duration": 13,
    "start_time": "2023-08-18T10:28:49.372Z"
   },
   {
    "duration": 5,
    "start_time": "2023-08-18T10:28:51.022Z"
   },
   {
    "duration": 9,
    "start_time": "2023-08-18T10:28:51.501Z"
   },
   {
    "duration": 14,
    "start_time": "2023-08-18T10:28:51.996Z"
   },
   {
    "duration": 13,
    "start_time": "2023-08-18T10:28:53.877Z"
   },
   {
    "duration": 4,
    "start_time": "2023-08-18T10:28:54.999Z"
   },
   {
    "duration": 22,
    "start_time": "2023-08-18T10:29:00.397Z"
   },
   {
    "duration": 11,
    "start_time": "2023-08-18T10:29:03.568Z"
   },
   {
    "duration": 4,
    "start_time": "2023-08-18T10:29:04.917Z"
   },
   {
    "duration": 4,
    "start_time": "2023-08-18T10:29:07.434Z"
   },
   {
    "duration": 5,
    "start_time": "2023-08-18T10:29:07.847Z"
   },
   {
    "duration": 6,
    "start_time": "2023-08-18T10:29:09.432Z"
   },
   {
    "duration": 6,
    "start_time": "2023-08-18T10:29:10.768Z"
   },
   {
    "duration": 4,
    "start_time": "2023-08-18T10:29:11.962Z"
   },
   {
    "duration": 10,
    "start_time": "2023-08-18T10:29:13.378Z"
   },
   {
    "duration": 292,
    "start_time": "2023-08-18T10:29:13.977Z"
   },
   {
    "duration": 14,
    "start_time": "2023-08-18T10:29:16.216Z"
   },
   {
    "duration": 239,
    "start_time": "2023-08-18T10:29:16.738Z"
   },
   {
    "duration": 14,
    "start_time": "2023-08-18T10:29:19.021Z"
   },
   {
    "duration": 8,
    "start_time": "2023-08-18T10:29:19.526Z"
   },
   {
    "duration": 350,
    "start_time": "2023-08-18T10:29:20.506Z"
   },
   {
    "duration": 13,
    "start_time": "2023-08-18T10:29:42.281Z"
   },
   {
    "duration": 3,
    "start_time": "2023-08-18T10:29:44.152Z"
   },
   {
    "duration": 54,
    "start_time": "2023-08-18T10:29:44.868Z"
   },
   {
    "duration": 14,
    "start_time": "2023-08-18T10:29:45.494Z"
   },
   {
    "duration": 199,
    "start_time": "2023-08-18T10:29:46.428Z"
   },
   {
    "duration": 3,
    "start_time": "2023-08-18T10:29:49.696Z"
   },
   {
    "duration": 13,
    "start_time": "2023-08-18T10:29:50.201Z"
   },
   {
    "duration": 9,
    "start_time": "2023-08-18T10:29:51.599Z"
   },
   {
    "duration": 51,
    "start_time": "2023-08-18T10:29:52.043Z"
   },
   {
    "duration": 11,
    "start_time": "2023-08-18T10:29:52.542Z"
   },
   {
    "duration": 173,
    "start_time": "2023-08-18T10:29:53.215Z"
   },
   {
    "duration": 6,
    "start_time": "2023-08-18T10:29:56.462Z"
   },
   {
    "duration": 268,
    "start_time": "2023-08-18T10:30:15.270Z"
   },
   {
    "duration": 7,
    "start_time": "2023-08-18T10:32:07.798Z"
   },
   {
    "duration": 9,
    "start_time": "2023-08-18T10:33:37.024Z"
   },
   {
    "duration": 262,
    "start_time": "2023-08-18T10:36:38.908Z"
   },
   {
    "duration": 4,
    "start_time": "2023-08-18T10:37:29.792Z"
   },
   {
    "duration": 12,
    "start_time": "2023-08-18T10:37:36.797Z"
   },
   {
    "duration": 203,
    "start_time": "2023-08-18T10:37:39.592Z"
   },
   {
    "duration": 79,
    "start_time": "2023-08-18T10:42:26.027Z"
   },
   {
    "duration": 12,
    "start_time": "2023-08-18T10:42:35.009Z"
   },
   {
    "duration": 11,
    "start_time": "2023-08-18T10:43:03.110Z"
   },
   {
    "duration": 5,
    "start_time": "2023-08-18T10:45:32.912Z"
   },
   {
    "duration": 5,
    "start_time": "2023-08-18T10:45:44.856Z"
   },
   {
    "duration": 4,
    "start_time": "2023-08-18T10:45:51.473Z"
   },
   {
    "duration": 5,
    "start_time": "2023-08-18T10:50:07.075Z"
   },
   {
    "duration": 10,
    "start_time": "2023-08-18T10:50:11.291Z"
   },
   {
    "duration": 205,
    "start_time": "2023-08-18T10:50:13.489Z"
   },
   {
    "duration": 228,
    "start_time": "2023-08-18T10:52:09.232Z"
   },
   {
    "duration": 11,
    "start_time": "2023-08-18T10:57:55.250Z"
   },
   {
    "duration": 10,
    "start_time": "2023-08-18T10:59:21.921Z"
   },
   {
    "duration": 12,
    "start_time": "2023-08-18T10:59:28.610Z"
   },
   {
    "duration": 13,
    "start_time": "2023-08-18T10:59:51.048Z"
   },
   {
    "duration": 12,
    "start_time": "2023-08-18T10:59:58.337Z"
   },
   {
    "duration": 4,
    "start_time": "2023-08-18T11:00:36.960Z"
   },
   {
    "duration": 11,
    "start_time": "2023-08-18T11:00:39.601Z"
   },
   {
    "duration": 8,
    "start_time": "2023-08-18T11:00:45.669Z"
   },
   {
    "duration": 485,
    "start_time": "2023-08-18T11:01:04.206Z"
   },
   {
    "duration": 6,
    "start_time": "2023-08-18T11:01:38.422Z"
   },
   {
    "duration": 13,
    "start_time": "2023-08-18T11:01:44.470Z"
   },
   {
    "duration": 4,
    "start_time": "2023-08-18T11:02:27.915Z"
   },
   {
    "duration": 22,
    "start_time": "2023-08-18T11:02:29.740Z"
   },
   {
    "duration": 685,
    "start_time": "2023-08-18T11:02:42.011Z"
   },
   {
    "duration": 1056,
    "start_time": "2023-08-18T11:02:42.698Z"
   },
   {
    "duration": 13,
    "start_time": "2023-08-18T11:02:44.060Z"
   },
   {
    "duration": 22,
    "start_time": "2023-08-18T11:02:46.008Z"
   },
   {
    "duration": 4,
    "start_time": "2023-08-18T11:02:47.624Z"
   },
   {
    "duration": 11,
    "start_time": "2023-08-18T11:02:49.898Z"
   },
   {
    "duration": 7,
    "start_time": "2023-08-18T11:02:50.339Z"
   },
   {
    "duration": 15,
    "start_time": "2023-08-18T11:02:50.349Z"
   },
   {
    "duration": 6,
    "start_time": "2023-08-18T11:02:50.806Z"
   },
   {
    "duration": 28,
    "start_time": "2023-08-18T11:02:51.102Z"
   },
   {
    "duration": 9,
    "start_time": "2023-08-18T11:02:51.502Z"
   },
   {
    "duration": 5,
    "start_time": "2023-08-18T11:02:51.969Z"
   },
   {
    "duration": 18,
    "start_time": "2023-08-18T11:02:53.108Z"
   },
   {
    "duration": 9,
    "start_time": "2023-08-18T11:03:00.936Z"
   },
   {
    "duration": 8,
    "start_time": "2023-08-18T11:03:01.951Z"
   },
   {
    "duration": 10,
    "start_time": "2023-08-18T11:03:03.735Z"
   },
   {
    "duration": 18,
    "start_time": "2023-08-18T11:03:04.210Z"
   },
   {
    "duration": 9,
    "start_time": "2023-08-18T11:03:06.029Z"
   },
   {
    "duration": 10,
    "start_time": "2023-08-18T11:03:06.415Z"
   },
   {
    "duration": 14,
    "start_time": "2023-08-18T11:03:07.620Z"
   },
   {
    "duration": 12,
    "start_time": "2023-08-18T11:03:09.747Z"
   },
   {
    "duration": 5,
    "start_time": "2023-08-18T11:03:10.903Z"
   },
   {
    "duration": 11,
    "start_time": "2023-08-18T11:03:11.375Z"
   },
   {
    "duration": 12,
    "start_time": "2023-08-18T11:03:12.729Z"
   },
   {
    "duration": 13,
    "start_time": "2023-08-18T11:03:13.714Z"
   },
   {
    "duration": 5,
    "start_time": "2023-08-18T11:03:15.468Z"
   },
   {
    "duration": 9,
    "start_time": "2023-08-18T11:03:15.872Z"
   },
   {
    "duration": 11,
    "start_time": "2023-08-18T11:03:16.323Z"
   },
   {
    "duration": 12,
    "start_time": "2023-08-18T11:03:17.923Z"
   },
   {
    "duration": 5,
    "start_time": "2023-08-18T11:03:18.315Z"
   },
   {
    "duration": 18,
    "start_time": "2023-08-18T11:03:20.063Z"
   },
   {
    "duration": 13,
    "start_time": "2023-08-18T11:03:21.635Z"
   },
   {
    "duration": 4,
    "start_time": "2023-08-18T11:03:23.142Z"
   },
   {
    "duration": 5,
    "start_time": "2023-08-18T11:03:25.318Z"
   },
   {
    "duration": 6,
    "start_time": "2023-08-18T11:03:25.805Z"
   },
   {
    "duration": 6,
    "start_time": "2023-08-18T11:03:27.812Z"
   },
   {
    "duration": 5,
    "start_time": "2023-08-18T11:03:29.110Z"
   },
   {
    "duration": 5,
    "start_time": "2023-08-18T11:03:30.306Z"
   },
   {
    "duration": 13,
    "start_time": "2023-08-18T11:03:31.799Z"
   },
   {
    "duration": 306,
    "start_time": "2023-08-18T11:03:33.630Z"
   },
   {
    "duration": 14,
    "start_time": "2023-08-18T11:03:36.912Z"
   },
   {
    "duration": 244,
    "start_time": "2023-08-18T11:03:37.337Z"
   },
   {
    "duration": 13,
    "start_time": "2023-08-18T11:03:40.810Z"
   },
   {
    "duration": 7,
    "start_time": "2023-08-18T11:03:41.263Z"
   },
   {
    "duration": 337,
    "start_time": "2023-08-18T11:03:41.922Z"
   },
   {
    "duration": 13,
    "start_time": "2023-08-18T11:03:49.309Z"
   },
   {
    "duration": 4,
    "start_time": "2023-08-18T11:03:49.930Z"
   },
   {
    "duration": 56,
    "start_time": "2023-08-18T11:03:50.502Z"
   },
   {
    "duration": 10,
    "start_time": "2023-08-18T11:03:51.040Z"
   },
   {
    "duration": 182,
    "start_time": "2023-08-18T11:03:52.041Z"
   },
   {
    "duration": 4,
    "start_time": "2023-08-18T11:03:54.760Z"
   },
   {
    "duration": 13,
    "start_time": "2023-08-18T11:03:55.165Z"
   },
   {
    "duration": 9,
    "start_time": "2023-08-18T11:03:56.040Z"
   },
   {
    "duration": 50,
    "start_time": "2023-08-18T11:03:56.416Z"
   },
   {
    "duration": 11,
    "start_time": "2023-08-18T11:03:56.809Z"
   },
   {
    "duration": 187,
    "start_time": "2023-08-18T11:03:58.156Z"
   },
   {
    "duration": 7,
    "start_time": "2023-08-18T11:04:00.765Z"
   },
   {
    "duration": 269,
    "start_time": "2023-08-18T11:04:02.628Z"
   },
   {
    "duration": 7,
    "start_time": "2023-08-18T11:04:03.515Z"
   },
   {
    "duration": 5,
    "start_time": "2023-08-18T11:04:05.253Z"
   },
   {
    "duration": 10,
    "start_time": "2023-08-18T11:04:05.875Z"
   },
   {
    "duration": 220,
    "start_time": "2023-08-18T11:04:07.608Z"
   },
   {
    "duration": 11,
    "start_time": "2023-08-18T11:04:10.411Z"
   },
   {
    "duration": 198,
    "start_time": "2023-08-18T11:04:10.999Z"
   },
   {
    "duration": 12,
    "start_time": "2023-08-18T11:04:17.003Z"
   },
   {
    "duration": 181,
    "start_time": "2023-08-18T11:05:22.643Z"
   },
   {
    "duration": 14,
    "start_time": "2023-08-18T11:05:38.927Z"
   },
   {
    "duration": 205,
    "start_time": "2023-08-18T11:05:40.973Z"
   },
   {
    "duration": 12,
    "start_time": "2023-08-18T11:11:07.169Z"
   },
   {
    "duration": 13,
    "start_time": "2023-08-18T11:11:40.148Z"
   },
   {
    "duration": 214,
    "start_time": "2023-08-18T11:12:31.704Z"
   },
   {
    "duration": 17,
    "start_time": "2023-08-18T11:19:58.384Z"
   },
   {
    "duration": 22,
    "start_time": "2023-08-18T11:20:39.957Z"
   },
   {
    "duration": 624,
    "start_time": "2023-08-18T12:11:53.502Z"
   },
   {
    "duration": 8,
    "start_time": "2023-08-18T12:23:11.824Z"
   },
   {
    "duration": 109,
    "start_time": "2023-08-18T12:23:16.178Z"
   },
   {
    "duration": 10,
    "start_time": "2023-08-18T12:23:26.318Z"
   },
   {
    "duration": 11,
    "start_time": "2023-08-18T12:23:36.391Z"
   },
   {
    "duration": 13,
    "start_time": "2023-08-18T12:23:46.475Z"
   },
   {
    "duration": 10,
    "start_time": "2023-08-18T12:23:53.834Z"
   },
   {
    "duration": 27,
    "start_time": "2023-08-18T12:23:54.856Z"
   },
   {
    "duration": 9,
    "start_time": "2023-08-18T12:27:55.639Z"
   },
   {
    "duration": 11,
    "start_time": "2023-08-18T12:31:47.315Z"
   },
   {
    "duration": 13,
    "start_time": "2023-08-18T12:31:53.354Z"
   },
   {
    "duration": 20,
    "start_time": "2023-08-18T12:35:06.122Z"
   },
   {
    "duration": 5,
    "start_time": "2023-08-18T12:40:23.879Z"
   },
   {
    "duration": 7,
    "start_time": "2023-08-18T12:42:05.979Z"
   },
   {
    "duration": 228,
    "start_time": "2023-08-18T12:43:22.295Z"
   },
   {
    "duration": 14,
    "start_time": "2023-08-18T12:46:45.213Z"
   },
   {
    "duration": 12,
    "start_time": "2023-08-18T12:47:05.982Z"
   },
   {
    "duration": 7,
    "start_time": "2023-08-18T12:47:14.207Z"
   },
   {
    "duration": 4,
    "start_time": "2023-08-18T12:47:16.409Z"
   },
   {
    "duration": 6,
    "start_time": "2023-08-18T12:48:10.814Z"
   },
   {
    "duration": 22,
    "start_time": "2023-08-18T13:02:32.022Z"
   },
   {
    "duration": 24,
    "start_time": "2023-08-18T13:03:41.113Z"
   },
   {
    "duration": 435,
    "start_time": "2023-08-18T13:05:53.033Z"
   },
   {
    "duration": 392,
    "start_time": "2023-08-18T13:09:52.114Z"
   },
   {
    "duration": 78,
    "start_time": "2023-08-18T13:11:30.406Z"
   },
   {
    "duration": 3494,
    "start_time": "2023-08-18T13:11:45.178Z"
   },
   {
    "duration": 1339,
    "start_time": "2023-08-19T07:41:52.004Z"
   },
   {
    "duration": 1303,
    "start_time": "2023-08-19T07:41:53.345Z"
   },
   {
    "duration": 13,
    "start_time": "2023-08-19T07:41:57.244Z"
   },
   {
    "duration": 19,
    "start_time": "2023-08-19T07:41:58.513Z"
   },
   {
    "duration": 3,
    "start_time": "2023-08-19T07:41:59.943Z"
   },
   {
    "duration": 10,
    "start_time": "2023-08-19T07:42:02.091Z"
   },
   {
    "duration": 7,
    "start_time": "2023-08-19T07:42:02.438Z"
   },
   {
    "duration": 7,
    "start_time": "2023-08-19T07:42:02.756Z"
   },
   {
    "duration": 6,
    "start_time": "2023-08-19T07:42:03.094Z"
   },
   {
    "duration": 25,
    "start_time": "2023-08-19T07:42:03.430Z"
   },
   {
    "duration": 8,
    "start_time": "2023-08-19T07:42:03.758Z"
   },
   {
    "duration": 5,
    "start_time": "2023-08-19T07:42:04.095Z"
   },
   {
    "duration": 19,
    "start_time": "2023-08-19T07:42:04.439Z"
   },
   {
    "duration": 8,
    "start_time": "2023-08-19T07:42:06.844Z"
   },
   {
    "duration": 8,
    "start_time": "2023-08-19T07:42:09.659Z"
   },
   {
    "duration": 10,
    "start_time": "2023-08-19T07:42:10.943Z"
   },
   {
    "duration": 16,
    "start_time": "2023-08-19T07:42:11.299Z"
   },
   {
    "duration": 8,
    "start_time": "2023-08-19T07:42:13.015Z"
   },
   {
    "duration": 7,
    "start_time": "2023-08-19T07:42:13.354Z"
   },
   {
    "duration": 13,
    "start_time": "2023-08-19T07:42:14.633Z"
   },
   {
    "duration": 11,
    "start_time": "2023-08-19T07:42:16.495Z"
   },
   {
    "duration": 4,
    "start_time": "2023-08-19T07:42:18.142Z"
   },
   {
    "duration": 11,
    "start_time": "2023-08-19T07:42:18.563Z"
   },
   {
    "duration": 10,
    "start_time": "2023-08-19T07:42:19.453Z"
   },
   {
    "duration": 12,
    "start_time": "2023-08-19T07:42:20.316Z"
   },
   {
    "duration": 4,
    "start_time": "2023-08-19T07:42:21.367Z"
   },
   {
    "duration": 9,
    "start_time": "2023-08-19T07:42:22.478Z"
   },
   {
    "duration": 10,
    "start_time": "2023-08-19T07:42:22.968Z"
   },
   {
    "duration": 8,
    "start_time": "2023-08-19T07:42:30.068Z"
   },
   {
    "duration": 12,
    "start_time": "2023-08-19T07:42:30.586Z"
   },
   {
    "duration": 11,
    "start_time": "2023-08-19T07:42:33.714Z"
   },
   {
    "duration": 5,
    "start_time": "2023-08-19T07:42:34.349Z"
   },
   {
    "duration": 16,
    "start_time": "2023-08-19T07:42:37.135Z"
   },
   {
    "duration": 13,
    "start_time": "2023-08-19T07:42:38.870Z"
   },
   {
    "duration": 4,
    "start_time": "2023-08-19T07:42:40.508Z"
   },
   {
    "duration": 5,
    "start_time": "2023-08-19T07:42:46.017Z"
   },
   {
    "duration": 4,
    "start_time": "2023-08-19T07:42:46.447Z"
   },
   {
    "duration": 6,
    "start_time": "2023-08-19T07:42:47.990Z"
   },
   {
    "duration": 4,
    "start_time": "2023-08-19T07:42:48.767Z"
   },
   {
    "duration": 4,
    "start_time": "2023-08-19T07:42:52.887Z"
   },
   {
    "duration": 11,
    "start_time": "2023-08-19T07:42:57.761Z"
   },
   {
    "duration": 259,
    "start_time": "2023-08-19T07:42:58.462Z"
   },
   {
    "duration": 12,
    "start_time": "2023-08-19T07:43:00.588Z"
   },
   {
    "duration": 233,
    "start_time": "2023-08-19T07:43:01.483Z"
   },
   {
    "duration": 13,
    "start_time": "2023-08-19T07:43:03.680Z"
   },
   {
    "duration": 7,
    "start_time": "2023-08-19T07:43:04.145Z"
   },
   {
    "duration": 258,
    "start_time": "2023-08-19T07:43:04.961Z"
   },
   {
    "duration": 13,
    "start_time": "2023-08-19T07:43:07.868Z"
   },
   {
    "duration": 4,
    "start_time": "2023-08-19T07:43:08.409Z"
   },
   {
    "duration": 47,
    "start_time": "2023-08-19T07:43:08.902Z"
   },
   {
    "duration": 10,
    "start_time": "2023-08-19T07:43:09.536Z"
   },
   {
    "duration": 171,
    "start_time": "2023-08-19T07:43:10.214Z"
   },
   {
    "duration": 3,
    "start_time": "2023-08-19T07:43:12.486Z"
   },
   {
    "duration": 13,
    "start_time": "2023-08-19T07:43:12.886Z"
   },
   {
    "duration": 10,
    "start_time": "2023-08-19T07:43:14.198Z"
   },
   {
    "duration": 48,
    "start_time": "2023-08-19T07:43:14.210Z"
   },
   {
    "duration": 11,
    "start_time": "2023-08-19T07:43:14.650Z"
   },
   {
    "duration": 154,
    "start_time": "2023-08-19T07:43:15.061Z"
   },
   {
    "duration": 7,
    "start_time": "2023-08-19T07:43:17.464Z"
   },
   {
    "duration": 254,
    "start_time": "2023-08-19T07:43:19.172Z"
   },
   {
    "duration": 6,
    "start_time": "2023-08-19T07:43:20.037Z"
   },
   {
    "duration": 5,
    "start_time": "2023-08-19T07:43:21.401Z"
   },
   {
    "duration": 11,
    "start_time": "2023-08-19T07:43:21.819Z"
   },
   {
    "duration": 215,
    "start_time": "2023-08-19T07:43:22.672Z"
   },
   {
    "duration": 11,
    "start_time": "2023-08-19T07:43:24.853Z"
   },
   {
    "duration": 199,
    "start_time": "2023-08-19T07:43:25.268Z"
   },
   {
    "duration": 9,
    "start_time": "2023-08-19T07:43:27.231Z"
   },
   {
    "duration": 253,
    "start_time": "2023-08-19T07:43:27.601Z"
   },
   {
    "duration": 11,
    "start_time": "2023-08-19T07:43:30.242Z"
   },
   {
    "duration": 210,
    "start_time": "2023-08-19T07:43:30.601Z"
   },
   {
    "duration": 7,
    "start_time": "2023-08-19T07:53:38.963Z"
   },
   {
    "duration": 7,
    "start_time": "2023-08-19T07:54:00.001Z"
   },
   {
    "duration": 4,
    "start_time": "2023-08-19T07:55:09.019Z"
   },
   {
    "duration": 4,
    "start_time": "2023-08-19T07:55:10.208Z"
   },
   {
    "duration": 19,
    "start_time": "2023-08-19T07:55:10.449Z"
   },
   {
    "duration": 8,
    "start_time": "2023-08-19T07:55:16.571Z"
   },
   {
    "duration": 8,
    "start_time": "2023-08-19T07:55:17.322Z"
   },
   {
    "duration": 9,
    "start_time": "2023-08-19T07:55:19.041Z"
   },
   {
    "duration": 8,
    "start_time": "2023-08-19T07:55:19.377Z"
   },
   {
    "duration": 9,
    "start_time": "2023-08-19T07:55:20.812Z"
   },
   {
    "duration": 8,
    "start_time": "2023-08-19T07:55:21.131Z"
   },
   {
    "duration": 10,
    "start_time": "2023-08-19T07:55:21.799Z"
   },
   {
    "duration": 10,
    "start_time": "2023-08-19T07:55:25.961Z"
   },
   {
    "duration": 118,
    "start_time": "2023-08-19T07:55:27.958Z"
   },
   {
    "duration": 14,
    "start_time": "2023-08-19T07:55:28.272Z"
   },
   {
    "duration": 10,
    "start_time": "2023-08-19T07:55:29.252Z"
   },
   {
    "duration": 14,
    "start_time": "2023-08-19T07:55:32.416Z"
   },
   {
    "duration": 25,
    "start_time": "2023-08-19T07:55:48.867Z"
   },
   {
    "duration": 5,
    "start_time": "2023-08-19T07:55:49.274Z"
   },
   {
    "duration": 6,
    "start_time": "2023-08-19T07:55:49.644Z"
   },
   {
    "duration": 7,
    "start_time": "2023-08-19T07:55:50.033Z"
   },
   {
    "duration": 720,
    "start_time": "2023-08-19T07:55:50.403Z"
   },
   {
    "duration": 0,
    "start_time": "2023-08-19T07:55:51.125Z"
   },
   {
    "duration": 4,
    "start_time": "2023-08-19T07:55:51.134Z"
   },
   {
    "duration": 4,
    "start_time": "2023-08-19T07:55:51.558Z"
   },
   {
    "duration": 1253,
    "start_time": "2023-08-19T07:56:07.129Z"
   },
   {
    "duration": 1285,
    "start_time": "2023-08-19T07:56:08.384Z"
   },
   {
    "duration": 12,
    "start_time": "2023-08-19T07:56:11.377Z"
   },
   {
    "duration": 20,
    "start_time": "2023-08-19T07:56:13.016Z"
   },
   {
    "duration": 4,
    "start_time": "2023-08-19T07:56:14.797Z"
   },
   {
    "duration": 10,
    "start_time": "2023-08-19T07:56:17.494Z"
   },
   {
    "duration": 6,
    "start_time": "2023-08-19T07:56:18.018Z"
   },
   {
    "duration": 5,
    "start_time": "2023-08-19T07:56:18.614Z"
   },
   {
    "duration": 5,
    "start_time": "2023-08-19T07:56:19.181Z"
   },
   {
    "duration": 46,
    "start_time": "2023-08-19T07:56:20.239Z"
   },
   {
    "duration": 7,
    "start_time": "2023-08-19T07:56:21.255Z"
   },
   {
    "duration": 4,
    "start_time": "2023-08-19T07:56:22.030Z"
   },
   {
    "duration": 5,
    "start_time": "2023-08-19T07:56:22.748Z"
   },
   {
    "duration": 15,
    "start_time": "2023-08-19T07:56:23.590Z"
   },
   {
    "duration": 8,
    "start_time": "2023-08-19T07:56:25.677Z"
   },
   {
    "duration": 8,
    "start_time": "2023-08-19T07:56:26.977Z"
   },
   {
    "duration": 10,
    "start_time": "2023-08-19T07:56:28.635Z"
   },
   {
    "duration": 14,
    "start_time": "2023-08-19T07:56:29.165Z"
   },
   {
    "duration": 8,
    "start_time": "2023-08-19T07:56:31.543Z"
   },
   {
    "duration": 8,
    "start_time": "2023-08-19T07:56:32.122Z"
   },
   {
    "duration": 12,
    "start_time": "2023-08-19T07:56:33.698Z"
   },
   {
    "duration": 10,
    "start_time": "2023-08-19T07:56:36.064Z"
   },
   {
    "duration": 5,
    "start_time": "2023-08-19T07:56:37.839Z"
   },
   {
    "duration": 10,
    "start_time": "2023-08-19T07:56:39.001Z"
   },
   {
    "duration": 10,
    "start_time": "2023-08-19T07:56:40.292Z"
   },
   {
    "duration": 11,
    "start_time": "2023-08-19T07:56:40.733Z"
   },
   {
    "duration": 4,
    "start_time": "2023-08-19T07:56:43.324Z"
   },
   {
    "duration": 8,
    "start_time": "2023-08-19T07:56:43.663Z"
   },
   {
    "duration": 10,
    "start_time": "2023-08-19T07:56:44.045Z"
   },
   {
    "duration": 11,
    "start_time": "2023-08-19T07:56:46.553Z"
   },
   {
    "duration": 4,
    "start_time": "2023-08-19T07:56:46.747Z"
   },
   {
    "duration": 15,
    "start_time": "2023-08-19T07:56:49.094Z"
   },
   {
    "duration": 11,
    "start_time": "2023-08-19T07:56:50.773Z"
   },
   {
    "duration": 4,
    "start_time": "2023-08-19T07:56:52.390Z"
   },
   {
    "duration": 4,
    "start_time": "2023-08-19T07:56:54.297Z"
   },
   {
    "duration": 5,
    "start_time": "2023-08-19T07:56:54.727Z"
   },
   {
    "duration": 5,
    "start_time": "2023-08-19T07:56:56.174Z"
   },
   {
    "duration": 5,
    "start_time": "2023-08-19T07:56:57.050Z"
   },
   {
    "duration": 5,
    "start_time": "2023-08-19T07:56:58.031Z"
   },
   {
    "duration": 12,
    "start_time": "2023-08-19T07:56:59.376Z"
   },
   {
    "duration": 270,
    "start_time": "2023-08-19T07:57:00.393Z"
   },
   {
    "duration": 12,
    "start_time": "2023-08-19T07:57:02.928Z"
   },
   {
    "duration": 233,
    "start_time": "2023-08-19T07:57:03.202Z"
   },
   {
    "duration": 11,
    "start_time": "2023-08-19T07:57:06.193Z"
   },
   {
    "duration": 7,
    "start_time": "2023-08-19T07:57:07.102Z"
   },
   {
    "duration": 268,
    "start_time": "2023-08-19T07:57:07.514Z"
   },
   {
    "duration": 11,
    "start_time": "2023-08-19T07:57:10.238Z"
   },
   {
    "duration": 3,
    "start_time": "2023-08-19T07:57:10.685Z"
   },
   {
    "duration": 48,
    "start_time": "2023-08-19T07:57:11.155Z"
   },
   {
    "duration": 9,
    "start_time": "2023-08-19T07:57:12.068Z"
   },
   {
    "duration": 187,
    "start_time": "2023-08-19T07:57:12.773Z"
   },
   {
    "duration": 3,
    "start_time": "2023-08-19T07:57:16.525Z"
   },
   {
    "duration": 11,
    "start_time": "2023-08-19T07:57:16.935Z"
   },
   {
    "duration": 8,
    "start_time": "2023-08-19T07:57:17.562Z"
   },
   {
    "duration": 48,
    "start_time": "2023-08-19T07:57:17.968Z"
   },
   {
    "duration": 10,
    "start_time": "2023-08-19T07:57:18.374Z"
   },
   {
    "duration": 153,
    "start_time": "2023-08-19T07:57:19.089Z"
   },
   {
    "duration": 7,
    "start_time": "2023-08-19T07:57:21.661Z"
   },
   {
    "duration": 280,
    "start_time": "2023-08-19T07:57:22.716Z"
   },
   {
    "duration": 7,
    "start_time": "2023-08-19T07:57:23.181Z"
   },
   {
    "duration": 5,
    "start_time": "2023-08-19T07:57:24.971Z"
   },
   {
    "duration": 12,
    "start_time": "2023-08-19T07:57:25.425Z"
   },
   {
    "duration": 190,
    "start_time": "2023-08-19T07:57:27.253Z"
   },
   {
    "duration": 10,
    "start_time": "2023-08-19T07:57:29.745Z"
   },
   {
    "duration": 199,
    "start_time": "2023-08-19T07:57:30.135Z"
   },
   {
    "duration": 10,
    "start_time": "2023-08-19T07:57:32.328Z"
   },
   {
    "duration": 249,
    "start_time": "2023-08-19T07:57:33.157Z"
   },
   {
    "duration": 11,
    "start_time": "2023-08-19T07:57:35.901Z"
   },
   {
    "duration": 187,
    "start_time": "2023-08-19T07:57:36.869Z"
   },
   {
    "duration": 7,
    "start_time": "2023-08-19T07:57:40.459Z"
   },
   {
    "duration": 7,
    "start_time": "2023-08-19T07:57:41.803Z"
   },
   {
    "duration": 3,
    "start_time": "2023-08-19T08:02:24.664Z"
   },
   {
    "duration": 3,
    "start_time": "2023-08-19T08:03:09.107Z"
   },
   {
    "duration": 7,
    "start_time": "2023-08-19T08:03:15.571Z"
   },
   {
    "duration": 3,
    "start_time": "2023-08-19T08:09:08.837Z"
   },
   {
    "duration": 98,
    "start_time": "2023-08-19T08:10:31.809Z"
   },
   {
    "duration": 11,
    "start_time": "2023-08-19T08:10:54.208Z"
   },
   {
    "duration": 10,
    "start_time": "2023-08-19T08:11:20.974Z"
   },
   {
    "duration": 5,
    "start_time": "2023-08-19T08:14:39.512Z"
   },
   {
    "duration": 5,
    "start_time": "2023-08-19T08:24:26.078Z"
   },
   {
    "duration": 3,
    "start_time": "2023-08-19T08:24:58.682Z"
   },
   {
    "duration": 5,
    "start_time": "2023-08-19T08:25:26.572Z"
   },
   {
    "duration": 4,
    "start_time": "2023-08-19T08:28:17.408Z"
   },
   {
    "duration": 5,
    "start_time": "2023-08-19T08:28:34.935Z"
   },
   {
    "duration": 93,
    "start_time": "2023-08-19T08:29:36.685Z"
   },
   {
    "duration": 16,
    "start_time": "2023-08-19T08:38:13.833Z"
   },
   {
    "duration": 11,
    "start_time": "2023-08-19T08:38:32.526Z"
   },
   {
    "duration": 11,
    "start_time": "2023-08-19T08:40:41.671Z"
   },
   {
    "duration": 7,
    "start_time": "2023-08-19T08:41:48.414Z"
   },
   {
    "duration": 7,
    "start_time": "2023-08-19T08:42:59.106Z"
   },
   {
    "duration": 6,
    "start_time": "2023-08-19T08:45:23.430Z"
   },
   {
    "duration": 8,
    "start_time": "2023-08-19T08:46:32.218Z"
   },
   {
    "duration": 10,
    "start_time": "2023-08-19T08:46:49.000Z"
   },
   {
    "duration": 10,
    "start_time": "2023-08-19T08:46:58.411Z"
   },
   {
    "duration": 12,
    "start_time": "2023-08-19T09:11:25.654Z"
   },
   {
    "duration": 11,
    "start_time": "2023-08-19T09:11:46.665Z"
   },
   {
    "duration": 8,
    "start_time": "2023-08-19T09:13:23.116Z"
   },
   {
    "duration": 72,
    "start_time": "2023-08-19T13:28:05.036Z"
   },
   {
    "duration": 1373,
    "start_time": "2023-08-19T13:28:17.592Z"
   },
   {
    "duration": 1281,
    "start_time": "2023-08-19T13:28:18.968Z"
   },
   {
    "duration": 5,
    "start_time": "2023-08-19T13:28:49.439Z"
   },
   {
    "duration": 1039,
    "start_time": "2023-08-19T13:28:50.561Z"
   },
   {
    "duration": 15,
    "start_time": "2023-08-19T13:28:53.434Z"
   },
   {
    "duration": 23,
    "start_time": "2023-08-19T13:28:54.226Z"
   },
   {
    "duration": 4,
    "start_time": "2023-08-19T13:28:56.194Z"
   },
   {
    "duration": 10,
    "start_time": "2023-08-19T13:28:58.016Z"
   },
   {
    "duration": 7,
    "start_time": "2023-08-19T13:28:58.349Z"
   },
   {
    "duration": 6,
    "start_time": "2023-08-19T13:28:58.677Z"
   },
   {
    "duration": 6,
    "start_time": "2023-08-19T13:28:59.011Z"
   },
   {
    "duration": 29,
    "start_time": "2023-08-19T13:28:59.412Z"
   },
   {
    "duration": 9,
    "start_time": "2023-08-19T13:28:59.940Z"
   },
   {
    "duration": 5,
    "start_time": "2023-08-19T13:29:00.306Z"
   },
   {
    "duration": 5,
    "start_time": "2023-08-19T13:29:00.624Z"
   },
   {
    "duration": 15,
    "start_time": "2023-08-19T13:29:01.017Z"
   },
   {
    "duration": 8,
    "start_time": "2023-08-19T13:29:02.928Z"
   },
   {
    "duration": 11,
    "start_time": "2023-08-19T13:29:04.934Z"
   },
   {
    "duration": 11,
    "start_time": "2023-08-19T13:29:06.847Z"
   },
   {
    "duration": 17,
    "start_time": "2023-08-19T13:29:07.353Z"
   },
   {
    "duration": 11,
    "start_time": "2023-08-19T13:29:08.889Z"
   },
   {
    "duration": 9,
    "start_time": "2023-08-19T13:29:09.326Z"
   },
   {
    "duration": 14,
    "start_time": "2023-08-19T13:29:10.006Z"
   },
   {
    "duration": 12,
    "start_time": "2023-08-19T13:29:11.957Z"
   },
   {
    "duration": 5,
    "start_time": "2023-08-19T13:29:13.378Z"
   },
   {
    "duration": 13,
    "start_time": "2023-08-19T13:29:13.731Z"
   },
   {
    "duration": 13,
    "start_time": "2023-08-19T13:29:14.558Z"
   },
   {
    "duration": 13,
    "start_time": "2023-08-19T13:29:15.451Z"
   },
   {
    "duration": 4,
    "start_time": "2023-08-19T13:29:18.076Z"
   },
   {
    "duration": 9,
    "start_time": "2023-08-19T13:29:18.385Z"
   },
   {
    "duration": 12,
    "start_time": "2023-08-19T13:29:18.761Z"
   },
   {
    "duration": 12,
    "start_time": "2023-08-19T13:29:20.453Z"
   },
   {
    "duration": 6,
    "start_time": "2023-08-19T13:29:20.793Z"
   },
   {
    "duration": 17,
    "start_time": "2023-08-19T13:29:23.220Z"
   },
   {
    "duration": 12,
    "start_time": "2023-08-19T13:29:24.446Z"
   },
   {
    "duration": 4,
    "start_time": "2023-08-19T13:29:25.857Z"
   },
   {
    "duration": 5,
    "start_time": "2023-08-19T13:29:28.334Z"
   },
   {
    "duration": 13,
    "start_time": "2023-08-19T13:29:28.341Z"
   },
   {
    "duration": 6,
    "start_time": "2023-08-19T13:29:29.701Z"
   },
   {
    "duration": 5,
    "start_time": "2023-08-19T13:29:30.445Z"
   },
   {
    "duration": 4,
    "start_time": "2023-08-19T13:29:31.705Z"
   },
   {
    "duration": 13,
    "start_time": "2023-08-19T13:29:33.110Z"
   },
   {
    "duration": 295,
    "start_time": "2023-08-19T13:29:34.152Z"
   },
   {
    "duration": 13,
    "start_time": "2023-08-19T13:29:36.204Z"
   },
   {
    "duration": 231,
    "start_time": "2023-08-19T13:29:36.545Z"
   },
   {
    "duration": 13,
    "start_time": "2023-08-19T13:29:39.021Z"
   },
   {
    "duration": 8,
    "start_time": "2023-08-19T13:29:39.398Z"
   },
   {
    "duration": 272,
    "start_time": "2023-08-19T13:29:40.231Z"
   },
   {
    "duration": 14,
    "start_time": "2023-08-19T13:29:43.853Z"
   },
   {
    "duration": 4,
    "start_time": "2023-08-19T13:29:44.200Z"
   },
   {
    "duration": 53,
    "start_time": "2023-08-19T13:29:45.322Z"
   },
   {
    "duration": 11,
    "start_time": "2023-08-19T13:29:45.756Z"
   },
   {
    "duration": 187,
    "start_time": "2023-08-19T13:29:46.198Z"
   },
   {
    "duration": 3,
    "start_time": "2023-08-19T13:29:48.487Z"
   },
   {
    "duration": 14,
    "start_time": "2023-08-19T13:29:48.926Z"
   },
   {
    "duration": 11,
    "start_time": "2023-08-19T13:29:50.087Z"
   },
   {
    "duration": 56,
    "start_time": "2023-08-19T13:29:50.315Z"
   },
   {
    "duration": 11,
    "start_time": "2023-08-19T13:29:50.635Z"
   },
   {
    "duration": 187,
    "start_time": "2023-08-19T13:29:51.026Z"
   },
   {
    "duration": 10,
    "start_time": "2023-08-19T13:29:55.270Z"
   },
   {
    "duration": 307,
    "start_time": "2023-08-19T13:29:56.434Z"
   },
   {
    "duration": 9,
    "start_time": "2023-08-19T13:29:57.171Z"
   },
   {
    "duration": 4,
    "start_time": "2023-08-19T13:29:58.763Z"
   },
   {
    "duration": 13,
    "start_time": "2023-08-19T13:29:59.108Z"
   },
   {
    "duration": 223,
    "start_time": "2023-08-19T13:29:59.746Z"
   },
   {
    "duration": 12,
    "start_time": "2023-08-19T13:30:01.929Z"
   },
   {
    "duration": 244,
    "start_time": "2023-08-19T13:30:02.319Z"
   },
   {
    "duration": 12,
    "start_time": "2023-08-19T13:30:04.893Z"
   },
   {
    "duration": 304,
    "start_time": "2023-08-19T13:30:04.907Z"
   },
   {
    "duration": 17,
    "start_time": "2023-08-19T13:30:07.352Z"
   },
   {
    "duration": 215,
    "start_time": "2023-08-19T13:30:07.787Z"
   },
   {
    "duration": 12,
    "start_time": "2023-08-19T13:30:11.720Z"
   },
   {
    "duration": 7,
    "start_time": "2023-08-19T13:30:12.889Z"
   },
   {
    "duration": 20,
    "start_time": "2023-08-19T13:30:17.223Z"
   },
   {
    "duration": 14,
    "start_time": "2023-08-19T13:55:39.041Z"
   },
   {
    "duration": 15,
    "start_time": "2023-08-19T14:02:49.165Z"
   },
   {
    "duration": 8,
    "start_time": "2023-08-19T14:04:11.003Z"
   },
   {
    "duration": 8,
    "start_time": "2023-08-19T16:01:04.312Z"
   },
   {
    "duration": 1297,
    "start_time": "2023-08-19T17:00:42.224Z"
   },
   {
    "duration": 1423,
    "start_time": "2023-08-19T17:00:43.524Z"
   },
   {
    "duration": 13,
    "start_time": "2023-08-19T17:00:46.831Z"
   },
   {
    "duration": 26,
    "start_time": "2023-08-19T17:00:55.454Z"
   },
   {
    "duration": 7,
    "start_time": "2023-08-19T17:00:56.964Z"
   },
   {
    "duration": 11,
    "start_time": "2023-08-19T17:01:00.106Z"
   },
   {
    "duration": 49,
    "start_time": "2023-08-19T17:01:00.119Z"
   },
   {
    "duration": 6,
    "start_time": "2023-08-19T17:01:00.478Z"
   },
   {
    "duration": 8,
    "start_time": "2023-08-19T17:01:00.706Z"
   },
   {
    "duration": 38,
    "start_time": "2023-08-19T17:01:01.045Z"
   },
   {
    "duration": 10,
    "start_time": "2023-08-19T17:01:01.381Z"
   },
   {
    "duration": 4,
    "start_time": "2023-08-19T17:01:01.735Z"
   },
   {
    "duration": 4,
    "start_time": "2023-08-19T17:01:02.085Z"
   },
   {
    "duration": 30,
    "start_time": "2023-08-19T17:01:02.449Z"
   },
   {
    "duration": 10,
    "start_time": "2023-08-19T17:01:04.321Z"
   },
   {
    "duration": 8,
    "start_time": "2023-08-19T17:01:05.809Z"
   },
   {
    "duration": 13,
    "start_time": "2023-08-19T17:01:07.446Z"
   },
   {
    "duration": 16,
    "start_time": "2023-08-19T17:01:07.870Z"
   },
   {
    "duration": 8,
    "start_time": "2023-08-19T17:01:09.747Z"
   },
   {
    "duration": 9,
    "start_time": "2023-08-19T17:01:10.107Z"
   },
   {
    "duration": 14,
    "start_time": "2023-08-19T17:01:10.932Z"
   },
   {
    "duration": 11,
    "start_time": "2023-08-19T17:01:12.944Z"
   },
   {
    "duration": 5,
    "start_time": "2023-08-19T17:01:15.712Z"
   },
   {
    "duration": 12,
    "start_time": "2023-08-19T17:01:16.471Z"
   },
   {
    "duration": 17,
    "start_time": "2023-08-19T17:01:17.398Z"
   },
   {
    "duration": 16,
    "start_time": "2023-08-19T17:01:19.134Z"
   },
   {
    "duration": 11,
    "start_time": "2023-08-19T17:01:21.660Z"
   },
   {
    "duration": 11,
    "start_time": "2023-08-19T17:01:22.050Z"
   },
   {
    "duration": 13,
    "start_time": "2023-08-19T17:01:22.570Z"
   },
   {
    "duration": 12,
    "start_time": "2023-08-19T17:01:24.370Z"
   },
   {
    "duration": 5,
    "start_time": "2023-08-19T17:01:24.971Z"
   },
   {
    "duration": 22,
    "start_time": "2023-08-19T17:01:26.769Z"
   },
   {
    "duration": 13,
    "start_time": "2023-08-19T17:01:28.619Z"
   },
   {
    "duration": 4,
    "start_time": "2023-08-19T17:01:30.294Z"
   },
   {
    "duration": 5,
    "start_time": "2023-08-19T17:01:32.209Z"
   },
   {
    "duration": 5,
    "start_time": "2023-08-19T17:01:32.692Z"
   },
   {
    "duration": 6,
    "start_time": "2023-08-19T17:01:33.692Z"
   },
   {
    "duration": 5,
    "start_time": "2023-08-19T17:01:34.838Z"
   },
   {
    "duration": 4,
    "start_time": "2023-08-19T17:01:35.973Z"
   },
   {
    "duration": 12,
    "start_time": "2023-08-19T17:01:38.681Z"
   },
   {
    "duration": 311,
    "start_time": "2023-08-19T17:01:39.210Z"
   },
   {
    "duration": 17,
    "start_time": "2023-08-19T17:01:42.084Z"
   },
   {
    "duration": 253,
    "start_time": "2023-08-19T17:01:43.014Z"
   },
   {
    "duration": 12,
    "start_time": "2023-08-19T17:01:45.378Z"
   },
   {
    "duration": 8,
    "start_time": "2023-08-19T17:01:47.125Z"
   },
   {
    "duration": 298,
    "start_time": "2023-08-19T17:01:47.701Z"
   },
   {
    "duration": 13,
    "start_time": "2023-08-19T17:01:51.576Z"
   },
   {
    "duration": 4,
    "start_time": "2023-08-19T17:01:52.172Z"
   },
   {
    "duration": 87,
    "start_time": "2023-08-19T17:01:54.298Z"
   },
   {
    "duration": 11,
    "start_time": "2023-08-19T17:01:54.910Z"
   },
   {
    "duration": 200,
    "start_time": "2023-08-19T17:01:55.920Z"
   },
   {
    "duration": 3,
    "start_time": "2023-08-19T17:01:58.616Z"
   },
   {
    "duration": 16,
    "start_time": "2023-08-19T17:01:58.985Z"
   },
   {
    "duration": 11,
    "start_time": "2023-08-19T17:02:00.275Z"
   },
   {
    "duration": 65,
    "start_time": "2023-08-19T17:02:00.706Z"
   },
   {
    "duration": 12,
    "start_time": "2023-08-19T17:02:01.172Z"
   },
   {
    "duration": 191,
    "start_time": "2023-08-19T17:02:02.072Z"
   },
   {
    "duration": 8,
    "start_time": "2023-08-19T17:02:05.139Z"
   },
   {
    "duration": 323,
    "start_time": "2023-08-19T17:02:06.207Z"
   },
   {
    "duration": 8,
    "start_time": "2023-08-19T17:02:06.982Z"
   },
   {
    "duration": 5,
    "start_time": "2023-08-19T17:02:07.981Z"
   },
   {
    "duration": 16,
    "start_time": "2023-08-19T17:02:08.393Z"
   },
   {
    "duration": 243,
    "start_time": "2023-08-19T17:02:09.298Z"
   },
   {
    "duration": 13,
    "start_time": "2023-08-19T17:02:38.178Z"
   },
   {
    "duration": 239,
    "start_time": "2023-08-19T17:02:39.109Z"
   },
   {
    "duration": 15,
    "start_time": "2023-08-19T17:02:41.609Z"
   },
   {
    "duration": 308,
    "start_time": "2023-08-19T17:02:42.073Z"
   },
   {
    "duration": 22,
    "start_time": "2023-08-19T17:02:44.145Z"
   },
   {
    "duration": 286,
    "start_time": "2023-08-19T17:02:44.605Z"
   },
   {
    "duration": 15,
    "start_time": "2023-08-19T17:02:48.528Z"
   },
   {
    "duration": 8,
    "start_time": "2023-08-19T17:02:48.977Z"
   },
   {
    "duration": 12,
    "start_time": "2023-08-19T17:02:50.943Z"
   },
   {
    "duration": 11,
    "start_time": "2023-08-19T17:02:53.285Z"
   },
   {
    "duration": 1164,
    "start_time": "2023-08-20T11:25:11.721Z"
   },
   {
    "duration": 1213,
    "start_time": "2023-08-20T11:25:12.886Z"
   },
   {
    "duration": 14,
    "start_time": "2023-08-20T11:25:14.100Z"
   },
   {
    "duration": 41,
    "start_time": "2023-08-20T11:25:14.116Z"
   },
   {
    "duration": 7,
    "start_time": "2023-08-20T11:25:14.159Z"
   },
   {
    "duration": 20,
    "start_time": "2023-08-20T11:25:14.172Z"
   },
   {
    "duration": 5,
    "start_time": "2023-08-20T11:25:14.194Z"
   },
   {
    "duration": 11,
    "start_time": "2023-08-20T11:25:14.201Z"
   },
   {
    "duration": 10,
    "start_time": "2023-08-20T11:25:14.214Z"
   },
   {
    "duration": 34,
    "start_time": "2023-08-20T11:25:14.226Z"
   },
   {
    "duration": 11,
    "start_time": "2023-08-20T11:25:14.262Z"
   },
   {
    "duration": 3,
    "start_time": "2023-08-20T11:25:14.275Z"
   },
   {
    "duration": 9,
    "start_time": "2023-08-20T11:25:14.279Z"
   },
   {
    "duration": 22,
    "start_time": "2023-08-20T11:25:14.289Z"
   },
   {
    "duration": 8,
    "start_time": "2023-08-20T11:25:14.312Z"
   },
   {
    "duration": 8,
    "start_time": "2023-08-20T11:25:14.321Z"
   },
   {
    "duration": 29,
    "start_time": "2023-08-20T11:25:14.330Z"
   },
   {
    "duration": 17,
    "start_time": "2023-08-20T11:25:14.362Z"
   },
   {
    "duration": 7,
    "start_time": "2023-08-20T11:25:14.380Z"
   },
   {
    "duration": 6,
    "start_time": "2023-08-20T11:25:14.388Z"
   },
   {
    "duration": 12,
    "start_time": "2023-08-20T11:25:14.396Z"
   },
   {
    "duration": 48,
    "start_time": "2023-08-20T11:25:14.410Z"
   },
   {
    "duration": 7,
    "start_time": "2023-08-20T11:25:14.460Z"
   },
   {
    "duration": 16,
    "start_time": "2023-08-20T11:25:14.468Z"
   },
   {
    "duration": 14,
    "start_time": "2023-08-20T11:25:14.486Z"
   },
   {
    "duration": 12,
    "start_time": "2023-08-20T11:25:14.503Z"
   },
   {
    "duration": 7,
    "start_time": "2023-08-20T11:25:14.517Z"
   },
   {
    "duration": 30,
    "start_time": "2023-08-20T11:25:14.528Z"
   },
   {
    "duration": 11,
    "start_time": "2023-08-20T11:25:14.561Z"
   },
   {
    "duration": 13,
    "start_time": "2023-08-20T11:25:14.574Z"
   },
   {
    "duration": 3,
    "start_time": "2023-08-20T11:25:14.589Z"
   },
   {
    "duration": 24,
    "start_time": "2023-08-20T11:25:14.594Z"
   },
   {
    "duration": 36,
    "start_time": "2023-08-20T11:25:14.620Z"
   },
   {
    "duration": 12,
    "start_time": "2023-08-20T11:25:14.660Z"
   },
   {
    "duration": 7,
    "start_time": "2023-08-20T11:25:14.674Z"
   },
   {
    "duration": 5,
    "start_time": "2023-08-20T11:25:14.682Z"
   },
   {
    "duration": 5,
    "start_time": "2023-08-20T11:25:14.688Z"
   },
   {
    "duration": 5,
    "start_time": "2023-08-20T11:25:14.695Z"
   },
   {
    "duration": 4,
    "start_time": "2023-08-20T11:25:14.701Z"
   },
   {
    "duration": 45,
    "start_time": "2023-08-20T11:25:14.706Z"
   },
   {
    "duration": 268,
    "start_time": "2023-08-20T11:25:14.756Z"
   },
   {
    "duration": 30,
    "start_time": "2023-08-20T11:25:15.026Z"
   },
   {
    "duration": 231,
    "start_time": "2023-08-20T11:25:15.060Z"
   },
   {
    "duration": 10,
    "start_time": "2023-08-20T11:25:15.293Z"
   },
   {
    "duration": 26,
    "start_time": "2023-08-20T11:25:15.304Z"
   },
   {
    "duration": 294,
    "start_time": "2023-08-20T11:25:15.332Z"
   },
   {
    "duration": 22,
    "start_time": "2023-08-20T11:25:15.628Z"
   },
   {
    "duration": 11,
    "start_time": "2023-08-20T11:25:15.653Z"
   },
   {
    "duration": 74,
    "start_time": "2023-08-20T11:25:15.669Z"
   },
   {
    "duration": 10,
    "start_time": "2023-08-20T11:25:15.745Z"
   },
   {
    "duration": 206,
    "start_time": "2023-08-20T11:25:15.762Z"
   },
   {
    "duration": 2,
    "start_time": "2023-08-20T11:25:15.970Z"
   },
   {
    "duration": 21,
    "start_time": "2023-08-20T11:25:15.974Z"
   },
   {
    "duration": 8,
    "start_time": "2023-08-20T11:25:15.997Z"
   },
   {
    "duration": 77,
    "start_time": "2023-08-20T11:25:16.007Z"
   },
   {
    "duration": 16,
    "start_time": "2023-08-20T11:25:16.087Z"
   },
   {
    "duration": 282,
    "start_time": "2023-08-20T11:25:16.106Z"
   },
   {
    "duration": 9,
    "start_time": "2023-08-20T11:25:16.390Z"
   },
   {
    "duration": 340,
    "start_time": "2023-08-20T11:25:16.403Z"
   },
   {
    "duration": 13,
    "start_time": "2023-08-20T11:25:16.744Z"
   },
   {
    "duration": 7,
    "start_time": "2023-08-20T11:25:16.759Z"
   },
   {
    "duration": 16,
    "start_time": "2023-08-20T11:25:16.767Z"
   },
   {
    "duration": 276,
    "start_time": "2023-08-20T11:25:16.785Z"
   },
   {
    "duration": 13,
    "start_time": "2023-08-20T11:25:17.068Z"
   },
   {
    "duration": 208,
    "start_time": "2023-08-20T11:25:17.083Z"
   },
   {
    "duration": 9,
    "start_time": "2023-08-20T11:25:17.293Z"
   },
   {
    "duration": 209,
    "start_time": "2023-08-20T11:25:17.303Z"
   },
   {
    "duration": 12,
    "start_time": "2023-08-20T11:25:17.513Z"
   },
   {
    "duration": 332,
    "start_time": "2023-08-20T11:25:17.526Z"
   },
   {
    "duration": 12,
    "start_time": "2023-08-20T11:25:17.865Z"
   },
   {
    "duration": 11,
    "start_time": "2023-08-20T11:25:17.879Z"
   },
   {
    "duration": 15,
    "start_time": "2023-08-20T11:25:17.892Z"
   },
   {
    "duration": 16,
    "start_time": "2023-08-20T11:25:17.910Z"
   },
   {
    "duration": 8,
    "start_time": "2023-08-20T12:09:58.701Z"
   },
   {
    "duration": 4,
    "start_time": "2023-08-20T12:10:05.815Z"
   },
   {
    "duration": 3,
    "start_time": "2023-08-20T12:11:29.245Z"
   },
   {
    "duration": 18,
    "start_time": "2023-08-20T12:18:31.783Z"
   },
   {
    "duration": 1274,
    "start_time": "2023-08-20T13:18:47.610Z"
   },
   {
    "duration": 1409,
    "start_time": "2023-08-20T13:18:49.569Z"
   },
   {
    "duration": 12,
    "start_time": "2023-08-20T13:18:54.611Z"
   },
   {
    "duration": 20,
    "start_time": "2023-08-20T13:18:56.554Z"
   },
   {
    "duration": 4,
    "start_time": "2023-08-20T13:18:58.573Z"
   },
   {
    "duration": 10,
    "start_time": "2023-08-20T13:19:01.713Z"
   },
   {
    "duration": 6,
    "start_time": "2023-08-20T13:19:02.312Z"
   },
   {
    "duration": 6,
    "start_time": "2023-08-20T13:19:02.816Z"
   },
   {
    "duration": 6,
    "start_time": "2023-08-20T13:19:03.319Z"
   },
   {
    "duration": 25,
    "start_time": "2023-08-20T13:19:03.809Z"
   },
   {
    "duration": 7,
    "start_time": "2023-08-20T13:19:04.361Z"
   },
   {
    "duration": 4,
    "start_time": "2023-08-20T13:19:52.040Z"
   },
   {
    "duration": 4,
    "start_time": "2023-08-20T13:19:55.103Z"
   },
   {
    "duration": 18,
    "start_time": "2023-08-20T13:19:56.249Z"
   },
   {
    "duration": 8,
    "start_time": "2023-08-20T13:20:01.464Z"
   },
   {
    "duration": 7,
    "start_time": "2023-08-20T13:20:02.171Z"
   },
   {
    "duration": 10,
    "start_time": "2023-08-20T13:20:03.822Z"
   },
   {
    "duration": 23,
    "start_time": "2023-08-20T13:20:04.297Z"
   },
   {
    "duration": 9,
    "start_time": "2023-08-20T13:20:06.244Z"
   },
   {
    "duration": 10,
    "start_time": "2023-08-20T13:20:06.675Z"
   },
   {
    "duration": 12,
    "start_time": "2023-08-20T13:20:08.010Z"
   },
   {
    "duration": 15,
    "start_time": "2023-08-20T13:20:11.547Z"
   },
   {
    "duration": 5,
    "start_time": "2023-08-20T13:20:23.311Z"
   },
   {
    "duration": 12,
    "start_time": "2023-08-20T13:20:24.289Z"
   },
   {
    "duration": 15,
    "start_time": "2023-08-20T13:20:25.974Z"
   },
   {
    "duration": 12,
    "start_time": "2023-08-20T13:20:28.131Z"
   },
   {
    "duration": 4,
    "start_time": "2023-08-20T13:20:38.206Z"
   },
   {
    "duration": 8,
    "start_time": "2023-08-20T13:20:39.340Z"
   },
   {
    "duration": 10,
    "start_time": "2023-08-20T13:20:40.264Z"
   },
   {
    "duration": 12,
    "start_time": "2023-08-20T13:21:52.161Z"
   },
   {
    "duration": 4,
    "start_time": "2023-08-20T13:21:52.762Z"
   },
   {
    "duration": 23,
    "start_time": "2023-08-20T13:21:55.485Z"
   },
   {
    "duration": 11,
    "start_time": "2023-08-20T13:21:57.468Z"
   },
   {
    "duration": 3,
    "start_time": "2023-08-20T13:21:58.782Z"
   },
   {
    "duration": 4,
    "start_time": "2023-08-20T13:22:01.605Z"
   },
   {
    "duration": 4,
    "start_time": "2023-08-20T13:22:02.214Z"
   },
   {
    "duration": 5,
    "start_time": "2023-08-20T13:22:05.269Z"
   },
   {
    "duration": 4,
    "start_time": "2023-08-20T13:22:06.644Z"
   },
   {
    "duration": 4,
    "start_time": "2023-08-20T13:22:08.387Z"
   },
   {
    "duration": 9,
    "start_time": "2023-08-20T13:23:05.627Z"
   },
   {
    "duration": 274,
    "start_time": "2023-08-20T13:23:06.361Z"
   },
   {
    "duration": 101,
    "start_time": "2023-08-20T13:24:25.388Z"
   },
   {
    "duration": 14,
    "start_time": "2023-08-20T13:24:28.551Z"
   },
   {
    "duration": 216,
    "start_time": "2023-08-20T13:24:29.411Z"
   },
   {
    "duration": 4,
    "start_time": "2023-08-20T13:24:53.674Z"
   },
   {
    "duration": 13,
    "start_time": "2023-08-20T13:25:45.372Z"
   },
   {
    "duration": 20,
    "start_time": "2023-08-20T13:33:34.291Z"
   },
   {
    "duration": 15,
    "start_time": "2023-08-20T13:48:48.048Z"
   },
   {
    "duration": 97,
    "start_time": "2023-08-20T13:49:39.825Z"
   },
   {
    "duration": 19,
    "start_time": "2023-08-20T13:50:51.313Z"
   },
   {
    "duration": 15,
    "start_time": "2023-08-20T13:53:57.540Z"
   },
   {
    "duration": 9,
    "start_time": "2023-08-20T13:54:09.592Z"
   },
   {
    "duration": 10,
    "start_time": "2023-08-20T13:54:21.853Z"
   },
   {
    "duration": 8,
    "start_time": "2023-08-20T13:54:23.523Z"
   },
   {
    "duration": 69,
    "start_time": "2023-08-20T13:55:10.629Z"
   },
   {
    "duration": 15,
    "start_time": "2023-08-20T13:55:15.404Z"
   },
   {
    "duration": 52000,
    "start_time": "2023-08-20T13:55:17.590Z"
   },
   {
    "duration": 6,
    "start_time": "2023-08-20T14:04:48.045Z"
   },
   {
    "duration": 20,
    "start_time": "2023-08-20T14:04:52.694Z"
   },
   {
    "duration": 23,
    "start_time": "2023-08-20T14:06:01.064Z"
   },
   {
    "duration": 5,
    "start_time": "2023-08-20T14:08:23.870Z"
   },
   {
    "duration": 21,
    "start_time": "2023-08-20T14:08:26.333Z"
   },
   {
    "duration": 5,
    "start_time": "2023-08-20T14:09:07.897Z"
   },
   {
    "duration": 27,
    "start_time": "2023-08-20T14:09:10.142Z"
   },
   {
    "duration": 5,
    "start_time": "2023-08-20T14:10:49.792Z"
   },
   {
    "duration": 19,
    "start_time": "2023-08-20T14:10:50.419Z"
   },
   {
    "duration": 6,
    "start_time": "2023-08-20T14:12:45.136Z"
   },
   {
    "duration": 28,
    "start_time": "2023-08-20T14:12:46.686Z"
   },
   {
    "duration": 7,
    "start_time": "2023-08-20T14:13:49.248Z"
   },
   {
    "duration": 19,
    "start_time": "2023-08-20T14:13:51.151Z"
   },
   {
    "duration": 441,
    "start_time": "2023-08-20T14:16:24.888Z"
   },
   {
    "duration": 11,
    "start_time": "2023-08-20T14:16:40.341Z"
   },
   {
    "duration": 15,
    "start_time": "2023-08-20T14:19:37.625Z"
   },
   {
    "duration": 24,
    "start_time": "2023-08-20T14:19:47.444Z"
   },
   {
    "duration": 15,
    "start_time": "2023-08-20T14:20:37.270Z"
   },
   {
    "duration": 278,
    "start_time": "2023-08-20T14:20:50.416Z"
   },
   {
    "duration": 247,
    "start_time": "2023-08-20T14:23:41.430Z"
   },
   {
    "duration": 14,
    "start_time": "2023-08-20T14:24:51.282Z"
   },
   {
    "duration": 1094,
    "start_time": "2023-08-20T14:25:41.895Z"
   },
   {
    "duration": 1101,
    "start_time": "2023-08-20T14:25:42.990Z"
   },
   {
    "duration": 12,
    "start_time": "2023-08-20T14:25:44.093Z"
   },
   {
    "duration": 27,
    "start_time": "2023-08-20T14:25:44.244Z"
   },
   {
    "duration": 3,
    "start_time": "2023-08-20T14:25:46.242Z"
   },
   {
    "duration": 9,
    "start_time": "2023-08-20T14:25:48.578Z"
   },
   {
    "duration": 6,
    "start_time": "2023-08-20T14:25:48.938Z"
   },
   {
    "duration": 6,
    "start_time": "2023-08-20T14:25:49.242Z"
   },
   {
    "duration": 6,
    "start_time": "2023-08-20T14:25:49.563Z"
   },
   {
    "duration": 38,
    "start_time": "2023-08-20T14:25:49.890Z"
   },
   {
    "duration": 7,
    "start_time": "2023-08-20T14:25:50.255Z"
   },
   {
    "duration": 4,
    "start_time": "2023-08-20T14:25:52.104Z"
   },
   {
    "duration": 22,
    "start_time": "2023-08-20T14:25:52.445Z"
   },
   {
    "duration": 14,
    "start_time": "2023-08-20T14:25:54.095Z"
   },
   {
    "duration": 8,
    "start_time": "2023-08-20T14:25:55.102Z"
   },
   {
    "duration": 10,
    "start_time": "2023-08-20T14:25:56.677Z"
   },
   {
    "duration": 18,
    "start_time": "2023-08-20T14:25:57.138Z"
   },
   {
    "duration": 10,
    "start_time": "2023-08-20T14:25:57.785Z"
   },
   {
    "duration": 12,
    "start_time": "2023-08-20T14:25:58.300Z"
   },
   {
    "duration": 14,
    "start_time": "2023-08-20T14:25:59.505Z"
   },
   {
    "duration": 12,
    "start_time": "2023-08-20T14:26:00.886Z"
   },
   {
    "duration": 5,
    "start_time": "2023-08-20T14:26:02.019Z"
   },
   {
    "duration": 13,
    "start_time": "2023-08-20T14:26:02.360Z"
   },
   {
    "duration": 11,
    "start_time": "2023-08-20T14:26:03.124Z"
   },
   {
    "duration": 13,
    "start_time": "2023-08-20T14:26:03.863Z"
   },
   {
    "duration": 5,
    "start_time": "2023-08-20T14:26:06.007Z"
   },
   {
    "duration": 8,
    "start_time": "2023-08-20T14:26:06.384Z"
   },
   {
    "duration": 9,
    "start_time": "2023-08-20T14:26:06.755Z"
   },
   {
    "duration": 12,
    "start_time": "2023-08-20T14:26:09.225Z"
   },
   {
    "duration": 5,
    "start_time": "2023-08-20T14:26:09.913Z"
   },
   {
    "duration": 20,
    "start_time": "2023-08-20T14:26:11.968Z"
   },
   {
    "duration": 11,
    "start_time": "2023-08-20T14:26:14.058Z"
   },
   {
    "duration": 3,
    "start_time": "2023-08-20T14:26:15.208Z"
   },
   {
    "duration": 4,
    "start_time": "2023-08-20T14:26:17.630Z"
   },
   {
    "duration": 4,
    "start_time": "2023-08-20T14:26:18.128Z"
   },
   {
    "duration": 5,
    "start_time": "2023-08-20T14:26:19.757Z"
   },
   {
    "duration": 6,
    "start_time": "2023-08-20T14:26:20.611Z"
   },
   {
    "duration": 3,
    "start_time": "2023-08-20T14:26:22.943Z"
   },
   {
    "duration": 10,
    "start_time": "2023-08-20T14:26:24.842Z"
   },
   {
    "duration": 248,
    "start_time": "2023-08-20T14:26:26.646Z"
   },
   {
    "duration": 14,
    "start_time": "2023-08-20T14:26:29.285Z"
   },
   {
    "duration": 220,
    "start_time": "2023-08-20T14:26:32.876Z"
   },
   {
    "duration": 86,
    "start_time": "2023-08-20T14:26:38.180Z"
   },
   {
    "duration": 18,
    "start_time": "2023-08-20T14:33:03.564Z"
   },
   {
    "duration": 1371,
    "start_time": "2023-08-20T14:34:28.003Z"
   },
   {
    "duration": 17,
    "start_time": "2023-08-20T14:35:32.319Z"
   },
   {
    "duration": 17,
    "start_time": "2023-08-20T14:35:39.743Z"
   },
   {
    "duration": 22,
    "start_time": "2023-08-20T14:37:01.489Z"
   },
   {
    "duration": 14,
    "start_time": "2023-08-20T14:37:30.201Z"
   },
   {
    "duration": 21,
    "start_time": "2023-08-20T14:38:00.808Z"
   },
   {
    "duration": 19,
    "start_time": "2023-08-20T14:38:25.419Z"
   },
   {
    "duration": 21,
    "start_time": "2023-08-20T14:39:25.264Z"
   },
   {
    "duration": 22,
    "start_time": "2023-08-20T14:39:35.735Z"
   },
   {
    "duration": 13,
    "start_time": "2023-08-20T14:40:34.572Z"
   },
   {
    "duration": 20,
    "start_time": "2023-08-20T14:41:09.072Z"
   },
   {
    "duration": 11,
    "start_time": "2023-08-20T14:43:57.026Z"
   },
   {
    "duration": 17,
    "start_time": "2023-08-20T14:47:52.024Z"
   },
   {
    "duration": 10,
    "start_time": "2023-08-20T14:50:33.785Z"
   },
   {
    "duration": 17,
    "start_time": "2023-08-20T14:50:35.808Z"
   },
   {
    "duration": 5,
    "start_time": "2023-08-20T14:51:42.988Z"
   },
   {
    "duration": 7,
    "start_time": "2023-08-20T14:51:44.320Z"
   },
   {
    "duration": 19,
    "start_time": "2023-08-20T14:51:45.481Z"
   },
   {
    "duration": 1088,
    "start_time": "2023-08-20T14:52:11.200Z"
   },
   {
    "duration": 1184,
    "start_time": "2023-08-20T14:52:12.290Z"
   },
   {
    "duration": 10,
    "start_time": "2023-08-20T14:52:13.476Z"
   },
   {
    "duration": 10,
    "start_time": "2023-08-20T14:52:18.108Z"
   },
   {
    "duration": 19,
    "start_time": "2023-08-20T14:52:19.006Z"
   },
   {
    "duration": 3,
    "start_time": "2023-08-20T14:52:20.150Z"
   },
   {
    "duration": 12,
    "start_time": "2023-08-20T14:52:22.067Z"
   },
   {
    "duration": 20,
    "start_time": "2023-08-20T14:52:22.081Z"
   },
   {
    "duration": 6,
    "start_time": "2023-08-20T14:52:22.518Z"
   },
   {
    "duration": 6,
    "start_time": "2023-08-20T14:52:22.973Z"
   },
   {
    "duration": 24,
    "start_time": "2023-08-20T14:52:23.000Z"
   },
   {
    "duration": 7,
    "start_time": "2023-08-20T14:52:23.310Z"
   },
   {
    "duration": 4,
    "start_time": "2023-08-20T14:52:24.913Z"
   },
   {
    "duration": 17,
    "start_time": "2023-08-20T14:52:25.244Z"
   },
   {
    "duration": 8,
    "start_time": "2023-08-20T14:52:26.881Z"
   },
   {
    "duration": 8,
    "start_time": "2023-08-20T14:52:27.704Z"
   },
   {
    "duration": 9,
    "start_time": "2023-08-20T14:52:28.839Z"
   },
   {
    "duration": 16,
    "start_time": "2023-08-20T14:52:29.185Z"
   },
   {
    "duration": 8,
    "start_time": "2023-08-20T14:52:31.131Z"
   },
   {
    "duration": 7,
    "start_time": "2023-08-20T14:52:31.445Z"
   },
   {
    "duration": 11,
    "start_time": "2023-08-20T14:52:32.060Z"
   },
   {
    "duration": 11,
    "start_time": "2023-08-20T14:52:34.028Z"
   },
   {
    "duration": 4,
    "start_time": "2023-08-20T14:52:35.382Z"
   },
   {
    "duration": 11,
    "start_time": "2023-08-20T14:52:35.747Z"
   },
   {
    "duration": 11,
    "start_time": "2023-08-20T14:52:36.555Z"
   },
   {
    "duration": 12,
    "start_time": "2023-08-20T14:52:37.403Z"
   },
   {
    "duration": 4,
    "start_time": "2023-08-20T14:52:39.259Z"
   },
   {
    "duration": 7,
    "start_time": "2023-08-20T14:52:39.684Z"
   },
   {
    "duration": 9,
    "start_time": "2023-08-20T14:52:40.076Z"
   },
   {
    "duration": 11,
    "start_time": "2023-08-20T14:52:42.333Z"
   },
   {
    "duration": 4,
    "start_time": "2023-08-20T14:52:42.602Z"
   },
   {
    "duration": 17,
    "start_time": "2023-08-20T14:52:45.740Z"
   },
   {
    "duration": 11,
    "start_time": "2023-08-20T14:52:47.936Z"
   },
   {
    "duration": 3,
    "start_time": "2023-08-20T14:52:48.833Z"
   },
   {
    "duration": 4,
    "start_time": "2023-08-20T14:52:50.456Z"
   },
   {
    "duration": 4,
    "start_time": "2023-08-20T14:52:50.793Z"
   },
   {
    "duration": 5,
    "start_time": "2023-08-20T14:52:52.133Z"
   },
   {
    "duration": 4,
    "start_time": "2023-08-20T14:52:52.847Z"
   },
   {
    "duration": 4,
    "start_time": "2023-08-20T14:52:54.421Z"
   },
   {
    "duration": 10,
    "start_time": "2023-08-20T14:52:55.290Z"
   },
   {
    "duration": 254,
    "start_time": "2023-08-20T14:52:56.816Z"
   },
   {
    "duration": 13,
    "start_time": "2023-08-20T14:52:58.965Z"
   },
   {
    "duration": 214,
    "start_time": "2023-08-20T14:52:59.360Z"
   },
   {
    "duration": 5,
    "start_time": "2023-08-20T14:53:43.127Z"
   },
   {
    "duration": 7,
    "start_time": "2023-08-20T14:53:44.034Z"
   },
   {
    "duration": 19,
    "start_time": "2023-08-20T14:53:45.882Z"
   },
   {
    "duration": 11,
    "start_time": "2023-08-20T14:56:17.759Z"
   },
   {
    "duration": 14,
    "start_time": "2023-08-20T14:58:01.350Z"
   },
   {
    "duration": 241,
    "start_time": "2023-08-20T14:58:03.912Z"
   },
   {
    "duration": 20,
    "start_time": "2023-08-20T15:20:23.793Z"
   },
   {
    "duration": 11,
    "start_time": "2023-08-20T15:21:31.152Z"
   },
   {
    "duration": 87,
    "start_time": "2023-08-20T15:21:59.799Z"
   },
   {
    "duration": 251,
    "start_time": "2023-08-20T15:22:16.423Z"
   },
   {
    "duration": 248,
    "start_time": "2023-08-20T15:23:10.307Z"
   },
   {
    "duration": 11,
    "start_time": "2023-08-20T15:24:05.965Z"
   },
   {
    "duration": 12,
    "start_time": "2023-08-20T15:24:26.164Z"
   },
   {
    "duration": 11,
    "start_time": "2023-08-20T15:29:47.369Z"
   },
   {
    "duration": 243,
    "start_time": "2023-08-20T15:29:49.228Z"
   },
   {
    "duration": 11,
    "start_time": "2023-08-20T15:36:51.266Z"
   },
   {
    "duration": 4,
    "start_time": "2023-08-20T15:36:52.401Z"
   },
   {
    "duration": 58,
    "start_time": "2023-08-20T15:36:55.910Z"
   },
   {
    "duration": 10,
    "start_time": "2023-08-20T15:37:06.640Z"
   },
   {
    "duration": 222,
    "start_time": "2023-08-20T15:37:09.398Z"
   },
   {
    "duration": 2,
    "start_time": "2023-08-20T15:45:06.405Z"
   },
   {
    "duration": 17,
    "start_time": "2023-08-20T15:48:14.326Z"
   },
   {
    "duration": 39,
    "start_time": "2023-08-20T15:54:13.293Z"
   },
   {
    "duration": 16,
    "start_time": "2023-08-20T15:54:49.084Z"
   },
   {
    "duration": 14,
    "start_time": "2023-08-20T16:00:55.448Z"
   },
   {
    "duration": 14,
    "start_time": "2023-08-20T16:01:03.327Z"
   },
   {
    "duration": 10,
    "start_time": "2023-08-20T16:01:52.834Z"
   },
   {
    "duration": 1458,
    "start_time": "2023-08-20T16:01:58.391Z"
   },
   {
    "duration": 14,
    "start_time": "2023-08-20T16:03:00.417Z"
   },
   {
    "duration": 16,
    "start_time": "2023-08-20T16:03:48.424Z"
   },
   {
    "duration": 13,
    "start_time": "2023-08-20T16:04:31.035Z"
   },
   {
    "duration": 12,
    "start_time": "2023-08-20T16:04:34.973Z"
   },
   {
    "duration": 3,
    "start_time": "2023-08-20T16:04:41.733Z"
   },
   {
    "duration": 12,
    "start_time": "2023-08-20T16:04:43.163Z"
   },
   {
    "duration": 1217,
    "start_time": "2023-08-20T16:04:58.528Z"
   },
   {
    "duration": 1002,
    "start_time": "2023-08-20T16:04:59.747Z"
   },
   {
    "duration": 19,
    "start_time": "2023-08-20T16:05:00.752Z"
   },
   {
    "duration": 45,
    "start_time": "2023-08-20T16:05:00.772Z"
   },
   {
    "duration": 10,
    "start_time": "2023-08-20T16:05:02.062Z"
   },
   {
    "duration": 16,
    "start_time": "2023-08-20T16:05:04.530Z"
   },
   {
    "duration": 9,
    "start_time": "2023-08-20T16:05:04.835Z"
   },
   {
    "duration": 8,
    "start_time": "2023-08-20T16:05:05.140Z"
   },
   {
    "duration": 8,
    "start_time": "2023-08-20T16:05:05.443Z"
   },
   {
    "duration": 41,
    "start_time": "2023-08-20T16:05:05.765Z"
   },
   {
    "duration": 13,
    "start_time": "2023-08-20T16:05:06.189Z"
   },
   {
    "duration": 4,
    "start_time": "2023-08-20T16:05:07.524Z"
   },
   {
    "duration": 27,
    "start_time": "2023-08-20T16:05:07.848Z"
   },
   {
    "duration": 9,
    "start_time": "2023-08-20T16:05:09.478Z"
   },
   {
    "duration": 8,
    "start_time": "2023-08-20T16:05:10.496Z"
   },
   {
    "duration": 9,
    "start_time": "2023-08-20T16:05:11.817Z"
   },
   {
    "duration": 18,
    "start_time": "2023-08-20T16:05:12.074Z"
   },
   {
    "duration": 8,
    "start_time": "2023-08-20T16:05:13.518Z"
   },
   {
    "duration": 16,
    "start_time": "2023-08-20T16:05:13.947Z"
   },
   {
    "duration": 12,
    "start_time": "2023-08-20T16:05:14.865Z"
   },
   {
    "duration": 12,
    "start_time": "2023-08-20T16:05:17.116Z"
   },
   {
    "duration": 5,
    "start_time": "2023-08-20T16:05:18.914Z"
   },
   {
    "duration": 13,
    "start_time": "2023-08-20T16:05:19.243Z"
   },
   {
    "duration": 14,
    "start_time": "2023-08-20T16:05:20.072Z"
   },
   {
    "duration": 14,
    "start_time": "2023-08-20T16:05:20.974Z"
   },
   {
    "duration": 4,
    "start_time": "2023-08-20T16:05:22.867Z"
   },
   {
    "duration": 11,
    "start_time": "2023-08-20T16:05:23.345Z"
   },
   {
    "duration": 9,
    "start_time": "2023-08-20T16:05:24.164Z"
   },
   {
    "duration": 12,
    "start_time": "2023-08-20T16:05:25.675Z"
   },
   {
    "duration": 5,
    "start_time": "2023-08-20T16:05:26.168Z"
   },
   {
    "duration": 28,
    "start_time": "2023-08-20T16:05:27.441Z"
   },
   {
    "duration": 14,
    "start_time": "2023-08-20T16:05:29.190Z"
   },
   {
    "duration": 5,
    "start_time": "2023-08-20T16:05:30.773Z"
   },
   {
    "duration": 14,
    "start_time": "2023-08-20T16:05:33.749Z"
   },
   {
    "duration": 20,
    "start_time": "2023-08-20T16:05:33.769Z"
   },
   {
    "duration": 9,
    "start_time": "2023-08-20T16:05:35.149Z"
   },
   {
    "duration": 5,
    "start_time": "2023-08-20T16:05:35.744Z"
   },
   {
    "duration": 4,
    "start_time": "2023-08-20T16:05:37.206Z"
   },
   {
    "duration": 21,
    "start_time": "2023-08-20T16:05:37.945Z"
   },
   {
    "duration": 304,
    "start_time": "2023-08-20T16:05:38.886Z"
   },
   {
    "duration": 13,
    "start_time": "2023-08-20T16:05:40.874Z"
   },
   {
    "duration": 255,
    "start_time": "2023-08-20T16:05:41.647Z"
   },
   {
    "duration": 6,
    "start_time": "2023-08-20T16:05:44.536Z"
   },
   {
    "duration": 8,
    "start_time": "2023-08-20T16:05:44.962Z"
   },
   {
    "duration": 13,
    "start_time": "2023-08-20T16:05:45.442Z"
   },
   {
    "duration": 300,
    "start_time": "2023-08-20T16:05:46.697Z"
   },
   {
    "duration": 19,
    "start_time": "2023-08-20T16:05:50.046Z"
   },
   {
    "duration": 265,
    "start_time": "2023-08-20T16:05:50.478Z"
   },
   {
    "duration": 14,
    "start_time": "2023-08-20T16:05:53.963Z"
   },
   {
    "duration": 4,
    "start_time": "2023-08-20T16:05:54.473Z"
   },
   {
    "duration": 59,
    "start_time": "2023-08-20T16:05:55.631Z"
   },
   {
    "duration": 10,
    "start_time": "2023-08-20T16:06:10.125Z"
   },
   {
    "duration": 193,
    "start_time": "2023-08-20T16:06:14.733Z"
   },
   {
    "duration": 14,
    "start_time": "2023-08-20T16:06:47.705Z"
   },
   {
    "duration": 305,
    "start_time": "2023-08-20T16:06:48.598Z"
   },
   {
    "duration": 5,
    "start_time": "2023-08-20T16:06:51.201Z"
   },
   {
    "duration": 25,
    "start_time": "2023-08-20T16:06:53.682Z"
   },
   {
    "duration": 10,
    "start_time": "2023-08-20T16:07:10.044Z"
   },
   {
    "duration": 1496,
    "start_time": "2023-08-20T16:07:19.677Z"
   },
   {
    "duration": 34,
    "start_time": "2023-08-20T16:07:38.577Z"
   },
   {
    "duration": 4,
    "start_time": "2023-08-20T16:09:01.839Z"
   },
   {
    "duration": 1468,
    "start_time": "2023-08-20T16:09:03.273Z"
   },
   {
    "duration": 1107,
    "start_time": "2023-08-20T16:09:20.369Z"
   },
   {
    "duration": 1371,
    "start_time": "2023-08-20T16:09:21.478Z"
   },
   {
    "duration": 10,
    "start_time": "2023-08-20T16:09:22.851Z"
   },
   {
    "duration": 20,
    "start_time": "2023-08-20T16:09:23.586Z"
   },
   {
    "duration": 4,
    "start_time": "2023-08-20T16:09:25.513Z"
   },
   {
    "duration": 13,
    "start_time": "2023-08-20T16:09:27.730Z"
   },
   {
    "duration": 11,
    "start_time": "2023-08-20T16:09:27.745Z"
   },
   {
    "duration": 7,
    "start_time": "2023-08-20T16:09:28.185Z"
   },
   {
    "duration": 5,
    "start_time": "2023-08-20T16:09:28.589Z"
   },
   {
    "duration": 24,
    "start_time": "2023-08-20T16:09:29.000Z"
   },
   {
    "duration": 9,
    "start_time": "2023-08-20T16:09:29.253Z"
   },
   {
    "duration": 4,
    "start_time": "2023-08-20T16:09:30.731Z"
   },
   {
    "duration": 19,
    "start_time": "2023-08-20T16:09:31.139Z"
   },
   {
    "duration": 8,
    "start_time": "2023-08-20T16:09:32.964Z"
   },
   {
    "duration": 9,
    "start_time": "2023-08-20T16:09:33.586Z"
   },
   {
    "duration": 9,
    "start_time": "2023-08-20T16:09:35.343Z"
   },
   {
    "duration": 27,
    "start_time": "2023-08-20T16:09:35.685Z"
   },
   {
    "duration": 11,
    "start_time": "2023-08-20T16:09:37.295Z"
   },
   {
    "duration": 10,
    "start_time": "2023-08-20T16:09:37.655Z"
   },
   {
    "duration": 18,
    "start_time": "2023-08-20T16:09:38.757Z"
   },
   {
    "duration": 11,
    "start_time": "2023-08-20T16:09:40.417Z"
   },
   {
    "duration": 5,
    "start_time": "2023-08-20T16:09:42.046Z"
   },
   {
    "duration": 11,
    "start_time": "2023-08-20T16:09:42.423Z"
   },
   {
    "duration": 11,
    "start_time": "2023-08-20T16:09:43.402Z"
   },
   {
    "duration": 13,
    "start_time": "2023-08-20T16:09:44.546Z"
   },
   {
    "duration": 4,
    "start_time": "2023-08-20T16:09:46.475Z"
   },
   {
    "duration": 7,
    "start_time": "2023-08-20T16:09:47.135Z"
   },
   {
    "duration": 10,
    "start_time": "2023-08-20T16:09:47.198Z"
   },
   {
    "duration": 11,
    "start_time": "2023-08-20T16:09:49.170Z"
   },
   {
    "duration": 4,
    "start_time": "2023-08-20T16:09:49.672Z"
   },
   {
    "duration": 16,
    "start_time": "2023-08-20T16:09:51.002Z"
   },
   {
    "duration": 9,
    "start_time": "2023-08-20T16:09:53.068Z"
   },
   {
    "duration": 3,
    "start_time": "2023-08-20T16:09:54.724Z"
   },
   {
    "duration": 5,
    "start_time": "2023-08-20T16:09:57.171Z"
   },
   {
    "duration": 6,
    "start_time": "2023-08-20T16:09:57.481Z"
   },
   {
    "duration": 7,
    "start_time": "2023-08-20T16:09:58.390Z"
   },
   {
    "duration": 4,
    "start_time": "2023-08-20T16:09:59.099Z"
   },
   {
    "duration": 5,
    "start_time": "2023-08-20T16:10:00.921Z"
   },
   {
    "duration": 10,
    "start_time": "2023-08-20T16:10:01.751Z"
   },
   {
    "duration": 256,
    "start_time": "2023-08-20T16:10:03.107Z"
   },
   {
    "duration": 13,
    "start_time": "2023-08-20T16:10:06.545Z"
   },
   {
    "duration": 210,
    "start_time": "2023-08-20T16:10:08.044Z"
   },
   {
    "duration": 6,
    "start_time": "2023-08-20T16:10:12.064Z"
   },
   {
    "duration": 7,
    "start_time": "2023-08-20T16:10:12.245Z"
   },
   {
    "duration": 13,
    "start_time": "2023-08-20T16:10:12.628Z"
   },
   {
    "duration": 241,
    "start_time": "2023-08-20T16:10:14.509Z"
   },
   {
    "duration": 12,
    "start_time": "2023-08-20T16:10:17.719Z"
   },
   {
    "duration": 245,
    "start_time": "2023-08-20T16:10:19.734Z"
   },
   {
    "duration": 11,
    "start_time": "2023-08-20T16:10:23.253Z"
   },
   {
    "duration": 3,
    "start_time": "2023-08-20T16:10:23.674Z"
   },
   {
    "duration": 50,
    "start_time": "2023-08-20T16:10:24.641Z"
   },
   {
    "duration": 10,
    "start_time": "2023-08-20T16:10:26.259Z"
   },
   {
    "duration": 174,
    "start_time": "2023-08-20T16:10:27.132Z"
   },
   {
    "duration": 3,
    "start_time": "2023-08-20T16:10:29.797Z"
   },
   {
    "duration": 1407,
    "start_time": "2023-08-20T16:10:31.570Z"
   },
   {
    "duration": 18,
    "start_time": "2023-08-20T16:11:28.408Z"
   },
   {
    "duration": 13,
    "start_time": "2023-08-20T16:11:43.879Z"
   },
   {
    "duration": 114,
    "start_time": "2023-08-20T16:11:45.005Z"
   },
   {
    "duration": 11,
    "start_time": "2023-08-20T16:11:48.194Z"
   },
   {
    "duration": 4,
    "start_time": "2023-08-20T16:11:52.856Z"
   },
   {
    "duration": 16,
    "start_time": "2023-08-20T16:11:55.341Z"
   },
   {
    "duration": 12,
    "start_time": "2023-08-20T16:14:34.903Z"
   },
   {
    "duration": 9,
    "start_time": "2023-08-20T16:14:36.707Z"
   },
   {
    "duration": 76,
    "start_time": "2023-08-20T16:14:38.024Z"
   },
   {
    "duration": 14,
    "start_time": "2023-08-20T16:14:39.297Z"
   },
   {
    "duration": 4,
    "start_time": "2023-08-20T16:14:42.855Z"
   },
   {
    "duration": 12,
    "start_time": "2023-08-20T16:14:46.937Z"
   },
   {
    "duration": 10,
    "start_time": "2023-08-20T16:14:49.423Z"
   },
   {
    "duration": 47,
    "start_time": "2023-08-20T16:14:50.200Z"
   },
   {
    "duration": 9,
    "start_time": "2023-08-20T16:14:51.520Z"
   },
   {
    "duration": 1243,
    "start_time": "2023-08-20T16:15:03.044Z"
   },
   {
    "duration": 1255,
    "start_time": "2023-08-20T16:15:04.289Z"
   },
   {
    "duration": 12,
    "start_time": "2023-08-20T16:15:05.545Z"
   },
   {
    "duration": 34,
    "start_time": "2023-08-20T16:15:05.558Z"
   },
   {
    "duration": 4,
    "start_time": "2023-08-20T16:15:05.792Z"
   },
   {
    "duration": 10,
    "start_time": "2023-08-20T16:15:08.240Z"
   },
   {
    "duration": 7,
    "start_time": "2023-08-20T16:15:08.529Z"
   },
   {
    "duration": 6,
    "start_time": "2023-08-20T16:15:08.829Z"
   },
   {
    "duration": 7,
    "start_time": "2023-08-20T16:15:09.134Z"
   },
   {
    "duration": 24,
    "start_time": "2023-08-20T16:15:09.417Z"
   },
   {
    "duration": 10,
    "start_time": "2023-08-20T16:15:10.020Z"
   },
   {
    "duration": 4,
    "start_time": "2023-08-20T16:15:10.889Z"
   },
   {
    "duration": 28,
    "start_time": "2023-08-20T16:15:10.895Z"
   },
   {
    "duration": 9,
    "start_time": "2023-08-20T16:15:12.120Z"
   },
   {
    "duration": 8,
    "start_time": "2023-08-20T16:15:13.488Z"
   },
   {
    "duration": 9,
    "start_time": "2023-08-20T16:15:14.806Z"
   },
   {
    "duration": 16,
    "start_time": "2023-08-20T16:15:15.301Z"
   },
   {
    "duration": 8,
    "start_time": "2023-08-20T16:15:15.705Z"
   },
   {
    "duration": 7,
    "start_time": "2023-08-20T16:15:17.002Z"
   },
   {
    "duration": 14,
    "start_time": "2023-08-20T16:15:17.645Z"
   },
   {
    "duration": 11,
    "start_time": "2023-08-20T16:15:18.355Z"
   },
   {
    "duration": 6,
    "start_time": "2023-08-20T16:15:19.068Z"
   },
   {
    "duration": 11,
    "start_time": "2023-08-20T16:15:19.416Z"
   },
   {
    "duration": 11,
    "start_time": "2023-08-20T16:15:20.163Z"
   },
   {
    "duration": 12,
    "start_time": "2023-08-20T16:15:20.511Z"
   },
   {
    "duration": 4,
    "start_time": "2023-08-20T16:15:21.229Z"
   },
   {
    "duration": 7,
    "start_time": "2023-08-20T16:15:21.604Z"
   },
   {
    "duration": 9,
    "start_time": "2023-08-20T16:15:21.980Z"
   },
   {
    "duration": 11,
    "start_time": "2023-08-20T16:15:23.469Z"
   },
   {
    "duration": 4,
    "start_time": "2023-08-20T16:15:23.853Z"
   },
   {
    "duration": 18,
    "start_time": "2023-08-20T16:15:25.357Z"
   },
   {
    "duration": 13,
    "start_time": "2023-08-20T16:15:26.092Z"
   },
   {
    "duration": 3,
    "start_time": "2023-08-20T16:15:28.099Z"
   },
   {
    "duration": 4,
    "start_time": "2023-08-20T16:15:32.058Z"
   },
   {
    "duration": 5,
    "start_time": "2023-08-20T16:15:32.452Z"
   },
   {
    "duration": 4,
    "start_time": "2023-08-20T16:15:33.333Z"
   },
   {
    "duration": 4,
    "start_time": "2023-08-20T16:15:34.184Z"
   },
   {
    "duration": 4,
    "start_time": "2023-08-20T16:15:35.483Z"
   },
   {
    "duration": 9,
    "start_time": "2023-08-20T16:15:36.932Z"
   },
   {
    "duration": 264,
    "start_time": "2023-08-20T16:15:37.279Z"
   },
   {
    "duration": 12,
    "start_time": "2023-08-20T16:15:39.293Z"
   },
   {
    "duration": 213,
    "start_time": "2023-08-20T16:15:40.009Z"
   },
   {
    "duration": 5,
    "start_time": "2023-08-20T16:15:42.854Z"
   },
   {
    "duration": 8,
    "start_time": "2023-08-20T16:15:43.191Z"
   },
   {
    "duration": 13,
    "start_time": "2023-08-20T16:15:43.561Z"
   },
   {
    "duration": 253,
    "start_time": "2023-08-20T16:15:44.637Z"
   },
   {
    "duration": 10,
    "start_time": "2023-08-20T16:15:47.269Z"
   },
   {
    "duration": 240,
    "start_time": "2023-08-20T16:15:47.622Z"
   },
   {
    "duration": 11,
    "start_time": "2023-08-20T16:15:51.325Z"
   },
   {
    "duration": 4,
    "start_time": "2023-08-20T16:15:51.763Z"
   },
   {
    "duration": 48,
    "start_time": "2023-08-20T16:15:52.215Z"
   },
   {
    "duration": 9,
    "start_time": "2023-08-20T16:15:54.724Z"
   },
   {
    "duration": 169,
    "start_time": "2023-08-20T16:15:56.437Z"
   },
   {
    "duration": 3,
    "start_time": "2023-08-20T16:15:59.039Z"
   },
   {
    "duration": 12,
    "start_time": "2023-08-20T16:16:00.830Z"
   },
   {
    "duration": 9,
    "start_time": "2023-08-20T16:16:02.045Z"
   },
   {
    "duration": 47,
    "start_time": "2023-08-20T16:16:02.537Z"
   },
   {
    "duration": 10,
    "start_time": "2023-08-20T16:16:02.966Z"
   },
   {
    "duration": 2,
    "start_time": "2023-08-20T16:19:39.364Z"
   },
   {
    "duration": 13,
    "start_time": "2023-08-20T16:19:40.548Z"
   },
   {
    "duration": 96,
    "start_time": "2023-08-20T16:20:14.517Z"
   },
   {
    "duration": 10,
    "start_time": "2023-08-20T16:20:34.590Z"
   },
   {
    "duration": 4,
    "start_time": "2023-08-20T16:22:12.644Z"
   },
   {
    "duration": 22,
    "start_time": "2023-08-20T16:22:15.606Z"
   },
   {
    "duration": 6,
    "start_time": "2023-08-20T16:23:15.806Z"
   },
   {
    "duration": 20,
    "start_time": "2023-08-20T16:23:17.388Z"
   },
   {
    "duration": 9,
    "start_time": "2023-08-20T16:23:40.257Z"
   },
   {
    "duration": 216,
    "start_time": "2023-08-20T16:23:44.555Z"
   },
   {
    "duration": 7,
    "start_time": "2023-08-20T16:27:40.690Z"
   },
   {
    "duration": 187,
    "start_time": "2023-08-20T16:27:41.757Z"
   },
   {
    "duration": 6,
    "start_time": "2023-08-20T16:32:11.598Z"
   },
   {
    "duration": 5,
    "start_time": "2023-08-20T16:32:12.993Z"
   },
   {
    "duration": 10,
    "start_time": "2023-08-20T16:32:14.265Z"
   },
   {
    "duration": 198,
    "start_time": "2023-08-20T16:32:14.830Z"
   },
   {
    "duration": 12,
    "start_time": "2023-08-20T16:32:59.343Z"
   },
   {
    "duration": 177,
    "start_time": "2023-08-20T16:33:03.145Z"
   },
   {
    "duration": 21,
    "start_time": "2023-08-20T16:34:35.252Z"
   },
   {
    "duration": 7,
    "start_time": "2023-08-20T16:34:48.856Z"
   },
   {
    "duration": 10,
    "start_time": "2023-08-20T16:37:52.827Z"
   },
   {
    "duration": 182,
    "start_time": "2023-08-20T16:37:54.345Z"
   },
   {
    "duration": 12,
    "start_time": "2023-08-20T16:40:29.541Z"
   },
   {
    "duration": 246,
    "start_time": "2023-08-20T16:40:30.048Z"
   },
   {
    "duration": 16,
    "start_time": "2023-08-20T16:40:40.953Z"
   },
   {
    "duration": 193,
    "start_time": "2023-08-20T16:40:41.348Z"
   },
   {
    "duration": 24,
    "start_time": "2023-08-20T17:51:16.291Z"
   },
   {
    "duration": 6,
    "start_time": "2023-08-20T17:51:33.351Z"
   },
   {
    "duration": 38,
    "start_time": "2023-08-20T17:51:37.412Z"
   },
   {
    "duration": 5,
    "start_time": "2023-08-20T17:51:53.811Z"
   },
   {
    "duration": 10,
    "start_time": "2023-08-20T17:52:41.138Z"
   },
   {
    "duration": 29,
    "start_time": "2023-08-20T17:55:02.347Z"
   },
   {
    "duration": 3,
    "start_time": "2023-08-20T17:56:39.419Z"
   },
   {
    "duration": 5,
    "start_time": "2023-08-20T17:56:45.019Z"
   },
   {
    "duration": 4,
    "start_time": "2023-08-20T17:57:17.516Z"
   },
   {
    "duration": 24,
    "start_time": "2023-08-20T17:58:22.755Z"
   },
   {
    "duration": 4,
    "start_time": "2023-08-20T17:58:36.581Z"
   },
   {
    "duration": 11,
    "start_time": "2023-08-20T17:58:41.545Z"
   },
   {
    "duration": 5,
    "start_time": "2023-08-20T17:59:21.220Z"
   },
   {
    "duration": 4,
    "start_time": "2023-08-20T17:59:40.337Z"
   },
   {
    "duration": 4,
    "start_time": "2023-08-20T17:59:50.066Z"
   },
   {
    "duration": 4,
    "start_time": "2023-08-20T17:59:58.312Z"
   },
   {
    "duration": 23,
    "start_time": "2023-08-20T18:03:21.872Z"
   },
   {
    "duration": 4,
    "start_time": "2023-08-20T18:03:43.322Z"
   },
   {
    "duration": 4,
    "start_time": "2023-08-20T18:04:00.343Z"
   },
   {
    "duration": 4,
    "start_time": "2023-08-20T18:04:38.045Z"
   },
   {
    "duration": 5,
    "start_time": "2023-08-20T18:05:01.980Z"
   },
   {
    "duration": 10,
    "start_time": "2023-08-20T18:05:24.316Z"
   },
   {
    "duration": 4,
    "start_time": "2023-08-20T18:05:28.078Z"
   },
   {
    "duration": 9,
    "start_time": "2023-08-20T18:06:29.680Z"
   },
   {
    "duration": 16,
    "start_time": "2023-08-20T18:07:06.550Z"
   },
   {
    "duration": 9,
    "start_time": "2023-08-20T18:17:50.616Z"
   },
   {
    "duration": 9,
    "start_time": "2023-08-20T18:17:59.974Z"
   },
   {
    "duration": 13,
    "start_time": "2023-08-20T18:18:39.437Z"
   },
   {
    "duration": 10,
    "start_time": "2023-08-20T18:19:05.217Z"
   },
   {
    "duration": 6,
    "start_time": "2023-08-20T18:26:19.542Z"
   },
   {
    "duration": 6,
    "start_time": "2023-08-20T18:26:27.613Z"
   },
   {
    "duration": 4,
    "start_time": "2023-08-20T18:26:55.194Z"
   },
   {
    "duration": 12,
    "start_time": "2023-08-20T18:26:56.345Z"
   },
   {
    "duration": 4,
    "start_time": "2023-08-20T18:27:11.274Z"
   },
   {
    "duration": 4,
    "start_time": "2023-08-20T18:27:12.111Z"
   },
   {
    "duration": 16,
    "start_time": "2023-08-20T18:33:50.334Z"
   },
   {
    "duration": 1430,
    "start_time": "2023-08-20T18:34:13.773Z"
   },
   {
    "duration": 1540,
    "start_time": "2023-08-20T18:34:15.205Z"
   },
   {
    "duration": 19,
    "start_time": "2023-08-20T18:34:16.748Z"
   },
   {
    "duration": 31,
    "start_time": "2023-08-20T18:34:16.769Z"
   },
   {
    "duration": 15,
    "start_time": "2023-08-20T18:34:17.280Z"
   },
   {
    "duration": 26,
    "start_time": "2023-08-20T18:34:19.144Z"
   },
   {
    "duration": 7,
    "start_time": "2023-08-20T18:34:19.420Z"
   },
   {
    "duration": 7,
    "start_time": "2023-08-20T18:34:19.735Z"
   },
   {
    "duration": 7,
    "start_time": "2023-08-20T18:34:20.001Z"
   },
   {
    "duration": 45,
    "start_time": "2023-08-20T18:34:20.302Z"
   },
   {
    "duration": 14,
    "start_time": "2023-08-20T18:34:20.653Z"
   },
   {
    "duration": 6,
    "start_time": "2023-08-20T18:34:21.877Z"
   },
   {
    "duration": 26,
    "start_time": "2023-08-20T18:34:22.376Z"
   },
   {
    "duration": 14,
    "start_time": "2023-08-20T18:34:24.885Z"
   },
   {
    "duration": 10,
    "start_time": "2023-08-20T18:34:25.337Z"
   },
   {
    "duration": 18,
    "start_time": "2023-08-20T18:34:26.621Z"
   },
   {
    "duration": 20,
    "start_time": "2023-08-20T18:34:26.978Z"
   },
   {
    "duration": 28,
    "start_time": "2023-08-20T18:34:28.453Z"
   },
   {
    "duration": 23,
    "start_time": "2023-08-20T18:34:28.778Z"
   },
   {
    "duration": 17,
    "start_time": "2023-08-20T18:34:29.697Z"
   },
   {
    "duration": 19,
    "start_time": "2023-08-20T18:34:31.275Z"
   },
   {
    "duration": 8,
    "start_time": "2023-08-20T18:34:32.927Z"
   },
   {
    "duration": 23,
    "start_time": "2023-08-20T18:34:33.273Z"
   },
   {
    "duration": 35,
    "start_time": "2023-08-20T18:34:34.044Z"
   },
   {
    "duration": 22,
    "start_time": "2023-08-20T18:34:34.936Z"
   },
   {
    "duration": 6,
    "start_time": "2023-08-20T18:34:36.632Z"
   },
   {
    "duration": 19,
    "start_time": "2023-08-20T18:34:37.070Z"
   },
   {
    "duration": 22,
    "start_time": "2023-08-20T18:34:37.645Z"
   },
   {
    "duration": 18,
    "start_time": "2023-08-20T18:34:39.496Z"
   },
   {
    "duration": 5,
    "start_time": "2023-08-20T18:34:39.902Z"
   },
   {
    "duration": 22,
    "start_time": "2023-08-20T18:34:42.270Z"
   },
   {
    "duration": 17,
    "start_time": "2023-08-20T18:34:44.991Z"
   },
   {
    "duration": 4,
    "start_time": "2023-08-20T18:34:46.893Z"
   },
   {
    "duration": 7,
    "start_time": "2023-08-20T18:34:48.748Z"
   },
   {
    "duration": 5,
    "start_time": "2023-08-20T18:34:49.106Z"
   },
   {
    "duration": 7,
    "start_time": "2023-08-20T18:34:50.634Z"
   },
   {
    "duration": 6,
    "start_time": "2023-08-20T18:34:51.372Z"
   },
   {
    "duration": 7,
    "start_time": "2023-08-20T18:34:53.079Z"
   },
   {
    "duration": 14,
    "start_time": "2023-08-20T18:34:53.980Z"
   },
   {
    "duration": 314,
    "start_time": "2023-08-20T18:34:54.942Z"
   },
   {
    "duration": 18,
    "start_time": "2023-08-20T18:34:56.962Z"
   },
   {
    "duration": 328,
    "start_time": "2023-08-20T18:34:57.989Z"
   },
   {
    "duration": 7,
    "start_time": "2023-08-20T18:35:01.302Z"
   },
   {
    "duration": 10,
    "start_time": "2023-08-20T18:35:01.746Z"
   },
   {
    "duration": 18,
    "start_time": "2023-08-20T18:35:02.185Z"
   },
   {
    "duration": 258,
    "start_time": "2023-08-20T18:35:02.681Z"
   },
   {
    "duration": 14,
    "start_time": "2023-08-20T18:35:05.525Z"
   },
   {
    "duration": 332,
    "start_time": "2023-08-20T18:35:05.880Z"
   },
   {
    "duration": 12,
    "start_time": "2023-08-20T18:35:09.980Z"
   },
   {
    "duration": 4,
    "start_time": "2023-08-20T18:35:10.402Z"
   },
   {
    "duration": 49,
    "start_time": "2023-08-20T18:35:11.180Z"
   },
   {
    "duration": 13,
    "start_time": "2023-08-20T18:35:13.436Z"
   },
   {
    "duration": 195,
    "start_time": "2023-08-20T18:35:13.979Z"
   },
   {
    "duration": 13,
    "start_time": "2023-08-20T18:35:15.946Z"
   },
   {
    "duration": 23,
    "start_time": "2023-08-20T18:35:17.344Z"
   },
   {
    "duration": 12,
    "start_time": "2023-08-20T18:35:18.246Z"
   },
   {
    "duration": 6,
    "start_time": "2023-08-20T18:35:18.737Z"
   },
   {
    "duration": 5,
    "start_time": "2023-08-20T18:35:19.209Z"
   },
   {
    "duration": 11,
    "start_time": "2023-08-20T18:35:19.777Z"
   },
   {
    "duration": 178,
    "start_time": "2023-08-20T18:35:20.787Z"
   },
   {
    "duration": 10,
    "start_time": "2023-08-20T18:35:23.745Z"
   },
   {
    "duration": 322,
    "start_time": "2023-08-20T18:35:24.840Z"
   },
   {
    "duration": 31,
    "start_time": "2023-08-20T18:35:29.836Z"
   },
   {
    "duration": 28,
    "start_time": "2023-08-20T18:38:10.689Z"
   },
   {
    "duration": 4,
    "start_time": "2023-08-20T18:38:23.955Z"
   },
   {
    "duration": 26,
    "start_time": "2023-08-20T18:38:26.039Z"
   },
   {
    "duration": 6,
    "start_time": "2023-08-20T18:38:48.992Z"
   },
   {
    "duration": 4,
    "start_time": "2023-08-20T18:38:50.337Z"
   },
   {
    "duration": 12,
    "start_time": "2023-08-20T18:38:51.190Z"
   },
   {
    "duration": 188,
    "start_time": "2023-08-20T18:38:51.891Z"
   },
   {
    "duration": 11,
    "start_time": "2023-08-20T18:38:53.937Z"
   },
   {
    "duration": 194,
    "start_time": "2023-08-20T18:38:54.466Z"
   },
   {
    "duration": 11,
    "start_time": "2023-08-20T18:38:56.348Z"
   },
   {
    "duration": 262,
    "start_time": "2023-08-20T18:38:56.876Z"
   },
   {
    "duration": 14,
    "start_time": "2023-08-20T18:38:59.486Z"
   },
   {
    "duration": 204,
    "start_time": "2023-08-20T18:38:59.902Z"
   },
   {
    "duration": 13,
    "start_time": "2023-08-20T18:39:02.661Z"
   },
   {
    "duration": 6,
    "start_time": "2023-08-20T18:39:03.405Z"
   },
   {
    "duration": 4,
    "start_time": "2023-08-20T18:39:03.742Z"
   },
   {
    "duration": 5,
    "start_time": "2023-08-20T18:39:04.122Z"
   },
   {
    "duration": 4,
    "start_time": "2023-08-20T18:39:05.737Z"
   },
   {
    "duration": 6,
    "start_time": "2023-08-20T18:39:06.080Z"
   },
   {
    "duration": 6,
    "start_time": "2023-08-20T18:39:06.438Z"
   },
   {
    "duration": 11,
    "start_time": "2023-08-20T18:39:07.990Z"
   },
   {
    "duration": 10,
    "start_time": "2023-08-20T18:39:08.585Z"
   },
   {
    "duration": 10,
    "start_time": "2023-08-20T18:39:09.675Z"
   },
   {
    "duration": 5,
    "start_time": "2023-08-20T18:39:11.746Z"
   },
   {
    "duration": 5,
    "start_time": "2023-08-20T18:39:11.754Z"
   },
   {
    "duration": 5,
    "start_time": "2023-08-20T18:39:12.205Z"
   },
   {
    "duration": 5,
    "start_time": "2023-08-20T18:39:12.252Z"
   },
   {
    "duration": 6,
    "start_time": "2023-08-20T18:39:12.633Z"
   },
   {
    "duration": 5,
    "start_time": "2023-08-20T18:39:13.863Z"
   },
   {
    "duration": 16,
    "start_time": "2023-08-20T18:39:17.592Z"
   },
   {
    "duration": 25,
    "start_time": "2023-08-20T18:39:23.036Z"
   },
   {
    "duration": 21,
    "start_time": "2023-08-20T18:39:34.015Z"
   },
   {
    "duration": 12,
    "start_time": "2023-08-20T18:40:08.537Z"
   },
   {
    "duration": 4,
    "start_time": "2023-08-20T18:41:09.878Z"
   },
   {
    "duration": 6,
    "start_time": "2023-08-20T18:41:37.462Z"
   },
   {
    "duration": 12,
    "start_time": "2023-08-20T18:41:45.454Z"
   },
   {
    "duration": 4,
    "start_time": "2023-08-20T18:42:25.314Z"
   },
   {
    "duration": 13,
    "start_time": "2023-08-20T18:42:29.455Z"
   },
   {
    "duration": 5,
    "start_time": "2023-08-20T18:42:37.176Z"
   },
   {
    "duration": 5,
    "start_time": "2023-08-20T18:42:46.769Z"
   },
   {
    "duration": 4,
    "start_time": "2023-08-20T18:43:58.566Z"
   },
   {
    "duration": 4,
    "start_time": "2023-08-20T18:44:03.386Z"
   },
   {
    "duration": 4,
    "start_time": "2023-08-20T18:44:22.693Z"
   },
   {
    "duration": 3,
    "start_time": "2023-08-20T18:44:42.294Z"
   },
   {
    "duration": 4,
    "start_time": "2023-08-20T18:44:57.446Z"
   },
   {
    "duration": 4,
    "start_time": "2023-08-20T18:45:33.061Z"
   },
   {
    "duration": 3,
    "start_time": "2023-08-20T18:45:49.892Z"
   },
   {
    "duration": 4,
    "start_time": "2023-08-20T18:45:57.738Z"
   },
   {
    "duration": 4,
    "start_time": "2023-08-20T18:52:21.647Z"
   },
   {
    "duration": 5,
    "start_time": "2023-08-20T18:53:05.988Z"
   },
   {
    "duration": 4,
    "start_time": "2023-08-20T18:53:19.285Z"
   },
   {
    "duration": 21,
    "start_time": "2023-08-20T18:54:27.870Z"
   },
   {
    "duration": 4,
    "start_time": "2023-08-20T18:54:41.293Z"
   },
   {
    "duration": 5,
    "start_time": "2023-08-20T19:00:42.601Z"
   },
   {
    "duration": 4,
    "start_time": "2023-08-20T19:00:51.838Z"
   },
   {
    "duration": 4,
    "start_time": "2023-08-20T19:01:00.909Z"
   },
   {
    "duration": 23,
    "start_time": "2023-08-20T19:01:45.002Z"
   },
   {
    "duration": 4,
    "start_time": "2023-08-20T19:01:59.401Z"
   },
   {
    "duration": 4,
    "start_time": "2023-08-20T19:02:17.185Z"
   },
   {
    "duration": 4,
    "start_time": "2023-08-20T19:02:24.889Z"
   },
   {
    "duration": 46,
    "start_time": "2023-08-21T01:51:53.724Z"
   },
   {
    "duration": 1392,
    "start_time": "2023-08-21T01:52:01.362Z"
   },
   {
    "duration": 1230,
    "start_time": "2023-08-21T01:52:02.756Z"
   },
   {
    "duration": 13,
    "start_time": "2023-08-21T01:52:03.988Z"
   },
   {
    "duration": 37,
    "start_time": "2023-08-21T01:52:04.003Z"
   },
   {
    "duration": 4,
    "start_time": "2023-08-21T01:52:04.042Z"
   },
   {
    "duration": 10,
    "start_time": "2023-08-21T01:52:04.048Z"
   },
   {
    "duration": 7,
    "start_time": "2023-08-21T01:52:04.060Z"
   },
   {
    "duration": 15,
    "start_time": "2023-08-21T01:52:04.069Z"
   },
   {
    "duration": 8,
    "start_time": "2023-08-21T01:52:04.086Z"
   },
   {
    "duration": 29,
    "start_time": "2023-08-21T01:52:04.098Z"
   },
   {
    "duration": 8,
    "start_time": "2023-08-21T01:52:04.129Z"
   },
   {
    "duration": 6,
    "start_time": "2023-08-21T01:52:04.138Z"
   },
   {
    "duration": 39,
    "start_time": "2023-08-21T01:52:04.145Z"
   },
   {
    "duration": 9,
    "start_time": "2023-08-21T01:52:04.186Z"
   },
   {
    "duration": 12,
    "start_time": "2023-08-21T01:52:04.197Z"
   },
   {
    "duration": 10,
    "start_time": "2023-08-21T01:52:04.211Z"
   },
   {
    "duration": 20,
    "start_time": "2023-08-21T01:52:04.223Z"
   },
   {
    "duration": 37,
    "start_time": "2023-08-21T01:52:04.245Z"
   },
   {
    "duration": 8,
    "start_time": "2023-08-21T01:52:04.284Z"
   },
   {
    "duration": 12,
    "start_time": "2023-08-21T01:52:04.294Z"
   },
   {
    "duration": 12,
    "start_time": "2023-08-21T01:52:04.307Z"
   },
   {
    "duration": 10,
    "start_time": "2023-08-21T01:52:04.320Z"
   },
   {
    "duration": 19,
    "start_time": "2023-08-21T01:52:04.332Z"
   },
   {
    "duration": 38,
    "start_time": "2023-08-21T01:52:04.353Z"
   },
   {
    "duration": 17,
    "start_time": "2023-08-21T01:52:04.393Z"
   },
   {
    "duration": 5,
    "start_time": "2023-08-21T01:52:04.412Z"
   },
   {
    "duration": 14,
    "start_time": "2023-08-21T01:52:04.418Z"
   },
   {
    "duration": 15,
    "start_time": "2023-08-21T01:52:04.437Z"
   },
   {
    "duration": 27,
    "start_time": "2023-08-21T01:52:04.454Z"
   },
   {
    "duration": 4,
    "start_time": "2023-08-21T01:52:04.483Z"
   },
   {
    "duration": 26,
    "start_time": "2023-08-21T01:52:04.488Z"
   },
   {
    "duration": 13,
    "start_time": "2023-08-21T01:52:04.516Z"
   },
   {
    "duration": 4,
    "start_time": "2023-08-21T01:52:04.531Z"
   },
   {
    "duration": 10,
    "start_time": "2023-08-21T01:52:04.536Z"
   },
   {
    "duration": 6,
    "start_time": "2023-08-21T01:52:04.548Z"
   },
   {
    "duration": 28,
    "start_time": "2023-08-21T01:52:04.555Z"
   },
   {
    "duration": 4,
    "start_time": "2023-08-21T01:52:04.585Z"
   },
   {
    "duration": 8,
    "start_time": "2023-08-21T01:52:04.590Z"
   },
   {
    "duration": 14,
    "start_time": "2023-08-21T01:52:04.599Z"
   },
   {
    "duration": 302,
    "start_time": "2023-08-21T01:52:04.615Z"
   },
   {
    "duration": 13,
    "start_time": "2023-08-21T01:52:04.919Z"
   },
   {
    "duration": 262,
    "start_time": "2023-08-21T01:52:04.933Z"
   },
   {
    "duration": 6,
    "start_time": "2023-08-21T01:52:05.197Z"
   },
   {
    "duration": 10,
    "start_time": "2023-08-21T01:52:05.204Z"
   },
   {
    "duration": 16,
    "start_time": "2023-08-21T01:52:05.216Z"
   },
   {
    "duration": 273,
    "start_time": "2023-08-21T01:52:05.234Z"
   },
   {
    "duration": 12,
    "start_time": "2023-08-21T01:52:05.509Z"
   },
   {
    "duration": 278,
    "start_time": "2023-08-21T01:52:05.522Z"
   },
   {
    "duration": 13,
    "start_time": "2023-08-21T01:52:05.802Z"
   },
   {
    "duration": 4,
    "start_time": "2023-08-21T01:52:05.816Z"
   },
   {
    "duration": 72,
    "start_time": "2023-08-21T01:52:05.821Z"
   },
   {
    "duration": 10,
    "start_time": "2023-08-21T01:52:05.894Z"
   },
   {
    "duration": 194,
    "start_time": "2023-08-21T01:52:05.906Z"
   },
   {
    "duration": 4,
    "start_time": "2023-08-21T01:52:06.101Z"
   },
   {
    "duration": 21,
    "start_time": "2023-08-21T01:52:06.106Z"
   },
   {
    "duration": 11,
    "start_time": "2023-08-21T01:52:06.129Z"
   },
   {
    "duration": 27,
    "start_time": "2023-08-21T01:52:06.142Z"
   },
   {
    "duration": 31,
    "start_time": "2023-08-21T01:52:06.171Z"
   },
   {
    "duration": 12,
    "start_time": "2023-08-21T01:52:06.204Z"
   },
   {
    "duration": 17,
    "start_time": "2023-08-21T01:52:06.218Z"
   },
   {
    "duration": 261,
    "start_time": "2023-08-21T01:52:06.237Z"
   },
   {
    "duration": 7,
    "start_time": "2023-08-21T01:52:06.499Z"
   },
   {
    "duration": 267,
    "start_time": "2023-08-21T01:52:06.510Z"
   },
   {
    "duration": 6,
    "start_time": "2023-08-21T01:52:06.779Z"
   },
   {
    "duration": 12,
    "start_time": "2023-08-21T01:52:06.787Z"
   },
   {
    "duration": 12,
    "start_time": "2023-08-21T01:52:06.801Z"
   },
   {
    "duration": 208,
    "start_time": "2023-08-21T01:52:06.815Z"
   },
   {
    "duration": 12,
    "start_time": "2023-08-21T01:52:07.025Z"
   },
   {
    "duration": 229,
    "start_time": "2023-08-21T01:52:07.038Z"
   },
   {
    "duration": 17,
    "start_time": "2023-08-21T01:52:07.269Z"
   },
   {
    "duration": 295,
    "start_time": "2023-08-21T01:52:07.288Z"
   },
   {
    "duration": 15,
    "start_time": "2023-08-21T01:52:07.585Z"
   },
   {
    "duration": 230,
    "start_time": "2023-08-21T01:52:07.602Z"
   },
   {
    "duration": 12,
    "start_time": "2023-08-21T01:52:07.833Z"
   },
   {
    "duration": 4,
    "start_time": "2023-08-21T01:52:07.847Z"
   },
   {
    "duration": 6,
    "start_time": "2023-08-21T01:52:07.853Z"
   },
   {
    "duration": 25,
    "start_time": "2023-08-21T01:52:07.860Z"
   },
   {
    "duration": 5,
    "start_time": "2023-08-21T01:52:07.886Z"
   },
   {
    "duration": 5,
    "start_time": "2023-08-21T01:52:07.893Z"
   },
   {
    "duration": 5,
    "start_time": "2023-08-21T01:52:07.899Z"
   },
   {
    "duration": 14,
    "start_time": "2023-08-21T01:52:07.906Z"
   },
   {
    "duration": 10,
    "start_time": "2023-08-21T01:52:07.925Z"
   },
   {
    "duration": 45,
    "start_time": "2023-08-21T01:52:07.937Z"
   },
   {
    "duration": 10,
    "start_time": "2023-08-21T01:52:07.984Z"
   },
   {
    "duration": 8,
    "start_time": "2023-08-21T01:52:07.996Z"
   },
   {
    "duration": 17,
    "start_time": "2023-08-21T01:52:08.005Z"
   },
   {
    "duration": 6,
    "start_time": "2023-08-21T01:52:08.024Z"
   },
   {
    "duration": 7,
    "start_time": "2023-08-21T01:52:08.032Z"
   },
   {
    "duration": 5,
    "start_time": "2023-08-21T01:52:08.041Z"
   },
   {
    "duration": 5,
    "start_time": "2023-08-21T01:52:08.048Z"
   },
   {
    "duration": 27,
    "start_time": "2023-08-21T01:52:08.055Z"
   },
   {
    "duration": 4,
    "start_time": "2023-08-21T01:52:08.083Z"
   },
   {
    "duration": 6,
    "start_time": "2023-08-21T01:52:08.089Z"
   },
   {
    "duration": 7,
    "start_time": "2023-08-21T01:52:08.097Z"
   },
   {
    "duration": 5,
    "start_time": "2023-08-21T01:52:08.105Z"
   },
   {
    "duration": 4,
    "start_time": "2023-08-21T01:52:08.111Z"
   },
   {
    "duration": 5,
    "start_time": "2023-08-21T01:52:08.117Z"
   },
   {
    "duration": 4,
    "start_time": "2023-08-21T01:52:08.123Z"
   },
   {
    "duration": 13,
    "start_time": "2023-08-21T01:52:08.128Z"
   },
   {
    "duration": 46,
    "start_time": "2023-08-21T01:52:08.142Z"
   },
   {
    "duration": 12,
    "start_time": "2023-08-21T01:52:08.189Z"
   },
   {
    "duration": 8,
    "start_time": "2023-08-21T01:52:08.203Z"
   },
   {
    "duration": 24,
    "start_time": "2023-08-21T01:52:40.133Z"
   },
   {
    "duration": 24,
    "start_time": "2023-08-21T03:20:14.860Z"
   },
   {
    "duration": 15,
    "start_time": "2023-08-21T03:22:52.466Z"
   },
   {
    "duration": 11,
    "start_time": "2023-08-21T03:23:00.226Z"
   },
   {
    "duration": 9,
    "start_time": "2023-08-21T03:23:07.057Z"
   },
   {
    "duration": 9,
    "start_time": "2023-08-21T03:23:18.873Z"
   },
   {
    "duration": 11,
    "start_time": "2023-08-21T03:23:21.612Z"
   },
   {
    "duration": 31,
    "start_time": "2023-08-21T03:32:06.558Z"
   },
   {
    "duration": 4,
    "start_time": "2023-08-21T03:32:18.383Z"
   },
   {
    "duration": 26,
    "start_time": "2023-08-21T03:32:23.614Z"
   },
   {
    "duration": 4,
    "start_time": "2023-08-21T03:32:42.744Z"
   },
   {
    "duration": 1426,
    "start_time": "2023-08-21T09:02:30.950Z"
   },
   {
    "duration": 1865,
    "start_time": "2023-08-21T09:02:32.378Z"
   },
   {
    "duration": 12,
    "start_time": "2023-08-21T09:02:37.187Z"
   },
   {
    "duration": 20,
    "start_time": "2023-08-21T09:02:37.865Z"
   },
   {
    "duration": 4,
    "start_time": "2023-08-21T09:02:41.781Z"
   },
   {
    "duration": 10,
    "start_time": "2023-08-21T09:02:46.239Z"
   },
   {
    "duration": 8,
    "start_time": "2023-08-21T09:02:46.587Z"
   },
   {
    "duration": 6,
    "start_time": "2023-08-21T09:02:46.966Z"
   },
   {
    "duration": 6,
    "start_time": "2023-08-21T09:02:47.268Z"
   },
   {
    "duration": 25,
    "start_time": "2023-08-21T09:02:47.588Z"
   },
   {
    "duration": 7,
    "start_time": "2023-08-21T09:02:47.929Z"
   },
   {
    "duration": 5,
    "start_time": "2023-08-21T09:02:52.337Z"
   },
   {
    "duration": 17,
    "start_time": "2023-08-21T09:02:52.775Z"
   },
   {
    "duration": 10,
    "start_time": "2023-08-21T09:02:56.765Z"
   },
   {
    "duration": 7,
    "start_time": "2023-08-21T09:02:58.143Z"
   },
   {
    "duration": 9,
    "start_time": "2023-08-21T09:03:02.025Z"
   },
   {
    "duration": 22,
    "start_time": "2023-08-21T09:03:02.370Z"
   },
   {
    "duration": 9,
    "start_time": "2023-08-21T09:03:06.771Z"
   },
   {
    "duration": 7,
    "start_time": "2023-08-21T09:03:07.115Z"
   },
   {
    "duration": 12,
    "start_time": "2023-08-21T09:03:07.934Z"
   },
   {
    "duration": 12,
    "start_time": "2023-08-21T09:03:12.264Z"
   },
   {
    "duration": 5,
    "start_time": "2023-08-21T09:03:15.969Z"
   },
   {
    "duration": 12,
    "start_time": "2023-08-21T09:03:16.364Z"
   },
   {
    "duration": 10,
    "start_time": "2023-08-21T09:03:17.266Z"
   },
   {
    "duration": 12,
    "start_time": "2023-08-21T09:03:19.979Z"
   },
   {
    "duration": 4,
    "start_time": "2023-08-21T09:03:23.792Z"
   },
   {
    "duration": 8,
    "start_time": "2023-08-21T09:03:24.290Z"
   },
   {
    "duration": 12,
    "start_time": "2023-08-21T09:03:24.714Z"
   },
   {
    "duration": 11,
    "start_time": "2023-08-21T09:03:29.016Z"
   },
   {
    "duration": 5,
    "start_time": "2023-08-21T09:03:29.466Z"
   },
   {
    "duration": 18,
    "start_time": "2023-08-21T09:03:33.173Z"
   },
   {
    "duration": 13,
    "start_time": "2023-08-21T09:03:34.583Z"
   },
   {
    "duration": 4,
    "start_time": "2023-08-21T09:03:40.664Z"
   },
   {
    "duration": 5,
    "start_time": "2023-08-21T09:03:45.019Z"
   },
   {
    "duration": 5,
    "start_time": "2023-08-21T09:03:45.465Z"
   },
   {
    "duration": 5,
    "start_time": "2023-08-21T09:03:50.027Z"
   },
   {
    "duration": 5,
    "start_time": "2023-08-21T09:03:50.937Z"
   },
   {
    "duration": 4,
    "start_time": "2023-08-21T09:03:55.111Z"
   },
   {
    "duration": 15,
    "start_time": "2023-08-21T09:03:58.509Z"
   },
   {
    "duration": 325,
    "start_time": "2023-08-21T09:04:00.476Z"
   },
   {
    "duration": 14,
    "start_time": "2023-08-21T09:04:04.781Z"
   },
   {
    "duration": 237,
    "start_time": "2023-08-21T09:04:05.965Z"
   },
   {
    "duration": 10,
    "start_time": "2023-08-21T09:07:05.271Z"
   },
   {
    "duration": 279,
    "start_time": "2023-08-21T09:08:33.277Z"
   },
   {
    "duration": 16,
    "start_time": "2023-08-21T09:08:50.349Z"
   },
   {
    "duration": 276,
    "start_time": "2023-08-21T09:08:53.612Z"
   },
   {
    "duration": 12,
    "start_time": "2023-08-21T09:15:37.618Z"
   },
   {
    "duration": 278,
    "start_time": "2023-08-21T09:15:38.833Z"
   },
   {
    "duration": 12,
    "start_time": "2023-08-21T09:21:19.397Z"
   },
   {
    "duration": 6,
    "start_time": "2023-08-21T09:21:19.867Z"
   },
   {
    "duration": 51,
    "start_time": "2023-08-21T09:21:20.891Z"
   },
   {
    "duration": 10,
    "start_time": "2023-08-21T09:21:22.137Z"
   },
   {
    "duration": 178,
    "start_time": "2023-08-21T09:21:22.570Z"
   },
   {
    "duration": 4,
    "start_time": "2023-08-21T09:21:25.144Z"
   },
   {
    "duration": 13,
    "start_time": "2023-08-21T09:21:26.311Z"
   },
   {
    "duration": 9,
    "start_time": "2023-08-21T09:21:28.906Z"
   },
   {
    "duration": 5,
    "start_time": "2023-08-21T09:21:29.432Z"
   },
   {
    "duration": 6,
    "start_time": "2023-08-21T09:21:29.964Z"
   },
   {
    "duration": 4,
    "start_time": "2023-08-21T09:21:30.408Z"
   },
   {
    "duration": 10,
    "start_time": "2023-08-21T09:21:30.892Z"
   },
   {
    "duration": 275,
    "start_time": "2023-08-21T09:21:32.139Z"
   },
   {
    "duration": 6,
    "start_time": "2023-08-21T09:21:42.172Z"
   },
   {
    "duration": 212,
    "start_time": "2023-08-21T09:21:43.175Z"
   },
   {
    "duration": 8,
    "start_time": "2023-08-21T09:21:51.765Z"
   },
   {
    "duration": 12,
    "start_time": "2023-08-21T09:21:53.149Z"
   },
   {
    "duration": 116,
    "start_time": "2023-08-21T09:21:53.583Z"
   },
   {
    "duration": 195,
    "start_time": "2023-08-21T09:21:54.074Z"
   },
   {
    "duration": 10,
    "start_time": "2023-08-21T09:21:58.120Z"
   },
   {
    "duration": 202,
    "start_time": "2023-08-21T09:21:59.133Z"
   },
   {
    "duration": 13,
    "start_time": "2023-08-21T09:22:02.230Z"
   },
   {
    "duration": 263,
    "start_time": "2023-08-21T09:22:02.617Z"
   },
   {
    "duration": 11,
    "start_time": "2023-08-21T09:22:29.439Z"
   },
   {
    "duration": 221,
    "start_time": "2023-08-21T09:22:30.368Z"
   },
   {
    "duration": 11,
    "start_time": "2023-08-21T09:22:49.468Z"
   },
   {
    "duration": 202,
    "start_time": "2023-08-21T09:22:52.867Z"
   },
   {
    "duration": 16,
    "start_time": "2023-08-21T09:23:00.652Z"
   },
   {
    "duration": 225,
    "start_time": "2023-08-21T09:23:01.502Z"
   },
   {
    "duration": 11,
    "start_time": "2023-08-21T09:23:08.070Z"
   },
   {
    "duration": 5,
    "start_time": "2023-08-21T09:23:09.299Z"
   },
   {
    "duration": 5,
    "start_time": "2023-08-21T09:23:09.667Z"
   },
   {
    "duration": 5,
    "start_time": "2023-08-21T09:23:10.029Z"
   },
   {
    "duration": 5,
    "start_time": "2023-08-21T09:23:48.775Z"
   },
   {
    "duration": 5,
    "start_time": "2023-08-21T09:23:49.619Z"
   },
   {
    "duration": 5,
    "start_time": "2023-08-21T09:23:50.420Z"
   },
   {
    "duration": 10,
    "start_time": "2023-08-21T09:24:59.024Z"
   },
   {
    "duration": 15,
    "start_time": "2023-08-21T09:24:59.568Z"
   },
   {
    "duration": 13,
    "start_time": "2023-08-21T09:25:00.429Z"
   },
   {
    "duration": 4,
    "start_time": "2023-08-21T09:27:07.298Z"
   },
   {
    "duration": 6,
    "start_time": "2023-08-21T09:27:07.876Z"
   },
   {
    "duration": 4,
    "start_time": "2023-08-21T09:27:08.410Z"
   },
   {
    "duration": 3,
    "start_time": "2023-08-21T09:27:09.252Z"
   },
   {
    "duration": 3,
    "start_time": "2023-08-21T09:29:53.570Z"
   },
   {
    "duration": 3,
    "start_time": "2023-08-21T09:29:54.070Z"
   },
   {
    "duration": 3,
    "start_time": "2023-08-21T09:29:54.696Z"
   },
   {
    "duration": 4,
    "start_time": "2023-08-21T09:29:55.278Z"
   },
   {
    "duration": 4,
    "start_time": "2023-08-21T09:29:58.947Z"
   },
   {
    "duration": 3,
    "start_time": "2023-08-21T09:30:00.024Z"
   },
   {
    "duration": 3,
    "start_time": "2023-08-21T09:30:04.613Z"
   },
   {
    "duration": 6,
    "start_time": "2023-08-21T09:30:05.262Z"
   },
   {
    "duration": 8,
    "start_time": "2023-08-21T09:30:42.848Z"
   },
   {
    "duration": 3,
    "start_time": "2023-08-21T09:30:43.324Z"
   },
   {
    "duration": 3,
    "start_time": "2023-08-21T09:31:06.708Z"
   },
   {
    "duration": 3,
    "start_time": "2023-08-21T09:31:07.172Z"
   },
   {
    "duration": 5,
    "start_time": "2023-08-21T09:31:38.099Z"
   },
   {
    "duration": 6,
    "start_time": "2023-08-21T09:31:44.681Z"
   },
   {
    "duration": 5,
    "start_time": "2023-08-21T09:32:03.127Z"
   },
   {
    "duration": 3,
    "start_time": "2023-08-21T09:33:19.887Z"
   },
   {
    "duration": 7,
    "start_time": "2023-08-21T09:33:20.280Z"
   },
   {
    "duration": 5,
    "start_time": "2023-08-21T09:36:07.176Z"
   },
   {
    "duration": 6,
    "start_time": "2023-08-21T09:36:07.675Z"
   },
   {
    "duration": 6,
    "start_time": "2023-08-21T09:36:08.185Z"
   },
   {
    "duration": 4,
    "start_time": "2023-08-21T09:36:21.874Z"
   },
   {
    "duration": 12,
    "start_time": "2023-08-21T09:36:32.150Z"
   },
   {
    "duration": 4,
    "start_time": "2023-08-21T09:36:39.897Z"
   },
   {
    "duration": 5,
    "start_time": "2023-08-21T09:36:56.708Z"
   },
   {
    "duration": 4,
    "start_time": "2023-08-21T09:36:57.137Z"
   },
   {
    "duration": 4,
    "start_time": "2023-08-21T09:36:57.574Z"
   },
   {
    "duration": 29,
    "start_time": "2023-08-21T10:04:59.963Z"
   },
   {
    "duration": 29,
    "start_time": "2023-08-21T10:05:04.781Z"
   },
   {
    "duration": 11,
    "start_time": "2023-08-21T10:06:20.874Z"
   },
   {
    "duration": 15,
    "start_time": "2023-08-21T10:09:23.091Z"
   },
   {
    "duration": 11,
    "start_time": "2023-08-21T10:13:39.683Z"
   },
   {
    "duration": 111,
    "start_time": "2023-08-21T10:15:31.464Z"
   },
   {
    "duration": 9,
    "start_time": "2023-08-21T10:17:01.876Z"
   },
   {
    "duration": 9,
    "start_time": "2023-08-21T10:17:26.371Z"
   },
   {
    "duration": 11,
    "start_time": "2023-08-21T10:17:34.480Z"
   },
   {
    "duration": 10,
    "start_time": "2023-08-21T10:17:53.095Z"
   },
   {
    "duration": 11,
    "start_time": "2023-08-21T10:18:07.082Z"
   },
   {
    "duration": 18,
    "start_time": "2023-08-21T10:19:13.022Z"
   },
   {
    "duration": 24,
    "start_time": "2023-08-21T10:19:45.697Z"
   },
   {
    "duration": 17,
    "start_time": "2023-08-21T10:19:59.030Z"
   },
   {
    "duration": 6,
    "start_time": "2023-08-21T10:23:35.768Z"
   },
   {
    "duration": 9,
    "start_time": "2023-08-21T10:24:19.264Z"
   },
   {
    "duration": 8,
    "start_time": "2023-08-21T10:24:22.268Z"
   },
   {
    "duration": 7,
    "start_time": "2023-08-21T10:24:32.741Z"
   },
   {
    "duration": 12,
    "start_time": "2023-08-21T10:33:53.038Z"
   },
   {
    "duration": 8,
    "start_time": "2023-08-21T10:34:17.234Z"
   },
   {
    "duration": 22,
    "start_time": "2023-08-21T10:34:50.937Z"
   },
   {
    "duration": 9,
    "start_time": "2023-08-21T10:35:27.477Z"
   },
   {
    "duration": 14,
    "start_time": "2023-08-21T10:35:31.799Z"
   },
   {
    "duration": 13,
    "start_time": "2023-08-21T10:35:54.011Z"
   },
   {
    "duration": 7,
    "start_time": "2023-08-21T10:37:03.227Z"
   },
   {
    "duration": 4,
    "start_time": "2023-08-21T10:37:12.398Z"
   },
   {
    "duration": 9,
    "start_time": "2023-08-21T10:39:01.650Z"
   },
   {
    "duration": 10,
    "start_time": "2023-08-21T10:57:41.507Z"
   },
   {
    "duration": 5,
    "start_time": "2023-08-21T10:58:23.010Z"
   },
   {
    "duration": 6,
    "start_time": "2023-08-21T10:58:33.039Z"
   },
   {
    "duration": 6,
    "start_time": "2023-08-21T10:59:19.964Z"
   },
   {
    "duration": 7,
    "start_time": "2023-08-21T10:59:24.605Z"
   },
   {
    "duration": 6,
    "start_time": "2023-08-21T10:59:27.483Z"
   },
   {
    "duration": 14,
    "start_time": "2023-08-21T11:12:06.582Z"
   },
   {
    "duration": 21,
    "start_time": "2023-08-21T11:12:42.909Z"
   },
   {
    "duration": 15,
    "start_time": "2023-08-21T11:13:02.395Z"
   },
   {
    "duration": 9,
    "start_time": "2023-08-21T11:17:02.060Z"
   },
   {
    "duration": 9,
    "start_time": "2023-08-21T11:17:07.083Z"
   },
   {
    "duration": 6,
    "start_time": "2023-08-21T11:17:36.320Z"
   },
   {
    "duration": 4,
    "start_time": "2023-08-21T11:18:08.877Z"
   },
   {
    "duration": 6,
    "start_time": "2023-08-21T11:18:13.910Z"
   },
   {
    "duration": 14,
    "start_time": "2023-08-21T11:21:25.044Z"
   },
   {
    "duration": 9,
    "start_time": "2023-08-21T11:21:59.073Z"
   },
   {
    "duration": 11,
    "start_time": "2023-08-21T11:23:07.114Z"
   },
   {
    "duration": 12,
    "start_time": "2023-08-21T11:25:11.586Z"
   },
   {
    "duration": 14,
    "start_time": "2023-08-21T11:25:15.437Z"
   },
   {
    "duration": 16,
    "start_time": "2023-08-21T11:26:36.365Z"
   },
   {
    "duration": 13,
    "start_time": "2023-08-21T11:29:21.128Z"
   },
   {
    "duration": 20,
    "start_time": "2023-08-21T11:30:53.050Z"
   },
   {
    "duration": 13,
    "start_time": "2023-08-21T11:32:28.528Z"
   },
   {
    "duration": 9,
    "start_time": "2023-08-21T11:32:53.711Z"
   },
   {
    "duration": 20,
    "start_time": "2023-08-21T11:33:23.228Z"
   },
   {
    "duration": 16,
    "start_time": "2023-08-21T11:34:09.420Z"
   },
   {
    "duration": 33,
    "start_time": "2023-08-21T11:35:24.250Z"
   },
   {
    "duration": 16,
    "start_time": "2023-08-21T11:35:46.891Z"
   },
   {
    "duration": 7,
    "start_time": "2023-08-21T11:37:44.441Z"
   },
   {
    "duration": 6,
    "start_time": "2023-08-21T11:39:06.995Z"
   },
   {
    "duration": 5,
    "start_time": "2023-08-21T11:39:30.917Z"
   },
   {
    "duration": 3,
    "start_time": "2023-08-21T11:39:40.776Z"
   },
   {
    "duration": 5,
    "start_time": "2023-08-21T11:39:49.336Z"
   },
   {
    "duration": 1210,
    "start_time": "2023-08-21T12:13:34.809Z"
   },
   {
    "duration": 1017,
    "start_time": "2023-08-21T12:13:36.021Z"
   },
   {
    "duration": 14,
    "start_time": "2023-08-21T12:13:37.041Z"
   },
   {
    "duration": 29,
    "start_time": "2023-08-21T12:13:38.180Z"
   },
   {
    "duration": 5,
    "start_time": "2023-08-21T12:13:39.842Z"
   },
   {
    "duration": 18,
    "start_time": "2023-08-21T12:13:41.730Z"
   },
   {
    "duration": 9,
    "start_time": "2023-08-21T12:13:42.068Z"
   },
   {
    "duration": 6,
    "start_time": "2023-08-21T12:13:42.398Z"
   },
   {
    "duration": 6,
    "start_time": "2023-08-21T12:13:42.704Z"
   },
   {
    "duration": 32,
    "start_time": "2023-08-21T12:13:43.014Z"
   },
   {
    "duration": 9,
    "start_time": "2023-08-21T12:13:43.324Z"
   },
   {
    "duration": 7,
    "start_time": "2023-08-21T12:13:45.158Z"
   },
   {
    "duration": 23,
    "start_time": "2023-08-21T12:13:45.459Z"
   },
   {
    "duration": 14,
    "start_time": "2023-08-21T12:13:47.332Z"
   },
   {
    "duration": 10,
    "start_time": "2023-08-21T12:13:48.090Z"
   },
   {
    "duration": 15,
    "start_time": "2023-08-21T12:13:49.416Z"
   },
   {
    "duration": 24,
    "start_time": "2023-08-21T12:13:49.775Z"
   },
   {
    "duration": 10,
    "start_time": "2023-08-21T12:13:51.680Z"
   },
   {
    "duration": 8,
    "start_time": "2023-08-21T12:13:51.999Z"
   },
   {
    "duration": 19,
    "start_time": "2023-08-21T12:13:52.728Z"
   },
   {
    "duration": 17,
    "start_time": "2023-08-21T12:13:54.595Z"
   },
   {
    "duration": 5,
    "start_time": "2023-08-21T12:13:55.468Z"
   },
   {
    "duration": 22,
    "start_time": "2023-08-21T12:13:55.951Z"
   },
   {
    "duration": 12,
    "start_time": "2023-08-21T12:13:57.108Z"
   },
   {
    "duration": 21,
    "start_time": "2023-08-21T12:13:58.218Z"
   },
   {
    "duration": 7,
    "start_time": "2023-08-21T12:13:59.777Z"
   },
   {
    "duration": 15,
    "start_time": "2023-08-21T12:14:00.098Z"
   },
   {
    "duration": 21,
    "start_time": "2023-08-21T12:14:00.649Z"
   },
   {
    "duration": 18,
    "start_time": "2023-08-21T12:14:02.296Z"
   },
   {
    "duration": 5,
    "start_time": "2023-08-21T12:14:02.843Z"
   },
   {
    "duration": 26,
    "start_time": "2023-08-21T12:14:04.249Z"
   },
   {
    "duration": 15,
    "start_time": "2023-08-21T12:14:05.071Z"
   },
   {
    "duration": 5,
    "start_time": "2023-08-21T12:14:07.941Z"
   },
   {
    "duration": 5,
    "start_time": "2023-08-21T12:14:08.289Z"
   },
   {
    "duration": 7,
    "start_time": "2023-08-21T12:14:09.344Z"
   },
   {
    "duration": 12,
    "start_time": "2023-08-21T12:14:10.062Z"
   },
   {
    "duration": 5,
    "start_time": "2023-08-21T12:14:11.878Z"
   },
   {
    "duration": 14,
    "start_time": "2023-08-21T12:14:12.616Z"
   },
   {
    "duration": 316,
    "start_time": "2023-08-21T12:14:13.279Z"
   },
   {
    "duration": 14,
    "start_time": "2023-08-21T12:14:15.474Z"
   },
   {
    "duration": 302,
    "start_time": "2023-08-21T12:14:16.774Z"
   },
   {
    "duration": 18,
    "start_time": "2023-08-21T12:14:22.767Z"
   },
   {
    "duration": 301,
    "start_time": "2023-08-21T12:14:23.620Z"
   },
   {
    "duration": 20,
    "start_time": "2023-08-21T12:14:30.367Z"
   },
   {
    "duration": 313,
    "start_time": "2023-08-21T12:14:31.123Z"
   },
   {
    "duration": 14,
    "start_time": "2023-08-21T12:14:34.877Z"
   },
   {
    "duration": 5,
    "start_time": "2023-08-21T12:14:36.130Z"
   },
   {
    "duration": 92,
    "start_time": "2023-08-21T12:14:36.139Z"
   },
   {
    "duration": 12,
    "start_time": "2023-08-21T12:14:37.035Z"
   },
   {
    "duration": 221,
    "start_time": "2023-08-21T12:14:37.295Z"
   },
   {
    "duration": 4,
    "start_time": "2023-08-21T12:14:39.621Z"
   },
   {
    "duration": 23,
    "start_time": "2023-08-21T12:14:40.672Z"
   },
   {
    "duration": 13,
    "start_time": "2023-08-21T12:14:41.892Z"
   },
   {
    "duration": 6,
    "start_time": "2023-08-21T12:14:42.245Z"
   },
   {
    "duration": 8,
    "start_time": "2023-08-21T12:14:42.622Z"
   },
   {
    "duration": 5,
    "start_time": "2023-08-21T12:14:43.145Z"
   },
   {
    "duration": 17,
    "start_time": "2023-08-21T12:14:43.506Z"
   },
   {
    "duration": 189,
    "start_time": "2023-08-21T12:14:44.355Z"
   },
   {
    "duration": 7,
    "start_time": "2023-08-21T12:14:47.791Z"
   },
   {
    "duration": 397,
    "start_time": "2023-08-21T12:14:48.813Z"
   },
   {
    "duration": 11,
    "start_time": "2023-08-21T12:14:51.316Z"
   },
   {
    "duration": 6,
    "start_time": "2023-08-21T12:14:52.592Z"
   },
   {
    "duration": 17,
    "start_time": "2023-08-21T12:14:53.046Z"
   },
   {
    "duration": 320,
    "start_time": "2023-08-21T12:14:53.571Z"
   },
   {
    "duration": 16,
    "start_time": "2023-08-21T12:14:56.204Z"
   },
   {
    "duration": 271,
    "start_time": "2023-08-21T12:14:56.611Z"
   },
   {
    "duration": 12,
    "start_time": "2023-08-21T12:14:58.787Z"
   },
   {
    "duration": 397,
    "start_time": "2023-08-21T12:14:59.686Z"
   },
   {
    "duration": 13,
    "start_time": "2023-08-21T12:15:01.872Z"
   },
   {
    "duration": 331,
    "start_time": "2023-08-21T12:15:02.215Z"
   },
   {
    "duration": 11,
    "start_time": "2023-08-21T12:15:05.396Z"
   },
   {
    "duration": 6,
    "start_time": "2023-08-21T12:15:06.240Z"
   },
   {
    "duration": 7,
    "start_time": "2023-08-21T12:15:06.646Z"
   },
   {
    "duration": 6,
    "start_time": "2023-08-21T12:15:07.040Z"
   },
   {
    "duration": 6,
    "start_time": "2023-08-21T12:15:09.079Z"
   },
   {
    "duration": 6,
    "start_time": "2023-08-21T12:15:09.495Z"
   },
   {
    "duration": 5,
    "start_time": "2023-08-21T12:15:10.591Z"
   },
   {
    "duration": 15,
    "start_time": "2023-08-21T12:15:12.390Z"
   },
   {
    "duration": 22,
    "start_time": "2023-08-21T12:15:13.255Z"
   },
   {
    "duration": 11,
    "start_time": "2023-08-21T12:15:13.919Z"
   },
   {
    "duration": 4,
    "start_time": "2023-08-21T12:15:15.970Z"
   },
   {
    "duration": 11,
    "start_time": "2023-08-21T12:15:16.547Z"
   },
   {
    "duration": 4,
    "start_time": "2023-08-21T12:15:16.618Z"
   },
   {
    "duration": 4,
    "start_time": "2023-08-21T12:15:16.980Z"
   },
   {
    "duration": 8,
    "start_time": "2023-08-21T12:15:17.349Z"
   },
   {
    "duration": 6,
    "start_time": "2023-08-21T12:15:17.721Z"
   },
   {
    "duration": 4,
    "start_time": "2023-08-21T12:15:18.081Z"
   },
   {
    "duration": 5,
    "start_time": "2023-08-21T12:15:18.441Z"
   },
   {
    "duration": 5,
    "start_time": "2023-08-21T12:15:18.812Z"
   },
   {
    "duration": 7,
    "start_time": "2023-08-21T12:15:19.297Z"
   },
   {
    "duration": 3,
    "start_time": "2023-08-21T12:15:19.680Z"
   },
   {
    "duration": 4,
    "start_time": "2023-08-21T12:15:20.085Z"
   },
   {
    "duration": 8,
    "start_time": "2023-08-21T12:15:22.021Z"
   },
   {
    "duration": 7,
    "start_time": "2023-08-21T12:15:22.436Z"
   },
   {
    "duration": 7,
    "start_time": "2023-08-21T12:15:22.844Z"
   },
   {
    "duration": 11,
    "start_time": "2023-08-21T12:15:24.655Z"
   },
   {
    "duration": 6,
    "start_time": "2023-08-21T12:15:25.037Z"
   },
   {
    "duration": 6,
    "start_time": "2023-08-21T12:15:25.929Z"
   },
   {
    "duration": 6,
    "start_time": "2023-08-21T12:15:27.484Z"
   },
   {
    "duration": 7,
    "start_time": "2023-08-21T12:15:27.884Z"
   },
   {
    "duration": 6,
    "start_time": "2023-08-21T12:15:28.280Z"
   },
   {
    "duration": 13,
    "start_time": "2023-08-21T12:15:33.380Z"
   },
   {
    "duration": 14,
    "start_time": "2023-08-21T12:15:33.778Z"
   },
   {
    "duration": 7,
    "start_time": "2023-08-21T12:15:34.239Z"
   },
   {
    "duration": 13,
    "start_time": "2023-08-21T12:15:35.878Z"
   },
   {
    "duration": 9,
    "start_time": "2023-08-21T12:15:36.075Z"
   },
   {
    "duration": 7,
    "start_time": "2023-08-21T12:15:39.538Z"
   },
   {
    "duration": 10,
    "start_time": "2023-08-21T12:15:40.192Z"
   },
   {
    "duration": 26,
    "start_time": "2023-08-21T12:15:40.808Z"
   },
   {
    "duration": 1260,
    "start_time": "2023-08-21T13:12:58.857Z"
   },
   {
    "duration": 1426,
    "start_time": "2023-08-21T13:13:00.118Z"
   },
   {
    "duration": 12,
    "start_time": "2023-08-21T13:13:03.866Z"
   },
   {
    "duration": 20,
    "start_time": "2023-08-21T13:13:04.431Z"
   },
   {
    "duration": 4,
    "start_time": "2023-08-21T13:13:06.733Z"
   },
   {
    "duration": 10,
    "start_time": "2023-08-21T13:13:08.767Z"
   },
   {
    "duration": 6,
    "start_time": "2023-08-21T13:13:09.094Z"
   },
   {
    "duration": 6,
    "start_time": "2023-08-21T13:13:09.406Z"
   },
   {
    "duration": 5,
    "start_time": "2023-08-21T13:13:09.725Z"
   },
   {
    "duration": 33,
    "start_time": "2023-08-21T13:13:10.047Z"
   },
   {
    "duration": 9,
    "start_time": "2023-08-21T13:13:10.384Z"
   },
   {
    "duration": 5,
    "start_time": "2023-08-21T13:13:12.102Z"
   },
   {
    "duration": 19,
    "start_time": "2023-08-21T13:13:12.413Z"
   },
   {
    "duration": 10,
    "start_time": "2023-08-21T13:13:14.231Z"
   },
   {
    "duration": 9,
    "start_time": "2023-08-21T13:13:15.279Z"
   },
   {
    "duration": 11,
    "start_time": "2023-08-21T13:13:16.599Z"
   },
   {
    "duration": 22,
    "start_time": "2023-08-21T13:13:17.035Z"
   },
   {
    "duration": 10,
    "start_time": "2023-08-21T13:13:18.519Z"
   },
   {
    "duration": 10,
    "start_time": "2023-08-21T13:13:19.149Z"
   },
   {
    "duration": 12,
    "start_time": "2023-08-21T13:13:19.586Z"
   },
   {
    "duration": 19,
    "start_time": "2023-08-21T13:13:21.160Z"
   },
   {
    "duration": 7,
    "start_time": "2023-08-21T13:13:22.522Z"
   },
   {
    "duration": 12,
    "start_time": "2023-08-21T13:13:22.992Z"
   },
   {
    "duration": 10,
    "start_time": "2023-08-21T13:13:24.285Z"
   },
   {
    "duration": 14,
    "start_time": "2023-08-21T13:13:24.898Z"
   },
   {
    "duration": 4,
    "start_time": "2023-08-21T13:13:27.178Z"
   },
   {
    "duration": 8,
    "start_time": "2023-08-21T13:13:27.525Z"
   },
   {
    "duration": 10,
    "start_time": "2023-08-21T13:13:27.915Z"
   },
   {
    "duration": 12,
    "start_time": "2023-08-21T13:13:29.972Z"
   },
   {
    "duration": 5,
    "start_time": "2023-08-21T13:13:30.317Z"
   },
   {
    "duration": 29,
    "start_time": "2023-08-21T13:13:32.328Z"
   },
   {
    "duration": 12,
    "start_time": "2023-08-21T13:13:33.982Z"
   },
   {
    "duration": 4,
    "start_time": "2023-08-21T13:13:35.275Z"
   },
   {
    "duration": 4,
    "start_time": "2023-08-21T13:13:36.969Z"
   },
   {
    "duration": 4,
    "start_time": "2023-08-21T13:13:37.298Z"
   },
   {
    "duration": 10,
    "start_time": "2023-08-21T13:13:38.467Z"
   },
   {
    "duration": 5,
    "start_time": "2023-08-21T13:13:39.824Z"
   },
   {
    "duration": 4,
    "start_time": "2023-08-21T13:13:41.369Z"
   },
   {
    "duration": 12,
    "start_time": "2023-08-21T13:13:42.463Z"
   },
   {
    "duration": 320,
    "start_time": "2023-08-21T13:13:43.409Z"
   },
   {
    "duration": 15,
    "start_time": "2023-08-21T13:13:45.364Z"
   },
   {
    "duration": 262,
    "start_time": "2023-08-21T13:13:45.723Z"
   },
   {
    "duration": 15,
    "start_time": "2023-08-21T13:13:48.571Z"
   },
   {
    "duration": 311,
    "start_time": "2023-08-21T13:13:49.162Z"
   },
   {
    "duration": 12,
    "start_time": "2023-08-21T13:13:51.727Z"
   },
   {
    "duration": 314,
    "start_time": "2023-08-21T13:13:52.267Z"
   },
   {
    "duration": 13,
    "start_time": "2023-08-21T13:13:56.005Z"
   },
   {
    "duration": 7,
    "start_time": "2023-08-21T13:13:56.548Z"
   },
   {
    "duration": 61,
    "start_time": "2023-08-21T13:13:57.518Z"
   },
   {
    "duration": 10,
    "start_time": "2023-08-21T13:13:59.425Z"
   },
   {
    "duration": 199,
    "start_time": "2023-08-21T13:13:59.845Z"
   },
   {
    "duration": 3,
    "start_time": "2023-08-21T13:14:02.189Z"
   },
   {
    "duration": 21,
    "start_time": "2023-08-21T13:14:03.268Z"
   },
   {
    "duration": 18,
    "start_time": "2023-08-21T13:14:04.149Z"
   },
   {
    "duration": 5,
    "start_time": "2023-08-21T13:14:04.488Z"
   },
   {
    "duration": 6,
    "start_time": "2023-08-21T13:14:05.779Z"
   },
   {
    "duration": 4,
    "start_time": "2023-08-21T13:14:06.203Z"
   },
   {
    "duration": 14,
    "start_time": "2023-08-21T13:14:06.658Z"
   },
   {
    "duration": 186,
    "start_time": "2023-08-21T13:14:07.118Z"
   },
   {
    "duration": 7,
    "start_time": "2023-08-21T13:14:09.325Z"
   },
   {
    "duration": 309,
    "start_time": "2023-08-21T13:14:10.230Z"
   },
   {
    "duration": 7,
    "start_time": "2023-08-21T13:14:12.071Z"
   },
   {
    "duration": 6,
    "start_time": "2023-08-21T13:14:12.919Z"
   },
   {
    "duration": 11,
    "start_time": "2023-08-21T13:14:13.313Z"
   },
   {
    "duration": 218,
    "start_time": "2023-08-21T13:14:14.167Z"
   },
   {
    "duration": 12,
    "start_time": "2023-08-21T13:14:16.196Z"
   },
   {
    "duration": 208,
    "start_time": "2023-08-21T13:14:16.611Z"
   },
   {
    "duration": 12,
    "start_time": "2023-08-21T13:14:18.913Z"
   },
   {
    "duration": 271,
    "start_time": "2023-08-21T13:14:19.352Z"
   },
   {
    "duration": 12,
    "start_time": "2023-08-21T13:14:21.490Z"
   },
   {
    "duration": 213,
    "start_time": "2023-08-21T13:14:22.913Z"
   },
   {
    "duration": 13,
    "start_time": "2023-08-21T13:14:25.761Z"
   },
   {
    "duration": 5,
    "start_time": "2023-08-21T13:14:26.439Z"
   },
   {
    "duration": 5,
    "start_time": "2023-08-21T13:14:26.986Z"
   },
   {
    "duration": 5,
    "start_time": "2023-08-21T13:14:27.208Z"
   },
   {
    "duration": 5,
    "start_time": "2023-08-21T13:14:29.312Z"
   },
   {
    "duration": 5,
    "start_time": "2023-08-21T13:14:29.547Z"
   },
   {
    "duration": 5,
    "start_time": "2023-08-21T13:14:30.029Z"
   },
   {
    "duration": 13,
    "start_time": "2023-08-21T13:14:36.655Z"
   },
   {
    "duration": 13,
    "start_time": "2023-08-21T13:14:36.861Z"
   },
   {
    "duration": 13,
    "start_time": "2023-08-21T13:14:38.328Z"
   },
   {
    "duration": 4,
    "start_time": "2023-08-21T13:14:40.048Z"
   },
   {
    "duration": 3,
    "start_time": "2023-08-21T13:14:40.373Z"
   },
   {
    "duration": 2,
    "start_time": "2023-08-21T13:14:40.728Z"
   },
   {
    "duration": 5,
    "start_time": "2023-08-21T13:14:41.052Z"
   },
   {
    "duration": 3,
    "start_time": "2023-08-21T13:14:41.425Z"
   },
   {
    "duration": 3,
    "start_time": "2023-08-21T13:14:41.782Z"
   },
   {
    "duration": 2,
    "start_time": "2023-08-21T13:14:42.148Z"
   },
   {
    "duration": 9,
    "start_time": "2023-08-21T13:14:42.562Z"
   },
   {
    "duration": 4,
    "start_time": "2023-08-21T13:14:43.035Z"
   },
   {
    "duration": 4,
    "start_time": "2023-08-21T13:14:43.412Z"
   },
   {
    "duration": 3,
    "start_time": "2023-08-21T13:14:44.016Z"
   },
   {
    "duration": 4,
    "start_time": "2023-08-21T13:14:44.406Z"
   },
   {
    "duration": 6,
    "start_time": "2023-08-21T13:14:46.616Z"
   },
   {
    "duration": 6,
    "start_time": "2023-08-21T13:14:47.067Z"
   },
   {
    "duration": 5,
    "start_time": "2023-08-21T13:14:47.578Z"
   },
   {
    "duration": 5,
    "start_time": "2023-08-21T13:14:49.569Z"
   },
   {
    "duration": 5,
    "start_time": "2023-08-21T13:14:50.027Z"
   },
   {
    "duration": 5,
    "start_time": "2023-08-21T13:14:50.471Z"
   },
   {
    "duration": 8,
    "start_time": "2023-08-21T13:14:53.458Z"
   },
   {
    "duration": 5,
    "start_time": "2023-08-21T13:14:53.816Z"
   },
   {
    "duration": 5,
    "start_time": "2023-08-21T13:14:54.291Z"
   },
   {
    "duration": 6,
    "start_time": "2023-08-21T13:15:03.908Z"
   },
   {
    "duration": 8,
    "start_time": "2023-08-21T13:15:06.077Z"
   },
   {
    "duration": 7,
    "start_time": "2023-08-21T13:15:06.832Z"
   },
   {
    "duration": 6,
    "start_time": "2023-08-21T13:15:09.337Z"
   },
   {
    "duration": 8,
    "start_time": "2023-08-21T13:15:09.790Z"
   },
   {
    "duration": 5,
    "start_time": "2023-08-21T13:15:09.834Z"
   },
   {
    "duration": 45,
    "start_time": "2023-08-22T08:22:41.496Z"
   },
   {
    "duration": 1183,
    "start_time": "2023-08-22T08:22:49.407Z"
   },
   {
    "duration": 1490,
    "start_time": "2023-08-22T08:22:50.592Z"
   },
   {
    "duration": 12,
    "start_time": "2023-08-22T08:22:52.084Z"
   },
   {
    "duration": 35,
    "start_time": "2023-08-22T08:22:52.098Z"
   },
   {
    "duration": 3,
    "start_time": "2023-08-22T08:22:52.135Z"
   },
   {
    "duration": 19,
    "start_time": "2023-08-22T08:22:52.140Z"
   },
   {
    "duration": 15,
    "start_time": "2023-08-22T08:22:52.161Z"
   },
   {
    "duration": 16,
    "start_time": "2023-08-22T08:22:52.178Z"
   },
   {
    "duration": 17,
    "start_time": "2023-08-22T08:22:52.195Z"
   },
   {
    "duration": 45,
    "start_time": "2023-08-22T08:22:52.214Z"
   },
   {
    "duration": 7,
    "start_time": "2023-08-22T08:22:52.261Z"
   },
   {
    "duration": 17,
    "start_time": "2023-08-22T08:22:52.269Z"
   },
   {
    "duration": 32,
    "start_time": "2023-08-22T08:22:52.287Z"
   },
   {
    "duration": 13,
    "start_time": "2023-08-22T08:22:52.320Z"
   },
   {
    "duration": 32,
    "start_time": "2023-08-22T08:22:52.335Z"
   },
   {
    "duration": 12,
    "start_time": "2023-08-22T08:22:52.369Z"
   },
   {
    "duration": 17,
    "start_time": "2023-08-22T08:22:52.383Z"
   },
   {
    "duration": 7,
    "start_time": "2023-08-22T08:22:52.402Z"
   },
   {
    "duration": 10,
    "start_time": "2023-08-22T08:22:52.411Z"
   },
   {
    "duration": 38,
    "start_time": "2023-08-22T08:22:52.423Z"
   },
   {
    "duration": 12,
    "start_time": "2023-08-22T08:22:52.463Z"
   },
   {
    "duration": 9,
    "start_time": "2023-08-22T08:22:52.477Z"
   },
   {
    "duration": 18,
    "start_time": "2023-08-22T08:22:52.488Z"
   },
   {
    "duration": 10,
    "start_time": "2023-08-22T08:22:52.508Z"
   },
   {
    "duration": 12,
    "start_time": "2023-08-22T08:22:52.520Z"
   },
   {
    "duration": 11,
    "start_time": "2023-08-22T08:22:52.534Z"
   },
   {
    "duration": 7,
    "start_time": "2023-08-22T08:22:52.560Z"
   },
   {
    "duration": 16,
    "start_time": "2023-08-22T08:22:52.571Z"
   },
   {
    "duration": 13,
    "start_time": "2023-08-22T08:22:52.588Z"
   },
   {
    "duration": 6,
    "start_time": "2023-08-22T08:22:52.603Z"
   },
   {
    "duration": 26,
    "start_time": "2023-08-22T08:22:52.611Z"
   },
   {
    "duration": 27,
    "start_time": "2023-08-22T08:22:52.639Z"
   },
   {
    "duration": 3,
    "start_time": "2023-08-22T08:22:52.668Z"
   },
   {
    "duration": 6,
    "start_time": "2023-08-22T08:22:52.673Z"
   },
   {
    "duration": 7,
    "start_time": "2023-08-22T08:22:52.680Z"
   },
   {
    "duration": 8,
    "start_time": "2023-08-22T08:22:52.689Z"
   },
   {
    "duration": 9,
    "start_time": "2023-08-22T08:22:52.699Z"
   },
   {
    "duration": 4,
    "start_time": "2023-08-22T08:22:52.710Z"
   },
   {
    "duration": 17,
    "start_time": "2023-08-22T08:22:52.715Z"
   },
   {
    "duration": 287,
    "start_time": "2023-08-22T08:22:52.733Z"
   },
   {
    "duration": 16,
    "start_time": "2023-08-22T08:22:53.021Z"
   },
   {
    "duration": 252,
    "start_time": "2023-08-22T08:22:53.039Z"
   },
   {
    "duration": 12,
    "start_time": "2023-08-22T08:22:53.292Z"
   },
   {
    "duration": 282,
    "start_time": "2023-08-22T08:22:53.305Z"
   },
   {
    "duration": 11,
    "start_time": "2023-08-22T08:22:53.588Z"
   },
   {
    "duration": 271,
    "start_time": "2023-08-22T08:22:53.601Z"
   },
   {
    "duration": 11,
    "start_time": "2023-08-22T08:22:53.874Z"
   },
   {
    "duration": 5,
    "start_time": "2023-08-22T08:22:53.887Z"
   },
   {
    "duration": 52,
    "start_time": "2023-08-22T08:22:53.894Z"
   },
   {
    "duration": 10,
    "start_time": "2023-08-22T08:22:53.959Z"
   },
   {
    "duration": 240,
    "start_time": "2023-08-22T08:22:53.971Z"
   },
   {
    "duration": 4,
    "start_time": "2023-08-22T08:22:54.213Z"
   },
   {
    "duration": 17,
    "start_time": "2023-08-22T08:22:54.219Z"
   },
   {
    "duration": 29,
    "start_time": "2023-08-22T08:22:54.238Z"
   },
   {
    "duration": 7,
    "start_time": "2023-08-22T08:22:54.269Z"
   },
   {
    "duration": 14,
    "start_time": "2023-08-22T08:22:54.278Z"
   },
   {
    "duration": 6,
    "start_time": "2023-08-22T08:22:54.294Z"
   },
   {
    "duration": 11,
    "start_time": "2023-08-22T08:22:54.302Z"
   },
   {
    "duration": 183,
    "start_time": "2023-08-22T08:22:54.314Z"
   },
   {
    "duration": 7,
    "start_time": "2023-08-22T08:22:54.499Z"
   },
   {
    "duration": 319,
    "start_time": "2023-08-22T08:22:54.510Z"
   },
   {
    "duration": 6,
    "start_time": "2023-08-22T08:22:54.831Z"
   },
   {
    "duration": 6,
    "start_time": "2023-08-22T08:22:54.839Z"
   },
   {
    "duration": 9,
    "start_time": "2023-08-22T08:22:54.859Z"
   },
   {
    "duration": 202,
    "start_time": "2023-08-22T08:22:54.870Z"
   },
   {
    "duration": 11,
    "start_time": "2023-08-22T08:22:55.074Z"
   },
   {
    "duration": 219,
    "start_time": "2023-08-22T08:22:55.086Z"
   },
   {
    "duration": 11,
    "start_time": "2023-08-22T08:22:55.307Z"
   },
   {
    "duration": 231,
    "start_time": "2023-08-22T08:22:55.320Z"
   },
   {
    "duration": 15,
    "start_time": "2023-08-22T08:22:55.553Z"
   },
   {
    "duration": 276,
    "start_time": "2023-08-22T08:22:55.569Z"
   },
   {
    "duration": 20,
    "start_time": "2023-08-22T08:22:55.847Z"
   },
   {
    "duration": 4,
    "start_time": "2023-08-22T08:22:55.868Z"
   },
   {
    "duration": 6,
    "start_time": "2023-08-22T08:22:55.874Z"
   },
   {
    "duration": 12,
    "start_time": "2023-08-22T08:22:55.882Z"
   },
   {
    "duration": 10,
    "start_time": "2023-08-22T08:22:55.896Z"
   },
   {
    "duration": 13,
    "start_time": "2023-08-22T08:22:55.908Z"
   },
   {
    "duration": 18,
    "start_time": "2023-08-22T08:22:55.922Z"
   },
   {
    "duration": 11,
    "start_time": "2023-08-22T08:22:55.941Z"
   },
   {
    "duration": 12,
    "start_time": "2023-08-22T08:22:55.954Z"
   },
   {
    "duration": 17,
    "start_time": "2023-08-22T08:22:55.968Z"
   },
   {
    "duration": 3,
    "start_time": "2023-08-22T08:22:55.990Z"
   },
   {
    "duration": 11,
    "start_time": "2023-08-22T08:22:55.994Z"
   },
   {
    "duration": 5,
    "start_time": "2023-08-22T08:22:56.006Z"
   },
   {
    "duration": 12,
    "start_time": "2023-08-22T08:22:56.012Z"
   },
   {
    "duration": 16,
    "start_time": "2023-08-22T08:22:56.025Z"
   },
   {
    "duration": 23,
    "start_time": "2023-08-22T08:22:56.043Z"
   },
   {
    "duration": 10,
    "start_time": "2023-08-22T08:22:56.068Z"
   },
   {
    "duration": 13,
    "start_time": "2023-08-22T08:22:56.079Z"
   },
   {
    "duration": 5,
    "start_time": "2023-08-22T08:22:56.094Z"
   },
   {
    "duration": 10,
    "start_time": "2023-08-22T08:22:56.101Z"
   },
   {
    "duration": 6,
    "start_time": "2023-08-22T08:22:56.113Z"
   },
   {
    "duration": 14,
    "start_time": "2023-08-22T08:22:56.120Z"
   },
   {
    "duration": 17,
    "start_time": "2023-08-22T08:22:56.136Z"
   },
   {
    "duration": 11,
    "start_time": "2023-08-22T08:22:56.155Z"
   },
   {
    "duration": 41,
    "start_time": "2023-08-22T08:22:56.167Z"
   },
   {
    "duration": 14,
    "start_time": "2023-08-22T08:22:56.210Z"
   },
   {
    "duration": 19,
    "start_time": "2023-08-22T08:22:56.226Z"
   },
   {
    "duration": 25,
    "start_time": "2023-08-22T08:22:56.247Z"
   },
   {
    "duration": 13,
    "start_time": "2023-08-22T08:22:56.274Z"
   },
   {
    "duration": 15,
    "start_time": "2023-08-22T08:22:56.289Z"
   },
   {
    "duration": 12,
    "start_time": "2023-08-22T08:22:56.306Z"
   },
   {
    "duration": 16,
    "start_time": "2023-08-22T08:22:56.323Z"
   },
   {
    "duration": 12,
    "start_time": "2023-08-22T08:22:56.341Z"
   },
   {
    "duration": 24,
    "start_time": "2023-08-22T08:22:56.354Z"
   },
   {
    "duration": 16,
    "start_time": "2023-08-22T08:22:56.380Z"
   },
   {
    "duration": 16,
    "start_time": "2023-08-22T08:22:56.397Z"
   },
   {
    "duration": 7,
    "start_time": "2023-08-22T08:22:56.414Z"
   },
   {
    "duration": 14,
    "start_time": "2023-08-22T08:23:02.334Z"
   },
   {
    "duration": 6,
    "start_time": "2023-08-22T08:23:15.611Z"
   },
   {
    "duration": 21,
    "start_time": "2023-08-22T08:24:40.060Z"
   },
   {
    "duration": 9,
    "start_time": "2023-08-22T08:24:52.014Z"
   },
   {
    "duration": 7,
    "start_time": "2023-08-22T08:24:55.640Z"
   },
   {
    "duration": 1330,
    "start_time": "2024-01-25T11:24:35.550Z"
   },
   {
    "duration": 1579,
    "start_time": "2024-01-25T11:24:38.826Z"
   },
   {
    "duration": 11,
    "start_time": "2024-01-25T11:24:47.658Z"
   },
   {
    "duration": 19,
    "start_time": "2024-01-25T11:24:50.009Z"
   },
   {
    "duration": 3,
    "start_time": "2024-01-25T11:24:52.506Z"
   },
   {
    "duration": 10,
    "start_time": "2024-01-25T11:24:57.440Z"
   },
   {
    "duration": 9,
    "start_time": "2024-01-25T11:24:57.729Z"
   },
   {
    "duration": 5,
    "start_time": "2024-01-25T11:24:57.994Z"
   },
   {
    "duration": 6,
    "start_time": "2024-01-25T11:24:58.261Z"
   },
   {
    "duration": 25,
    "start_time": "2024-01-25T11:24:58.502Z"
   },
   {
    "duration": 7,
    "start_time": "2024-01-25T11:24:58.790Z"
   },
   {
    "duration": 4,
    "start_time": "2024-01-25T11:25:05.469Z"
   },
   {
    "duration": 17,
    "start_time": "2024-01-25T11:25:05.528Z"
   },
   {
    "duration": 9,
    "start_time": "2024-01-25T11:25:08.654Z"
   },
   {
    "duration": 8,
    "start_time": "2024-01-25T11:25:12.513Z"
   },
   {
    "duration": 10,
    "start_time": "2024-01-25T12:39:01.529Z"
   },
   {
    "duration": 20,
    "start_time": "2024-01-25T12:39:03.772Z"
   },
   {
    "duration": 8,
    "start_time": "2024-01-25T12:39:05.351Z"
   },
   {
    "duration": 8,
    "start_time": "2024-01-25T12:39:05.819Z"
   },
   {
    "duration": 11,
    "start_time": "2024-01-25T12:39:07.352Z"
   },
   {
    "duration": 11,
    "start_time": "2024-01-25T12:39:09.187Z"
   },
   {
    "duration": 5,
    "start_time": "2024-01-25T12:39:11.064Z"
   },
   {
    "duration": 10,
    "start_time": "2024-01-25T12:39:11.512Z"
   },
   {
    "duration": 16,
    "start_time": "2024-01-25T12:39:12.820Z"
   },
   {
    "duration": 13,
    "start_time": "2024-01-25T12:39:13.816Z"
   },
   {
    "duration": 4,
    "start_time": "2024-01-25T12:39:15.167Z"
   },
   {
    "duration": 8,
    "start_time": "2024-01-25T12:39:15.807Z"
   },
   {
    "duration": 9,
    "start_time": "2024-01-25T12:39:16.279Z"
   },
   {
    "duration": 15,
    "start_time": "2024-01-25T12:39:19.544Z"
   },
   {
    "duration": 4,
    "start_time": "2024-01-25T12:39:20.960Z"
   },
   {
    "duration": 20,
    "start_time": "2024-01-25T12:39:21.887Z"
   },
   {
    "duration": 10,
    "start_time": "2024-01-25T12:39:23.707Z"
   },
   {
    "duration": 4,
    "start_time": "2024-01-25T12:39:25.435Z"
   },
   {
    "duration": 5,
    "start_time": "2024-01-25T12:39:29.803Z"
   },
   {
    "duration": 5,
    "start_time": "2024-01-25T12:39:30.898Z"
   },
   {
    "duration": 7,
    "start_time": "2024-01-25T12:39:32.456Z"
   },
   {
    "duration": 5,
    "start_time": "2024-01-25T12:39:33.227Z"
   },
   {
    "duration": 3,
    "start_time": "2024-01-25T12:39:35.668Z"
   },
   {
    "duration": 11,
    "start_time": "2024-01-25T12:39:37.207Z"
   },
   {
    "duration": 306,
    "start_time": "2024-01-25T12:39:38.687Z"
   },
   {
    "duration": 12,
    "start_time": "2024-01-25T12:39:41.699Z"
   },
   {
    "duration": 256,
    "start_time": "2024-01-25T12:39:43.351Z"
   },
   {
    "duration": 11,
    "start_time": "2024-01-25T12:39:57.411Z"
   },
   {
    "duration": 285,
    "start_time": "2024-01-25T12:39:58.651Z"
   },
   {
    "duration": 11,
    "start_time": "2024-01-25T12:40:01.407Z"
   },
   {
    "duration": 247,
    "start_time": "2024-01-25T12:40:02.268Z"
   },
   {
    "duration": 11,
    "start_time": "2024-01-25T12:40:06.908Z"
   },
   {
    "duration": 4,
    "start_time": "2024-01-25T12:40:08.455Z"
   },
   {
    "duration": 49,
    "start_time": "2024-01-25T12:40:09.411Z"
   },
   {
    "duration": 9,
    "start_time": "2024-01-25T12:40:11.434Z"
   },
   {
    "duration": 179,
    "start_time": "2024-01-25T12:40:12.648Z"
   },
   {
    "duration": 4,
    "start_time": "2024-01-25T12:40:15.783Z"
   },
   {
    "duration": 17,
    "start_time": "2024-01-25T12:40:17.404Z"
   },
   {
    "duration": 11,
    "start_time": "2024-01-25T12:40:18.571Z"
   },
   {
    "duration": 6,
    "start_time": "2024-01-25T12:40:19.394Z"
   },
   {
    "duration": 5,
    "start_time": "2024-01-25T12:40:19.867Z"
   },
   {
    "duration": 3,
    "start_time": "2024-01-25T12:40:20.071Z"
   },
   {
    "duration": 10,
    "start_time": "2024-01-25T12:40:20.551Z"
   },
   {
    "duration": 166,
    "start_time": "2024-01-25T12:40:21.507Z"
   },
   {
    "duration": 6,
    "start_time": "2024-01-25T12:40:36.159Z"
   },
   {
    "duration": 5,
    "start_time": "2024-01-25T12:43:34.627Z"
   },
   {
    "duration": 4,
    "start_time": "2024-01-25T12:45:44.274Z"
   },
   {
    "duration": 1328,
    "start_time": "2024-01-25T12:46:12.450Z"
   },
   {
    "duration": 1252,
    "start_time": "2024-01-25T12:47:16.982Z"
   },
   {
    "duration": 118,
    "start_time": "2024-01-25T12:48:30.222Z"
   },
   {
    "duration": 19,
    "start_time": "2024-01-25T12:48:38.502Z"
   },
   {
    "duration": 99,
    "start_time": "2024-01-25T14:46:25.584Z"
   },
   {
    "duration": 95,
    "start_time": "2024-01-25T14:47:00.795Z"
   },
   {
    "duration": 95,
    "start_time": "2024-01-25T14:47:40.330Z"
   },
   {
    "duration": 14,
    "start_time": "2024-01-25T14:49:47.883Z"
   },
   {
    "duration": 59,
    "start_time": "2024-01-25T14:49:50.031Z"
   },
   {
    "duration": 19,
    "start_time": "2024-01-25T14:49:54.519Z"
   },
   {
    "duration": 8,
    "start_time": "2024-01-25T14:50:47.751Z"
   },
   {
    "duration": 30,
    "start_time": "2024-01-25T14:50:57.972Z"
   },
   {
    "duration": 12,
    "start_time": "2024-01-25T14:52:24.478Z"
   },
   {
    "duration": 32,
    "start_time": "2024-01-25T14:52:25.744Z"
   },
   {
    "duration": 11,
    "start_time": "2024-01-25T14:52:49.548Z"
   },
   {
    "duration": 84,
    "start_time": "2024-01-25T14:52:50.797Z"
   },
   {
    "duration": 18,
    "start_time": "2024-01-25T14:52:52.556Z"
   },
   {
    "duration": 1476,
    "start_time": "2024-01-26T08:37:40.241Z"
   },
   {
    "duration": 1568,
    "start_time": "2024-01-26T08:37:41.719Z"
   },
   {
    "duration": 12,
    "start_time": "2024-01-26T08:37:45.485Z"
   },
   {
    "duration": 24,
    "start_time": "2024-01-26T08:37:46.065Z"
   },
   {
    "duration": 3,
    "start_time": "2024-01-26T08:37:47.897Z"
   },
   {
    "duration": 18,
    "start_time": "2024-01-26T08:37:50.781Z"
   },
   {
    "duration": 7,
    "start_time": "2024-01-26T08:37:51.069Z"
   },
   {
    "duration": 5,
    "start_time": "2024-01-26T08:37:51.345Z"
   },
   {
    "duration": 6,
    "start_time": "2024-01-26T08:37:51.613Z"
   },
   {
    "duration": 29,
    "start_time": "2024-01-26T08:37:51.861Z"
   },
   {
    "duration": 7,
    "start_time": "2024-01-26T08:37:52.654Z"
   },
   {
    "duration": 4,
    "start_time": "2024-01-26T08:37:54.285Z"
   },
   {
    "duration": 21,
    "start_time": "2024-01-26T08:37:54.677Z"
   },
   {
    "duration": 10,
    "start_time": "2024-01-26T08:37:57.433Z"
   },
   {
    "duration": 11,
    "start_time": "2024-01-26T08:37:58.309Z"
   },
   {
    "duration": 10,
    "start_time": "2024-01-26T08:38:01.149Z"
   },
   {
    "duration": 20,
    "start_time": "2024-01-26T08:38:01.913Z"
   },
   {
    "duration": 10,
    "start_time": "2024-01-26T08:38:03.645Z"
   },
   {
    "duration": 9,
    "start_time": "2024-01-26T08:38:04.065Z"
   },
   {
    "duration": 14,
    "start_time": "2024-01-26T08:38:05.221Z"
   },
   {
    "duration": 13,
    "start_time": "2024-01-26T08:38:08.173Z"
   },
   {
    "duration": 6,
    "start_time": "2024-01-26T08:38:09.820Z"
   },
   {
    "duration": 11,
    "start_time": "2024-01-26T08:38:10.309Z"
   },
   {
    "duration": 12,
    "start_time": "2024-01-26T08:38:12.121Z"
   },
   {
    "duration": 14,
    "start_time": "2024-01-26T08:38:13.121Z"
   },
   {
    "duration": 5,
    "start_time": "2024-01-26T08:38:14.989Z"
   },
   {
    "duration": 8,
    "start_time": "2024-01-26T08:38:15.457Z"
   },
   {
    "duration": 49,
    "start_time": "2024-01-26T08:38:15.467Z"
   },
   {
    "duration": 12,
    "start_time": "2024-01-26T08:38:20.657Z"
   },
   {
    "duration": 4,
    "start_time": "2024-01-26T08:38:21.536Z"
   },
   {
    "duration": 18,
    "start_time": "2024-01-26T08:38:23.021Z"
   },
   {
    "duration": 11,
    "start_time": "2024-01-26T08:38:25.473Z"
   },
   {
    "duration": 3,
    "start_time": "2024-01-26T08:38:28.209Z"
   },
   {
    "duration": 4,
    "start_time": "2024-01-26T08:38:30.889Z"
   },
   {
    "duration": 4,
    "start_time": "2024-01-26T08:38:31.253Z"
   },
   {
    "duration": 5,
    "start_time": "2024-01-26T08:38:32.697Z"
   },
   {
    "duration": 4,
    "start_time": "2024-01-26T08:38:33.373Z"
   },
   {
    "duration": 4,
    "start_time": "2024-01-26T08:38:35.145Z"
   },
   {
    "duration": 11,
    "start_time": "2024-01-26T08:38:36.477Z"
   },
   {
    "duration": 349,
    "start_time": "2024-01-26T08:38:37.608Z"
   },
   {
    "duration": 17,
    "start_time": "2024-01-26T08:38:40.881Z"
   },
   {
    "duration": 255,
    "start_time": "2024-01-26T08:38:41.265Z"
   },
   {
    "duration": 12,
    "start_time": "2024-01-26T08:38:45.284Z"
   },
   {
    "duration": 279,
    "start_time": "2024-01-26T08:38:45.542Z"
   },
   {
    "duration": 11,
    "start_time": "2024-01-26T08:38:48.121Z"
   },
   {
    "duration": 292,
    "start_time": "2024-01-26T08:38:48.477Z"
   },
   {
    "duration": 13,
    "start_time": "2024-01-26T08:38:53.849Z"
   },
   {
    "duration": 4,
    "start_time": "2024-01-26T08:38:54.769Z"
   },
   {
    "duration": 59,
    "start_time": "2024-01-26T08:38:55.897Z"
   },
   {
    "duration": 11,
    "start_time": "2024-01-26T08:38:57.021Z"
   },
   {
    "duration": 195,
    "start_time": "2024-01-26T08:38:57.465Z"
   },
   {
    "duration": 3,
    "start_time": "2024-01-26T08:39:00.789Z"
   },
   {
    "duration": 14,
    "start_time": "2024-01-26T08:39:02.189Z"
   },
   {
    "duration": 10,
    "start_time": "2024-01-26T08:39:03.957Z"
   },
   {
    "duration": 5,
    "start_time": "2024-01-26T08:39:04.385Z"
   },
   {
    "duration": 7,
    "start_time": "2024-01-26T08:39:04.392Z"
   },
   {
    "duration": 4,
    "start_time": "2024-01-26T08:39:04.837Z"
   },
   {
    "duration": 11,
    "start_time": "2024-01-26T08:39:05.973Z"
   },
   {
    "duration": 269,
    "start_time": "2024-01-26T08:39:06.889Z"
   },
   {
    "duration": 6,
    "start_time": "2024-01-26T08:39:09.813Z"
   },
   {
    "duration": 108,
    "start_time": "2024-01-26T10:02:45.895Z"
   },
   {
    "duration": 102,
    "start_time": "2024-01-26T10:04:08.860Z"
   },
   {
    "duration": 28,
    "start_time": "2024-01-26T10:04:53.785Z"
   },
   {
    "duration": 121,
    "start_time": "2024-01-26T10:04:55.811Z"
   },
   {
    "duration": 24,
    "start_time": "2024-01-26T10:05:00.586Z"
   },
   {
    "duration": 110,
    "start_time": "2024-01-26T10:06:00.263Z"
   },
   {
    "duration": 11,
    "start_time": "2024-01-26T10:06:22.614Z"
   },
   {
    "duration": 87,
    "start_time": "2024-01-26T10:08:54.267Z"
   },
   {
    "duration": 30,
    "start_time": "2024-01-26T10:09:04.647Z"
   },
   {
    "duration": 30,
    "start_time": "2024-01-26T10:09:19.494Z"
   },
   {
    "duration": 28,
    "start_time": "2024-01-26T10:13:12.442Z"
   },
   {
    "duration": 153,
    "start_time": "2024-01-26T10:13:13.406Z"
   },
   {
    "duration": 28,
    "start_time": "2024-01-26T10:13:18.058Z"
   },
   {
    "duration": 28,
    "start_time": "2024-01-26T10:16:40.285Z"
   },
   {
    "duration": 119,
    "start_time": "2024-01-26T10:16:41.203Z"
   },
   {
    "duration": 22,
    "start_time": "2024-01-26T10:16:45.211Z"
   },
   {
    "duration": 29,
    "start_time": "2024-01-26T10:19:00.101Z"
   },
   {
    "duration": 119,
    "start_time": "2024-01-26T10:19:00.619Z"
   },
   {
    "duration": 17,
    "start_time": "2024-01-26T10:19:03.827Z"
   },
   {
    "duration": 29,
    "start_time": "2024-01-26T10:20:49.832Z"
   },
   {
    "duration": 118,
    "start_time": "2024-01-26T10:20:50.315Z"
   },
   {
    "duration": 16,
    "start_time": "2024-01-26T10:20:53.103Z"
   },
   {
    "duration": 29,
    "start_time": "2024-01-26T10:22:30.194Z"
   },
   {
    "duration": 123,
    "start_time": "2024-01-26T10:22:30.659Z"
   },
   {
    "duration": 11,
    "start_time": "2024-01-26T10:22:33.226Z"
   },
   {
    "duration": 10,
    "start_time": "2024-01-26T10:24:13.710Z"
   },
   {
    "duration": 92,
    "start_time": "2024-01-26T10:27:00.460Z"
   },
   {
    "duration": 1428,
    "start_time": "2024-01-26T10:28:16.794Z"
   },
   {
    "duration": 22,
    "start_time": "2024-01-26T10:28:40.890Z"
   },
   {
    "duration": 1675,
    "start_time": "2024-01-26T10:28:50.554Z"
   },
   {
    "duration": 6374,
    "start_time": "2024-01-26T10:30:05.613Z"
   },
   {
    "duration": 16,
    "start_time": "2024-01-26T10:32:06.208Z"
   },
   {
    "duration": 6,
    "start_time": "2024-01-26T10:32:42.779Z"
   },
   {
    "duration": 12,
    "start_time": "2024-01-26T10:33:03.344Z"
   },
   {
    "duration": 1188,
    "start_time": "2024-01-26T11:13:25.457Z"
   },
   {
    "duration": 1679,
    "start_time": "2024-01-26T11:13:26.646Z"
   },
   {
    "duration": 11,
    "start_time": "2024-01-26T11:13:28.327Z"
   },
   {
    "duration": 22,
    "start_time": "2024-01-26T11:13:28.340Z"
   },
   {
    "duration": 4,
    "start_time": "2024-01-26T11:13:29.205Z"
   },
   {
    "duration": 11,
    "start_time": "2024-01-26T11:13:31.718Z"
   },
   {
    "duration": 7,
    "start_time": "2024-01-26T11:13:32.005Z"
   },
   {
    "duration": 9,
    "start_time": "2024-01-26T11:13:32.286Z"
   },
   {
    "duration": 6,
    "start_time": "2024-01-26T11:13:32.591Z"
   },
   {
    "duration": 32,
    "start_time": "2024-01-26T11:13:33.409Z"
   },
   {
    "duration": 9,
    "start_time": "2024-01-26T11:13:33.443Z"
   },
   {
    "duration": 4,
    "start_time": "2024-01-26T11:13:34.954Z"
   },
   {
    "duration": 22,
    "start_time": "2024-01-26T11:13:35.194Z"
   },
   {
    "duration": 9,
    "start_time": "2024-01-26T11:13:37.362Z"
   },
   {
    "duration": 7,
    "start_time": "2024-01-26T11:13:38.945Z"
   },
   {
    "duration": 10,
    "start_time": "2024-01-26T11:13:42.765Z"
   },
   {
    "duration": 20,
    "start_time": "2024-01-26T11:13:43.150Z"
   },
   {
    "duration": 8,
    "start_time": "2024-01-26T11:13:44.802Z"
   },
   {
    "duration": 9,
    "start_time": "2024-01-26T11:13:45.081Z"
   },
   {
    "duration": 13,
    "start_time": "2024-01-26T11:13:45.741Z"
   },
   {
    "duration": 13,
    "start_time": "2024-01-26T11:13:47.893Z"
   },
   {
    "duration": 4,
    "start_time": "2024-01-26T11:13:57.602Z"
   },
   {
    "duration": 11,
    "start_time": "2024-01-26T11:13:58.036Z"
   },
   {
    "duration": 11,
    "start_time": "2024-01-26T11:13:59.170Z"
   },
   {
    "duration": 15,
    "start_time": "2024-01-26T11:14:00.078Z"
   },
   {
    "duration": 4,
    "start_time": "2024-01-26T11:14:01.722Z"
   },
   {
    "duration": 9,
    "start_time": "2024-01-26T11:14:02.369Z"
   },
   {
    "duration": 10,
    "start_time": "2024-01-26T11:14:02.845Z"
   },
   {
    "duration": 12,
    "start_time": "2024-01-26T11:14:04.938Z"
   },
   {
    "duration": 5,
    "start_time": "2024-01-26T11:14:05.333Z"
   },
   {
    "duration": 20,
    "start_time": "2024-01-26T11:14:07.229Z"
   },
   {
    "duration": 13,
    "start_time": "2024-01-26T11:14:09.073Z"
   },
   {
    "duration": 4,
    "start_time": "2024-01-26T11:14:10.645Z"
   },
   {
    "duration": 4,
    "start_time": "2024-01-26T11:14:13.218Z"
   },
   {
    "duration": 5,
    "start_time": "2024-01-26T11:14:13.669Z"
   },
   {
    "duration": 5,
    "start_time": "2024-01-26T11:14:15.018Z"
   },
   {
    "duration": 5,
    "start_time": "2024-01-26T11:14:15.977Z"
   },
   {
    "duration": 4,
    "start_time": "2024-01-26T11:14:18.301Z"
   },
   {
    "duration": 10,
    "start_time": "2024-01-26T11:14:19.914Z"
   },
   {
    "duration": 294,
    "start_time": "2024-01-26T11:14:21.230Z"
   },
   {
    "duration": 13,
    "start_time": "2024-01-26T11:14:23.890Z"
   },
   {
    "duration": 265,
    "start_time": "2024-01-26T11:14:24.522Z"
   },
   {
    "duration": 11,
    "start_time": "2024-01-26T11:14:33.534Z"
   },
   {
    "duration": 290,
    "start_time": "2024-01-26T11:14:34.758Z"
   },
   {
    "duration": 13,
    "start_time": "2024-01-26T11:14:37.861Z"
   },
   {
    "duration": 281,
    "start_time": "2024-01-26T11:14:38.886Z"
   },
   {
    "duration": 12,
    "start_time": "2024-01-26T11:14:42.650Z"
   },
   {
    "duration": 4,
    "start_time": "2024-01-26T11:14:44.070Z"
   },
   {
    "duration": 55,
    "start_time": "2024-01-26T11:14:44.866Z"
   },
   {
    "duration": 10,
    "start_time": "2024-01-26T11:14:46.422Z"
   },
   {
    "duration": 189,
    "start_time": "2024-01-26T11:14:47.285Z"
   },
   {
    "duration": 3,
    "start_time": "2024-01-26T11:14:49.602Z"
   },
   {
    "duration": 15,
    "start_time": "2024-01-26T11:14:50.958Z"
   },
   {
    "duration": 9,
    "start_time": "2024-01-26T11:14:52.578Z"
   },
   {
    "duration": 23,
    "start_time": "2024-01-26T11:14:52.589Z"
   },
   {
    "duration": 5,
    "start_time": "2024-01-26T11:14:53.022Z"
   },
   {
    "duration": 4,
    "start_time": "2024-01-26T11:14:53.093Z"
   },
   {
    "duration": 10,
    "start_time": "2024-01-26T11:14:53.913Z"
   },
   {
    "duration": 179,
    "start_time": "2024-01-26T11:14:54.682Z"
   },
   {
    "duration": 6,
    "start_time": "2024-01-26T11:14:58.058Z"
   },
   {
    "duration": 97,
    "start_time": "2024-01-26T11:15:02.294Z"
   },
   {
    "duration": 120,
    "start_time": "2024-01-26T11:15:03.098Z"
   },
   {
    "duration": 17,
    "start_time": "2024-01-26T11:15:04.414Z"
   },
   {
    "duration": 4,
    "start_time": "2024-01-26T11:15:11.222Z"
   },
   {
    "duration": 110,
    "start_time": "2024-01-26T11:15:16.926Z"
   },
   {
    "duration": 12,
    "start_time": "2024-01-26T11:15:29.981Z"
   },
   {
    "duration": 218,
    "start_time": "2024-01-26T11:15:47.486Z"
   },
   {
    "duration": 12,
    "start_time": "2024-01-26T11:18:01.203Z"
   },
   {
    "duration": 232,
    "start_time": "2024-01-26T11:18:05.043Z"
   },
   {
    "duration": 11,
    "start_time": "2024-01-26T11:21:03.108Z"
   },
   {
    "duration": 228,
    "start_time": "2024-01-26T11:21:06.728Z"
   },
   {
    "duration": 13,
    "start_time": "2024-01-26T11:24:43.067Z"
   },
   {
    "duration": 216,
    "start_time": "2024-01-26T11:24:46.943Z"
   },
   {
    "duration": 11,
    "start_time": "2024-01-26T11:28:01.873Z"
   },
   {
    "duration": 5,
    "start_time": "2024-01-26T11:28:03.067Z"
   },
   {
    "duration": 4,
    "start_time": "2024-01-26T11:28:03.907Z"
   },
   {
    "duration": 4,
    "start_time": "2024-01-26T11:28:04.343Z"
   },
   {
    "duration": 4,
    "start_time": "2024-01-26T11:28:07.343Z"
   },
   {
    "duration": 6,
    "start_time": "2024-01-26T11:28:08.403Z"
   },
   {
    "duration": 4,
    "start_time": "2024-01-26T11:28:08.859Z"
   },
   {
    "duration": 10,
    "start_time": "2024-01-26T11:28:17.567Z"
   },
   {
    "duration": 9,
    "start_time": "2024-01-26T11:28:25.111Z"
   },
   {
    "duration": 10,
    "start_time": "2024-01-26T11:28:33.258Z"
   },
   {
    "duration": 3,
    "start_time": "2024-01-26T11:30:42.935Z"
   },
   {
    "duration": 3,
    "start_time": "2024-01-26T11:30:43.375Z"
   },
   {
    "duration": 3,
    "start_time": "2024-01-26T11:30:43.770Z"
   },
   {
    "duration": 3,
    "start_time": "2024-01-26T11:30:44.255Z"
   },
   {
    "duration": 3,
    "start_time": "2024-01-26T11:30:45.263Z"
   },
   {
    "duration": 3,
    "start_time": "2024-01-26T11:30:45.551Z"
   },
   {
    "duration": 2,
    "start_time": "2024-01-26T11:30:45.920Z"
   },
   {
    "duration": 4,
    "start_time": "2024-01-26T11:30:46.379Z"
   },
   {
    "duration": 4,
    "start_time": "2024-01-26T11:30:47.200Z"
   },
   {
    "duration": 6,
    "start_time": "2024-01-26T11:30:47.579Z"
   },
   {
    "duration": 2,
    "start_time": "2024-01-26T11:30:48.283Z"
   },
   {
    "duration": 4,
    "start_time": "2024-01-26T11:30:48.721Z"
   },
   {
    "duration": 4,
    "start_time": "2024-01-26T11:30:52.231Z"
   },
   {
    "duration": 5,
    "start_time": "2024-01-26T11:30:52.971Z"
   },
   {
    "duration": 4,
    "start_time": "2024-01-26T11:30:53.827Z"
   },
   {
    "duration": 4,
    "start_time": "2024-01-26T11:30:55.967Z"
   },
   {
    "duration": 4,
    "start_time": "2024-01-26T11:30:56.619Z"
   },
   {
    "duration": 4,
    "start_time": "2024-01-26T11:30:57.270Z"
   },
   {
    "duration": 5,
    "start_time": "2024-01-26T11:30:59.838Z"
   },
   {
    "duration": 4,
    "start_time": "2024-01-26T11:31:00.543Z"
   },
   {
    "duration": 4,
    "start_time": "2024-01-26T11:31:01.471Z"
   },
   {
    "duration": 8,
    "start_time": "2024-01-26T11:47:26.150Z"
   },
   {
    "duration": 7,
    "start_time": "2024-01-26T11:47:27.030Z"
   },
   {
    "duration": 7,
    "start_time": "2024-01-26T11:47:27.501Z"
   },
   {
    "duration": 6,
    "start_time": "2024-01-26T11:47:32.098Z"
   },
   {
    "duration": 6,
    "start_time": "2024-01-26T11:47:32.650Z"
   },
   {
    "duration": 5,
    "start_time": "2024-01-26T11:47:33.562Z"
   }
  ],
  "kernelspec": {
   "display_name": "Python 3 (ipykernel)",
   "language": "python",
   "name": "python3"
  },
  "language_info": {
   "codemirror_mode": {
    "name": "ipython",
    "version": 3
   },
   "file_extension": ".py",
   "mimetype": "text/x-python",
   "name": "python",
   "nbconvert_exporter": "python",
   "pygments_lexer": "ipython3",
   "version": "3.11.3"
  },
  "toc": {
   "base_numbering": 1,
   "nav_menu": {},
   "number_sections": true,
   "sideBar": true,
   "skip_h1_title": true,
   "title_cell": "Table of Contents",
   "title_sidebar": "Contents",
   "toc_cell": false,
   "toc_position": {},
   "toc_section_display": true,
   "toc_window_display": false
  }
 },
 "nbformat": 4,
 "nbformat_minor": 2
}
