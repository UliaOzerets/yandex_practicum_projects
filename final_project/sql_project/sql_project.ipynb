{
 "cells": [
  {
   "cell_type": "markdown",
   "metadata": {},
   "source": [
    "# Приложение для сервиса чтения книг"
   ]
  },
  {
   "cell_type": "markdown",
   "metadata": {},
   "source": [
    "Коронавирус застал мир врасплох, изменив привычный порядок вещей. В свободное время жители городов больше не выходят на улицу, не посещают кафе и торговые центры. Зато стало больше времени для книг. Это заметили стартаперы — и бросились создавать приложения для тех, кто любит читать."
   ]
  },
  {
   "cell_type": "markdown",
   "metadata": {},
   "source": [
    "## Подключение "
   ]
  },
  {
   "cell_type": "code",
   "execution_count": 1,
   "metadata": {},
   "outputs": [],
   "source": [
    "#импортируем библиотеки\n",
    "import pandas as pd\n",
    "from sqlalchemy import create_engine\n",
    "from sqlalchemy import text"
   ]
  },
  {
   "cell_type": "code",
   "execution_count": 2,
   "metadata": {},
   "outputs": [],
   "source": [
    "#устанавливаем параметры\n",
    "db_config = {'user': 'praktikum_student', # имя пользователя\n",
    "'pwd': 'Sdf4$2;d-d30pp', # пароль\n",
    "'host': 'rc1b-wcoijxj3yxfsf3fs.mdb.yandexcloud.net',\n",
    "'port': 6432, # порт подключения\n",
    "'db': 'data-analyst-final-project-db'} # название базы данных\n",
    "connection_string = 'postgresql://{user}:{pwd}@{host}:{port}/{db}'.format(**db_config)"
   ]
  },
  {
   "cell_type": "code",
   "execution_count": 3,
   "metadata": {},
   "outputs": [],
   "source": [
    "#сохраняем коннектор\n",
    "engine = create_engine(connection_string, connect_args={'sslmode':'require'})\n",
    "con=engine.connect()"
   ]
  },
  {
   "cell_type": "code",
   "execution_count": 4,
   "metadata": {},
   "outputs": [
    {
     "name": "stdout",
     "output_type": "stream",
     "text": [
      "   book_id  author_id                                              title  \\\n",
      "0        1        546                                       'Salem's Lot   \n",
      "1        2        465                 1 000 Places to See Before You Die   \n",
      "2        3        407  13 Little Blue Envelopes (Little Blue Envelope...   \n",
      "3        4         82  1491: New Revelations of the Americas Before C...   \n",
      "4        5        125                                               1776   \n",
      "\n",
      "   num_pages publication_date  publisher_id  \n",
      "0        594       2005-11-01            93  \n",
      "1        992       2003-05-22           336  \n",
      "2        322       2010-12-21           135  \n",
      "3        541       2006-10-10           309  \n",
      "4        386       2006-07-04           268  \n",
      "---------------------------------------------------------------\n",
      "   author_id                          author\n",
      "0          1                      A.S. Byatt\n",
      "1          2  Aesop/Laura Harris/Laura Gibbs\n",
      "2          3                 Agatha Christie\n",
      "3          4                   Alan Brennert\n",
      "4          5        Alan Moore/David   Lloyd\n",
      "---------------------------------------------------------------\n",
      "   publisher_id                          publisher\n",
      "0             1                                Ace\n",
      "1             2                           Ace Book\n",
      "2             3                          Ace Books\n",
      "3             4                      Ace Hardcover\n",
      "4             5  Addison Wesley Publishing Company\n",
      "---------------------------------------------------------------\n",
      "   rating_id  book_id       username  rating\n",
      "0          1        1     ryanfranco       4\n",
      "1          2        1  grantpatricia       2\n",
      "2          3        1   brandtandrea       5\n",
      "3          4        2       lorichen       3\n",
      "4          5        2    mariokeller       2\n",
      "---------------------------------------------------------------\n",
      "   review_id  book_id       username  \\\n",
      "0          1        1   brandtandrea   \n",
      "1          2        1     ryanfranco   \n",
      "2          3        2       lorichen   \n",
      "3          4        3  johnsonamanda   \n",
      "4          5        3    scotttamara   \n",
      "\n",
      "                                                text  \n",
      "0  Mention society tell send professor analysis. ...  \n",
      "1  Foot glass pretty audience hit themselves. Amo...  \n",
      "2  Listen treat keep worry. Miss husband tax but ...  \n",
      "3  Finally month interesting blue could nature cu...  \n",
      "4  Nation purpose heavy give wait song will. List...  \n",
      "---------------------------------------------------------------\n"
     ]
    }
   ],
   "source": [
    "#создадим цикл и выведем первые 5 строк каждого датафрейма\n",
    "datasets = ['books', 'authors', 'publishers', 'ratings', 'reviews']\n",
    "for i in datasets:\n",
    "    query = f\"SELECT * FROM {i}\"\n",
    "    data = pd.io.sql.read_sql(query, con = engine)\n",
    "    print(data.head())\n",
    "    print('---------------------------------------------------------------')"
   ]
  },
  {
   "cell_type": "markdown",
   "metadata": {},
   "source": [
    "### Задача №1 "
   ]
  },
  {
   "cell_type": "markdown",
   "metadata": {},
   "source": [
    "Посчитайте, сколько книг вышло после 1 января 2000 года"
   ]
  },
  {
   "cell_type": "code",
   "execution_count": 5,
   "metadata": {},
   "outputs": [
    {
     "data": {
      "text/html": [
       "<div>\n",
       "<style scoped>\n",
       "    .dataframe tbody tr th:only-of-type {\n",
       "        vertical-align: middle;\n",
       "    }\n",
       "\n",
       "    .dataframe tbody tr th {\n",
       "        vertical-align: top;\n",
       "    }\n",
       "\n",
       "    .dataframe thead th {\n",
       "        text-align: right;\n",
       "    }\n",
       "</style>\n",
       "<table border=\"1\" class=\"dataframe\">\n",
       "  <thead>\n",
       "    <tr style=\"text-align: right;\">\n",
       "      <th></th>\n",
       "      <th>count</th>\n",
       "    </tr>\n",
       "  </thead>\n",
       "  <tbody>\n",
       "    <tr>\n",
       "      <th>0</th>\n",
       "      <td>819</td>\n",
       "    </tr>\n",
       "  </tbody>\n",
       "</table>\n",
       "</div>"
      ],
      "text/plain": [
       "   count\n",
       "0    819"
      ]
     },
     "execution_count": 5,
     "metadata": {},
     "output_type": "execute_result"
    }
   ],
   "source": [
    "task_one = '''\n",
    "        SELECT COUNT(book_id)\n",
    "        FROM books\n",
    "        WHERE publication_date > '2000-1-1';\n",
    "        '''\n",
    "pd.io.sql.read_sql(task_one, con = engine)"
   ]
  },
  {
   "cell_type": "markdown",
   "metadata": {},
   "source": [
    "С 1 января 2000 года вышло 819 книг"
   ]
  },
  {
   "cell_type": "markdown",
   "metadata": {},
   "source": [
    "### Задача №2"
   ]
  },
  {
   "cell_type": "markdown",
   "metadata": {},
   "source": [
    "Для каждой книги посчитайте количество обзоров и среднюю оценку"
   ]
  },
  {
   "cell_type": "code",
   "execution_count": 6,
   "metadata": {},
   "outputs": [
    {
     "data": {
      "text/html": [
       "<div>\n",
       "<style scoped>\n",
       "    .dataframe tbody tr th:only-of-type {\n",
       "        vertical-align: middle;\n",
       "    }\n",
       "\n",
       "    .dataframe tbody tr th {\n",
       "        vertical-align: top;\n",
       "    }\n",
       "\n",
       "    .dataframe thead th {\n",
       "        text-align: right;\n",
       "    }\n",
       "</style>\n",
       "<table border=\"1\" class=\"dataframe\">\n",
       "  <thead>\n",
       "    <tr style=\"text-align: right;\">\n",
       "      <th></th>\n",
       "      <th>title</th>\n",
       "      <th>book_id</th>\n",
       "      <th>reviews_count</th>\n",
       "      <th>avg_rating</th>\n",
       "    </tr>\n",
       "  </thead>\n",
       "  <tbody>\n",
       "    <tr>\n",
       "      <th>0</th>\n",
       "      <td>'Salem's Lot</td>\n",
       "      <td>1</td>\n",
       "      <td>2</td>\n",
       "      <td>3.67</td>\n",
       "    </tr>\n",
       "    <tr>\n",
       "      <th>1</th>\n",
       "      <td>1 000 Places to See Before You Die</td>\n",
       "      <td>2</td>\n",
       "      <td>1</td>\n",
       "      <td>2.50</td>\n",
       "    </tr>\n",
       "    <tr>\n",
       "      <th>2</th>\n",
       "      <td>13 Little Blue Envelopes (Little Blue Envelope...</td>\n",
       "      <td>3</td>\n",
       "      <td>3</td>\n",
       "      <td>4.67</td>\n",
       "    </tr>\n",
       "    <tr>\n",
       "      <th>3</th>\n",
       "      <td>1491: New Revelations of the Americas Before C...</td>\n",
       "      <td>4</td>\n",
       "      <td>2</td>\n",
       "      <td>4.50</td>\n",
       "    </tr>\n",
       "    <tr>\n",
       "      <th>4</th>\n",
       "      <td>1776</td>\n",
       "      <td>5</td>\n",
       "      <td>4</td>\n",
       "      <td>4.00</td>\n",
       "    </tr>\n",
       "    <tr>\n",
       "      <th>...</th>\n",
       "      <td>...</td>\n",
       "      <td>...</td>\n",
       "      <td>...</td>\n",
       "      <td>...</td>\n",
       "    </tr>\n",
       "    <tr>\n",
       "      <th>995</th>\n",
       "      <td>Wyrd Sisters (Discworld  #6; Witches #2)</td>\n",
       "      <td>996</td>\n",
       "      <td>3</td>\n",
       "      <td>3.67</td>\n",
       "    </tr>\n",
       "    <tr>\n",
       "      <th>996</th>\n",
       "      <td>Xenocide (Ender's Saga  #3)</td>\n",
       "      <td>997</td>\n",
       "      <td>3</td>\n",
       "      <td>3.40</td>\n",
       "    </tr>\n",
       "    <tr>\n",
       "      <th>997</th>\n",
       "      <td>Year of Wonders</td>\n",
       "      <td>998</td>\n",
       "      <td>4</td>\n",
       "      <td>3.20</td>\n",
       "    </tr>\n",
       "    <tr>\n",
       "      <th>998</th>\n",
       "      <td>You Suck (A Love Story  #2)</td>\n",
       "      <td>999</td>\n",
       "      <td>2</td>\n",
       "      <td>4.50</td>\n",
       "    </tr>\n",
       "    <tr>\n",
       "      <th>999</th>\n",
       "      <td>Zen and the Art of Motorcycle Maintenance: An ...</td>\n",
       "      <td>1000</td>\n",
       "      <td>4</td>\n",
       "      <td>3.83</td>\n",
       "    </tr>\n",
       "  </tbody>\n",
       "</table>\n",
       "<p>1000 rows × 4 columns</p>\n",
       "</div>"
      ],
      "text/plain": [
       "                                                 title  book_id  \\\n",
       "0                                         'Salem's Lot        1   \n",
       "1                   1 000 Places to See Before You Die        2   \n",
       "2    13 Little Blue Envelopes (Little Blue Envelope...        3   \n",
       "3    1491: New Revelations of the Americas Before C...        4   \n",
       "4                                                 1776        5   \n",
       "..                                                 ...      ...   \n",
       "995           Wyrd Sisters (Discworld  #6; Witches #2)      996   \n",
       "996                        Xenocide (Ender's Saga  #3)      997   \n",
       "997                                    Year of Wonders      998   \n",
       "998                        You Suck (A Love Story  #2)      999   \n",
       "999  Zen and the Art of Motorcycle Maintenance: An ...     1000   \n",
       "\n",
       "     reviews_count  avg_rating  \n",
       "0                2        3.67  \n",
       "1                1        2.50  \n",
       "2                3        4.67  \n",
       "3                2        4.50  \n",
       "4                4        4.00  \n",
       "..             ...         ...  \n",
       "995              3        3.67  \n",
       "996              3        3.40  \n",
       "997              4        3.20  \n",
       "998              2        4.50  \n",
       "999              4        3.83  \n",
       "\n",
       "[1000 rows x 4 columns]"
      ]
     },
     "execution_count": 6,
     "metadata": {},
     "output_type": "execute_result"
    }
   ],
   "source": [
    "task_two = '''\n",
    "            SELECT b.title,\n",
    "                b.book_id,\n",
    "                COUNT(DISTINCT r.review_id) AS reviews_count,\n",
    "                ROUND(AVG(ra.rating),2) AS avg_rating\n",
    "            FROM books AS b\n",
    "            LEFT JOIN reviews AS r ON b.book_id = r.book_id\n",
    "            LEFT JOIN ratings AS ra ON ra.book_id = b.book_id\n",
    "            GROUP BY b.book_id;\n",
    "            '''\n",
    "pd.io.sql.read_sql(task_two, con = engine)"
   ]
  },
  {
   "cell_type": "markdown",
   "metadata": {},
   "source": [
    "### Задача №3"
   ]
  },
  {
   "cell_type": "markdown",
   "metadata": {},
   "source": [
    "Определите издательство, которое выпустило наибольшее число книг толще 50 страниц — так вы исключите из анализа брошюры"
   ]
  },
  {
   "cell_type": "code",
   "execution_count": 7,
   "metadata": {},
   "outputs": [
    {
     "data": {
      "text/html": [
       "<div>\n",
       "<style scoped>\n",
       "    .dataframe tbody tr th:only-of-type {\n",
       "        vertical-align: middle;\n",
       "    }\n",
       "\n",
       "    .dataframe tbody tr th {\n",
       "        vertical-align: top;\n",
       "    }\n",
       "\n",
       "    .dataframe thead th {\n",
       "        text-align: right;\n",
       "    }\n",
       "</style>\n",
       "<table border=\"1\" class=\"dataframe\">\n",
       "  <thead>\n",
       "    <tr style=\"text-align: right;\">\n",
       "      <th></th>\n",
       "      <th>publisher</th>\n",
       "      <th>publisher_id</th>\n",
       "      <th>book_cnt</th>\n",
       "    </tr>\n",
       "  </thead>\n",
       "  <tbody>\n",
       "    <tr>\n",
       "      <th>0</th>\n",
       "      <td>Penguin Books</td>\n",
       "      <td>212</td>\n",
       "      <td>42</td>\n",
       "    </tr>\n",
       "  </tbody>\n",
       "</table>\n",
       "</div>"
      ],
      "text/plain": [
       "       publisher  publisher_id  book_cnt\n",
       "0  Penguin Books           212        42"
      ]
     },
     "execution_count": 7,
     "metadata": {},
     "output_type": "execute_result"
    }
   ],
   "source": [
    "task_three = '''\n",
    "            SELECT p.publisher,\n",
    "                p.publisher_id,\n",
    "                COUNT(b.book_id) AS book_cnt\n",
    "            FROM publishers AS p\n",
    "            LEFT JOIN books AS b ON p.publisher_id = b.publisher_id\n",
    "            WHERE b.num_pages > 50\n",
    "            GROUP BY p.publisher_id\n",
    "            ORDER BY book_cnt DESC\n",
    "            LIMIT 1;\n",
    "            '''\n",
    "pd.io.sql.read_sql(task_three, con = engine)"
   ]
  },
  {
   "cell_type": "markdown",
   "metadata": {},
   "source": [
    "Издательство \"Penguin Books\" выпустило 42 книги толще 50 страниц"
   ]
  },
  {
   "cell_type": "markdown",
   "metadata": {},
   "source": [
    "### Задача №4"
   ]
  },
  {
   "cell_type": "markdown",
   "metadata": {},
   "source": [
    "Определите автора с самой высокой средней оценкой книг — учитывайте только книги с 50 и более оценками"
   ]
  },
  {
   "cell_type": "code",
   "execution_count": 8,
   "metadata": {},
   "outputs": [
    {
     "data": {
      "text/html": [
       "<div>\n",
       "<style scoped>\n",
       "    .dataframe tbody tr th:only-of-type {\n",
       "        vertical-align: middle;\n",
       "    }\n",
       "\n",
       "    .dataframe tbody tr th {\n",
       "        vertical-align: top;\n",
       "    }\n",
       "\n",
       "    .dataframe thead th {\n",
       "        text-align: right;\n",
       "    }\n",
       "</style>\n",
       "<table border=\"1\" class=\"dataframe\">\n",
       "  <thead>\n",
       "    <tr style=\"text-align: right;\">\n",
       "      <th></th>\n",
       "      <th>author</th>\n",
       "      <th>avg_rate</th>\n",
       "    </tr>\n",
       "  </thead>\n",
       "  <tbody>\n",
       "    <tr>\n",
       "      <th>0</th>\n",
       "      <td>J.K. Rowling/Mary GrandPré</td>\n",
       "      <td>4.29</td>\n",
       "    </tr>\n",
       "  </tbody>\n",
       "</table>\n",
       "</div>"
      ],
      "text/plain": [
       "                       author  avg_rate\n",
       "0  J.K. Rowling/Mary GrandPré      4.29"
      ]
     },
     "execution_count": 8,
     "metadata": {},
     "output_type": "execute_result"
    }
   ],
   "source": [
    "task_four = '''\n",
    "        SELECT a.author,\n",
    "            ROUND(AVG(ra.rating),2) AS avg_rate\n",
    "        FROM  ratings AS ra\n",
    "        JOIN books AS b ON ra.book_id = b.book_id\n",
    "        JOIN authors AS a ON a.author_id = b.author_id\n",
    "        WHERE b.book_id IN(SELECT book_id\n",
    "                            FROM ratings \n",
    "                            GROUP BY book_id\n",
    "                            HAVING COUNT(rating) >= 50)\n",
    "        GROUP BY a.author_id\n",
    "        ORDER BY avg_rate DESC\n",
    "        LIMIT 1;\n",
    "            '''\n",
    "pd.io.sql.read_sql(task_four, con = engine)"
   ]
  },
  {
   "cell_type": "markdown",
   "metadata": {},
   "source": [
    "Автором с самой высокой средней оценкой книг (4.29) является J.K. Rowling в соавторстве с Mary GrandPré"
   ]
  },
  {
   "cell_type": "markdown",
   "metadata": {},
   "source": [
    "### Задача №5"
   ]
  },
  {
   "cell_type": "markdown",
   "metadata": {},
   "source": [
    "Посчитайте среднее количество обзоров от пользователей, которые поставили больше 48 оценок"
   ]
  },
  {
   "cell_type": "code",
   "execution_count": 9,
   "metadata": {},
   "outputs": [
    {
     "data": {
      "text/html": [
       "<div>\n",
       "<style scoped>\n",
       "    .dataframe tbody tr th:only-of-type {\n",
       "        vertical-align: middle;\n",
       "    }\n",
       "\n",
       "    .dataframe tbody tr th {\n",
       "        vertical-align: top;\n",
       "    }\n",
       "\n",
       "    .dataframe thead th {\n",
       "        text-align: right;\n",
       "    }\n",
       "</style>\n",
       "<table border=\"1\" class=\"dataframe\">\n",
       "  <thead>\n",
       "    <tr style=\"text-align: right;\">\n",
       "      <th></th>\n",
       "      <th>avg_review</th>\n",
       "    </tr>\n",
       "  </thead>\n",
       "  <tbody>\n",
       "    <tr>\n",
       "      <th>0</th>\n",
       "      <td>24.0</td>\n",
       "    </tr>\n",
       "  </tbody>\n",
       "</table>\n",
       "</div>"
      ],
      "text/plain": [
       "   avg_review\n",
       "0        24.0"
      ]
     },
     "execution_count": 9,
     "metadata": {},
     "output_type": "execute_result"
    }
   ],
   "source": [
    "task_five = '''\n",
    "            SELECT AVG(i.cnt_review) as avg_review\n",
    "            FROM (\n",
    "                SELECT COUNT(review_id) as cnt_review\n",
    "                FROM reviews\n",
    "                WHERE username IN (\n",
    "                            SELECT username\n",
    "                            FROM ratings\n",
    "                            GROUP BY username\n",
    "                            HAVING COUNT(ratings) > 48)\n",
    "                GROUP BY username) AS i\n",
    "            '''\n",
    "pd.io.sql.read_sql(task_five, con = engine)"
   ]
  },
  {
   "cell_type": "markdown",
   "metadata": {},
   "source": [
    "Среднее количество обзоров от пользователей, поставивших более 48 оценок равно 24"
   ]
  },
  {
   "cell_type": "markdown",
   "metadata": {},
   "source": [
    "## Заключение"
   ]
  },
  {
   "cell_type": "markdown",
   "metadata": {},
   "source": [
    "В результате проведения исследования:\n",
    "- было произведено подключение к БД\n",
    "- исследованы таблицы\n",
    "- рассчитаны 5 задач"
   ]
  }
 ],
 "metadata": {
  "ExecuteTimeLog": [
   {
    "duration": 531,
    "start_time": "2023-08-27T11:55:43.170Z"
   },
   {
    "duration": 4,
    "start_time": "2023-08-27T11:55:57.518Z"
   },
   {
    "duration": 12698,
    "start_time": "2023-08-27T11:56:35.405Z"
   },
   {
    "duration": 189,
    "start_time": "2023-08-27T11:58:55.669Z"
   },
   {
    "duration": 118,
    "start_time": "2023-08-27T11:59:53.179Z"
   },
   {
    "duration": 84,
    "start_time": "2023-08-27T12:00:27.467Z"
   },
   {
    "duration": 288,
    "start_time": "2023-08-27T12:02:27.015Z"
   },
   {
    "duration": 213,
    "start_time": "2023-08-27T12:02:42.596Z"
   },
   {
    "duration": 109,
    "start_time": "2023-08-27T12:02:51.044Z"
   },
   {
    "duration": 78,
    "start_time": "2023-08-27T12:03:40.786Z"
   },
   {
    "duration": 81,
    "start_time": "2023-08-27T12:04:22.729Z"
   },
   {
    "duration": 187,
    "start_time": "2023-08-27T12:05:07.874Z"
   },
   {
    "duration": 191,
    "start_time": "2023-08-27T12:09:25.404Z"
   },
   {
    "duration": 200,
    "start_time": "2023-08-27T12:10:48.640Z"
   },
   {
    "duration": 86,
    "start_time": "2023-08-27T12:13:56.775Z"
   },
   {
    "duration": 86,
    "start_time": "2023-08-27T12:15:10.300Z"
   },
   {
    "duration": 86,
    "start_time": "2023-08-27T12:16:26.288Z"
   },
   {
    "duration": 82,
    "start_time": "2023-08-27T12:17:27.571Z"
   },
   {
    "duration": 79,
    "start_time": "2023-08-27T12:17:44.703Z"
   },
   {
    "duration": 82,
    "start_time": "2023-08-27T12:19:13.908Z"
   },
   {
    "duration": 85,
    "start_time": "2023-08-27T12:20:26.643Z"
   },
   {
    "duration": 172,
    "start_time": "2023-08-27T12:22:14.828Z"
   },
   {
    "duration": 85,
    "start_time": "2023-08-27T12:22:18.588Z"
   },
   {
    "duration": 174,
    "start_time": "2023-08-27T12:25:36.326Z"
   },
   {
    "duration": 196,
    "start_time": "2023-08-27T12:25:45.073Z"
   },
   {
    "duration": 194,
    "start_time": "2023-08-27T12:26:02.837Z"
   },
   {
    "duration": 81,
    "start_time": "2023-08-27T12:27:12.757Z"
   },
   {
    "duration": 91,
    "start_time": "2023-08-27T12:28:11.243Z"
   },
   {
    "duration": 90,
    "start_time": "2023-08-27T12:29:43.742Z"
   },
   {
    "duration": 287,
    "start_time": "2023-08-27T12:30:08.482Z"
   },
   {
    "duration": 178,
    "start_time": "2023-08-27T12:32:33.796Z"
   },
   {
    "duration": 89,
    "start_time": "2023-08-27T12:33:52.957Z"
   },
   {
    "duration": 84,
    "start_time": "2023-08-27T12:34:54.479Z"
   },
   {
    "duration": 78,
    "start_time": "2023-08-27T12:35:52.554Z"
   },
   {
    "duration": 78,
    "start_time": "2023-08-27T12:36:22.825Z"
   },
   {
    "duration": 84,
    "start_time": "2023-08-27T12:39:09.161Z"
   },
   {
    "duration": 79,
    "start_time": "2023-08-27T12:39:22.338Z"
   },
   {
    "duration": 80,
    "start_time": "2023-08-27T12:39:41.714Z"
   },
   {
    "duration": 79,
    "start_time": "2023-08-27T12:44:10.069Z"
   },
   {
    "duration": 326,
    "start_time": "2023-08-27T12:45:06.102Z"
   },
   {
    "duration": 80,
    "start_time": "2023-08-27T12:45:20.332Z"
   },
   {
    "duration": 80,
    "start_time": "2023-08-27T12:46:10.748Z"
   },
   {
    "duration": 81,
    "start_time": "2023-08-27T12:46:46.602Z"
   },
   {
    "duration": 108,
    "start_time": "2023-08-27T12:51:18.574Z"
   },
   {
    "duration": 101,
    "start_time": "2023-08-27T12:51:45.129Z"
   },
   {
    "duration": 7,
    "start_time": "2023-08-27T12:51:53.973Z"
   },
   {
    "duration": 103,
    "start_time": "2023-08-27T12:52:47.736Z"
   },
   {
    "duration": 107,
    "start_time": "2023-08-27T12:53:52.782Z"
   },
   {
    "duration": 110,
    "start_time": "2023-08-27T12:54:17.883Z"
   },
   {
    "duration": 103,
    "start_time": "2023-08-27T12:54:37.358Z"
   },
   {
    "duration": 104,
    "start_time": "2023-08-27T12:54:58.073Z"
   },
   {
    "duration": 80,
    "start_time": "2023-08-27T12:55:19.065Z"
   },
   {
    "duration": 528,
    "start_time": "2023-08-27T12:55:35.293Z"
   },
   {
    "duration": 3,
    "start_time": "2023-08-27T12:55:36.424Z"
   },
   {
    "duration": 18704,
    "start_time": "2023-08-27T12:55:37.149Z"
   },
   {
    "duration": 236,
    "start_time": "2023-08-27T12:55:56.749Z"
   },
   {
    "duration": 104,
    "start_time": "2023-08-27T12:55:57.636Z"
   },
   {
    "duration": 93,
    "start_time": "2023-08-27T12:55:58.112Z"
   },
   {
    "duration": 102,
    "start_time": "2023-08-27T12:55:58.700Z"
   },
   {
    "duration": 102,
    "start_time": "2023-08-27T12:55:59.904Z"
   },
   {
    "duration": 76,
    "start_time": "2023-08-27T12:56:03.293Z"
   },
   {
    "duration": 111,
    "start_time": "2023-08-27T12:56:06.392Z"
   },
   {
    "duration": 77,
    "start_time": "2023-08-27T12:56:08.624Z"
   },
   {
    "duration": 87,
    "start_time": "2023-08-27T12:56:11.260Z"
   },
   {
    "duration": 81,
    "start_time": "2023-08-27T12:56:16.702Z"
   },
   {
    "duration": 467,
    "start_time": "2023-08-27T12:58:58.196Z"
   },
   {
    "duration": 206,
    "start_time": "2023-08-27T12:59:05.738Z"
   },
   {
    "duration": 79,
    "start_time": "2023-08-27T12:59:43.994Z"
   },
   {
    "duration": 81,
    "start_time": "2023-08-27T13:00:11.312Z"
   },
   {
    "duration": 357,
    "start_time": "2023-08-27T13:01:40.827Z"
   },
   {
    "duration": 325,
    "start_time": "2023-08-27T13:02:05.347Z"
   },
   {
    "duration": 87,
    "start_time": "2023-08-27T13:02:14.933Z"
   },
   {
    "duration": 535,
    "start_time": "2023-08-27T13:02:31.677Z"
   },
   {
    "duration": 4,
    "start_time": "2023-08-27T13:02:32.214Z"
   },
   {
    "duration": 19655,
    "start_time": "2023-08-27T13:02:32.220Z"
   },
   {
    "duration": 195,
    "start_time": "2023-08-27T13:02:51.877Z"
   },
   {
    "duration": 95,
    "start_time": "2023-08-27T13:02:52.075Z"
   },
   {
    "duration": 87,
    "start_time": "2023-08-27T13:02:52.173Z"
   },
   {
    "duration": 88,
    "start_time": "2023-08-27T13:02:52.262Z"
   },
   {
    "duration": 82,
    "start_time": "2023-08-27T13:02:52.351Z"
   },
   {
    "duration": 77,
    "start_time": "2023-08-27T13:02:52.435Z"
   },
   {
    "duration": 95,
    "start_time": "2023-08-27T13:02:52.513Z"
   },
   {
    "duration": 81,
    "start_time": "2023-08-27T13:02:52.611Z"
   },
   {
    "duration": 84,
    "start_time": "2023-08-27T13:02:52.694Z"
   },
   {
    "duration": 81,
    "start_time": "2023-08-27T13:02:52.779Z"
   },
   {
    "duration": 84,
    "start_time": "2023-08-27T13:03:24.042Z"
   },
   {
    "duration": 527,
    "start_time": "2023-08-27T13:03:44.963Z"
   },
   {
    "duration": 3,
    "start_time": "2023-08-27T13:03:45.492Z"
   },
   {
    "duration": 22882,
    "start_time": "2023-08-27T13:03:45.497Z"
   },
   {
    "duration": 210,
    "start_time": "2023-08-27T13:04:08.382Z"
   },
   {
    "duration": 93,
    "start_time": "2023-08-27T13:04:08.595Z"
   },
   {
    "duration": 86,
    "start_time": "2023-08-27T13:04:08.690Z"
   },
   {
    "duration": 85,
    "start_time": "2023-08-27T13:04:08.778Z"
   },
   {
    "duration": 83,
    "start_time": "2023-08-27T13:04:08.865Z"
   },
   {
    "duration": 79,
    "start_time": "2023-08-27T13:04:08.950Z"
   },
   {
    "duration": 94,
    "start_time": "2023-08-27T13:04:09.031Z"
   },
   {
    "duration": 77,
    "start_time": "2023-08-27T13:04:09.127Z"
   },
   {
    "duration": 84,
    "start_time": "2023-08-27T13:04:09.206Z"
   },
   {
    "duration": 80,
    "start_time": "2023-08-27T13:04:09.292Z"
   },
   {
    "duration": 373,
    "start_time": "2023-08-27T13:05:56.129Z"
   },
   {
    "duration": 79,
    "start_time": "2023-08-27T13:06:04.701Z"
   },
   {
    "duration": 83,
    "start_time": "2023-08-27T13:06:32.337Z"
   },
   {
    "duration": 99,
    "start_time": "2023-08-27T13:06:43.354Z"
   },
   {
    "duration": 81,
    "start_time": "2023-08-27T13:07:03.969Z"
   },
   {
    "duration": 529,
    "start_time": "2023-08-28T09:36:06.661Z"
   },
   {
    "duration": 3,
    "start_time": "2023-08-28T09:36:07.192Z"
   },
   {
    "duration": 25650,
    "start_time": "2023-08-28T09:36:07.419Z"
   },
   {
    "duration": 294,
    "start_time": "2023-08-28T09:36:35.308Z"
   },
   {
    "duration": 3,
    "start_time": "2023-08-28T09:36:45.289Z"
   },
   {
    "duration": 103,
    "start_time": "2023-08-28T09:37:32.080Z"
   },
   {
    "duration": 429,
    "start_time": "2023-08-28T09:39:23.768Z"
   },
   {
    "duration": 2,
    "start_time": "2023-08-28T09:43:25.031Z"
   },
   {
    "duration": 136,
    "start_time": "2023-08-28T09:43:26.539Z"
   },
   {
    "duration": 424,
    "start_time": "2023-08-28T09:43:44.025Z"
   },
   {
    "duration": 7,
    "start_time": "2023-08-28T09:43:48.441Z"
   },
   {
    "duration": 7,
    "start_time": "2023-08-28T09:44:05.409Z"
   },
   {
    "duration": 441,
    "start_time": "2023-08-28T09:44:21.097Z"
   },
   {
    "duration": 488,
    "start_time": "2023-08-28T09:44:30.584Z"
   },
   {
    "duration": 425,
    "start_time": "2023-08-28T09:45:35.328Z"
   },
   {
    "duration": 431,
    "start_time": "2023-08-28T09:45:59.866Z"
   },
   {
    "duration": 531,
    "start_time": "2023-08-28T09:49:17.421Z"
   },
   {
    "duration": 4,
    "start_time": "2023-08-28T09:49:17.954Z"
   },
   {
    "duration": 25725,
    "start_time": "2023-08-28T09:49:18.109Z"
   },
   {
    "duration": 568,
    "start_time": "2023-08-28T09:49:45.789Z"
   },
   {
    "duration": 86,
    "start_time": "2023-08-28T09:49:48.614Z"
   },
   {
    "duration": 119,
    "start_time": "2023-08-28T09:49:50.886Z"
   },
   {
    "duration": 86,
    "start_time": "2023-08-28T09:49:52.781Z"
   },
   {
    "duration": 80,
    "start_time": "2023-08-28T09:51:26.510Z"
   },
   {
    "duration": 276,
    "start_time": "2023-08-28T09:54:30.567Z"
   },
   {
    "duration": 83,
    "start_time": "2023-08-28T10:00:43.089Z"
   },
   {
    "duration": 343,
    "start_time": "2023-08-28T10:00:51.158Z"
   },
   {
    "duration": 79,
    "start_time": "2023-08-28T10:01:07.197Z"
   },
   {
    "duration": 108,
    "start_time": "2023-08-28T10:01:38.073Z"
   },
   {
    "duration": 197,
    "start_time": "2023-08-28T10:06:11.302Z"
   },
   {
    "duration": 80,
    "start_time": "2023-08-28T10:06:32.343Z"
   },
   {
    "duration": 296,
    "start_time": "2023-08-28T10:07:01.910Z"
   },
   {
    "duration": 80,
    "start_time": "2023-08-28T10:07:47.888Z"
   },
   {
    "duration": 223,
    "start_time": "2023-08-28T10:08:08.194Z"
   },
   {
    "duration": 512,
    "start_time": "2023-08-28T10:08:12.873Z"
   },
   {
    "duration": 79,
    "start_time": "2023-08-28T10:08:26.905Z"
   },
   {
    "duration": 213,
    "start_time": "2023-08-28T10:09:39.674Z"
   },
   {
    "duration": 226,
    "start_time": "2023-08-28T10:12:42.309Z"
   },
   {
    "duration": 310,
    "start_time": "2023-08-28T10:13:11.500Z"
   },
   {
    "duration": 205,
    "start_time": "2023-08-28T10:14:34.596Z"
   },
   {
    "duration": 240,
    "start_time": "2023-08-28T10:15:29.260Z"
   },
   {
    "duration": 206,
    "start_time": "2023-08-28T10:15:57.291Z"
   },
   {
    "duration": 188,
    "start_time": "2023-08-28T10:16:17.563Z"
   },
   {
    "duration": 194,
    "start_time": "2023-08-28T10:24:56.185Z"
   },
   {
    "duration": 212,
    "start_time": "2023-08-28T10:25:28.834Z"
   },
   {
    "duration": 339,
    "start_time": "2023-08-28T10:26:34.340Z"
   },
   {
    "duration": 369,
    "start_time": "2023-08-28T10:29:17.861Z"
   },
   {
    "duration": 171,
    "start_time": "2023-08-28T10:29:29.122Z"
   },
   {
    "duration": 87,
    "start_time": "2023-08-28T10:29:55.777Z"
   },
   {
    "duration": 176,
    "start_time": "2023-08-28T10:42:57.848Z"
   },
   {
    "duration": 232,
    "start_time": "2023-08-28T10:43:16.428Z"
   },
   {
    "duration": 229,
    "start_time": "2023-08-28T10:44:45.976Z"
   },
   {
    "duration": 239,
    "start_time": "2023-08-28T10:44:57.182Z"
   },
   {
    "duration": 81,
    "start_time": "2023-08-28T10:46:35.409Z"
   },
   {
    "duration": 263,
    "start_time": "2023-08-28T10:48:28.880Z"
   },
   {
    "duration": 81,
    "start_time": "2023-08-28T10:52:47.964Z"
   },
   {
    "duration": 186,
    "start_time": "2023-08-28T11:01:10.976Z"
   },
   {
    "duration": 253,
    "start_time": "2023-08-28T11:01:26.991Z"
   },
   {
    "duration": 260,
    "start_time": "2023-08-28T11:01:44.654Z"
   },
   {
    "duration": 86,
    "start_time": "2023-08-28T11:02:06.552Z"
   },
   {
    "duration": 225,
    "start_time": "2023-08-28T11:02:45.954Z"
   },
   {
    "duration": 80,
    "start_time": "2023-08-28T11:02:53.437Z"
   },
   {
    "duration": 82,
    "start_time": "2023-08-28T11:03:55.693Z"
   },
   {
    "duration": 88,
    "start_time": "2023-08-28T11:05:34.875Z"
   },
   {
    "duration": 81,
    "start_time": "2023-08-28T11:06:21.962Z"
   },
   {
    "duration": 492,
    "start_time": "2023-08-28T11:07:52.282Z"
   },
   {
    "duration": 3,
    "start_time": "2023-08-28T11:07:52.776Z"
   },
   {
    "duration": 11403,
    "start_time": "2023-08-28T11:07:52.781Z"
   },
   {
    "duration": 550,
    "start_time": "2023-08-28T11:08:04.187Z"
   },
   {
    "duration": 86,
    "start_time": "2023-08-28T11:08:04.739Z"
   },
   {
    "duration": 121,
    "start_time": "2023-08-28T11:08:04.826Z"
   },
   {
    "duration": 81,
    "start_time": "2023-08-28T11:08:04.949Z"
   },
   {
    "duration": 84,
    "start_time": "2023-08-28T11:08:05.032Z"
   },
   {
    "duration": 78,
    "start_time": "2023-08-28T11:08:05.118Z"
   }
  ],
  "kernelspec": {
   "display_name": "Python 3 (ipykernel)",
   "language": "python",
   "name": "python3"
  },
  "language_info": {
   "codemirror_mode": {
    "name": "ipython",
    "version": 3
   },
   "file_extension": ".py",
   "mimetype": "text/x-python",
   "name": "python",
   "nbconvert_exporter": "python",
   "pygments_lexer": "ipython3",
   "version": "3.11.3"
  },
  "toc": {
   "base_numbering": 1,
   "nav_menu": {},
   "number_sections": true,
   "sideBar": true,
   "skip_h1_title": true,
   "title_cell": "Table of Contents",
   "title_sidebar": "Contents",
   "toc_cell": false,
   "toc_position": {},
   "toc_section_display": true,
   "toc_window_display": false
  }
 },
 "nbformat": 4,
 "nbformat_minor": 2
}
