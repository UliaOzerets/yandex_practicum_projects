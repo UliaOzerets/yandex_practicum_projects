{
 "cells": [
  {
   "cell_type": "markdown",
   "metadata": {},
   "source": [
    "# Исследование закономерностей компьютерных игр"
   ]
  },
  {
   "cell_type": "markdown",
   "metadata": {},
   "source": [
    "Необходимо выявить определяющие успешность игры закономерности. Это позволит сделать ставку на потенциально популярный продукт и спланировать рекламные кампании.\n",
    "Перед нами данные до 2016 года. Представим, что сейчас декабрь 2016 г., и мы планируем кампанию на 2017-й."
   ]
  },
  {
   "cell_type": "markdown",
   "metadata": {},
   "source": [
    "## Откроем файл с данными и изучим общую информацию"
   ]
  },
  {
   "cell_type": "code",
   "execution_count": 2,
   "metadata": {},
   "outputs": [],
   "source": [
    "import pandas as pd #импорт библиотеки pandas\n",
    "import matplotlib.pyplot as plt #импорт модуля pyplot из matplotlib\n",
    "import numpy as np\n",
    "from scipy import stats as st\n",
    "import seaborn as sns"
   ]
  },
  {
   "cell_type": "code",
   "execution_count": 3,
   "metadata": {},
   "outputs": [],
   "source": [
    "data = pd.read_csv('/datasets/games.csv') #читаем csv-файл"
   ]
  },
  {
   "cell_type": "code",
   "execution_count": 4,
   "metadata": {},
   "outputs": [
    {
     "data": {
      "text/html": [
       "<div>\n",
       "<style scoped>\n",
       "    .dataframe tbody tr th:only-of-type {\n",
       "        vertical-align: middle;\n",
       "    }\n",
       "\n",
       "    .dataframe tbody tr th {\n",
       "        vertical-align: top;\n",
       "    }\n",
       "\n",
       "    .dataframe thead th {\n",
       "        text-align: right;\n",
       "    }\n",
       "</style>\n",
       "<table border=\"1\" class=\"dataframe\">\n",
       "  <thead>\n",
       "    <tr style=\"text-align: right;\">\n",
       "      <th></th>\n",
       "      <th>Name</th>\n",
       "      <th>Platform</th>\n",
       "      <th>Year_of_Release</th>\n",
       "      <th>Genre</th>\n",
       "      <th>NA_sales</th>\n",
       "      <th>EU_sales</th>\n",
       "      <th>JP_sales</th>\n",
       "      <th>Other_sales</th>\n",
       "      <th>Critic_Score</th>\n",
       "      <th>User_Score</th>\n",
       "      <th>Rating</th>\n",
       "    </tr>\n",
       "  </thead>\n",
       "  <tbody>\n",
       "    <tr>\n",
       "      <th>0</th>\n",
       "      <td>Wii Sports</td>\n",
       "      <td>Wii</td>\n",
       "      <td>2006.0</td>\n",
       "      <td>Sports</td>\n",
       "      <td>41.36</td>\n",
       "      <td>28.96</td>\n",
       "      <td>3.77</td>\n",
       "      <td>8.45</td>\n",
       "      <td>76.0</td>\n",
       "      <td>8</td>\n",
       "      <td>E</td>\n",
       "    </tr>\n",
       "    <tr>\n",
       "      <th>1</th>\n",
       "      <td>Super Mario Bros.</td>\n",
       "      <td>NES</td>\n",
       "      <td>1985.0</td>\n",
       "      <td>Platform</td>\n",
       "      <td>29.08</td>\n",
       "      <td>3.58</td>\n",
       "      <td>6.81</td>\n",
       "      <td>0.77</td>\n",
       "      <td>NaN</td>\n",
       "      <td>NaN</td>\n",
       "      <td>NaN</td>\n",
       "    </tr>\n",
       "    <tr>\n",
       "      <th>2</th>\n",
       "      <td>Mario Kart Wii</td>\n",
       "      <td>Wii</td>\n",
       "      <td>2008.0</td>\n",
       "      <td>Racing</td>\n",
       "      <td>15.68</td>\n",
       "      <td>12.76</td>\n",
       "      <td>3.79</td>\n",
       "      <td>3.29</td>\n",
       "      <td>82.0</td>\n",
       "      <td>8.3</td>\n",
       "      <td>E</td>\n",
       "    </tr>\n",
       "    <tr>\n",
       "      <th>3</th>\n",
       "      <td>Wii Sports Resort</td>\n",
       "      <td>Wii</td>\n",
       "      <td>2009.0</td>\n",
       "      <td>Sports</td>\n",
       "      <td>15.61</td>\n",
       "      <td>10.93</td>\n",
       "      <td>3.28</td>\n",
       "      <td>2.95</td>\n",
       "      <td>80.0</td>\n",
       "      <td>8</td>\n",
       "      <td>E</td>\n",
       "    </tr>\n",
       "    <tr>\n",
       "      <th>4</th>\n",
       "      <td>Pokemon Red/Pokemon Blue</td>\n",
       "      <td>GB</td>\n",
       "      <td>1996.0</td>\n",
       "      <td>Role-Playing</td>\n",
       "      <td>11.27</td>\n",
       "      <td>8.89</td>\n",
       "      <td>10.22</td>\n",
       "      <td>1.00</td>\n",
       "      <td>NaN</td>\n",
       "      <td>NaN</td>\n",
       "      <td>NaN</td>\n",
       "    </tr>\n",
       "    <tr>\n",
       "      <th>5</th>\n",
       "      <td>Tetris</td>\n",
       "      <td>GB</td>\n",
       "      <td>1989.0</td>\n",
       "      <td>Puzzle</td>\n",
       "      <td>23.20</td>\n",
       "      <td>2.26</td>\n",
       "      <td>4.22</td>\n",
       "      <td>0.58</td>\n",
       "      <td>NaN</td>\n",
       "      <td>NaN</td>\n",
       "      <td>NaN</td>\n",
       "    </tr>\n",
       "    <tr>\n",
       "      <th>6</th>\n",
       "      <td>New Super Mario Bros.</td>\n",
       "      <td>DS</td>\n",
       "      <td>2006.0</td>\n",
       "      <td>Platform</td>\n",
       "      <td>11.28</td>\n",
       "      <td>9.14</td>\n",
       "      <td>6.50</td>\n",
       "      <td>2.88</td>\n",
       "      <td>89.0</td>\n",
       "      <td>8.5</td>\n",
       "      <td>E</td>\n",
       "    </tr>\n",
       "    <tr>\n",
       "      <th>7</th>\n",
       "      <td>Wii Play</td>\n",
       "      <td>Wii</td>\n",
       "      <td>2006.0</td>\n",
       "      <td>Misc</td>\n",
       "      <td>13.96</td>\n",
       "      <td>9.18</td>\n",
       "      <td>2.93</td>\n",
       "      <td>2.84</td>\n",
       "      <td>58.0</td>\n",
       "      <td>6.6</td>\n",
       "      <td>E</td>\n",
       "    </tr>\n",
       "    <tr>\n",
       "      <th>8</th>\n",
       "      <td>New Super Mario Bros. Wii</td>\n",
       "      <td>Wii</td>\n",
       "      <td>2009.0</td>\n",
       "      <td>Platform</td>\n",
       "      <td>14.44</td>\n",
       "      <td>6.94</td>\n",
       "      <td>4.70</td>\n",
       "      <td>2.24</td>\n",
       "      <td>87.0</td>\n",
       "      <td>8.4</td>\n",
       "      <td>E</td>\n",
       "    </tr>\n",
       "    <tr>\n",
       "      <th>9</th>\n",
       "      <td>Duck Hunt</td>\n",
       "      <td>NES</td>\n",
       "      <td>1984.0</td>\n",
       "      <td>Shooter</td>\n",
       "      <td>26.93</td>\n",
       "      <td>0.63</td>\n",
       "      <td>0.28</td>\n",
       "      <td>0.47</td>\n",
       "      <td>NaN</td>\n",
       "      <td>NaN</td>\n",
       "      <td>NaN</td>\n",
       "    </tr>\n",
       "    <tr>\n",
       "      <th>10</th>\n",
       "      <td>Nintendogs</td>\n",
       "      <td>DS</td>\n",
       "      <td>2005.0</td>\n",
       "      <td>Simulation</td>\n",
       "      <td>9.05</td>\n",
       "      <td>10.95</td>\n",
       "      <td>1.93</td>\n",
       "      <td>2.74</td>\n",
       "      <td>NaN</td>\n",
       "      <td>NaN</td>\n",
       "      <td>NaN</td>\n",
       "    </tr>\n",
       "    <tr>\n",
       "      <th>11</th>\n",
       "      <td>Mario Kart DS</td>\n",
       "      <td>DS</td>\n",
       "      <td>2005.0</td>\n",
       "      <td>Racing</td>\n",
       "      <td>9.71</td>\n",
       "      <td>7.47</td>\n",
       "      <td>4.13</td>\n",
       "      <td>1.90</td>\n",
       "      <td>91.0</td>\n",
       "      <td>8.6</td>\n",
       "      <td>E</td>\n",
       "    </tr>\n",
       "    <tr>\n",
       "      <th>12</th>\n",
       "      <td>Pokemon Gold/Pokemon Silver</td>\n",
       "      <td>GB</td>\n",
       "      <td>1999.0</td>\n",
       "      <td>Role-Playing</td>\n",
       "      <td>9.00</td>\n",
       "      <td>6.18</td>\n",
       "      <td>7.20</td>\n",
       "      <td>0.71</td>\n",
       "      <td>NaN</td>\n",
       "      <td>NaN</td>\n",
       "      <td>NaN</td>\n",
       "    </tr>\n",
       "    <tr>\n",
       "      <th>13</th>\n",
       "      <td>Wii Fit</td>\n",
       "      <td>Wii</td>\n",
       "      <td>2007.0</td>\n",
       "      <td>Sports</td>\n",
       "      <td>8.92</td>\n",
       "      <td>8.03</td>\n",
       "      <td>3.60</td>\n",
       "      <td>2.15</td>\n",
       "      <td>80.0</td>\n",
       "      <td>7.7</td>\n",
       "      <td>E</td>\n",
       "    </tr>\n",
       "    <tr>\n",
       "      <th>14</th>\n",
       "      <td>Kinect Adventures!</td>\n",
       "      <td>X360</td>\n",
       "      <td>2010.0</td>\n",
       "      <td>Misc</td>\n",
       "      <td>15.00</td>\n",
       "      <td>4.89</td>\n",
       "      <td>0.24</td>\n",
       "      <td>1.69</td>\n",
       "      <td>61.0</td>\n",
       "      <td>6.3</td>\n",
       "      <td>E</td>\n",
       "    </tr>\n",
       "    <tr>\n",
       "      <th>15</th>\n",
       "      <td>Wii Fit Plus</td>\n",
       "      <td>Wii</td>\n",
       "      <td>2009.0</td>\n",
       "      <td>Sports</td>\n",
       "      <td>9.01</td>\n",
       "      <td>8.49</td>\n",
       "      <td>2.53</td>\n",
       "      <td>1.77</td>\n",
       "      <td>80.0</td>\n",
       "      <td>7.4</td>\n",
       "      <td>E</td>\n",
       "    </tr>\n",
       "    <tr>\n",
       "      <th>16</th>\n",
       "      <td>Grand Theft Auto V</td>\n",
       "      <td>PS3</td>\n",
       "      <td>2013.0</td>\n",
       "      <td>Action</td>\n",
       "      <td>7.02</td>\n",
       "      <td>9.09</td>\n",
       "      <td>0.98</td>\n",
       "      <td>3.96</td>\n",
       "      <td>97.0</td>\n",
       "      <td>8.2</td>\n",
       "      <td>M</td>\n",
       "    </tr>\n",
       "    <tr>\n",
       "      <th>17</th>\n",
       "      <td>Grand Theft Auto: San Andreas</td>\n",
       "      <td>PS2</td>\n",
       "      <td>2004.0</td>\n",
       "      <td>Action</td>\n",
       "      <td>9.43</td>\n",
       "      <td>0.40</td>\n",
       "      <td>0.41</td>\n",
       "      <td>10.57</td>\n",
       "      <td>95.0</td>\n",
       "      <td>9</td>\n",
       "      <td>M</td>\n",
       "    </tr>\n",
       "    <tr>\n",
       "      <th>18</th>\n",
       "      <td>Super Mario World</td>\n",
       "      <td>SNES</td>\n",
       "      <td>1990.0</td>\n",
       "      <td>Platform</td>\n",
       "      <td>12.78</td>\n",
       "      <td>3.75</td>\n",
       "      <td>3.54</td>\n",
       "      <td>0.55</td>\n",
       "      <td>NaN</td>\n",
       "      <td>NaN</td>\n",
       "      <td>NaN</td>\n",
       "    </tr>\n",
       "    <tr>\n",
       "      <th>19</th>\n",
       "      <td>Brain Age: Train Your Brain in Minutes a Day</td>\n",
       "      <td>DS</td>\n",
       "      <td>2005.0</td>\n",
       "      <td>Misc</td>\n",
       "      <td>4.74</td>\n",
       "      <td>9.20</td>\n",
       "      <td>4.16</td>\n",
       "      <td>2.04</td>\n",
       "      <td>77.0</td>\n",
       "      <td>7.9</td>\n",
       "      <td>E</td>\n",
       "    </tr>\n",
       "  </tbody>\n",
       "</table>\n",
       "</div>"
      ],
      "text/plain": [
       "                                            Name Platform  Year_of_Release  \\\n",
       "0                                     Wii Sports      Wii           2006.0   \n",
       "1                              Super Mario Bros.      NES           1985.0   \n",
       "2                                 Mario Kart Wii      Wii           2008.0   \n",
       "3                              Wii Sports Resort      Wii           2009.0   \n",
       "4                       Pokemon Red/Pokemon Blue       GB           1996.0   \n",
       "5                                         Tetris       GB           1989.0   \n",
       "6                          New Super Mario Bros.       DS           2006.0   \n",
       "7                                       Wii Play      Wii           2006.0   \n",
       "8                      New Super Mario Bros. Wii      Wii           2009.0   \n",
       "9                                      Duck Hunt      NES           1984.0   \n",
       "10                                    Nintendogs       DS           2005.0   \n",
       "11                                 Mario Kart DS       DS           2005.0   \n",
       "12                   Pokemon Gold/Pokemon Silver       GB           1999.0   \n",
       "13                                       Wii Fit      Wii           2007.0   \n",
       "14                            Kinect Adventures!     X360           2010.0   \n",
       "15                                  Wii Fit Plus      Wii           2009.0   \n",
       "16                            Grand Theft Auto V      PS3           2013.0   \n",
       "17                 Grand Theft Auto: San Andreas      PS2           2004.0   \n",
       "18                             Super Mario World     SNES           1990.0   \n",
       "19  Brain Age: Train Your Brain in Minutes a Day       DS           2005.0   \n",
       "\n",
       "           Genre  NA_sales  EU_sales  JP_sales  Other_sales  Critic_Score  \\\n",
       "0         Sports     41.36     28.96      3.77         8.45          76.0   \n",
       "1       Platform     29.08      3.58      6.81         0.77           NaN   \n",
       "2         Racing     15.68     12.76      3.79         3.29          82.0   \n",
       "3         Sports     15.61     10.93      3.28         2.95          80.0   \n",
       "4   Role-Playing     11.27      8.89     10.22         1.00           NaN   \n",
       "5         Puzzle     23.20      2.26      4.22         0.58           NaN   \n",
       "6       Platform     11.28      9.14      6.50         2.88          89.0   \n",
       "7           Misc     13.96      9.18      2.93         2.84          58.0   \n",
       "8       Platform     14.44      6.94      4.70         2.24          87.0   \n",
       "9        Shooter     26.93      0.63      0.28         0.47           NaN   \n",
       "10    Simulation      9.05     10.95      1.93         2.74           NaN   \n",
       "11        Racing      9.71      7.47      4.13         1.90          91.0   \n",
       "12  Role-Playing      9.00      6.18      7.20         0.71           NaN   \n",
       "13        Sports      8.92      8.03      3.60         2.15          80.0   \n",
       "14          Misc     15.00      4.89      0.24         1.69          61.0   \n",
       "15        Sports      9.01      8.49      2.53         1.77          80.0   \n",
       "16        Action      7.02      9.09      0.98         3.96          97.0   \n",
       "17        Action      9.43      0.40      0.41        10.57          95.0   \n",
       "18      Platform     12.78      3.75      3.54         0.55           NaN   \n",
       "19          Misc      4.74      9.20      4.16         2.04          77.0   \n",
       "\n",
       "   User_Score Rating  \n",
       "0           8      E  \n",
       "1         NaN    NaN  \n",
       "2         8.3      E  \n",
       "3           8      E  \n",
       "4         NaN    NaN  \n",
       "5         NaN    NaN  \n",
       "6         8.5      E  \n",
       "7         6.6      E  \n",
       "8         8.4      E  \n",
       "9         NaN    NaN  \n",
       "10        NaN    NaN  \n",
       "11        8.6      E  \n",
       "12        NaN    NaN  \n",
       "13        7.7      E  \n",
       "14        6.3      E  \n",
       "15        7.4      E  \n",
       "16        8.2      M  \n",
       "17          9      M  \n",
       "18        NaN    NaN  \n",
       "19        7.9      E  "
      ]
     },
     "execution_count": 4,
     "metadata": {},
     "output_type": "execute_result"
    }
   ],
   "source": [
    "data.head(20) #смотрим в каком формате и состоянии данные"
   ]
  },
  {
   "cell_type": "code",
   "execution_count": 5,
   "metadata": {},
   "outputs": [
    {
     "data": {
      "text/html": [
       "<div>\n",
       "<style scoped>\n",
       "    .dataframe tbody tr th:only-of-type {\n",
       "        vertical-align: middle;\n",
       "    }\n",
       "\n",
       "    .dataframe tbody tr th {\n",
       "        vertical-align: top;\n",
       "    }\n",
       "\n",
       "    .dataframe thead th {\n",
       "        text-align: right;\n",
       "    }\n",
       "</style>\n",
       "<table border=\"1\" class=\"dataframe\">\n",
       "  <thead>\n",
       "    <tr style=\"text-align: right;\">\n",
       "      <th></th>\n",
       "      <th>Name</th>\n",
       "      <th>Platform</th>\n",
       "      <th>Year_of_Release</th>\n",
       "      <th>Genre</th>\n",
       "      <th>NA_sales</th>\n",
       "      <th>EU_sales</th>\n",
       "      <th>JP_sales</th>\n",
       "      <th>Other_sales</th>\n",
       "      <th>Critic_Score</th>\n",
       "      <th>User_Score</th>\n",
       "      <th>Rating</th>\n",
       "    </tr>\n",
       "  </thead>\n",
       "  <tbody>\n",
       "    <tr>\n",
       "      <th>16695</th>\n",
       "      <td>Planet Monsters</td>\n",
       "      <td>GBA</td>\n",
       "      <td>2001.0</td>\n",
       "      <td>Action</td>\n",
       "      <td>0.01</td>\n",
       "      <td>0.00</td>\n",
       "      <td>0.00</td>\n",
       "      <td>0.0</td>\n",
       "      <td>67.0</td>\n",
       "      <td>tbd</td>\n",
       "      <td>E</td>\n",
       "    </tr>\n",
       "    <tr>\n",
       "      <th>16696</th>\n",
       "      <td>Breach</td>\n",
       "      <td>PC</td>\n",
       "      <td>2011.0</td>\n",
       "      <td>Shooter</td>\n",
       "      <td>0.01</td>\n",
       "      <td>0.00</td>\n",
       "      <td>0.00</td>\n",
       "      <td>0.0</td>\n",
       "      <td>61.0</td>\n",
       "      <td>5.8</td>\n",
       "      <td>T</td>\n",
       "    </tr>\n",
       "    <tr>\n",
       "      <th>16697</th>\n",
       "      <td>Bust-A-Move 3000</td>\n",
       "      <td>GC</td>\n",
       "      <td>2003.0</td>\n",
       "      <td>Puzzle</td>\n",
       "      <td>0.01</td>\n",
       "      <td>0.00</td>\n",
       "      <td>0.00</td>\n",
       "      <td>0.0</td>\n",
       "      <td>53.0</td>\n",
       "      <td>tbd</td>\n",
       "      <td>E</td>\n",
       "    </tr>\n",
       "    <tr>\n",
       "      <th>16698</th>\n",
       "      <td>Mega Brain Boost</td>\n",
       "      <td>DS</td>\n",
       "      <td>2008.0</td>\n",
       "      <td>Puzzle</td>\n",
       "      <td>0.01</td>\n",
       "      <td>0.00</td>\n",
       "      <td>0.00</td>\n",
       "      <td>0.0</td>\n",
       "      <td>48.0</td>\n",
       "      <td>tbd</td>\n",
       "      <td>E</td>\n",
       "    </tr>\n",
       "    <tr>\n",
       "      <th>16699</th>\n",
       "      <td>The Longest 5 Minutes</td>\n",
       "      <td>PSV</td>\n",
       "      <td>2016.0</td>\n",
       "      <td>Action</td>\n",
       "      <td>0.00</td>\n",
       "      <td>0.00</td>\n",
       "      <td>0.01</td>\n",
       "      <td>0.0</td>\n",
       "      <td>NaN</td>\n",
       "      <td>NaN</td>\n",
       "      <td>NaN</td>\n",
       "    </tr>\n",
       "    <tr>\n",
       "      <th>16700</th>\n",
       "      <td>Mezase!! Tsuri Master DS</td>\n",
       "      <td>DS</td>\n",
       "      <td>2009.0</td>\n",
       "      <td>Sports</td>\n",
       "      <td>0.00</td>\n",
       "      <td>0.00</td>\n",
       "      <td>0.01</td>\n",
       "      <td>0.0</td>\n",
       "      <td>NaN</td>\n",
       "      <td>NaN</td>\n",
       "      <td>NaN</td>\n",
       "    </tr>\n",
       "    <tr>\n",
       "      <th>16701</th>\n",
       "      <td>Eiyuu Densetsu: Sora no Kiseki Material Collec...</td>\n",
       "      <td>PSP</td>\n",
       "      <td>2007.0</td>\n",
       "      <td>Role-Playing</td>\n",
       "      <td>0.00</td>\n",
       "      <td>0.00</td>\n",
       "      <td>0.01</td>\n",
       "      <td>0.0</td>\n",
       "      <td>NaN</td>\n",
       "      <td>NaN</td>\n",
       "      <td>NaN</td>\n",
       "    </tr>\n",
       "    <tr>\n",
       "      <th>16702</th>\n",
       "      <td>STORM: Frontline Nation</td>\n",
       "      <td>PC</td>\n",
       "      <td>2011.0</td>\n",
       "      <td>Strategy</td>\n",
       "      <td>0.00</td>\n",
       "      <td>0.01</td>\n",
       "      <td>0.00</td>\n",
       "      <td>0.0</td>\n",
       "      <td>60.0</td>\n",
       "      <td>7.2</td>\n",
       "      <td>E10+</td>\n",
       "    </tr>\n",
       "    <tr>\n",
       "      <th>16703</th>\n",
       "      <td>Strawberry Nauts</td>\n",
       "      <td>PSV</td>\n",
       "      <td>2016.0</td>\n",
       "      <td>Adventure</td>\n",
       "      <td>0.00</td>\n",
       "      <td>0.00</td>\n",
       "      <td>0.01</td>\n",
       "      <td>0.0</td>\n",
       "      <td>NaN</td>\n",
       "      <td>NaN</td>\n",
       "      <td>NaN</td>\n",
       "    </tr>\n",
       "    <tr>\n",
       "      <th>16704</th>\n",
       "      <td>Plushees</td>\n",
       "      <td>DS</td>\n",
       "      <td>2008.0</td>\n",
       "      <td>Simulation</td>\n",
       "      <td>0.01</td>\n",
       "      <td>0.00</td>\n",
       "      <td>0.00</td>\n",
       "      <td>0.0</td>\n",
       "      <td>NaN</td>\n",
       "      <td>tbd</td>\n",
       "      <td>E</td>\n",
       "    </tr>\n",
       "    <tr>\n",
       "      <th>16705</th>\n",
       "      <td>15 Days</td>\n",
       "      <td>PC</td>\n",
       "      <td>2009.0</td>\n",
       "      <td>Adventure</td>\n",
       "      <td>0.00</td>\n",
       "      <td>0.01</td>\n",
       "      <td>0.00</td>\n",
       "      <td>0.0</td>\n",
       "      <td>63.0</td>\n",
       "      <td>5.8</td>\n",
       "      <td>NaN</td>\n",
       "    </tr>\n",
       "    <tr>\n",
       "      <th>16706</th>\n",
       "      <td>Men in Black II: Alien Escape</td>\n",
       "      <td>GC</td>\n",
       "      <td>2003.0</td>\n",
       "      <td>Shooter</td>\n",
       "      <td>0.01</td>\n",
       "      <td>0.00</td>\n",
       "      <td>0.00</td>\n",
       "      <td>0.0</td>\n",
       "      <td>NaN</td>\n",
       "      <td>tbd</td>\n",
       "      <td>T</td>\n",
       "    </tr>\n",
       "    <tr>\n",
       "      <th>16707</th>\n",
       "      <td>Aiyoku no Eustia</td>\n",
       "      <td>PSV</td>\n",
       "      <td>2014.0</td>\n",
       "      <td>Misc</td>\n",
       "      <td>0.00</td>\n",
       "      <td>0.00</td>\n",
       "      <td>0.01</td>\n",
       "      <td>0.0</td>\n",
       "      <td>NaN</td>\n",
       "      <td>NaN</td>\n",
       "      <td>NaN</td>\n",
       "    </tr>\n",
       "    <tr>\n",
       "      <th>16708</th>\n",
       "      <td>Woody Woodpecker in Crazy Castle 5</td>\n",
       "      <td>GBA</td>\n",
       "      <td>2002.0</td>\n",
       "      <td>Platform</td>\n",
       "      <td>0.01</td>\n",
       "      <td>0.00</td>\n",
       "      <td>0.00</td>\n",
       "      <td>0.0</td>\n",
       "      <td>NaN</td>\n",
       "      <td>NaN</td>\n",
       "      <td>NaN</td>\n",
       "    </tr>\n",
       "    <tr>\n",
       "      <th>16709</th>\n",
       "      <td>SCORE International Baja 1000: The Official Game</td>\n",
       "      <td>PS2</td>\n",
       "      <td>2008.0</td>\n",
       "      <td>Racing</td>\n",
       "      <td>0.00</td>\n",
       "      <td>0.00</td>\n",
       "      <td>0.00</td>\n",
       "      <td>0.0</td>\n",
       "      <td>NaN</td>\n",
       "      <td>NaN</td>\n",
       "      <td>NaN</td>\n",
       "    </tr>\n",
       "    <tr>\n",
       "      <th>16710</th>\n",
       "      <td>Samurai Warriors: Sanada Maru</td>\n",
       "      <td>PS3</td>\n",
       "      <td>2016.0</td>\n",
       "      <td>Action</td>\n",
       "      <td>0.00</td>\n",
       "      <td>0.00</td>\n",
       "      <td>0.01</td>\n",
       "      <td>0.0</td>\n",
       "      <td>NaN</td>\n",
       "      <td>NaN</td>\n",
       "      <td>NaN</td>\n",
       "    </tr>\n",
       "    <tr>\n",
       "      <th>16711</th>\n",
       "      <td>LMA Manager 2007</td>\n",
       "      <td>X360</td>\n",
       "      <td>2006.0</td>\n",
       "      <td>Sports</td>\n",
       "      <td>0.00</td>\n",
       "      <td>0.01</td>\n",
       "      <td>0.00</td>\n",
       "      <td>0.0</td>\n",
       "      <td>NaN</td>\n",
       "      <td>NaN</td>\n",
       "      <td>NaN</td>\n",
       "    </tr>\n",
       "    <tr>\n",
       "      <th>16712</th>\n",
       "      <td>Haitaka no Psychedelica</td>\n",
       "      <td>PSV</td>\n",
       "      <td>2016.0</td>\n",
       "      <td>Adventure</td>\n",
       "      <td>0.00</td>\n",
       "      <td>0.00</td>\n",
       "      <td>0.01</td>\n",
       "      <td>0.0</td>\n",
       "      <td>NaN</td>\n",
       "      <td>NaN</td>\n",
       "      <td>NaN</td>\n",
       "    </tr>\n",
       "    <tr>\n",
       "      <th>16713</th>\n",
       "      <td>Spirits &amp; Spells</td>\n",
       "      <td>GBA</td>\n",
       "      <td>2003.0</td>\n",
       "      <td>Platform</td>\n",
       "      <td>0.01</td>\n",
       "      <td>0.00</td>\n",
       "      <td>0.00</td>\n",
       "      <td>0.0</td>\n",
       "      <td>NaN</td>\n",
       "      <td>NaN</td>\n",
       "      <td>NaN</td>\n",
       "    </tr>\n",
       "    <tr>\n",
       "      <th>16714</th>\n",
       "      <td>Winning Post 8 2016</td>\n",
       "      <td>PSV</td>\n",
       "      <td>2016.0</td>\n",
       "      <td>Simulation</td>\n",
       "      <td>0.00</td>\n",
       "      <td>0.00</td>\n",
       "      <td>0.01</td>\n",
       "      <td>0.0</td>\n",
       "      <td>NaN</td>\n",
       "      <td>NaN</td>\n",
       "      <td>NaN</td>\n",
       "    </tr>\n",
       "  </tbody>\n",
       "</table>\n",
       "</div>"
      ],
      "text/plain": [
       "                                                    Name Platform  \\\n",
       "16695                                    Planet Monsters      GBA   \n",
       "16696                                             Breach       PC   \n",
       "16697                                   Bust-A-Move 3000       GC   \n",
       "16698                                   Mega Brain Boost       DS   \n",
       "16699                              The Longest 5 Minutes      PSV   \n",
       "16700                           Mezase!! Tsuri Master DS       DS   \n",
       "16701  Eiyuu Densetsu: Sora no Kiseki Material Collec...      PSP   \n",
       "16702                            STORM: Frontline Nation       PC   \n",
       "16703                                   Strawberry Nauts      PSV   \n",
       "16704                                           Plushees       DS   \n",
       "16705                                            15 Days       PC   \n",
       "16706                      Men in Black II: Alien Escape       GC   \n",
       "16707                                   Aiyoku no Eustia      PSV   \n",
       "16708                 Woody Woodpecker in Crazy Castle 5      GBA   \n",
       "16709   SCORE International Baja 1000: The Official Game      PS2   \n",
       "16710                      Samurai Warriors: Sanada Maru      PS3   \n",
       "16711                                   LMA Manager 2007     X360   \n",
       "16712                            Haitaka no Psychedelica      PSV   \n",
       "16713                                   Spirits & Spells      GBA   \n",
       "16714                                Winning Post 8 2016      PSV   \n",
       "\n",
       "       Year_of_Release         Genre  NA_sales  EU_sales  JP_sales  \\\n",
       "16695           2001.0        Action      0.01      0.00      0.00   \n",
       "16696           2011.0       Shooter      0.01      0.00      0.00   \n",
       "16697           2003.0        Puzzle      0.01      0.00      0.00   \n",
       "16698           2008.0        Puzzle      0.01      0.00      0.00   \n",
       "16699           2016.0        Action      0.00      0.00      0.01   \n",
       "16700           2009.0        Sports      0.00      0.00      0.01   \n",
       "16701           2007.0  Role-Playing      0.00      0.00      0.01   \n",
       "16702           2011.0      Strategy      0.00      0.01      0.00   \n",
       "16703           2016.0     Adventure      0.00      0.00      0.01   \n",
       "16704           2008.0    Simulation      0.01      0.00      0.00   \n",
       "16705           2009.0     Adventure      0.00      0.01      0.00   \n",
       "16706           2003.0       Shooter      0.01      0.00      0.00   \n",
       "16707           2014.0          Misc      0.00      0.00      0.01   \n",
       "16708           2002.0      Platform      0.01      0.00      0.00   \n",
       "16709           2008.0        Racing      0.00      0.00      0.00   \n",
       "16710           2016.0        Action      0.00      0.00      0.01   \n",
       "16711           2006.0        Sports      0.00      0.01      0.00   \n",
       "16712           2016.0     Adventure      0.00      0.00      0.01   \n",
       "16713           2003.0      Platform      0.01      0.00      0.00   \n",
       "16714           2016.0    Simulation      0.00      0.00      0.01   \n",
       "\n",
       "       Other_sales  Critic_Score User_Score Rating  \n",
       "16695          0.0          67.0        tbd      E  \n",
       "16696          0.0          61.0        5.8      T  \n",
       "16697          0.0          53.0        tbd      E  \n",
       "16698          0.0          48.0        tbd      E  \n",
       "16699          0.0           NaN        NaN    NaN  \n",
       "16700          0.0           NaN        NaN    NaN  \n",
       "16701          0.0           NaN        NaN    NaN  \n",
       "16702          0.0          60.0        7.2   E10+  \n",
       "16703          0.0           NaN        NaN    NaN  \n",
       "16704          0.0           NaN        tbd      E  \n",
       "16705          0.0          63.0        5.8    NaN  \n",
       "16706          0.0           NaN        tbd      T  \n",
       "16707          0.0           NaN        NaN    NaN  \n",
       "16708          0.0           NaN        NaN    NaN  \n",
       "16709          0.0           NaN        NaN    NaN  \n",
       "16710          0.0           NaN        NaN    NaN  \n",
       "16711          0.0           NaN        NaN    NaN  \n",
       "16712          0.0           NaN        NaN    NaN  \n",
       "16713          0.0           NaN        NaN    NaN  \n",
       "16714          0.0           NaN        NaN    NaN  "
      ]
     },
     "execution_count": 5,
     "metadata": {},
     "output_type": "execute_result"
    }
   ],
   "source": [
    "data.tail(20)"
   ]
  },
  {
   "cell_type": "markdown",
   "metadata": {},
   "source": [
    "Исходя из данных, видно достаточно большое количество пропущенных значений в последних трёх столбцах в базе данных"
   ]
  },
  {
   "cell_type": "code",
   "execution_count": 6,
   "metadata": {},
   "outputs": [
    {
     "name": "stdout",
     "output_type": "stream",
     "text": [
      "<class 'pandas.core.frame.DataFrame'>\n",
      "RangeIndex: 16715 entries, 0 to 16714\n",
      "Data columns (total 11 columns):\n",
      " #   Column           Non-Null Count  Dtype  \n",
      "---  ------           --------------  -----  \n",
      " 0   Name             16713 non-null  object \n",
      " 1   Platform         16715 non-null  object \n",
      " 2   Year_of_Release  16446 non-null  float64\n",
      " 3   Genre            16713 non-null  object \n",
      " 4   NA_sales         16715 non-null  float64\n",
      " 5   EU_sales         16715 non-null  float64\n",
      " 6   JP_sales         16715 non-null  float64\n",
      " 7   Other_sales      16715 non-null  float64\n",
      " 8   Critic_Score     8137 non-null   float64\n",
      " 9   User_Score       10014 non-null  object \n",
      " 10  Rating           9949 non-null   object \n",
      "dtypes: float64(6), object(5)\n",
      "memory usage: 1.4+ MB\n"
     ]
    }
   ],
   "source": [
    "data.info() # выводим основную информацию о датафрейме"
   ]
  },
  {
   "cell_type": "markdown",
   "metadata": {},
   "source": [
    "В некоторых колонках необхоимо изменить тип ланных перед непосредственной работой с данными. Произведем эту работу в пункте \"Предобработка данных\""
   ]
  },
  {
   "cell_type": "code",
   "execution_count": 7,
   "metadata": {},
   "outputs": [
    {
     "data": {
      "text/plain": [
       "(16715, 11)"
      ]
     },
     "execution_count": 7,
     "metadata": {},
     "output_type": "execute_result"
    }
   ],
   "source": [
    "#оценим количество строк и столбцов изначального датафрейма\n",
    "data.shape"
   ]
  },
  {
   "cell_type": "markdown",
   "metadata": {},
   "source": [
    "## Предобработка данных"
   ]
  },
  {
   "cell_type": "markdown",
   "metadata": {},
   "source": [
    "### Изменение названий столбцов"
   ]
  },
  {
   "cell_type": "code",
   "execution_count": 8,
   "metadata": {},
   "outputs": [],
   "source": [
    "#приведем названия столбцов датафрейма к нижнему регистру по правилам хорошего тона Python\n",
    "data.columns = data.columns.str.lower()"
   ]
  },
  {
   "cell_type": "code",
   "execution_count": 9,
   "metadata": {},
   "outputs": [
    {
     "name": "stdout",
     "output_type": "stream",
     "text": [
      "<class 'pandas.core.frame.DataFrame'>\n",
      "RangeIndex: 16715 entries, 0 to 16714\n",
      "Data columns (total 11 columns):\n",
      " #   Column           Non-Null Count  Dtype  \n",
      "---  ------           --------------  -----  \n",
      " 0   name             16713 non-null  object \n",
      " 1   platform         16715 non-null  object \n",
      " 2   year_of_release  16446 non-null  float64\n",
      " 3   genre            16713 non-null  object \n",
      " 4   na_sales         16715 non-null  float64\n",
      " 5   eu_sales         16715 non-null  float64\n",
      " 6   jp_sales         16715 non-null  float64\n",
      " 7   other_sales      16715 non-null  float64\n",
      " 8   critic_score     8137 non-null   float64\n",
      " 9   user_score       10014 non-null  object \n",
      " 10  rating           9949 non-null   object \n",
      "dtypes: float64(6), object(5)\n",
      "memory usage: 1.4+ MB\n"
     ]
    }
   ],
   "source": [
    "#оценим изменения\n",
    "data.info() "
   ]
  },
  {
   "cell_type": "markdown",
   "metadata": {},
   "source": [
    "Теперь названия столбцов датафрема выглядят хорошо"
   ]
  },
  {
   "cell_type": "markdown",
   "metadata": {},
   "source": [
    "### Изменение типов данных"
   ]
  },
  {
   "cell_type": "markdown",
   "metadata": {},
   "source": [
    "Как уже уточнялось выше, в наших данных есть колонки, в которых нужно подобрать более оптимальный тип данных"
   ]
  },
  {
   "cell_type": "code",
   "execution_count": 10,
   "metadata": {},
   "outputs": [
    {
     "name": "stdout",
     "output_type": "stream",
     "text": [
      "<class 'pandas.core.frame.DataFrame'>\n",
      "RangeIndex: 16715 entries, 0 to 16714\n",
      "Data columns (total 11 columns):\n",
      " #   Column           Non-Null Count  Dtype  \n",
      "---  ------           --------------  -----  \n",
      " 0   name             16713 non-null  object \n",
      " 1   platform         16715 non-null  object \n",
      " 2   year_of_release  16446 non-null  float64\n",
      " 3   genre            16713 non-null  object \n",
      " 4   na_sales         16715 non-null  float64\n",
      " 5   eu_sales         16715 non-null  float64\n",
      " 6   jp_sales         16715 non-null  float64\n",
      " 7   other_sales      16715 non-null  float64\n",
      " 8   critic_score     8137 non-null   float64\n",
      " 9   user_score       10014 non-null  object \n",
      " 10  rating           9949 non-null   object \n",
      "dtypes: float64(6), object(5)\n",
      "memory usage: 1.4+ MB\n"
     ]
    }
   ],
   "source": [
    "#выводим общую информацию\n",
    "data.info() "
   ]
  },
  {
   "cell_type": "code",
   "execution_count": 11,
   "metadata": {},
   "outputs": [],
   "source": [
    "#изменим тип данных в колонке \"year_of_release\" на int для удобства\n",
    "data['year_of_release'] = data['year_of_release'].convert_dtypes()"
   ]
  },
  {
   "cell_type": "code",
   "execution_count": 12,
   "metadata": {},
   "outputs": [],
   "source": [
    "#изменим тип данных в колонке \"critic_score\" на int для удобства, т.к. оценка экспертов - целое число\n",
    "data['critic_score'] = data['critic_score'].convert_dtypes()"
   ]
  },
  {
   "cell_type": "code",
   "execution_count": 13,
   "metadata": {},
   "outputs": [
    {
     "data": {
      "text/plain": [
       "array(['8', nan, '8.3', '8.5', '6.6', '8.4', '8.6', '7.7', '6.3', '7.4',\n",
       "       '8.2', '9', '7.9', '8.1', '8.7', '7.1', '3.4', '5.3', '4.8', '3.2',\n",
       "       '8.9', '6.4', '7.8', '7.5', '2.6', '7.2', '9.2', '7', '7.3', '4.3',\n",
       "       '7.6', '5.7', '5', '9.1', '6.5', 'tbd', '8.8', '6.9', '9.4', '6.8',\n",
       "       '6.1', '6.7', '5.4', '4', '4.9', '4.5', '9.3', '6.2', '4.2', '6',\n",
       "       '3.7', '4.1', '5.8', '5.6', '5.5', '4.4', '4.6', '5.9', '3.9',\n",
       "       '3.1', '2.9', '5.2', '3.3', '4.7', '5.1', '3.5', '2.5', '1.9', '3',\n",
       "       '2.7', '2.2', '2', '9.5', '2.1', '3.6', '2.8', '1.8', '3.8', '0',\n",
       "       '1.6', '9.6', '2.4', '1.7', '1.1', '0.3', '1.5', '0.7', '1.2',\n",
       "       '2.3', '0.5', '1.3', '0.2', '0.6', '1.4', '0.9', '1', '9.7'],\n",
       "      dtype=object)"
      ]
     },
     "execution_count": 13,
     "metadata": {},
     "output_type": "execute_result"
    }
   ],
   "source": [
    "#выше в столбце \"user_score\" было видно странную аббревиатуру, посмотрим более детально\n",
    "data['user_score'].unique()"
   ]
  },
  {
   "cell_type": "markdown",
   "metadata": {},
   "source": [
    "Получается, помимо численных значений, пропущенных nan, у нас есть данные со значением \"tbd\". У этой аббревиатуры могут быть несколько разные значения, например To Be Done - должно быть сделано, или To Be Discussed - подлежит обсуждению. Для нашего столбца подходит такая расшифровка - To Be Determined, то есть \"Будет определено\". Вполне возможно, что для определения рейтинга игры необходимо учесть определенное минимальное количество оценок пользователей. В таком случае, если количество оценок для игры меньше установленного минимума - вместо рейтинга появляется данная аббревиатура. В нашем исследовании мы можем заменить эту аббревиатуру на значение \"nan\""
   ]
  },
  {
   "cell_type": "code",
   "execution_count": 14,
   "metadata": {},
   "outputs": [],
   "source": [
    "#заменим значения \"tbd\" на значения \"nan\"\n",
    "data['user_score'] = data['user_score'].replace('tbd', np.nan)"
   ]
  },
  {
   "cell_type": "code",
   "execution_count": 15,
   "metadata": {},
   "outputs": [],
   "source": [
    "#изменим тип данных в колонке \"user_score\" на float, т.к. оценка пользователей вещественное число\n",
    "data['user_score'] = pd.to_numeric(data['user_score'], errors='coerce')"
   ]
  },
  {
   "cell_type": "code",
   "execution_count": 16,
   "metadata": {},
   "outputs": [
    {
     "name": "stdout",
     "output_type": "stream",
     "text": [
      "<class 'pandas.core.frame.DataFrame'>\n",
      "RangeIndex: 16715 entries, 0 to 16714\n",
      "Data columns (total 11 columns):\n",
      " #   Column           Non-Null Count  Dtype  \n",
      "---  ------           --------------  -----  \n",
      " 0   name             16713 non-null  object \n",
      " 1   platform         16715 non-null  object \n",
      " 2   year_of_release  16446 non-null  Int64  \n",
      " 3   genre            16713 non-null  object \n",
      " 4   na_sales         16715 non-null  float64\n",
      " 5   eu_sales         16715 non-null  float64\n",
      " 6   jp_sales         16715 non-null  float64\n",
      " 7   other_sales      16715 non-null  float64\n",
      " 8   critic_score     8137 non-null   Int64  \n",
      " 9   user_score       7590 non-null   float64\n",
      " 10  rating           9949 non-null   object \n",
      "dtypes: Int64(2), float64(5), object(4)\n",
      "memory usage: 1.4+ MB\n"
     ]
    }
   ],
   "source": [
    "#проверим изменения\n",
    "data.info() "
   ]
  },
  {
   "cell_type": "markdown",
   "metadata": {},
   "source": [
    "Теперь данные нашего датафрейма имеют необходимый тип"
   ]
  },
  {
   "cell_type": "markdown",
   "metadata": {},
   "source": [
    "### Обработка пропусков"
   ]
  },
  {
   "cell_type": "code",
   "execution_count": 17,
   "metadata": {},
   "outputs": [
    {
     "data": {
      "text/plain": [
       "name                  2\n",
       "platform              0\n",
       "year_of_release     269\n",
       "genre                 2\n",
       "na_sales              0\n",
       "eu_sales              0\n",
       "jp_sales              0\n",
       "other_sales           0\n",
       "critic_score       8578\n",
       "user_score         9125\n",
       "rating             6766\n",
       "dtype: int64"
      ]
     },
     "execution_count": 17,
     "metadata": {},
     "output_type": "execute_result"
    }
   ],
   "source": [
    "#оценим количество пропусков\n",
    "data.isna().sum()"
   ]
  },
  {
   "cell_type": "markdown",
   "metadata": {},
   "source": [
    "Итак, достаточно много пропусков  в последних трех столбцах. Начнем изучать пропуска со столбцов, с меньшим количеством пропусков"
   ]
  },
  {
   "cell_type": "code",
   "execution_count": 18,
   "metadata": {},
   "outputs": [
    {
     "data": {
      "text/html": [
       "<div>\n",
       "<style scoped>\n",
       "    .dataframe tbody tr th:only-of-type {\n",
       "        vertical-align: middle;\n",
       "    }\n",
       "\n",
       "    .dataframe tbody tr th {\n",
       "        vertical-align: top;\n",
       "    }\n",
       "\n",
       "    .dataframe thead th {\n",
       "        text-align: right;\n",
       "    }\n",
       "</style>\n",
       "<table border=\"1\" class=\"dataframe\">\n",
       "  <thead>\n",
       "    <tr style=\"text-align: right;\">\n",
       "      <th></th>\n",
       "      <th>name</th>\n",
       "      <th>platform</th>\n",
       "      <th>year_of_release</th>\n",
       "      <th>genre</th>\n",
       "      <th>na_sales</th>\n",
       "      <th>eu_sales</th>\n",
       "      <th>jp_sales</th>\n",
       "      <th>other_sales</th>\n",
       "      <th>critic_score</th>\n",
       "      <th>user_score</th>\n",
       "      <th>rating</th>\n",
       "    </tr>\n",
       "  </thead>\n",
       "  <tbody>\n",
       "    <tr>\n",
       "      <th>659</th>\n",
       "      <td>NaN</td>\n",
       "      <td>GEN</td>\n",
       "      <td>1993</td>\n",
       "      <td>NaN</td>\n",
       "      <td>1.78</td>\n",
       "      <td>0.53</td>\n",
       "      <td>0.00</td>\n",
       "      <td>0.08</td>\n",
       "      <td>&lt;NA&gt;</td>\n",
       "      <td>NaN</td>\n",
       "      <td>NaN</td>\n",
       "    </tr>\n",
       "    <tr>\n",
       "      <th>14244</th>\n",
       "      <td>NaN</td>\n",
       "      <td>GEN</td>\n",
       "      <td>1993</td>\n",
       "      <td>NaN</td>\n",
       "      <td>0.00</td>\n",
       "      <td>0.00</td>\n",
       "      <td>0.03</td>\n",
       "      <td>0.00</td>\n",
       "      <td>&lt;NA&gt;</td>\n",
       "      <td>NaN</td>\n",
       "      <td>NaN</td>\n",
       "    </tr>\n",
       "  </tbody>\n",
       "</table>\n",
       "</div>"
      ],
      "text/plain": [
       "      name platform  year_of_release genre  na_sales  eu_sales  jp_sales  \\\n",
       "659    NaN      GEN             1993   NaN      1.78      0.53      0.00   \n",
       "14244  NaN      GEN             1993   NaN      0.00      0.00      0.03   \n",
       "\n",
       "       other_sales  critic_score  user_score rating  \n",
       "659           0.08          <NA>         NaN    NaN  \n",
       "14244         0.00          <NA>         NaN    NaN  "
      ]
     },
     "execution_count": 18,
     "metadata": {},
     "output_type": "execute_result"
    }
   ],
   "source": [
    "#посмотрим, что за игры, у которых нет названия \n",
    "data[data['name'].isna()]"
   ]
  },
  {
   "cell_type": "markdown",
   "metadata": {},
   "source": [
    "Мы видим, что 2 пропуска в столбце \"name\" и \"genre\" это одни и те же 2 строки датафрейма. Эти строки так же не имеют никаких оценок и рейтинга. Исходя из этого, мы можем удалить эти 2 строки из нашей базы данных, т.к. их потери практически не отразятся на общей информативности и ,к сожалению, мы не можем заполнить эти данные, не имея хотя бы названия игры"
   ]
  },
  {
   "cell_type": "code",
   "execution_count": 19,
   "metadata": {},
   "outputs": [],
   "source": [
    "#удалим строки с пропусками в столбце \"name\" по индексам строк\n",
    "data = data.drop([659, 14244])"
   ]
  },
  {
   "cell_type": "code",
   "execution_count": 20,
   "metadata": {},
   "outputs": [
    {
     "data": {
      "text/html": [
       "<div>\n",
       "<style scoped>\n",
       "    .dataframe tbody tr th:only-of-type {\n",
       "        vertical-align: middle;\n",
       "    }\n",
       "\n",
       "    .dataframe tbody tr th {\n",
       "        vertical-align: top;\n",
       "    }\n",
       "\n",
       "    .dataframe thead th {\n",
       "        text-align: right;\n",
       "    }\n",
       "</style>\n",
       "<table border=\"1\" class=\"dataframe\">\n",
       "  <thead>\n",
       "    <tr style=\"text-align: right;\">\n",
       "      <th></th>\n",
       "      <th>name</th>\n",
       "      <th>platform</th>\n",
       "      <th>year_of_release</th>\n",
       "      <th>genre</th>\n",
       "      <th>na_sales</th>\n",
       "      <th>eu_sales</th>\n",
       "      <th>jp_sales</th>\n",
       "      <th>other_sales</th>\n",
       "      <th>critic_score</th>\n",
       "      <th>user_score</th>\n",
       "      <th>rating</th>\n",
       "    </tr>\n",
       "  </thead>\n",
       "  <tbody>\n",
       "    <tr>\n",
       "      <th>183</th>\n",
       "      <td>Madden NFL 2004</td>\n",
       "      <td>PS2</td>\n",
       "      <td>&lt;NA&gt;</td>\n",
       "      <td>Sports</td>\n",
       "      <td>4.26</td>\n",
       "      <td>0.26</td>\n",
       "      <td>0.01</td>\n",
       "      <td>0.71</td>\n",
       "      <td>94</td>\n",
       "      <td>8.5</td>\n",
       "      <td>E</td>\n",
       "    </tr>\n",
       "    <tr>\n",
       "      <th>377</th>\n",
       "      <td>FIFA Soccer 2004</td>\n",
       "      <td>PS2</td>\n",
       "      <td>&lt;NA&gt;</td>\n",
       "      <td>Sports</td>\n",
       "      <td>0.59</td>\n",
       "      <td>2.36</td>\n",
       "      <td>0.04</td>\n",
       "      <td>0.51</td>\n",
       "      <td>84</td>\n",
       "      <td>6.4</td>\n",
       "      <td>E</td>\n",
       "    </tr>\n",
       "    <tr>\n",
       "      <th>456</th>\n",
       "      <td>LEGO Batman: The Videogame</td>\n",
       "      <td>Wii</td>\n",
       "      <td>&lt;NA&gt;</td>\n",
       "      <td>Action</td>\n",
       "      <td>1.80</td>\n",
       "      <td>0.97</td>\n",
       "      <td>0.00</td>\n",
       "      <td>0.29</td>\n",
       "      <td>74</td>\n",
       "      <td>7.9</td>\n",
       "      <td>E10+</td>\n",
       "    </tr>\n",
       "    <tr>\n",
       "      <th>475</th>\n",
       "      <td>wwe Smackdown vs. Raw 2006</td>\n",
       "      <td>PS2</td>\n",
       "      <td>&lt;NA&gt;</td>\n",
       "      <td>Fighting</td>\n",
       "      <td>1.57</td>\n",
       "      <td>1.02</td>\n",
       "      <td>0.00</td>\n",
       "      <td>0.41</td>\n",
       "      <td>&lt;NA&gt;</td>\n",
       "      <td>NaN</td>\n",
       "      <td>NaN</td>\n",
       "    </tr>\n",
       "    <tr>\n",
       "      <th>609</th>\n",
       "      <td>Space Invaders</td>\n",
       "      <td>2600</td>\n",
       "      <td>&lt;NA&gt;</td>\n",
       "      <td>Shooter</td>\n",
       "      <td>2.36</td>\n",
       "      <td>0.14</td>\n",
       "      <td>0.00</td>\n",
       "      <td>0.03</td>\n",
       "      <td>&lt;NA&gt;</td>\n",
       "      <td>NaN</td>\n",
       "      <td>NaN</td>\n",
       "    </tr>\n",
       "    <tr>\n",
       "      <th>...</th>\n",
       "      <td>...</td>\n",
       "      <td>...</td>\n",
       "      <td>...</td>\n",
       "      <td>...</td>\n",
       "      <td>...</td>\n",
       "      <td>...</td>\n",
       "      <td>...</td>\n",
       "      <td>...</td>\n",
       "      <td>...</td>\n",
       "      <td>...</td>\n",
       "      <td>...</td>\n",
       "    </tr>\n",
       "    <tr>\n",
       "      <th>16373</th>\n",
       "      <td>PDC World Championship Darts 2008</td>\n",
       "      <td>PSP</td>\n",
       "      <td>&lt;NA&gt;</td>\n",
       "      <td>Sports</td>\n",
       "      <td>0.01</td>\n",
       "      <td>0.00</td>\n",
       "      <td>0.00</td>\n",
       "      <td>0.00</td>\n",
       "      <td>43</td>\n",
       "      <td>NaN</td>\n",
       "      <td>E10+</td>\n",
       "    </tr>\n",
       "    <tr>\n",
       "      <th>16405</th>\n",
       "      <td>Freaky Flyers</td>\n",
       "      <td>GC</td>\n",
       "      <td>&lt;NA&gt;</td>\n",
       "      <td>Racing</td>\n",
       "      <td>0.01</td>\n",
       "      <td>0.00</td>\n",
       "      <td>0.00</td>\n",
       "      <td>0.00</td>\n",
       "      <td>69</td>\n",
       "      <td>6.5</td>\n",
       "      <td>T</td>\n",
       "    </tr>\n",
       "    <tr>\n",
       "      <th>16448</th>\n",
       "      <td>Inversion</td>\n",
       "      <td>PC</td>\n",
       "      <td>&lt;NA&gt;</td>\n",
       "      <td>Shooter</td>\n",
       "      <td>0.01</td>\n",
       "      <td>0.00</td>\n",
       "      <td>0.00</td>\n",
       "      <td>0.00</td>\n",
       "      <td>59</td>\n",
       "      <td>6.7</td>\n",
       "      <td>M</td>\n",
       "    </tr>\n",
       "    <tr>\n",
       "      <th>16458</th>\n",
       "      <td>Hakuouki: Shinsengumi Kitan</td>\n",
       "      <td>PS3</td>\n",
       "      <td>&lt;NA&gt;</td>\n",
       "      <td>Adventure</td>\n",
       "      <td>0.01</td>\n",
       "      <td>0.00</td>\n",
       "      <td>0.00</td>\n",
       "      <td>0.00</td>\n",
       "      <td>&lt;NA&gt;</td>\n",
       "      <td>NaN</td>\n",
       "      <td>NaN</td>\n",
       "    </tr>\n",
       "    <tr>\n",
       "      <th>16522</th>\n",
       "      <td>Virtua Quest</td>\n",
       "      <td>GC</td>\n",
       "      <td>&lt;NA&gt;</td>\n",
       "      <td>Role-Playing</td>\n",
       "      <td>0.01</td>\n",
       "      <td>0.00</td>\n",
       "      <td>0.00</td>\n",
       "      <td>0.00</td>\n",
       "      <td>55</td>\n",
       "      <td>5.5</td>\n",
       "      <td>T</td>\n",
       "    </tr>\n",
       "  </tbody>\n",
       "</table>\n",
       "<p>269 rows × 11 columns</p>\n",
       "</div>"
      ],
      "text/plain": [
       "                                    name platform  year_of_release  \\\n",
       "183                      Madden NFL 2004      PS2             <NA>   \n",
       "377                     FIFA Soccer 2004      PS2             <NA>   \n",
       "456           LEGO Batman: The Videogame      Wii             <NA>   \n",
       "475           wwe Smackdown vs. Raw 2006      PS2             <NA>   \n",
       "609                       Space Invaders     2600             <NA>   \n",
       "...                                  ...      ...              ...   \n",
       "16373  PDC World Championship Darts 2008      PSP             <NA>   \n",
       "16405                      Freaky Flyers       GC             <NA>   \n",
       "16448                          Inversion       PC             <NA>   \n",
       "16458        Hakuouki: Shinsengumi Kitan      PS3             <NA>   \n",
       "16522                       Virtua Quest       GC             <NA>   \n",
       "\n",
       "              genre  na_sales  eu_sales  jp_sales  other_sales  critic_score  \\\n",
       "183          Sports      4.26      0.26      0.01         0.71            94   \n",
       "377          Sports      0.59      2.36      0.04         0.51            84   \n",
       "456          Action      1.80      0.97      0.00         0.29            74   \n",
       "475        Fighting      1.57      1.02      0.00         0.41          <NA>   \n",
       "609         Shooter      2.36      0.14      0.00         0.03          <NA>   \n",
       "...             ...       ...       ...       ...          ...           ...   \n",
       "16373        Sports      0.01      0.00      0.00         0.00            43   \n",
       "16405        Racing      0.01      0.00      0.00         0.00            69   \n",
       "16448       Shooter      0.01      0.00      0.00         0.00            59   \n",
       "16458     Adventure      0.01      0.00      0.00         0.00          <NA>   \n",
       "16522  Role-Playing      0.01      0.00      0.00         0.00            55   \n",
       "\n",
       "       user_score rating  \n",
       "183           8.5      E  \n",
       "377           6.4      E  \n",
       "456           7.9   E10+  \n",
       "475           NaN    NaN  \n",
       "609           NaN    NaN  \n",
       "...           ...    ...  \n",
       "16373         NaN   E10+  \n",
       "16405         6.5      T  \n",
       "16448         6.7      M  \n",
       "16458         NaN    NaN  \n",
       "16522         5.5      T  \n",
       "\n",
       "[269 rows x 11 columns]"
      ]
     },
     "execution_count": 20,
     "metadata": {},
     "output_type": "execute_result"
    }
   ],
   "source": [
    "data[data['year_of_release'].isna()]"
   ]
  },
  {
   "cell_type": "markdown",
   "metadata": {},
   "source": [
    "269 пропусков. Учитывая, что дальнейшее наше исследование будет основано на информации о годах выпуска игр, оставшиеся игры с пропусками в столбце \"year_of_release\" можно удалить из последующего исследования"
   ]
  },
  {
   "cell_type": "code",
   "execution_count": 21,
   "metadata": {},
   "outputs": [],
   "source": [
    "#удалим строки с пропусками в столбце \"year_of_release\" по индексам строк\n",
    "data = data.dropna(subset=['year_of_release'])"
   ]
  },
  {
   "cell_type": "code",
   "execution_count": 22,
   "metadata": {},
   "outputs": [
    {
     "data": {
      "text/plain": [
       "<IntegerArray>\n",
       "[  76, <NA>,   82,   80,   89,   58,   87,   91,   61,   97,   95,   77,   88,\n",
       "   83,   94,   93,   85,   86,   98,   96,   90,   84,   73,   74,   78,   92,\n",
       "   71,   72,   68,   62,   49,   67,   81,   66,   56,   79,   70,   59,   64,\n",
       "   75,   60,   63,   69,   50,   25,   42,   44,   55,   48,   57,   29,   47,\n",
       "   65,   54,   20,   53,   37,   38,   33,   52,   30,   32,   43,   45,   51,\n",
       "   40,   46,   39,   34,   41,   36,   31,   27,   35,   26,   19,   28,   23,\n",
       "   24,   21,   17,   13]\n",
       "Length: 82, dtype: Int64"
      ]
     },
     "execution_count": 22,
     "metadata": {},
     "output_type": "execute_result"
    }
   ],
   "source": [
    "#изучим уникальные значения столбца \"critic_score\"\n",
    "data['critic_score'].unique()"
   ]
  },
  {
   "cell_type": "code",
   "execution_count": 23,
   "metadata": {},
   "outputs": [
    {
     "data": {
      "text/plain": [
       "array([8. , nan, 8.3, 8.5, 6.6, 8.4, 8.6, 7.7, 6.3, 7.4, 8.2, 9. , 7.9,\n",
       "       8.1, 8.7, 7.1, 3.4, 5.3, 4.8, 3.2, 8.9, 6.4, 7.8, 7.5, 2.6, 7.2,\n",
       "       9.2, 7. , 7.3, 4.3, 7.6, 5.7, 5. , 9.1, 6.5, 8.8, 6.9, 9.4, 6.8,\n",
       "       6.1, 6.7, 5.4, 4. , 4.9, 4.5, 9.3, 6.2, 4.2, 6. , 3.7, 4.1, 5.8,\n",
       "       5.6, 5.5, 4.4, 4.6, 5.9, 3.9, 3.1, 2.9, 5.2, 3.3, 4.7, 5.1, 3.5,\n",
       "       2.5, 1.9, 3. , 2.7, 2.2, 2. , 9.5, 2.1, 3.6, 2.8, 1.8, 3.8, 0. ,\n",
       "       1.6, 9.6, 2.4, 1.7, 1.1, 0.3, 1.5, 0.7, 1.2, 2.3, 0.5, 1.3, 0.2,\n",
       "       0.6, 1.4, 0.9, 1. , 9.7])"
      ]
     },
     "execution_count": 23,
     "metadata": {},
     "output_type": "execute_result"
    }
   ],
   "source": [
    "#изучим уникальные значения столбца \"user_score\"\n",
    "data['user_score'].unique()"
   ]
  },
  {
   "cell_type": "markdown",
   "metadata": {},
   "source": [
    "У нас есть большое количество пропущенных значений в обоих столбцах. пропуски в обоих этих столбцах могли быть образованы по разным причинам: для игр, выпущенных давно, такие рейтинги могли еще не существовать на то время; так же, не будем игнорировать вариант, при котором, игры в целом могли быть не оценены, даже новые; ну и, конечно, случайные пропуски.\n",
    "Заполнять пропуски средними или медианными значениями нельзя - это сильно исказит наши данные. Заполним пропуски в столбце \"critic_score\" - нулём, а в столбце \"user_score\" - значением \"-1\". В дальнейшем исследовании будем помнить о том, что пропуски заполнены этими значениями и уберем их из наших расчетов"
   ]
  },
  {
   "cell_type": "code",
   "execution_count": 24,
   "metadata": {},
   "outputs": [],
   "source": [
    "#заполним пропуски в столбце \"critic_score\"\n",
    "data['critic_score'] = data['critic_score'].fillna(0)"
   ]
  },
  {
   "cell_type": "code",
   "execution_count": 25,
   "metadata": {},
   "outputs": [],
   "source": [
    "#заполним пропуски в столбце \"user_score\"\n",
    "data['user_score'] = data['user_score'].fillna(-1)"
   ]
  },
  {
   "cell_type": "code",
   "execution_count": 26,
   "metadata": {},
   "outputs": [
    {
     "data": {
      "text/plain": [
       "array(['E', nan, 'M', 'T', 'E10+', 'K-A', 'AO', 'EC', 'RP'], dtype=object)"
      ]
     },
     "execution_count": 26,
     "metadata": {},
     "output_type": "execute_result"
    }
   ],
   "source": [
    "#изучим уникальные значения столбца \"rating\"\n",
    "data['rating'].unique()"
   ]
  },
  {
   "cell_type": "markdown",
   "metadata": {},
   "source": [
    "Согласно Entertainment Software Rating Board (ESRB) — негосударственной организации, игры делятся на разные категории. В нашем датафрейме около 30% пропусков в столбце \"rating\". Мы не можем заполнить эти пропуски самостоятельно, поэтому заполним пропуски обозначением \"NR\" - \"No Rating\""
   ]
  },
  {
   "cell_type": "code",
   "execution_count": 27,
   "metadata": {},
   "outputs": [],
   "source": [
    "data['rating'] = data['rating'].fillna('NR')"
   ]
  },
  {
   "cell_type": "code",
   "execution_count": 28,
   "metadata": {},
   "outputs": [
    {
     "data": {
      "text/plain": [
       "name               0\n",
       "platform           0\n",
       "year_of_release    0\n",
       "genre              0\n",
       "na_sales           0\n",
       "eu_sales           0\n",
       "jp_sales           0\n",
       "other_sales        0\n",
       "critic_score       0\n",
       "user_score         0\n",
       "rating             0\n",
       "dtype: int64"
      ]
     },
     "execution_count": 28,
     "metadata": {},
     "output_type": "execute_result"
    }
   ],
   "source": [
    "#проверим, заполнились ли пропуски\n",
    "data.isna().sum()"
   ]
  },
  {
   "cell_type": "code",
   "execution_count": 29,
   "metadata": {},
   "outputs": [
    {
     "data": {
      "text/plain": [
       "0"
      ]
     },
     "execution_count": 29,
     "metadata": {},
     "output_type": "execute_result"
    }
   ],
   "source": [
    "#проверим, есть ли строки-дубликаты в базе данных\n",
    "data.duplicated().sum()"
   ]
  },
  {
   "cell_type": "code",
   "execution_count": 30,
   "metadata": {},
   "outputs": [
    {
     "data": {
      "text/html": [
       "<div>\n",
       "<style scoped>\n",
       "    .dataframe tbody tr th:only-of-type {\n",
       "        vertical-align: middle;\n",
       "    }\n",
       "\n",
       "    .dataframe tbody tr th {\n",
       "        vertical-align: top;\n",
       "    }\n",
       "\n",
       "    .dataframe thead th {\n",
       "        text-align: right;\n",
       "    }\n",
       "</style>\n",
       "<table border=\"1\" class=\"dataframe\">\n",
       "  <thead>\n",
       "    <tr style=\"text-align: right;\">\n",
       "      <th></th>\n",
       "      <th>name</th>\n",
       "      <th>platform</th>\n",
       "      <th>year_of_release</th>\n",
       "      <th>genre</th>\n",
       "      <th>na_sales</th>\n",
       "      <th>eu_sales</th>\n",
       "      <th>jp_sales</th>\n",
       "      <th>other_sales</th>\n",
       "      <th>critic_score</th>\n",
       "      <th>user_score</th>\n",
       "      <th>rating</th>\n",
       "    </tr>\n",
       "  </thead>\n",
       "  <tbody>\n",
       "    <tr>\n",
       "      <th>16230</th>\n",
       "      <td>Madden NFL 13</td>\n",
       "      <td>PS3</td>\n",
       "      <td>2012</td>\n",
       "      <td>Sports</td>\n",
       "      <td>0.0</td>\n",
       "      <td>0.01</td>\n",
       "      <td>0.0</td>\n",
       "      <td>0.0</td>\n",
       "      <td>83</td>\n",
       "      <td>5.5</td>\n",
       "      <td>E</td>\n",
       "    </tr>\n",
       "  </tbody>\n",
       "</table>\n",
       "</div>"
      ],
      "text/plain": [
       "                name platform  year_of_release   genre  na_sales  eu_sales  \\\n",
       "16230  Madden NFL 13      PS3             2012  Sports       0.0      0.01   \n",
       "\n",
       "       jp_sales  other_sales  critic_score  user_score rating  \n",
       "16230       0.0          0.0            83         5.5      E  "
      ]
     },
     "execution_count": 30,
     "metadata": {},
     "output_type": "execute_result"
    }
   ],
   "source": [
    "#посмотрим, есть ли строки-дубликаты по комбинации \"имя-платформа-год выпуска\"\n",
    "data_duplicates = data[data.duplicated(['name', 'platform', 'year_of_release'])]\n",
    "data_duplicates"
   ]
  },
  {
   "cell_type": "markdown",
   "metadata": {},
   "source": [
    "Такие строки есть. Удалим их из нашего датафрейма"
   ]
  },
  {
   "cell_type": "code",
   "execution_count": 31,
   "metadata": {},
   "outputs": [],
   "source": [
    "#удалим строки-дубликаты\n",
    "data.drop_duplicates(['name', 'platform', 'year_of_release'], inplace=True)"
   ]
  },
  {
   "cell_type": "code",
   "execution_count": 32,
   "metadata": {},
   "outputs": [],
   "source": [
    "#посчитаем суммарные продажи по всем регионам\n",
    "data['total_sales'] = data['na_sales'] + data['eu_sales'] + data['jp_sales'] + data['other_sales']"
   ]
  },
  {
   "cell_type": "code",
   "execution_count": 33,
   "metadata": {},
   "outputs": [
    {
     "data": {
      "text/html": [
       "<div>\n",
       "<style scoped>\n",
       "    .dataframe tbody tr th:only-of-type {\n",
       "        vertical-align: middle;\n",
       "    }\n",
       "\n",
       "    .dataframe tbody tr th {\n",
       "        vertical-align: top;\n",
       "    }\n",
       "\n",
       "    .dataframe thead th {\n",
       "        text-align: right;\n",
       "    }\n",
       "</style>\n",
       "<table border=\"1\" class=\"dataframe\">\n",
       "  <thead>\n",
       "    <tr style=\"text-align: right;\">\n",
       "      <th></th>\n",
       "      <th>name</th>\n",
       "      <th>platform</th>\n",
       "      <th>year_of_release</th>\n",
       "      <th>genre</th>\n",
       "      <th>na_sales</th>\n",
       "      <th>eu_sales</th>\n",
       "      <th>jp_sales</th>\n",
       "      <th>other_sales</th>\n",
       "      <th>critic_score</th>\n",
       "      <th>user_score</th>\n",
       "      <th>rating</th>\n",
       "      <th>total_sales</th>\n",
       "    </tr>\n",
       "  </thead>\n",
       "  <tbody>\n",
       "    <tr>\n",
       "      <th>0</th>\n",
       "      <td>Wii Sports</td>\n",
       "      <td>Wii</td>\n",
       "      <td>2006</td>\n",
       "      <td>Sports</td>\n",
       "      <td>41.36</td>\n",
       "      <td>28.96</td>\n",
       "      <td>3.77</td>\n",
       "      <td>8.45</td>\n",
       "      <td>76</td>\n",
       "      <td>8.0</td>\n",
       "      <td>E</td>\n",
       "      <td>82.54</td>\n",
       "    </tr>\n",
       "    <tr>\n",
       "      <th>1</th>\n",
       "      <td>Super Mario Bros.</td>\n",
       "      <td>NES</td>\n",
       "      <td>1985</td>\n",
       "      <td>Platform</td>\n",
       "      <td>29.08</td>\n",
       "      <td>3.58</td>\n",
       "      <td>6.81</td>\n",
       "      <td>0.77</td>\n",
       "      <td>0</td>\n",
       "      <td>-1.0</td>\n",
       "      <td>NR</td>\n",
       "      <td>40.24</td>\n",
       "    </tr>\n",
       "    <tr>\n",
       "      <th>2</th>\n",
       "      <td>Mario Kart Wii</td>\n",
       "      <td>Wii</td>\n",
       "      <td>2008</td>\n",
       "      <td>Racing</td>\n",
       "      <td>15.68</td>\n",
       "      <td>12.76</td>\n",
       "      <td>3.79</td>\n",
       "      <td>3.29</td>\n",
       "      <td>82</td>\n",
       "      <td>8.3</td>\n",
       "      <td>E</td>\n",
       "      <td>35.52</td>\n",
       "    </tr>\n",
       "    <tr>\n",
       "      <th>3</th>\n",
       "      <td>Wii Sports Resort</td>\n",
       "      <td>Wii</td>\n",
       "      <td>2009</td>\n",
       "      <td>Sports</td>\n",
       "      <td>15.61</td>\n",
       "      <td>10.93</td>\n",
       "      <td>3.28</td>\n",
       "      <td>2.95</td>\n",
       "      <td>80</td>\n",
       "      <td>8.0</td>\n",
       "      <td>E</td>\n",
       "      <td>32.77</td>\n",
       "    </tr>\n",
       "    <tr>\n",
       "      <th>4</th>\n",
       "      <td>Pokemon Red/Pokemon Blue</td>\n",
       "      <td>GB</td>\n",
       "      <td>1996</td>\n",
       "      <td>Role-Playing</td>\n",
       "      <td>11.27</td>\n",
       "      <td>8.89</td>\n",
       "      <td>10.22</td>\n",
       "      <td>1.00</td>\n",
       "      <td>0</td>\n",
       "      <td>-1.0</td>\n",
       "      <td>NR</td>\n",
       "      <td>31.38</td>\n",
       "    </tr>\n",
       "    <tr>\n",
       "      <th>5</th>\n",
       "      <td>Tetris</td>\n",
       "      <td>GB</td>\n",
       "      <td>1989</td>\n",
       "      <td>Puzzle</td>\n",
       "      <td>23.20</td>\n",
       "      <td>2.26</td>\n",
       "      <td>4.22</td>\n",
       "      <td>0.58</td>\n",
       "      <td>0</td>\n",
       "      <td>-1.0</td>\n",
       "      <td>NR</td>\n",
       "      <td>30.26</td>\n",
       "    </tr>\n",
       "    <tr>\n",
       "      <th>6</th>\n",
       "      <td>New Super Mario Bros.</td>\n",
       "      <td>DS</td>\n",
       "      <td>2006</td>\n",
       "      <td>Platform</td>\n",
       "      <td>11.28</td>\n",
       "      <td>9.14</td>\n",
       "      <td>6.50</td>\n",
       "      <td>2.88</td>\n",
       "      <td>89</td>\n",
       "      <td>8.5</td>\n",
       "      <td>E</td>\n",
       "      <td>29.80</td>\n",
       "    </tr>\n",
       "    <tr>\n",
       "      <th>7</th>\n",
       "      <td>Wii Play</td>\n",
       "      <td>Wii</td>\n",
       "      <td>2006</td>\n",
       "      <td>Misc</td>\n",
       "      <td>13.96</td>\n",
       "      <td>9.18</td>\n",
       "      <td>2.93</td>\n",
       "      <td>2.84</td>\n",
       "      <td>58</td>\n",
       "      <td>6.6</td>\n",
       "      <td>E</td>\n",
       "      <td>28.91</td>\n",
       "    </tr>\n",
       "    <tr>\n",
       "      <th>8</th>\n",
       "      <td>New Super Mario Bros. Wii</td>\n",
       "      <td>Wii</td>\n",
       "      <td>2009</td>\n",
       "      <td>Platform</td>\n",
       "      <td>14.44</td>\n",
       "      <td>6.94</td>\n",
       "      <td>4.70</td>\n",
       "      <td>2.24</td>\n",
       "      <td>87</td>\n",
       "      <td>8.4</td>\n",
       "      <td>E</td>\n",
       "      <td>28.32</td>\n",
       "    </tr>\n",
       "    <tr>\n",
       "      <th>9</th>\n",
       "      <td>Duck Hunt</td>\n",
       "      <td>NES</td>\n",
       "      <td>1984</td>\n",
       "      <td>Shooter</td>\n",
       "      <td>26.93</td>\n",
       "      <td>0.63</td>\n",
       "      <td>0.28</td>\n",
       "      <td>0.47</td>\n",
       "      <td>0</td>\n",
       "      <td>-1.0</td>\n",
       "      <td>NR</td>\n",
       "      <td>28.31</td>\n",
       "    </tr>\n",
       "  </tbody>\n",
       "</table>\n",
       "</div>"
      ],
      "text/plain": [
       "                        name platform  year_of_release         genre  \\\n",
       "0                 Wii Sports      Wii             2006        Sports   \n",
       "1          Super Mario Bros.      NES             1985      Platform   \n",
       "2             Mario Kart Wii      Wii             2008        Racing   \n",
       "3          Wii Sports Resort      Wii             2009        Sports   \n",
       "4   Pokemon Red/Pokemon Blue       GB             1996  Role-Playing   \n",
       "5                     Tetris       GB             1989        Puzzle   \n",
       "6      New Super Mario Bros.       DS             2006      Platform   \n",
       "7                   Wii Play      Wii             2006          Misc   \n",
       "8  New Super Mario Bros. Wii      Wii             2009      Platform   \n",
       "9                  Duck Hunt      NES             1984       Shooter   \n",
       "\n",
       "   na_sales  eu_sales  jp_sales  other_sales  critic_score  user_score rating  \\\n",
       "0     41.36     28.96      3.77         8.45            76         8.0      E   \n",
       "1     29.08      3.58      6.81         0.77             0        -1.0     NR   \n",
       "2     15.68     12.76      3.79         3.29            82         8.3      E   \n",
       "3     15.61     10.93      3.28         2.95            80         8.0      E   \n",
       "4     11.27      8.89     10.22         1.00             0        -1.0     NR   \n",
       "5     23.20      2.26      4.22         0.58             0        -1.0     NR   \n",
       "6     11.28      9.14      6.50         2.88            89         8.5      E   \n",
       "7     13.96      9.18      2.93         2.84            58         6.6      E   \n",
       "8     14.44      6.94      4.70         2.24            87         8.4      E   \n",
       "9     26.93      0.63      0.28         0.47             0        -1.0     NR   \n",
       "\n",
       "   total_sales  \n",
       "0        82.54  \n",
       "1        40.24  \n",
       "2        35.52  \n",
       "3        32.77  \n",
       "4        31.38  \n",
       "5        30.26  \n",
       "6        29.80  \n",
       "7        28.91  \n",
       "8        28.32  \n",
       "9        28.31  "
      ]
     },
     "execution_count": 33,
     "metadata": {},
     "output_type": "execute_result"
    }
   ],
   "source": [
    "#проверим, добавился ли столбец\n",
    "data.head(10)"
   ]
  },
  {
   "cell_type": "code",
   "execution_count": 34,
   "metadata": {},
   "outputs": [
    {
     "data": {
      "text/plain": [
       "(16443, 12)"
      ]
     },
     "execution_count": 34,
     "metadata": {},
     "output_type": "execute_result"
    }
   ],
   "source": [
    "data.shape"
   ]
  },
  {
   "cell_type": "markdown",
   "metadata": {},
   "source": [
    "В данном разделе были отредактированы типы данных, заполненны пропуски. Можно переходить к исследовательскому анализу данных.\n",
    "В результате обработки данных датафрейм был сохранен на 98.40%"
   ]
  },
  {
   "cell_type": "markdown",
   "metadata": {},
   "source": [
    "## Исследовательский анализ данных"
   ]
  },
  {
   "cell_type": "markdown",
   "metadata": {},
   "source": [
    "###  Выпуск игр в разные годы"
   ]
  },
  {
   "cell_type": "code",
   "execution_count": 35,
   "metadata": {},
   "outputs": [],
   "source": [
    "#создадим сводную таблицу зависимости количества выпущенных игр от года выпуска\n",
    "games_by_years = data.pivot_table(index='year_of_release', values='name', aggfunc='count')"
   ]
  },
  {
   "cell_type": "code",
   "execution_count": 37,
   "metadata": {},
   "outputs": [
    {
     "data": {
      "image/png": "[encoded data removed]",
      "text/plain": [
       "<Figure size 1008x864 with 1 Axes>"
      ]
     },
     "metadata": {
      "needs_background": "light"
     },
     "output_type": "display_data"
    }
   ],
   "source": [
    "#построим график\n",
    "games_by_years.plot(figsize=(14, 12), grid=True, legend=False)\n",
    "plt.title('Количество выпускаемых игр')\n",
    "plt.xlabel('Год выпуска')\n",
    "plt.ylabel('Количество игр')\n",
    "plt.show()"
   ]
  },
  {
   "cell_type": "markdown",
   "metadata": {},
   "source": [
    "Исходя из отображаемых данных видно, что рост количества игр начался с 1990 года до 2008 и затем произошел довольно резкий спад. Спад можно объяснить появлением смартфонов в широком потреблении и наличия большого количества игр для телефонов, планшетов и пр."
   ]
  },
  {
   "cell_type": "markdown",
   "metadata": {},
   "source": [
    "### Изменение продаж по платформам и годам"
   ]
  },
  {
   "cell_type": "code",
   "execution_count": 38,
   "metadata": {},
   "outputs": [],
   "source": [
    "#создадим сводную таблицу по платформам и общим количеством игр\n",
    "games_by_platform = data.pivot_table(index='platform', values='total_sales', aggfunc='sum').sort_values(by='total_sales', ascending=False)"
   ]
  },
  {
   "cell_type": "code",
   "execution_count": 39,
   "metadata": {},
   "outputs": [
    {
     "data": {
      "image/png": "[encoded data removed]",
      "text/plain": [
       "<Figure size 1008x864 with 1 Axes>"
      ]
     },
     "metadata": {
      "needs_background": "light"
     },
     "output_type": "display_data"
    }
   ],
   "source": [
    "#создадим график\n",
    "games_by_platform.plot(kind='bar', figsize=(14, 12), grid=True, legend=False)\n",
    "plt.title('Количество выпускаемых игр')\n",
    "plt.xlabel('Название платформы')\n",
    "plt.ylabel('Количество игр')\n",
    "plt.show()"
   ]
  },
  {
   "cell_type": "markdown",
   "metadata": {},
   "source": [
    "На графике видно, что с большим отрывом лидирует Sony PlayStation2. На втором месте X-Box360, затем Sony PlayStation3 и Wii. Затем за ними следуют DS и PS. Построим следующий график с распределением по годам этих первых 6 платформ. Возьмем шесть, потому что разница между 5 и 6 относительно небольшая, когда как разница между 6-й PS и 7-й PS4 достаточно существенная"
   ]
  },
  {
   "cell_type": "code",
   "execution_count": 40,
   "metadata": {},
   "outputs": [
    {
     "data": {
      "image/png": "[encoded data removed]",
      "text/plain": [
       "<Figure size 576x720 with 1 Axes>"
      ]
     },
     "metadata": {
      "needs_background": "light"
     },
     "output_type": "display_data"
    }
   ],
   "source": [
    "#построим распределение по годам для платформы \"PS2\"\n",
    "platform_1 = pd.pivot_table(data.query('platform == \"PS2\"'), index=['platform', 'year_of_release'], values='total_sales', aggfunc='sum')\n",
    "platform_1.plot(kind='bar', figsize=(8, 10), grid=True, legend=False)\n",
    "plt.title('Платформа \"PS2\"')\n",
    "plt.xlabel('Год')\n",
    "plt.ylabel('Продажи')\n",
    "plt.show()"
   ]
  },
  {
   "cell_type": "markdown",
   "metadata": {},
   "source": [
    "Согласно данным из таблицы, пик продаж для этой платформы наступил на 5 год её продаж. Платформа просуществовала 11 лет"
   ]
  },
  {
   "cell_type": "code",
   "execution_count": 41,
   "metadata": {},
   "outputs": [
    {
     "data": {
      "image/png": "[encoded data removed]",
      "text/plain": [
       "<Figure size 576x720 with 1 Axes>"
      ]
     },
     "metadata": {
      "needs_background": "light"
     },
     "output_type": "display_data"
    }
   ],
   "source": [
    "#построим распределение по годам для платформы \"X360\"\n",
    "platform_2 = pd.pivot_table(data.query('platform == \"X360\"'), index=['platform', 'year_of_release'], values='total_sales', aggfunc='sum')\n",
    "platform_2.plot(kind='bar', figsize=(8, 10), grid=True, legend=False)\n",
    "plt.title('Платформа \"X360\"')\n",
    "plt.xlabel('Год')\n",
    "plt.ylabel('Продажи')\n",
    "plt.show()"
   ]
  },
  {
   "cell_type": "markdown",
   "metadata": {},
   "source": [
    "Для платформы X360 пик продаж пришелся на 6-й год. Платформа исчезла за 11 лет"
   ]
  },
  {
   "cell_type": "code",
   "execution_count": 42,
   "metadata": {},
   "outputs": [
    {
     "data": {
      "image/png": "[encoded data removed]",
      "text/plain": [
       "<Figure size 576x720 with 1 Axes>"
      ]
     },
     "metadata": {
      "needs_background": "light"
     },
     "output_type": "display_data"
    }
   ],
   "source": [
    "#построим распределение по годам для платформы \"PS3\"\n",
    "platform_3 = pd.pivot_table(data.query('platform == \"PS3\"'), index=['platform', 'year_of_release'], values='total_sales', aggfunc='sum')\n",
    "platform_3.plot(kind='bar', figsize=(8, 10), grid=True, legend=False)\n",
    "plt.title('Платформа \"PS3\"')\n",
    "plt.xlabel('Год')\n",
    "plt.ylabel('Продажи')\n",
    "plt.show()"
   ]
  },
  {
   "cell_type": "markdown",
   "metadata": {},
   "source": [
    "Для PS3 пик продаж пришелся на 7 год(2011). Отчасти это можно объяснить тем, что выход данной платформы пришелся в год пика спроса на предыдущую (PS2). И пользователям и критикам понадобилось время, чтобы понять преимущества PS3 перед PS2. Платформа просуществовала 11 лет"
   ]
  },
  {
   "cell_type": "code",
   "execution_count": 43,
   "metadata": {},
   "outputs": [
    {
     "data": {
      "image/png": "[encoded data removed]",
      "text/plain": [
       "<Figure size 576x720 with 1 Axes>"
      ]
     },
     "metadata": {
      "needs_background": "light"
     },
     "output_type": "display_data"
    }
   ],
   "source": [
    "#построим распределение по годам для платформы \"Wii\"\n",
    "platform_4 = pd.pivot_table(data.query('platform == \"Wii\"'), index=['platform', 'year_of_release'], values='total_sales', aggfunc='sum')\n",
    "platform_4.plot(kind='bar', figsize=(8, 10), grid=True, legend=False)\n",
    "plt.title('Платформа \"Wii\"')\n",
    "plt.xlabel('Год')\n",
    "plt.ylabel('Продажи')\n",
    "plt.show()"
   ]
  },
  {
   "cell_type": "markdown",
   "metadata": {},
   "source": [
    "Наибольшее количество продаж для платформы Wii пришлось на 4 год её существования, а потом произошел достаточно быстрый спад. Продолжительность жизни составила 10 лет"
   ]
  },
  {
   "cell_type": "code",
   "execution_count": 44,
   "metadata": {},
   "outputs": [
    {
     "data": {
      "image/png": "[encoded data removed]",
      "text/plain": [
       "<Figure size 576x720 with 1 Axes>"
      ]
     },
     "metadata": {
      "needs_background": "light"
     },
     "output_type": "display_data"
    }
   ],
   "source": [
    "#построим распределение по годам для платформы \"DS\"\n",
    "platform_5 = pd.pivot_table(data.query('platform == \"DS\"'), index=['platform', 'year_of_release'], values='total_sales', aggfunc='sum')\n",
    "platform_5.plot(kind='bar', figsize=(8, 10), grid=True, legend=False)\n",
    "plt.title('Платформа \"DS\"')\n",
    "plt.xlabel('Год')\n",
    "plt.ylabel('Продажи')\n",
    "plt.show()"
   ]
  },
  {
   "cell_type": "markdown",
   "metadata": {},
   "source": [
    "Для этой платформы мы не будем учитывать небольшую долю продаж в 1985 году. Пик продаж пришелся на 4 год, а существование продлилось 9 лет"
   ]
  },
  {
   "cell_type": "code",
   "execution_count": 45,
   "metadata": {},
   "outputs": [
    {
     "data": {
      "image/png": "[encoded data removed]",
      "text/plain": [
       "<Figure size 576x720 with 1 Axes>"
      ]
     },
     "metadata": {
      "needs_background": "light"
     },
     "output_type": "display_data"
    }
   ],
   "source": [
    "#построим распределение по годам для платформы \"PS\"\n",
    "platform_6 = pd.pivot_table(data.query('platform == \"PS\"'), index=['platform', 'year_of_release'], values='total_sales', aggfunc='sum')\n",
    "platform_6.plot(kind='bar', figsize=(8, 10), grid=True, legend=False)\n",
    "plt.title('Платформа \"PS\"')\n",
    "plt.xlabel('Год')\n",
    "plt.ylabel('Продажи')\n",
    "plt.show()"
   ]
  },
  {
   "cell_type": "markdown",
   "metadata": {},
   "source": [
    "Для PS пик продаж пришелся на 5-й год после выпуска. Просуществовала она 9 лет"
   ]
  },
  {
   "cell_type": "markdown",
   "metadata": {},
   "source": [
    "Анализируя данные, в среднем каждая из игровых платформ существует около 10 лет. А пик продаж у каждой приходится в среднем на 4-5 год после выпуска.\n",
    "Учитывая эти моменты, на будущую часть исследования в качестве актуального периода будет период начиная с 2012 года - так можно будет проследить динамику развития платформ,пик продаж которых может произойти на 2017 год, т.к 17-й год будет как раз 5-м - а это значит год возможного пика одной из платформ"
   ]
  },
  {
   "cell_type": "code",
   "execution_count": 46,
   "metadata": {},
   "outputs": [],
   "source": [
    "#оставляем данные в датафрейме только по актуальному периоду\n",
    "data_new = data.query('year_of_release >= 2012')"
   ]
  },
  {
   "cell_type": "code",
   "execution_count": 47,
   "metadata": {},
   "outputs": [
    {
     "data": {
      "text/plain": [
       "<IntegerArray>\n",
       "[2013, 2015, 2012, 2014, 2016]\n",
       "Length: 5, dtype: Int64"
      ]
     },
     "execution_count": 47,
     "metadata": {},
     "output_type": "execute_result"
    }
   ],
   "source": [
    "#проверим, верно ли теперь указаны года\n",
    "data_new['year_of_release'].unique()"
   ]
  },
  {
   "cell_type": "markdown",
   "metadata": {},
   "source": [
    "### Потенциально прибыльные платформы"
   ]
  },
  {
   "cell_type": "code",
   "execution_count": 48,
   "metadata": {},
   "outputs": [
    {
     "data": {
      "text/html": [
       "<div>\n",
       "<style scoped>\n",
       "    .dataframe tbody tr th:only-of-type {\n",
       "        vertical-align: middle;\n",
       "    }\n",
       "\n",
       "    .dataframe tbody tr th {\n",
       "        vertical-align: top;\n",
       "    }\n",
       "\n",
       "    .dataframe thead th {\n",
       "        text-align: right;\n",
       "    }\n",
       "</style>\n",
       "<table border=\"1\" class=\"dataframe\">\n",
       "  <thead>\n",
       "    <tr style=\"text-align: right;\">\n",
       "      <th></th>\n",
       "      <th>total_sales</th>\n",
       "    </tr>\n",
       "    <tr>\n",
       "      <th>platform</th>\n",
       "      <th></th>\n",
       "    </tr>\n",
       "  </thead>\n",
       "  <tbody>\n",
       "    <tr>\n",
       "      <th>PS3</th>\n",
       "      <td>492</td>\n",
       "    </tr>\n",
       "    <tr>\n",
       "      <th>PSV</th>\n",
       "      <td>411</td>\n",
       "    </tr>\n",
       "    <tr>\n",
       "      <th>3DS</th>\n",
       "      <td>396</td>\n",
       "    </tr>\n",
       "    <tr>\n",
       "      <th>PS4</th>\n",
       "      <td>392</td>\n",
       "    </tr>\n",
       "    <tr>\n",
       "      <th>X360</th>\n",
       "      <td>292</td>\n",
       "    </tr>\n",
       "    <tr>\n",
       "      <th>PC</th>\n",
       "      <td>250</td>\n",
       "    </tr>\n",
       "    <tr>\n",
       "      <th>XOne</th>\n",
       "      <td>247</td>\n",
       "    </tr>\n",
       "    <tr>\n",
       "      <th>PSP</th>\n",
       "      <td>173</td>\n",
       "    </tr>\n",
       "    <tr>\n",
       "      <th>WiiU</th>\n",
       "      <td>147</td>\n",
       "    </tr>\n",
       "    <tr>\n",
       "      <th>Wii</th>\n",
       "      <td>54</td>\n",
       "    </tr>\n",
       "    <tr>\n",
       "      <th>DS</th>\n",
       "      <td>31</td>\n",
       "    </tr>\n",
       "  </tbody>\n",
       "</table>\n",
       "</div>"
      ],
      "text/plain": [
       "          total_sales\n",
       "platform             \n",
       "PS3               492\n",
       "PSV               411\n",
       "3DS               396\n",
       "PS4               392\n",
       "X360              292\n",
       "PC                250\n",
       "XOne              247\n",
       "PSP               173\n",
       "WiiU              147\n",
       "Wii                54\n",
       "DS                 31"
      ]
     },
     "execution_count": 48,
     "metadata": {},
     "output_type": "execute_result"
    }
   ],
   "source": [
    "#определим лидирующие по продажам платформы исходя из данных актуального периода\n",
    "platform_in_top = data_new.pivot_table(index='platform', values='total_sales', aggfunc='count').sort_values(by='total_sales', ascending=False)\n",
    "platform_in_top"
   ]
  },
  {
   "cell_type": "markdown",
   "metadata": {},
   "source": [
    "Исходя из актуального периода (2012-2016)  в продажах лидируют PS3, PSV, 3DS, PS4. Рассмотрим данные более подробно - по годам для всех платформ в этом списке, чтобы не упустить платформу, количество продаж у которой растет"
   ]
  },
  {
   "cell_type": "code",
   "execution_count": 49,
   "metadata": {},
   "outputs": [
    {
     "data": {
      "text/html": [
       "<div>\n",
       "<style scoped>\n",
       "    .dataframe tbody tr th:only-of-type {\n",
       "        vertical-align: middle;\n",
       "    }\n",
       "\n",
       "    .dataframe tbody tr th {\n",
       "        vertical-align: top;\n",
       "    }\n",
       "\n",
       "    .dataframe thead th {\n",
       "        text-align: right;\n",
       "    }\n",
       "</style>\n",
       "<table border=\"1\" class=\"dataframe\">\n",
       "  <thead>\n",
       "    <tr style=\"text-align: right;\">\n",
       "      <th></th>\n",
       "      <th></th>\n",
       "      <th>total_sales</th>\n",
       "    </tr>\n",
       "    <tr>\n",
       "      <th>platform</th>\n",
       "      <th>year_of_release</th>\n",
       "      <th></th>\n",
       "    </tr>\n",
       "  </thead>\n",
       "  <tbody>\n",
       "    <tr>\n",
       "      <th rowspan=\"5\" valign=\"top\">PS3</th>\n",
       "      <th>2012</th>\n",
       "      <td>147</td>\n",
       "    </tr>\n",
       "    <tr>\n",
       "      <th>2013</th>\n",
       "      <td>126</td>\n",
       "    </tr>\n",
       "    <tr>\n",
       "      <th>2014</th>\n",
       "      <td>108</td>\n",
       "    </tr>\n",
       "    <tr>\n",
       "      <th>2015</th>\n",
       "      <td>73</td>\n",
       "    </tr>\n",
       "    <tr>\n",
       "      <th>2016</th>\n",
       "      <td>38</td>\n",
       "    </tr>\n",
       "  </tbody>\n",
       "</table>\n",
       "</div>"
      ],
      "text/plain": [
       "                          total_sales\n",
       "platform year_of_release             \n",
       "PS3      2012                     147\n",
       "         2013                     126\n",
       "         2014                     108\n",
       "         2015                      73\n",
       "         2016                      38"
      ]
     },
     "execution_count": 49,
     "metadata": {},
     "output_type": "execute_result"
    }
   ],
   "source": [
    "#определим продажи по годам для платформы\"PS3\"\n",
    "platform_PS3 = pd.pivot_table(data_new.query('platform == \"PS3\"'), index=['platform', 'year_of_release'], values='total_sales', aggfunc='count')\n",
    "platform_PS3"
   ]
  },
  {
   "cell_type": "code",
   "execution_count": 50,
   "metadata": {},
   "outputs": [
    {
     "data": {
      "text/html": [
       "<div>\n",
       "<style scoped>\n",
       "    .dataframe tbody tr th:only-of-type {\n",
       "        vertical-align: middle;\n",
       "    }\n",
       "\n",
       "    .dataframe tbody tr th {\n",
       "        vertical-align: top;\n",
       "    }\n",
       "\n",
       "    .dataframe thead th {\n",
       "        text-align: right;\n",
       "    }\n",
       "</style>\n",
       "<table border=\"1\" class=\"dataframe\">\n",
       "  <thead>\n",
       "    <tr style=\"text-align: right;\">\n",
       "      <th></th>\n",
       "      <th></th>\n",
       "      <th>total_sales</th>\n",
       "    </tr>\n",
       "    <tr>\n",
       "      <th>platform</th>\n",
       "      <th>year_of_release</th>\n",
       "      <th></th>\n",
       "    </tr>\n",
       "  </thead>\n",
       "  <tbody>\n",
       "    <tr>\n",
       "      <th rowspan=\"5\" valign=\"top\">PSV</th>\n",
       "      <th>2012</th>\n",
       "      <td>53</td>\n",
       "    </tr>\n",
       "    <tr>\n",
       "      <th>2013</th>\n",
       "      <td>63</td>\n",
       "    </tr>\n",
       "    <tr>\n",
       "      <th>2014</th>\n",
       "      <td>100</td>\n",
       "    </tr>\n",
       "    <tr>\n",
       "      <th>2015</th>\n",
       "      <td>110</td>\n",
       "    </tr>\n",
       "    <tr>\n",
       "      <th>2016</th>\n",
       "      <td>85</td>\n",
       "    </tr>\n",
       "  </tbody>\n",
       "</table>\n",
       "</div>"
      ],
      "text/plain": [
       "                          total_sales\n",
       "platform year_of_release             \n",
       "PSV      2012                      53\n",
       "         2013                      63\n",
       "         2014                     100\n",
       "         2015                     110\n",
       "         2016                      85"
      ]
     },
     "execution_count": 50,
     "metadata": {},
     "output_type": "execute_result"
    }
   ],
   "source": [
    "#определим продажи по годам для платформы\"PSV\"\n",
    "platform_PSV = pd.pivot_table(data_new.query('platform == \"PSV\"'), index=['platform', 'year_of_release'], values='total_sales', aggfunc='count')\n",
    "platform_PSV"
   ]
  },
  {
   "cell_type": "code",
   "execution_count": 51,
   "metadata": {},
   "outputs": [
    {
     "data": {
      "text/html": [
       "<div>\n",
       "<style scoped>\n",
       "    .dataframe tbody tr th:only-of-type {\n",
       "        vertical-align: middle;\n",
       "    }\n",
       "\n",
       "    .dataframe tbody tr th {\n",
       "        vertical-align: top;\n",
       "    }\n",
       "\n",
       "    .dataframe thead th {\n",
       "        text-align: right;\n",
       "    }\n",
       "</style>\n",
       "<table border=\"1\" class=\"dataframe\">\n",
       "  <thead>\n",
       "    <tr style=\"text-align: right;\">\n",
       "      <th></th>\n",
       "      <th></th>\n",
       "      <th>total_sales</th>\n",
       "    </tr>\n",
       "    <tr>\n",
       "      <th>platform</th>\n",
       "      <th>year_of_release</th>\n",
       "      <th></th>\n",
       "    </tr>\n",
       "  </thead>\n",
       "  <tbody>\n",
       "    <tr>\n",
       "      <th rowspan=\"5\" valign=\"top\">3DS</th>\n",
       "      <th>2012</th>\n",
       "      <td>93</td>\n",
       "    </tr>\n",
       "    <tr>\n",
       "      <th>2013</th>\n",
       "      <td>91</td>\n",
       "    </tr>\n",
       "    <tr>\n",
       "      <th>2014</th>\n",
       "      <td>80</td>\n",
       "    </tr>\n",
       "    <tr>\n",
       "      <th>2015</th>\n",
       "      <td>86</td>\n",
       "    </tr>\n",
       "    <tr>\n",
       "      <th>2016</th>\n",
       "      <td>46</td>\n",
       "    </tr>\n",
       "  </tbody>\n",
       "</table>\n",
       "</div>"
      ],
      "text/plain": [
       "                          total_sales\n",
       "platform year_of_release             \n",
       "3DS      2012                      93\n",
       "         2013                      91\n",
       "         2014                      80\n",
       "         2015                      86\n",
       "         2016                      46"
      ]
     },
     "execution_count": 51,
     "metadata": {},
     "output_type": "execute_result"
    }
   ],
   "source": [
    "#определим продажи по годам для платформы\"3DS\"\n",
    "platform_3DS = pd.pivot_table(data_new.query('platform == \"3DS\"'), index=['platform', 'year_of_release'], values='total_sales', aggfunc='count')\n",
    "platform_3DS"
   ]
  },
  {
   "cell_type": "code",
   "execution_count": 52,
   "metadata": {},
   "outputs": [
    {
     "data": {
      "text/html": [
       "<div>\n",
       "<style scoped>\n",
       "    .dataframe tbody tr th:only-of-type {\n",
       "        vertical-align: middle;\n",
       "    }\n",
       "\n",
       "    .dataframe tbody tr th {\n",
       "        vertical-align: top;\n",
       "    }\n",
       "\n",
       "    .dataframe thead th {\n",
       "        text-align: right;\n",
       "    }\n",
       "</style>\n",
       "<table border=\"1\" class=\"dataframe\">\n",
       "  <thead>\n",
       "    <tr style=\"text-align: right;\">\n",
       "      <th></th>\n",
       "      <th></th>\n",
       "      <th>total_sales</th>\n",
       "    </tr>\n",
       "    <tr>\n",
       "      <th>platform</th>\n",
       "      <th>year_of_release</th>\n",
       "      <th></th>\n",
       "    </tr>\n",
       "  </thead>\n",
       "  <tbody>\n",
       "    <tr>\n",
       "      <th rowspan=\"4\" valign=\"top\">PS4</th>\n",
       "      <th>2013</th>\n",
       "      <td>16</td>\n",
       "    </tr>\n",
       "    <tr>\n",
       "      <th>2014</th>\n",
       "      <td>75</td>\n",
       "    </tr>\n",
       "    <tr>\n",
       "      <th>2015</th>\n",
       "      <td>137</td>\n",
       "    </tr>\n",
       "    <tr>\n",
       "      <th>2016</th>\n",
       "      <td>164</td>\n",
       "    </tr>\n",
       "  </tbody>\n",
       "</table>\n",
       "</div>"
      ],
      "text/plain": [
       "                          total_sales\n",
       "platform year_of_release             \n",
       "PS4      2013                      16\n",
       "         2014                      75\n",
       "         2015                     137\n",
       "         2016                     164"
      ]
     },
     "execution_count": 52,
     "metadata": {},
     "output_type": "execute_result"
    }
   ],
   "source": [
    "#определим продажи по годам для платформы\"PS4\"\n",
    "platform_PS4 = pd.pivot_table(data_new.query('platform == \"PS4\"'), index=['platform', 'year_of_release'], values='total_sales', aggfunc='count')\n",
    "platform_PS4"
   ]
  },
  {
   "cell_type": "code",
   "execution_count": 53,
   "metadata": {},
   "outputs": [
    {
     "data": {
      "text/html": [
       "<div>\n",
       "<style scoped>\n",
       "    .dataframe tbody tr th:only-of-type {\n",
       "        vertical-align: middle;\n",
       "    }\n",
       "\n",
       "    .dataframe tbody tr th {\n",
       "        vertical-align: top;\n",
       "    }\n",
       "\n",
       "    .dataframe thead th {\n",
       "        text-align: right;\n",
       "    }\n",
       "</style>\n",
       "<table border=\"1\" class=\"dataframe\">\n",
       "  <thead>\n",
       "    <tr style=\"text-align: right;\">\n",
       "      <th></th>\n",
       "      <th></th>\n",
       "      <th>total_sales</th>\n",
       "    </tr>\n",
       "    <tr>\n",
       "      <th>platform</th>\n",
       "      <th>year_of_release</th>\n",
       "      <th></th>\n",
       "    </tr>\n",
       "  </thead>\n",
       "  <tbody>\n",
       "    <tr>\n",
       "      <th rowspan=\"5\" valign=\"top\">X360</th>\n",
       "      <th>2012</th>\n",
       "      <td>106</td>\n",
       "    </tr>\n",
       "    <tr>\n",
       "      <th>2013</th>\n",
       "      <td>75</td>\n",
       "    </tr>\n",
       "    <tr>\n",
       "      <th>2014</th>\n",
       "      <td>63</td>\n",
       "    </tr>\n",
       "    <tr>\n",
       "      <th>2015</th>\n",
       "      <td>35</td>\n",
       "    </tr>\n",
       "    <tr>\n",
       "      <th>2016</th>\n",
       "      <td>13</td>\n",
       "    </tr>\n",
       "  </tbody>\n",
       "</table>\n",
       "</div>"
      ],
      "text/plain": [
       "                          total_sales\n",
       "platform year_of_release             \n",
       "X360     2012                     106\n",
       "         2013                      75\n",
       "         2014                      63\n",
       "         2015                      35\n",
       "         2016                      13"
      ]
     },
     "execution_count": 53,
     "metadata": {},
     "output_type": "execute_result"
    }
   ],
   "source": [
    "#определим продажи по годам для платформы\"X360\"\n",
    "platform_X360 = pd.pivot_table(data_new.query('platform == \"X360\"'), index=['platform', 'year_of_release'], values='total_sales', aggfunc='count')\n",
    "platform_X360"
   ]
  },
  {
   "cell_type": "code",
   "execution_count": 54,
   "metadata": {},
   "outputs": [
    {
     "data": {
      "text/html": [
       "<div>\n",
       "<style scoped>\n",
       "    .dataframe tbody tr th:only-of-type {\n",
       "        vertical-align: middle;\n",
       "    }\n",
       "\n",
       "    .dataframe tbody tr th {\n",
       "        vertical-align: top;\n",
       "    }\n",
       "\n",
       "    .dataframe thead th {\n",
       "        text-align: right;\n",
       "    }\n",
       "</style>\n",
       "<table border=\"1\" class=\"dataframe\">\n",
       "  <thead>\n",
       "    <tr style=\"text-align: right;\">\n",
       "      <th></th>\n",
       "      <th></th>\n",
       "      <th>total_sales</th>\n",
       "    </tr>\n",
       "    <tr>\n",
       "      <th>platform</th>\n",
       "      <th>year_of_release</th>\n",
       "      <th></th>\n",
       "    </tr>\n",
       "  </thead>\n",
       "  <tbody>\n",
       "    <tr>\n",
       "      <th rowspan=\"5\" valign=\"top\">PC</th>\n",
       "      <th>2012</th>\n",
       "      <td>61</td>\n",
       "    </tr>\n",
       "    <tr>\n",
       "      <th>2013</th>\n",
       "      <td>38</td>\n",
       "    </tr>\n",
       "    <tr>\n",
       "      <th>2014</th>\n",
       "      <td>47</td>\n",
       "    </tr>\n",
       "    <tr>\n",
       "      <th>2015</th>\n",
       "      <td>50</td>\n",
       "    </tr>\n",
       "    <tr>\n",
       "      <th>2016</th>\n",
       "      <td>54</td>\n",
       "    </tr>\n",
       "  </tbody>\n",
       "</table>\n",
       "</div>"
      ],
      "text/plain": [
       "                          total_sales\n",
       "platform year_of_release             \n",
       "PC       2012                      61\n",
       "         2013                      38\n",
       "         2014                      47\n",
       "         2015                      50\n",
       "         2016                      54"
      ]
     },
     "execution_count": 54,
     "metadata": {},
     "output_type": "execute_result"
    }
   ],
   "source": [
    "#определим продажи по годам для платформы\"PS\"\n",
    "platform_PC = pd.pivot_table(data_new.query('platform == \"PC\"'), index=['platform', 'year_of_release'], values='total_sales', aggfunc='count')\n",
    "platform_PC"
   ]
  },
  {
   "cell_type": "code",
   "execution_count": 55,
   "metadata": {},
   "outputs": [
    {
     "data": {
      "text/html": [
       "<div>\n",
       "<style scoped>\n",
       "    .dataframe tbody tr th:only-of-type {\n",
       "        vertical-align: middle;\n",
       "    }\n",
       "\n",
       "    .dataframe tbody tr th {\n",
       "        vertical-align: top;\n",
       "    }\n",
       "\n",
       "    .dataframe thead th {\n",
       "        text-align: right;\n",
       "    }\n",
       "</style>\n",
       "<table border=\"1\" class=\"dataframe\">\n",
       "  <thead>\n",
       "    <tr style=\"text-align: right;\">\n",
       "      <th></th>\n",
       "      <th></th>\n",
       "      <th>total_sales</th>\n",
       "    </tr>\n",
       "    <tr>\n",
       "      <th>platform</th>\n",
       "      <th>year_of_release</th>\n",
       "      <th></th>\n",
       "    </tr>\n",
       "  </thead>\n",
       "  <tbody>\n",
       "    <tr>\n",
       "      <th rowspan=\"4\" valign=\"top\">XOne</th>\n",
       "      <th>2013</th>\n",
       "      <td>19</td>\n",
       "    </tr>\n",
       "    <tr>\n",
       "      <th>2014</th>\n",
       "      <td>61</td>\n",
       "    </tr>\n",
       "    <tr>\n",
       "      <th>2015</th>\n",
       "      <td>80</td>\n",
       "    </tr>\n",
       "    <tr>\n",
       "      <th>2016</th>\n",
       "      <td>87</td>\n",
       "    </tr>\n",
       "  </tbody>\n",
       "</table>\n",
       "</div>"
      ],
      "text/plain": [
       "                          total_sales\n",
       "platform year_of_release             \n",
       "XOne     2013                      19\n",
       "         2014                      61\n",
       "         2015                      80\n",
       "         2016                      87"
      ]
     },
     "execution_count": 55,
     "metadata": {},
     "output_type": "execute_result"
    }
   ],
   "source": [
    "#определим продажи по годам для платформы\"XOne\"\n",
    "platform_XOne = pd.pivot_table(data_new.query('platform == \"XOne\"'), index=['platform', 'year_of_release'], values='total_sales', aggfunc='count')\n",
    "platform_XOne"
   ]
  },
  {
   "cell_type": "code",
   "execution_count": 56,
   "metadata": {},
   "outputs": [
    {
     "data": {
      "text/html": [
       "<div>\n",
       "<style scoped>\n",
       "    .dataframe tbody tr th:only-of-type {\n",
       "        vertical-align: middle;\n",
       "    }\n",
       "\n",
       "    .dataframe tbody tr th {\n",
       "        vertical-align: top;\n",
       "    }\n",
       "\n",
       "    .dataframe thead th {\n",
       "        text-align: right;\n",
       "    }\n",
       "</style>\n",
       "<table border=\"1\" class=\"dataframe\">\n",
       "  <thead>\n",
       "    <tr style=\"text-align: right;\">\n",
       "      <th></th>\n",
       "      <th></th>\n",
       "      <th>total_sales</th>\n",
       "    </tr>\n",
       "    <tr>\n",
       "      <th>platform</th>\n",
       "      <th>year_of_release</th>\n",
       "      <th></th>\n",
       "    </tr>\n",
       "  </thead>\n",
       "  <tbody>\n",
       "    <tr>\n",
       "      <th rowspan=\"4\" valign=\"top\">PSP</th>\n",
       "      <th>2012</th>\n",
       "      <td>106</td>\n",
       "    </tr>\n",
       "    <tr>\n",
       "      <th>2013</th>\n",
       "      <td>54</td>\n",
       "    </tr>\n",
       "    <tr>\n",
       "      <th>2014</th>\n",
       "      <td>10</td>\n",
       "    </tr>\n",
       "    <tr>\n",
       "      <th>2015</th>\n",
       "      <td>3</td>\n",
       "    </tr>\n",
       "  </tbody>\n",
       "</table>\n",
       "</div>"
      ],
      "text/plain": [
       "                          total_sales\n",
       "platform year_of_release             \n",
       "PSP      2012                     106\n",
       "         2013                      54\n",
       "         2014                      10\n",
       "         2015                       3"
      ]
     },
     "execution_count": 56,
     "metadata": {},
     "output_type": "execute_result"
    }
   ],
   "source": [
    "#определим продажи по годам для платформы\"PSP\"\n",
    "platform_PSP = pd.pivot_table(data_new.query('platform == \"PSP\"'), index=['platform', 'year_of_release'], values='total_sales', aggfunc='count')\n",
    "platform_PSP"
   ]
  },
  {
   "cell_type": "code",
   "execution_count": 57,
   "metadata": {},
   "outputs": [
    {
     "data": {
      "text/html": [
       "<div>\n",
       "<style scoped>\n",
       "    .dataframe tbody tr th:only-of-type {\n",
       "        vertical-align: middle;\n",
       "    }\n",
       "\n",
       "    .dataframe tbody tr th {\n",
       "        vertical-align: top;\n",
       "    }\n",
       "\n",
       "    .dataframe thead th {\n",
       "        text-align: right;\n",
       "    }\n",
       "</style>\n",
       "<table border=\"1\" class=\"dataframe\">\n",
       "  <thead>\n",
       "    <tr style=\"text-align: right;\">\n",
       "      <th></th>\n",
       "      <th></th>\n",
       "      <th>total_sales</th>\n",
       "    </tr>\n",
       "    <tr>\n",
       "      <th>platform</th>\n",
       "      <th>year_of_release</th>\n",
       "      <th></th>\n",
       "    </tr>\n",
       "  </thead>\n",
       "  <tbody>\n",
       "    <tr>\n",
       "      <th rowspan=\"5\" valign=\"top\">WiiU</th>\n",
       "      <th>2012</th>\n",
       "      <td>32</td>\n",
       "    </tr>\n",
       "    <tr>\n",
       "      <th>2013</th>\n",
       "      <td>42</td>\n",
       "    </tr>\n",
       "    <tr>\n",
       "      <th>2014</th>\n",
       "      <td>31</td>\n",
       "    </tr>\n",
       "    <tr>\n",
       "      <th>2015</th>\n",
       "      <td>28</td>\n",
       "    </tr>\n",
       "    <tr>\n",
       "      <th>2016</th>\n",
       "      <td>14</td>\n",
       "    </tr>\n",
       "  </tbody>\n",
       "</table>\n",
       "</div>"
      ],
      "text/plain": [
       "                          total_sales\n",
       "platform year_of_release             \n",
       "WiiU     2012                      32\n",
       "         2013                      42\n",
       "         2014                      31\n",
       "         2015                      28\n",
       "         2016                      14"
      ]
     },
     "execution_count": 57,
     "metadata": {},
     "output_type": "execute_result"
    }
   ],
   "source": [
    "#определим продажи по годам для платформы\"WiiU\"\n",
    "platform_WiiU = pd.pivot_table(data_new.query('platform == \"WiiU\"'), index=['platform', 'year_of_release'], values='total_sales', aggfunc='count')\n",
    "platform_WiiU"
   ]
  },
  {
   "cell_type": "code",
   "execution_count": 58,
   "metadata": {},
   "outputs": [
    {
     "data": {
      "text/html": [
       "<div>\n",
       "<style scoped>\n",
       "    .dataframe tbody tr th:only-of-type {\n",
       "        vertical-align: middle;\n",
       "    }\n",
       "\n",
       "    .dataframe tbody tr th {\n",
       "        vertical-align: top;\n",
       "    }\n",
       "\n",
       "    .dataframe thead th {\n",
       "        text-align: right;\n",
       "    }\n",
       "</style>\n",
       "<table border=\"1\" class=\"dataframe\">\n",
       "  <thead>\n",
       "    <tr style=\"text-align: right;\">\n",
       "      <th></th>\n",
       "      <th></th>\n",
       "      <th>total_sales</th>\n",
       "    </tr>\n",
       "    <tr>\n",
       "      <th>platform</th>\n",
       "      <th>year_of_release</th>\n",
       "      <th></th>\n",
       "    </tr>\n",
       "  </thead>\n",
       "  <tbody>\n",
       "    <tr>\n",
       "      <th rowspan=\"5\" valign=\"top\">Wii</th>\n",
       "      <th>2012</th>\n",
       "      <td>31</td>\n",
       "    </tr>\n",
       "    <tr>\n",
       "      <th>2013</th>\n",
       "      <td>12</td>\n",
       "    </tr>\n",
       "    <tr>\n",
       "      <th>2014</th>\n",
       "      <td>6</td>\n",
       "    </tr>\n",
       "    <tr>\n",
       "      <th>2015</th>\n",
       "      <td>4</td>\n",
       "    </tr>\n",
       "    <tr>\n",
       "      <th>2016</th>\n",
       "      <td>1</td>\n",
       "    </tr>\n",
       "  </tbody>\n",
       "</table>\n",
       "</div>"
      ],
      "text/plain": [
       "                          total_sales\n",
       "platform year_of_release             \n",
       "Wii      2012                      31\n",
       "         2013                      12\n",
       "         2014                       6\n",
       "         2015                       4\n",
       "         2016                       1"
      ]
     },
     "execution_count": 58,
     "metadata": {},
     "output_type": "execute_result"
    }
   ],
   "source": [
    "#определим продажи по годам для платформы\"Wii\"\n",
    "platform_Wii = pd.pivot_table(data_new.query('platform == \"Wii\"'), index=['platform', 'year_of_release'], values='total_sales', aggfunc='count')\n",
    "platform_Wii"
   ]
  },
  {
   "cell_type": "code",
   "execution_count": 59,
   "metadata": {},
   "outputs": [
    {
     "data": {
      "text/html": [
       "<div>\n",
       "<style scoped>\n",
       "    .dataframe tbody tr th:only-of-type {\n",
       "        vertical-align: middle;\n",
       "    }\n",
       "\n",
       "    .dataframe tbody tr th {\n",
       "        vertical-align: top;\n",
       "    }\n",
       "\n",
       "    .dataframe thead th {\n",
       "        text-align: right;\n",
       "    }\n",
       "</style>\n",
       "<table border=\"1\" class=\"dataframe\">\n",
       "  <thead>\n",
       "    <tr style=\"text-align: right;\">\n",
       "      <th></th>\n",
       "      <th></th>\n",
       "      <th>total_sales</th>\n",
       "    </tr>\n",
       "    <tr>\n",
       "      <th>platform</th>\n",
       "      <th>year_of_release</th>\n",
       "      <th></th>\n",
       "    </tr>\n",
       "  </thead>\n",
       "  <tbody>\n",
       "    <tr>\n",
       "      <th rowspan=\"2\" valign=\"top\">DS</th>\n",
       "      <th>2012</th>\n",
       "      <td>23</td>\n",
       "    </tr>\n",
       "    <tr>\n",
       "      <th>2013</th>\n",
       "      <td>8</td>\n",
       "    </tr>\n",
       "  </tbody>\n",
       "</table>\n",
       "</div>"
      ],
      "text/plain": [
       "                          total_sales\n",
       "platform year_of_release             \n",
       "DS       2012                      23\n",
       "         2013                       8"
      ]
     },
     "execution_count": 59,
     "metadata": {},
     "output_type": "execute_result"
    }
   ],
   "source": [
    "#определим продажи по годам для платформы\"DS\"\n",
    "platform_DS = pd.pivot_table(data_new.query('platform == \"DS\"'), index=['platform', 'year_of_release'], values='total_sales', aggfunc='count')\n",
    "platform_DS"
   ]
  },
  {
   "cell_type": "markdown",
   "metadata": {},
   "source": [
    "Исходя из рассчитанных данных, видно, как растет количество продаж у таких платформ как PS4, XOne. У платформ PSV и PC видны колебания - нет четкого спада или роста количества продаж, тем не менее, думаю, стоит учитывать их как платформы, которые возможно будет более прибыльными в 2017 году. Оценим данные на 2016 год, но не будем забывать, что это не гарантирует рост платформ, у которых количество продаж будет больше. Так же, не забываем о том, что изначально в нашей базе данных данные за 2016 год неполные. Поэтому утверждать о чем-то на 100% будет неверно"
   ]
  },
  {
   "cell_type": "code",
   "execution_count": 60,
   "metadata": {},
   "outputs": [],
   "source": [
    "#оставим только данные за 2016 год\n",
    "data_2016 = data.query('year_of_release >= 2016')"
   ]
  },
  {
   "cell_type": "code",
   "execution_count": 61,
   "metadata": {},
   "outputs": [
    {
     "data": {
      "text/html": [
       "<div>\n",
       "<style scoped>\n",
       "    .dataframe tbody tr th:only-of-type {\n",
       "        vertical-align: middle;\n",
       "    }\n",
       "\n",
       "    .dataframe tbody tr th {\n",
       "        vertical-align: top;\n",
       "    }\n",
       "\n",
       "    .dataframe thead th {\n",
       "        text-align: right;\n",
       "    }\n",
       "</style>\n",
       "<table border=\"1\" class=\"dataframe\">\n",
       "  <thead>\n",
       "    <tr style=\"text-align: right;\">\n",
       "      <th></th>\n",
       "      <th>total_sales</th>\n",
       "    </tr>\n",
       "    <tr>\n",
       "      <th>platform</th>\n",
       "      <th></th>\n",
       "    </tr>\n",
       "  </thead>\n",
       "  <tbody>\n",
       "    <tr>\n",
       "      <th>PS4</th>\n",
       "      <td>164</td>\n",
       "    </tr>\n",
       "    <tr>\n",
       "      <th>XOne</th>\n",
       "      <td>87</td>\n",
       "    </tr>\n",
       "    <tr>\n",
       "      <th>PSV</th>\n",
       "      <td>85</td>\n",
       "    </tr>\n",
       "    <tr>\n",
       "      <th>PC</th>\n",
       "      <td>54</td>\n",
       "    </tr>\n",
       "    <tr>\n",
       "      <th>3DS</th>\n",
       "      <td>46</td>\n",
       "    </tr>\n",
       "    <tr>\n",
       "      <th>PS3</th>\n",
       "      <td>38</td>\n",
       "    </tr>\n",
       "    <tr>\n",
       "      <th>WiiU</th>\n",
       "      <td>14</td>\n",
       "    </tr>\n",
       "    <tr>\n",
       "      <th>X360</th>\n",
       "      <td>13</td>\n",
       "    </tr>\n",
       "    <tr>\n",
       "      <th>Wii</th>\n",
       "      <td>1</td>\n",
       "    </tr>\n",
       "  </tbody>\n",
       "</table>\n",
       "</div>"
      ],
      "text/plain": [
       "          total_sales\n",
       "platform             \n",
       "PS4               164\n",
       "XOne               87\n",
       "PSV                85\n",
       "PC                 54\n",
       "3DS                46\n",
       "PS3                38\n",
       "WiiU               14\n",
       "X360               13\n",
       "Wii                 1"
      ]
     },
     "execution_count": 61,
     "metadata": {},
     "output_type": "execute_result"
    }
   ],
   "source": [
    "#определим лидирующие по продажам платформы за 2016 год\n",
    "platform_2016= data_2016.pivot_table(index='platform', values='total_sales', aggfunc='count').sort_values(by='total_sales', ascending=False)\n",
    "platform_2016"
   ]
  },
  {
   "cell_type": "markdown",
   "metadata": {},
   "source": [
    "Анализируя данные 2016 года видим три  потенциально выгодные платформы: PS4, XOne, PSV. Однако, это не значит, что эти платформы будут в топе и на 2017 год, т.к данные в датафрейме за 2016 год неполные"
   ]
  },
  {
   "cell_type": "markdown",
   "metadata": {},
   "source": [
    "### \"Ящик с усами\" и глобальные продажи"
   ]
  },
  {
   "cell_type": "code",
   "execution_count": 62,
   "metadata": {},
   "outputs": [],
   "source": [
    "#объеденим интересующие нас платформы\n",
    "platforms_top = data_new[data_new['platform'].isin(['PS4', 'XOne','PSV'])]\n",
    "platforms_top = platforms_top[platforms_top['total_sales'] < 1.8]"
   ]
  },
  {
   "cell_type": "code",
   "execution_count": 63,
   "metadata": {},
   "outputs": [
    {
     "data": {
      "text/plain": [
       "count    974.000000\n",
       "mean       0.242998\n",
       "std        0.355220\n",
       "min        0.010000\n",
       "25%        0.030000\n",
       "50%        0.090000\n",
       "75%        0.290000\n",
       "max        1.800000\n",
       "Name: total_sales, dtype: float64"
      ]
     },
     "execution_count": 63,
     "metadata": {},
     "output_type": "execute_result"
    }
   ],
   "source": [
    "#посмотрим описание\n",
    "platforms_top['total_sales'].describe()"
   ]
  },
  {
   "cell_type": "code",
   "execution_count": 64,
   "metadata": {},
   "outputs": [
    {
     "data": {
      "text/plain": [
       "Text(0, 0.5, 'Глобальные продажи')"
      ]
     },
     "execution_count": 64,
     "metadata": {},
     "output_type": "execute_result"
    },
    {
     "data": {
      "image/png": "[encoded data removed]",
      "text/plain": [
       "<Figure size 720x576 with 1 Axes>"
      ]
     },
     "metadata": {
      "needs_background": "light"
     },
     "output_type": "display_data"
    }
   ],
   "source": [
    "#построим график\n",
    "plt.figure(figsize=(10, 8))\n",
    "sns.boxplot(data=platforms_top, x='platform', y='total_sales')\n",
    "plt.title('Продажи по потенциально прибыльным платформам')\n",
    "plt.xlabel('Платформа')\n",
    "plt.ylabel('Глобальные продажи')"
   ]
  },
  {
   "cell_type": "markdown",
   "metadata": {},
   "source": [
    "Исходя из представленных графиков:\n",
    " - наиболее прибыльная платформа за актуальный период это XOne, прибыль от продаж составляет примерно 450 тысяч долларов, а медианное значение составляет около 190 тысяч долларов\n",
    " - на втором месте PS4 с прибылью около 350 тысяч долларов и с медианным значением примерно 100 тысяч долларов\n",
    " - у PSV значения отличаются на порядок от остальных двух платформ. Прибыль составляем примерно 100 тысяч долларов\n",
    " \n",
    " Так же, на графике видны многочисленные точки в верху - выбросы. Это значения, которые довольно сильно выбиваются из значених общей выборки. При анализе данных их использовать не стоит, однако, нужно иметь ввиду что они существуют\n"
   ]
  },
  {
   "cell_type": "markdown",
   "metadata": {},
   "source": [
    "### Влияние отзывов на продажи"
   ]
  },
  {
   "cell_type": "markdown",
   "metadata": {},
   "source": [
    "Выделим отдельно необходимые данные для платформы \"XOne\". И так же, отдельно выведем данные в две таблицы - зависимость от оценки критиков и оценки пользователей"
   ]
  },
  {
   "cell_type": "code",
   "execution_count": 65,
   "metadata": {},
   "outputs": [
    {
     "data": {
      "text/html": [
       "<div>\n",
       "<style scoped>\n",
       "    .dataframe tbody tr th:only-of-type {\n",
       "        vertical-align: middle;\n",
       "    }\n",
       "\n",
       "    .dataframe tbody tr th {\n",
       "        vertical-align: top;\n",
       "    }\n",
       "\n",
       "    .dataframe thead th {\n",
       "        text-align: right;\n",
       "    }\n",
       "</style>\n",
       "<table border=\"1\" class=\"dataframe\">\n",
       "  <thead>\n",
       "    <tr style=\"text-align: right;\">\n",
       "      <th></th>\n",
       "      <th>total_sales</th>\n",
       "      <th>critic_score</th>\n",
       "      <th>platform</th>\n",
       "    </tr>\n",
       "  </thead>\n",
       "  <tbody>\n",
       "    <tr>\n",
       "      <th>975</th>\n",
       "      <td>1.80</td>\n",
       "      <td>87</td>\n",
       "      <td>XOne</td>\n",
       "    </tr>\n",
       "    <tr>\n",
       "      <th>1037</th>\n",
       "      <td>1.73</td>\n",
       "      <td>82</td>\n",
       "      <td>XOne</td>\n",
       "    </tr>\n",
       "    <tr>\n",
       "      <th>1125</th>\n",
       "      <td>1.64</td>\n",
       "      <td>82</td>\n",
       "      <td>XOne</td>\n",
       "    </tr>\n",
       "    <tr>\n",
       "      <th>1176</th>\n",
       "      <td>1.57</td>\n",
       "      <td>78</td>\n",
       "      <td>XOne</td>\n",
       "    </tr>\n",
       "    <tr>\n",
       "      <th>1180</th>\n",
       "      <td>1.57</td>\n",
       "      <td>78</td>\n",
       "      <td>XOne</td>\n",
       "    </tr>\n",
       "    <tr>\n",
       "      <th>...</th>\n",
       "      <td>...</td>\n",
       "      <td>...</td>\n",
       "      <td>...</td>\n",
       "    </tr>\n",
       "    <tr>\n",
       "      <th>16322</th>\n",
       "      <td>0.01</td>\n",
       "      <td>66</td>\n",
       "      <td>XOne</td>\n",
       "    </tr>\n",
       "    <tr>\n",
       "      <th>16392</th>\n",
       "      <td>0.01</td>\n",
       "      <td>53</td>\n",
       "      <td>XOne</td>\n",
       "    </tr>\n",
       "    <tr>\n",
       "      <th>16597</th>\n",
       "      <td>0.01</td>\n",
       "      <td>65</td>\n",
       "      <td>XOne</td>\n",
       "    </tr>\n",
       "    <tr>\n",
       "      <th>16630</th>\n",
       "      <td>0.01</td>\n",
       "      <td>63</td>\n",
       "      <td>XOne</td>\n",
       "    </tr>\n",
       "    <tr>\n",
       "      <th>16660</th>\n",
       "      <td>0.01</td>\n",
       "      <td>74</td>\n",
       "      <td>XOne</td>\n",
       "    </tr>\n",
       "  </tbody>\n",
       "</table>\n",
       "<p>149 rows × 3 columns</p>\n",
       "</div>"
      ],
      "text/plain": [
       "       total_sales  critic_score platform\n",
       "975           1.80            87     XOne\n",
       "1037          1.73            82     XOne\n",
       "1125          1.64            82     XOne\n",
       "1176          1.57            78     XOne\n",
       "1180          1.57            78     XOne\n",
       "...            ...           ...      ...\n",
       "16322         0.01            66     XOne\n",
       "16392         0.01            53     XOne\n",
       "16597         0.01            65     XOne\n",
       "16630         0.01            63     XOne\n",
       "16660         0.01            74     XOne\n",
       "\n",
       "[149 rows x 3 columns]"
      ]
     },
     "execution_count": 65,
     "metadata": {},
     "output_type": "execute_result"
    }
   ],
   "source": [
    "#выделим отдельно необходимые данные для платформы \"XOne\" и оценку критиков\n",
    "xone_score_critic = platforms_top.loc[:,['total_sales', 'critic_score', 'platform']]\n",
    "xone_score_critic = xone_score_critic.query('critic_score > 0 & platform == \"XOne\"')\n",
    "xone_score_critic"
   ]
  },
  {
   "cell_type": "code",
   "execution_count": 66,
   "metadata": {},
   "outputs": [
    {
     "data": {
      "text/html": [
       "<div>\n",
       "<style scoped>\n",
       "    .dataframe tbody tr th:only-of-type {\n",
       "        vertical-align: middle;\n",
       "    }\n",
       "\n",
       "    .dataframe tbody tr th {\n",
       "        vertical-align: top;\n",
       "    }\n",
       "\n",
       "    .dataframe thead th {\n",
       "        text-align: right;\n",
       "    }\n",
       "</style>\n",
       "<table border=\"1\" class=\"dataframe\">\n",
       "  <thead>\n",
       "    <tr style=\"text-align: right;\">\n",
       "      <th></th>\n",
       "      <th>total_sales</th>\n",
       "      <th>user_score</th>\n",
       "      <th>platform</th>\n",
       "    </tr>\n",
       "  </thead>\n",
       "  <tbody>\n",
       "    <tr>\n",
       "      <th>975</th>\n",
       "      <td>1.80</td>\n",
       "      <td>7.9</td>\n",
       "      <td>XOne</td>\n",
       "    </tr>\n",
       "    <tr>\n",
       "      <th>1037</th>\n",
       "      <td>1.73</td>\n",
       "      <td>6.3</td>\n",
       "      <td>XOne</td>\n",
       "    </tr>\n",
       "    <tr>\n",
       "      <th>1125</th>\n",
       "      <td>1.64</td>\n",
       "      <td>7.5</td>\n",
       "      <td>XOne</td>\n",
       "    </tr>\n",
       "    <tr>\n",
       "      <th>1176</th>\n",
       "      <td>1.57</td>\n",
       "      <td>6.8</td>\n",
       "      <td>XOne</td>\n",
       "    </tr>\n",
       "    <tr>\n",
       "      <th>1180</th>\n",
       "      <td>1.57</td>\n",
       "      <td>5.8</td>\n",
       "      <td>XOne</td>\n",
       "    </tr>\n",
       "    <tr>\n",
       "      <th>...</th>\n",
       "      <td>...</td>\n",
       "      <td>...</td>\n",
       "      <td>...</td>\n",
       "    </tr>\n",
       "    <tr>\n",
       "      <th>16544</th>\n",
       "      <td>0.01</td>\n",
       "      <td>6.8</td>\n",
       "      <td>XOne</td>\n",
       "    </tr>\n",
       "    <tr>\n",
       "      <th>16597</th>\n",
       "      <td>0.01</td>\n",
       "      <td>6.0</td>\n",
       "      <td>XOne</td>\n",
       "    </tr>\n",
       "    <tr>\n",
       "      <th>16630</th>\n",
       "      <td>0.01</td>\n",
       "      <td>8.2</td>\n",
       "      <td>XOne</td>\n",
       "    </tr>\n",
       "    <tr>\n",
       "      <th>16643</th>\n",
       "      <td>0.01</td>\n",
       "      <td>6.6</td>\n",
       "      <td>XOne</td>\n",
       "    </tr>\n",
       "    <tr>\n",
       "      <th>16660</th>\n",
       "      <td>0.01</td>\n",
       "      <td>6.7</td>\n",
       "      <td>XOne</td>\n",
       "    </tr>\n",
       "  </tbody>\n",
       "</table>\n",
       "<p>161 rows × 3 columns</p>\n",
       "</div>"
      ],
      "text/plain": [
       "       total_sales  user_score platform\n",
       "975           1.80         7.9     XOne\n",
       "1037          1.73         6.3     XOne\n",
       "1125          1.64         7.5     XOne\n",
       "1176          1.57         6.8     XOne\n",
       "1180          1.57         5.8     XOne\n",
       "...            ...         ...      ...\n",
       "16544         0.01         6.8     XOne\n",
       "16597         0.01         6.0     XOne\n",
       "16630         0.01         8.2     XOne\n",
       "16643         0.01         6.6     XOne\n",
       "16660         0.01         6.7     XOne\n",
       "\n",
       "[161 rows x 3 columns]"
      ]
     },
     "execution_count": 66,
     "metadata": {},
     "output_type": "execute_result"
    }
   ],
   "source": [
    "#выделим отдельно необходимые данные для платформы \"XOne\" и оценку пользователей\n",
    "xone_score_user = platforms_top.loc[:,['total_sales', 'user_score', 'platform']]\n",
    "xone_score_user = xone_score_user.query('user_score > 0 & platform == \"XOne\"')\n",
    "xone_score_user"
   ]
  },
  {
   "cell_type": "code",
   "execution_count": 67,
   "metadata": {},
   "outputs": [
    {
     "data": {
      "image/png": "[encoded data removed]",
      "text/plain": [
       "<Figure size 432x288 with 1 Axes>"
      ]
     },
     "metadata": {
      "needs_background": "light"
     },
     "output_type": "display_data"
    }
   ],
   "source": [
    "#построим диаграмму рассеивания между продажами и отзывами критиков\n",
    "xone_score_critic.plot(x='critic_score' , y='total_sales', kind='scatter')\n",
    "plt.title('Зависимость продаж от оценок критиков')\n",
    "plt.xlabel('Оценки критиков')\n",
    "plt.ylabel('Количество продаж')\n",
    "plt.show()"
   ]
  },
  {
   "cell_type": "code",
   "execution_count": 68,
   "metadata": {},
   "outputs": [
    {
     "data": {
      "image/png": "[encoded data removed]",
      "text/plain": [
       "<Figure size 432x288 with 1 Axes>"
      ]
     },
     "metadata": {
      "needs_background": "light"
     },
     "output_type": "display_data"
    }
   ],
   "source": [
    "#построим диаграмму рассеивания между продажами и отзывами пользователей\n",
    "xone_score_user.plot(x='user_score' , y='total_sales', kind='scatter')\n",
    "plt.title('Зависимость продаж от оценок пользователей')\n",
    "plt.xlabel('Оценки пользователей')\n",
    "plt.ylabel('Количество продаж')\n",
    "plt.show()"
   ]
  },
  {
   "cell_type": "code",
   "execution_count": 69,
   "metadata": {},
   "outputs": [
    {
     "data": {
      "text/html": [
       "<div>\n",
       "<style scoped>\n",
       "    .dataframe tbody tr th:only-of-type {\n",
       "        vertical-align: middle;\n",
       "    }\n",
       "\n",
       "    .dataframe tbody tr th {\n",
       "        vertical-align: top;\n",
       "    }\n",
       "\n",
       "    .dataframe thead th {\n",
       "        text-align: right;\n",
       "    }\n",
       "</style>\n",
       "<table border=\"1\" class=\"dataframe\">\n",
       "  <thead>\n",
       "    <tr style=\"text-align: right;\">\n",
       "      <th></th>\n",
       "      <th>total_sales</th>\n",
       "      <th>critic_score</th>\n",
       "    </tr>\n",
       "  </thead>\n",
       "  <tbody>\n",
       "    <tr>\n",
       "      <th>total_sales</th>\n",
       "      <td>1.000000</td>\n",
       "      <td>0.433697</td>\n",
       "    </tr>\n",
       "    <tr>\n",
       "      <th>critic_score</th>\n",
       "      <td>0.433697</td>\n",
       "      <td>1.000000</td>\n",
       "    </tr>\n",
       "  </tbody>\n",
       "</table>\n",
       "</div>"
      ],
      "text/plain": [
       "              total_sales  critic_score\n",
       "total_sales      1.000000      0.433697\n",
       "critic_score     0.433697      1.000000"
      ]
     },
     "execution_count": 69,
     "metadata": {},
     "output_type": "execute_result"
    }
   ],
   "source": [
    "#рассчитаем корреляцию зависимости продаж от оценок критиков\n",
    "xone_score_critic.corr()"
   ]
  },
  {
   "cell_type": "code",
   "execution_count": 70,
   "metadata": {},
   "outputs": [
    {
     "data": {
      "text/html": [
       "<div>\n",
       "<style scoped>\n",
       "    .dataframe tbody tr th:only-of-type {\n",
       "        vertical-align: middle;\n",
       "    }\n",
       "\n",
       "    .dataframe tbody tr th {\n",
       "        vertical-align: top;\n",
       "    }\n",
       "\n",
       "    .dataframe thead th {\n",
       "        text-align: right;\n",
       "    }\n",
       "</style>\n",
       "<table border=\"1\" class=\"dataframe\">\n",
       "  <thead>\n",
       "    <tr style=\"text-align: right;\">\n",
       "      <th></th>\n",
       "      <th>total_sales</th>\n",
       "      <th>user_score</th>\n",
       "    </tr>\n",
       "  </thead>\n",
       "  <tbody>\n",
       "    <tr>\n",
       "      <th>total_sales</th>\n",
       "      <td>1.00000</td>\n",
       "      <td>0.07989</td>\n",
       "    </tr>\n",
       "    <tr>\n",
       "      <th>user_score</th>\n",
       "      <td>0.07989</td>\n",
       "      <td>1.00000</td>\n",
       "    </tr>\n",
       "  </tbody>\n",
       "</table>\n",
       "</div>"
      ],
      "text/plain": [
       "             total_sales  user_score\n",
       "total_sales      1.00000     0.07989\n",
       "user_score       0.07989     1.00000"
      ]
     },
     "execution_count": 70,
     "metadata": {},
     "output_type": "execute_result"
    }
   ],
   "source": [
    "#рассчитаем корреляцию заивисимости продаж от оценок пользователей\n",
    "xone_score_user.corr()"
   ]
  },
  {
   "cell_type": "markdown",
   "metadata": {},
   "source": [
    "Исходя из графиков и коэффициента корреляции мы видим, что количество продаж зависит от оценок критиков (0.43 коэф. корр-ии) достаточно сильно. А продажи от оценок пользоваталей имеют меньшую зависимость - 0.07 ."
   ]
  },
  {
   "cell_type": "markdown",
   "metadata": {},
   "source": [
    "Оценим такие же показатели для двух других платформ - PS4 и PSV"
   ]
  },
  {
   "cell_type": "code",
   "execution_count": 71,
   "metadata": {},
   "outputs": [
    {
     "data": {
      "text/html": [
       "<div>\n",
       "<style scoped>\n",
       "    .dataframe tbody tr th:only-of-type {\n",
       "        vertical-align: middle;\n",
       "    }\n",
       "\n",
       "    .dataframe tbody tr th {\n",
       "        vertical-align: top;\n",
       "    }\n",
       "\n",
       "    .dataframe thead th {\n",
       "        text-align: right;\n",
       "    }\n",
       "</style>\n",
       "<table border=\"1\" class=\"dataframe\">\n",
       "  <thead>\n",
       "    <tr style=\"text-align: right;\">\n",
       "      <th></th>\n",
       "      <th>total_sales</th>\n",
       "      <th>critic_score</th>\n",
       "      <th>platform</th>\n",
       "    </tr>\n",
       "  </thead>\n",
       "  <tbody>\n",
       "    <tr>\n",
       "      <th>976</th>\n",
       "      <td>1.79</td>\n",
       "      <td>75</td>\n",
       "      <td>PS4</td>\n",
       "    </tr>\n",
       "    <tr>\n",
       "      <th>1007</th>\n",
       "      <td>1.74</td>\n",
       "      <td>82</td>\n",
       "      <td>PS4</td>\n",
       "    </tr>\n",
       "    <tr>\n",
       "      <th>1026</th>\n",
       "      <td>1.72</td>\n",
       "      <td>63</td>\n",
       "      <td>PS4</td>\n",
       "    </tr>\n",
       "    <tr>\n",
       "      <th>1028</th>\n",
       "      <td>1.73</td>\n",
       "      <td>54</td>\n",
       "      <td>PS4</td>\n",
       "    </tr>\n",
       "    <tr>\n",
       "      <th>1035</th>\n",
       "      <td>1.72</td>\n",
       "      <td>61</td>\n",
       "      <td>PS4</td>\n",
       "    </tr>\n",
       "    <tr>\n",
       "      <th>...</th>\n",
       "      <td>...</td>\n",
       "      <td>...</td>\n",
       "      <td>...</td>\n",
       "    </tr>\n",
       "    <tr>\n",
       "      <th>16486</th>\n",
       "      <td>0.01</td>\n",
       "      <td>42</td>\n",
       "      <td>PS4</td>\n",
       "    </tr>\n",
       "    <tr>\n",
       "      <th>16499</th>\n",
       "      <td>0.01</td>\n",
       "      <td>70</td>\n",
       "      <td>PS4</td>\n",
       "    </tr>\n",
       "    <tr>\n",
       "      <th>16500</th>\n",
       "      <td>0.01</td>\n",
       "      <td>69</td>\n",
       "      <td>PS4</td>\n",
       "    </tr>\n",
       "    <tr>\n",
       "      <th>16526</th>\n",
       "      <td>0.01</td>\n",
       "      <td>61</td>\n",
       "      <td>PS4</td>\n",
       "    </tr>\n",
       "    <tr>\n",
       "      <th>16530</th>\n",
       "      <td>0.01</td>\n",
       "      <td>51</td>\n",
       "      <td>PS4</td>\n",
       "    </tr>\n",
       "  </tbody>\n",
       "</table>\n",
       "<p>207 rows × 3 columns</p>\n",
       "</div>"
      ],
      "text/plain": [
       "       total_sales  critic_score platform\n",
       "976           1.79            75      PS4\n",
       "1007          1.74            82      PS4\n",
       "1026          1.72            63      PS4\n",
       "1028          1.73            54      PS4\n",
       "1035          1.72            61      PS4\n",
       "...            ...           ...      ...\n",
       "16486         0.01            42      PS4\n",
       "16499         0.01            70      PS4\n",
       "16500         0.01            69      PS4\n",
       "16526         0.01            61      PS4\n",
       "16530         0.01            51      PS4\n",
       "\n",
       "[207 rows x 3 columns]"
      ]
     },
     "execution_count": 71,
     "metadata": {},
     "output_type": "execute_result"
    }
   ],
   "source": [
    "#выделим отдельно необходимые данные для платформы \"PS4\" и оценку критиков\n",
    "ps4_score_critic = platforms_top.loc[:,['total_sales', 'critic_score', 'platform']]\n",
    "ps4_score_critic = ps4_score_critic.query('critic_score > 0 & platform == \"PS4\"')\n",
    "ps4_score_critic"
   ]
  },
  {
   "cell_type": "code",
   "execution_count": 72,
   "metadata": {},
   "outputs": [
    {
     "data": {
      "text/html": [
       "<div>\n",
       "<style scoped>\n",
       "    .dataframe tbody tr th:only-of-type {\n",
       "        vertical-align: middle;\n",
       "    }\n",
       "\n",
       "    .dataframe tbody tr th {\n",
       "        vertical-align: top;\n",
       "    }\n",
       "\n",
       "    .dataframe thead th {\n",
       "        text-align: right;\n",
       "    }\n",
       "</style>\n",
       "<table border=\"1\" class=\"dataframe\">\n",
       "  <thead>\n",
       "    <tr style=\"text-align: right;\">\n",
       "      <th></th>\n",
       "      <th>total_sales</th>\n",
       "      <th>user_score</th>\n",
       "      <th>platform</th>\n",
       "    </tr>\n",
       "  </thead>\n",
       "  <tbody>\n",
       "    <tr>\n",
       "      <th>976</th>\n",
       "      <td>1.79</td>\n",
       "      <td>7.3</td>\n",
       "      <td>PS4</td>\n",
       "    </tr>\n",
       "    <tr>\n",
       "      <th>1007</th>\n",
       "      <td>1.74</td>\n",
       "      <td>4.9</td>\n",
       "      <td>PS4</td>\n",
       "    </tr>\n",
       "    <tr>\n",
       "      <th>1026</th>\n",
       "      <td>1.72</td>\n",
       "      <td>6.6</td>\n",
       "      <td>PS4</td>\n",
       "    </tr>\n",
       "    <tr>\n",
       "      <th>1028</th>\n",
       "      <td>1.73</td>\n",
       "      <td>6.5</td>\n",
       "      <td>PS4</td>\n",
       "    </tr>\n",
       "    <tr>\n",
       "      <th>1035</th>\n",
       "      <td>1.72</td>\n",
       "      <td>5.4</td>\n",
       "      <td>PS4</td>\n",
       "    </tr>\n",
       "    <tr>\n",
       "      <th>...</th>\n",
       "      <td>...</td>\n",
       "      <td>...</td>\n",
       "      <td>...</td>\n",
       "    </tr>\n",
       "    <tr>\n",
       "      <th>16486</th>\n",
       "      <td>0.01</td>\n",
       "      <td>2.3</td>\n",
       "      <td>PS4</td>\n",
       "    </tr>\n",
       "    <tr>\n",
       "      <th>16499</th>\n",
       "      <td>0.01</td>\n",
       "      <td>6.8</td>\n",
       "      <td>PS4</td>\n",
       "    </tr>\n",
       "    <tr>\n",
       "      <th>16500</th>\n",
       "      <td>0.01</td>\n",
       "      <td>7.5</td>\n",
       "      <td>PS4</td>\n",
       "    </tr>\n",
       "    <tr>\n",
       "      <th>16526</th>\n",
       "      <td>0.01</td>\n",
       "      <td>7.9</td>\n",
       "      <td>PS4</td>\n",
       "    </tr>\n",
       "    <tr>\n",
       "      <th>16530</th>\n",
       "      <td>0.01</td>\n",
       "      <td>5.5</td>\n",
       "      <td>PS4</td>\n",
       "    </tr>\n",
       "  </tbody>\n",
       "</table>\n",
       "<p>212 rows × 3 columns</p>\n",
       "</div>"
      ],
      "text/plain": [
       "       total_sales  user_score platform\n",
       "976           1.79         7.3      PS4\n",
       "1007          1.74         4.9      PS4\n",
       "1026          1.72         6.6      PS4\n",
       "1028          1.73         6.5      PS4\n",
       "1035          1.72         5.4      PS4\n",
       "...            ...         ...      ...\n",
       "16486         0.01         2.3      PS4\n",
       "16499         0.01         6.8      PS4\n",
       "16500         0.01         7.5      PS4\n",
       "16526         0.01         7.9      PS4\n",
       "16530         0.01         5.5      PS4\n",
       "\n",
       "[212 rows x 3 columns]"
      ]
     },
     "execution_count": 72,
     "metadata": {},
     "output_type": "execute_result"
    }
   ],
   "source": [
    "#выделим отдельно необходимые данные для платформы \"PS4\" и оценку пользователей\n",
    "ps4_score_user = platforms_top.loc[:,['total_sales', 'user_score', 'platform']]\n",
    "ps4_score_user = ps4_score_user.query('user_score > 0 & platform == \"PS4\"')\n",
    "ps4_score_user"
   ]
  },
  {
   "cell_type": "code",
   "execution_count": 73,
   "metadata": {},
   "outputs": [
    {
     "data": {
      "image/png": "[encoded data removed]",
      "text/plain": [
       "<Figure size 432x288 with 1 Axes>"
      ]
     },
     "metadata": {
      "needs_background": "light"
     },
     "output_type": "display_data"
    }
   ],
   "source": [
    "#построим диаграмму рассеивания между продажами и отзывами критиков\n",
    "ps4_score_critic.plot(x='critic_score' , y='total_sales', kind='scatter')\n",
    "plt.title('Зависимость продаж от оценок критиков')\n",
    "plt.xlabel('Оценки критиков')\n",
    "plt.ylabel('Количество продаж')\n",
    "plt.show()"
   ]
  },
  {
   "cell_type": "code",
   "execution_count": 74,
   "metadata": {},
   "outputs": [
    {
     "data": {
      "image/png": "[encoded data removed]",
      "text/plain": [
       "<Figure size 432x288 with 1 Axes>"
      ]
     },
     "metadata": {
      "needs_background": "light"
     },
     "output_type": "display_data"
    }
   ],
   "source": [
    "#построим диаграмму рассеивания между продажами и отзывами пользователей\n",
    "ps4_score_user.plot(x='user_score' , y='total_sales', kind='scatter')\n",
    "plt.title('Зависимость продаж от оценок пользователей')\n",
    "plt.xlabel('Оценки пользователей')\n",
    "plt.ylabel('Количество продаж')\n",
    "plt.show()"
   ]
  },
  {
   "cell_type": "code",
   "execution_count": 75,
   "metadata": {},
   "outputs": [
    {
     "data": {
      "text/html": [
       "<div>\n",
       "<style scoped>\n",
       "    .dataframe tbody tr th:only-of-type {\n",
       "        vertical-align: middle;\n",
       "    }\n",
       "\n",
       "    .dataframe tbody tr th {\n",
       "        vertical-align: top;\n",
       "    }\n",
       "\n",
       "    .dataframe thead th {\n",
       "        text-align: right;\n",
       "    }\n",
       "</style>\n",
       "<table border=\"1\" class=\"dataframe\">\n",
       "  <thead>\n",
       "    <tr style=\"text-align: right;\">\n",
       "      <th></th>\n",
       "      <th>total_sales</th>\n",
       "      <th>critic_score</th>\n",
       "    </tr>\n",
       "  </thead>\n",
       "  <tbody>\n",
       "    <tr>\n",
       "      <th>total_sales</th>\n",
       "      <td>1.000000</td>\n",
       "      <td>0.271837</td>\n",
       "    </tr>\n",
       "    <tr>\n",
       "      <th>critic_score</th>\n",
       "      <td>0.271837</td>\n",
       "      <td>1.000000</td>\n",
       "    </tr>\n",
       "  </tbody>\n",
       "</table>\n",
       "</div>"
      ],
      "text/plain": [
       "              total_sales  critic_score\n",
       "total_sales      1.000000      0.271837\n",
       "critic_score     0.271837      1.000000"
      ]
     },
     "execution_count": 75,
     "metadata": {},
     "output_type": "execute_result"
    }
   ],
   "source": [
    "#рассчитаем корреляцию зависимости продаж от оценок критиков\n",
    "ps4_score_critic.corr()"
   ]
  },
  {
   "cell_type": "code",
   "execution_count": 76,
   "metadata": {},
   "outputs": [
    {
     "data": {
      "text/html": [
       "<div>\n",
       "<style scoped>\n",
       "    .dataframe tbody tr th:only-of-type {\n",
       "        vertical-align: middle;\n",
       "    }\n",
       "\n",
       "    .dataframe tbody tr th {\n",
       "        vertical-align: top;\n",
       "    }\n",
       "\n",
       "    .dataframe thead th {\n",
       "        text-align: right;\n",
       "    }\n",
       "</style>\n",
       "<table border=\"1\" class=\"dataframe\">\n",
       "  <thead>\n",
       "    <tr style=\"text-align: right;\">\n",
       "      <th></th>\n",
       "      <th>total_sales</th>\n",
       "      <th>user_score</th>\n",
       "    </tr>\n",
       "  </thead>\n",
       "  <tbody>\n",
       "    <tr>\n",
       "      <th>total_sales</th>\n",
       "      <td>1.000000</td>\n",
       "      <td>0.016816</td>\n",
       "    </tr>\n",
       "    <tr>\n",
       "      <th>user_score</th>\n",
       "      <td>0.016816</td>\n",
       "      <td>1.000000</td>\n",
       "    </tr>\n",
       "  </tbody>\n",
       "</table>\n",
       "</div>"
      ],
      "text/plain": [
       "             total_sales  user_score\n",
       "total_sales     1.000000    0.016816\n",
       "user_score      0.016816    1.000000"
      ]
     },
     "execution_count": 76,
     "metadata": {},
     "output_type": "execute_result"
    }
   ],
   "source": [
    "#рассчитаем корреляцию зависимости продаж от оценок пользователей\n",
    "ps4_score_user.corr()"
   ]
  },
  {
   "cell_type": "code",
   "execution_count": 77,
   "metadata": {},
   "outputs": [
    {
     "data": {
      "text/html": [
       "<div>\n",
       "<style scoped>\n",
       "    .dataframe tbody tr th:only-of-type {\n",
       "        vertical-align: middle;\n",
       "    }\n",
       "\n",
       "    .dataframe tbody tr th {\n",
       "        vertical-align: top;\n",
       "    }\n",
       "\n",
       "    .dataframe thead th {\n",
       "        text-align: right;\n",
       "    }\n",
       "</style>\n",
       "<table border=\"1\" class=\"dataframe\">\n",
       "  <thead>\n",
       "    <tr style=\"text-align: right;\">\n",
       "      <th></th>\n",
       "      <th>total_sales</th>\n",
       "      <th>critic_score</th>\n",
       "      <th>platform</th>\n",
       "    </tr>\n",
       "  </thead>\n",
       "  <tbody>\n",
       "    <tr>\n",
       "      <th>1294</th>\n",
       "      <td>1.47</td>\n",
       "      <td>33</td>\n",
       "      <td>PSV</td>\n",
       "    </tr>\n",
       "    <tr>\n",
       "      <th>1485</th>\n",
       "      <td>1.31</td>\n",
       "      <td>70</td>\n",
       "      <td>PSV</td>\n",
       "    </tr>\n",
       "    <tr>\n",
       "      <th>1595</th>\n",
       "      <td>1.25</td>\n",
       "      <td>88</td>\n",
       "      <td>PSV</td>\n",
       "    </tr>\n",
       "    <tr>\n",
       "      <th>1831</th>\n",
       "      <td>1.12</td>\n",
       "      <td>93</td>\n",
       "      <td>PSV</td>\n",
       "    </tr>\n",
       "    <tr>\n",
       "      <th>2566</th>\n",
       "      <td>0.80</td>\n",
       "      <td>78</td>\n",
       "      <td>PSV</td>\n",
       "    </tr>\n",
       "    <tr>\n",
       "      <th>...</th>\n",
       "      <td>...</td>\n",
       "      <td>...</td>\n",
       "      <td>...</td>\n",
       "    </tr>\n",
       "    <tr>\n",
       "      <th>15198</th>\n",
       "      <td>0.02</td>\n",
       "      <td>64</td>\n",
       "      <td>PSV</td>\n",
       "    </tr>\n",
       "    <tr>\n",
       "      <th>15512</th>\n",
       "      <td>0.02</td>\n",
       "      <td>70</td>\n",
       "      <td>PSV</td>\n",
       "    </tr>\n",
       "    <tr>\n",
       "      <th>16260</th>\n",
       "      <td>0.01</td>\n",
       "      <td>58</td>\n",
       "      <td>PSV</td>\n",
       "    </tr>\n",
       "    <tr>\n",
       "      <th>16273</th>\n",
       "      <td>0.01</td>\n",
       "      <td>66</td>\n",
       "      <td>PSV</td>\n",
       "    </tr>\n",
       "    <tr>\n",
       "      <th>16374</th>\n",
       "      <td>0.01</td>\n",
       "      <td>76</td>\n",
       "      <td>PSV</td>\n",
       "    </tr>\n",
       "  </tbody>\n",
       "</table>\n",
       "<p>107 rows × 3 columns</p>\n",
       "</div>"
      ],
      "text/plain": [
       "       total_sales  critic_score platform\n",
       "1294          1.47            33      PSV\n",
       "1485          1.31            70      PSV\n",
       "1595          1.25            88      PSV\n",
       "1831          1.12            93      PSV\n",
       "2566          0.80            78      PSV\n",
       "...            ...           ...      ...\n",
       "15198         0.02            64      PSV\n",
       "15512         0.02            70      PSV\n",
       "16260         0.01            58      PSV\n",
       "16273         0.01            66      PSV\n",
       "16374         0.01            76      PSV\n",
       "\n",
       "[107 rows x 3 columns]"
      ]
     },
     "execution_count": 77,
     "metadata": {},
     "output_type": "execute_result"
    }
   ],
   "source": [
    "#выделим отдельно необходимые данные для платформы \"PSV\" и оценку критиков\n",
    "psv_score_critic = platforms_top.loc[:,['total_sales', 'critic_score', 'platform']]\n",
    "psv_score_critic = psv_score_critic.query('critic_score > 0 & platform == \"PSV\"')\n",
    "psv_score_critic"
   ]
  },
  {
   "cell_type": "code",
   "execution_count": 78,
   "metadata": {},
   "outputs": [
    {
     "data": {
      "text/html": [
       "<div>\n",
       "<style scoped>\n",
       "    .dataframe tbody tr th:only-of-type {\n",
       "        vertical-align: middle;\n",
       "    }\n",
       "\n",
       "    .dataframe tbody tr th {\n",
       "        vertical-align: top;\n",
       "    }\n",
       "\n",
       "    .dataframe thead th {\n",
       "        text-align: right;\n",
       "    }\n",
       "</style>\n",
       "<table border=\"1\" class=\"dataframe\">\n",
       "  <thead>\n",
       "    <tr style=\"text-align: right;\">\n",
       "      <th></th>\n",
       "      <th>total_sales</th>\n",
       "      <th>user_score</th>\n",
       "      <th>platform</th>\n",
       "    </tr>\n",
       "  </thead>\n",
       "  <tbody>\n",
       "    <tr>\n",
       "      <th>1294</th>\n",
       "      <td>1.47</td>\n",
       "      <td>4.8</td>\n",
       "      <td>PSV</td>\n",
       "    </tr>\n",
       "    <tr>\n",
       "      <th>1485</th>\n",
       "      <td>1.31</td>\n",
       "      <td>7.2</td>\n",
       "      <td>PSV</td>\n",
       "    </tr>\n",
       "    <tr>\n",
       "      <th>1595</th>\n",
       "      <td>1.25</td>\n",
       "      <td>8.6</td>\n",
       "      <td>PSV</td>\n",
       "    </tr>\n",
       "    <tr>\n",
       "      <th>1831</th>\n",
       "      <td>1.12</td>\n",
       "      <td>9.2</td>\n",
       "      <td>PSV</td>\n",
       "    </tr>\n",
       "    <tr>\n",
       "      <th>2566</th>\n",
       "      <td>0.80</td>\n",
       "      <td>8.9</td>\n",
       "      <td>PSV</td>\n",
       "    </tr>\n",
       "    <tr>\n",
       "      <th>...</th>\n",
       "      <td>...</td>\n",
       "      <td>...</td>\n",
       "      <td>...</td>\n",
       "    </tr>\n",
       "    <tr>\n",
       "      <th>16260</th>\n",
       "      <td>0.01</td>\n",
       "      <td>7.7</td>\n",
       "      <td>PSV</td>\n",
       "    </tr>\n",
       "    <tr>\n",
       "      <th>16273</th>\n",
       "      <td>0.01</td>\n",
       "      <td>5.7</td>\n",
       "      <td>PSV</td>\n",
       "    </tr>\n",
       "    <tr>\n",
       "      <th>16374</th>\n",
       "      <td>0.01</td>\n",
       "      <td>8.0</td>\n",
       "      <td>PSV</td>\n",
       "    </tr>\n",
       "    <tr>\n",
       "      <th>16547</th>\n",
       "      <td>0.01</td>\n",
       "      <td>7.5</td>\n",
       "      <td>PSV</td>\n",
       "    </tr>\n",
       "    <tr>\n",
       "      <th>16618</th>\n",
       "      <td>0.01</td>\n",
       "      <td>7.0</td>\n",
       "      <td>PSV</td>\n",
       "    </tr>\n",
       "  </tbody>\n",
       "</table>\n",
       "<p>130 rows × 3 columns</p>\n",
       "</div>"
      ],
      "text/plain": [
       "       total_sales  user_score platform\n",
       "1294          1.47         4.8      PSV\n",
       "1485          1.31         7.2      PSV\n",
       "1595          1.25         8.6      PSV\n",
       "1831          1.12         9.2      PSV\n",
       "2566          0.80         8.9      PSV\n",
       "...            ...         ...      ...\n",
       "16260         0.01         7.7      PSV\n",
       "16273         0.01         5.7      PSV\n",
       "16374         0.01         8.0      PSV\n",
       "16547         0.01         7.5      PSV\n",
       "16618         0.01         7.0      PSV\n",
       "\n",
       "[130 rows x 3 columns]"
      ]
     },
     "execution_count": 78,
     "metadata": {},
     "output_type": "execute_result"
    }
   ],
   "source": [
    "#выделим отдельно необходимые данные для платформы \"PSV\" и оценку пользователей\n",
    "psv_score_user = platforms_top.loc[:,['total_sales', 'user_score', 'platform']]\n",
    "psv_score_user = psv_score_user.query('user_score > 0 & platform == \"PSV\"')\n",
    "psv_score_user"
   ]
  },
  {
   "cell_type": "code",
   "execution_count": 79,
   "metadata": {},
   "outputs": [
    {
     "data": {
      "image/png": "[encoded data removed]",
      "text/plain": [
       "<Figure size 432x288 with 1 Axes>"
      ]
     },
     "metadata": {
      "needs_background": "light"
     },
     "output_type": "display_data"
    }
   ],
   "source": [
    "#построим диаграмму рассеивания между продажами и отзывами критиков\n",
    "psv_score_critic.plot(x='critic_score' , y='total_sales', kind='scatter')\n",
    "plt.title('Зависимость продаж от оценок критиков')\n",
    "plt.xlabel('Оценки критиков')\n",
    "plt.ylabel('Количество продаж')\n",
    "plt.show()"
   ]
  },
  {
   "cell_type": "code",
   "execution_count": 80,
   "metadata": {},
   "outputs": [
    {
     "data": {
      "image/png": "[encoded data removed]",
      "text/plain": [
       "<Figure size 432x288 with 1 Axes>"
      ]
     },
     "metadata": {
      "needs_background": "light"
     },
     "output_type": "display_data"
    }
   ],
   "source": [
    "#построим диаграмму рассеивания между продажами и отзывами пользователей\n",
    "psv_score_user.plot(x='user_score' , y='total_sales', kind='scatter')\n",
    "plt.title('Зависимость продаж от оценок пользователей')\n",
    "plt.xlabel('Оценки пользователей')\n",
    "plt.ylabel('Количество продаж')\n",
    "plt.show()"
   ]
  },
  {
   "cell_type": "code",
   "execution_count": 81,
   "metadata": {},
   "outputs": [
    {
     "data": {
      "text/html": [
       "<div>\n",
       "<style scoped>\n",
       "    .dataframe tbody tr th:only-of-type {\n",
       "        vertical-align: middle;\n",
       "    }\n",
       "\n",
       "    .dataframe tbody tr th {\n",
       "        vertical-align: top;\n",
       "    }\n",
       "\n",
       "    .dataframe thead th {\n",
       "        text-align: right;\n",
       "    }\n",
       "</style>\n",
       "<table border=\"1\" class=\"dataframe\">\n",
       "  <thead>\n",
       "    <tr style=\"text-align: right;\">\n",
       "      <th></th>\n",
       "      <th>total_sales</th>\n",
       "      <th>critic_score</th>\n",
       "    </tr>\n",
       "  </thead>\n",
       "  <tbody>\n",
       "    <tr>\n",
       "      <th>total_sales</th>\n",
       "      <td>1.000000</td>\n",
       "      <td>0.094488</td>\n",
       "    </tr>\n",
       "    <tr>\n",
       "      <th>critic_score</th>\n",
       "      <td>0.094488</td>\n",
       "      <td>1.000000</td>\n",
       "    </tr>\n",
       "  </tbody>\n",
       "</table>\n",
       "</div>"
      ],
      "text/plain": [
       "              total_sales  critic_score\n",
       "total_sales      1.000000      0.094488\n",
       "critic_score     0.094488      1.000000"
      ]
     },
     "execution_count": 81,
     "metadata": {},
     "output_type": "execute_result"
    }
   ],
   "source": [
    "#рассчитаем корреляцию зависимости продаж от оценок критиков\n",
    "psv_score_critic.corr()"
   ]
  },
  {
   "cell_type": "code",
   "execution_count": 82,
   "metadata": {},
   "outputs": [
    {
     "data": {
      "text/html": [
       "<div>\n",
       "<style scoped>\n",
       "    .dataframe tbody tr th:only-of-type {\n",
       "        vertical-align: middle;\n",
       "    }\n",
       "\n",
       "    .dataframe tbody tr th {\n",
       "        vertical-align: top;\n",
       "    }\n",
       "\n",
       "    .dataframe thead th {\n",
       "        text-align: right;\n",
       "    }\n",
       "</style>\n",
       "<table border=\"1\" class=\"dataframe\">\n",
       "  <thead>\n",
       "    <tr style=\"text-align: right;\">\n",
       "      <th></th>\n",
       "      <th>total_sales</th>\n",
       "      <th>user_score</th>\n",
       "    </tr>\n",
       "  </thead>\n",
       "  <tbody>\n",
       "    <tr>\n",
       "      <th>total_sales</th>\n",
       "      <td>1.000000</td>\n",
       "      <td>-0.004339</td>\n",
       "    </tr>\n",
       "    <tr>\n",
       "      <th>user_score</th>\n",
       "      <td>-0.004339</td>\n",
       "      <td>1.000000</td>\n",
       "    </tr>\n",
       "  </tbody>\n",
       "</table>\n",
       "</div>"
      ],
      "text/plain": [
       "             total_sales  user_score\n",
       "total_sales     1.000000   -0.004339\n",
       "user_score     -0.004339    1.000000"
      ]
     },
     "execution_count": 82,
     "metadata": {},
     "output_type": "execute_result"
    }
   ],
   "source": [
    "#рассчитаем корреляцию зависимости продаж от оценок пользователей\n",
    "psv_score_user.corr()"
   ]
  },
  {
   "cell_type": "markdown",
   "metadata": {},
   "source": [
    "Что касается платформ, находящихся на 2 и 3 месте:\n",
    "\n",
    " - у платформы \"PS4\" зависимость продаж от мнения критиков составила 0.27, а от мнения пользователей - 0.016. \n",
    " \n",
    " - У платформы \"PSV\" самые низкие показатели зависимости продаж от оценок критиков 0,094, а пользователей и того меньше  -0,004.Это значит, что оценка пользователей влияет незначительно на продажи игр\n",
    "  \n",
    "  Последнее можно указать как общую черту для всех платформ в наибольшим количеством продаж в 2016 году. Поэтому в целом влияние отзывов на дальнейшие продажи игр достаточно значительно - можно сказать, что это отчасти выступает основой для того, чтобы пользователи приобретали новые игры"
   ]
  },
  {
   "cell_type": "markdown",
   "metadata": {},
   "source": [
    "### Распределение игр по жанрам"
   ]
  },
  {
   "cell_type": "code",
   "execution_count": 83,
   "metadata": {},
   "outputs": [
    {
     "data": {
      "text/html": [
       "<div>\n",
       "<style scoped>\n",
       "    .dataframe tbody tr th:only-of-type {\n",
       "        vertical-align: middle;\n",
       "    }\n",
       "\n",
       "    .dataframe tbody tr th {\n",
       "        vertical-align: top;\n",
       "    }\n",
       "\n",
       "    .dataframe thead th {\n",
       "        text-align: right;\n",
       "    }\n",
       "</style>\n",
       "<table border=\"1\" class=\"dataframe\">\n",
       "  <thead>\n",
       "    <tr style=\"text-align: right;\">\n",
       "      <th></th>\n",
       "      <th>name</th>\n",
       "      <th>total_sales</th>\n",
       "    </tr>\n",
       "    <tr>\n",
       "      <th>genre</th>\n",
       "      <th></th>\n",
       "      <th></th>\n",
       "    </tr>\n",
       "  </thead>\n",
       "  <tbody>\n",
       "    <tr>\n",
       "      <th>Shooter</th>\n",
       "      <td>235</td>\n",
       "      <td>1.296723</td>\n",
       "    </tr>\n",
       "    <tr>\n",
       "      <th>Platform</th>\n",
       "      <td>85</td>\n",
       "      <td>0.717647</td>\n",
       "    </tr>\n",
       "    <tr>\n",
       "      <th>Sports</th>\n",
       "      <td>267</td>\n",
       "      <td>0.678127</td>\n",
       "    </tr>\n",
       "    <tr>\n",
       "      <th>Role-Playing</th>\n",
       "      <td>370</td>\n",
       "      <td>0.521081</td>\n",
       "    </tr>\n",
       "    <tr>\n",
       "      <th>Racing</th>\n",
       "      <td>115</td>\n",
       "      <td>0.465217</td>\n",
       "    </tr>\n",
       "    <tr>\n",
       "      <th>Misc</th>\n",
       "      <td>192</td>\n",
       "      <td>0.442917</td>\n",
       "    </tr>\n",
       "    <tr>\n",
       "      <th>Simulation</th>\n",
       "      <td>80</td>\n",
       "      <td>0.439000</td>\n",
       "    </tr>\n",
       "    <tr>\n",
       "      <th>Action</th>\n",
       "      <td>1031</td>\n",
       "      <td>0.427856</td>\n",
       "    </tr>\n",
       "    <tr>\n",
       "      <th>Fighting</th>\n",
       "      <td>109</td>\n",
       "      <td>0.408165</td>\n",
       "    </tr>\n",
       "    <tr>\n",
       "      <th>Strategy</th>\n",
       "      <td>71</td>\n",
       "      <td>0.187887</td>\n",
       "    </tr>\n",
       "    <tr>\n",
       "      <th>Puzzle</th>\n",
       "      <td>28</td>\n",
       "      <td>0.174643</td>\n",
       "    </tr>\n",
       "    <tr>\n",
       "      <th>Adventure</th>\n",
       "      <td>302</td>\n",
       "      <td>0.097450</td>\n",
       "    </tr>\n",
       "  </tbody>\n",
       "</table>\n",
       "</div>"
      ],
      "text/plain": [
       "              name  total_sales\n",
       "genre                          \n",
       "Shooter        235     1.296723\n",
       "Platform        85     0.717647\n",
       "Sports         267     0.678127\n",
       "Role-Playing   370     0.521081\n",
       "Racing         115     0.465217\n",
       "Misc           192     0.442917\n",
       "Simulation      80     0.439000\n",
       "Action        1031     0.427856\n",
       "Fighting       109     0.408165\n",
       "Strategy        71     0.187887\n",
       "Puzzle          28     0.174643\n",
       "Adventure      302     0.097450"
      ]
     },
     "execution_count": 83,
     "metadata": {},
     "output_type": "execute_result"
    }
   ],
   "source": [
    "data_new_games_1 = data_new.groupby('genre').agg({'name': 'count', 'total_sales':'mean'}).sort_values(by='total_sales', ascending=False)\n",
    "data_new_games_1"
   ]
  },
  {
   "cell_type": "markdown",
   "metadata": {},
   "source": [
    "Наиболее успешные в продажах жанры игр это шутеры(Shooter), платформы(Platform), спортивные игры(Sports) и ролевые(Role-Playing). \n",
    " - шутеры, несмотря на их небольшое количество лидируют по данным в продажах. Такой успех можно пояснить тем, что зачастую в них играют компаниями (та же Counter-Strike, Battlefield  и прочие)\n",
    " - а вот игры экшен, несмотря на самое большое количество занимают только 8 место. Поэтому можно рассудить, что игры, занимающие более высокие места в рейтинге несмотря на меньшее количество выходят более качественными или имеют какие-то фишки, благодаря которым количество пользователей у них больше "
   ]
  },
  {
   "cell_type": "markdown",
   "metadata": {},
   "source": [
    "### Портреты пользователей"
   ]
  },
  {
   "cell_type": "code",
   "execution_count": 84,
   "metadata": {},
   "outputs": [],
   "source": [
    "#выделим отдельно данные по региону Северная Америка\n",
    "data_na = data_new.query('na_sales > 0')"
   ]
  },
  {
   "cell_type": "code",
   "execution_count": 85,
   "metadata": {},
   "outputs": [],
   "source": [
    "#выделим отдельно данные по региону Европа\n",
    "data_eu = data_new.query('eu_sales > 0')"
   ]
  },
  {
   "cell_type": "code",
   "execution_count": 86,
   "metadata": {},
   "outputs": [],
   "source": [
    "#выделим отдельно данные по региону Япония\n",
    "data_jp = data_new.query('jp_sales > 0')"
   ]
  },
  {
   "cell_type": "code",
   "execution_count": 87,
   "metadata": {},
   "outputs": [
    {
     "data": {
      "text/html": [
       "<div>\n",
       "<style scoped>\n",
       "    .dataframe tbody tr th:only-of-type {\n",
       "        vertical-align: middle;\n",
       "    }\n",
       "\n",
       "    .dataframe tbody tr th {\n",
       "        vertical-align: top;\n",
       "    }\n",
       "\n",
       "    .dataframe thead th {\n",
       "        text-align: right;\n",
       "    }\n",
       "</style>\n",
       "<table border=\"1\" class=\"dataframe\">\n",
       "  <thead>\n",
       "    <tr style=\"text-align: right;\">\n",
       "      <th></th>\n",
       "      <th>na_sales</th>\n",
       "    </tr>\n",
       "    <tr>\n",
       "      <th>platform</th>\n",
       "      <th></th>\n",
       "    </tr>\n",
       "  </thead>\n",
       "  <tbody>\n",
       "    <tr>\n",
       "      <th>X360</th>\n",
       "      <td>140.05</td>\n",
       "    </tr>\n",
       "    <tr>\n",
       "      <th>PS4</th>\n",
       "      <td>108.74</td>\n",
       "    </tr>\n",
       "    <tr>\n",
       "      <th>PS3</th>\n",
       "      <td>103.38</td>\n",
       "    </tr>\n",
       "    <tr>\n",
       "      <th>XOne</th>\n",
       "      <td>93.12</td>\n",
       "    </tr>\n",
       "    <tr>\n",
       "      <th>3DS</th>\n",
       "      <td>55.31</td>\n",
       "    </tr>\n",
       "  </tbody>\n",
       "</table>\n",
       "</div>"
      ],
      "text/plain": [
       "          na_sales\n",
       "platform          \n",
       "X360        140.05\n",
       "PS4         108.74\n",
       "PS3         103.38\n",
       "XOne         93.12\n",
       "3DS          55.31"
      ]
     },
     "execution_count": 87,
     "metadata": {},
     "output_type": "execute_result"
    }
   ],
   "source": [
    "#сформируем топ-5 для Северной Америки\n",
    "data_na_platform = data_na.pivot_table(index='platform', values='na_sales', aggfunc='sum').sort_values(by='na_sales', ascending=False).head()\n",
    "data_na_platform"
   ]
  },
  {
   "cell_type": "code",
   "execution_count": 88,
   "metadata": {},
   "outputs": [
    {
     "data": {
      "text/html": [
       "<div>\n",
       "<style scoped>\n",
       "    .dataframe tbody tr th:only-of-type {\n",
       "        vertical-align: middle;\n",
       "    }\n",
       "\n",
       "    .dataframe tbody tr th {\n",
       "        vertical-align: top;\n",
       "    }\n",
       "\n",
       "    .dataframe thead th {\n",
       "        text-align: right;\n",
       "    }\n",
       "</style>\n",
       "<table border=\"1\" class=\"dataframe\">\n",
       "  <thead>\n",
       "    <tr style=\"text-align: right;\">\n",
       "      <th></th>\n",
       "      <th>eu_sales</th>\n",
       "    </tr>\n",
       "    <tr>\n",
       "      <th>platform</th>\n",
       "      <th></th>\n",
       "    </tr>\n",
       "  </thead>\n",
       "  <tbody>\n",
       "    <tr>\n",
       "      <th>PS4</th>\n",
       "      <td>141.09</td>\n",
       "    </tr>\n",
       "    <tr>\n",
       "      <th>PS3</th>\n",
       "      <td>106.85</td>\n",
       "    </tr>\n",
       "    <tr>\n",
       "      <th>X360</th>\n",
       "      <td>74.52</td>\n",
       "    </tr>\n",
       "    <tr>\n",
       "      <th>XOne</th>\n",
       "      <td>51.59</td>\n",
       "    </tr>\n",
       "    <tr>\n",
       "      <th>3DS</th>\n",
       "      <td>42.64</td>\n",
       "    </tr>\n",
       "  </tbody>\n",
       "</table>\n",
       "</div>"
      ],
      "text/plain": [
       "          eu_sales\n",
       "platform          \n",
       "PS4         141.09\n",
       "PS3         106.85\n",
       "X360         74.52\n",
       "XOne         51.59\n",
       "3DS          42.64"
      ]
     },
     "execution_count": 88,
     "metadata": {},
     "output_type": "execute_result"
    }
   ],
   "source": [
    "#сформируем топ-5 для Европы\n",
    "data_eu_platform = data_eu.pivot_table(index='platform', values='eu_sales', aggfunc='sum').sort_values(by='eu_sales', ascending=False).head()\n",
    "data_eu_platform"
   ]
  },
  {
   "cell_type": "code",
   "execution_count": 89,
   "metadata": {},
   "outputs": [
    {
     "data": {
      "text/html": [
       "<div>\n",
       "<style scoped>\n",
       "    .dataframe tbody tr th:only-of-type {\n",
       "        vertical-align: middle;\n",
       "    }\n",
       "\n",
       "    .dataframe tbody tr th {\n",
       "        vertical-align: top;\n",
       "    }\n",
       "\n",
       "    .dataframe thead th {\n",
       "        text-align: right;\n",
       "    }\n",
       "</style>\n",
       "<table border=\"1\" class=\"dataframe\">\n",
       "  <thead>\n",
       "    <tr style=\"text-align: right;\">\n",
       "      <th></th>\n",
       "      <th>jp_sales</th>\n",
       "    </tr>\n",
       "    <tr>\n",
       "      <th>platform</th>\n",
       "      <th></th>\n",
       "    </tr>\n",
       "  </thead>\n",
       "  <tbody>\n",
       "    <tr>\n",
       "      <th>3DS</th>\n",
       "      <td>87.79</td>\n",
       "    </tr>\n",
       "    <tr>\n",
       "      <th>PS3</th>\n",
       "      <td>35.29</td>\n",
       "    </tr>\n",
       "    <tr>\n",
       "      <th>PSV</th>\n",
       "      <td>21.04</td>\n",
       "    </tr>\n",
       "    <tr>\n",
       "      <th>PS4</th>\n",
       "      <td>15.96</td>\n",
       "    </tr>\n",
       "    <tr>\n",
       "      <th>WiiU</th>\n",
       "      <td>13.01</td>\n",
       "    </tr>\n",
       "  </tbody>\n",
       "</table>\n",
       "</div>"
      ],
      "text/plain": [
       "          jp_sales\n",
       "platform          \n",
       "3DS          87.79\n",
       "PS3          35.29\n",
       "PSV          21.04\n",
       "PS4          15.96\n",
       "WiiU         13.01"
      ]
     },
     "execution_count": 89,
     "metadata": {},
     "output_type": "execute_result"
    }
   ],
   "source": [
    "#сформируем топ-5 для Японии\n",
    "data_jp_platform = data_jp.pivot_table(index='platform', values='jp_sales', aggfunc='sum').sort_values(by='jp_sales', ascending=False).head()\n",
    "data_jp_platform"
   ]
  },
  {
   "cell_type": "markdown",
   "metadata": {},
   "source": [
    "- Топ-5 платформ для жителей Северной Америки: X360(28%), PS4(21,7%), PS3(20.7%), XOne(18.5%), 3DS(11.1%)\n",
    "- Топ-5 платформ для жителей Европы: PS4(33.6%), PS3(25.6%), X360(17.7%), XOne(13.1%), 3DS(10%)\n",
    "- Топ-5 платформ для жителей Японии: 3DS(50.7%), PS3(20.4%), PSV(12.2%), PS4(9.2%), WiiU(7.5%)\n",
    "\n",
    "- лидирущая x-box 28% занимает в Европе третье место с долей 17,7% и отсутствует в топ-5 Японии\n",
    "- во всех регионах в топе PS4 и PS3\n",
    "Несмотря на различия во всех регионах в топ-5 попадают платформы компании Sony. В целом различия можно так же объяснить разным местонахождением компаний, где разрабатываются игровые платформы\n",
    "\n",
    "Оценим какие жанры игр предпочитают игроки разных регионов"
   ]
  },
  {
   "cell_type": "code",
   "execution_count": 90,
   "metadata": {},
   "outputs": [
    {
     "data": {
      "text/html": [
       "<div>\n",
       "<style scoped>\n",
       "    .dataframe tbody tr th:only-of-type {\n",
       "        vertical-align: middle;\n",
       "    }\n",
       "\n",
       "    .dataframe tbody tr th {\n",
       "        vertical-align: top;\n",
       "    }\n",
       "\n",
       "    .dataframe thead th {\n",
       "        text-align: right;\n",
       "    }\n",
       "</style>\n",
       "<table border=\"1\" class=\"dataframe\">\n",
       "  <thead>\n",
       "    <tr style=\"text-align: right;\">\n",
       "      <th></th>\n",
       "      <th>na_sales</th>\n",
       "    </tr>\n",
       "    <tr>\n",
       "      <th>genre</th>\n",
       "      <th></th>\n",
       "    </tr>\n",
       "  </thead>\n",
       "  <tbody>\n",
       "    <tr>\n",
       "      <th>Action</th>\n",
       "      <td>177.84</td>\n",
       "    </tr>\n",
       "    <tr>\n",
       "      <th>Shooter</th>\n",
       "      <td>144.77</td>\n",
       "    </tr>\n",
       "    <tr>\n",
       "      <th>Sports</th>\n",
       "      <td>81.53</td>\n",
       "    </tr>\n",
       "    <tr>\n",
       "      <th>Role-Playing</th>\n",
       "      <td>64.00</td>\n",
       "    </tr>\n",
       "    <tr>\n",
       "      <th>Misc</th>\n",
       "      <td>38.19</td>\n",
       "    </tr>\n",
       "  </tbody>\n",
       "</table>\n",
       "</div>"
      ],
      "text/plain": [
       "              na_sales\n",
       "genre                 \n",
       "Action          177.84\n",
       "Shooter         144.77\n",
       "Sports           81.53\n",
       "Role-Playing     64.00\n",
       "Misc             38.19"
      ]
     },
     "execution_count": 90,
     "metadata": {},
     "output_type": "execute_result"
    }
   ],
   "source": [
    "#сформируем топ-5 жанров для Северной Америки\n",
    "data_na_genre = data_na.pivot_table(index='genre', values='na_sales', aggfunc='sum').sort_values(by='na_sales', ascending=False).head()\n",
    "data_na_genre"
   ]
  },
  {
   "cell_type": "code",
   "execution_count": 91,
   "metadata": {},
   "outputs": [
    {
     "data": {
      "text/html": [
       "<div>\n",
       "<style scoped>\n",
       "    .dataframe tbody tr th:only-of-type {\n",
       "        vertical-align: middle;\n",
       "    }\n",
       "\n",
       "    .dataframe tbody tr th {\n",
       "        vertical-align: top;\n",
       "    }\n",
       "\n",
       "    .dataframe thead th {\n",
       "        text-align: right;\n",
       "    }\n",
       "</style>\n",
       "<table border=\"1\" class=\"dataframe\">\n",
       "  <thead>\n",
       "    <tr style=\"text-align: right;\">\n",
       "      <th></th>\n",
       "      <th>eu_sales</th>\n",
       "    </tr>\n",
       "    <tr>\n",
       "      <th>genre</th>\n",
       "      <th></th>\n",
       "    </tr>\n",
       "  </thead>\n",
       "  <tbody>\n",
       "    <tr>\n",
       "      <th>Action</th>\n",
       "      <td>159.34</td>\n",
       "    </tr>\n",
       "    <tr>\n",
       "      <th>Shooter</th>\n",
       "      <td>113.47</td>\n",
       "    </tr>\n",
       "    <tr>\n",
       "      <th>Sports</th>\n",
       "      <td>69.08</td>\n",
       "    </tr>\n",
       "    <tr>\n",
       "      <th>Role-Playing</th>\n",
       "      <td>48.53</td>\n",
       "    </tr>\n",
       "    <tr>\n",
       "      <th>Racing</th>\n",
       "      <td>27.29</td>\n",
       "    </tr>\n",
       "  </tbody>\n",
       "</table>\n",
       "</div>"
      ],
      "text/plain": [
       "              eu_sales\n",
       "genre                 \n",
       "Action          159.34\n",
       "Shooter         113.47\n",
       "Sports           69.08\n",
       "Role-Playing     48.53\n",
       "Racing           27.29"
      ]
     },
     "execution_count": 91,
     "metadata": {},
     "output_type": "execute_result"
    }
   ],
   "source": [
    "#сформируем топ-5 жанров для Европы\n",
    "data_eu_genre = data_eu.pivot_table(index='genre', values='eu_sales', aggfunc='sum').sort_values(by='eu_sales', ascending=False).head()\n",
    "data_eu_genre"
   ]
  },
  {
   "cell_type": "code",
   "execution_count": 92,
   "metadata": {},
   "outputs": [
    {
     "data": {
      "text/html": [
       "<div>\n",
       "<style scoped>\n",
       "    .dataframe tbody tr th:only-of-type {\n",
       "        vertical-align: middle;\n",
       "    }\n",
       "\n",
       "    .dataframe tbody tr th {\n",
       "        vertical-align: top;\n",
       "    }\n",
       "\n",
       "    .dataframe thead th {\n",
       "        text-align: right;\n",
       "    }\n",
       "</style>\n",
       "<table border=\"1\" class=\"dataframe\">\n",
       "  <thead>\n",
       "    <tr style=\"text-align: right;\">\n",
       "      <th></th>\n",
       "      <th>jp_sales</th>\n",
       "    </tr>\n",
       "    <tr>\n",
       "      <th>genre</th>\n",
       "      <th></th>\n",
       "    </tr>\n",
       "  </thead>\n",
       "  <tbody>\n",
       "    <tr>\n",
       "      <th>Role-Playing</th>\n",
       "      <td>65.44</td>\n",
       "    </tr>\n",
       "    <tr>\n",
       "      <th>Action</th>\n",
       "      <td>52.80</td>\n",
       "    </tr>\n",
       "    <tr>\n",
       "      <th>Misc</th>\n",
       "      <td>12.86</td>\n",
       "    </tr>\n",
       "    <tr>\n",
       "      <th>Simulation</th>\n",
       "      <td>10.41</td>\n",
       "    </tr>\n",
       "    <tr>\n",
       "      <th>Fighting</th>\n",
       "      <td>9.44</td>\n",
       "    </tr>\n",
       "  </tbody>\n",
       "</table>\n",
       "</div>"
      ],
      "text/plain": [
       "              jp_sales\n",
       "genre                 \n",
       "Role-Playing     65.44\n",
       "Action           52.80\n",
       "Misc             12.86\n",
       "Simulation       10.41\n",
       "Fighting          9.44"
      ]
     },
     "execution_count": 92,
     "metadata": {},
     "output_type": "execute_result"
    }
   ],
   "source": [
    "#сформируем топ-5 жанров для Японии\n",
    "data_jp_genre = data_jp.pivot_table(index='genre', values='jp_sales', aggfunc='sum').sort_values(by='jp_sales', ascending=False).head()\n",
    "data_jp_genre"
   ]
  },
  {
   "cell_type": "markdown",
   "metadata": {},
   "source": [
    "- топ-5 игр для Северной Америки - Action, Shooter, Sports, Role-Playing ,Misc  \n",
    "- топ-5 игр для Европы - Action, Shooter, Sports, Role-Playing, Racing\n",
    "- топ-5 игр для Японии - Role-Playing, Action, Misc, Simulation, Fightinge\n",
    "\n",
    "- предпочтения пользователей в Северной Америке и Европе в большей степени совпадают\n",
    "- предпочтения игроков Японии имеют несколько иной характер - они предпочитают игры более сложные, где присутсвует размышление и более глубокий смысл\n",
    "\n",
    "Посмотрим, как влияет рейтинг игр на продажи"
   ]
  },
  {
   "cell_type": "code",
   "execution_count": 93,
   "metadata": {},
   "outputs": [
    {
     "data": {
      "text/html": [
       "<div>\n",
       "<style scoped>\n",
       "    .dataframe tbody tr th:only-of-type {\n",
       "        vertical-align: middle;\n",
       "    }\n",
       "\n",
       "    .dataframe tbody tr th {\n",
       "        vertical-align: top;\n",
       "    }\n",
       "\n",
       "    .dataframe thead th {\n",
       "        text-align: right;\n",
       "    }\n",
       "</style>\n",
       "<table border=\"1\" class=\"dataframe\">\n",
       "  <thead>\n",
       "    <tr style=\"text-align: right;\">\n",
       "      <th></th>\n",
       "      <th>na_sales</th>\n",
       "    </tr>\n",
       "    <tr>\n",
       "      <th>rating</th>\n",
       "      <th></th>\n",
       "    </tr>\n",
       "  </thead>\n",
       "  <tbody>\n",
       "    <tr>\n",
       "      <th>M</th>\n",
       "      <td>231.57</td>\n",
       "    </tr>\n",
       "    <tr>\n",
       "      <th>E</th>\n",
       "      <td>114.37</td>\n",
       "    </tr>\n",
       "    <tr>\n",
       "      <th>NR</th>\n",
       "      <td>103.31</td>\n",
       "    </tr>\n",
       "    <tr>\n",
       "      <th>E10+</th>\n",
       "      <td>75.70</td>\n",
       "    </tr>\n",
       "    <tr>\n",
       "      <th>T</th>\n",
       "      <td>66.02</td>\n",
       "    </tr>\n",
       "  </tbody>\n",
       "</table>\n",
       "</div>"
      ],
      "text/plain": [
       "        na_sales\n",
       "rating          \n",
       "M         231.57\n",
       "E         114.37\n",
       "NR        103.31\n",
       "E10+       75.70\n",
       "T          66.02"
      ]
     },
     "execution_count": 93,
     "metadata": {},
     "output_type": "execute_result"
    }
   ],
   "source": [
    "#рейтинг игр для Северной Америки\n",
    "data_na_rating = data_na.pivot_table(index='rating', values='na_sales', aggfunc='sum').sort_values(by='na_sales', ascending=False)\n",
    "data_na_rating"
   ]
  },
  {
   "cell_type": "code",
   "execution_count": 94,
   "metadata": {},
   "outputs": [
    {
     "data": {
      "text/html": [
       "<div>\n",
       "<style scoped>\n",
       "    .dataframe tbody tr th:only-of-type {\n",
       "        vertical-align: middle;\n",
       "    }\n",
       "\n",
       "    .dataframe tbody tr th {\n",
       "        vertical-align: top;\n",
       "    }\n",
       "\n",
       "    .dataframe thead th {\n",
       "        text-align: right;\n",
       "    }\n",
       "</style>\n",
       "<table border=\"1\" class=\"dataframe\">\n",
       "  <thead>\n",
       "    <tr style=\"text-align: right;\">\n",
       "      <th></th>\n",
       "      <th>eu_sales</th>\n",
       "    </tr>\n",
       "    <tr>\n",
       "      <th>rating</th>\n",
       "      <th></th>\n",
       "    </tr>\n",
       "  </thead>\n",
       "  <tbody>\n",
       "    <tr>\n",
       "      <th>M</th>\n",
       "      <td>193.96</td>\n",
       "    </tr>\n",
       "    <tr>\n",
       "      <th>E</th>\n",
       "      <td>113.02</td>\n",
       "    </tr>\n",
       "    <tr>\n",
       "      <th>NR</th>\n",
       "      <td>91.50</td>\n",
       "    </tr>\n",
       "    <tr>\n",
       "      <th>E10+</th>\n",
       "      <td>55.37</td>\n",
       "    </tr>\n",
       "    <tr>\n",
       "      <th>T</th>\n",
       "      <td>52.96</td>\n",
       "    </tr>\n",
       "  </tbody>\n",
       "</table>\n",
       "</div>"
      ],
      "text/plain": [
       "        eu_sales\n",
       "rating          \n",
       "M         193.96\n",
       "E         113.02\n",
       "NR         91.50\n",
       "E10+       55.37\n",
       "T          52.96"
      ]
     },
     "execution_count": 94,
     "metadata": {},
     "output_type": "execute_result"
    }
   ],
   "source": [
    "#рейтинг игр для Европы\n",
    "data_eu_rating = data_eu.pivot_table(index='rating', values='eu_sales', aggfunc='sum').sort_values(by='eu_sales', ascending=False)\n",
    "data_eu_rating"
   ]
  },
  {
   "cell_type": "code",
   "execution_count": 95,
   "metadata": {},
   "outputs": [
    {
     "data": {
      "text/html": [
       "<div>\n",
       "<style scoped>\n",
       "    .dataframe tbody tr th:only-of-type {\n",
       "        vertical-align: middle;\n",
       "    }\n",
       "\n",
       "    .dataframe tbody tr th {\n",
       "        vertical-align: top;\n",
       "    }\n",
       "\n",
       "    .dataframe thead th {\n",
       "        text-align: right;\n",
       "    }\n",
       "</style>\n",
       "<table border=\"1\" class=\"dataframe\">\n",
       "  <thead>\n",
       "    <tr style=\"text-align: right;\">\n",
       "      <th></th>\n",
       "      <th>jp_sales</th>\n",
       "    </tr>\n",
       "    <tr>\n",
       "      <th>rating</th>\n",
       "      <th></th>\n",
       "    </tr>\n",
       "  </thead>\n",
       "  <tbody>\n",
       "    <tr>\n",
       "      <th>NR</th>\n",
       "      <td>108.84</td>\n",
       "    </tr>\n",
       "    <tr>\n",
       "      <th>E</th>\n",
       "      <td>28.33</td>\n",
       "    </tr>\n",
       "    <tr>\n",
       "      <th>T</th>\n",
       "      <td>26.02</td>\n",
       "    </tr>\n",
       "    <tr>\n",
       "      <th>M</th>\n",
       "      <td>21.20</td>\n",
       "    </tr>\n",
       "    <tr>\n",
       "      <th>E10+</th>\n",
       "      <td>8.19</td>\n",
       "    </tr>\n",
       "  </tbody>\n",
       "</table>\n",
       "</div>"
      ],
      "text/plain": [
       "        jp_sales\n",
       "rating          \n",
       "NR        108.84\n",
       "E          28.33\n",
       "T          26.02\n",
       "M          21.20\n",
       "E10+        8.19"
      ]
     },
     "execution_count": 95,
     "metadata": {},
     "output_type": "execute_result"
    }
   ],
   "source": [
    "#рейтинг игр для Японии\n",
    "data_jp_rating = data_jp.pivot_table(index='rating', values='jp_sales', aggfunc='sum').sort_values(by='jp_sales', ascending=False)\n",
    "data_jp_rating"
   ]
  },
  {
   "cell_type": "markdown",
   "metadata": {},
   "source": [
    "- для Северной Америки лидируют игры с рейтингом М(для взрослых), Е(для всех), Е10+(для всех от 10 лет и старше), Т(подросткам) и большое количество NR(игр, с неустановленным рейтингом)\n",
    "- для Европы - М(для взрослых), Е(для всех), NR(игры, с неустановленным рейтингом), Е10+(для всех от 10 лет и старше), Т(подросткам) \n",
    "- в Японии лидируют NR(игры, с неустановленным рейтингом), Е(для всех), Т(подросткам), М(для взрослых), Е10+(для всех от 10 лет и старше)\n",
    "\n",
    "- В Европе и Северной Америке схожи интересы пользователей - по большей части это взрослые люди 18+. Учитывая, что в топ-5 игр обоих этих регионов входят шутеры и экшн - зачастую эти игры имеют рейтинг 18+, поэтому результат выглядит вполне логично.\n",
    "- В Японии преимущественно игры без рейтинга, а затем с общим пользованием(и взрослые и дети). Игры для взрослых только на 4 месте, в отличие от остальных двух регионов, где такие игры на первых местах. В целом  в этом регионе разработчики игр ориентируются на подрастающее поколение\n"
   ]
  },
  {
   "cell_type": "markdown",
   "metadata": {},
   "source": [
    "### Проверка гипотез"
   ]
  },
  {
   "cell_type": "markdown",
   "metadata": {},
   "source": [
    "Гипотеза 1. Средние пользовательские рейтинги платформ Xbox One и PC одинаковые\n",
    "\n",
    "Установим нулевую и альтернативную гипотезы - \n",
    "- H_0 : Средние пользовательские рейтинги платформ Xbox One и PC одинаковые\n",
    "- H_a : Средние пользовательские рейтинги платформ Xbox One и PC различаются\n",
    "\n",
    "Будем использовать тест Стьюдента, т.к у нас гипотеза о равенстве двух независимых друг от друга выборок(в нашем случае - рейтинги игроков и жанров)"
   ]
  },
  {
   "cell_type": "code",
   "execution_count": 96,
   "metadata": {},
   "outputs": [],
   "source": [
    "#сначала исключим рейтинги пользователей, пропуски которых мы заменили значением \"-1\" и оставим данные только про платформу XOne\n",
    "user_xone = data_new[(data_new['user_score'] > 0) & (data_new['platform'] == 'XOne')]['user_score']"
   ]
  },
  {
   "cell_type": "code",
   "execution_count": 97,
   "metadata": {},
   "outputs": [],
   "source": [
    "#аналогично и для второй платформы\n",
    "user_pc = data_new[(data_new['user_score'] > 0) & (data_new['platform'] == 'PC')]['user_score']"
   ]
  },
  {
   "cell_type": "code",
   "execution_count": 98,
   "metadata": {},
   "outputs": [
    {
     "name": "stdout",
     "output_type": "stream",
     "text": [
      "p-значение: 0.5535080500643661\n",
      "Не отвергаем нулевую гипотезу\n"
     ]
    }
   ],
   "source": [
    "#проверим гипотезу\n",
    "results = st.ttest_ind(user_xone, user_pc)\n",
    "alpha = 0.05\n",
    "print('p-значение:', results.pvalue)\n",
    "\n",
    "if results.pvalue < alpha:\n",
    "    print('Отвергаем нулевую гипотезу')\n",
    "else:\n",
    "    print('Не отвергаем нулевую гипотезу')"
   ]
  },
  {
   "cell_type": "markdown",
   "metadata": {},
   "source": [
    "Для гипотезы №1 нулевая гипотеза остается актуальной. Можно дополнительно проверить это, посчитав среднее для пользователей Xbox One и PC"
   ]
  },
  {
   "cell_type": "code",
   "execution_count": 99,
   "metadata": {},
   "outputs": [
    {
     "data": {
      "text/plain": [
       "6.521428571428572"
      ]
     },
     "execution_count": 99,
     "metadata": {},
     "output_type": "execute_result"
    }
   ],
   "source": [
    "user_xone.mean()"
   ]
  },
  {
   "cell_type": "code",
   "execution_count": 100,
   "metadata": {},
   "outputs": [
    {
     "data": {
      "text/plain": [
       "6.4286407766990274"
      ]
     },
     "execution_count": 100,
     "metadata": {},
     "output_type": "execute_result"
    }
   ],
   "source": [
    "#для пользователей PC\n",
    "user_pc.mean()"
   ]
  },
  {
   "cell_type": "markdown",
   "metadata": {},
   "source": [
    "Как видим, средние значения рейтинга очень близки по значению друг к другу, что еще раз склоняет нас в сторону нулевой гипотезы - средние пользовательские рейтинги платформ Xbox One и PC одинаковые"
   ]
  },
  {
   "cell_type": "markdown",
   "metadata": {},
   "source": [
    "Гипотеза 2. Средние пользовательские рейтинги жанров Action (англ. «действие», экшен-игры) и Sports (англ. «спортивные соревнования») разные.\n",
    "\n",
    "Установим нулевую и альтернативную гипотезы -\n",
    "\n",
    "- H_0 : Средние пользовательские рейтинги жанров Action и Sports одинаковые\n",
    "- H_a : Средние пользовательские рейтинги жанров Action и Sports различаются"
   ]
  },
  {
   "cell_type": "code",
   "execution_count": 101,
   "metadata": {},
   "outputs": [],
   "source": [
    "#сначала исключим рейтинги пользователей, пропуски которых мы заменили значением \"-1\" и оставим данные только про жанр Action\n",
    "user_action = data_new[(data_new['user_score'] > 0) & (data_new['genre'] == 'Action')]['user_score']"
   ]
  },
  {
   "cell_type": "code",
   "execution_count": 102,
   "metadata": {},
   "outputs": [],
   "source": [
    "#аналогично и для второго жанра Sports\n",
    "user_sports = data_new[(data_new['user_score'] > 0) & (data_new['genre'] == 'Sports')]['user_score']"
   ]
  },
  {
   "cell_type": "code",
   "execution_count": 103,
   "metadata": {},
   "outputs": [
    {
     "name": "stdout",
     "output_type": "stream",
     "text": [
      "p-значение: 4.8045233804629176e-26\n",
      "Отвергаем нулевую гипотезу\n"
     ]
    }
   ],
   "source": [
    "#проверим гипотезу\n",
    "results = st.ttest_ind(user_action, user_sports)\n",
    "alpha = 0.05\n",
    "print('p-значение:', results.pvalue)\n",
    "\n",
    "if results.pvalue < alpha:\n",
    "    print('Отвергаем нулевую гипотезу')\n",
    "else:\n",
    "    print('Не отвергаем нулевую гипотезу')"
   ]
  },
  {
   "cell_type": "markdown",
   "metadata": {},
   "source": [
    "Для гипотезы №2 нулевая гипотеза не подтверждается, это значит что разница между рейтингами всё же возможна. Можем аналогично проверить как и гипотезу №1"
   ]
  },
  {
   "cell_type": "code",
   "execution_count": 104,
   "metadata": {},
   "outputs": [
    {
     "data": {
      "text/plain": [
       "6.825047801147227"
      ]
     },
     "execution_count": 104,
     "metadata": {},
     "output_type": "execute_result"
    }
   ],
   "source": [
    "#для жанра Action\n",
    "user_action.mean()"
   ]
  },
  {
   "cell_type": "code",
   "execution_count": 105,
   "metadata": {},
   "outputs": [
    {
     "data": {
      "text/plain": [
       "5.455670103092784"
      ]
     },
     "execution_count": 105,
     "metadata": {},
     "output_type": "execute_result"
    }
   ],
   "source": [
    "#для жанра Sports\n",
    "user_sports.mean()"
   ]
  },
  {
   "cell_type": "markdown",
   "metadata": {},
   "source": [
    "Как мы видим, значения действительно довольно разные. Однако у нас нет достаточных оснований для того, чтобы отвергнуть или принять альтернативную гипотезу "
   ]
  },
  {
   "cell_type": "markdown",
   "metadata": {},
   "source": [
    "## Общий вывод"
   ]
  },
  {
   "cell_type": "markdown",
   "metadata": {},
   "source": [
    "В данном проекте было проведено исследование: Интернет-магазин «Стримчик» продаёт по всему миру компьютерные игры. Из открытых источников доступны исторические данные о продажах игр, оценки пользователей и экспертов, жанры и платформы (например, Xbox или PlayStation).\n",
    "\n",
    "Необходимо выявить определяющие успешность игры закономерности. Это позволит сделать ставку на потенциально популярный продукт и спланировать рекламные кампании. \n",
    "\n",
    "1. Был открыт файл с данными и изучена общая информация\n",
    "2. Была выполнена предобработка данных: анализ, изменение типов данных, обработка пропусков.В результате предобработки был сохранен датафрейм на 99%.\n",
    "3. Добавлены новые столбцы с новыми параметрами\n",
    "4. Проведен исследовательский анализ данных:\n",
    " - сколько игр выпускалось в разные годы. Рост количества игр начался с 1990 года до 2008 и затем произошел довольно резкий спад. \n",
    " - как менялись продажи по платформам. С большим отрывом лидирует Sony PlayStation2. На втором месте X-Box360, затем Sony PlayStation3 и Wii. Затем за ними следуют DS и PS. В среднем каждая из игровых платформ существует около 10 лет. А пик продаж у каждой приходится в среднем на 4-5 год после выпуска. Учитывая эти моменты, на будущую часть исследования в качестве актуального периода будет период начиная с 2012 года - так можно будет проследить динамику развития платформ,пик продаж которых может произойти на 2017 год.\n",
    " - потенциально прибыльные платформы.Это платформы: PS4, XOne, PSV. Однако, это не значит, что эти платформы будут в топе и на 2017 год\n",
    " - постройте график «ящик с усами» по глобальным продажам игр в разбивке по платформам.\n",
    "   - наиболее прибыльная платформа за актуальный период это XOne, прибыль от продаж составляет примерно 450 тысяч долларов, а медианное значение составляет около 190 тысяч долларов\n",
    "   - на втором месте PS4 с прибылью около 350 тысяч долларов и с медианным значением примерно 100 тысяч долларов\n",
    "   - у PSV значения отличаются на порядок от остальных двух платформ. Прибыль составляет примерно 100 тысяч долларов\n",
    " - как влияют на продажи внутри одной популярной платформы отзывы пользователей и критиков.  Для платформы XOne количество продаж зависит от оценок критиков (0.43 коэф. корр-ии) достаточно сильно. А продажи от оценок пользоваталей имеют меньшую зависимость - 0.07 .\n",
    "     Что касается платформ, находящихся на 2 и 3 месте:\n",
    "   - у платформы \"PS4\" зависимость продаж от мнения критиков составила 0.27, а от мнения пользователей - 0.016.\n",
    "   - У платформы \"PSV\" самые низкие показатели зависимости продаж от оценок критиков 0,094, а пользователей и того меньше -0,004.\n",
    " - распределение игр по жанрам. Наиболее успешные в продажах жанры игр это шутеры(Shooter), платформы(Platform), спортивные игры(Sports) и ролевые(Role-Playing)\n",
    "4. Составлен портрет пользователя каждого региона\n",
    "  - топ-5 игр для Северной Америки - Action, Shooter, Sports, Role-Playing ,Misc\n",
    "  - топ-5 игр для Европы - Action, Shooter, Sports, Role-Playing, Racing\n",
    "  - топ-5 игр для Японии - Role-Playing, Action, Misc, Simulation, Fightinge\n",
    "\n",
    "  - для Северной Америки лидируют игры с рейтингом М(для взрослых), Е(для всех), Е10+(для всех от 10 лет и старше), Т(подросткам) и большое количество NR(игр, с неустановленным рейтингом)\n",
    "  - для Европы - М(для взрослых), Е(для всех), NR(игры, с неустановленным рейтингом), Е10+(для всех от 10 лет и старше), Т(подросткам) \n",
    "  - в Японии лидируют NR(игры, с неустановленным рейтингом), Е(для всех), Т(подросткам), М(для взрослых), Е10+(для всех от 10 лет и старше)\n",
    "5. Проверены гипотезы.\n",
    " - Гипотеза 1. Средние пользовательские рейтинги платформ Xbox One и PC одинаковые\n",
    " \n",
    "Для гипотезы №1 нулевая гипотеза остается актуальной - средние пользовательские рейтинги платформ Xbox One и PC одинаковые\n",
    "  - Гипотеза 2. Средние пользовательские рейтинги жанров Action (англ. «действие», экшен-игры) и Sports (англ. «спортивные соревнования») разные\n",
    "  \n",
    "Для гипотезы №2 нулевая гипотеза не подтверждается, это значит что разница между рейтингами всё же возможна"
   ]
  },
  {
   "cell_type": "code",
   "execution_count": null,
   "metadata": {},
   "outputs": [],
   "source": []
  }
 ],
 "metadata": {
  "ExecuteTimeLog": [
   {
    "duration": 1609,
    "start_time": "2023-04-17T09:14:55.748Z"
   },
   {
    "duration": 248,
    "start_time": "2023-04-17T09:15:25.715Z"
   },
   {
    "duration": 211,
    "start_time": "2023-04-17T09:15:38.006Z"
   },
   {
    "duration": 42,
    "start_time": "2023-04-17T09:15:47.469Z"
   },
   {
    "duration": 57,
    "start_time": "2023-04-17T09:16:27.041Z"
   },
   {
    "duration": 35,
    "start_time": "2023-04-17T09:17:59.503Z"
   },
   {
    "duration": 6,
    "start_time": "2023-04-17T09:21:00.604Z"
   },
   {
    "duration": 25,
    "start_time": "2023-04-17T09:23:23.318Z"
   },
   {
    "duration": 24,
    "start_time": "2023-04-17T09:24:44.568Z"
   },
   {
    "duration": 6,
    "start_time": "2023-04-17T09:25:32.995Z"
   },
   {
    "duration": 16,
    "start_time": "2023-04-17T09:25:42.619Z"
   },
   {
    "duration": 6,
    "start_time": "2023-04-17T09:27:56.917Z"
   },
   {
    "duration": 18,
    "start_time": "2023-04-17T09:28:17.514Z"
   },
   {
    "duration": 18,
    "start_time": "2023-04-17T09:29:28.771Z"
   },
   {
    "duration": 18,
    "start_time": "2023-04-17T09:29:53.463Z"
   },
   {
    "duration": 19,
    "start_time": "2023-04-17T09:31:26.692Z"
   },
   {
    "duration": 15,
    "start_time": "2023-04-17T09:31:38.229Z"
   },
   {
    "duration": 6,
    "start_time": "2023-04-17T09:33:32.368Z"
   },
   {
    "duration": 28,
    "start_time": "2023-04-17T09:33:37.492Z"
   },
   {
    "duration": 1019,
    "start_time": "2023-04-17T09:33:56.387Z"
   },
   {
    "duration": 72,
    "start_time": "2023-04-17T09:33:57.909Z"
   },
   {
    "duration": 39,
    "start_time": "2023-04-17T09:33:58.888Z"
   },
   {
    "duration": 42,
    "start_time": "2023-04-17T09:34:00.075Z"
   },
   {
    "duration": 30,
    "start_time": "2023-04-17T09:34:02.482Z"
   },
   {
    "duration": 5,
    "start_time": "2023-04-17T09:34:04.010Z"
   },
   {
    "duration": 5,
    "start_time": "2023-04-17T09:34:06.012Z"
   },
   {
    "duration": 34,
    "start_time": "2023-04-17T09:34:06.680Z"
   },
   {
    "duration": 36,
    "start_time": "2023-04-17T09:36:17.339Z"
   },
   {
    "duration": 8,
    "start_time": "2023-04-17T09:36:30.641Z"
   },
   {
    "duration": 13,
    "start_time": "2023-04-17T09:36:47.463Z"
   },
   {
    "duration": 111,
    "start_time": "2023-04-17T09:38:43.177Z"
   },
   {
    "duration": 8,
    "start_time": "2023-04-17T09:39:12.171Z"
   },
   {
    "duration": 34,
    "start_time": "2023-04-17T09:39:15.730Z"
   },
   {
    "duration": 7,
    "start_time": "2023-04-17T09:39:26.220Z"
   },
   {
    "duration": 28,
    "start_time": "2023-04-17T09:39:27.928Z"
   },
   {
    "duration": 6,
    "start_time": "2023-04-17T09:39:32.879Z"
   },
   {
    "duration": 38,
    "start_time": "2023-04-17T09:39:34.534Z"
   },
   {
    "duration": 10,
    "start_time": "2023-04-17T09:42:55.599Z"
   },
   {
    "duration": 14,
    "start_time": "2023-04-17T09:43:21.069Z"
   },
   {
    "duration": 17,
    "start_time": "2023-04-17T09:43:39.633Z"
   },
   {
    "duration": 27,
    "start_time": "2023-04-17T09:43:42.131Z"
   },
   {
    "duration": 24,
    "start_time": "2023-04-17T09:45:30.802Z"
   },
   {
    "duration": 18,
    "start_time": "2023-04-17T09:59:00.716Z"
   },
   {
    "duration": 29,
    "start_time": "2023-04-17T10:02:29.315Z"
   },
   {
    "duration": 48,
    "start_time": "2023-04-17T10:04:26.363Z"
   },
   {
    "duration": 9,
    "start_time": "2023-04-17T10:08:40.732Z"
   },
   {
    "duration": 20,
    "start_time": "2023-04-17T10:08:46.670Z"
   },
   {
    "duration": 15,
    "start_time": "2023-04-17T10:08:54.621Z"
   },
   {
    "duration": 85,
    "start_time": "2023-04-17T10:09:26.533Z"
   },
   {
    "duration": 160,
    "start_time": "2023-04-17T10:35:42.605Z"
   },
   {
    "duration": 12,
    "start_time": "2023-04-17T10:35:48.413Z"
   },
   {
    "duration": 45,
    "start_time": "2023-04-17T10:35:55.931Z"
   },
   {
    "duration": 408,
    "start_time": "2023-04-17T10:36:43.212Z"
   },
   {
    "duration": 11,
    "start_time": "2023-04-17T10:36:47.368Z"
   },
   {
    "duration": 24,
    "start_time": "2023-04-17T10:47:35.271Z"
   },
   {
    "duration": 16,
    "start_time": "2023-04-17T10:48:08.864Z"
   },
   {
    "duration": 958,
    "start_time": "2023-04-17T13:03:43.376Z"
   },
   {
    "duration": 61,
    "start_time": "2023-04-17T13:03:45.170Z"
   },
   {
    "duration": 35,
    "start_time": "2023-04-17T13:03:45.714Z"
   },
   {
    "duration": 31,
    "start_time": "2023-04-17T13:03:46.825Z"
   },
   {
    "duration": 21,
    "start_time": "2023-04-17T13:03:49.338Z"
   },
   {
    "duration": 5,
    "start_time": "2023-04-17T13:03:53.905Z"
   },
   {
    "duration": 5,
    "start_time": "2023-04-17T13:03:57.106Z"
   },
   {
    "duration": 18,
    "start_time": "2023-04-17T13:03:57.710Z"
   },
   {
    "duration": 15,
    "start_time": "2023-04-17T13:03:59.319Z"
   },
   {
    "duration": 7,
    "start_time": "2023-04-17T13:04:00.316Z"
   },
   {
    "duration": 6,
    "start_time": "2023-04-17T13:04:00.715Z"
   },
   {
    "duration": 15,
    "start_time": "2023-04-17T13:04:01.105Z"
   },
   {
    "duration": 21,
    "start_time": "2023-04-17T13:04:01.473Z"
   },
   {
    "duration": 17,
    "start_time": "2023-04-17T13:04:03.655Z"
   },
   {
    "duration": 18,
    "start_time": "2023-04-17T13:04:04.970Z"
   },
   {
    "duration": 7,
    "start_time": "2023-04-17T13:04:07.105Z"
   },
   {
    "duration": 31,
    "start_time": "2023-04-17T13:04:08.011Z"
   },
   {
    "duration": 406,
    "start_time": "2023-04-17T13:04:13.271Z"
   },
   {
    "duration": 15,
    "start_time": "2023-04-17T13:04:14.662Z"
   },
   {
    "duration": 6,
    "start_time": "2023-04-17T13:08:40.725Z"
   },
   {
    "duration": 16,
    "start_time": "2023-04-17T13:08:50.598Z"
   },
   {
    "duration": 40,
    "start_time": "2023-04-17T13:12:42.809Z"
   },
   {
    "duration": 14,
    "start_time": "2023-04-17T13:13:01.197Z"
   },
   {
    "duration": 4,
    "start_time": "2023-04-17T13:16:08.573Z"
   },
   {
    "duration": 811,
    "start_time": "2023-04-17T13:16:19.376Z"
   },
   {
    "duration": 64,
    "start_time": "2023-04-17T13:16:20.190Z"
   },
   {
    "duration": 43,
    "start_time": "2023-04-17T13:16:20.571Z"
   },
   {
    "duration": 42,
    "start_time": "2023-04-17T13:16:21.707Z"
   },
   {
    "duration": 31,
    "start_time": "2023-04-17T13:16:25.233Z"
   },
   {
    "duration": 6,
    "start_time": "2023-04-17T13:16:27.276Z"
   },
   {
    "duration": 4,
    "start_time": "2023-04-17T13:16:28.797Z"
   },
   {
    "duration": 24,
    "start_time": "2023-04-17T13:16:29.238Z"
   },
   {
    "duration": 16,
    "start_time": "2023-04-17T13:16:31.105Z"
   },
   {
    "duration": 5,
    "start_time": "2023-04-17T13:16:32.131Z"
   },
   {
    "duration": 5,
    "start_time": "2023-04-17T13:16:33.302Z"
   },
   {
    "duration": 14,
    "start_time": "2023-04-17T13:16:33.868Z"
   },
   {
    "duration": 17,
    "start_time": "2023-04-17T13:16:34.396Z"
   },
   {
    "duration": 10,
    "start_time": "2023-04-17T13:16:36.899Z"
   },
   {
    "duration": 17,
    "start_time": "2023-04-17T13:16:38.724Z"
   },
   {
    "duration": 5,
    "start_time": "2023-04-17T13:16:40.787Z"
   },
   {
    "duration": 25,
    "start_time": "2023-04-17T13:16:42.115Z"
   },
   {
    "duration": 492,
    "start_time": "2023-04-17T13:16:44.639Z"
   },
   {
    "duration": 9,
    "start_time": "2023-04-17T13:16:45.800Z"
   },
   {
    "duration": 113,
    "start_time": "2023-04-17T13:19:47.416Z"
   },
   {
    "duration": 7,
    "start_time": "2023-04-17T13:20:04.906Z"
   },
   {
    "duration": 26,
    "start_time": "2023-04-17T13:20:09.236Z"
   },
   {
    "duration": 17,
    "start_time": "2023-04-17T13:20:18.215Z"
   },
   {
    "duration": 3,
    "start_time": "2023-04-17T13:20:21.915Z"
   },
   {
    "duration": 10,
    "start_time": "2023-04-17T13:20:23.407Z"
   },
   {
    "duration": 930,
    "start_time": "2023-04-17T13:20:32.910Z"
   },
   {
    "duration": 72,
    "start_time": "2023-04-17T13:20:33.847Z"
   },
   {
    "duration": 31,
    "start_time": "2023-04-17T13:20:33.920Z"
   },
   {
    "duration": 23,
    "start_time": "2023-04-17T13:20:35.510Z"
   },
   {
    "duration": 20,
    "start_time": "2023-04-17T13:20:37.471Z"
   },
   {
    "duration": 4,
    "start_time": "2023-04-17T13:20:39.111Z"
   },
   {
    "duration": 9,
    "start_time": "2023-04-17T13:20:40.275Z"
   },
   {
    "duration": 16,
    "start_time": "2023-04-17T13:20:40.714Z"
   },
   {
    "duration": 47,
    "start_time": "2023-04-17T13:20:42.338Z"
   },
   {
    "duration": 6,
    "start_time": "2023-04-17T13:20:43.207Z"
   },
   {
    "duration": 8,
    "start_time": "2023-04-17T13:20:43.863Z"
   },
   {
    "duration": 9,
    "start_time": "2023-04-17T13:20:44.308Z"
   },
   {
    "duration": 19,
    "start_time": "2023-04-17T13:20:44.731Z"
   },
   {
    "duration": 21,
    "start_time": "2023-04-17T13:20:46.366Z"
   },
   {
    "duration": 17,
    "start_time": "2023-04-17T13:20:50.215Z"
   },
   {
    "duration": 7,
    "start_time": "2023-04-17T13:20:51.829Z"
   },
   {
    "duration": 32,
    "start_time": "2023-04-17T13:20:52.267Z"
   },
   {
    "duration": 471,
    "start_time": "2023-04-17T13:20:53.924Z"
   },
   {
    "duration": 20,
    "start_time": "2023-04-17T13:20:54.435Z"
   },
   {
    "duration": 9,
    "start_time": "2023-04-17T13:23:58.418Z"
   },
   {
    "duration": 20,
    "start_time": "2023-04-17T13:24:03.355Z"
   },
   {
    "duration": 9,
    "start_time": "2023-04-17T13:24:43.317Z"
   },
   {
    "duration": 17,
    "start_time": "2023-04-17T13:25:47.841Z"
   },
   {
    "duration": 786,
    "start_time": "2023-04-17T13:29:46.733Z"
   },
   {
    "duration": 71,
    "start_time": "2023-04-17T13:29:47.521Z"
   },
   {
    "duration": 40,
    "start_time": "2023-04-17T13:29:47.616Z"
   },
   {
    "duration": 23,
    "start_time": "2023-04-17T13:29:48.914Z"
   },
   {
    "duration": 27,
    "start_time": "2023-04-17T13:29:50.823Z"
   },
   {
    "duration": 6,
    "start_time": "2023-04-17T13:29:52.466Z"
   },
   {
    "duration": 4,
    "start_time": "2023-04-17T13:29:54.422Z"
   },
   {
    "duration": 22,
    "start_time": "2023-04-17T13:29:54.827Z"
   },
   {
    "duration": 24,
    "start_time": "2023-04-17T13:29:58.038Z"
   },
   {
    "duration": 7,
    "start_time": "2023-04-17T13:29:59.025Z"
   },
   {
    "duration": 6,
    "start_time": "2023-04-17T13:29:59.518Z"
   },
   {
    "duration": 8,
    "start_time": "2023-04-17T13:30:00.418Z"
   },
   {
    "duration": 83,
    "start_time": "2023-04-17T13:39:26.220Z"
   },
   {
    "duration": 805,
    "start_time": "2023-04-17T13:39:55.930Z"
   },
   {
    "duration": 60,
    "start_time": "2023-04-17T13:39:56.952Z"
   },
   {
    "duration": 34,
    "start_time": "2023-04-17T13:39:57.936Z"
   },
   {
    "duration": 32,
    "start_time": "2023-04-17T13:39:58.835Z"
   },
   {
    "duration": 19,
    "start_time": "2023-04-17T13:40:01.353Z"
   },
   {
    "duration": 4,
    "start_time": "2023-04-17T13:40:03.306Z"
   },
   {
    "duration": 4,
    "start_time": "2023-04-17T13:40:04.678Z"
   },
   {
    "duration": 17,
    "start_time": "2023-04-17T13:40:05.310Z"
   },
   {
    "duration": 22,
    "start_time": "2023-04-17T13:40:07.861Z"
   },
   {
    "duration": 7,
    "start_time": "2023-04-17T13:40:09.233Z"
   },
   {
    "duration": 5,
    "start_time": "2023-04-17T13:40:09.497Z"
   },
   {
    "duration": 7,
    "start_time": "2023-04-17T13:40:09.927Z"
   },
   {
    "duration": 5,
    "start_time": "2023-04-17T13:40:12.434Z"
   },
   {
    "duration": 9,
    "start_time": "2023-04-17T13:40:51.127Z"
   },
   {
    "duration": 17,
    "start_time": "2023-04-17T13:40:52.455Z"
   },
   {
    "duration": 11,
    "start_time": "2023-04-17T13:40:56.922Z"
   },
   {
    "duration": 20,
    "start_time": "2023-04-17T13:40:58.619Z"
   },
   {
    "duration": 8,
    "start_time": "2023-04-17T13:41:00.663Z"
   },
   {
    "duration": 28,
    "start_time": "2023-04-17T13:41:01.364Z"
   },
   {
    "duration": 380,
    "start_time": "2023-04-17T13:41:03.877Z"
   },
   {
    "duration": 11,
    "start_time": "2023-04-17T13:41:04.965Z"
   },
   {
    "duration": 11,
    "start_time": "2023-04-17T13:41:08.153Z"
   },
   {
    "duration": 13,
    "start_time": "2023-04-17T13:41:09.524Z"
   },
   {
    "duration": 6,
    "start_time": "2023-04-17T13:41:12.565Z"
   },
   {
    "duration": 1917,
    "start_time": "2023-04-17T13:41:25.855Z"
   },
   {
    "duration": 6,
    "start_time": "2023-04-17T13:41:35.834Z"
   },
   {
    "duration": 59,
    "start_time": "2023-04-17T15:09:07.916Z"
   },
   {
    "duration": 4,
    "start_time": "2023-04-17T15:09:22.929Z"
   },
   {
    "duration": 2716,
    "start_time": "2023-04-17T15:09:45.100Z"
   },
   {
    "duration": 3239,
    "start_time": "2023-04-17T15:12:52.002Z"
   },
   {
    "duration": 0,
    "start_time": "2023-04-17T15:12:55.245Z"
   },
   {
    "duration": 837,
    "start_time": "2023-04-17T15:13:11.894Z"
   },
   {
    "duration": 87,
    "start_time": "2023-04-17T15:13:12.733Z"
   },
   {
    "duration": 29,
    "start_time": "2023-04-17T15:13:13.098Z"
   },
   {
    "duration": 24,
    "start_time": "2023-04-17T15:13:14.197Z"
   },
   {
    "duration": 29,
    "start_time": "2023-04-17T15:13:16.394Z"
   },
   {
    "duration": 4,
    "start_time": "2023-04-17T15:13:17.916Z"
   },
   {
    "duration": 5,
    "start_time": "2023-04-17T15:13:19.493Z"
   },
   {
    "duration": 41,
    "start_time": "2023-04-17T15:13:19.944Z"
   },
   {
    "duration": 25,
    "start_time": "2023-04-17T15:13:22.095Z"
   },
   {
    "duration": 8,
    "start_time": "2023-04-17T15:13:22.986Z"
   },
   {
    "duration": 6,
    "start_time": "2023-04-17T15:13:23.394Z"
   },
   {
    "duration": 6,
    "start_time": "2023-04-17T15:13:23.814Z"
   },
   {
    "duration": 5,
    "start_time": "2023-04-17T15:13:25.602Z"
   },
   {
    "duration": 8,
    "start_time": "2023-04-17T15:13:26.091Z"
   },
   {
    "duration": 17,
    "start_time": "2023-04-17T15:13:26.496Z"
   },
   {
    "duration": 13,
    "start_time": "2023-04-17T15:13:27.998Z"
   },
   {
    "duration": 20,
    "start_time": "2023-04-17T15:13:29.798Z"
   },
   {
    "duration": 7,
    "start_time": "2023-04-17T15:13:31.112Z"
   },
   {
    "duration": 27,
    "start_time": "2023-04-17T15:13:31.595Z"
   },
   {
    "duration": 486,
    "start_time": "2023-04-17T15:13:33.690Z"
   },
   {
    "duration": 27,
    "start_time": "2023-04-17T15:13:34.178Z"
   },
   {
    "duration": 8,
    "start_time": "2023-04-17T15:13:36.095Z"
   },
   {
    "duration": 23,
    "start_time": "2023-04-17T15:13:36.872Z"
   },
   {
    "duration": 7,
    "start_time": "2023-04-17T15:13:37.817Z"
   },
   {
    "duration": 19,
    "start_time": "2023-04-17T15:13:39.566Z"
   },
   {
    "duration": 9,
    "start_time": "2023-04-17T15:13:41.280Z"
   },
   {
    "duration": 26,
    "start_time": "2023-04-17T15:13:49.429Z"
   },
   {
    "duration": 9,
    "start_time": "2023-04-17T15:15:04.787Z"
   },
   {
    "duration": 885,
    "start_time": "2023-04-17T17:46:11.543Z"
   },
   {
    "duration": 204,
    "start_time": "2023-04-17T17:46:13.433Z"
   },
   {
    "duration": 25,
    "start_time": "2023-04-17T17:46:14.108Z"
   },
   {
    "duration": 21,
    "start_time": "2023-04-17T17:46:15.469Z"
   },
   {
    "duration": 21,
    "start_time": "2023-04-17T17:46:21.080Z"
   },
   {
    "duration": 26,
    "start_time": "2023-04-17T17:46:22.447Z"
   },
   {
    "duration": 4,
    "start_time": "2023-04-17T17:46:25.497Z"
   },
   {
    "duration": 4,
    "start_time": "2023-04-17T17:46:34.603Z"
   },
   {
    "duration": 16,
    "start_time": "2023-04-17T17:46:35.894Z"
   },
   {
    "duration": 12,
    "start_time": "2023-04-17T17:46:38.196Z"
   },
   {
    "duration": 4,
    "start_time": "2023-04-17T17:46:38.922Z"
   },
   {
    "duration": 5,
    "start_time": "2023-04-17T17:46:39.437Z"
   },
   {
    "duration": 7,
    "start_time": "2023-04-17T17:46:39.882Z"
   },
   {
    "duration": 6,
    "start_time": "2023-04-17T17:46:41.595Z"
   },
   {
    "duration": 7,
    "start_time": "2023-04-17T17:46:42.080Z"
   },
   {
    "duration": 13,
    "start_time": "2023-04-17T17:46:42.498Z"
   },
   {
    "duration": 9,
    "start_time": "2023-04-17T17:46:44.509Z"
   },
   {
    "duration": 18,
    "start_time": "2023-04-17T17:46:46.194Z"
   },
   {
    "duration": 6,
    "start_time": "2023-04-17T17:46:47.532Z"
   },
   {
    "duration": 22,
    "start_time": "2023-04-17T17:46:47.996Z"
   },
   {
    "duration": 383,
    "start_time": "2023-04-17T17:46:49.594Z"
   },
   {
    "duration": 13,
    "start_time": "2023-04-17T17:46:50.051Z"
   },
   {
    "duration": 7,
    "start_time": "2023-04-17T17:46:52.036Z"
   },
   {
    "duration": 9,
    "start_time": "2023-04-17T17:46:52.502Z"
   },
   {
    "duration": 5,
    "start_time": "2023-04-17T17:46:54.072Z"
   },
   {
    "duration": 3,
    "start_time": "2023-04-17T17:46:56.239Z"
   },
   {
    "duration": 3,
    "start_time": "2023-04-17T17:46:56.895Z"
   },
   {
    "duration": 5,
    "start_time": "2023-04-17T17:46:57.856Z"
   },
   {
    "duration": 6,
    "start_time": "2023-04-17T17:52:46.997Z"
   },
   {
    "duration": 11,
    "start_time": "2023-04-17T17:52:55.630Z"
   },
   {
    "duration": 111,
    "start_time": "2023-04-17T17:56:07.447Z"
   },
   {
    "duration": 15,
    "start_time": "2023-04-17T17:57:48.702Z"
   },
   {
    "duration": 5,
    "start_time": "2023-04-17T17:59:33.407Z"
   },
   {
    "duration": 25,
    "start_time": "2023-04-17T17:59:44.150Z"
   },
   {
    "duration": 20,
    "start_time": "2023-04-17T18:00:46.773Z"
   },
   {
    "duration": 16,
    "start_time": "2023-04-17T18:00:53.641Z"
   },
   {
    "duration": 8,
    "start_time": "2023-04-17T18:04:28.745Z"
   },
   {
    "duration": 4,
    "start_time": "2023-04-17T18:04:45.499Z"
   },
   {
    "duration": 10,
    "start_time": "2023-04-17T18:14:30.299Z"
   },
   {
    "duration": 5,
    "start_time": "2023-04-17T18:14:45.329Z"
   },
   {
    "duration": 793,
    "start_time": "2023-04-17T18:21:47.207Z"
   },
   {
    "duration": 646,
    "start_time": "2023-04-17T18:22:36.449Z"
   },
   {
    "duration": 53,
    "start_time": "2023-04-17T18:22:37.098Z"
   },
   {
    "duration": 24,
    "start_time": "2023-04-17T18:22:37.498Z"
   },
   {
    "duration": 20,
    "start_time": "2023-04-17T18:22:38.616Z"
   },
   {
    "duration": 15,
    "start_time": "2023-04-17T18:22:40.529Z"
   },
   {
    "duration": 4,
    "start_time": "2023-04-17T18:22:42.652Z"
   },
   {
    "duration": 3,
    "start_time": "2023-04-17T18:22:44.410Z"
   },
   {
    "duration": 15,
    "start_time": "2023-04-17T18:22:44.901Z"
   },
   {
    "duration": 13,
    "start_time": "2023-04-17T18:22:46.384Z"
   },
   {
    "duration": 6,
    "start_time": "2023-04-17T18:22:46.993Z"
   },
   {
    "duration": 5,
    "start_time": "2023-04-17T18:22:47.410Z"
   },
   {
    "duration": 8,
    "start_time": "2023-04-17T18:22:47.884Z"
   },
   {
    "duration": 5,
    "start_time": "2023-04-17T18:22:50.324Z"
   },
   {
    "duration": 7,
    "start_time": "2023-04-17T18:22:50.726Z"
   },
   {
    "duration": 13,
    "start_time": "2023-04-17T18:22:51.134Z"
   },
   {
    "duration": 12,
    "start_time": "2023-04-17T18:22:52.796Z"
   },
   {
    "duration": 23,
    "start_time": "2023-04-17T18:22:54.009Z"
   },
   {
    "duration": 6,
    "start_time": "2023-04-17T18:22:55.284Z"
   },
   {
    "duration": 23,
    "start_time": "2023-04-17T18:22:55.686Z"
   },
   {
    "duration": 381,
    "start_time": "2023-04-17T18:22:57.108Z"
   },
   {
    "duration": 13,
    "start_time": "2023-04-17T18:22:57.507Z"
   },
   {
    "duration": 7,
    "start_time": "2023-04-17T18:22:59.119Z"
   },
   {
    "duration": 20,
    "start_time": "2023-04-17T18:22:59.132Z"
   },
   {
    "duration": 7,
    "start_time": "2023-04-17T18:22:59.856Z"
   },
   {
    "duration": 5,
    "start_time": "2023-04-17T18:23:01.542Z"
   },
   {
    "duration": 4,
    "start_time": "2023-04-17T18:23:01.996Z"
   },
   {
    "duration": 27,
    "start_time": "2023-04-17T18:23:02.011Z"
   },
   {
    "duration": 6,
    "start_time": "2023-04-17T18:23:02.911Z"
   },
   {
    "duration": 10,
    "start_time": "2023-04-17T18:23:03.311Z"
   },
   {
    "duration": 18,
    "start_time": "2023-04-17T18:23:04.850Z"
   },
   {
    "duration": 5,
    "start_time": "2023-04-17T18:23:05.442Z"
   },
   {
    "duration": 17,
    "start_time": "2023-04-17T18:23:05.919Z"
   },
   {
    "duration": 4,
    "start_time": "2023-04-17T18:23:07.218Z"
   },
   {
    "duration": 8,
    "start_time": "2023-04-17T18:23:09.125Z"
   },
   {
    "duration": 891,
    "start_time": "2023-04-17T18:23:10.091Z"
   },
   {
    "duration": 27,
    "start_time": "2023-04-17T18:23:33.117Z"
   },
   {
    "duration": 347,
    "start_time": "2023-04-17T18:23:50.084Z"
   },
   {
    "duration": 553,
    "start_time": "2023-04-17T18:25:00.913Z"
   },
   {
    "duration": 222,
    "start_time": "2023-04-17T18:25:25.332Z"
   },
   {
    "duration": 9,
    "start_time": "2023-04-17T18:31:37.385Z"
   },
   {
    "duration": 202,
    "start_time": "2023-04-17T18:31:53.247Z"
   },
   {
    "duration": 140,
    "start_time": "2023-04-17T18:32:11.778Z"
   },
   {
    "duration": 149,
    "start_time": "2023-04-17T18:32:20.128Z"
   },
   {
    "duration": 208,
    "start_time": "2023-04-17T18:37:17.380Z"
   },
   {
    "duration": 206,
    "start_time": "2023-04-17T18:37:48.200Z"
   },
   {
    "duration": 128,
    "start_time": "2023-04-17T18:46:52.300Z"
   },
   {
    "duration": 14,
    "start_time": "2023-04-17T18:47:02.019Z"
   },
   {
    "duration": 121,
    "start_time": "2023-04-17T18:48:42.730Z"
   },
   {
    "duration": 13,
    "start_time": "2023-04-17T18:48:44.005Z"
   },
   {
    "duration": 14,
    "start_time": "2023-04-17T18:49:30.912Z"
   },
   {
    "duration": 204,
    "start_time": "2023-04-17T18:50:50.856Z"
   },
   {
    "duration": 48,
    "start_time": "2023-04-17T18:51:38.509Z"
   },
   {
    "duration": 15,
    "start_time": "2023-04-17T18:51:49.008Z"
   },
   {
    "duration": 17,
    "start_time": "2023-04-17T18:51:53.158Z"
   },
   {
    "duration": 160,
    "start_time": "2023-04-17T18:52:05.948Z"
   },
   {
    "duration": 277,
    "start_time": "2023-04-17T18:54:14.005Z"
   },
   {
    "duration": 274,
    "start_time": "2023-04-17T18:54:24.176Z"
   },
   {
    "duration": 185,
    "start_time": "2023-04-17T18:56:50.936Z"
   },
   {
    "duration": 167,
    "start_time": "2023-04-17T18:56:57.908Z"
   },
   {
    "duration": 394,
    "start_time": "2023-04-17T18:57:41.750Z"
   },
   {
    "duration": 394,
    "start_time": "2023-04-17T18:58:11.200Z"
   },
   {
    "duration": 11,
    "start_time": "2023-04-17T19:30:39.903Z"
   },
   {
    "duration": 265,
    "start_time": "2023-04-17T19:31:08.703Z"
   },
   {
    "duration": 7,
    "start_time": "2023-04-17T19:31:26.429Z"
   },
   {
    "duration": 11,
    "start_time": "2023-04-17T19:31:59.800Z"
   },
   {
    "duration": 7,
    "start_time": "2023-04-17T19:32:02.147Z"
   },
   {
    "duration": 13,
    "start_time": "2023-04-17T19:33:43.510Z"
   },
   {
    "duration": 11,
    "start_time": "2023-04-17T19:33:47.995Z"
   },
   {
    "duration": 10,
    "start_time": "2023-04-17T19:33:57.550Z"
   },
   {
    "duration": 173,
    "start_time": "2023-04-17T19:34:59.334Z"
   },
   {
    "duration": 8,
    "start_time": "2023-04-17T19:37:42.599Z"
   },
   {
    "duration": 15,
    "start_time": "2023-04-17T19:39:12.504Z"
   },
   {
    "duration": 21,
    "start_time": "2023-04-17T19:39:41.245Z"
   },
   {
    "duration": 948,
    "start_time": "2023-04-17T19:45:38.097Z"
   },
   {
    "duration": 14,
    "start_time": "2023-04-17T19:48:32.590Z"
   },
   {
    "duration": 17,
    "start_time": "2023-04-17T19:48:50.462Z"
   },
   {
    "duration": 198,
    "start_time": "2023-04-17T19:49:06.287Z"
   },
   {
    "duration": 21,
    "start_time": "2023-04-17T19:49:56.890Z"
   },
   {
    "duration": 17,
    "start_time": "2023-04-17T19:50:16.992Z"
   },
   {
    "duration": 826,
    "start_time": "2023-04-18T09:41:59.261Z"
   },
   {
    "duration": 455,
    "start_time": "2023-04-18T09:42:01.346Z"
   },
   {
    "duration": 35,
    "start_time": "2023-04-18T09:42:04.222Z"
   },
   {
    "duration": 26,
    "start_time": "2023-04-18T09:42:06.052Z"
   },
   {
    "duration": 26,
    "start_time": "2023-04-18T09:42:08.562Z"
   },
   {
    "duration": 4,
    "start_time": "2023-04-18T09:42:09.627Z"
   },
   {
    "duration": 4,
    "start_time": "2023-04-18T09:42:11.361Z"
   },
   {
    "duration": 14,
    "start_time": "2023-04-18T09:42:11.441Z"
   },
   {
    "duration": 12,
    "start_time": "2023-04-18T09:42:13.019Z"
   },
   {
    "duration": 5,
    "start_time": "2023-04-18T09:42:14.262Z"
   },
   {
    "duration": 5,
    "start_time": "2023-04-18T09:42:14.666Z"
   },
   {
    "duration": 7,
    "start_time": "2023-04-18T09:42:15.070Z"
   },
   {
    "duration": 6,
    "start_time": "2023-04-18T09:42:16.831Z"
   },
   {
    "duration": 10,
    "start_time": "2023-04-18T09:42:16.960Z"
   },
   {
    "duration": 13,
    "start_time": "2023-04-18T09:42:17.447Z"
   },
   {
    "duration": 9,
    "start_time": "2023-04-18T09:42:20.014Z"
   },
   {
    "duration": 14,
    "start_time": "2023-04-18T09:42:21.213Z"
   },
   {
    "duration": 6,
    "start_time": "2023-04-18T09:42:22.356Z"
   },
   {
    "duration": 21,
    "start_time": "2023-04-18T09:42:22.836Z"
   },
   {
    "duration": 342,
    "start_time": "2023-04-18T09:42:25.031Z"
   },
   {
    "duration": 12,
    "start_time": "2023-04-18T09:42:25.436Z"
   },
   {
    "duration": 7,
    "start_time": "2023-04-18T09:42:30.827Z"
   },
   {
    "duration": 7,
    "start_time": "2023-04-18T09:42:31.127Z"
   },
   {
    "duration": 5,
    "start_time": "2023-04-18T09:42:31.614Z"
   },
   {
    "duration": 4,
    "start_time": "2023-04-18T09:42:33.456Z"
   },
   {
    "duration": 4,
    "start_time": "2023-04-18T09:42:34.110Z"
   },
   {
    "duration": 11,
    "start_time": "2023-04-18T09:42:34.130Z"
   },
   {
    "duration": 5,
    "start_time": "2023-04-18T09:42:35.046Z"
   },
   {
    "duration": 16,
    "start_time": "2023-04-18T09:42:35.466Z"
   },
   {
    "duration": 21,
    "start_time": "2023-04-18T09:42:35.928Z"
   },
   {
    "duration": 8,
    "start_time": "2023-04-18T09:42:36.329Z"
   },
   {
    "duration": 54,
    "start_time": "2023-04-18T09:42:37.375Z"
   },
   {
    "duration": 4,
    "start_time": "2023-04-18T09:42:38.621Z"
   },
   {
    "duration": 10,
    "start_time": "2023-04-18T09:42:41.414Z"
   },
   {
    "duration": 260,
    "start_time": "2023-04-18T09:42:41.958Z"
   },
   {
    "duration": 12,
    "start_time": "2023-04-18T09:42:51.656Z"
   },
   {
    "duration": 388,
    "start_time": "2023-04-18T09:42:52.368Z"
   },
   {
    "duration": 3,
    "start_time": "2023-04-18T09:44:36.941Z"
   },
   {
    "duration": 83,
    "start_time": "2023-04-18T09:49:42.222Z"
   },
   {
    "duration": 27,
    "start_time": "2023-04-18T09:49:56.841Z"
   },
   {
    "duration": 28,
    "start_time": "2023-04-18T09:50:11.281Z"
   },
   {
    "duration": 13,
    "start_time": "2023-04-18T09:50:23.425Z"
   },
   {
    "duration": 25,
    "start_time": "2023-04-18T09:53:38.125Z"
   },
   {
    "duration": 19,
    "start_time": "2023-04-18T10:07:25.234Z"
   },
   {
    "duration": 17,
    "start_time": "2023-04-18T10:08:05.321Z"
   },
   {
    "duration": 55,
    "start_time": "2023-04-18T10:11:17.656Z"
   },
   {
    "duration": 11,
    "start_time": "2023-04-18T10:12:44.826Z"
   },
   {
    "duration": 18,
    "start_time": "2023-04-18T10:12:58.125Z"
   },
   {
    "duration": 162,
    "start_time": "2023-04-18T10:13:48.329Z"
   },
   {
    "duration": 9,
    "start_time": "2023-04-18T10:17:10.613Z"
   },
   {
    "duration": 419,
    "start_time": "2023-04-18T10:17:11.860Z"
   },
   {
    "duration": 10,
    "start_time": "2023-04-18T10:21:16.144Z"
   },
   {
    "duration": 4,
    "start_time": "2023-04-18T10:21:27.424Z"
   },
   {
    "duration": 137,
    "start_time": "2023-04-18T10:21:30.638Z"
   },
   {
    "duration": 14,
    "start_time": "2023-04-18T10:25:48.174Z"
   },
   {
    "duration": 6,
    "start_time": "2023-04-18T10:26:12.262Z"
   },
   {
    "duration": 836,
    "start_time": "2023-04-18T10:26:15.155Z"
   },
   {
    "duration": 11,
    "start_time": "2023-04-18T10:31:25.688Z"
   },
   {
    "duration": 21,
    "start_time": "2023-04-18T10:31:36.440Z"
   },
   {
    "duration": 13,
    "start_time": "2023-04-18T10:32:04.232Z"
   },
   {
    "duration": 20,
    "start_time": "2023-04-18T10:32:13.188Z"
   },
   {
    "duration": 7,
    "start_time": "2023-04-18T10:36:36.440Z"
   },
   {
    "duration": 9,
    "start_time": "2023-04-18T10:40:33.123Z"
   },
   {
    "duration": 17,
    "start_time": "2023-04-18T10:40:49.062Z"
   },
   {
    "duration": 17,
    "start_time": "2023-04-18T10:40:52.420Z"
   },
   {
    "duration": 19,
    "start_time": "2023-04-18T10:40:58.336Z"
   },
   {
    "duration": 138,
    "start_time": "2023-04-18T10:41:19.733Z"
   },
   {
    "duration": 1133,
    "start_time": "2023-04-18T10:48:59.322Z"
   },
   {
    "duration": 1206,
    "start_time": "2023-04-18T10:50:22.926Z"
   },
   {
    "duration": 23,
    "start_time": "2023-04-18T10:52:07.949Z"
   },
   {
    "duration": 2,
    "start_time": "2023-04-18T10:59:39.151Z"
   },
   {
    "duration": 6,
    "start_time": "2023-04-18T11:01:35.966Z"
   },
   {
    "duration": 6,
    "start_time": "2023-04-18T11:01:47.330Z"
   },
   {
    "duration": 69,
    "start_time": "2023-04-18T11:02:48.859Z"
   },
   {
    "duration": 47,
    "start_time": "2023-04-18T11:03:08.602Z"
   },
   {
    "duration": 112,
    "start_time": "2023-04-18T11:11:47.380Z"
   },
   {
    "duration": 51,
    "start_time": "2023-04-18T11:11:57.348Z"
   },
   {
    "duration": 3,
    "start_time": "2023-04-18T11:13:48.854Z"
   },
   {
    "duration": 7,
    "start_time": "2023-04-18T11:16:51.544Z"
   },
   {
    "duration": 7,
    "start_time": "2023-04-18T11:17:11.214Z"
   },
   {
    "duration": 17,
    "start_time": "2023-04-18T11:17:13.458Z"
   },
   {
    "duration": 12,
    "start_time": "2023-04-18T11:17:22.401Z"
   },
   {
    "duration": 82,
    "start_time": "2023-04-18T11:22:50.930Z"
   },
   {
    "duration": 70,
    "start_time": "2023-04-18T11:23:27.119Z"
   },
   {
    "duration": 82,
    "start_time": "2023-04-18T11:23:51.554Z"
   },
   {
    "duration": 54,
    "start_time": "2023-04-18T11:24:05.012Z"
   },
   {
    "duration": 75,
    "start_time": "2023-04-18T11:24:37.216Z"
   },
   {
    "duration": 53,
    "start_time": "2023-04-18T11:27:10.521Z"
   },
   {
    "duration": 14,
    "start_time": "2023-04-18T11:27:38.881Z"
   },
   {
    "duration": 27,
    "start_time": "2023-04-18T11:27:49.026Z"
   },
   {
    "duration": 25,
    "start_time": "2023-04-18T11:28:33.248Z"
   },
   {
    "duration": 31,
    "start_time": "2023-04-18T11:29:15.114Z"
   },
   {
    "duration": 17,
    "start_time": "2023-04-18T11:29:50.816Z"
   },
   {
    "duration": 26,
    "start_time": "2023-04-18T11:29:57.525Z"
   },
   {
    "duration": 24,
    "start_time": "2023-04-18T11:30:44.581Z"
   },
   {
    "duration": 29,
    "start_time": "2023-04-18T11:49:31.881Z"
   },
   {
    "duration": 24,
    "start_time": "2023-04-18T11:50:19.740Z"
   },
   {
    "duration": 26,
    "start_time": "2023-04-18T11:50:58.985Z"
   },
   {
    "duration": 25,
    "start_time": "2023-04-18T11:51:49.725Z"
   },
   {
    "duration": 22,
    "start_time": "2023-04-18T11:52:15.682Z"
   },
   {
    "duration": 22,
    "start_time": "2023-04-18T11:52:44.619Z"
   },
   {
    "duration": 40,
    "start_time": "2023-04-18T12:35:30.701Z"
   },
   {
    "duration": 10,
    "start_time": "2023-04-18T12:35:50.781Z"
   },
   {
    "duration": 37,
    "start_time": "2023-04-18T12:36:00.078Z"
   },
   {
    "duration": 16,
    "start_time": "2023-04-18T12:36:17.014Z"
   },
   {
    "duration": 8,
    "start_time": "2023-04-18T12:36:40.614Z"
   },
   {
    "duration": 12,
    "start_time": "2023-04-18T12:39:57.027Z"
   },
   {
    "duration": 8,
    "start_time": "2023-04-18T12:40:47.345Z"
   },
   {
    "duration": 9,
    "start_time": "2023-04-18T12:40:49.020Z"
   },
   {
    "duration": 17,
    "start_time": "2023-04-18T12:42:38.262Z"
   },
   {
    "duration": 6,
    "start_time": "2023-04-18T12:42:39.539Z"
   },
   {
    "duration": 23,
    "start_time": "2023-04-18T12:44:01.655Z"
   },
   {
    "duration": 309,
    "start_time": "2023-04-18T12:44:25.392Z"
   },
   {
    "duration": 8,
    "start_time": "2023-04-18T12:46:54.111Z"
   },
   {
    "duration": 21,
    "start_time": "2023-04-18T12:48:11.541Z"
   },
   {
    "duration": 14,
    "start_time": "2023-04-18T12:48:27.692Z"
   },
   {
    "duration": 24,
    "start_time": "2023-04-18T12:50:26.160Z"
   },
   {
    "duration": 18,
    "start_time": "2023-04-18T12:50:27.588Z"
   },
   {
    "duration": 13,
    "start_time": "2023-04-18T12:50:38.023Z"
   },
   {
    "duration": 28,
    "start_time": "2023-04-18T12:50:39.084Z"
   },
   {
    "duration": 191,
    "start_time": "2023-04-18T12:51:05.414Z"
   },
   {
    "duration": 10,
    "start_time": "2023-04-18T12:56:54.247Z"
   },
   {
    "duration": 163,
    "start_time": "2023-04-18T12:57:06.385Z"
   },
   {
    "duration": 331,
    "start_time": "2023-04-18T12:58:02.064Z"
   },
   {
    "duration": 424,
    "start_time": "2023-04-18T12:58:11.427Z"
   },
   {
    "duration": 9,
    "start_time": "2023-04-18T12:59:50.115Z"
   },
   {
    "duration": 470,
    "start_time": "2023-04-18T12:59:51.359Z"
   },
   {
    "duration": 12,
    "start_time": "2023-04-18T13:06:05.047Z"
   },
   {
    "duration": 19,
    "start_time": "2023-04-18T13:06:11.623Z"
   },
   {
    "duration": 2347,
    "start_time": "2023-04-18T13:06:29.463Z"
   },
   {
    "duration": 277,
    "start_time": "2023-04-18T13:06:43.622Z"
   },
   {
    "duration": 230,
    "start_time": "2023-04-18T13:07:23.915Z"
   },
   {
    "duration": 68,
    "start_time": "2023-04-18T13:09:39.141Z"
   },
   {
    "duration": 1437,
    "start_time": "2023-04-18T13:10:02.304Z"
   },
   {
    "duration": 2,
    "start_time": "2023-04-18T13:10:22.424Z"
   },
   {
    "duration": 23,
    "start_time": "2023-04-18T13:11:41.449Z"
   },
   {
    "duration": 15,
    "start_time": "2023-04-18T13:12:12.920Z"
   },
   {
    "duration": 6,
    "start_time": "2023-04-18T13:19:51.300Z"
   },
   {
    "duration": 7,
    "start_time": "2023-04-18T13:19:52.263Z"
   },
   {
    "duration": 13,
    "start_time": "2023-04-18T13:19:55.301Z"
   },
   {
    "duration": 7,
    "start_time": "2023-04-18T13:24:32.782Z"
   },
   {
    "duration": 5,
    "start_time": "2023-04-18T13:24:33.630Z"
   },
   {
    "duration": 69,
    "start_time": "2023-04-18T13:26:54.844Z"
   },
   {
    "duration": 8,
    "start_time": "2023-04-18T13:28:59.995Z"
   },
   {
    "duration": 8,
    "start_time": "2023-04-18T13:29:16.741Z"
   },
   {
    "duration": 18,
    "start_time": "2023-04-18T13:33:22.904Z"
   },
   {
    "duration": 126,
    "start_time": "2023-04-18T13:33:37.143Z"
   },
   {
    "duration": 11,
    "start_time": "2023-04-18T13:37:13.199Z"
   },
   {
    "duration": 10,
    "start_time": "2023-04-18T13:37:27.294Z"
   },
   {
    "duration": 13,
    "start_time": "2023-04-18T13:37:38.093Z"
   },
   {
    "duration": 136,
    "start_time": "2023-04-18T13:37:51.109Z"
   },
   {
    "duration": 18,
    "start_time": "2023-04-18T13:38:25.716Z"
   },
   {
    "duration": 18,
    "start_time": "2023-04-18T13:39:31.791Z"
   },
   {
    "duration": 14,
    "start_time": "2023-04-18T13:41:33.799Z"
   },
   {
    "duration": 19,
    "start_time": "2023-04-18T13:44:21.051Z"
   },
   {
    "duration": 26,
    "start_time": "2023-04-18T13:44:51.001Z"
   },
   {
    "duration": 17,
    "start_time": "2023-04-18T13:45:03.130Z"
   },
   {
    "duration": 21,
    "start_time": "2023-04-18T13:45:05.074Z"
   },
   {
    "duration": 16,
    "start_time": "2023-04-18T13:45:25.709Z"
   },
   {
    "duration": 21,
    "start_time": "2023-04-18T13:46:13.856Z"
   },
   {
    "duration": 19,
    "start_time": "2023-04-18T13:46:34.598Z"
   },
   {
    "duration": 18,
    "start_time": "2023-04-18T13:47:04.333Z"
   },
   {
    "duration": 18,
    "start_time": "2023-04-18T13:47:34.849Z"
   },
   {
    "duration": 24,
    "start_time": "2023-04-18T13:48:00.795Z"
   },
   {
    "duration": 19,
    "start_time": "2023-04-18T13:48:19.728Z"
   },
   {
    "duration": 18,
    "start_time": "2023-04-18T13:48:39.060Z"
   },
   {
    "duration": 18,
    "start_time": "2023-04-18T13:50:32.498Z"
   },
   {
    "duration": 21,
    "start_time": "2023-04-18T13:51:06.790Z"
   },
   {
    "duration": 16,
    "start_time": "2023-04-18T14:06:48.491Z"
   },
   {
    "duration": 15,
    "start_time": "2023-04-18T14:07:04.528Z"
   },
   {
    "duration": 705,
    "start_time": "2023-04-18T14:08:14.788Z"
   },
   {
    "duration": 52,
    "start_time": "2023-04-18T14:08:16.292Z"
   },
   {
    "duration": 25,
    "start_time": "2023-04-18T14:08:16.799Z"
   },
   {
    "duration": 22,
    "start_time": "2023-04-18T14:08:17.710Z"
   },
   {
    "duration": 15,
    "start_time": "2023-04-18T14:08:20.596Z"
   },
   {
    "duration": 5,
    "start_time": "2023-04-18T14:08:22.591Z"
   },
   {
    "duration": 3,
    "start_time": "2023-04-18T14:08:23.890Z"
   },
   {
    "duration": 22,
    "start_time": "2023-04-18T14:08:24.329Z"
   },
   {
    "duration": 4,
    "start_time": "2023-04-18T14:08:26.851Z"
   },
   {
    "duration": 13,
    "start_time": "2023-04-18T14:08:27.229Z"
   },
   {
    "duration": 19,
    "start_time": "2023-04-18T14:08:29.334Z"
   },
   {
    "duration": 5,
    "start_time": "2023-04-18T14:08:29.799Z"
   },
   {
    "duration": 5,
    "start_time": "2023-04-18T14:08:30.229Z"
   },
   {
    "duration": 5,
    "start_time": "2023-04-18T14:08:30.644Z"
   },
   {
    "duration": 5,
    "start_time": "2023-04-18T14:08:32.188Z"
   },
   {
    "duration": 7,
    "start_time": "2023-04-18T14:08:32.628Z"
   },
   {
    "duration": 19,
    "start_time": "2023-04-18T14:08:33.093Z"
   },
   {
    "duration": 9,
    "start_time": "2023-04-18T14:08:34.807Z"
   },
   {
    "duration": 17,
    "start_time": "2023-04-18T14:08:36.330Z"
   },
   {
    "duration": 5,
    "start_time": "2023-04-18T14:08:38.149Z"
   },
   {
    "duration": 21,
    "start_time": "2023-04-18T14:08:38.520Z"
   },
   {
    "duration": 404,
    "start_time": "2023-04-18T14:08:41.101Z"
   },
   {
    "duration": 8,
    "start_time": "2023-04-18T14:08:41.507Z"
   },
   {
    "duration": 7,
    "start_time": "2023-04-18T14:08:43.188Z"
   },
   {
    "duration": 8,
    "start_time": "2023-04-18T14:08:43.618Z"
   },
   {
    "duration": 5,
    "start_time": "2023-04-18T14:08:44.894Z"
   },
   {
    "duration": 4,
    "start_time": "2023-04-18T14:08:46.440Z"
   },
   {
    "duration": 3,
    "start_time": "2023-04-18T14:08:46.901Z"
   },
   {
    "duration": 5,
    "start_time": "2023-04-18T14:08:47.620Z"
   },
   {
    "duration": 4,
    "start_time": "2023-04-18T14:08:49.023Z"
   },
   {
    "duration": 15,
    "start_time": "2023-04-18T14:08:49.397Z"
   },
   {
    "duration": 14,
    "start_time": "2023-04-18T14:08:50.200Z"
   },
   {
    "duration": 5,
    "start_time": "2023-04-18T14:08:50.688Z"
   },
   {
    "duration": 18,
    "start_time": "2023-04-18T14:08:51.308Z"
   },
   {
    "duration": 5,
    "start_time": "2023-04-18T14:08:52.588Z"
   },
   {
    "duration": 10,
    "start_time": "2023-04-18T14:08:54.500Z"
   },
   {
    "duration": 261,
    "start_time": "2023-04-18T14:08:54.988Z"
   },
   {
    "duration": 10,
    "start_time": "2023-04-18T14:08:59.001Z"
   },
   {
    "duration": 384,
    "start_time": "2023-04-18T14:08:59.942Z"
   },
   {
    "duration": 19,
    "start_time": "2023-04-18T14:09:02.496Z"
   },
   {
    "duration": 16,
    "start_time": "2023-04-18T14:09:04.697Z"
   },
   {
    "duration": 18,
    "start_time": "2023-04-18T14:09:06.511Z"
   },
   {
    "duration": 17,
    "start_time": "2023-04-18T14:09:08.219Z"
   },
   {
    "duration": 18,
    "start_time": "2023-04-18T14:09:10.421Z"
   },
   {
    "duration": 18,
    "start_time": "2023-04-18T14:09:12.511Z"
   },
   {
    "duration": 6,
    "start_time": "2023-04-18T14:09:14.588Z"
   },
   {
    "duration": 6,
    "start_time": "2023-04-18T14:09:15.223Z"
   },
   {
    "duration": 14,
    "start_time": "2023-04-18T14:09:16.908Z"
   },
   {
    "duration": 17,
    "start_time": "2023-04-18T14:09:19.093Z"
   },
   {
    "duration": 16,
    "start_time": "2023-04-18T14:09:19.924Z"
   },
   {
    "duration": 19,
    "start_time": "2023-04-18T14:09:20.686Z"
   },
   {
    "duration": 15,
    "start_time": "2023-04-18T14:09:21.639Z"
   },
   {
    "duration": 17,
    "start_time": "2023-04-18T14:09:22.894Z"
   },
   {
    "duration": 135,
    "start_time": "2023-04-18T14:09:44.991Z"
   },
   {
    "duration": 16,
    "start_time": "2023-04-18T14:12:05.792Z"
   },
   {
    "duration": 6,
    "start_time": "2023-04-18T14:15:07.924Z"
   },
   {
    "duration": 16,
    "start_time": "2023-04-18T14:16:14.992Z"
   },
   {
    "duration": 6,
    "start_time": "2023-04-18T14:16:43.009Z"
   },
   {
    "duration": 14,
    "start_time": "2023-04-18T14:16:44.191Z"
   },
   {
    "duration": 171,
    "start_time": "2023-04-18T14:42:18.842Z"
   },
   {
    "duration": 184,
    "start_time": "2023-04-18T15:32:59.857Z"
   },
   {
    "duration": 124,
    "start_time": "2023-04-18T15:34:54.687Z"
   },
   {
    "duration": 158,
    "start_time": "2023-04-18T15:35:25.434Z"
   },
   {
    "duration": 137,
    "start_time": "2023-04-18T15:35:44.423Z"
   },
   {
    "duration": 190,
    "start_time": "2023-04-18T15:36:18.563Z"
   },
   {
    "duration": 180,
    "start_time": "2023-04-18T15:36:54.516Z"
   },
   {
    "duration": 766,
    "start_time": "2023-04-19T09:17:37.937Z"
   },
   {
    "duration": 114,
    "start_time": "2023-04-19T09:17:39.419Z"
   },
   {
    "duration": 22,
    "start_time": "2023-04-19T09:17:39.911Z"
   },
   {
    "duration": 25,
    "start_time": "2023-04-19T09:17:41.688Z"
   },
   {
    "duration": 14,
    "start_time": "2023-04-19T09:17:42.649Z"
   },
   {
    "duration": 3,
    "start_time": "2023-04-19T09:17:44.140Z"
   },
   {
    "duration": 3,
    "start_time": "2023-04-19T09:17:45.868Z"
   },
   {
    "duration": 36,
    "start_time": "2023-04-19T09:17:46.260Z"
   },
   {
    "duration": 12,
    "start_time": "2023-04-19T09:17:47.859Z"
   },
   {
    "duration": 4,
    "start_time": "2023-04-19T09:17:48.254Z"
   },
   {
    "duration": 5,
    "start_time": "2023-04-19T09:17:48.654Z"
   },
   {
    "duration": 5,
    "start_time": "2023-04-19T09:17:49.048Z"
   },
   {
    "duration": 4,
    "start_time": "2023-04-19T09:17:49.829Z"
   },
   {
    "duration": 6,
    "start_time": "2023-04-19T09:17:50.196Z"
   },
   {
    "duration": 12,
    "start_time": "2023-04-19T09:17:50.595Z"
   },
   {
    "duration": 10,
    "start_time": "2023-04-19T09:17:51.729Z"
   },
   {
    "duration": 13,
    "start_time": "2023-04-19T09:17:52.541Z"
   },
   {
    "duration": 5,
    "start_time": "2023-04-19T09:17:53.331Z"
   },
   {
    "duration": 21,
    "start_time": "2023-04-19T09:17:53.727Z"
   },
   {
    "duration": 328,
    "start_time": "2023-04-19T09:17:54.524Z"
   },
   {
    "duration": 8,
    "start_time": "2023-04-19T09:17:54.913Z"
   },
   {
    "duration": 6,
    "start_time": "2023-04-19T09:17:56.008Z"
   },
   {
    "duration": 8,
    "start_time": "2023-04-19T09:17:56.441Z"
   },
   {
    "duration": 4,
    "start_time": "2023-04-19T09:17:56.910Z"
   },
   {
    "duration": 5,
    "start_time": "2023-04-19T09:17:57.596Z"
   },
   {
    "duration": 3,
    "start_time": "2023-04-19T09:17:58.048Z"
   },
   {
    "duration": 4,
    "start_time": "2023-04-19T09:17:58.909Z"
   },
   {
    "duration": 4,
    "start_time": "2023-04-19T09:17:59.799Z"
   },
   {
    "duration": 10,
    "start_time": "2023-04-19T09:18:00.194Z"
   },
   {
    "duration": 13,
    "start_time": "2023-04-19T09:18:00.618Z"
   },
   {
    "duration": 4,
    "start_time": "2023-04-19T09:18:01.057Z"
   },
   {
    "duration": 14,
    "start_time": "2023-04-19T09:18:01.515Z"
   },
   {
    "duration": 3,
    "start_time": "2023-04-19T09:18:01.911Z"
   },
   {
    "duration": 13,
    "start_time": "2023-04-19T09:18:03.595Z"
   },
   {
    "duration": 225,
    "start_time": "2023-04-19T09:18:03.998Z"
   },
   {
    "duration": 10,
    "start_time": "2023-04-19T09:18:05.299Z"
   },
   {
    "duration": 339,
    "start_time": "2023-04-19T09:18:05.761Z"
   },
   {
    "duration": 17,
    "start_time": "2023-04-19T09:18:06.615Z"
   },
   {
    "duration": 17,
    "start_time": "2023-04-19T09:18:07.495Z"
   },
   {
    "duration": 148,
    "start_time": "2023-04-19T09:18:08.339Z"
   },
   {
    "duration": 15,
    "start_time": "2023-04-19T09:18:09.199Z"
   },
   {
    "duration": 16,
    "start_time": "2023-04-19T09:18:10.032Z"
   },
   {
    "duration": 17,
    "start_time": "2023-04-19T09:18:10.908Z"
   },
   {
    "duration": 7,
    "start_time": "2023-04-19T09:18:12.195Z"
   },
   {
    "duration": 6,
    "start_time": "2023-04-19T09:18:12.595Z"
   },
   {
    "duration": 13,
    "start_time": "2023-04-19T09:18:13.433Z"
   },
   {
    "duration": 68,
    "start_time": "2023-04-19T09:18:14.327Z"
   },
   {
    "duration": 17,
    "start_time": "2023-04-19T09:18:15.127Z"
   },
   {
    "duration": 30,
    "start_time": "2023-04-19T09:18:15.171Z"
   },
   {
    "duration": 17,
    "start_time": "2023-04-19T09:18:15.595Z"
   },
   {
    "duration": 21,
    "start_time": "2023-04-19T09:18:15.994Z"
   },
   {
    "duration": 5,
    "start_time": "2023-04-19T09:18:17.122Z"
   },
   {
    "duration": 14,
    "start_time": "2023-04-19T09:18:17.599Z"
   },
   {
    "duration": 135,
    "start_time": "2023-04-19T09:18:18.713Z"
   },
   {
    "duration": 154,
    "start_time": "2023-04-19T09:18:18.993Z"
   },
   {
    "duration": 149,
    "start_time": "2023-04-19T09:18:19.697Z"
   },
   {
    "duration": 144,
    "start_time": "2023-04-19T09:18:19.898Z"
   },
   {
    "duration": 143,
    "start_time": "2023-04-19T09:22:15.338Z"
   },
   {
    "duration": 123,
    "start_time": "2023-04-19T09:22:53.796Z"
   },
   {
    "duration": 437,
    "start_time": "2023-04-19T09:27:17.924Z"
   },
   {
    "duration": 1943,
    "start_time": "2023-04-19T09:28:13.403Z"
   },
   {
    "duration": 357,
    "start_time": "2023-04-19T09:28:22.315Z"
   },
   {
    "duration": 110,
    "start_time": "2023-04-19T09:32:47.818Z"
   },
   {
    "duration": 120,
    "start_time": "2023-04-19T09:32:58.997Z"
   },
   {
    "duration": 5,
    "start_time": "2023-04-19T09:34:04.244Z"
   },
   {
    "duration": 130,
    "start_time": "2023-04-19T09:34:05.603Z"
   },
   {
    "duration": 8,
    "start_time": "2023-04-19T09:34:30.993Z"
   },
   {
    "duration": 16,
    "start_time": "2023-04-19T09:34:42.524Z"
   },
   {
    "duration": 6,
    "start_time": "2023-04-19T09:35:16.906Z"
   },
   {
    "duration": 123,
    "start_time": "2023-04-19T09:35:18.710Z"
   },
   {
    "duration": 121,
    "start_time": "2023-04-19T09:35:20.647Z"
   },
   {
    "duration": 252,
    "start_time": "2023-04-19T09:38:18.354Z"
   },
   {
    "duration": 4,
    "start_time": "2023-04-19T09:39:47.146Z"
   },
   {
    "duration": 1571,
    "start_time": "2023-04-19T09:43:24.037Z"
   },
   {
    "duration": 5,
    "start_time": "2023-04-19T09:43:37.765Z"
   },
   {
    "duration": 470,
    "start_time": "2023-04-19T09:43:55.358Z"
   },
   {
    "duration": 326,
    "start_time": "2023-04-19T09:45:33.268Z"
   },
   {
    "duration": 4,
    "start_time": "2023-04-19T09:49:56.270Z"
   },
   {
    "duration": 8,
    "start_time": "2023-04-19T09:50:08.885Z"
   },
   {
    "duration": 3,
    "start_time": "2023-04-19T09:50:24.317Z"
   },
   {
    "duration": 194,
    "start_time": "2023-04-19T09:50:46.507Z"
   },
   {
    "duration": 270,
    "start_time": "2023-04-19T09:51:04.199Z"
   },
   {
    "duration": 643,
    "start_time": "2023-04-19T09:51:22.445Z"
   },
   {
    "duration": 50,
    "start_time": "2023-04-19T09:51:23.420Z"
   },
   {
    "duration": 20,
    "start_time": "2023-04-19T09:51:23.856Z"
   },
   {
    "duration": 17,
    "start_time": "2023-04-19T09:51:24.772Z"
   },
   {
    "duration": 13,
    "start_time": "2023-04-19T09:51:26.095Z"
   },
   {
    "duration": 3,
    "start_time": "2023-04-19T09:51:27.231Z"
   },
   {
    "duration": 2,
    "start_time": "2023-04-19T09:51:28.588Z"
   },
   {
    "duration": 12,
    "start_time": "2023-04-19T09:51:28.927Z"
   },
   {
    "duration": 11,
    "start_time": "2023-04-19T09:51:30.246Z"
   },
   {
    "duration": 5,
    "start_time": "2023-04-19T09:51:30.592Z"
   },
   {
    "duration": 4,
    "start_time": "2023-04-19T09:51:30.955Z"
   },
   {
    "duration": 5,
    "start_time": "2023-04-19T09:51:31.302Z"
   },
   {
    "duration": 4,
    "start_time": "2023-04-19T09:51:31.980Z"
   },
   {
    "duration": 6,
    "start_time": "2023-04-19T09:51:32.657Z"
   },
   {
    "duration": 105,
    "start_time": "2023-04-19T09:51:32.674Z"
   },
   {
    "duration": 10,
    "start_time": "2023-04-19T09:51:34.017Z"
   },
   {
    "duration": 14,
    "start_time": "2023-04-19T09:51:34.680Z"
   },
   {
    "duration": 6,
    "start_time": "2023-04-19T09:51:35.610Z"
   },
   {
    "duration": 30,
    "start_time": "2023-04-19T09:51:35.667Z"
   },
   {
    "duration": 298,
    "start_time": "2023-04-19T09:51:36.516Z"
   },
   {
    "duration": 11,
    "start_time": "2023-04-19T09:51:36.816Z"
   },
   {
    "duration": 8,
    "start_time": "2023-04-19T09:51:37.518Z"
   },
   {
    "duration": 11,
    "start_time": "2023-04-19T09:51:37.883Z"
   },
   {
    "duration": 6,
    "start_time": "2023-04-19T09:51:38.251Z"
   },
   {
    "duration": 4,
    "start_time": "2023-04-19T09:51:38.976Z"
   },
   {
    "duration": 3,
    "start_time": "2023-04-19T09:51:39.323Z"
   },
   {
    "duration": 4,
    "start_time": "2023-04-19T09:51:39.676Z"
   },
   {
    "duration": 6,
    "start_time": "2023-04-19T09:51:40.509Z"
   },
   {
    "duration": 8,
    "start_time": "2023-04-19T09:51:40.810Z"
   },
   {
    "duration": 14,
    "start_time": "2023-04-19T09:51:41.188Z"
   },
   {
    "duration": 5,
    "start_time": "2023-04-19T09:51:41.583Z"
   },
   {
    "duration": 17,
    "start_time": "2023-04-19T09:51:41.951Z"
   },
   {
    "duration": 4,
    "start_time": "2023-04-19T09:51:42.304Z"
   },
   {
    "duration": 10,
    "start_time": "2023-04-19T09:51:43.911Z"
   },
   {
    "duration": 235,
    "start_time": "2023-04-19T09:51:44.337Z"
   },
   {
    "duration": 10,
    "start_time": "2023-04-19T09:51:46.377Z"
   },
   {
    "duration": 331,
    "start_time": "2023-04-19T09:51:46.825Z"
   },
   {
    "duration": 17,
    "start_time": "2023-04-19T09:51:48.565Z"
   },
   {
    "duration": 16,
    "start_time": "2023-04-19T09:51:50.100Z"
   },
   {
    "duration": 126,
    "start_time": "2023-04-19T09:51:50.841Z"
   },
   {
    "duration": 16,
    "start_time": "2023-04-19T09:51:51.611Z"
   },
   {
    "duration": 15,
    "start_time": "2023-04-19T09:51:52.435Z"
   },
   {
    "duration": 15,
    "start_time": "2023-04-19T09:51:53.314Z"
   },
   {
    "duration": 6,
    "start_time": "2023-04-19T09:51:54.447Z"
   },
   {
    "duration": 5,
    "start_time": "2023-04-19T09:51:54.892Z"
   },
   {
    "duration": 13,
    "start_time": "2023-04-19T09:51:56.007Z"
   },
   {
    "duration": 53,
    "start_time": "2023-04-19T09:51:56.990Z"
   },
   {
    "duration": 15,
    "start_time": "2023-04-19T09:51:57.424Z"
   },
   {
    "duration": 16,
    "start_time": "2023-04-19T09:51:57.883Z"
   },
   {
    "duration": 15,
    "start_time": "2023-04-19T09:51:59.016Z"
   },
   {
    "duration": 22,
    "start_time": "2023-04-19T09:51:59.581Z"
   },
   {
    "duration": 6,
    "start_time": "2023-04-19T09:52:00.585Z"
   },
   {
    "duration": 14,
    "start_time": "2023-04-19T09:52:01.273Z"
   },
   {
    "duration": 117,
    "start_time": "2023-04-19T09:52:03.330Z"
   },
   {
    "duration": 127,
    "start_time": "2023-04-19T09:52:03.876Z"
   },
   {
    "duration": 122,
    "start_time": "2023-04-19T09:52:04.708Z"
   },
   {
    "duration": 121,
    "start_time": "2023-04-19T09:52:05.904Z"
   },
   {
    "duration": 5,
    "start_time": "2023-04-19T09:52:08.813Z"
   },
   {
    "duration": 128,
    "start_time": "2023-04-19T09:52:09.355Z"
   },
   {
    "duration": 492,
    "start_time": "2023-04-19T09:52:10.395Z"
   },
   {
    "duration": 9,
    "start_time": "2023-04-19T09:53:11.037Z"
   },
   {
    "duration": 137,
    "start_time": "2023-04-19T09:53:11.722Z"
   },
   {
    "duration": 287,
    "start_time": "2023-04-19T09:53:12.698Z"
   },
   {
    "duration": 546,
    "start_time": "2023-04-19T09:57:00.387Z"
   },
   {
    "duration": 10,
    "start_time": "2023-04-19T10:04:44.087Z"
   },
   {
    "duration": 833,
    "start_time": "2023-04-19T10:07:24.257Z"
   },
   {
    "duration": 295,
    "start_time": "2023-04-19T10:10:18.965Z"
   },
   {
    "duration": 100,
    "start_time": "2023-04-19T10:13:09.124Z"
   },
   {
    "duration": 103,
    "start_time": "2023-04-19T10:14:08.307Z"
   },
   {
    "duration": 7,
    "start_time": "2023-04-19T10:16:57.890Z"
   },
   {
    "duration": 7,
    "start_time": "2023-04-19T10:17:08.337Z"
   },
   {
    "duration": 8,
    "start_time": "2023-04-19T10:17:49.563Z"
   },
   {
    "duration": 445,
    "start_time": "2023-04-19T10:23:07.912Z"
   },
   {
    "duration": 267,
    "start_time": "2023-04-19T10:36:11.058Z"
   },
   {
    "duration": 116,
    "start_time": "2023-04-19T10:41:26.512Z"
   },
   {
    "duration": 119,
    "start_time": "2023-04-19T10:42:00.272Z"
   },
   {
    "duration": 124,
    "start_time": "2023-04-19T10:42:50.335Z"
   },
   {
    "duration": 3,
    "start_time": "2023-04-19T11:06:27.775Z"
   },
   {
    "duration": 121,
    "start_time": "2023-04-19T11:06:37.446Z"
   },
   {
    "duration": 620,
    "start_time": "2023-04-19T11:07:27.659Z"
   },
   {
    "duration": 52,
    "start_time": "2023-04-19T11:07:28.408Z"
   },
   {
    "duration": 20,
    "start_time": "2023-04-19T11:07:28.842Z"
   },
   {
    "duration": 17,
    "start_time": "2023-04-19T11:07:31.149Z"
   },
   {
    "duration": 21,
    "start_time": "2023-04-19T11:07:33.781Z"
   },
   {
    "duration": 5,
    "start_time": "2023-04-19T11:07:35.356Z"
   },
   {
    "duration": 3,
    "start_time": "2023-04-19T11:07:37.072Z"
   },
   {
    "duration": 15,
    "start_time": "2023-04-19T11:07:37.516Z"
   },
   {
    "duration": 12,
    "start_time": "2023-04-19T11:07:39.258Z"
   },
   {
    "duration": 4,
    "start_time": "2023-04-19T11:07:42.486Z"
   },
   {
    "duration": 6,
    "start_time": "2023-04-19T11:08:18.632Z"
   },
   {
    "duration": 7,
    "start_time": "2023-04-19T11:08:21.026Z"
   },
   {
    "duration": 5,
    "start_time": "2023-04-19T11:08:23.054Z"
   },
   {
    "duration": 6,
    "start_time": "2023-04-19T11:08:23.418Z"
   },
   {
    "duration": 11,
    "start_time": "2023-04-19T11:08:23.831Z"
   },
   {
    "duration": 8,
    "start_time": "2023-04-19T11:08:24.869Z"
   },
   {
    "duration": 12,
    "start_time": "2023-04-19T11:08:25.558Z"
   },
   {
    "duration": 4,
    "start_time": "2023-04-19T11:08:26.282Z"
   },
   {
    "duration": 19,
    "start_time": "2023-04-19T11:08:26.625Z"
   },
   {
    "duration": 295,
    "start_time": "2023-04-19T11:08:27.339Z"
   },
   {
    "duration": 8,
    "start_time": "2023-04-19T11:08:28.050Z"
   },
   {
    "duration": 6,
    "start_time": "2023-04-19T11:08:28.546Z"
   },
   {
    "duration": 8,
    "start_time": "2023-04-19T11:08:28.997Z"
   },
   {
    "duration": 6,
    "start_time": "2023-04-19T11:08:29.413Z"
   },
   {
    "duration": 4,
    "start_time": "2023-04-19T11:08:29.880Z"
   },
   {
    "duration": 3,
    "start_time": "2023-04-19T11:08:30.277Z"
   },
   {
    "duration": 5,
    "start_time": "2023-04-19T11:08:30.649Z"
   },
   {
    "duration": 4,
    "start_time": "2023-04-19T11:08:31.501Z"
   },
   {
    "duration": 9,
    "start_time": "2023-04-19T11:08:31.779Z"
   },
   {
    "duration": 12,
    "start_time": "2023-04-19T11:08:32.169Z"
   },
   {
    "duration": 4,
    "start_time": "2023-04-19T11:08:32.596Z"
   },
   {
    "duration": 15,
    "start_time": "2023-04-19T11:08:32.989Z"
   },
   {
    "duration": 4,
    "start_time": "2023-04-19T11:08:34.812Z"
   },
   {
    "duration": 9,
    "start_time": "2023-04-19T11:08:37.282Z"
   },
   {
    "duration": 210,
    "start_time": "2023-04-19T11:08:37.625Z"
   },
   {
    "duration": 9,
    "start_time": "2023-04-19T11:08:38.733Z"
   },
   {
    "duration": 290,
    "start_time": "2023-04-19T11:08:39.098Z"
   },
   {
    "duration": 17,
    "start_time": "2023-04-19T11:08:39.903Z"
   },
   {
    "duration": 16,
    "start_time": "2023-04-19T11:08:40.869Z"
   },
   {
    "duration": 131,
    "start_time": "2023-04-19T11:08:41.459Z"
   },
   {
    "duration": 17,
    "start_time": "2023-04-19T11:08:42.286Z"
   },
   {
    "duration": 19,
    "start_time": "2023-04-19T11:08:43.099Z"
   },
   {
    "duration": 18,
    "start_time": "2023-04-19T11:08:43.976Z"
   },
   {
    "duration": 6,
    "start_time": "2023-04-19T11:08:45.338Z"
   },
   {
    "duration": 6,
    "start_time": "2023-04-19T11:08:45.756Z"
   },
   {
    "duration": 21,
    "start_time": "2023-04-19T11:08:46.607Z"
   },
   {
    "duration": 61,
    "start_time": "2023-04-19T11:08:48.185Z"
   },
   {
    "duration": 16,
    "start_time": "2023-04-19T11:08:48.717Z"
   },
   {
    "duration": 17,
    "start_time": "2023-04-19T11:08:49.171Z"
   },
   {
    "duration": 15,
    "start_time": "2023-04-19T11:08:49.600Z"
   },
   {
    "duration": 18,
    "start_time": "2023-04-19T11:08:50.322Z"
   },
   {
    "duration": 5,
    "start_time": "2023-04-19T11:08:51.060Z"
   },
   {
    "duration": 14,
    "start_time": "2023-04-19T11:08:51.438Z"
   },
   {
    "duration": 122,
    "start_time": "2023-04-19T11:08:52.674Z"
   },
   {
    "duration": 124,
    "start_time": "2023-04-19T11:08:53.109Z"
   },
   {
    "duration": 135,
    "start_time": "2023-04-19T11:08:53.539Z"
   },
   {
    "duration": 125,
    "start_time": "2023-04-19T11:08:53.946Z"
   },
   {
    "duration": 4,
    "start_time": "2023-04-19T11:08:55.253Z"
   },
   {
    "duration": 123,
    "start_time": "2023-04-19T11:08:55.595Z"
   },
   {
    "duration": 107,
    "start_time": "2023-04-19T11:08:55.990Z"
   },
   {
    "duration": 102,
    "start_time": "2023-04-19T11:08:56.395Z"
   },
   {
    "duration": 7,
    "start_time": "2023-04-19T11:08:56.785Z"
   },
   {
    "duration": 6,
    "start_time": "2023-04-19T11:08:58.104Z"
   },
   {
    "duration": 113,
    "start_time": "2023-04-19T11:08:58.544Z"
   },
   {
    "duration": 109,
    "start_time": "2023-04-19T11:12:02.390Z"
   },
   {
    "duration": 104,
    "start_time": "2023-04-19T11:12:08.297Z"
   },
   {
    "duration": 8,
    "start_time": "2023-04-19T11:12:14.151Z"
   },
   {
    "duration": 81,
    "start_time": "2023-04-19T11:13:12.757Z"
   },
   {
    "duration": 78,
    "start_time": "2023-04-19T11:13:18.429Z"
   },
   {
    "duration": 3,
    "start_time": "2023-04-19T11:13:31.367Z"
   },
   {
    "duration": 110,
    "start_time": "2023-04-19T11:14:24.751Z"
   },
   {
    "duration": 157,
    "start_time": "2023-04-19T11:14:28.506Z"
   },
   {
    "duration": 103,
    "start_time": "2023-04-19T11:14:32.821Z"
   },
   {
    "duration": 11,
    "start_time": "2023-04-19T11:14:35.025Z"
   },
   {
    "duration": 77,
    "start_time": "2023-04-19T11:42:59.139Z"
   },
   {
    "duration": 12,
    "start_time": "2023-04-19T11:43:29.487Z"
   },
   {
    "duration": 20,
    "start_time": "2023-04-19T12:14:04.996Z"
   },
   {
    "duration": 5,
    "start_time": "2023-04-19T12:19:10.433Z"
   },
   {
    "duration": 14,
    "start_time": "2023-04-19T12:21:32.746Z"
   },
   {
    "duration": 13,
    "start_time": "2023-04-19T12:21:53.295Z"
   },
   {
    "duration": 6,
    "start_time": "2023-04-19T12:22:47.397Z"
   },
   {
    "duration": 5,
    "start_time": "2023-04-19T12:23:01.218Z"
   },
   {
    "duration": 8,
    "start_time": "2023-04-19T12:23:19.060Z"
   },
   {
    "duration": 12,
    "start_time": "2023-04-19T12:23:55.839Z"
   },
   {
    "duration": 11,
    "start_time": "2023-04-19T12:23:57.503Z"
   },
   {
    "duration": 12,
    "start_time": "2023-04-19T12:24:40.799Z"
   },
   {
    "duration": 13,
    "start_time": "2023-04-19T12:24:49.048Z"
   },
   {
    "duration": 651,
    "start_time": "2023-04-19T12:25:20.252Z"
   },
   {
    "duration": 52,
    "start_time": "2023-04-19T12:25:20.907Z"
   },
   {
    "duration": 50,
    "start_time": "2023-04-19T12:25:21.155Z"
   },
   {
    "duration": 17,
    "start_time": "2023-04-19T12:25:21.536Z"
   },
   {
    "duration": 14,
    "start_time": "2023-04-19T12:25:22.301Z"
   },
   {
    "duration": 4,
    "start_time": "2023-04-19T12:25:23.053Z"
   },
   {
    "duration": 4,
    "start_time": "2023-04-19T12:25:24.434Z"
   },
   {
    "duration": 12,
    "start_time": "2023-04-19T12:25:24.900Z"
   },
   {
    "duration": 15,
    "start_time": "2023-04-19T12:25:26.247Z"
   },
   {
    "duration": 4,
    "start_time": "2023-04-19T12:25:26.621Z"
   },
   {
    "duration": 4,
    "start_time": "2023-04-19T12:25:26.803Z"
   },
   {
    "duration": 5,
    "start_time": "2023-04-19T12:25:27.199Z"
   },
   {
    "duration": 6,
    "start_time": "2023-04-19T12:25:27.924Z"
   },
   {
    "duration": 9,
    "start_time": "2023-04-19T12:25:28.295Z"
   },
   {
    "duration": 12,
    "start_time": "2023-04-19T12:25:28.654Z"
   },
   {
    "duration": 8,
    "start_time": "2023-04-19T12:25:30.213Z"
   },
   {
    "duration": 13,
    "start_time": "2023-04-19T12:25:30.557Z"
   },
   {
    "duration": 6,
    "start_time": "2023-04-19T12:25:31.303Z"
   },
   {
    "duration": 20,
    "start_time": "2023-04-19T12:25:31.713Z"
   },
   {
    "duration": 322,
    "start_time": "2023-04-19T12:25:32.499Z"
   },
   {
    "duration": 15,
    "start_time": "2023-04-19T12:25:32.896Z"
   },
   {
    "duration": 7,
    "start_time": "2023-04-19T12:25:33.610Z"
   },
   {
    "duration": 7,
    "start_time": "2023-04-19T12:25:34.011Z"
   },
   {
    "duration": 11,
    "start_time": "2023-04-19T12:25:34.399Z"
   },
   {
    "duration": 4,
    "start_time": "2023-04-19T12:25:35.403Z"
   },
   {
    "duration": 3,
    "start_time": "2023-04-19T12:25:35.749Z"
   },
   {
    "duration": 5,
    "start_time": "2023-04-19T12:25:36.137Z"
   },
   {
    "duration": 4,
    "start_time": "2023-04-19T12:25:36.907Z"
   },
   {
    "duration": 7,
    "start_time": "2023-04-19T12:25:36.942Z"
   },
   {
    "duration": 13,
    "start_time": "2023-04-19T12:25:37.406Z"
   },
   {
    "duration": 4,
    "start_time": "2023-04-19T12:25:37.837Z"
   },
   {
    "duration": 15,
    "start_time": "2023-04-19T12:25:38.302Z"
   },
   {
    "duration": 3,
    "start_time": "2023-04-19T12:25:38.716Z"
   },
   {
    "duration": 9,
    "start_time": "2023-04-19T12:25:40.106Z"
   },
   {
    "duration": 218,
    "start_time": "2023-04-19T12:25:40.327Z"
   },
   {
    "duration": 9,
    "start_time": "2023-04-19T12:25:41.529Z"
   },
   {
    "duration": 368,
    "start_time": "2023-04-19T12:25:41.915Z"
   },
   {
    "duration": 26,
    "start_time": "2023-04-19T12:25:42.698Z"
   },
   {
    "duration": 18,
    "start_time": "2023-04-19T12:25:43.693Z"
   },
   {
    "duration": 147,
    "start_time": "2023-04-19T12:25:44.103Z"
   },
   {
    "duration": 17,
    "start_time": "2023-04-19T12:25:45.003Z"
   },
   {
    "duration": 29,
    "start_time": "2023-04-19T12:25:45.992Z"
   },
   {
    "duration": 18,
    "start_time": "2023-04-19T12:25:46.402Z"
   },
   {
    "duration": 5,
    "start_time": "2023-04-19T12:25:47.503Z"
   },
   {
    "duration": 8,
    "start_time": "2023-04-19T12:25:47.896Z"
   },
   {
    "duration": 14,
    "start_time": "2023-04-19T12:25:48.622Z"
   },
   {
    "duration": 62,
    "start_time": "2023-04-19T12:25:49.403Z"
   },
   {
    "duration": 19,
    "start_time": "2023-04-19T12:25:49.804Z"
   },
   {
    "duration": 15,
    "start_time": "2023-04-19T12:25:50.202Z"
   },
   {
    "duration": 16,
    "start_time": "2023-04-19T12:25:50.542Z"
   },
   {
    "duration": 18,
    "start_time": "2023-04-19T12:25:50.914Z"
   },
   {
    "duration": 7,
    "start_time": "2023-04-19T12:25:51.700Z"
   },
   {
    "duration": 12,
    "start_time": "2023-04-19T12:25:52.057Z"
   },
   {
    "duration": 124,
    "start_time": "2023-04-19T12:25:53.299Z"
   },
   {
    "duration": 142,
    "start_time": "2023-04-19T12:25:54.402Z"
   },
   {
    "duration": 130,
    "start_time": "2023-04-19T12:25:54.702Z"
   },
   {
    "duration": 127,
    "start_time": "2023-04-19T12:25:54.834Z"
   },
   {
    "duration": 3,
    "start_time": "2023-04-19T12:25:56.098Z"
   },
   {
    "duration": 116,
    "start_time": "2023-04-19T12:25:56.608Z"
   },
   {
    "duration": 133,
    "start_time": "2023-04-19T12:25:57.116Z"
   },
   {
    "duration": 150,
    "start_time": "2023-04-19T12:25:57.252Z"
   },
   {
    "duration": 9,
    "start_time": "2023-04-19T12:25:57.598Z"
   },
   {
    "duration": 3,
    "start_time": "2023-04-19T12:25:58.904Z"
   },
   {
    "duration": 126,
    "start_time": "2023-04-19T12:25:59.355Z"
   },
   {
    "duration": 115,
    "start_time": "2023-04-19T12:25:59.902Z"
   },
   {
    "duration": 139,
    "start_time": "2023-04-19T12:26:01.095Z"
   },
   {
    "duration": 8,
    "start_time": "2023-04-19T12:26:01.838Z"
   },
   {
    "duration": 3,
    "start_time": "2023-04-19T12:26:02.700Z"
   },
   {
    "duration": 414,
    "start_time": "2023-04-19T12:26:02.706Z"
   },
   {
    "duration": 183,
    "start_time": "2023-04-19T12:26:03.121Z"
   },
   {
    "duration": 106,
    "start_time": "2023-04-19T12:26:04.300Z"
   },
   {
    "duration": 8,
    "start_time": "2023-04-19T12:26:04.408Z"
   },
   {
    "duration": 14,
    "start_time": "2023-04-19T12:26:14.241Z"
   },
   {
    "duration": 7,
    "start_time": "2023-04-19T12:26:17.103Z"
   },
   {
    "duration": 6,
    "start_time": "2023-04-19T12:26:17.522Z"
   },
   {
    "duration": 7,
    "start_time": "2023-04-19T12:26:17.951Z"
   },
   {
    "duration": 13,
    "start_time": "2023-04-19T12:26:18.543Z"
   },
   {
    "duration": 13,
    "start_time": "2023-04-19T12:26:21.227Z"
   },
   {
    "duration": 16,
    "start_time": "2023-04-19T12:26:24.299Z"
   },
   {
    "duration": 18,
    "start_time": "2023-04-19T12:27:19.935Z"
   },
   {
    "duration": 15,
    "start_time": "2023-04-19T12:27:26.007Z"
   },
   {
    "duration": 6,
    "start_time": "2023-04-19T13:21:47.123Z"
   },
   {
    "duration": 20,
    "start_time": "2023-04-19T13:25:55.468Z"
   },
   {
    "duration": 12,
    "start_time": "2023-04-19T13:25:57.831Z"
   },
   {
    "duration": 17,
    "start_time": "2023-04-19T13:26:05.583Z"
   },
   {
    "duration": 13,
    "start_time": "2023-04-19T13:26:34.795Z"
   },
   {
    "duration": 33,
    "start_time": "2023-04-19T13:26:36.362Z"
   },
   {
    "duration": 13,
    "start_time": "2023-04-19T13:26:50.336Z"
   },
   {
    "duration": 11,
    "start_time": "2023-04-19T13:27:18.099Z"
   },
   {
    "duration": 12,
    "start_time": "2023-04-19T13:31:16.455Z"
   },
   {
    "duration": 12,
    "start_time": "2023-04-19T13:31:18.905Z"
   },
   {
    "duration": 13,
    "start_time": "2023-04-19T13:40:18.494Z"
   },
   {
    "duration": 12,
    "start_time": "2023-04-19T13:40:47.235Z"
   },
   {
    "duration": 44,
    "start_time": "2023-04-19T13:40:47.249Z"
   },
   {
    "duration": 12,
    "start_time": "2023-04-19T13:40:57.793Z"
   },
   {
    "duration": 13,
    "start_time": "2023-04-19T13:41:05.288Z"
   },
   {
    "duration": 98,
    "start_time": "2023-04-19T14:00:22.489Z"
   },
   {
    "duration": 374,
    "start_time": "2023-04-19T14:00:32.088Z"
   },
   {
    "duration": 62,
    "start_time": "2023-04-19T14:00:34.366Z"
   },
   {
    "duration": 29,
    "start_time": "2023-04-19T14:00:35.361Z"
   },
   {
    "duration": 24,
    "start_time": "2023-04-19T14:07:29.095Z"
   },
   {
    "duration": 17,
    "start_time": "2023-04-19T14:08:41.468Z"
   },
   {
    "duration": 20,
    "start_time": "2023-04-19T14:08:45.843Z"
   },
   {
    "duration": 23,
    "start_time": "2023-04-19T14:09:46.567Z"
   },
   {
    "duration": 55,
    "start_time": "2023-04-19T14:17:56.707Z"
   },
   {
    "duration": 48,
    "start_time": "2023-04-19T14:19:40.269Z"
   },
   {
    "duration": 27,
    "start_time": "2023-04-19T14:20:05.587Z"
   },
   {
    "duration": 6,
    "start_time": "2023-04-19T14:21:12.989Z"
   },
   {
    "duration": 5,
    "start_time": "2023-04-19T14:22:10.013Z"
   },
   {
    "duration": 5,
    "start_time": "2023-04-19T14:22:20.850Z"
   },
   {
    "duration": 4,
    "start_time": "2023-04-19T14:23:49.631Z"
   },
   {
    "duration": 8,
    "start_time": "2023-04-19T14:42:31.744Z"
   },
   {
    "duration": 5,
    "start_time": "2023-04-19T14:42:43.247Z"
   },
   {
    "duration": 5,
    "start_time": "2023-04-19T14:42:44.219Z"
   },
   {
    "duration": 5,
    "start_time": "2023-04-19T14:42:45.154Z"
   },
   {
    "duration": 5,
    "start_time": "2023-04-19T14:48:19.411Z"
   },
   {
    "duration": 4,
    "start_time": "2023-04-19T14:48:24.795Z"
   },
   {
    "duration": 5,
    "start_time": "2023-04-19T14:51:25.309Z"
   },
   {
    "duration": 6,
    "start_time": "2023-04-19T14:51:35.921Z"
   },
   {
    "duration": 5,
    "start_time": "2023-04-19T15:01:40.061Z"
   },
   {
    "duration": 3,
    "start_time": "2023-04-19T15:01:48.896Z"
   },
   {
    "duration": 5,
    "start_time": "2023-04-19T15:10:05.446Z"
   },
   {
    "duration": 5,
    "start_time": "2023-04-19T15:10:07.110Z"
   },
   {
    "duration": 6,
    "start_time": "2023-04-19T15:10:08.635Z"
   },
   {
    "duration": 4,
    "start_time": "2023-04-19T15:11:50.127Z"
   },
   {
    "duration": 4,
    "start_time": "2023-04-19T15:12:00.917Z"
   },
   {
    "duration": 1042,
    "start_time": "2023-04-19T15:44:01.105Z"
   },
   {
    "duration": 51,
    "start_time": "2023-04-19T15:44:02.808Z"
   },
   {
    "duration": 23,
    "start_time": "2023-04-19T15:44:03.501Z"
   },
   {
    "duration": 18,
    "start_time": "2023-04-19T15:44:04.500Z"
   },
   {
    "duration": 13,
    "start_time": "2023-04-19T15:44:05.422Z"
   },
   {
    "duration": 4,
    "start_time": "2023-04-19T15:44:06.507Z"
   },
   {
    "duration": 3,
    "start_time": "2023-04-19T15:44:07.706Z"
   },
   {
    "duration": 11,
    "start_time": "2023-04-19T15:44:08.145Z"
   },
   {
    "duration": 11,
    "start_time": "2023-04-19T15:44:09.837Z"
   },
   {
    "duration": 5,
    "start_time": "2023-04-19T15:44:10.301Z"
   },
   {
    "duration": 5,
    "start_time": "2023-04-19T15:44:10.703Z"
   },
   {
    "duration": 7,
    "start_time": "2023-04-19T15:44:11.118Z"
   },
   {
    "duration": 4,
    "start_time": "2023-04-19T15:44:11.951Z"
   },
   {
    "duration": 7,
    "start_time": "2023-04-19T15:44:12.407Z"
   },
   {
    "duration": 12,
    "start_time": "2023-04-19T15:44:12.815Z"
   },
   {
    "duration": 9,
    "start_time": "2023-04-19T15:44:14.107Z"
   },
   {
    "duration": 14,
    "start_time": "2023-04-19T15:44:15.111Z"
   },
   {
    "duration": 5,
    "start_time": "2023-04-19T15:44:15.833Z"
   },
   {
    "duration": 22,
    "start_time": "2023-04-19T15:44:16.599Z"
   },
   {
    "duration": 349,
    "start_time": "2023-04-19T15:44:18.437Z"
   },
   {
    "duration": 25,
    "start_time": "2023-04-19T15:44:18.878Z"
   },
   {
    "duration": 6,
    "start_time": "2023-04-19T15:44:19.819Z"
   },
   {
    "duration": 7,
    "start_time": "2023-04-19T15:44:20.241Z"
   },
   {
    "duration": 5,
    "start_time": "2023-04-19T15:44:20.738Z"
   },
   {
    "duration": 4,
    "start_time": "2023-04-19T15:44:21.699Z"
   },
   {
    "duration": 3,
    "start_time": "2023-04-19T15:44:22.104Z"
   },
   {
    "duration": 4,
    "start_time": "2023-04-19T15:44:22.500Z"
   },
   {
    "duration": 5,
    "start_time": "2023-04-19T15:44:23.400Z"
   },
   {
    "duration": 7,
    "start_time": "2023-04-19T15:44:23.814Z"
   },
   {
    "duration": 25,
    "start_time": "2023-04-19T15:44:24.272Z"
   },
   {
    "duration": 4,
    "start_time": "2023-04-19T15:44:24.730Z"
   },
   {
    "duration": 15,
    "start_time": "2023-04-19T15:44:25.141Z"
   },
   {
    "duration": 4,
    "start_time": "2023-04-19T15:44:25.600Z"
   },
   {
    "duration": 9,
    "start_time": "2023-04-19T15:44:27.301Z"
   },
   {
    "duration": 229,
    "start_time": "2023-04-19T15:44:27.704Z"
   },
   {
    "duration": 10,
    "start_time": "2023-04-19T15:44:29.922Z"
   },
   {
    "duration": 352,
    "start_time": "2023-04-19T15:44:30.310Z"
   },
   {
    "duration": 16,
    "start_time": "2023-04-19T15:44:31.136Z"
   },
   {
    "duration": 19,
    "start_time": "2023-04-19T15:44:31.971Z"
   },
   {
    "duration": 177,
    "start_time": "2023-04-19T15:44:32.841Z"
   },
   {
    "duration": 17,
    "start_time": "2023-04-19T15:44:34.100Z"
   },
   {
    "duration": 18,
    "start_time": "2023-04-19T15:45:01.830Z"
   },
   {
    "duration": 1084,
    "start_time": "2023-04-19T15:45:17.705Z"
   },
   {
    "duration": 60,
    "start_time": "2023-04-19T15:45:18.793Z"
   },
   {
    "duration": 44,
    "start_time": "2023-04-19T15:45:18.854Z"
   },
   {
    "duration": 32,
    "start_time": "2023-04-19T15:45:19.269Z"
   },
   {
    "duration": 13,
    "start_time": "2023-04-19T15:45:20.006Z"
   },
   {
    "duration": 3,
    "start_time": "2023-04-19T15:45:20.751Z"
   },
   {
    "duration": 3,
    "start_time": "2023-04-19T15:45:22.207Z"
   },
   {
    "duration": 11,
    "start_time": "2023-04-19T15:45:22.244Z"
   },
   {
    "duration": 13,
    "start_time": "2023-04-19T15:45:24.000Z"
   },
   {
    "duration": 8,
    "start_time": "2023-04-19T15:45:24.367Z"
   },
   {
    "duration": 4,
    "start_time": "2023-04-19T15:45:24.716Z"
   },
   {
    "duration": 5,
    "start_time": "2023-04-19T15:45:25.116Z"
   },
   {
    "duration": 5,
    "start_time": "2023-04-19T15:45:25.904Z"
   },
   {
    "duration": 12,
    "start_time": "2023-04-19T15:45:26.263Z"
   },
   {
    "duration": 17,
    "start_time": "2023-04-19T15:45:26.651Z"
   },
   {
    "duration": 27,
    "start_time": "2023-04-19T15:45:27.871Z"
   },
   {
    "duration": 32,
    "start_time": "2023-04-19T15:45:28.669Z"
   },
   {
    "duration": 5,
    "start_time": "2023-04-19T15:45:29.455Z"
   },
   {
    "duration": 44,
    "start_time": "2023-04-19T15:45:29.853Z"
   },
   {
    "duration": 385,
    "start_time": "2023-04-19T15:45:30.617Z"
   },
   {
    "duration": 8,
    "start_time": "2023-04-19T15:45:31.014Z"
   },
   {
    "duration": 6,
    "start_time": "2023-04-19T15:45:31.858Z"
   },
   {
    "duration": 9,
    "start_time": "2023-04-19T15:45:32.265Z"
   },
   {
    "duration": 5,
    "start_time": "2023-04-19T15:45:32.731Z"
   },
   {
    "duration": 3,
    "start_time": "2023-04-19T15:45:33.504Z"
   },
   {
    "duration": 5,
    "start_time": "2023-04-19T15:45:33.898Z"
   },
   {
    "duration": 4,
    "start_time": "2023-04-19T15:45:34.625Z"
   },
   {
    "duration": 3,
    "start_time": "2023-04-19T15:45:35.141Z"
   },
   {
    "duration": 7,
    "start_time": "2023-04-19T15:45:35.602Z"
   },
   {
    "duration": 14,
    "start_time": "2023-04-19T15:45:36.016Z"
   },
   {
    "duration": 5,
    "start_time": "2023-04-19T15:45:36.453Z"
   },
   {
    "duration": 27,
    "start_time": "2023-04-19T15:45:36.868Z"
   },
   {
    "duration": 5,
    "start_time": "2023-04-19T15:45:37.299Z"
   },
   {
    "duration": 11,
    "start_time": "2023-04-19T15:45:38.742Z"
   },
   {
    "duration": 243,
    "start_time": "2023-04-19T15:45:39.161Z"
   },
   {
    "duration": 9,
    "start_time": "2023-04-19T15:45:40.555Z"
   },
   {
    "duration": 321,
    "start_time": "2023-04-19T15:45:40.832Z"
   },
   {
    "duration": 35,
    "start_time": "2023-04-19T15:45:41.663Z"
   },
   {
    "duration": 41,
    "start_time": "2023-04-19T15:45:42.460Z"
   },
   {
    "duration": 21,
    "start_time": "2023-04-19T15:45:43.256Z"
   },
   {
    "duration": 16,
    "start_time": "2023-04-19T15:45:44.050Z"
   },
   {
    "duration": 15,
    "start_time": "2023-04-19T15:45:44.903Z"
   },
   {
    "duration": 22,
    "start_time": "2023-04-19T15:45:45.741Z"
   },
   {
    "duration": 7,
    "start_time": "2023-04-19T15:45:47.003Z"
   },
   {
    "duration": 6,
    "start_time": "2023-04-19T15:45:47.403Z"
   },
   {
    "duration": 12,
    "start_time": "2023-04-19T15:45:48.242Z"
   },
   {
    "duration": 31,
    "start_time": "2023-04-19T15:45:49.063Z"
   },
   {
    "duration": 14,
    "start_time": "2023-04-19T15:45:49.528Z"
   },
   {
    "duration": 16,
    "start_time": "2023-04-19T15:45:49.925Z"
   },
   {
    "duration": 15,
    "start_time": "2023-04-19T15:45:50.331Z"
   },
   {
    "duration": 16,
    "start_time": "2023-04-19T15:45:50.734Z"
   },
   {
    "duration": 11,
    "start_time": "2023-04-19T15:45:51.589Z"
   },
   {
    "duration": 12,
    "start_time": "2023-04-19T15:45:52.124Z"
   },
   {
    "duration": 136,
    "start_time": "2023-04-19T15:45:53.248Z"
   },
   {
    "duration": 134,
    "start_time": "2023-04-19T15:45:54.000Z"
   },
   {
    "duration": 147,
    "start_time": "2023-04-19T15:45:54.469Z"
   },
   {
    "duration": 141,
    "start_time": "2023-04-19T15:45:54.923Z"
   },
   {
    "duration": 4,
    "start_time": "2023-04-19T15:45:56.211Z"
   },
   {
    "duration": 116,
    "start_time": "2023-04-19T15:45:56.652Z"
   },
   {
    "duration": 115,
    "start_time": "2023-04-19T15:45:57.156Z"
   },
   {
    "duration": 167,
    "start_time": "2023-04-19T15:45:57.538Z"
   },
   {
    "duration": 7,
    "start_time": "2023-04-19T15:45:57.943Z"
   },
   {
    "duration": 3,
    "start_time": "2023-04-19T15:45:59.232Z"
   },
   {
    "duration": 128,
    "start_time": "2023-04-19T15:45:59.657Z"
   },
   {
    "duration": 114,
    "start_time": "2023-04-19T15:46:00.100Z"
   },
   {
    "duration": 110,
    "start_time": "2023-04-19T15:46:00.529Z"
   },
   {
    "duration": 8,
    "start_time": "2023-04-19T15:46:00.954Z"
   },
   {
    "duration": 10,
    "start_time": "2023-04-19T15:46:01.369Z"
   },
   {
    "duration": 125,
    "start_time": "2023-04-19T15:46:01.823Z"
   },
   {
    "duration": 133,
    "start_time": "2023-04-19T15:46:02.273Z"
   },
   {
    "duration": 116,
    "start_time": "2023-04-19T15:46:02.735Z"
   },
   {
    "duration": 8,
    "start_time": "2023-04-19T15:46:03.166Z"
   },
   {
    "duration": 12,
    "start_time": "2023-04-19T15:46:04.453Z"
   },
   {
    "duration": 5,
    "start_time": "2023-04-19T15:46:05.732Z"
   },
   {
    "duration": 20,
    "start_time": "2023-04-19T15:46:06.169Z"
   },
   {
    "duration": 5,
    "start_time": "2023-04-19T15:46:06.618Z"
   },
   {
    "duration": 12,
    "start_time": "2023-04-19T15:46:07.031Z"
   },
   {
    "duration": 18,
    "start_time": "2023-04-19T15:46:07.495Z"
   },
   {
    "duration": 22,
    "start_time": "2023-04-19T15:46:07.961Z"
   },
   {
    "duration": 30,
    "start_time": "2023-04-19T15:46:08.864Z"
   },
   {
    "duration": 13,
    "start_time": "2023-04-19T15:46:09.309Z"
   },
   {
    "duration": 14,
    "start_time": "2023-04-19T15:46:09.739Z"
   },
   {
    "duration": 12,
    "start_time": "2023-04-19T15:46:10.599Z"
   },
   {
    "duration": 12,
    "start_time": "2023-04-19T15:46:11.398Z"
   },
   {
    "duration": 12,
    "start_time": "2023-04-19T15:46:11.797Z"
   },
   {
    "duration": 6,
    "start_time": "2023-04-19T15:46:14.225Z"
   },
   {
    "duration": 5,
    "start_time": "2023-04-19T15:46:14.660Z"
   },
   {
    "duration": 5,
    "start_time": "2023-04-19T15:46:15.102Z"
   },
   {
    "duration": 6,
    "start_time": "2023-04-19T15:46:15.951Z"
   },
   {
    "duration": 4,
    "start_time": "2023-04-19T15:46:16.499Z"
   },
   {
    "duration": 6,
    "start_time": "2023-04-19T15:46:17.740Z"
   },
   {
    "duration": 6,
    "start_time": "2023-04-19T15:46:18.195Z"
   },
   {
    "duration": 4,
    "start_time": "2023-04-19T15:46:18.605Z"
   },
   {
    "duration": 3,
    "start_time": "2023-04-19T15:46:19.521Z"
   },
   {
    "duration": 3,
    "start_time": "2023-04-19T15:46:19.943Z"
   },
   {
    "duration": 1043,
    "start_time": "2023-04-20T10:56:23.739Z"
   },
   {
    "duration": 47,
    "start_time": "2023-04-20T10:56:24.784Z"
   },
   {
    "duration": 21,
    "start_time": "2023-04-20T10:56:24.833Z"
   },
   {
    "duration": 16,
    "start_time": "2023-04-20T10:56:24.855Z"
   },
   {
    "duration": 33,
    "start_time": "2023-04-20T10:56:24.873Z"
   },
   {
    "duration": 32,
    "start_time": "2023-04-20T10:56:24.908Z"
   },
   {
    "duration": 31,
    "start_time": "2023-04-20T10:56:24.942Z"
   },
   {
    "duration": 24,
    "start_time": "2023-04-20T10:56:24.975Z"
   },
   {
    "duration": 10,
    "start_time": "2023-04-20T10:56:25.001Z"
   },
   {
    "duration": 7,
    "start_time": "2023-04-20T10:56:25.014Z"
   },
   {
    "duration": 5,
    "start_time": "2023-04-20T10:56:25.022Z"
   },
   {
    "duration": 7,
    "start_time": "2023-04-20T10:56:25.028Z"
   },
   {
    "duration": 18,
    "start_time": "2023-04-20T10:56:25.036Z"
   },
   {
    "duration": 17,
    "start_time": "2023-04-20T10:56:25.055Z"
   },
   {
    "duration": 30,
    "start_time": "2023-04-20T10:56:25.073Z"
   },
   {
    "duration": 7,
    "start_time": "2023-04-20T10:56:25.104Z"
   },
   {
    "duration": 17,
    "start_time": "2023-04-20T10:56:25.113Z"
   },
   {
    "duration": 4,
    "start_time": "2023-04-20T10:56:25.131Z"
   },
   {
    "duration": 38,
    "start_time": "2023-04-20T10:56:25.137Z"
   },
   {
    "duration": 293,
    "start_time": "2023-04-20T10:56:25.177Z"
   },
   {
    "duration": 8,
    "start_time": "2023-04-20T10:56:25.472Z"
   },
   {
    "duration": 15,
    "start_time": "2023-04-20T10:56:25.482Z"
   },
   {
    "duration": 9,
    "start_time": "2023-04-20T10:56:25.499Z"
   },
   {
    "duration": 9,
    "start_time": "2023-04-20T10:56:25.509Z"
   },
   {
    "duration": 13,
    "start_time": "2023-04-20T10:56:25.519Z"
   },
   {
    "duration": 8,
    "start_time": "2023-04-20T10:56:25.533Z"
   },
   {
    "duration": 17,
    "start_time": "2023-04-20T10:56:25.543Z"
   },
   {
    "duration": 18,
    "start_time": "2023-04-20T10:56:25.563Z"
   },
   {
    "duration": 29,
    "start_time": "2023-04-20T10:56:25.582Z"
   },
   {
    "duration": 27,
    "start_time": "2023-04-20T10:56:25.612Z"
   },
   {
    "duration": 4,
    "start_time": "2023-04-20T10:56:25.641Z"
   },
   {
    "duration": 20,
    "start_time": "2023-04-20T10:56:25.646Z"
   },
   {
    "duration": 5,
    "start_time": "2023-04-20T10:56:25.667Z"
   },
   {
    "duration": 14,
    "start_time": "2023-04-20T10:56:25.673Z"
   },
   {
    "duration": 248,
    "start_time": "2023-04-20T10:56:25.688Z"
   },
   {
    "duration": 10,
    "start_time": "2023-04-20T10:56:25.937Z"
   },
   {
    "duration": 324,
    "start_time": "2023-04-20T10:56:25.948Z"
   },
   {
    "duration": 19,
    "start_time": "2023-04-20T10:56:26.274Z"
   },
   {
    "duration": 16,
    "start_time": "2023-04-20T10:56:26.295Z"
   },
   {
    "duration": 28,
    "start_time": "2023-04-20T10:56:26.313Z"
   },
   {
    "duration": 15,
    "start_time": "2023-04-20T10:56:26.342Z"
   },
   {
    "duration": 15,
    "start_time": "2023-04-20T10:56:26.358Z"
   },
   {
    "duration": 16,
    "start_time": "2023-04-20T10:56:26.375Z"
   },
   {
    "duration": 6,
    "start_time": "2023-04-20T10:56:26.392Z"
   },
   {
    "duration": 41,
    "start_time": "2023-04-20T10:56:26.399Z"
   },
   {
    "duration": 16,
    "start_time": "2023-04-20T10:56:26.442Z"
   },
   {
    "duration": 18,
    "start_time": "2023-04-20T10:56:26.459Z"
   },
   {
    "duration": 20,
    "start_time": "2023-04-20T10:56:26.478Z"
   },
   {
    "duration": 41,
    "start_time": "2023-04-20T10:56:26.500Z"
   },
   {
    "duration": 16,
    "start_time": "2023-04-20T10:56:26.542Z"
   },
   {
    "duration": 15,
    "start_time": "2023-04-20T10:56:26.560Z"
   },
   {
    "duration": 6,
    "start_time": "2023-04-20T10:56:26.576Z"
   },
   {
    "duration": 16,
    "start_time": "2023-04-20T10:56:26.583Z"
   },
   {
    "duration": 147,
    "start_time": "2023-04-20T10:56:26.601Z"
   },
   {
    "duration": 154,
    "start_time": "2023-04-20T10:56:26.749Z"
   },
   {
    "duration": 158,
    "start_time": "2023-04-20T10:56:26.905Z"
   },
   {
    "duration": 149,
    "start_time": "2023-04-20T10:56:27.065Z"
   },
   {
    "duration": 3,
    "start_time": "2023-04-20T10:56:27.216Z"
   },
   {
    "duration": 152,
    "start_time": "2023-04-20T10:56:27.221Z"
   },
   {
    "duration": 141,
    "start_time": "2023-04-20T10:56:27.374Z"
   },
   {
    "duration": 200,
    "start_time": "2023-04-20T10:56:27.517Z"
   },
   {
    "duration": 9,
    "start_time": "2023-04-20T10:56:27.718Z"
   },
   {
    "duration": 3,
    "start_time": "2023-04-20T10:56:27.736Z"
   },
   {
    "duration": 143,
    "start_time": "2023-04-20T10:56:27.740Z"
   },
   {
    "duration": 137,
    "start_time": "2023-04-20T10:56:27.885Z"
   },
   {
    "duration": 131,
    "start_time": "2023-04-20T10:56:28.024Z"
   },
   {
    "duration": 8,
    "start_time": "2023-04-20T10:56:28.156Z"
   },
   {
    "duration": 8,
    "start_time": "2023-04-20T10:56:28.166Z"
   },
   {
    "duration": 148,
    "start_time": "2023-04-20T10:56:28.176Z"
   },
   {
    "duration": 136,
    "start_time": "2023-04-20T10:56:28.326Z"
   },
   {
    "duration": 130,
    "start_time": "2023-04-20T10:56:28.464Z"
   },
   {
    "duration": 8,
    "start_time": "2023-04-20T10:56:28.596Z"
   },
   {
    "duration": 23,
    "start_time": "2023-04-20T10:56:28.606Z"
   },
   {
    "duration": 7,
    "start_time": "2023-04-20T10:56:28.631Z"
   },
   {
    "duration": 7,
    "start_time": "2023-04-20T10:56:28.640Z"
   },
   {
    "duration": 12,
    "start_time": "2023-04-20T10:56:28.648Z"
   },
   {
    "duration": 13,
    "start_time": "2023-04-20T10:56:28.662Z"
   },
   {
    "duration": 14,
    "start_time": "2023-04-20T10:56:28.677Z"
   },
   {
    "duration": 14,
    "start_time": "2023-04-20T10:56:28.692Z"
   },
   {
    "duration": 14,
    "start_time": "2023-04-20T10:56:28.736Z"
   },
   {
    "duration": 13,
    "start_time": "2023-04-20T10:56:28.752Z"
   },
   {
    "duration": 13,
    "start_time": "2023-04-20T10:56:28.771Z"
   },
   {
    "duration": 16,
    "start_time": "2023-04-20T10:56:28.786Z"
   },
   {
    "duration": 43,
    "start_time": "2023-04-20T10:56:28.803Z"
   },
   {
    "duration": 13,
    "start_time": "2023-04-20T10:56:28.848Z"
   },
   {
    "duration": 5,
    "start_time": "2023-04-20T10:56:28.863Z"
   },
   {
    "duration": 7,
    "start_time": "2023-04-20T10:56:28.869Z"
   },
   {
    "duration": 4,
    "start_time": "2023-04-20T10:56:28.877Z"
   },
   {
    "duration": 5,
    "start_time": "2023-04-20T10:56:28.883Z"
   },
   {
    "duration": 5,
    "start_time": "2023-04-20T10:56:28.889Z"
   },
   {
    "duration": 40,
    "start_time": "2023-04-20T10:56:28.896Z"
   },
   {
    "duration": 5,
    "start_time": "2023-04-20T10:56:28.939Z"
   },
   {
    "duration": 9,
    "start_time": "2023-04-20T10:56:28.946Z"
   },
   {
    "duration": 12,
    "start_time": "2023-04-20T10:56:28.957Z"
   },
   {
    "duration": 4,
    "start_time": "2023-04-20T10:56:28.971Z"
   },
   {
    "duration": 19,
    "start_time": "2023-04-20T11:17:35.582Z"
   },
   {
    "duration": 1335,
    "start_time": "2023-04-20T15:14:35.175Z"
   },
   {
    "duration": 233,
    "start_time": "2023-04-20T15:14:37.400Z"
   },
   {
    "duration": 24,
    "start_time": "2023-04-20T15:14:38.527Z"
   },
   {
    "duration": 19,
    "start_time": "2023-04-20T15:14:40.032Z"
   },
   {
    "duration": 14,
    "start_time": "2023-04-20T15:14:41.997Z"
   },
   {
    "duration": 4,
    "start_time": "2023-04-20T15:14:43.798Z"
   },
   {
    "duration": 4,
    "start_time": "2023-04-20T15:14:46.383Z"
   },
   {
    "duration": 14,
    "start_time": "2023-04-20T15:14:46.818Z"
   },
   {
    "duration": 12,
    "start_time": "2023-04-20T15:14:49.130Z"
   },
   {
    "duration": 5,
    "start_time": "2023-04-20T15:14:50.276Z"
   },
   {
    "duration": 6,
    "start_time": "2023-04-20T15:14:50.783Z"
   },
   {
    "duration": 6,
    "start_time": "2023-04-20T15:14:51.876Z"
   },
   {
    "duration": 5,
    "start_time": "2023-04-20T15:14:53.936Z"
   },
   {
    "duration": 7,
    "start_time": "2023-04-20T15:14:56.428Z"
   },
   {
    "duration": 15,
    "start_time": "2023-04-20T15:14:56.879Z"
   },
   {
    "duration": 9,
    "start_time": "2023-04-20T15:14:59.884Z"
   },
   {
    "duration": 16,
    "start_time": "2023-04-20T15:15:01.693Z"
   },
   {
    "duration": 6,
    "start_time": "2023-04-20T15:15:06.893Z"
   },
   {
    "duration": 22,
    "start_time": "2023-04-20T15:15:08.000Z"
   },
   {
    "duration": 364,
    "start_time": "2023-04-20T15:17:38.733Z"
   },
   {
    "duration": 17,
    "start_time": "2023-04-20T15:17:40.361Z"
   },
   {
    "duration": 9,
    "start_time": "2023-04-20T15:24:00.089Z"
   },
   {
    "duration": 6,
    "start_time": "2023-04-20T15:24:03.192Z"
   },
   {
    "duration": 14,
    "start_time": "2023-04-20T15:24:03.671Z"
   },
   {
    "duration": 7,
    "start_time": "2023-04-20T15:24:04.875Z"
   },
   {
    "duration": 4,
    "start_time": "2023-04-20T15:25:17.071Z"
   },
   {
    "duration": 4,
    "start_time": "2023-04-20T15:25:17.518Z"
   },
   {
    "duration": 5,
    "start_time": "2023-04-20T15:25:17.969Z"
   },
   {
    "duration": 5,
    "start_time": "2023-04-20T15:25:19.160Z"
   },
   {
    "duration": 9,
    "start_time": "2023-04-20T15:25:19.629Z"
   },
   {
    "duration": 15,
    "start_time": "2023-04-20T15:25:22.203Z"
   },
   {
    "duration": 9,
    "start_time": "2023-04-20T15:29:23.071Z"
   },
   {
    "duration": 19,
    "start_time": "2023-04-20T15:29:30.536Z"
   },
   {
    "duration": 58,
    "start_time": "2023-04-20T15:31:37.335Z"
   },
   {
    "duration": 112,
    "start_time": "2023-04-20T15:33:03.109Z"
   },
   {
    "duration": 9,
    "start_time": "2023-04-20T15:33:12.617Z"
   },
   {
    "duration": 6,
    "start_time": "2023-04-20T15:33:39.485Z"
   },
   {
    "duration": 17,
    "start_time": "2023-04-20T15:33:53.377Z"
   },
   {
    "duration": 5,
    "start_time": "2023-04-20T15:33:56.930Z"
   },
   {
    "duration": 8,
    "start_time": "2023-04-20T15:37:58.373Z"
   },
   {
    "duration": 10,
    "start_time": "2023-04-20T15:38:02.119Z"
   },
   {
    "duration": 13,
    "start_time": "2023-04-20T15:38:03.465Z"
   },
   {
    "duration": 46,
    "start_time": "2023-04-20T15:38:54.780Z"
   },
   {
    "duration": 242,
    "start_time": "2023-04-20T15:39:09.175Z"
   },
   {
    "duration": 11,
    "start_time": "2023-04-20T15:40:59.624Z"
   },
   {
    "duration": 349,
    "start_time": "2023-04-20T15:41:17.809Z"
   },
   {
    "duration": 377,
    "start_time": "2023-04-20T15:41:31.282Z"
   },
   {
    "duration": 362,
    "start_time": "2023-04-20T15:41:36.417Z"
   },
   {
    "duration": 256,
    "start_time": "2023-04-20T15:43:01.688Z"
   },
   {
    "duration": 250,
    "start_time": "2023-04-20T15:43:29.619Z"
   },
   {
    "duration": 340,
    "start_time": "2023-04-20T15:43:49.211Z"
   },
   {
    "duration": 231,
    "start_time": "2023-04-20T15:43:52.677Z"
   },
   {
    "duration": 245,
    "start_time": "2023-04-20T15:44:25.528Z"
   },
   {
    "duration": 216,
    "start_time": "2023-04-20T15:44:37.477Z"
   },
   {
    "duration": 230,
    "start_time": "2023-04-20T15:44:52.198Z"
   },
   {
    "duration": 253,
    "start_time": "2023-04-20T15:45:25.399Z"
   },
   {
    "duration": 224,
    "start_time": "2023-04-20T15:45:52.263Z"
   },
   {
    "duration": 224,
    "start_time": "2023-04-20T15:46:05.278Z"
   },
   {
    "duration": 238,
    "start_time": "2023-04-20T15:46:23.678Z"
   },
   {
    "duration": 9,
    "start_time": "2023-04-20T15:50:20.975Z"
   },
   {
    "duration": 6,
    "start_time": "2023-04-20T15:50:22.999Z"
   },
   {
    "duration": 7,
    "start_time": "2023-04-20T15:53:15.699Z"
   },
   {
    "duration": 5,
    "start_time": "2023-04-20T15:54:06.934Z"
   },
   {
    "duration": 10,
    "start_time": "2023-04-20T15:57:25.992Z"
   },
   {
    "duration": 16,
    "start_time": "2023-04-20T16:01:51.830Z"
   },
   {
    "duration": 19,
    "start_time": "2023-04-20T16:03:22.835Z"
   },
   {
    "duration": 16,
    "start_time": "2023-04-20T16:03:34.220Z"
   },
   {
    "duration": 17,
    "start_time": "2023-04-20T16:03:46.920Z"
   },
   {
    "duration": 20,
    "start_time": "2023-04-20T16:04:14.701Z"
   },
   {
    "duration": 23,
    "start_time": "2023-04-20T16:04:23.895Z"
   },
   {
    "duration": 22,
    "start_time": "2023-04-20T16:09:35.630Z"
   },
   {
    "duration": 32,
    "start_time": "2023-04-20T16:10:07.290Z"
   },
   {
    "duration": 26,
    "start_time": "2023-04-20T16:10:23.959Z"
   },
   {
    "duration": 24,
    "start_time": "2023-04-20T16:10:30.159Z"
   },
   {
    "duration": 18,
    "start_time": "2023-04-20T16:10:53.988Z"
   },
   {
    "duration": 20,
    "start_time": "2023-04-20T16:11:10.386Z"
   },
   {
    "duration": 19,
    "start_time": "2023-04-20T16:11:29.955Z"
   },
   {
    "duration": 17,
    "start_time": "2023-04-20T16:12:18.324Z"
   },
   {
    "duration": 17,
    "start_time": "2023-04-20T16:12:30.804Z"
   },
   {
    "duration": 20,
    "start_time": "2023-04-20T16:12:49.218Z"
   },
   {
    "duration": 18,
    "start_time": "2023-04-20T16:13:46.197Z"
   },
   {
    "duration": 24,
    "start_time": "2023-04-20T16:13:55.498Z"
   },
   {
    "duration": 25,
    "start_time": "2023-04-20T16:14:34.226Z"
   },
   {
    "duration": 16,
    "start_time": "2023-04-20T16:14:51.317Z"
   },
   {
    "duration": 17,
    "start_time": "2023-04-20T16:15:28.503Z"
   },
   {
    "duration": 14,
    "start_time": "2023-04-20T16:15:51.990Z"
   },
   {
    "duration": 6,
    "start_time": "2023-04-20T16:15:58.590Z"
   },
   {
    "duration": 12,
    "start_time": "2023-04-20T16:15:59.502Z"
   },
   {
    "duration": 3,
    "start_time": "2023-04-20T16:30:10.931Z"
   },
   {
    "duration": 10,
    "start_time": "2023-04-20T16:33:08.701Z"
   },
   {
    "duration": 64,
    "start_time": "2023-04-20T16:38:56.155Z"
   },
   {
    "duration": 181,
    "start_time": "2023-04-20T16:39:06.206Z"
   },
   {
    "duration": 580,
    "start_time": "2023-04-20T16:43:48.813Z"
   },
   {
    "duration": 160,
    "start_time": "2023-04-20T16:44:31.794Z"
   },
   {
    "duration": 10,
    "start_time": "2023-04-20T16:46:55.213Z"
   },
   {
    "duration": 9,
    "start_time": "2023-04-20T16:47:03.890Z"
   },
   {
    "duration": 9,
    "start_time": "2023-04-20T16:47:10.290Z"
   },
   {
    "duration": 8,
    "start_time": "2023-04-20T16:47:14.183Z"
   },
   {
    "duration": 8,
    "start_time": "2023-04-20T16:47:18.794Z"
   },
   {
    "duration": 182,
    "start_time": "2023-04-20T16:48:44.909Z"
   },
   {
    "duration": 58,
    "start_time": "2023-04-20T16:50:27.517Z"
   },
   {
    "duration": 36,
    "start_time": "2023-04-20T16:57:22.482Z"
   },
   {
    "duration": 129,
    "start_time": "2023-04-20T17:00:10.325Z"
   },
   {
    "duration": 288,
    "start_time": "2023-04-20T17:00:37.658Z"
   },
   {
    "duration": 16,
    "start_time": "2023-04-20T17:07:37.719Z"
   },
   {
    "duration": 19,
    "start_time": "2023-04-20T17:11:08.579Z"
   },
   {
    "duration": 11,
    "start_time": "2023-04-20T17:17:49.595Z"
   },
   {
    "duration": 16,
    "start_time": "2023-04-20T17:17:56.251Z"
   },
   {
    "duration": 15,
    "start_time": "2023-04-20T17:21:05.822Z"
   },
   {
    "duration": 23,
    "start_time": "2023-04-20T17:22:45.023Z"
   },
   {
    "duration": 59,
    "start_time": "2023-04-20T17:34:05.579Z"
   },
   {
    "duration": 168,
    "start_time": "2023-04-20T17:34:08.260Z"
   },
   {
    "duration": 1274,
    "start_time": "2023-04-20T17:35:33.247Z"
   },
   {
    "duration": 65,
    "start_time": "2023-04-20T17:35:34.524Z"
   },
   {
    "duration": 27,
    "start_time": "2023-04-20T17:35:34.875Z"
   },
   {
    "duration": 20,
    "start_time": "2023-04-20T17:35:35.906Z"
   },
   {
    "duration": 22,
    "start_time": "2023-04-20T17:35:37.689Z"
   },
   {
    "duration": 6,
    "start_time": "2023-04-20T17:35:39.262Z"
   },
   {
    "duration": 7,
    "start_time": "2023-04-20T17:35:41.459Z"
   },
   {
    "duration": 15,
    "start_time": "2023-04-20T17:35:41.890Z"
   },
   {
    "duration": 25,
    "start_time": "2023-04-20T17:35:44.086Z"
   },
   {
    "duration": 10,
    "start_time": "2023-04-20T17:35:44.775Z"
   },
   {
    "duration": 5,
    "start_time": "2023-04-20T17:35:45.251Z"
   },
   {
    "duration": 5,
    "start_time": "2023-04-20T17:35:45.693Z"
   },
   {
    "duration": 9,
    "start_time": "2023-04-20T17:35:47.259Z"
   },
   {
    "duration": 9,
    "start_time": "2023-04-20T17:35:49.158Z"
   },
   {
    "duration": 14,
    "start_time": "2023-04-20T17:35:49.605Z"
   },
   {
    "duration": 9,
    "start_time": "2023-04-20T17:35:51.639Z"
   },
   {
    "duration": 21,
    "start_time": "2023-04-20T17:35:52.988Z"
   },
   {
    "duration": 7,
    "start_time": "2023-04-20T17:35:54.904Z"
   },
   {
    "duration": 42,
    "start_time": "2023-04-20T17:35:55.447Z"
   },
   {
    "duration": 360,
    "start_time": "2023-04-20T17:35:59.580Z"
   },
   {
    "duration": 15,
    "start_time": "2023-04-20T17:36:02.448Z"
   },
   {
    "duration": 8,
    "start_time": "2023-04-20T17:36:05.509Z"
   },
   {
    "duration": 15,
    "start_time": "2023-04-20T17:36:06.376Z"
   },
   {
    "duration": 19,
    "start_time": "2023-04-20T17:36:07.574Z"
   },
   {
    "duration": 5,
    "start_time": "2023-04-20T17:36:13.977Z"
   },
   {
    "duration": 5,
    "start_time": "2023-04-20T17:36:14.484Z"
   },
   {
    "duration": 15,
    "start_time": "2023-04-20T17:36:14.967Z"
   },
   {
    "duration": 8,
    "start_time": "2023-04-20T17:36:16.859Z"
   },
   {
    "duration": 17,
    "start_time": "2023-04-20T17:36:17.389Z"
   },
   {
    "duration": 25,
    "start_time": "2023-04-20T17:36:18.297Z"
   },
   {
    "duration": 31,
    "start_time": "2023-04-20T17:36:25.355Z"
   },
   {
    "duration": 14,
    "start_time": "2023-04-20T17:36:27.509Z"
   },
   {
    "duration": 7,
    "start_time": "2023-04-20T17:36:27.995Z"
   },
   {
    "duration": 25,
    "start_time": "2023-04-20T17:36:31.114Z"
   },
   {
    "duration": 7,
    "start_time": "2023-04-20T17:36:33.379Z"
   },
   {
    "duration": 15,
    "start_time": "2023-04-20T17:36:37.159Z"
   },
   {
    "duration": 295,
    "start_time": "2023-04-20T17:36:37.891Z"
   },
   {
    "duration": 84,
    "start_time": "2023-04-20T17:37:05.363Z"
   },
   {
    "duration": 255,
    "start_time": "2023-04-20T17:37:12.315Z"
   },
   {
    "duration": 21,
    "start_time": "2023-04-20T17:37:28.991Z"
   },
   {
    "duration": 516,
    "start_time": "2023-04-20T17:37:30.096Z"
   },
   {
    "duration": 323,
    "start_time": "2023-04-20T17:37:32.981Z"
   },
   {
    "duration": 266,
    "start_time": "2023-04-20T17:37:35.479Z"
   },
   {
    "duration": 330,
    "start_time": "2023-04-20T17:37:37.478Z"
   },
   {
    "duration": 270,
    "start_time": "2023-04-20T17:37:40.739Z"
   },
   {
    "duration": 239,
    "start_time": "2023-04-20T17:37:43.491Z"
   },
   {
    "duration": 419,
    "start_time": "2023-04-20T17:37:48.903Z"
   },
   {
    "duration": 9,
    "start_time": "2023-04-20T17:37:58.835Z"
   },
   {
    "duration": 15,
    "start_time": "2023-04-20T17:38:00.655Z"
   },
   {
    "duration": 14,
    "start_time": "2023-04-20T17:38:02.942Z"
   },
   {
    "duration": 18,
    "start_time": "2023-04-20T17:38:04.869Z"
   },
   {
    "duration": 22,
    "start_time": "2023-04-20T17:38:06.391Z"
   },
   {
    "duration": 20,
    "start_time": "2023-04-20T17:38:08.116Z"
   },
   {
    "duration": 21,
    "start_time": "2023-04-20T17:38:09.657Z"
   },
   {
    "duration": 21,
    "start_time": "2023-04-20T17:38:11.173Z"
   },
   {
    "duration": 22,
    "start_time": "2023-04-20T17:38:12.587Z"
   },
   {
    "duration": 20,
    "start_time": "2023-04-20T17:38:14.572Z"
   },
   {
    "duration": 23,
    "start_time": "2023-04-20T17:38:16.302Z"
   },
   {
    "duration": 22,
    "start_time": "2023-04-20T17:38:18.060Z"
   },
   {
    "duration": 23,
    "start_time": "2023-04-20T17:38:19.011Z"
   },
   {
    "duration": 22,
    "start_time": "2023-04-20T17:38:19.956Z"
   },
   {
    "duration": 5,
    "start_time": "2023-04-20T17:38:28.889Z"
   },
   {
    "duration": 13,
    "start_time": "2023-04-20T17:38:29.700Z"
   },
   {
    "duration": 158,
    "start_time": "2023-04-20T17:38:31.947Z"
   },
   {
    "duration": 39,
    "start_time": "2023-04-20T17:48:20.314Z"
   },
   {
    "duration": 156,
    "start_time": "2023-04-20T17:48:24.018Z"
   },
   {
    "duration": 151,
    "start_time": "2023-04-20T17:48:55.895Z"
   },
   {
    "duration": 313,
    "start_time": "2023-04-20T17:49:06.251Z"
   },
   {
    "duration": 28,
    "start_time": "2023-04-20T18:08:29.089Z"
   },
   {
    "duration": 1521,
    "start_time": "2023-04-21T06:56:08.467Z"
   },
   {
    "duration": 117,
    "start_time": "2023-04-21T06:56:10.748Z"
   },
   {
    "duration": 29,
    "start_time": "2023-04-21T06:56:11.429Z"
   },
   {
    "duration": 22,
    "start_time": "2023-04-21T06:56:12.612Z"
   },
   {
    "duration": 17,
    "start_time": "2023-04-21T06:56:14.230Z"
   },
   {
    "duration": 5,
    "start_time": "2023-04-21T06:56:17.018Z"
   },
   {
    "duration": 3,
    "start_time": "2023-04-21T06:56:18.422Z"
   },
   {
    "duration": 17,
    "start_time": "2023-04-21T06:56:18.904Z"
   },
   {
    "duration": 17,
    "start_time": "2023-04-21T06:56:21.122Z"
   },
   {
    "duration": 8,
    "start_time": "2023-04-21T06:56:21.982Z"
   },
   {
    "duration": 6,
    "start_time": "2023-04-21T06:56:22.771Z"
   },
   {
    "duration": 31,
    "start_time": "2023-04-21T06:56:22.779Z"
   },
   {
    "duration": 5,
    "start_time": "2023-04-21T06:56:24.613Z"
   },
   {
    "duration": 7,
    "start_time": "2023-04-21T06:56:26.011Z"
   },
   {
    "duration": 21,
    "start_time": "2023-04-21T06:56:26.381Z"
   },
   {
    "duration": 12,
    "start_time": "2023-04-21T06:56:28.214Z"
   },
   {
    "duration": 20,
    "start_time": "2023-04-21T06:56:29.710Z"
   },
   {
    "duration": 5,
    "start_time": "2023-04-21T06:56:31.105Z"
   },
   {
    "duration": 25,
    "start_time": "2023-04-21T06:56:31.640Z"
   },
   {
    "duration": 392,
    "start_time": "2023-04-21T06:56:34.033Z"
   },
   {
    "duration": 11,
    "start_time": "2023-04-21T06:56:38.542Z"
   },
   {
    "duration": 8,
    "start_time": "2023-04-21T06:56:40.335Z"
   },
   {
    "duration": 13,
    "start_time": "2023-04-21T06:56:40.518Z"
   },
   {
    "duration": 5,
    "start_time": "2023-04-21T06:56:41.323Z"
   },
   {
    "duration": 4,
    "start_time": "2023-04-21T06:56:42.926Z"
   },
   {
    "duration": 4,
    "start_time": "2023-04-21T06:56:43.542Z"
   },
   {
    "duration": 7,
    "start_time": "2023-04-21T06:56:43.821Z"
   },
   {
    "duration": 5,
    "start_time": "2023-04-21T06:56:45.340Z"
   },
   {
    "duration": 16,
    "start_time": "2023-04-21T06:56:45.767Z"
   },
   {
    "duration": 18,
    "start_time": "2023-04-21T06:56:46.780Z"
   },
   {
    "duration": 20,
    "start_time": "2023-04-21T06:56:48.514Z"
   },
   {
    "duration": 11,
    "start_time": "2023-04-21T06:56:50.753Z"
   },
   {
    "duration": 5,
    "start_time": "2023-04-21T06:56:51.227Z"
   },
   {
    "duration": 19,
    "start_time": "2023-04-21T06:56:53.515Z"
   },
   {
    "duration": 4,
    "start_time": "2023-04-21T06:56:56.181Z"
   },
   {
    "duration": 12,
    "start_time": "2023-04-21T06:56:58.054Z"
   },
   {
    "duration": 278,
    "start_time": "2023-04-21T06:56:58.912Z"
   },
   {
    "duration": 11,
    "start_time": "2023-04-21T06:57:02.324Z"
   },
   {
    "duration": 415,
    "start_time": "2023-04-21T06:57:03.212Z"
   },
   {
    "duration": 314,
    "start_time": "2023-04-21T06:57:07.136Z"
   },
   {
    "duration": 278,
    "start_time": "2023-04-21T06:57:09.143Z"
   },
   {
    "duration": 271,
    "start_time": "2023-04-21T06:57:11.540Z"
   },
   {
    "duration": 255,
    "start_time": "2023-04-21T06:57:14.077Z"
   },
   {
    "duration": 247,
    "start_time": "2023-04-21T06:57:16.608Z"
   },
   {
    "duration": 236,
    "start_time": "2023-04-21T06:57:19.235Z"
   },
   {
    "duration": 7,
    "start_time": "2023-04-21T06:57:22.670Z"
   },
   {
    "duration": 6,
    "start_time": "2023-04-21T06:57:23.880Z"
   },
   {
    "duration": 15,
    "start_time": "2023-04-21T06:57:25.349Z"
   },
   {
    "duration": 18,
    "start_time": "2023-04-21T06:57:26.727Z"
   },
   {
    "duration": 92,
    "start_time": "2023-04-21T06:57:28.017Z"
   },
   {
    "duration": 18,
    "start_time": "2023-04-21T06:57:29.359Z"
   },
   {
    "duration": 22,
    "start_time": "2023-04-21T06:57:29.879Z"
   },
   {
    "duration": 18,
    "start_time": "2023-04-21T06:57:30.875Z"
   },
   {
    "duration": 21,
    "start_time": "2023-04-21T06:57:31.313Z"
   },
   {
    "duration": 20,
    "start_time": "2023-04-21T06:57:32.975Z"
   },
   {
    "duration": 18,
    "start_time": "2023-04-21T06:57:33.478Z"
   },
   {
    "duration": 18,
    "start_time": "2023-04-21T06:57:35.114Z"
   },
   {
    "duration": 17,
    "start_time": "2023-04-21T06:57:36.945Z"
   },
   {
    "duration": 18,
    "start_time": "2023-04-21T06:57:37.814Z"
   },
   {
    "duration": 6,
    "start_time": "2023-04-21T06:57:47.410Z"
   },
   {
    "duration": 13,
    "start_time": "2023-04-21T06:57:48.110Z"
   },
   {
    "duration": 4,
    "start_time": "2023-04-21T06:57:56.742Z"
   },
   {
    "duration": 2642,
    "start_time": "2023-04-21T06:58:01.074Z"
   },
   {
    "duration": 1411,
    "start_time": "2023-04-21T06:58:21.315Z"
   },
   {
    "duration": 26,
    "start_time": "2023-04-21T06:59:24.256Z"
   },
   {
    "duration": 25,
    "start_time": "2023-04-21T06:59:42.375Z"
   },
   {
    "duration": 7,
    "start_time": "2023-04-21T07:00:35.908Z"
   },
   {
    "duration": 9,
    "start_time": "2023-04-21T07:37:46.973Z"
   },
   {
    "duration": 39,
    "start_time": "2023-04-21T07:41:50.577Z"
   },
   {
    "duration": 24,
    "start_time": "2023-04-21T07:42:08.878Z"
   },
   {
    "duration": 16,
    "start_time": "2023-04-21T07:43:32.113Z"
   },
   {
    "duration": 15,
    "start_time": "2023-04-21T07:43:44.317Z"
   },
   {
    "duration": 114,
    "start_time": "2023-04-21T07:45:20.537Z"
   },
   {
    "duration": 33,
    "start_time": "2023-04-21T07:45:26.473Z"
   },
   {
    "duration": 14,
    "start_time": "2023-04-21T07:45:56.959Z"
   },
   {
    "duration": 13,
    "start_time": "2023-04-21T07:47:01.842Z"
   },
   {
    "duration": 7,
    "start_time": "2023-04-21T07:47:25.025Z"
   },
   {
    "duration": 15,
    "start_time": "2023-04-21T07:47:26.748Z"
   },
   {
    "duration": 121,
    "start_time": "2023-04-21T07:50:58.980Z"
   },
   {
    "duration": 12,
    "start_time": "2023-04-21T07:54:01.855Z"
   },
   {
    "duration": 14,
    "start_time": "2023-04-21T07:54:14.807Z"
   },
   {
    "duration": 10,
    "start_time": "2023-04-21T07:56:52.113Z"
   },
   {
    "duration": 1021,
    "start_time": "2023-04-21T07:58:40.984Z"
   },
   {
    "duration": 1092,
    "start_time": "2023-04-21T07:58:55.227Z"
   },
   {
    "duration": 122,
    "start_time": "2023-04-21T08:00:46.560Z"
   },
   {
    "duration": 17,
    "start_time": "2023-04-21T08:01:02.336Z"
   },
   {
    "duration": 170,
    "start_time": "2023-04-21T08:01:20.133Z"
   },
   {
    "duration": 14,
    "start_time": "2023-04-21T08:08:06.442Z"
   },
   {
    "duration": 967,
    "start_time": "2023-04-21T08:08:58.693Z"
   },
   {
    "duration": 9,
    "start_time": "2023-04-21T08:09:07.554Z"
   },
   {
    "duration": 168,
    "start_time": "2023-04-21T08:09:21.698Z"
   },
   {
    "duration": 8,
    "start_time": "2023-04-21T08:11:08.015Z"
   },
   {
    "duration": 11,
    "start_time": "2023-04-21T08:12:11.157Z"
   },
   {
    "duration": 10,
    "start_time": "2023-04-21T08:12:13.688Z"
   },
   {
    "duration": 8,
    "start_time": "2023-04-21T08:12:16.819Z"
   },
   {
    "duration": 262,
    "start_time": "2023-04-21T08:12:19.470Z"
   },
   {
    "duration": 7,
    "start_time": "2023-04-21T08:14:27.367Z"
   },
   {
    "duration": 9,
    "start_time": "2023-04-21T08:14:28.745Z"
   },
   {
    "duration": 11,
    "start_time": "2023-04-21T08:14:50.868Z"
   },
   {
    "duration": 358,
    "start_time": "2023-04-21T08:15:14.409Z"
   },
   {
    "duration": 6,
    "start_time": "2023-04-21T08:17:10.019Z"
   },
   {
    "duration": 10,
    "start_time": "2023-04-21T08:17:15.925Z"
   },
   {
    "duration": 6,
    "start_time": "2023-04-21T08:17:35.307Z"
   },
   {
    "duration": 252,
    "start_time": "2023-04-21T08:17:36.924Z"
   },
   {
    "duration": 11,
    "start_time": "2023-04-21T08:18:40.410Z"
   },
   {
    "duration": 11,
    "start_time": "2023-04-21T08:18:53.999Z"
   },
   {
    "duration": 97,
    "start_time": "2023-04-21T08:21:20.381Z"
   },
   {
    "duration": 9,
    "start_time": "2023-04-21T08:21:46.850Z"
   },
   {
    "duration": 13,
    "start_time": "2023-04-21T08:21:48.029Z"
   },
   {
    "duration": 184,
    "start_time": "2023-04-21T08:21:49.700Z"
   },
   {
    "duration": 10,
    "start_time": "2023-04-21T08:23:36.466Z"
   },
   {
    "duration": 16,
    "start_time": "2023-04-21T08:23:37.787Z"
   },
   {
    "duration": 9,
    "start_time": "2023-04-21T08:27:55.518Z"
   },
   {
    "duration": 6,
    "start_time": "2023-04-21T08:36:19.273Z"
   },
   {
    "duration": 10,
    "start_time": "2023-04-21T08:36:20.493Z"
   },
   {
    "duration": 190,
    "start_time": "2023-04-21T08:36:22.530Z"
   },
   {
    "duration": 38,
    "start_time": "2023-04-21T08:50:37.178Z"
   },
   {
    "duration": 124,
    "start_time": "2023-04-21T08:54:59.515Z"
   },
   {
    "duration": 173,
    "start_time": "2023-04-21T08:55:15.338Z"
   },
   {
    "duration": 28,
    "start_time": "2023-04-21T08:56:09.971Z"
   },
   {
    "duration": 192,
    "start_time": "2023-04-21T08:56:12.431Z"
   },
   {
    "duration": 40,
    "start_time": "2023-04-21T08:56:48.564Z"
   },
   {
    "duration": 201,
    "start_time": "2023-04-21T08:56:50.129Z"
   },
   {
    "duration": 214,
    "start_time": "2023-04-21T08:56:58.920Z"
   },
   {
    "duration": 223,
    "start_time": "2023-04-21T08:57:12.281Z"
   },
   {
    "duration": 11,
    "start_time": "2023-04-21T08:57:20.811Z"
   },
   {
    "duration": 21,
    "start_time": "2023-04-21T09:01:22.466Z"
   },
   {
    "duration": 19,
    "start_time": "2023-04-21T09:02:04.602Z"
   },
   {
    "duration": 178,
    "start_time": "2023-04-21T09:02:06.180Z"
   },
   {
    "duration": 191,
    "start_time": "2023-04-21T09:02:09.295Z"
   },
   {
    "duration": 184,
    "start_time": "2023-04-21T09:02:11.752Z"
   },
   {
    "duration": 10,
    "start_time": "2023-04-21T09:02:11.938Z"
   },
   {
    "duration": 21,
    "start_time": "2023-04-21T09:02:16.929Z"
   },
   {
    "duration": 184,
    "start_time": "2023-04-21T09:02:25.131Z"
   },
   {
    "duration": 189,
    "start_time": "2023-04-21T09:02:34.626Z"
   },
   {
    "duration": 171,
    "start_time": "2023-04-21T09:02:43.109Z"
   },
   {
    "duration": 9,
    "start_time": "2023-04-21T09:02:51.042Z"
   },
   {
    "duration": 20,
    "start_time": "2023-04-21T09:04:06.117Z"
   },
   {
    "duration": 168,
    "start_time": "2023-04-21T09:04:22.562Z"
   },
   {
    "duration": 157,
    "start_time": "2023-04-21T09:04:31.702Z"
   },
   {
    "duration": 152,
    "start_time": "2023-04-21T09:04:41.683Z"
   },
   {
    "duration": 11,
    "start_time": "2023-04-21T09:04:50.075Z"
   },
   {
    "duration": 5,
    "start_time": "2023-04-21T09:09:10.159Z"
   },
   {
    "duration": 21,
    "start_time": "2023-04-21T09:09:23.614Z"
   },
   {
    "duration": 20,
    "start_time": "2023-04-21T09:09:39.058Z"
   },
   {
    "duration": 27,
    "start_time": "2023-04-21T09:11:20.110Z"
   },
   {
    "duration": 1306,
    "start_time": "2023-04-21T11:06:07.343Z"
   },
   {
    "duration": 220,
    "start_time": "2023-04-21T11:06:08.651Z"
   },
   {
    "duration": 32,
    "start_time": "2023-04-21T11:06:08.873Z"
   },
   {
    "duration": 17,
    "start_time": "2023-04-21T11:06:09.535Z"
   },
   {
    "duration": 15,
    "start_time": "2023-04-21T11:06:11.006Z"
   },
   {
    "duration": 5,
    "start_time": "2023-04-21T11:06:12.370Z"
   },
   {
    "duration": 3,
    "start_time": "2023-04-21T11:06:13.608Z"
   },
   {
    "duration": 18,
    "start_time": "2023-04-21T11:06:14.016Z"
   },
   {
    "duration": 12,
    "start_time": "2023-04-21T11:06:15.840Z"
   },
   {
    "duration": 4,
    "start_time": "2023-04-21T11:06:17.279Z"
   },
   {
    "duration": 5,
    "start_time": "2023-04-21T11:06:17.728Z"
   },
   {
    "duration": 5,
    "start_time": "2023-04-21T11:06:18.134Z"
   },
   {
    "duration": 5,
    "start_time": "2023-04-21T11:06:19.593Z"
   },
   {
    "duration": 6,
    "start_time": "2023-04-21T11:06:20.924Z"
   },
   {
    "duration": 11,
    "start_time": "2023-04-21T11:06:21.289Z"
   },
   {
    "duration": 7,
    "start_time": "2023-04-21T11:06:23.465Z"
   },
   {
    "duration": 15,
    "start_time": "2023-04-21T11:06:25.295Z"
   },
   {
    "duration": 5,
    "start_time": "2023-04-21T11:06:27.055Z"
   },
   {
    "duration": 23,
    "start_time": "2023-04-21T11:06:27.801Z"
   },
   {
    "duration": 315,
    "start_time": "2023-04-21T11:06:34.999Z"
   },
   {
    "duration": 9,
    "start_time": "2023-04-21T11:06:37.558Z"
   },
   {
    "duration": 7,
    "start_time": "2023-04-21T11:06:38.958Z"
   },
   {
    "duration": 7,
    "start_time": "2023-04-21T11:06:39.389Z"
   },
   {
    "duration": 5,
    "start_time": "2023-04-21T11:06:41.132Z"
   },
   {
    "duration": 4,
    "start_time": "2023-04-21T11:06:43.370Z"
   },
   {
    "duration": 3,
    "start_time": "2023-04-21T11:06:43.769Z"
   },
   {
    "duration": 5,
    "start_time": "2023-04-21T11:06:44.332Z"
   },
   {
    "duration": 4,
    "start_time": "2023-04-21T11:06:45.656Z"
   },
   {
    "duration": 8,
    "start_time": "2023-04-21T11:06:46.090Z"
   },
   {
    "duration": 14,
    "start_time": "2023-04-21T11:06:46.586Z"
   },
   {
    "duration": 16,
    "start_time": "2023-04-21T11:06:48.056Z"
   },
   {
    "duration": 10,
    "start_time": "2023-04-21T11:06:49.097Z"
   },
   {
    "duration": 5,
    "start_time": "2023-04-21T11:06:49.539Z"
   },
   {
    "duration": 16,
    "start_time": "2023-04-21T11:06:52.035Z"
   },
   {
    "duration": 4,
    "start_time": "2023-04-21T11:06:53.285Z"
   },
   {
    "duration": 10,
    "start_time": "2023-04-21T11:06:55.256Z"
   },
   {
    "duration": 206,
    "start_time": "2023-04-21T11:06:56.061Z"
   },
   {
    "duration": 9,
    "start_time": "2023-04-21T11:06:58.725Z"
   },
   {
    "duration": 331,
    "start_time": "2023-04-21T11:06:59.553Z"
   },
   {
    "duration": 235,
    "start_time": "2023-04-21T11:07:02.226Z"
   },
   {
    "duration": 248,
    "start_time": "2023-04-21T11:07:04.170Z"
   },
   {
    "duration": 240,
    "start_time": "2023-04-21T11:07:06.254Z"
   },
   {
    "duration": 194,
    "start_time": "2023-04-21T11:07:08.709Z"
   },
   {
    "duration": 204,
    "start_time": "2023-04-21T11:07:10.720Z"
   },
   {
    "duration": 268,
    "start_time": "2023-04-21T11:07:13.209Z"
   },
   {
    "duration": 7,
    "start_time": "2023-04-21T11:07:17.104Z"
   },
   {
    "duration": 6,
    "start_time": "2023-04-21T11:07:18.456Z"
   },
   {
    "duration": 14,
    "start_time": "2023-04-21T11:07:20.096Z"
   },
   {
    "duration": 17,
    "start_time": "2023-04-21T11:07:43.279Z"
   },
   {
    "duration": 17,
    "start_time": "2023-04-21T11:07:45.073Z"
   },
   {
    "duration": 16,
    "start_time": "2023-04-21T11:07:45.789Z"
   },
   {
    "duration": 16,
    "start_time": "2023-04-21T11:07:46.553Z"
   },
   {
    "duration": 18,
    "start_time": "2023-04-21T11:07:47.327Z"
   },
   {
    "duration": 17,
    "start_time": "2023-04-21T11:07:48.113Z"
   },
   {
    "duration": 18,
    "start_time": "2023-04-21T11:07:48.884Z"
   },
   {
    "duration": 18,
    "start_time": "2023-04-21T11:07:49.595Z"
   },
   {
    "duration": 18,
    "start_time": "2023-04-21T11:07:50.145Z"
   },
   {
    "duration": 17,
    "start_time": "2023-04-21T11:07:51.022Z"
   },
   {
    "duration": 16,
    "start_time": "2023-04-21T11:07:51.758Z"
   },
   {
    "duration": 7,
    "start_time": "2023-04-21T11:07:53.890Z"
   },
   {
    "duration": 13,
    "start_time": "2023-04-21T11:07:54.670Z"
   },
   {
    "duration": 5,
    "start_time": "2023-04-21T11:07:58.704Z"
   },
   {
    "duration": 11,
    "start_time": "2023-04-21T11:07:59.573Z"
   },
   {
    "duration": 177,
    "start_time": "2023-04-21T11:08:00.689Z"
   },
   {
    "duration": 26,
    "start_time": "2023-04-21T11:08:04.972Z"
   },
   {
    "duration": 135,
    "start_time": "2023-04-21T11:08:06.568Z"
   },
   {
    "duration": 152,
    "start_time": "2023-04-21T11:08:09.707Z"
   },
   {
    "duration": 156,
    "start_time": "2023-04-21T11:08:11.220Z"
   },
   {
    "duration": 9,
    "start_time": "2023-04-21T11:08:12.719Z"
   },
   {
    "duration": 17,
    "start_time": "2023-04-21T11:08:14.775Z"
   },
   {
    "duration": 147,
    "start_time": "2023-04-21T11:08:15.809Z"
   },
   {
    "duration": 149,
    "start_time": "2023-04-21T11:08:17.866Z"
   },
   {
    "duration": 148,
    "start_time": "2023-04-21T11:08:19.800Z"
   },
   {
    "duration": 9,
    "start_time": "2023-04-21T11:08:21.059Z"
   },
   {
    "duration": 17,
    "start_time": "2023-04-21T11:08:22.404Z"
   },
   {
    "duration": 166,
    "start_time": "2023-04-21T11:08:23.830Z"
   },
   {
    "duration": 143,
    "start_time": "2023-04-21T11:08:25.115Z"
   },
   {
    "duration": 132,
    "start_time": "2023-04-21T11:08:25.801Z"
   },
   {
    "duration": 8,
    "start_time": "2023-04-21T11:08:27.221Z"
   },
   {
    "duration": 141,
    "start_time": "2023-04-21T11:08:29.360Z"
   },
   {
    "duration": 19,
    "start_time": "2023-04-21T11:09:18.769Z"
   },
   {
    "duration": 21,
    "start_time": "2023-04-21T11:11:06.989Z"
   },
   {
    "duration": 18,
    "start_time": "2023-04-21T11:12:57.834Z"
   },
   {
    "duration": 19,
    "start_time": "2023-04-21T11:13:41.109Z"
   },
   {
    "duration": 22,
    "start_time": "2023-04-21T11:18:56.678Z"
   },
   {
    "duration": 4,
    "start_time": "2023-04-21T11:21:16.997Z"
   },
   {
    "duration": 8,
    "start_time": "2023-04-21T11:21:44.729Z"
   },
   {
    "duration": 4,
    "start_time": "2023-04-21T11:21:49.894Z"
   },
   {
    "duration": 10,
    "start_time": "2023-04-21T11:24:52.859Z"
   },
   {
    "duration": 11,
    "start_time": "2023-04-21T11:24:59.923Z"
   },
   {
    "duration": 47,
    "start_time": "2023-04-21T11:25:25.453Z"
   },
   {
    "duration": 16,
    "start_time": "2023-04-21T11:25:40.234Z"
   },
   {
    "duration": 12,
    "start_time": "2023-04-21T11:25:46.119Z"
   },
   {
    "duration": 15,
    "start_time": "2023-04-21T11:26:00.553Z"
   },
   {
    "duration": 25,
    "start_time": "2023-04-21T11:26:40.562Z"
   },
   {
    "duration": 11,
    "start_time": "2023-04-21T11:27:27.290Z"
   },
   {
    "duration": 17,
    "start_time": "2023-04-21T11:28:25.703Z"
   },
   {
    "duration": 11,
    "start_time": "2023-04-21T11:29:09.319Z"
   },
   {
    "duration": 13,
    "start_time": "2023-04-21T11:29:22.242Z"
   },
   {
    "duration": 10,
    "start_time": "2023-04-21T11:29:38.713Z"
   },
   {
    "duration": 5,
    "start_time": "2023-04-21T11:32:33.381Z"
   },
   {
    "duration": 5,
    "start_time": "2023-04-21T11:32:34.583Z"
   },
   {
    "duration": 5,
    "start_time": "2023-04-21T11:32:35.285Z"
   },
   {
    "duration": 13,
    "start_time": "2023-04-21T11:32:38.728Z"
   },
   {
    "duration": 15,
    "start_time": "2023-04-21T11:32:44.642Z"
   },
   {
    "duration": 12,
    "start_time": "2023-04-21T11:32:45.559Z"
   },
   {
    "duration": 17,
    "start_time": "2023-04-21T11:35:03.381Z"
   },
   {
    "duration": 11,
    "start_time": "2023-04-21T11:35:15.168Z"
   },
   {
    "duration": 15,
    "start_time": "2023-04-21T11:36:21.054Z"
   },
   {
    "duration": 12,
    "start_time": "2023-04-21T11:36:30.256Z"
   },
   {
    "duration": 12,
    "start_time": "2023-04-21T11:36:51.103Z"
   },
   {
    "duration": 14,
    "start_time": "2023-04-21T12:02:04.510Z"
   },
   {
    "duration": 14,
    "start_time": "2023-04-21T12:02:06.651Z"
   },
   {
    "duration": 12,
    "start_time": "2023-04-21T12:02:08.067Z"
   },
   {
    "duration": 17,
    "start_time": "2023-04-21T12:03:12.229Z"
   },
   {
    "duration": 14,
    "start_time": "2023-04-21T12:03:14.189Z"
   },
   {
    "duration": 14,
    "start_time": "2023-04-21T12:03:15.681Z"
   },
   {
    "duration": 5,
    "start_time": "2023-04-21T12:04:47.782Z"
   },
   {
    "duration": 5,
    "start_time": "2023-04-21T12:04:49.900Z"
   },
   {
    "duration": 5,
    "start_time": "2023-04-21T12:05:57.537Z"
   },
   {
    "duration": 5,
    "start_time": "2023-04-21T12:06:54.097Z"
   },
   {
    "duration": 4,
    "start_time": "2023-04-21T12:06:55.313Z"
   },
   {
    "duration": 5,
    "start_time": "2023-04-21T12:07:57.582Z"
   },
   {
    "duration": 6,
    "start_time": "2023-04-21T12:07:58.771Z"
   },
   {
    "duration": 5,
    "start_time": "2023-04-21T12:08:12.418Z"
   },
   {
    "duration": 4,
    "start_time": "2023-04-21T12:08:20.463Z"
   },
   {
    "duration": 4,
    "start_time": "2023-04-21T12:08:21.751Z"
   },
   {
    "duration": 1251,
    "start_time": "2023-04-21T12:20:03.433Z"
   },
   {
    "duration": 56,
    "start_time": "2023-04-21T12:20:04.686Z"
   },
   {
    "duration": 27,
    "start_time": "2023-04-21T12:20:04.744Z"
   },
   {
    "duration": 19,
    "start_time": "2023-04-21T12:20:05.117Z"
   },
   {
    "duration": 13,
    "start_time": "2023-04-21T12:20:05.879Z"
   },
   {
    "duration": 3,
    "start_time": "2023-04-21T12:20:06.640Z"
   },
   {
    "duration": 4,
    "start_time": "2023-04-21T12:20:08.364Z"
   },
   {
    "duration": 14,
    "start_time": "2023-04-21T12:20:08.793Z"
   },
   {
    "duration": 13,
    "start_time": "2023-04-21T12:20:10.805Z"
   },
   {
    "duration": 4,
    "start_time": "2023-04-21T12:20:11.205Z"
   },
   {
    "duration": 4,
    "start_time": "2023-04-21T12:20:11.837Z"
   },
   {
    "duration": 6,
    "start_time": "2023-04-21T12:20:11.905Z"
   },
   {
    "duration": 5,
    "start_time": "2023-04-21T12:20:13.773Z"
   },
   {
    "duration": 7,
    "start_time": "2023-04-21T12:20:14.528Z"
   },
   {
    "duration": 14,
    "start_time": "2023-04-21T12:20:14.889Z"
   },
   {
    "duration": 9,
    "start_time": "2023-04-21T12:20:16.319Z"
   },
   {
    "duration": 15,
    "start_time": "2023-04-21T12:20:17.931Z"
   },
   {
    "duration": 6,
    "start_time": "2023-04-21T12:20:19.214Z"
   },
   {
    "duration": 21,
    "start_time": "2023-04-21T12:20:19.578Z"
   },
   {
    "duration": 317,
    "start_time": "2023-04-21T12:20:21.268Z"
   },
   {
    "duration": 9,
    "start_time": "2023-04-21T12:20:23.537Z"
   },
   {
    "duration": 7,
    "start_time": "2023-04-21T12:20:24.801Z"
   },
   {
    "duration": 7,
    "start_time": "2023-04-21T12:20:25.161Z"
   },
   {
    "duration": 6,
    "start_time": "2023-04-21T12:20:25.542Z"
   },
   {
    "duration": 3,
    "start_time": "2023-04-21T12:20:27.225Z"
   },
   {
    "duration": 4,
    "start_time": "2023-04-21T12:20:27.678Z"
   },
   {
    "duration": 4,
    "start_time": "2023-04-21T12:20:28.101Z"
   },
   {
    "duration": 5,
    "start_time": "2023-04-21T12:20:28.630Z"
   },
   {
    "duration": 9,
    "start_time": "2023-04-21T12:20:29.215Z"
   },
   {
    "duration": 16,
    "start_time": "2023-04-21T12:20:29.691Z"
   },
   {
    "duration": 17,
    "start_time": "2023-04-21T12:20:33.449Z"
   },
   {
    "duration": 9,
    "start_time": "2023-04-21T12:20:35.062Z"
   },
   {
    "duration": 5,
    "start_time": "2023-04-21T12:20:35.938Z"
   },
   {
    "duration": 16,
    "start_time": "2023-04-21T12:20:37.653Z"
   },
   {
    "duration": 4,
    "start_time": "2023-04-21T12:20:38.443Z"
   },
   {
    "duration": 9,
    "start_time": "2023-04-21T12:20:40.122Z"
   },
   {
    "duration": 215,
    "start_time": "2023-04-21T12:20:40.540Z"
   },
   {
    "duration": 11,
    "start_time": "2023-04-21T12:20:44.342Z"
   },
   {
    "duration": 335,
    "start_time": "2023-04-21T12:20:44.854Z"
   },
   {
    "duration": 220,
    "start_time": "2023-04-21T12:20:46.516Z"
   },
   {
    "duration": 229,
    "start_time": "2023-04-21T12:20:47.383Z"
   },
   {
    "duration": 249,
    "start_time": "2023-04-21T12:20:48.093Z"
   },
   {
    "duration": 233,
    "start_time": "2023-04-21T12:20:48.945Z"
   },
   {
    "duration": 234,
    "start_time": "2023-04-21T12:20:49.616Z"
   },
   {
    "duration": 303,
    "start_time": "2023-04-21T12:20:51.048Z"
   },
   {
    "duration": 7,
    "start_time": "2023-04-21T12:20:53.878Z"
   },
   {
    "duration": 5,
    "start_time": "2023-04-21T12:20:55.281Z"
   },
   {
    "duration": 13,
    "start_time": "2023-04-21T12:20:56.305Z"
   },
   {
    "duration": 20,
    "start_time": "2023-04-21T12:20:57.858Z"
   },
   {
    "duration": 17,
    "start_time": "2023-04-21T12:20:58.763Z"
   },
   {
    "duration": 16,
    "start_time": "2023-04-21T12:20:59.201Z"
   },
   {
    "duration": 17,
    "start_time": "2023-04-21T12:20:59.606Z"
   },
   {
    "duration": 16,
    "start_time": "2023-04-21T12:20:59.987Z"
   },
   {
    "duration": 20,
    "start_time": "2023-04-21T12:21:00.682Z"
   },
   {
    "duration": 17,
    "start_time": "2023-04-21T12:21:01.177Z"
   },
   {
    "duration": 16,
    "start_time": "2023-04-21T12:21:01.971Z"
   },
   {
    "duration": 16,
    "start_time": "2023-04-21T12:21:02.452Z"
   },
   {
    "duration": 15,
    "start_time": "2023-04-21T12:21:03.225Z"
   },
   {
    "duration": 17,
    "start_time": "2023-04-21T12:21:03.603Z"
   },
   {
    "duration": 7,
    "start_time": "2023-04-21T12:21:06.279Z"
   },
   {
    "duration": 12,
    "start_time": "2023-04-21T12:21:06.708Z"
   },
   {
    "duration": 7,
    "start_time": "2023-04-21T12:21:09.454Z"
   },
   {
    "duration": 10,
    "start_time": "2023-04-21T12:21:09.858Z"
   },
   {
    "duration": 154,
    "start_time": "2023-04-21T12:21:10.408Z"
   },
   {
    "duration": 19,
    "start_time": "2023-04-21T12:21:12.871Z"
   },
   {
    "duration": 183,
    "start_time": "2023-04-21T12:21:13.991Z"
   },
   {
    "duration": 148,
    "start_time": "2023-04-21T12:21:15.740Z"
   },
   {
    "duration": 146,
    "start_time": "2023-04-21T12:21:18.047Z"
   },
   {
    "duration": 9,
    "start_time": "2023-04-21T12:21:18.685Z"
   },
   {
    "duration": 20,
    "start_time": "2023-04-21T12:21:20.385Z"
   },
   {
    "duration": 152,
    "start_time": "2023-04-21T12:21:20.805Z"
   },
   {
    "duration": 142,
    "start_time": "2023-04-21T12:21:21.871Z"
   },
   {
    "duration": 170,
    "start_time": "2023-04-21T12:21:22.839Z"
   },
   {
    "duration": 12,
    "start_time": "2023-04-21T12:21:23.907Z"
   },
   {
    "duration": 17,
    "start_time": "2023-04-21T12:21:24.480Z"
   },
   {
    "duration": 155,
    "start_time": "2023-04-21T12:21:25.383Z"
   },
   {
    "duration": 138,
    "start_time": "2023-04-21T12:21:26.353Z"
   },
   {
    "duration": 137,
    "start_time": "2023-04-21T12:21:27.309Z"
   },
   {
    "duration": 10,
    "start_time": "2023-04-21T12:21:28.329Z"
   },
   {
    "duration": 12,
    "start_time": "2023-04-21T12:21:30.229Z"
   },
   {
    "duration": 6,
    "start_time": "2023-04-21T12:21:33.240Z"
   },
   {
    "duration": 7,
    "start_time": "2023-04-21T12:21:33.702Z"
   },
   {
    "duration": 7,
    "start_time": "2023-04-21T12:21:33.903Z"
   },
   {
    "duration": 16,
    "start_time": "2023-04-21T12:21:34.362Z"
   },
   {
    "duration": 14,
    "start_time": "2023-04-21T12:21:35.005Z"
   },
   {
    "duration": 13,
    "start_time": "2023-04-21T12:21:36.037Z"
   },
   {
    "duration": 14,
    "start_time": "2023-04-21T12:21:37.782Z"
   },
   {
    "duration": 13,
    "start_time": "2023-04-21T12:21:38.263Z"
   },
   {
    "duration": 14,
    "start_time": "2023-04-21T12:21:38.875Z"
   },
   {
    "duration": 14,
    "start_time": "2023-04-21T12:21:40.952Z"
   },
   {
    "duration": 13,
    "start_time": "2023-04-21T12:21:41.507Z"
   },
   {
    "duration": 14,
    "start_time": "2023-04-21T12:21:42.357Z"
   },
   {
    "duration": 5,
    "start_time": "2023-04-21T12:21:44.774Z"
   },
   {
    "duration": 4,
    "start_time": "2023-04-21T12:21:45.876Z"
   },
   {
    "duration": 4,
    "start_time": "2023-04-21T12:21:46.302Z"
   },
   {
    "duration": 5,
    "start_time": "2023-04-21T12:21:48.408Z"
   },
   {
    "duration": 5,
    "start_time": "2023-04-21T12:21:48.783Z"
   },
   {
    "duration": 5,
    "start_time": "2023-04-21T12:21:50.161Z"
   },
   {
    "duration": 6,
    "start_time": "2023-04-21T12:21:50.530Z"
   },
   {
    "duration": 5,
    "start_time": "2023-04-21T12:21:50.944Z"
   },
   {
    "duration": 5,
    "start_time": "2023-04-21T12:21:52.513Z"
   },
   {
    "duration": 4,
    "start_time": "2023-04-21T12:21:52.951Z"
   },
   {
    "duration": 1302,
    "start_time": "2023-04-22T07:00:09.457Z"
   },
   {
    "duration": 198,
    "start_time": "2023-04-22T07:00:10.761Z"
   },
   {
    "duration": 26,
    "start_time": "2023-04-22T07:00:10.961Z"
   },
   {
    "duration": 21,
    "start_time": "2023-04-22T07:00:10.989Z"
   },
   {
    "duration": 22,
    "start_time": "2023-04-22T07:00:11.012Z"
   },
   {
    "duration": 5,
    "start_time": "2023-04-22T07:00:11.035Z"
   },
   {
    "duration": 25,
    "start_time": "2023-04-22T07:00:11.042Z"
   },
   {
    "duration": 17,
    "start_time": "2023-04-22T07:00:11.069Z"
   },
   {
    "duration": 24,
    "start_time": "2023-04-22T07:00:11.088Z"
   },
   {
    "duration": 6,
    "start_time": "2023-04-22T07:00:11.115Z"
   },
   {
    "duration": 8,
    "start_time": "2023-04-22T07:00:11.122Z"
   },
   {
    "duration": 10,
    "start_time": "2023-04-22T07:00:11.132Z"
   },
   {
    "duration": 9,
    "start_time": "2023-04-22T07:00:11.144Z"
   },
   {
    "duration": 12,
    "start_time": "2023-04-22T07:00:11.155Z"
   },
   {
    "duration": 16,
    "start_time": "2023-04-22T07:00:11.169Z"
   },
   {
    "duration": 45,
    "start_time": "2023-04-22T07:00:11.212Z"
   },
   {
    "duration": 43,
    "start_time": "2023-04-22T07:00:11.259Z"
   },
   {
    "duration": 7,
    "start_time": "2023-04-22T07:00:11.303Z"
   },
   {
    "duration": 27,
    "start_time": "2023-04-22T07:00:11.312Z"
   },
   {
    "duration": 370,
    "start_time": "2023-04-22T07:00:11.341Z"
   },
   {
    "duration": 10,
    "start_time": "2023-04-22T07:00:11.713Z"
   },
   {
    "duration": 6,
    "start_time": "2023-04-22T07:00:11.724Z"
   },
   {
    "duration": 10,
    "start_time": "2023-04-22T07:00:11.732Z"
   },
   {
    "duration": 7,
    "start_time": "2023-04-22T07:00:11.744Z"
   },
   {
    "duration": 5,
    "start_time": "2023-04-22T07:00:11.753Z"
   },
   {
    "duration": 6,
    "start_time": "2023-04-22T07:00:11.759Z"
   },
   {
    "duration": 6,
    "start_time": "2023-04-22T07:00:11.767Z"
   },
   {
    "duration": 5,
    "start_time": "2023-04-22T07:00:11.814Z"
   },
   {
    "duration": 12,
    "start_time": "2023-04-22T07:00:11.821Z"
   },
   {
    "duration": 16,
    "start_time": "2023-04-22T07:00:11.835Z"
   },
   {
    "duration": 18,
    "start_time": "2023-04-22T07:00:11.852Z"
   },
   {
    "duration": 41,
    "start_time": "2023-04-22T07:00:11.871Z"
   },
   {
    "duration": 6,
    "start_time": "2023-04-22T07:00:11.913Z"
   },
   {
    "duration": 25,
    "start_time": "2023-04-22T07:00:11.921Z"
   },
   {
    "duration": 7,
    "start_time": "2023-04-22T07:00:11.948Z"
   },
   {
    "duration": 11,
    "start_time": "2023-04-22T07:00:11.957Z"
   },
   {
    "duration": 304,
    "start_time": "2023-04-22T07:00:11.970Z"
   },
   {
    "duration": 13,
    "start_time": "2023-04-22T07:00:12.276Z"
   },
   {
    "duration": 386,
    "start_time": "2023-04-22T07:00:12.291Z"
   },
   {
    "duration": 283,
    "start_time": "2023-04-22T07:00:12.679Z"
   },
   {
    "duration": 348,
    "start_time": "2023-04-22T07:00:12.964Z"
   },
   {
    "duration": 507,
    "start_time": "2023-04-22T07:00:13.314Z"
   },
   {
    "duration": 529,
    "start_time": "2023-04-22T07:00:13.823Z"
   },
   {
    "duration": 661,
    "start_time": "2023-04-22T07:00:14.354Z"
   },
   {
    "duration": 697,
    "start_time": "2023-04-22T07:00:15.017Z"
   },
   {
    "duration": 6,
    "start_time": "2023-04-22T07:00:15.716Z"
   },
   {
    "duration": 13,
    "start_time": "2023-04-22T07:00:15.724Z"
   },
   {
    "duration": 77,
    "start_time": "2023-04-22T07:00:15.739Z"
   },
   {
    "duration": 94,
    "start_time": "2023-04-22T07:00:15.819Z"
   },
   {
    "duration": 23,
    "start_time": "2023-04-22T07:00:15.915Z"
   },
   {
    "duration": 84,
    "start_time": "2023-04-22T07:00:15.940Z"
   },
   {
    "duration": 36,
    "start_time": "2023-04-22T07:00:16.026Z"
   },
   {
    "duration": 69,
    "start_time": "2023-04-22T07:00:16.063Z"
   },
   {
    "duration": 79,
    "start_time": "2023-04-22T07:00:16.134Z"
   },
   {
    "duration": 23,
    "start_time": "2023-04-22T07:00:16.215Z"
   },
   {
    "duration": 23,
    "start_time": "2023-04-22T07:00:16.239Z"
   },
   {
    "duration": 63,
    "start_time": "2023-04-22T07:00:16.264Z"
   },
   {
    "duration": 26,
    "start_time": "2023-04-22T07:00:16.328Z"
   },
   {
    "duration": 69,
    "start_time": "2023-04-22T07:00:16.356Z"
   },
   {
    "duration": 11,
    "start_time": "2023-04-22T07:00:16.426Z"
   },
   {
    "duration": 72,
    "start_time": "2023-04-22T07:00:16.439Z"
   },
   {
    "duration": 7,
    "start_time": "2023-04-22T07:00:16.514Z"
   },
   {
    "duration": 11,
    "start_time": "2023-04-22T07:00:16.523Z"
   },
   {
    "duration": 376,
    "start_time": "2023-04-22T07:00:16.536Z"
   },
   {
    "duration": 19,
    "start_time": "2023-04-22T07:00:16.913Z"
   },
   {
    "duration": 379,
    "start_time": "2023-04-22T07:00:16.935Z"
   },
   {
    "duration": 404,
    "start_time": "2023-04-22T07:00:17.315Z"
   },
   {
    "duration": 402,
    "start_time": "2023-04-22T07:00:17.720Z"
   },
   {
    "duration": 9,
    "start_time": "2023-04-22T07:00:18.124Z"
   },
   {
    "duration": 84,
    "start_time": "2023-04-22T07:00:18.135Z"
   },
   {
    "duration": 312,
    "start_time": "2023-04-22T07:00:18.221Z"
   },
   {
    "duration": 318,
    "start_time": "2023-04-22T07:00:18.535Z"
   },
   {
    "duration": 483,
    "start_time": "2023-04-22T07:00:18.855Z"
   },
   {
    "duration": 9,
    "start_time": "2023-04-22T07:00:19.339Z"
   },
   {
    "duration": 78,
    "start_time": "2023-04-22T07:00:19.350Z"
   },
   {
    "duration": 298,
    "start_time": "2023-04-22T07:00:19.430Z"
   },
   {
    "duration": 303,
    "start_time": "2023-04-22T07:00:19.730Z"
   },
   {
    "duration": 383,
    "start_time": "2023-04-22T07:00:20.035Z"
   },
   {
    "duration": 10,
    "start_time": "2023-04-22T07:00:20.420Z"
   },
   {
    "duration": 13,
    "start_time": "2023-04-22T07:00:20.432Z"
   },
   {
    "duration": 12,
    "start_time": "2023-04-22T07:00:20.447Z"
   },
   {
    "duration": 7,
    "start_time": "2023-04-22T07:00:20.520Z"
   },
   {
    "duration": 16,
    "start_time": "2023-04-22T07:00:20.529Z"
   },
   {
    "duration": 65,
    "start_time": "2023-04-22T07:00:20.547Z"
   },
   {
    "duration": 19,
    "start_time": "2023-04-22T07:00:20.614Z"
   },
   {
    "duration": 31,
    "start_time": "2023-04-22T07:00:20.634Z"
   },
   {
    "duration": 60,
    "start_time": "2023-04-22T07:00:20.667Z"
   },
   {
    "duration": 32,
    "start_time": "2023-04-22T07:00:20.729Z"
   },
   {
    "duration": 60,
    "start_time": "2023-04-22T07:00:20.763Z"
   },
   {
    "duration": 19,
    "start_time": "2023-04-22T07:00:20.825Z"
   },
   {
    "duration": 73,
    "start_time": "2023-04-22T07:00:20.846Z"
   },
   {
    "duration": 47,
    "start_time": "2023-04-22T07:00:20.920Z"
   },
   {
    "duration": 47,
    "start_time": "2023-04-22T07:00:20.969Z"
   },
   {
    "duration": 28,
    "start_time": "2023-04-22T07:00:21.018Z"
   },
   {
    "duration": 8,
    "start_time": "2023-04-22T07:00:21.048Z"
   },
   {
    "duration": 56,
    "start_time": "2023-04-22T07:00:21.058Z"
   },
   {
    "duration": 13,
    "start_time": "2023-04-22T07:00:21.116Z"
   },
   {
    "duration": 27,
    "start_time": "2023-04-22T07:00:21.131Z"
   },
   {
    "duration": 53,
    "start_time": "2023-04-22T07:00:21.160Z"
   },
   {
    "duration": 16,
    "start_time": "2023-04-22T07:00:21.215Z"
   },
   {
    "duration": 40,
    "start_time": "2023-04-22T07:00:21.233Z"
   },
   {
    "duration": 39,
    "start_time": "2023-04-22T07:00:21.275Z"
   },
   {
    "duration": 235,
    "start_time": "2023-04-22T07:00:53.021Z"
   },
   {
    "duration": 228,
    "start_time": "2023-04-22T07:01:04.137Z"
   },
   {
    "duration": 4,
    "start_time": "2023-04-22T07:04:38.581Z"
   },
   {
    "duration": 53,
    "start_time": "2023-04-22T07:04:38.586Z"
   },
   {
    "duration": 22,
    "start_time": "2023-04-22T07:04:38.641Z"
   },
   {
    "duration": 48,
    "start_time": "2023-04-22T07:04:38.676Z"
   },
   {
    "duration": 20,
    "start_time": "2023-04-22T07:04:38.726Z"
   },
   {
    "duration": 4,
    "start_time": "2023-04-22T07:04:38.748Z"
   },
   {
    "duration": 3,
    "start_time": "2023-04-22T07:04:38.754Z"
   },
   {
    "duration": 55,
    "start_time": "2023-04-22T07:04:38.759Z"
   },
   {
    "duration": 19,
    "start_time": "2023-04-22T07:04:38.819Z"
   },
   {
    "duration": 5,
    "start_time": "2023-04-22T07:04:38.840Z"
   },
   {
    "duration": 6,
    "start_time": "2023-04-22T07:04:38.847Z"
   },
   {
    "duration": 13,
    "start_time": "2023-04-22T07:04:38.855Z"
   },
   {
    "duration": 51,
    "start_time": "2023-04-22T07:04:38.870Z"
   },
   {
    "duration": 110,
    "start_time": "2023-04-22T07:04:38.923Z"
   },
   {
    "duration": 29,
    "start_time": "2023-04-22T07:04:39.035Z"
   },
   {
    "duration": 13,
    "start_time": "2023-04-22T07:04:39.067Z"
   },
   {
    "duration": 33,
    "start_time": "2023-04-22T07:04:39.082Z"
   },
   {
    "duration": 5,
    "start_time": "2023-04-22T07:04:39.117Z"
   },
   {
    "duration": 24,
    "start_time": "2023-04-22T07:04:39.123Z"
   },
   {
    "duration": 385,
    "start_time": "2023-04-22T07:04:39.148Z"
   },
   {
    "duration": 9,
    "start_time": "2023-04-22T07:04:39.535Z"
   },
   {
    "duration": 6,
    "start_time": "2023-04-22T07:04:39.546Z"
   },
   {
    "duration": 11,
    "start_time": "2023-04-22T07:04:39.554Z"
   },
   {
    "duration": 8,
    "start_time": "2023-04-22T07:04:39.572Z"
   },
   {
    "duration": 4,
    "start_time": "2023-04-22T07:04:39.612Z"
   },
   {
    "duration": 4,
    "start_time": "2023-04-22T07:04:39.618Z"
   },
   {
    "duration": 6,
    "start_time": "2023-04-22T07:04:39.624Z"
   },
   {
    "duration": 5,
    "start_time": "2023-04-22T07:04:39.631Z"
   },
   {
    "duration": 10,
    "start_time": "2023-04-22T07:04:39.638Z"
   },
   {
    "duration": 14,
    "start_time": "2023-04-22T07:04:39.650Z"
   },
   {
    "duration": 53,
    "start_time": "2023-04-22T07:04:39.666Z"
   },
   {
    "duration": 9,
    "start_time": "2023-04-22T07:04:39.721Z"
   },
   {
    "duration": 4,
    "start_time": "2023-04-22T07:04:39.732Z"
   },
   {
    "duration": 19,
    "start_time": "2023-04-22T07:04:39.738Z"
   },
   {
    "duration": 6,
    "start_time": "2023-04-22T07:04:39.759Z"
   },
   {
    "duration": 11,
    "start_time": "2023-04-22T07:04:39.766Z"
   },
   {
    "duration": 306,
    "start_time": "2023-04-22T07:04:39.779Z"
   },
   {
    "duration": 13,
    "start_time": "2023-04-22T07:04:40.087Z"
   },
   {
    "duration": 384,
    "start_time": "2023-04-22T07:04:40.102Z"
   },
   {
    "duration": 255,
    "start_time": "2023-04-22T07:04:40.488Z"
   },
   {
    "duration": 255,
    "start_time": "2023-04-22T07:04:40.745Z"
   },
   {
    "duration": 262,
    "start_time": "2023-04-22T07:04:41.002Z"
   },
   {
    "duration": 251,
    "start_time": "2023-04-22T07:04:41.266Z"
   },
   {
    "duration": 258,
    "start_time": "2023-04-22T07:04:41.519Z"
   },
   {
    "duration": 375,
    "start_time": "2023-04-22T07:04:41.779Z"
   },
   {
    "duration": 59,
    "start_time": "2023-04-22T07:04:42.156Z"
   },
   {
    "duration": 22,
    "start_time": "2023-04-22T07:04:42.217Z"
   },
   {
    "duration": 15,
    "start_time": "2023-04-22T07:04:42.241Z"
   },
   {
    "duration": 59,
    "start_time": "2023-04-22T07:04:42.258Z"
   },
   {
    "duration": 17,
    "start_time": "2023-04-22T07:04:42.319Z"
   },
   {
    "duration": 79,
    "start_time": "2023-04-22T07:04:42.338Z"
   },
   {
    "duration": 19,
    "start_time": "2023-04-22T07:04:42.420Z"
   },
   {
    "duration": 73,
    "start_time": "2023-04-22T07:04:42.441Z"
   },
   {
    "duration": 17,
    "start_time": "2023-04-22T07:04:42.517Z"
   },
   {
    "duration": 234,
    "start_time": "2023-04-22T07:04:42.536Z"
   },
   {
    "duration": 50,
    "start_time": "2023-04-22T07:04:42.771Z"
   },
   {
    "duration": 31,
    "start_time": "2023-04-22T07:04:42.823Z"
   },
   {
    "duration": 64,
    "start_time": "2023-04-22T07:04:42.856Z"
   },
   {
    "duration": 17,
    "start_time": "2023-04-22T07:04:42.922Z"
   },
   {
    "duration": 102,
    "start_time": "2023-04-22T07:04:42.941Z"
   },
   {
    "duration": 6,
    "start_time": "2023-04-22T07:04:43.045Z"
   },
   {
    "duration": 72,
    "start_time": "2023-04-22T07:04:43.053Z"
   },
   {
    "duration": 8,
    "start_time": "2023-04-22T07:04:43.128Z"
   },
   {
    "duration": 16,
    "start_time": "2023-04-22T07:04:43.138Z"
   },
   {
    "duration": 564,
    "start_time": "2023-04-22T07:04:43.156Z"
   },
   {
    "duration": 33,
    "start_time": "2023-04-22T07:04:43.723Z"
   },
   {
    "duration": 268,
    "start_time": "2023-04-22T07:04:43.757Z"
   },
   {
    "duration": 191,
    "start_time": "2023-04-22T07:04:44.027Z"
   },
   {
    "duration": 291,
    "start_time": "2023-04-22T07:04:44.227Z"
   },
   {
    "duration": 10,
    "start_time": "2023-04-22T07:04:44.519Z"
   },
   {
    "duration": 174,
    "start_time": "2023-04-22T07:04:44.530Z"
   },
   {
    "duration": 168,
    "start_time": "2023-04-22T07:04:44.707Z"
   },
   {
    "duration": 180,
    "start_time": "2023-04-22T07:04:44.877Z"
   },
   {
    "duration": 171,
    "start_time": "2023-04-22T07:04:45.059Z"
   },
   {
    "duration": 9,
    "start_time": "2023-04-22T07:04:45.232Z"
   },
   {
    "duration": 19,
    "start_time": "2023-04-22T07:04:45.243Z"
   },
   {
    "duration": 182,
    "start_time": "2023-04-22T07:04:45.263Z"
   },
   {
    "duration": 178,
    "start_time": "2023-04-22T07:04:45.447Z"
   },
   {
    "duration": 179,
    "start_time": "2023-04-22T07:04:45.627Z"
   },
   {
    "duration": 11,
    "start_time": "2023-04-22T07:04:45.811Z"
   },
   {
    "duration": 17,
    "start_time": "2023-04-22T07:04:45.824Z"
   },
   {
    "duration": 7,
    "start_time": "2023-04-22T07:04:45.843Z"
   },
   {
    "duration": 14,
    "start_time": "2023-04-22T07:04:45.852Z"
   },
   {
    "duration": 27,
    "start_time": "2023-04-22T07:04:45.868Z"
   },
   {
    "duration": 26,
    "start_time": "2023-04-22T07:04:45.896Z"
   },
   {
    "duration": 17,
    "start_time": "2023-04-22T07:04:45.924Z"
   },
   {
    "duration": 16,
    "start_time": "2023-04-22T07:04:45.943Z"
   },
   {
    "duration": 52,
    "start_time": "2023-04-22T07:04:45.962Z"
   },
   {
    "duration": 16,
    "start_time": "2023-04-22T07:04:46.016Z"
   },
   {
    "duration": 38,
    "start_time": "2023-04-22T07:04:46.034Z"
   },
   {
    "duration": 17,
    "start_time": "2023-04-22T07:04:46.075Z"
   },
   {
    "duration": 31,
    "start_time": "2023-04-22T07:04:46.094Z"
   },
   {
    "duration": 14,
    "start_time": "2023-04-22T07:04:46.127Z"
   },
   {
    "duration": 7,
    "start_time": "2023-04-22T07:04:46.143Z"
   },
   {
    "duration": 6,
    "start_time": "2023-04-22T07:04:46.152Z"
   },
   {
    "duration": 5,
    "start_time": "2023-04-22T07:04:46.159Z"
   },
   {
    "duration": 47,
    "start_time": "2023-04-22T07:04:46.166Z"
   },
   {
    "duration": 5,
    "start_time": "2023-04-22T07:04:46.215Z"
   },
   {
    "duration": 8,
    "start_time": "2023-04-22T07:04:46.223Z"
   },
   {
    "duration": 10,
    "start_time": "2023-04-22T07:04:46.233Z"
   },
   {
    "duration": 7,
    "start_time": "2023-04-22T07:04:46.246Z"
   },
   {
    "duration": 10,
    "start_time": "2023-04-22T07:04:46.255Z"
   },
   {
    "duration": 5,
    "start_time": "2023-04-22T07:04:46.266Z"
   },
   {
    "duration": 30,
    "start_time": "2023-04-22T07:04:58.647Z"
   },
   {
    "duration": 41,
    "start_time": "2023-04-22T07:09:39.055Z"
   },
   {
    "duration": 40,
    "start_time": "2023-04-22T07:13:01.372Z"
   },
   {
    "duration": 26,
    "start_time": "2023-04-22T07:14:46.135Z"
   },
   {
    "duration": 6,
    "start_time": "2023-04-22T07:14:57.057Z"
   },
   {
    "duration": 5,
    "start_time": "2023-04-22T07:15:00.818Z"
   },
   {
    "duration": 5,
    "start_time": "2023-04-22T07:15:07.346Z"
   },
   {
    "duration": 6,
    "start_time": "2023-04-22T07:15:20.022Z"
   },
   {
    "duration": 5,
    "start_time": "2023-04-22T07:15:23.522Z"
   },
   {
    "duration": 6,
    "start_time": "2023-04-22T07:15:28.834Z"
   },
   {
    "duration": 26,
    "start_time": "2023-04-22T07:15:51.019Z"
   },
   {
    "duration": 7,
    "start_time": "2023-04-22T07:16:04.380Z"
   },
   {
    "duration": 1459,
    "start_time": "2023-04-22T07:32:25.118Z"
   },
   {
    "duration": 123,
    "start_time": "2023-04-22T07:32:26.580Z"
   },
   {
    "duration": 34,
    "start_time": "2023-04-22T07:32:26.706Z"
   },
   {
    "duration": 23,
    "start_time": "2023-04-22T07:32:28.523Z"
   },
   {
    "duration": 16,
    "start_time": "2023-04-22T07:32:30.375Z"
   },
   {
    "duration": 5,
    "start_time": "2023-04-22T07:32:31.947Z"
   },
   {
    "duration": 4,
    "start_time": "2023-04-22T07:32:34.426Z"
   },
   {
    "duration": 17,
    "start_time": "2023-04-22T07:32:34.930Z"
   },
   {
    "duration": 19,
    "start_time": "2023-04-22T07:32:36.672Z"
   },
   {
    "duration": 6,
    "start_time": "2023-04-22T07:32:37.742Z"
   },
   {
    "duration": 6,
    "start_time": "2023-04-22T07:32:38.215Z"
   },
   {
    "duration": 8,
    "start_time": "2023-04-22T07:32:38.973Z"
   },
   {
    "duration": 5,
    "start_time": "2023-04-22T07:32:41.059Z"
   },
   {
    "duration": 8,
    "start_time": "2023-04-22T07:32:42.514Z"
   },
   {
    "duration": 15,
    "start_time": "2023-04-22T07:32:43.329Z"
   },
   {
    "duration": 10,
    "start_time": "2023-04-22T07:33:05.373Z"
   },
   {
    "duration": 16,
    "start_time": "2023-04-22T07:33:07.517Z"
   },
   {
    "duration": 5,
    "start_time": "2023-04-22T07:33:09.216Z"
   },
   {
    "duration": 26,
    "start_time": "2023-04-22T07:33:10.308Z"
   },
   {
    "duration": 8,
    "start_time": "2023-04-22T07:34:10.452Z"
   },
   {
    "duration": 8,
    "start_time": "2023-04-22T07:34:12.314Z"
   },
   {
    "duration": 7,
    "start_time": "2023-04-22T07:34:14.119Z"
   },
   {
    "duration": 5,
    "start_time": "2023-04-22T07:34:16.780Z"
   },
   {
    "duration": 3,
    "start_time": "2023-04-22T07:34:17.241Z"
   },
   {
    "duration": 6,
    "start_time": "2023-04-22T07:34:17.719Z"
   },
   {
    "duration": 5,
    "start_time": "2023-04-22T07:34:19.119Z"
   },
   {
    "duration": 8,
    "start_time": "2023-04-22T07:34:19.820Z"
   },
   {
    "duration": 14,
    "start_time": "2023-04-22T07:34:21.571Z"
   },
   {
    "duration": 16,
    "start_time": "2023-04-22T07:34:24.755Z"
   },
   {
    "duration": 10,
    "start_time": "2023-04-22T07:34:26.527Z"
   },
   {
    "duration": 5,
    "start_time": "2023-04-22T07:34:27.380Z"
   },
   {
    "duration": 15,
    "start_time": "2023-04-22T07:34:29.126Z"
   },
   {
    "duration": 4,
    "start_time": "2023-04-22T07:34:31.219Z"
   },
   {
    "duration": 11,
    "start_time": "2023-04-22T07:37:49.360Z"
   },
   {
    "duration": 209,
    "start_time": "2023-04-22T07:37:50.779Z"
   },
   {
    "duration": 91,
    "start_time": "2023-04-22T07:38:12.945Z"
   },
   {
    "duration": 699,
    "start_time": "2023-04-22T07:38:23.711Z"
   },
   {
    "duration": 201,
    "start_time": "2023-04-22T07:38:27.830Z"
   },
   {
    "duration": 232,
    "start_time": "2023-04-22T07:40:33.171Z"
   },
   {
    "duration": 11,
    "start_time": "2023-04-22T07:41:40.072Z"
   },
   {
    "duration": 398,
    "start_time": "2023-04-22T07:41:50.913Z"
   },
   {
    "duration": 245,
    "start_time": "2023-04-22T07:41:57.907Z"
   },
   {
    "duration": 244,
    "start_time": "2023-04-22T07:42:02.570Z"
   },
   {
    "duration": 234,
    "start_time": "2023-04-22T07:42:07.219Z"
   },
   {
    "duration": 308,
    "start_time": "2023-04-22T07:42:12.077Z"
   },
   {
    "duration": 223,
    "start_time": "2023-04-22T07:42:17.120Z"
   },
   {
    "duration": 227,
    "start_time": "2023-04-22T07:42:21.285Z"
   },
   {
    "duration": 6,
    "start_time": "2023-04-22T07:42:31.415Z"
   },
   {
    "duration": 6,
    "start_time": "2023-04-22T07:42:33.210Z"
   },
   {
    "duration": 14,
    "start_time": "2023-04-22T07:42:36.810Z"
   },
   {
    "duration": 18,
    "start_time": "2023-04-22T07:42:38.802Z"
   },
   {
    "duration": 17,
    "start_time": "2023-04-22T07:42:39.937Z"
   },
   {
    "duration": 18,
    "start_time": "2023-04-22T07:42:41.311Z"
   },
   {
    "duration": 18,
    "start_time": "2023-04-22T07:42:42.411Z"
   },
   {
    "duration": 18,
    "start_time": "2023-04-22T07:42:43.745Z"
   },
   {
    "duration": 17,
    "start_time": "2023-04-22T07:42:47.703Z"
   },
   {
    "duration": 18,
    "start_time": "2023-04-22T07:42:49.512Z"
   },
   {
    "duration": 17,
    "start_time": "2023-04-22T07:42:50.816Z"
   },
   {
    "duration": 17,
    "start_time": "2023-04-22T07:42:52.523Z"
   },
   {
    "duration": 15,
    "start_time": "2023-04-22T07:42:53.856Z"
   },
   {
    "duration": 16,
    "start_time": "2023-04-22T07:42:55.131Z"
   },
   {
    "duration": 6,
    "start_time": "2023-04-22T07:43:50.482Z"
   },
   {
    "duration": 13,
    "start_time": "2023-04-22T07:43:51.456Z"
   },
   {
    "duration": 8,
    "start_time": "2023-04-22T07:43:57.167Z"
   },
   {
    "duration": 10,
    "start_time": "2023-04-22T07:43:57.607Z"
   },
   {
    "duration": 182,
    "start_time": "2023-04-22T07:43:59.248Z"
   },
   {
    "duration": 7,
    "start_time": "2023-04-22T07:44:31.347Z"
   },
   {
    "duration": 11,
    "start_time": "2023-04-22T07:44:32.531Z"
   },
   {
    "duration": 167,
    "start_time": "2023-04-22T07:44:34.397Z"
   },
   {
    "duration": 8,
    "start_time": "2023-04-22T07:46:27.026Z"
   },
   {
    "duration": 9,
    "start_time": "2023-04-22T07:46:27.681Z"
   },
   {
    "duration": 174,
    "start_time": "2023-04-22T07:46:28.203Z"
   },
   {
    "duration": 109,
    "start_time": "2023-04-22T07:52:39.711Z"
   },
   {
    "duration": 14,
    "start_time": "2023-04-22T07:52:50.273Z"
   },
   {
    "duration": 15,
    "start_time": "2023-04-22T07:53:43.350Z"
   },
   {
    "duration": 170,
    "start_time": "2023-04-22T07:55:14.275Z"
   },
   {
    "duration": 160,
    "start_time": "2023-04-22T07:55:39.881Z"
   },
   {
    "duration": 13,
    "start_time": "2023-04-22T07:56:53.163Z"
   },
   {
    "duration": 1591,
    "start_time": "2023-04-22T07:57:02.034Z"
   },
   {
    "duration": 9,
    "start_time": "2023-04-22T07:59:11.284Z"
   },
   {
    "duration": 8,
    "start_time": "2023-04-22T07:59:27.054Z"
   },
   {
    "duration": 14,
    "start_time": "2023-04-22T08:02:53.627Z"
   },
   {
    "duration": 15,
    "start_time": "2023-04-22T08:03:20.557Z"
   },
   {
    "duration": 149,
    "start_time": "2023-04-22T08:03:38.609Z"
   },
   {
    "duration": 156,
    "start_time": "2023-04-22T08:03:53.201Z"
   },
   {
    "duration": 8,
    "start_time": "2023-04-22T08:04:07.469Z"
   },
   {
    "duration": 9,
    "start_time": "2023-04-22T08:04:17.065Z"
   },
   {
    "duration": 9,
    "start_time": "2023-04-22T08:04:42.032Z"
   },
   {
    "duration": 14,
    "start_time": "2023-04-22T08:05:41.509Z"
   },
   {
    "duration": 15,
    "start_time": "2023-04-22T08:06:07.227Z"
   },
   {
    "duration": 200,
    "start_time": "2023-04-22T08:06:27.425Z"
   },
   {
    "duration": 144,
    "start_time": "2023-04-22T08:06:36.969Z"
   },
   {
    "duration": 8,
    "start_time": "2023-04-22T08:06:55.988Z"
   },
   {
    "duration": 7,
    "start_time": "2023-04-22T08:06:57.317Z"
   },
   {
    "duration": 13,
    "start_time": "2023-04-22T08:10:27.905Z"
   },
   {
    "duration": 5,
    "start_time": "2023-04-22T08:10:58.547Z"
   },
   {
    "duration": 6,
    "start_time": "2023-04-22T08:10:59.072Z"
   },
   {
    "duration": 6,
    "start_time": "2023-04-22T08:10:59.566Z"
   },
   {
    "duration": 12,
    "start_time": "2023-04-22T08:11:00.172Z"
   },
   {
    "duration": 13,
    "start_time": "2023-04-22T08:11:01.542Z"
   },
   {
    "duration": 14,
    "start_time": "2023-04-22T08:11:02.481Z"
   },
   {
    "duration": 13,
    "start_time": "2023-04-22T08:11:12.536Z"
   },
   {
    "duration": 12,
    "start_time": "2023-04-22T08:11:13.192Z"
   },
   {
    "duration": 13,
    "start_time": "2023-04-22T08:11:13.741Z"
   },
   {
    "duration": 15,
    "start_time": "2023-04-22T08:11:29.163Z"
   },
   {
    "duration": 17,
    "start_time": "2023-04-22T08:11:29.768Z"
   },
   {
    "duration": 17,
    "start_time": "2023-04-22T08:11:30.699Z"
   },
   {
    "duration": 6,
    "start_time": "2023-04-22T08:11:37.182Z"
   },
   {
    "duration": 5,
    "start_time": "2023-04-22T08:11:38.411Z"
   },
   {
    "duration": 5,
    "start_time": "2023-04-22T08:11:40.594Z"
   },
   {
    "duration": 4,
    "start_time": "2023-04-22T08:11:45.862Z"
   },
   {
    "duration": 3,
    "start_time": "2023-04-22T08:11:46.489Z"
   },
   {
    "duration": 5,
    "start_time": "2023-04-22T08:11:49.057Z"
   },
   {
    "duration": 5,
    "start_time": "2023-04-22T08:11:49.545Z"
   },
   {
    "duration": 7,
    "start_time": "2023-04-22T08:11:50.032Z"
   },
   {
    "duration": 4,
    "start_time": "2023-04-22T08:11:51.746Z"
   },
   {
    "duration": 4,
    "start_time": "2023-04-22T08:11:52.262Z"
   },
   {
    "duration": 6,
    "start_time": "2023-04-22T08:20:08.981Z"
   },
   {
    "duration": 1200,
    "start_time": "2023-04-22T08:20:18.578Z"
   },
   {
    "duration": 58,
    "start_time": "2023-04-22T08:20:19.780Z"
   },
   {
    "duration": 25,
    "start_time": "2023-04-22T08:20:19.980Z"
   },
   {
    "duration": 22,
    "start_time": "2023-04-22T08:20:20.888Z"
   },
   {
    "duration": 17,
    "start_time": "2023-04-22T08:20:23.100Z"
   },
   {
    "duration": 4,
    "start_time": "2023-04-22T08:20:24.644Z"
   },
   {
    "duration": 5,
    "start_time": "2023-04-22T08:20:26.559Z"
   },
   {
    "duration": 14,
    "start_time": "2023-04-22T08:20:27.059Z"
   },
   {
    "duration": 14,
    "start_time": "2023-04-22T08:20:29.256Z"
   },
   {
    "duration": 6,
    "start_time": "2023-04-22T08:20:30.106Z"
   },
   {
    "duration": 5,
    "start_time": "2023-04-22T08:20:30.534Z"
   },
   {
    "duration": 6,
    "start_time": "2023-04-22T08:20:30.982Z"
   },
   {
    "duration": 5,
    "start_time": "2023-04-22T08:20:32.189Z"
   },
   {
    "duration": 6,
    "start_time": "2023-04-22T08:20:33.953Z"
   },
   {
    "duration": 15,
    "start_time": "2023-04-22T08:20:34.386Z"
   },
   {
    "duration": 10,
    "start_time": "2023-04-22T08:20:35.885Z"
   },
   {
    "duration": 15,
    "start_time": "2023-04-22T08:20:37.423Z"
   },
   {
    "duration": 5,
    "start_time": "2023-04-22T08:20:39.614Z"
   },
   {
    "duration": 23,
    "start_time": "2023-04-22T08:20:40.236Z"
   },
   {
    "duration": 8,
    "start_time": "2023-04-22T08:20:52.320Z"
   },
   {
    "duration": 8,
    "start_time": "2023-04-22T08:20:53.639Z"
   },
   {
    "duration": 5,
    "start_time": "2023-04-22T08:20:55.355Z"
   },
   {
    "duration": 4,
    "start_time": "2023-04-22T08:21:07.937Z"
   },
   {
    "duration": 3,
    "start_time": "2023-04-22T08:21:08.406Z"
   },
   {
    "duration": 9,
    "start_time": "2023-04-22T08:21:09.620Z"
   },
   {
    "duration": 4,
    "start_time": "2023-04-22T08:21:10.781Z"
   },
   {
    "duration": 10,
    "start_time": "2023-04-22T08:21:11.173Z"
   },
   {
    "duration": 16,
    "start_time": "2023-04-22T08:21:12.252Z"
   },
   {
    "duration": 24,
    "start_time": "2023-04-22T08:21:14.109Z"
   },
   {
    "duration": 10,
    "start_time": "2023-04-22T08:21:15.982Z"
   },
   {
    "duration": 5,
    "start_time": "2023-04-22T08:21:16.411Z"
   },
   {
    "duration": 20,
    "start_time": "2023-04-22T08:21:20.035Z"
   },
   {
    "duration": 4,
    "start_time": "2023-04-22T08:21:21.622Z"
   },
   {
    "duration": 12,
    "start_time": "2023-04-22T08:21:24.204Z"
   },
   {
    "duration": 214,
    "start_time": "2023-04-22T08:21:24.958Z"
   },
   {
    "duration": 10,
    "start_time": "2023-04-22T08:21:29.791Z"
   },
   {
    "duration": 364,
    "start_time": "2023-04-22T08:21:30.729Z"
   },
   {
    "duration": 9,
    "start_time": "2023-04-22T08:21:45.693Z"
   },
   {
    "duration": 330,
    "start_time": "2023-04-22T08:21:47.071Z"
   },
   {
    "duration": 238,
    "start_time": "2023-04-22T08:21:49.457Z"
   },
   {
    "duration": 208,
    "start_time": "2023-04-22T08:21:52.424Z"
   },
   {
    "duration": 196,
    "start_time": "2023-04-22T08:21:55.358Z"
   },
   {
    "duration": 284,
    "start_time": "2023-04-22T08:21:57.333Z"
   },
   {
    "duration": 184,
    "start_time": "2023-04-22T08:21:59.526Z"
   },
   {
    "duration": 208,
    "start_time": "2023-04-22T08:22:01.562Z"
   },
   {
    "duration": 7,
    "start_time": "2023-04-22T08:22:05.446Z"
   },
   {
    "duration": 6,
    "start_time": "2023-04-22T08:22:10.778Z"
   },
   {
    "duration": 12,
    "start_time": "2023-04-22T08:22:12.494Z"
   },
   {
    "duration": 15,
    "start_time": "2023-04-22T08:22:14.006Z"
   },
   {
    "duration": 14,
    "start_time": "2023-04-22T08:22:15.477Z"
   },
   {
    "duration": 17,
    "start_time": "2023-04-22T08:22:17.179Z"
   },
   {
    "duration": 15,
    "start_time": "2023-04-22T08:22:17.772Z"
   },
   {
    "duration": 16,
    "start_time": "2023-04-22T08:22:18.600Z"
   },
   {
    "duration": 21,
    "start_time": "2023-04-22T08:22:19.161Z"
   },
   {
    "duration": 15,
    "start_time": "2023-04-22T08:22:20.234Z"
   },
   {
    "duration": 17,
    "start_time": "2023-04-22T08:22:21.493Z"
   },
   {
    "duration": 15,
    "start_time": "2023-04-22T08:22:22.405Z"
   },
   {
    "duration": 16,
    "start_time": "2023-04-22T08:22:23.662Z"
   },
   {
    "duration": 17,
    "start_time": "2023-04-22T08:22:24.541Z"
   },
   {
    "duration": 5,
    "start_time": "2023-04-22T08:22:44.485Z"
   },
   {
    "duration": 12,
    "start_time": "2023-04-22T08:22:45.360Z"
   },
   {
    "duration": 8,
    "start_time": "2023-04-22T08:22:47.699Z"
   },
   {
    "duration": 8,
    "start_time": "2023-04-22T08:22:48.243Z"
   },
   {
    "duration": 160,
    "start_time": "2023-04-22T08:22:49.606Z"
   },
   {
    "duration": 17,
    "start_time": "2023-04-22T08:22:52.977Z"
   },
   {
    "duration": 14,
    "start_time": "2023-04-22T08:22:54.200Z"
   },
   {
    "duration": 143,
    "start_time": "2023-04-22T08:23:02.595Z"
   },
   {
    "duration": 160,
    "start_time": "2023-04-22T08:23:05.173Z"
   },
   {
    "duration": 8,
    "start_time": "2023-04-22T08:23:08.611Z"
   },
   {
    "duration": 7,
    "start_time": "2023-04-22T08:23:09.338Z"
   },
   {
    "duration": 17,
    "start_time": "2023-04-22T08:23:11.837Z"
   },
   {
    "duration": 14,
    "start_time": "2023-04-22T08:23:14.176Z"
   },
   {
    "duration": 152,
    "start_time": "2023-04-22T08:23:16.149Z"
   },
   {
    "duration": 139,
    "start_time": "2023-04-22T08:23:16.872Z"
   },
   {
    "duration": 8,
    "start_time": "2023-04-22T08:23:18.909Z"
   },
   {
    "duration": 8,
    "start_time": "2023-04-22T08:23:19.755Z"
   },
   {
    "duration": 17,
    "start_time": "2023-04-22T08:23:21.379Z"
   },
   {
    "duration": 17,
    "start_time": "2023-04-22T08:23:23.608Z"
   },
   {
    "duration": 136,
    "start_time": "2023-04-22T08:23:26.048Z"
   },
   {
    "duration": 140,
    "start_time": "2023-04-22T08:23:27.075Z"
   },
   {
    "duration": 9,
    "start_time": "2023-04-22T08:23:29.346Z"
   },
   {
    "duration": 8,
    "start_time": "2023-04-22T08:23:29.943Z"
   },
   {
    "duration": 11,
    "start_time": "2023-04-22T08:23:34.601Z"
   },
   {
    "duration": 18,
    "start_time": "2023-04-22T08:24:18.630Z"
   },
   {
    "duration": 9,
    "start_time": "2023-04-22T08:24:23.136Z"
   },
   {
    "duration": 6,
    "start_time": "2023-04-22T08:24:23.605Z"
   },
   {
    "duration": 7,
    "start_time": "2023-04-22T08:24:24.055Z"
   },
   {
    "duration": 14,
    "start_time": "2023-04-22T08:24:24.549Z"
   },
   {
    "duration": 14,
    "start_time": "2023-04-22T08:24:25.863Z"
   },
   {
    "duration": 17,
    "start_time": "2023-04-22T08:24:27.035Z"
   },
   {
    "duration": 6,
    "start_time": "2023-04-22T08:24:41.999Z"
   },
   {
    "duration": 6,
    "start_time": "2023-04-22T08:24:42.378Z"
   },
   {
    "duration": 6,
    "start_time": "2023-04-22T08:24:42.787Z"
   },
   {
    "duration": 17,
    "start_time": "2023-04-22T08:24:43.230Z"
   },
   {
    "duration": 14,
    "start_time": "2023-04-22T08:24:43.690Z"
   },
   {
    "duration": 15,
    "start_time": "2023-04-22T08:24:44.278Z"
   },
   {
    "duration": 16,
    "start_time": "2023-04-22T08:24:46.772Z"
   },
   {
    "duration": 14,
    "start_time": "2023-04-22T08:24:47.246Z"
   },
   {
    "duration": 13,
    "start_time": "2023-04-22T08:24:47.703Z"
   },
   {
    "duration": 14,
    "start_time": "2023-04-22T08:24:49.946Z"
   },
   {
    "duration": 13,
    "start_time": "2023-04-22T08:24:50.386Z"
   },
   {
    "duration": 14,
    "start_time": "2023-04-22T08:24:51.288Z"
   },
   {
    "duration": 9,
    "start_time": "2023-04-22T08:24:54.241Z"
   },
   {
    "duration": 5,
    "start_time": "2023-04-22T08:24:56.075Z"
   },
   {
    "duration": 10,
    "start_time": "2023-04-22T08:24:56.530Z"
   },
   {
    "duration": 4,
    "start_time": "2023-04-22T08:25:09.848Z"
   },
   {
    "duration": 3,
    "start_time": "2023-04-22T08:25:10.461Z"
   },
   {
    "duration": 5,
    "start_time": "2023-04-22T08:25:12.708Z"
   },
   {
    "duration": 5,
    "start_time": "2023-04-22T08:25:13.248Z"
   },
   {
    "duration": 7,
    "start_time": "2023-04-22T08:25:13.753Z"
   },
   {
    "duration": 13,
    "start_time": "2023-04-22T08:25:15.831Z"
   },
   {
    "duration": 5,
    "start_time": "2023-04-22T08:25:16.296Z"
   },
   {
    "duration": 223,
    "start_time": "2023-04-22T08:26:11.647Z"
   },
   {
    "duration": 1346,
    "start_time": "2024-01-17T10:00:46.800Z"
   },
   {
    "duration": 3,
    "start_time": "2024-01-17T10:01:20.047Z"
   },
   {
    "duration": 109,
    "start_time": "2024-01-17T10:01:20.761Z"
   },
   {
    "duration": 33,
    "start_time": "2024-01-17T10:01:21.164Z"
   },
   {
    "duration": 25,
    "start_time": "2024-01-17T10:01:31.232Z"
   },
   {
    "duration": 14,
    "start_time": "2024-01-17T10:01:38.986Z"
   },
   {
    "duration": 3,
    "start_time": "2024-01-17T10:01:41.676Z"
   },
   {
    "duration": 3,
    "start_time": "2024-01-17T10:01:45.332Z"
   },
   {
    "duration": 16,
    "start_time": "2024-01-17T10:01:45.771Z"
   },
   {
    "duration": 14,
    "start_time": "2024-01-17T10:01:48.545Z"
   },
   {
    "duration": 5,
    "start_time": "2024-01-17T10:01:49.791Z"
   },
   {
    "duration": 4,
    "start_time": "2024-01-17T10:01:50.259Z"
   },
   {
    "duration": 4,
    "start_time": "2024-01-17T10:01:50.696Z"
   },
   {
    "duration": 4,
    "start_time": "2024-01-17T10:01:53.559Z"
   },
   {
    "duration": 6,
    "start_time": "2024-01-17T10:01:58.908Z"
   },
   {
    "duration": 12,
    "start_time": "2024-01-17T10:01:59.352Z"
   },
   {
    "duration": 15,
    "start_time": "2024-01-17T10:02:02.243Z"
   },
   {
    "duration": 18,
    "start_time": "2024-01-17T10:02:13.087Z"
   },
   {
    "duration": 5,
    "start_time": "2024-01-17T10:02:31.795Z"
   },
   {
    "duration": 28,
    "start_time": "2024-01-17T10:02:32.712Z"
   },
   {
    "duration": 7,
    "start_time": "2024-01-17T10:02:52.783Z"
   },
   {
    "duration": 9,
    "start_time": "2024-01-17T10:02:53.195Z"
   },
   {
    "duration": 5,
    "start_time": "2024-01-17T10:02:54.519Z"
   },
   {
    "duration": 3,
    "start_time": "2024-01-17T10:03:00.256Z"
   },
   {
    "duration": 3,
    "start_time": "2024-01-17T10:03:01.867Z"
   },
   {
    "duration": 5,
    "start_time": "2024-01-17T10:03:03.359Z"
   },
   {
    "duration": 5,
    "start_time": "2024-01-17T10:03:10.755Z"
   },
   {
    "duration": 13,
    "start_time": "2024-01-17T10:03:11.323Z"
   },
   {
    "duration": 24,
    "start_time": "2024-01-17T10:03:12.723Z"
   },
   {
    "duration": 16,
    "start_time": "2024-01-17T10:03:18.251Z"
   },
   {
    "duration": 10,
    "start_time": "2024-01-17T10:04:04.315Z"
   },
   {
    "duration": 5,
    "start_time": "2024-01-17T10:04:04.787Z"
   },
   {
    "duration": 18,
    "start_time": "2024-01-17T10:04:17.923Z"
   },
   {
    "duration": 4,
    "start_time": "2024-01-17T10:04:21.059Z"
   },
   {
    "duration": 9,
    "start_time": "2024-01-17T10:04:23.899Z"
   },
   {
    "duration": 218,
    "start_time": "2024-01-17T10:04:24.659Z"
   },
   {
    "duration": 215,
    "start_time": "2024-01-17T10:05:25.687Z"
   },
   {
    "duration": 10,
    "start_time": "2024-01-17T10:05:50.495Z"
   },
   {
    "duration": 336,
    "start_time": "2024-01-17T10:05:56.450Z"
   },
   {
    "duration": 203,
    "start_time": "2024-01-17T10:06:08.627Z"
   },
   {
    "duration": 213,
    "start_time": "2024-01-17T10:06:14.719Z"
   },
   {
    "duration": 204,
    "start_time": "2024-01-17T10:06:22.679Z"
   },
   {
    "duration": 191,
    "start_time": "2024-01-17T10:06:29.275Z"
   },
   {
    "duration": 253,
    "start_time": "2024-01-17T10:06:34.749Z"
   },
   {
    "duration": 197,
    "start_time": "2024-01-17T10:06:40.355Z"
   },
   {
    "duration": 6,
    "start_time": "2024-01-17T10:07:01.248Z"
   },
   {
    "duration": 6,
    "start_time": "2024-01-17T10:07:04.490Z"
   },
   {
    "duration": 14,
    "start_time": "2024-01-17T10:07:07.078Z"
   },
   {
    "duration": 18,
    "start_time": "2024-01-17T10:07:09.351Z"
   },
   {
    "duration": 15,
    "start_time": "2024-01-17T10:07:11.575Z"
   },
   {
    "duration": 15,
    "start_time": "2024-01-17T10:07:12.670Z"
   },
   {
    "duration": 16,
    "start_time": "2024-01-17T10:07:13.583Z"
   },
   {
    "duration": 15,
    "start_time": "2024-01-17T10:07:14.615Z"
   },
   {
    "duration": 21,
    "start_time": "2024-01-17T10:07:15.444Z"
   },
   {
    "duration": 18,
    "start_time": "2024-01-17T10:07:16.668Z"
   },
   {
    "duration": 19,
    "start_time": "2024-01-17T10:07:17.295Z"
   },
   {
    "duration": 15,
    "start_time": "2024-01-17T10:07:18.245Z"
   },
   {
    "duration": 16,
    "start_time": "2024-01-17T10:07:19.144Z"
   },
   {
    "duration": 14,
    "start_time": "2024-01-17T10:07:21.649Z"
   },
   {
    "duration": 6,
    "start_time": "2024-01-17T10:08:16.746Z"
   },
   {
    "duration": 15,
    "start_time": "2024-01-17T10:08:18.423Z"
   },
   {
    "duration": 6,
    "start_time": "2024-01-17T10:08:43.231Z"
   },
   {
    "duration": 10,
    "start_time": "2024-01-17T10:08:44.236Z"
   },
   {
    "duration": 185,
    "start_time": "2024-01-17T10:08:45.867Z"
   },
   {
    "duration": 17,
    "start_time": "2024-01-17T10:09:36.283Z"
   },
   {
    "duration": 15,
    "start_time": "2024-01-17T10:09:38.095Z"
   },
   {
    "duration": 193,
    "start_time": "2024-01-17T10:10:01.711Z"
   },
   {
    "duration": 167,
    "start_time": "2024-01-17T10:10:19.537Z"
   },
   {
    "duration": 7,
    "start_time": "2024-01-17T10:10:22.483Z"
   },
   {
    "duration": 8,
    "start_time": "2024-01-17T10:10:23.563Z"
   },
   {
    "duration": 14,
    "start_time": "2024-01-17T10:10:38.087Z"
   },
   {
    "duration": 15,
    "start_time": "2024-01-17T10:10:43.149Z"
   },
   {
    "duration": 173,
    "start_time": "2024-01-17T10:10:45.803Z"
   },
   {
    "duration": 146,
    "start_time": "2024-01-17T10:10:47.346Z"
   },
   {
    "duration": 19,
    "start_time": "2024-01-17T10:10:48.831Z"
   },
   {
    "duration": 11,
    "start_time": "2024-01-17T10:10:49.345Z"
   },
   {
    "duration": 18,
    "start_time": "2024-01-17T10:10:52.323Z"
   },
   {
    "duration": 14,
    "start_time": "2024-01-17T10:10:53.555Z"
   },
   {
    "duration": 189,
    "start_time": "2024-01-17T10:10:55.951Z"
   },
   {
    "duration": 140,
    "start_time": "2024-01-17T10:10:56.586Z"
   },
   {
    "duration": 8,
    "start_time": "2024-01-17T10:10:58.186Z"
   },
   {
    "duration": 7,
    "start_time": "2024-01-17T10:10:58.807Z"
   },
   {
    "duration": 12,
    "start_time": "2024-01-17T10:11:19.794Z"
   },
   {
    "duration": 5,
    "start_time": "2024-01-17T10:11:47.703Z"
   },
   {
    "duration": 7,
    "start_time": "2024-01-17T10:11:48.534Z"
   },
   {
    "duration": 5,
    "start_time": "2024-01-17T10:11:49.211Z"
   },
   {
    "duration": 12,
    "start_time": "2024-01-17T10:11:50.387Z"
   },
   {
    "duration": 13,
    "start_time": "2024-01-17T10:11:51.683Z"
   },
   {
    "duration": 13,
    "start_time": "2024-01-17T10:11:52.798Z"
   },
   {
    "duration": 12,
    "start_time": "2024-01-17T10:12:00.719Z"
   },
   {
    "duration": 12,
    "start_time": "2024-01-17T10:12:02.678Z"
   },
   {
    "duration": 12,
    "start_time": "2024-01-17T10:12:03.583Z"
   },
   {
    "duration": 12,
    "start_time": "2024-01-17T10:12:13.555Z"
   },
   {
    "duration": 14,
    "start_time": "2024-01-17T10:12:14.007Z"
   },
   {
    "duration": 13,
    "start_time": "2024-01-17T10:12:14.398Z"
   },
   {
    "duration": 4,
    "start_time": "2024-01-17T10:12:34.479Z"
   },
   {
    "duration": 5,
    "start_time": "2024-01-17T10:12:36.782Z"
   },
   {
    "duration": 5,
    "start_time": "2024-01-17T10:12:37.258Z"
   },
   {
    "duration": 4,
    "start_time": "2024-01-17T10:12:56.126Z"
   },
   {
    "duration": 4,
    "start_time": "2024-01-17T10:12:56.870Z"
   },
   {
    "duration": 5,
    "start_time": "2024-01-17T10:13:03.559Z"
   },
   {
    "duration": 4,
    "start_time": "2024-01-17T10:13:04.023Z"
   },
   {
    "duration": 13,
    "start_time": "2024-01-17T10:13:04.287Z"
   },
   {
    "duration": 4,
    "start_time": "2024-01-17T10:13:05.954Z"
   },
   {
    "duration": 10,
    "start_time": "2024-01-17T10:13:06.446Z"
   }
  ],
  "kernelspec": {
   "display_name": "Python 3 (ipykernel)",
   "language": "python",
   "name": "python3"
  },
  "language_info": {
   "codemirror_mode": {
    "name": "ipython",
    "version": 3
   },
   "file_extension": ".py",
   "mimetype": "text/x-python",
   "name": "python",
   "nbconvert_exporter": "python",
   "pygments_lexer": "ipython3",
   "version": "3.11.3"
  },
  "toc": {
   "base_numbering": 1,
   "nav_menu": {},
   "number_sections": true,
   "sideBar": true,
   "skip_h1_title": true,
   "title_cell": "Table of Contents",
   "title_sidebar": "Contents",
   "toc_cell": false,
   "toc_position": {
    "height": "calc(100% - 180px)",
    "left": "10px",
    "top": "150px",
    "width": "165px"
   },
   "toc_section_display": true,
   "toc_window_display": true
  }
 },
 "nbformat": 4,
 "nbformat_minor": 2
}
