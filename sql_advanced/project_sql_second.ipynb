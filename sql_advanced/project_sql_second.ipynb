{
 "cells": [
  {
   "cell_type": "markdown",
   "id": "ae0babd8",
   "metadata": {},
   "source": [
    "# Проект создания запросов к БД с помощью SQL(Postgre). Продвинутый уровень"
   ]
  },
  {
   "cell_type": "markdown",
   "id": "bfb4f3fc",
   "metadata": {},
   "source": [
    "Необходимо проанализировать данные и написать запросы к базе данных"
   ]
  },
  {
   "cell_type": "markdown",
   "id": "e7941db8",
   "metadata": {},
   "source": [
    "## Задача №1"
   ]
  },
  {
   "cell_type": "markdown",
   "id": "2d0b48d7",
   "metadata": {},
   "source": [
    "Найдите количество вопросов, которые набрали больше 300 очков или как минимум 100 раз были добавлены в «Закладки»"
   ]
  },
  {
   "cell_type": "code",
   "execution_count": null,
   "id": "2f6a5c15",
   "metadata": {},
   "outputs": [],
   "source": [
    "'''\n",
    "SELECT COUNT(id)\n",
    "FROM stackoverflow.posts\n",
    "WHERE post_type_id = 1 AND \n",
    "    (score > 300 OR favorites_count >= 100);\n",
    "'''"
   ]
  },
  {
   "cell_type": "markdown",
   "id": "9dd6fce6",
   "metadata": {},
   "source": [
    "## Задача №2"
   ]
  },
  {
   "cell_type": "markdown",
   "id": "85698218",
   "metadata": {},
   "source": [
    "Сколько в среднем в день задавали вопросов с 1 по 18 ноября 2008 включительно? \n",
    "\n",
    "Результат округлите до целого числа."
   ]
  },
  {
   "cell_type": "code",
   "execution_count": null,
   "id": "911ecda0",
   "metadata": {},
   "outputs": [],
   "source": [
    "'''\n",
    "SELECT ROUND(AVG(t.i))\n",
    "FROM(\n",
    "    SELECT COUNT(id) AS i,\n",
    "        creation_date::date\n",
    "    FROM stackoverflow.posts\n",
    "    WHERE post_type_id = 1\n",
    "    GROUP BY creation_date::date\n",
    "    HAVING creation_date::date BETWEEN '2008-11-01' AND '2008-11-18') AS t;\n",
    "'''"
   ]
  },
  {
   "cell_type": "markdown",
   "id": "51c16d8c",
   "metadata": {},
   "source": [
    "## Задача №3"
   ]
  },
  {
   "cell_type": "markdown",
   "id": "8a2d2969",
   "metadata": {},
   "source": [
    "Сколько пользователей получили значки сразу в день регистрации? \n",
    "\n",
    "Выведите количество уникальных пользователей."
   ]
  },
  {
   "cell_type": "code",
   "execution_count": null,
   "id": "8a24c638",
   "metadata": {},
   "outputs": [],
   "source": [
    "'''\n",
    "SELECT COUNT(DISTINCT u.id)\n",
    "FROM stackoverflow.users u\n",
    "LEFT JOIN stackoverflow.badges b ON u.id = b.user_id\n",
    "WHERE u.creation_date::date = b.creation_date::date;\n",
    "'''"
   ]
  },
  {
   "cell_type": "markdown",
   "id": "95ec8d9d",
   "metadata": {},
   "source": [
    "## Задача №4"
   ]
  },
  {
   "cell_type": "markdown",
   "id": "d1f49421",
   "metadata": {},
   "source": [
    "Сколько уникальных постов пользователя с именем Joel Coehoorn получили хотя бы один голос?"
   ]
  },
  {
   "cell_type": "code",
   "execution_count": null,
   "id": "86226094",
   "metadata": {},
   "outputs": [],
   "source": [
    "'''\n",
    "SELECT COUNT(i.id)\n",
    "FROM (\n",
    "    SELECT p.id\n",
    "    FROM stackoverflow.posts p\n",
    "    JOIN stackoverflow.votes v ON p.id = v.post_id\n",
    "    JOIN stackoverflow.users u ON p.user_id = u.id\n",
    "    WHERE u.display_name LIKE 'Joel Coehoorn'\n",
    "    GROUP BY p.id \n",
    "    HAVING COUNT(v.post_id)>=1) AS i;\n",
    "'''"
   ]
  },
  {
   "cell_type": "markdown",
   "id": "8b58e69c",
   "metadata": {},
   "source": [
    "## Задача №5"
   ]
  },
  {
   "cell_type": "markdown",
   "id": "660c3875",
   "metadata": {},
   "source": [
    "Выгрузите все поля таблицы vote_types. \n",
    "\n",
    "Добавьте к таблице поле rank, в которое войдут номера записей в обратном порядке. \n",
    "\n",
    "Таблица должна быть отсортирована по полю id."
   ]
  },
  {
   "cell_type": "code",
   "execution_count": null,
   "id": "9f78faf9",
   "metadata": {},
   "outputs": [],
   "source": [
    "'''\n",
    "SELECT *,\n",
    "    ROW_NUMBER() OVER(ORDER BY id DESC) AS rank\n",
    "FROM stackoverflow.vote_types\n",
    "ORDER BY id;\n",
    "'''"
   ]
  },
  {
   "cell_type": "markdown",
   "id": "c8f4aead",
   "metadata": {},
   "source": [
    "## Задача №6"
   ]
  },
  {
   "cell_type": "markdown",
   "id": "19296fc3",
   "metadata": {},
   "source": [
    "Отберите 10 пользователей, которые поставили больше всего голосов типа Close. \n",
    "\n",
    "Отобразите таблицу из двух полей: идентификатором пользователя и количеством голосов. \n",
    "\n",
    "Отсортируйте данные сначала по убыванию количества голосов, потом по убыванию значения идентификатора пользователя."
   ]
  },
  {
   "cell_type": "code",
   "execution_count": null,
   "id": "b6854256",
   "metadata": {},
   "outputs": [],
   "source": [
    "'''\n",
    "SELECT *\n",
    "FROM (\n",
    "    SELECT v.user_id,\n",
    "        COUNT(vt.id) AS cnt\n",
    "    FROM stackoverflow.votes v\n",
    "    JOIN stackoverflow.vote_types vt ON vt.id = v.vote_type_id\n",
    "    WHERE vt.name LIKE 'Close'\n",
    "    GROUP BY v.user_id\n",
    "    ORDER BY cnt DESC LIMIT 10) AS t\n",
    "ORDER BY t.cnt DESC, t.user_id DESC;\n",
    "'''"
   ]
  },
  {
   "cell_type": "markdown",
   "id": "93471154",
   "metadata": {},
   "source": [
    "## Задача №7"
   ]
  },
  {
   "cell_type": "markdown",
   "id": "77f744e6",
   "metadata": {},
   "source": [
    "Отберите 10 пользователей по количеству значков, полученных в период с 15 ноября по 15 декабря 2008 года включительно.\n",
    "\n",
    "Отобразите несколько полей:\n",
    " - идентификатор пользователя;\n",
    " - число значков;\n",
    " - место в рейтинге — чем больше значков, тем выше рейтинг.\n",
    " \n",
    "Пользователям, которые набрали одинаковое количество значков, присвойте одно и то же место в рейтинге.\n",
    "\n",
    "Отсортируйте записи по количеству значков по убыванию, а затем по возрастанию значения идентификатора пользователя."
   ]
  },
  {
   "cell_type": "code",
   "execution_count": null,
   "id": "a6044f43",
   "metadata": {},
   "outputs": [],
   "source": [
    "'''\n",
    "SELECT *,\n",
    "      DENSE_RANK() OVER (ORDER BY t.cnt DESC) AS n\n",
    "FROM (SELECT COUNT(id) AS  cnt,\n",
    "             user_id\n",
    "      FROM stackoverflow.badges\n",
    "      WHERE creation_date::date BETWEEN '2008-11-15' AND '2008-12-15' \n",
    "      GROUP BY 2\n",
    "      ORDER BY cnt DESC, user_id LIMIT 10) as t;\n",
    "'''"
   ]
  },
  {
   "cell_type": "markdown",
   "id": "c552f2bb",
   "metadata": {},
   "source": [
    "## Задача №8"
   ]
  },
  {
   "cell_type": "markdown",
   "id": "3776bd4e",
   "metadata": {},
   "source": [
    "Сколько в среднем очков получает пост каждого пользователя?\n",
    "\n",
    "Сформируйте таблицу из следующих полей:\n",
    " - заголовок поста;\n",
    " - идентификатор пользователя;\n",
    " - число очков поста;\n",
    " - среднее число очков пользователя за пост, округлённое до целого числа.\n",
    " \n",
    "Не учитывайте посты без заголовка, а также те, что набрали ноль очков."
   ]
  },
  {
   "cell_type": "code",
   "execution_count": null,
   "id": "fb817f0b",
   "metadata": {},
   "outputs": [],
   "source": [
    "'''\n",
    "WITH t AS (\n",
    "SELECT ROUND(AVG(score)) AS avg_score,\n",
    "       user_id\n",
    "FROM stackoverflow.posts\n",
    "WHERE title IS NOT NULL \n",
    "   AND score <> 0\n",
    "GROUP BY user_id\n",
    ")\n",
    "\n",
    "SELECT p.title,\n",
    "       t.user_id,\n",
    "       p.score,\n",
    "       t.avg_score\n",
    "FROM t \n",
    "JOIN stackoverflow.posts AS p ON t.user_id=p.user_id\n",
    "WHERE p.title IS NOT NULL \n",
    "   AND p.score <> 0;\n",
    "'''"
   ]
  },
  {
   "cell_type": "markdown",
   "id": "0323a60d",
   "metadata": {},
   "source": [
    "## Задача №9"
   ]
  },
  {
   "cell_type": "markdown",
   "id": "c5579b0f",
   "metadata": {},
   "source": [
    "Отобразите заголовки постов, которые были написаны пользователями, получившими более 1000 значков. Посты без заголовков не должны попасть в список."
   ]
  },
  {
   "cell_type": "code",
   "execution_count": null,
   "id": "c1071518",
   "metadata": {},
   "outputs": [],
   "source": [
    "'''\n",
    "SELECT title\n",
    "FROM stackoverflow.posts\n",
    "WHERE user_id IN (\n",
    "    SELECT user_id\n",
    "    FROM stackoverflow.badges\n",
    "    GROUP BY user_id\n",
    "    HAVING COUNT(name) > 1000)\n",
    "    AND title IS NOT NULL;\n",
    "'''"
   ]
  },
  {
   "cell_type": "markdown",
   "id": "93120371",
   "metadata": {},
   "source": [
    "## Задача №10"
   ]
  },
  {
   "cell_type": "markdown",
   "id": "b5c6e562",
   "metadata": {},
   "source": [
    "Напишите запрос, который выгрузит данные о пользователях из США (англ. United States). \n",
    "\n",
    "Разделите пользователей на три группы в зависимости от количества просмотров их профилей:\n",
    " - пользователям с числом просмотров больше либо равным 350 присвойте группу 1;\n",
    " - пользователям с числом просмотров меньше 350, но больше либо равно 100 — группу 2;\n",
    " - пользователям с числом просмотров меньше 100 — группу 3.\n",
    " \n",
    "Отобразите в итоговой таблице идентификатор пользователя, количество просмотров профиля и группу. \n",
    "\n",
    "Пользователи с нулевым количеством просмотров не должны войти в итоговую таблицу."
   ]
  },
  {
   "cell_type": "code",
   "execution_count": null,
   "id": "4d9f632a",
   "metadata": {},
   "outputs": [],
   "source": [
    "'''\n",
    "SELECT id,\n",
    "    views,\n",
    "    CASE\n",
    "        WHEN views >=350 THEN 1\n",
    "        WHEN views >=100 AND views <350  THEN 2\n",
    "        WHEN views <100 THEN 3\n",
    "    END\n",
    "FROM stackoverflow.users\n",
    "WHERE location LIKE '%United States%'\n",
    "    AND views > 0;\n",
    "'''"
   ]
  },
  {
   "cell_type": "markdown",
   "id": "d5633f6c",
   "metadata": {},
   "source": [
    "## Задача №11"
   ]
  },
  {
   "cell_type": "markdown",
   "id": "fb79927a",
   "metadata": {},
   "source": [
    "Дополните предыдущий запрос. \n",
    "\n",
    "Отобразите лидеров каждой группы — пользователей, которые набрали максимальное число просмотров в своей группе. \n",
    "\n",
    "Выведите поля с идентификатором пользователя, группой и количеством просмотров. \n",
    "\n",
    "Отсортируйте таблицу по убыванию просмотров, а затем по возрастанию значения идентификатора."
   ]
  },
  {
   "cell_type": "code",
   "execution_count": null,
   "id": "7aefb6a7",
   "metadata": {},
   "outputs": [],
   "source": [
    "'''\n",
    "WITH tab AS\n",
    "(SELECT t.id,\n",
    "        t.views,\n",
    "        t.group,\n",
    "        MAX(t.views) OVER (PARTITION BY t.group) AS max\t\n",
    " FROM (SELECT id,\n",
    "              views,\n",
    "              CASE\n",
    "                 WHEN views>=350 THEN 1\n",
    "                 WHEN views<100 THEN 3\n",
    "                 ELSE 2\n",
    "              END AS group\n",
    "       FROM stackoverflow.users\n",
    "       WHERE location LIKE '%United States%'\n",
    "          AND views > 0\n",
    "          ) as t\n",
    "  )\n",
    "  \n",
    "SELECT tab.id, \n",
    "       tab.views,  \n",
    "       tab.group\n",
    "FROM tab\n",
    "WHERE tab.views = tab.max\n",
    "ORDER BY tab.views DESC, tab.id;\n",
    "'''"
   ]
  },
  {
   "cell_type": "markdown",
   "id": "881157c8",
   "metadata": {},
   "source": [
    "## Задача №12"
   ]
  },
  {
   "cell_type": "markdown",
   "id": "719d720d",
   "metadata": {},
   "source": [
    "Посчитайте ежедневный прирост новых пользователей в ноябре 2008 года. \n",
    "\n",
    "Сформируйте таблицу с полями:\n",
    " - номер дня;\n",
    " - число пользователей, зарегистрированных в этот день;\n",
    " - сумму пользователей с накоплением."
   ]
  },
  {
   "cell_type": "code",
   "execution_count": null,
   "id": "91a7ad3f",
   "metadata": {},
   "outputs": [],
   "source": [
    "'''\n",
    "SELECT *,\n",
    "       SUM(t.cnt_id) OVER (ORDER BY t.days) as nn\n",
    "FROM (\n",
    "      SELECT EXTRACT(DAY FROM creation_date::date) AS days,\n",
    "             COUNT(id) AS cnt_id\n",
    "      FROM stackoverflow.users\n",
    "      WHERE creation_date::date BETWEEN '2008-11-01' AND '2008-11-30'\n",
    "      GROUP BY EXTRACT(DAY FROM creation_date::date)\n",
    "      ) as t;\n",
    "'''"
   ]
  },
  {
   "cell_type": "markdown",
   "id": "46e21612",
   "metadata": {},
   "source": [
    "## Задача №13"
   ]
  },
  {
   "cell_type": "markdown",
   "id": "83d3a75f",
   "metadata": {},
   "source": [
    "Для каждого пользователя, который написал хотя бы один пост, найдите интервал между регистрацией и временем создания первого поста. Отобразите:\n",
    " - идентификатор пользователя;\n",
    " - разницу во времени между регистрацией и первым постом."
   ]
  },
  {
   "cell_type": "code",
   "execution_count": null,
   "id": "8b4113b3",
   "metadata": {},
   "outputs": [],
   "source": [
    "'''\n",
    "WITH p AS\n",
    "(SELECT DISTINCT user_id,\n",
    "        MIN(creation_date) OVER (PARTITION BY user_id) AS min_dt\t\t\t\t\t\n",
    " FROM stackoverflow.posts\n",
    ")\n",
    "\n",
    "SELECT p.user_id,\n",
    "       (p.min_dt - u.creation_date) AS diff\n",
    "FROM stackoverflow.users AS u \n",
    "JOIN p ON  u.id = p.user_id;\n",
    "'''"
   ]
  },
  {
   "cell_type": "markdown",
   "id": "bb777296",
   "metadata": {},
   "source": [
    "## Задача №14"
   ]
  },
  {
   "cell_type": "markdown",
   "id": "b20c6252",
   "metadata": {},
   "source": [
    "Выведите общую сумму просмотров постов за каждый месяц 2008 года. \n",
    "Если данных за какой-либо месяц в базе нет, такой месяц можно пропустить. \n",
    "\n",
    "Результат отсортируйте по убыванию общего количества просмотров."
   ]
  },
  {
   "cell_type": "code",
   "execution_count": null,
   "id": "e95c05a8",
   "metadata": {},
   "outputs": [],
   "source": [
    "'''\n",
    "SELECT DATE_TRUNC('month', creation_date)::date,\n",
    "    SUM(views_count)\n",
    "FROM stackoverflow.posts\n",
    "WHERE EXTRACT(YEAR FROM CAST(creation_date AS timestamp)) = 2008\n",
    "GROUP BY DATE_TRUNC('month', creation_date)::date\n",
    "ORDER BY SUM(views_count) DESC;\n",
    "'''"
   ]
  },
  {
   "cell_type": "markdown",
   "id": "9d0e7eeb",
   "metadata": {},
   "source": [
    "## Задача №15"
   ]
  },
  {
   "cell_type": "markdown",
   "id": "56f79ecc",
   "metadata": {},
   "source": [
    "Выведите имена самых активных пользователей, которые в первый месяц после регистрации (включая день регистрации) дали больше 100 ответов. \n",
    "\n",
    "Вопросы, которые задавали пользователи, не учитывайте. Для каждого имени пользователя выведите количество уникальных значений user_id. \n",
    "\n",
    "Отсортируйте результат по полю с именами в лексикографическом порядке."
   ]
  },
  {
   "cell_type": "code",
   "execution_count": null,
   "id": "b102884a",
   "metadata": {},
   "outputs": [],
   "source": [
    "'''\n",
    "SELECT u.display_name,\n",
    "       COUNT(DISTINCT p.user_id)\n",
    "FROM stackoverflow.posts AS p\n",
    "JOIN stackoverflow.users AS u ON p.user_id = u.id\n",
    "JOIN stackoverflow.post_types AS pt ON pt.id = p.post_type_id\n",
    "WHERE p.creation_date::date BETWEEN u.creation_date::date AND (u.creation_date::date + INTERVAL '1 month')\n",
    "   AND pt.type LIKE '%Answer%'\n",
    "GROUP BY u.display_name\n",
    "HAVING COUNT(p.id) > 100\n",
    "ORDER BY u.display_name;\n",
    "'''"
   ]
  },
  {
   "cell_type": "markdown",
   "id": "ce87c727",
   "metadata": {},
   "source": [
    "## Задача №16"
   ]
  },
  {
   "cell_type": "markdown",
   "id": "16561ade",
   "metadata": {},
   "source": [
    "Выведите количество постов за 2008 год по месяцам. \n",
    "\n",
    "Отберите посты от пользователей, которые зарегистрировались в сентябре 2008 года и сделали хотя бы один пост в декабре того же года. \n",
    "\n",
    "Отсортируйте таблицу по значению месяца по убыванию."
   ]
  },
  {
   "cell_type": "code",
   "execution_count": null,
   "id": "6042437e",
   "metadata": {},
   "outputs": [],
   "source": [
    "'''\n",
    "WITH sessions AS\n",
    "    (SELECT p.user_id\n",
    "    FROM stackoverflow.posts p\n",
    "    JOIN stackoverflow.users u ON p.user_id = u.id\n",
    "    WHERE DATE_TRUNC('month', u.creation_date)::date = '2008-09-01'\n",
    "           AND DATE_TRUNC('month', p.creation_date)::date = '2008-12-01'\n",
    "    GROUP BY p.user_id\n",
    "    HAVING COUNT(p.user_id)>0)\n",
    "SELECT COUNT(p.user_id),\n",
    "       DATE_TRUNC('month', p.creation_date)::date      \n",
    "FROM stackoverflow.posts AS p\n",
    "WHERE p.user_id IN (SELECT * FROM sessions)\n",
    "   AND DATE_TRUNC('year', p.creation_date)::date = '2008-01-01'\n",
    "GROUP BY DATE_TRUNC('month', p.creation_date)::date\n",
    "ORDER BY DATE_TRUNC('month', p.creation_date)::date DESC;\n",
    "'''"
   ]
  },
  {
   "cell_type": "markdown",
   "id": "a10812fa",
   "metadata": {},
   "source": [
    "## Задача №17"
   ]
  },
  {
   "cell_type": "markdown",
   "id": "ba0d60c5",
   "metadata": {},
   "source": [
    "Используя данные о постах, выведите несколько полей:\n",
    " - идентификатор пользователя, который написал пост;\n",
    " - дата создания поста;\n",
    " - количество просмотров у текущего поста;\n",
    " - сумму просмотров постов автора с накоплением.\n",
    " \n",
    "Данные в таблице должны быть отсортированы по возрастанию идентификаторов пользователей, а данные об одном и том же пользователе — по возрастанию даты создания поста."
   ]
  },
  {
   "cell_type": "code",
   "execution_count": null,
   "id": "c11100ee",
   "metadata": {},
   "outputs": [],
   "source": [
    "'''\n",
    "SELECT user_id,\n",
    "    creation_date,\n",
    "    views_count,\n",
    "    SUM(views_count) OVER (PARTITION BY user_id ORDER BY creation_date)\n",
    "FROM stackoverflow.posts\n",
    "ORDER BY user_id, creation_date;\n",
    "'''"
   ]
  },
  {
   "cell_type": "markdown",
   "id": "fd6f1a69",
   "metadata": {},
   "source": [
    "## Задача №18"
   ]
  },
  {
   "cell_type": "markdown",
   "id": "e8d571de",
   "metadata": {},
   "source": [
    "Сколько в среднем дней в период с 1 по 7 декабря 2008 года включительно пользователи взаимодействовали с платформой? \n",
    "\n",
    "Для каждого пользователя отберите дни, в которые он или она опубликовали хотя бы один пост. \n",
    "\n",
    "Нужно получить одно целое число — не забудьте округлить результат."
   ]
  },
  {
   "cell_type": "code",
   "execution_count": null,
   "id": "8665e7b6",
   "metadata": {},
   "outputs": [],
   "source": [
    "'''\n",
    "SELECT ROUND(AVG(i.cnt))\n",
    "FROM (\n",
    "    SELECT user_id,\n",
    "        COUNT(DISTINCT creation_date::date)  AS cnt\n",
    "    FROM stackoverflow.posts\n",
    "    WHERE creation_date::date BETWEEN '2008-12-01' AND '2008-12-07'\n",
    "    GROUP BY user_id) AS i;\n",
    "'''"
   ]
  },
  {
   "cell_type": "markdown",
   "id": "b2f016d5",
   "metadata": {},
   "source": [
    "## Задача №19"
   ]
  },
  {
   "cell_type": "markdown",
   "id": "b6d597bc",
   "metadata": {},
   "source": [
    "На сколько процентов менялось количество постов ежемесячно с 1 сентября по 31 декабря 2008 года? Отобразите таблицу со следующими полями:\n",
    " - номер месяца;\n",
    " - количество постов за месяц;\n",
    " - процент, который показывает, насколько изменилось количество постов в текущем месяце по сравнению с предыдущим.\n",
    " \n",
    "Если постов стало меньше, значение процента должно быть отрицательным, если больше — положительным. \n",
    "\n",
    "Округлите значение процента до двух знаков после запятой."
   ]
  },
  {
   "cell_type": "code",
   "execution_count": null,
   "id": "6209e5f1",
   "metadata": {},
   "outputs": [],
   "source": [
    "'''\n",
    "WITH t AS \n",
    "    (SELECT EXTRACT(MONTH from creation_date::date) AS month,\n",
    "        COUNT(id)\n",
    "    FROM stackoverflow.posts\n",
    "    WHERE creation_date::date BETWEEN '2008-09-01' AND '2008-12-31'\n",
    "    GROUP BY EXTRACT(MONTH from creation_date::date))\n",
    "SELECT *,\n",
    "       ROUND(((count::numeric / LAG(count) OVER (ORDER BY month)) - 1) * 100,2) AS user_growth\n",
    "FROM t;\n",
    "'''"
   ]
  },
  {
   "cell_type": "markdown",
   "id": "725ca337",
   "metadata": {},
   "source": [
    "## Задача №20"
   ]
  },
  {
   "cell_type": "markdown",
   "id": "ccc5ad48",
   "metadata": {},
   "source": [
    "Выгрузите данные активности пользователя, который опубликовал больше всего постов за всё время. \n",
    "\n",
    "Выведите данные за октябрь 2008 года в таком виде:\n",
    " - номер недели;\n",
    " - дата и время последнего поста, опубликованного на этой неделе."
   ]
  },
  {
   "cell_type": "code",
   "execution_count": null,
   "id": "d6b81976",
   "metadata": {},
   "outputs": [],
   "source": [
    "'''\n",
    "WITH t AS\n",
    "    (SELECT user_id,\n",
    "        COUNT(id)\n",
    "    FROM stackoverflow.posts\n",
    "    GROUP BY user_id\n",
    "    ORDER BY COUNT(id) DESC\n",
    "    LIMIT 1),\n",
    "    t1 AS\n",
    "    (SELECT p.user_id,\n",
    "         p.creation_date,\n",
    "         EXTRACT(WEEK FROM p.creation_date) AS week\n",
    "     FROM stackoverflow.posts p\n",
    "     JOIN t ON t.user_id = p.user_id\n",
    "     WHERE p.creation_date::date BETWEEN '2008-10-01' AND '2008-10-31')\n",
    "SELECT DISTINCT week::numeric,\n",
    "       MAX(creation_date) OVER (PARTITION BY week)\n",
    "FROM t1\n",
    "ORDER BY week;\n",
    "'''"
   ]
  }
 ],
 "metadata": {
  "kernelspec": {
   "display_name": "Python 3 (ipykernel)",
   "language": "python",
   "name": "python3"
  },
  "language_info": {
   "codemirror_mode": {
    "name": "ipython",
    "version": 3
   },
   "file_extension": ".py",
   "mimetype": "text/x-python",
   "name": "python",
   "nbconvert_exporter": "python",
   "pygments_lexer": "ipython3",
   "version": "3.11.3"
  }
 },
 "nbformat": 4,
 "nbformat_minor": 5
}
