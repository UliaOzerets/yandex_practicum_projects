{
 "cells": [
  {
   "cell_type": "markdown",
   "id": "baecd675",
   "metadata": {},
   "source": [
    "# Проект создания запросов к БД с помощью SQL(Postgre)"
   ]
  },
  {
   "cell_type": "markdown",
   "id": "6145ee7c",
   "metadata": {},
   "source": [
    "Нам нужно проанализировать данные о фондах и инвестициях и написать запросы к базе"
   ]
  },
  {
   "cell_type": "markdown",
   "id": "b5a5901e",
   "metadata": {},
   "source": [
    "## Задача №1"
   ]
  },
  {
   "cell_type": "markdown",
   "id": "021fc441",
   "metadata": {},
   "source": [
    "Посчитайте, сколько компаний закрылось."
   ]
  },
  {
   "cell_type": "code",
   "execution_count": null,
   "id": "9b31469a",
   "metadata": {},
   "outputs": [],
   "source": [
    "'''\n",
    "SELECT COUNT(status)\n",
    "FROM company\n",
    "WHERE status = 'closed';\n",
    "'''"
   ]
  },
  {
   "cell_type": "markdown",
   "id": "7a595d2c",
   "metadata": {},
   "source": [
    "## Задача №2"
   ]
  },
  {
   "cell_type": "markdown",
   "id": "18224ca7",
   "metadata": {},
   "source": [
    "Отобразите количество привлечённых средств для новостных компаний США. Используйте данные из таблицы company. \n",
    "\n",
    "Отсортируйте таблицу по убыванию значений в поле funding_total."
   ]
  },
  {
   "cell_type": "code",
   "execution_count": null,
   "id": "44b82fad",
   "metadata": {},
   "outputs": [],
   "source": [
    "'''\n",
    "SELECT funding_total\n",
    "FROM company\n",
    "WHERE country_code = 'USA'\n",
    "    AND category_code = 'news'\n",
    "ORDER BY funding_total DESC;\n",
    "'''"
   ]
  },
  {
   "cell_type": "markdown",
   "id": "dc1fa846",
   "metadata": {},
   "source": [
    "## Задача №3 "
   ]
  },
  {
   "cell_type": "markdown",
   "id": "45bd8ffd",
   "metadata": {},
   "source": [
    "Найдите общую сумму сделок по покупке одних компаний другими в долларах. Отберите сделки, которые осуществлялись только за наличные с 2011 по 2013 год включительно."
   ]
  },
  {
   "cell_type": "code",
   "execution_count": null,
   "id": "da16cd9b",
   "metadata": {},
   "outputs": [],
   "source": [
    "'''\n",
    "SELECT SUM(price_amount)\n",
    "FROM acquisition\n",
    "WHERE EXTRACT(YEAR FROM CAST(acquired_at AS timestamp)) IN (2011, 2012, 2013)\n",
    "    AND term_code = 'cash';\n",
    "'''"
   ]
  },
  {
   "cell_type": "markdown",
   "id": "d9a7ae9e",
   "metadata": {},
   "source": [
    "## Задача №4"
   ]
  },
  {
   "cell_type": "markdown",
   "id": "ea672bad",
   "metadata": {},
   "source": [
    "Отобразите имя, фамилию и названия аккаунтов людей в поле network_username, у которых названия аккаунтов начинаются на 'Silver'."
   ]
  },
  {
   "cell_type": "code",
   "execution_count": null,
   "id": "ac0ebee7",
   "metadata": {},
   "outputs": [],
   "source": [
    "'''\n",
    "SELECT first_name,\n",
    "    last_name,\n",
    "    twitter_username\n",
    "FROM people\n",
    "WHERE twitter_username LIKE 'Silver%';\n",
    "'''"
   ]
  },
  {
   "cell_type": "markdown",
   "id": "7750852d",
   "metadata": {},
   "source": [
    "## Задача №5"
   ]
  },
  {
   "cell_type": "markdown",
   "id": "221c4005",
   "metadata": {},
   "source": [
    "Выведите на экран всю информацию о людях, у которых названия аккаунтов в поле network_username содержат подстроку 'money', а фамилия начинается на 'K'."
   ]
  },
  {
   "cell_type": "code",
   "execution_count": null,
   "id": "29ff753c",
   "metadata": {},
   "outputs": [],
   "source": [
    "'''\n",
    "SELECT *\n",
    "FROM people\n",
    "WHERE twitter_username LIKE '%money%'\n",
    "    AND last_name LIKE 'K%';\n",
    "'''"
   ]
  },
  {
   "cell_type": "markdown",
   "id": "ec0484e4",
   "metadata": {},
   "source": [
    "## Задача №6  "
   ]
  },
  {
   "cell_type": "markdown",
   "id": "ee34dd2f",
   "metadata": {},
   "source": [
    "Для каждой страны отобразите общую сумму привлечённых инвестиций, которые получили компании, зарегистрированные в этой стране. Страну, в которой зарегистрирована компания, можно определить по коду страны.\n",
    "\n",
    "Отсортируйте данные по убыванию суммы."
   ]
  },
  {
   "cell_type": "code",
   "execution_count": null,
   "id": "4707b402",
   "metadata": {},
   "outputs": [],
   "source": [
    "'''\n",
    "SELECT SUM(funding_total),\n",
    "    country_code\n",
    "FROM company\n",
    "GROUP BY country_code\n",
    "ORDER BY SUM(funding_total) DESC;\n",
    "'''"
   ]
  },
  {
   "cell_type": "markdown",
   "id": "02127308",
   "metadata": {},
   "source": [
    "## Задача №7"
   ]
  },
  {
   "cell_type": "markdown",
   "id": "d9ea2354",
   "metadata": {},
   "source": [
    "Составьте таблицу, в которую войдёт дата проведения раунда, а также минимальное и максимальное значения суммы инвестиций, привлечённых в эту дату.\n",
    "\n",
    "Оставьте в итоговой таблице только те записи, в которых минимальное значение суммы инвестиций не равно нулю и не равно максимальному значению."
   ]
  },
  {
   "cell_type": "code",
   "execution_count": null,
   "id": "b774c4eb",
   "metadata": {},
   "outputs": [],
   "source": [
    "'''\n",
    "SELECT CAST(funded_at AS date),\n",
    "    MIN(raised_amount),\n",
    "    MAX(raised_amount) \n",
    "FROM funding_round\n",
    "GROUP BY CAST(funded_at AS date)\n",
    "HAVING MIN(raised_amount) <> 0\n",
    "    AND MIN(raised_amount) <> MAX(raised_amount);\n",
    "'''"
   ]
  },
  {
   "cell_type": "markdown",
   "id": "4f3844d9",
   "metadata": {},
   "source": [
    "## Задача №8 "
   ]
  },
  {
   "cell_type": "markdown",
   "id": "d6d0a313",
   "metadata": {},
   "source": [
    "Создайте поле с категориями:\n",
    "- Для фондов, которые инвестируют в 100 и более компаний, назначьте категорию high_activity.\n",
    "- Для фондов, которые инвестируют в 20 и более компаний до 100, назначьте категорию middle_activity.\n",
    "\n",
    "Если количество инвестируемых компаний фонда не достигает 20, назначьте категорию low_activity.\n",
    "\n",
    "Отобразите все поля таблицы fund и новое поле с категориями."
   ]
  },
  {
   "cell_type": "code",
   "execution_count": null,
   "id": "1da56a39",
   "metadata": {},
   "outputs": [],
   "source": [
    "'''\n",
    "SELECT *,\n",
    "    CASE\n",
    "        WHEN invested_companies >= 100 THEN 'high_activity'\n",
    "        WHEN invested_companies >= 20 AND invested_companies < 100 THEN 'middle_activity'\n",
    "        WHEN invested_companies < 20 THEN 'low_activity'\n",
    "    END\n",
    "FROM fund;\n",
    "'''"
   ]
  },
  {
   "cell_type": "markdown",
   "id": "417e414f",
   "metadata": {},
   "source": [
    "## Задача №9"
   ]
  },
  {
   "cell_type": "markdown",
   "id": "b40d4d3c",
   "metadata": {},
   "source": [
    "Для каждой из категорий, назначенных в предыдущем задании, посчитайте округлённое до ближайшего целого числа среднее количество инвестиционных раундов, в которых фонд принимал участие. \n",
    "\n",
    "Выведите на экран категории и среднее число инвестиционных раундов. \n",
    "\n",
    "Отсортируйте таблицу по возрастанию среднего."
   ]
  },
  {
   "cell_type": "code",
   "execution_count": null,
   "id": "96022d9d",
   "metadata": {},
   "outputs": [],
   "source": [
    "'''\n",
    "SELECT \n",
    "       CASE\n",
    "           WHEN invested_companies>=100 THEN 'high_activity'\n",
    "           WHEN invested_companies>=20 THEN 'middle_activity'\n",
    "           ELSE 'low_activity'\n",
    "       END AS activity,\n",
    "       ROUND(AVG(investment_rounds))\n",
    "FROM fund\n",
    "GROUP BY activity\n",
    "ORDER BY ROUND(AVG(investment_rounds));\n",
    "'''"
   ]
  },
  {
   "cell_type": "markdown",
   "id": "29ae382b",
   "metadata": {},
   "source": [
    "## Задача №10"
   ]
  },
  {
   "cell_type": "markdown",
   "id": "441fe5b7",
   "metadata": {},
   "source": [
    "Проанализируйте, в каких странах находятся фонды, которые чаще всего инвестируют в стартапы. \n",
    "\n",
    "Для каждой страны посчитайте минимальное, максимальное и среднее число компаний, в которые инвестировали фонды этой страны, основанные с 2010 по 2012 год включительно. Исключите страны с фондами, у которых минимальное число компаний, получивших инвестиции, равно нулю. \n",
    "\n",
    "Выгрузите десять самых активных стран-инвесторов: отсортируйте таблицу по среднему количеству компаний от большего к меньшему. Затем добавьте сортировку по коду страны в лексикографическом порядке."
   ]
  },
  {
   "cell_type": "code",
   "execution_count": null,
   "id": "91002c16",
   "metadata": {},
   "outputs": [],
   "source": [
    "'''\n",
    "SELECT country_code,\n",
    "    MIN(invested_companies),\n",
    "    MAX(invested_companies),\n",
    "    AVG(invested_companies)\n",
    "FROM fund\n",
    "WHERE EXTRACT(YEAR FROM CAST(founded_at AS date)) BETWEEN '2010' AND '2012'\n",
    "GROUP BY  country_code\n",
    "HAVING MIN(invested_companies) > 0\n",
    "ORDER BY AVG(invested_companies) DESC\n",
    "LIMIT 10;\n",
    "'''"
   ]
  },
  {
   "cell_type": "markdown",
   "id": "ad541ed2",
   "metadata": {},
   "source": [
    "## Задача №11"
   ]
  },
  {
   "cell_type": "markdown",
   "id": "8e0b0b9d",
   "metadata": {},
   "source": [
    "Отобразите имя и фамилию всех сотрудников стартапов. Добавьте поле с названием учебного заведения, которое окончил сотрудник, если эта информация известна."
   ]
  },
  {
   "cell_type": "code",
   "execution_count": null,
   "id": "94587719",
   "metadata": {},
   "outputs": [],
   "source": [
    "'''\n",
    "SELECT p.first_name,\n",
    "    p.last_name,\n",
    "    e.instituition\n",
    "FROM people AS p\n",
    "LEFT OUTER JOIN education AS e ON p.id = e.person_id; \n",
    "'''"
   ]
  },
  {
   "cell_type": "markdown",
   "id": "a5e7cfc4",
   "metadata": {},
   "source": [
    "## Задача №12"
   ]
  },
  {
   "cell_type": "markdown",
   "id": "95ce1606",
   "metadata": {},
   "source": [
    "Для каждой компании найдите количество учебных заведений, которые окончили её сотрудники. Выведите название компании и число уникальных названий учебных заведений. \n",
    "\n",
    "Составьте топ-5 компаний по количеству университетов."
   ]
  },
  {
   "cell_type": "code",
   "execution_count": null,
   "id": "3d0fe766",
   "metadata": {},
   "outputs": [],
   "source": [
    "'''\n",
    "SELECT c.name,\n",
    "    COUNT(DISTINCT e.instituition)\n",
    "FROM company AS c\n",
    "JOIN people AS p ON p.company_id = c.id\n",
    "LEFT OUTER JOIN  education AS e ON e.person_id = p.id\n",
    "GROUP BY c.name\n",
    "ORDER BY COUNT(DISTINCT e.instituition) DESC\n",
    "LIMIT 5;\n",
    "'''"
   ]
  },
  {
   "cell_type": "markdown",
   "id": "ee615271",
   "metadata": {},
   "source": [
    "## Задача №13"
   ]
  },
  {
   "cell_type": "markdown",
   "id": "e2d2f031",
   "metadata": {},
   "source": [
    "Составьте список с уникальными названиями закрытых компаний, для которых первый раунд финансирования оказался последним."
   ]
  },
  {
   "cell_type": "code",
   "execution_count": null,
   "id": "b2281882",
   "metadata": {},
   "outputs": [],
   "source": [
    "'''\n",
    "SELECT DISTINCT c.name\n",
    "FROM company AS c\n",
    "LEFT JOIN funding_round AS fr ON fr.company_id = c.id\n",
    "WHERE status LIKE '%closed'\n",
    "    AND is_first_round = 1\n",
    "    AND is_last_round = 1;\n",
    "'''"
   ]
  },
  {
   "cell_type": "markdown",
   "id": "4c8cd9f3",
   "metadata": {},
   "source": [
    "## Задача №14"
   ]
  },
  {
   "cell_type": "markdown",
   "id": "3b782481",
   "metadata": {},
   "source": [
    "Составьте список уникальных номеров сотрудников, которые работают в компаниях, отобранных в предыдущем задании."
   ]
  },
  {
   "cell_type": "code",
   "execution_count": null,
   "id": "348efd61",
   "metadata": {},
   "outputs": [],
   "source": [
    "'''\n",
    "SELECT DISTINCT p.id\n",
    "FROM people AS p\n",
    "LEFT JOIN company AS c ON p.company_id = c.id\n",
    "LEFT JOIN funding_round AS fr ON fr.company_id = c.id\n",
    "WHERE status LIKE '%closed'\n",
    "    AND is_first_round = 1\n",
    "    AND is_last_round = 1;\n",
    "'''"
   ]
  },
  {
   "cell_type": "markdown",
   "id": "bac1349e",
   "metadata": {},
   "source": [
    "## Задача №15"
   ]
  },
  {
   "cell_type": "markdown",
   "id": "1d96bf9a",
   "metadata": {},
   "source": [
    "Составьте таблицу, куда войдут уникальные пары с номерами сотрудников из предыдущей задачи и учебным заведением, которое окончил сотрудник."
   ]
  },
  {
   "cell_type": "code",
   "execution_count": null,
   "id": "a3054583",
   "metadata": {},
   "outputs": [],
   "source": [
    "'''\n",
    "SELECT DISTINCT p.id,\n",
    "    e.instituition\n",
    "FROM people AS p\n",
    "INNER JOIN company AS c ON p.company_id = c.id\n",
    "INNER JOIN funding_round AS fr ON fr.company_id = c.id\n",
    "INNER JOIN education AS e ON e.person_id = p.id\n",
    "WHERE status LIKE '%closed'\n",
    "    AND is_first_round = 1\n",
    "    AND is_last_round = 1;\n",
    "'''"
   ]
  },
  {
   "cell_type": "markdown",
   "id": "a30d5817",
   "metadata": {},
   "source": [
    "## Задача №16"
   ]
  },
  {
   "cell_type": "markdown",
   "id": "418f92b3",
   "metadata": {},
   "source": [
    "Посчитайте количество учебных заведений для каждого сотрудника из предыдущего задания. При подсчёте учитывайте, что некоторые сотрудники могли окончить одно и то же заведение дважды."
   ]
  },
  {
   "cell_type": "code",
   "execution_count": null,
   "id": "4d102f6b",
   "metadata": {},
   "outputs": [],
   "source": [
    "'''\n",
    "SELECT DISTINCT p.id,\n",
    "    COUNT(e.instituition)\n",
    "FROM company AS c\n",
    "INNER JOIN people AS p ON p.company_id = c.id\n",
    "INNER JOIN education AS e ON e.person_id = p.id\n",
    "WHERE status LIKE '%closed'\n",
    "AND c.id IN (SELECT fr.company_id\n",
    "             FROM funding_round AS fr\n",
    "             WHERE  is_first_round = 1\n",
    "             AND is_last_round = 1)\n",
    "GROUP BY p.id\n",
    "HAVING COUNT(e.instituition) > 0;\n",
    "'''"
   ]
  },
  {
   "cell_type": "markdown",
   "id": "d80f349d",
   "metadata": {},
   "source": [
    "## Задача №17"
   ]
  },
  {
   "cell_type": "markdown",
   "id": "ef6f993b",
   "metadata": {},
   "source": [
    "Дополните предыдущий запрос и выведите среднее число учебных заведений (всех, не только уникальных), которые окончили сотрудники разных компаний. Нужно вывести только одну запись, группировка здесь не понадобится."
   ]
  },
  {
   "cell_type": "code",
   "execution_count": null,
   "id": "e772cf58",
   "metadata": {},
   "outputs": [],
   "source": [
    "'''\n",
    "SELECT AVG(i.total)\n",
    "FROM (SELECT DISTINCT p.id,\n",
    "        COUNT(e.instituition) AS total\n",
    "    FROM company AS c\n",
    "    INNER JOIN people AS p ON p.company_id = c.id\n",
    "    INNER JOIN education AS e ON e.person_id = p.id\n",
    "    WHERE status LIKE '%closed'\n",
    "    AND c.id IN (SELECT fr.company_id\n",
    "                 FROM funding_round AS fr\n",
    "                 WHERE  is_first_round = 1\n",
    "                 AND is_last_round = 1)\n",
    "    GROUP BY p.id\n",
    "    HAVING COUNT(e.instituition) > 0) AS i;\n",
    "'''"
   ]
  },
  {
   "cell_type": "markdown",
   "id": "7c2f4ef3",
   "metadata": {},
   "source": [
    "## Задача №18 "
   ]
  },
  {
   "cell_type": "markdown",
   "id": "7555d298",
   "metadata": {},
   "source": [
    "Напишите похожий запрос: выведите среднее число учебных заведений (всех, не только уникальных), которые окончили сотрудники Facebook*.\n",
    "\n",
    "*(сервис, запрещённый на территории РФ)"
   ]
  },
  {
   "cell_type": "code",
   "execution_count": null,
   "id": "96a6f19b",
   "metadata": {},
   "outputs": [],
   "source": [
    "'''\n",
    "SELECT AVG(i.total)\n",
    "FROM (SELECT DISTINCT p.id,\n",
    "        COUNT(e.instituition) AS total\n",
    "    FROM company AS c\n",
    "    INNER JOIN people AS p ON p.company_id = c.id\n",
    "    INNER JOIN education AS e ON e.person_id = p.id\n",
    "    WHERE c.name LIKE '%Facebook'\n",
    "    GROUP BY p.id\n",
    "    HAVING COUNT(e.instituition) > 0) AS i;\n",
    "'''"
   ]
  },
  {
   "cell_type": "markdown",
   "id": "f67cdff6",
   "metadata": {},
   "source": [
    "## Задача №19"
   ]
  },
  {
   "cell_type": "markdown",
   "id": "fd81c705",
   "metadata": {},
   "source": [
    "Составьте таблицу из полей:\n",
    " - name_of_fund — название фонда;\n",
    " - name_of_company — название компании;\n",
    " - amount — сумма инвестиций, которую привлекла компания в раунде.\n",
    " \n",
    "В таблицу войдут данные о компаниях, в истории которых было больше шести важных этапов, а раунды финансирования проходили с 2012 по 2013 год включительно."
   ]
  },
  {
   "cell_type": "code",
   "execution_count": null,
   "id": "f2cd0906",
   "metadata": {},
   "outputs": [],
   "source": [
    "'''\n",
    "SELECT f.name AS name_of_fund,\n",
    "    c.name AS name_of_company,\n",
    "    fr.raised_amount AS amount\n",
    "FROM investment AS i\n",
    "LEFT JOIN company AS c ON i.company_id = c.id\n",
    "LEFT JOIN fund AS f ON i.fund_id = f.id\n",
    "LEFT JOIN funding_round AS fr ON i.funding_round_id = fr.id\n",
    "WHERE (EXTRACT(YEAR FROM CAST(fr.funded_at AS date)) BETWEEN 2012 AND 2013)\n",
    "    AND c.milestones > 6;\n",
    "'''"
   ]
  },
  {
   "cell_type": "markdown",
   "id": "c9877c22",
   "metadata": {},
   "source": [
    "## Задача №20"
   ]
  },
  {
   "cell_type": "markdown",
   "id": "cddfc8ba",
   "metadata": {},
   "source": [
    "Выгрузите таблицу, в которой будут такие поля:\n",
    " - название компании-покупателя;\n",
    " - сумма сделки;\n",
    " - название компании, которую купили;\n",
    " - сумма инвестиций, вложенных в купленную компанию;\n",
    " - доля, которая отображает, во сколько раз сумма покупки превысила сумму вложенных в компанию инвестиций, округлённая до ближайшего целого числа.\n",
    " \n",
    "Не учитывайте те сделки, в которых сумма покупки равна нулю. Если сумма инвестиций в компанию равна нулю, исключите такую компанию из таблицы. \n",
    "\n",
    "Отсортируйте таблицу по сумме сделки от большей к меньшей, а затем по названию купленной компании в лексикографическом порядке.\n",
    "\n",
    "Ограничьте таблицу первыми десятью записями."
   ]
  },
  {
   "cell_type": "code",
   "execution_count": null,
   "id": "93dfb33f",
   "metadata": {},
   "outputs": [],
   "source": [
    "'''\n",
    "SELECT c1.name AS buyer,\n",
    "    a.price_amount AS price,\n",
    "    c2.name AS salesman,\n",
    "    c2.funding_total AS investments,\n",
    "    ROUND(a.price_amount / c2.funding_total) AS share\n",
    "FROM acquisition AS a\n",
    "JOIN company AS c1 ON a.acquiring_company_id = c1.id\n",
    "JOIN company AS c2 ON a.acquired_company_id = c2.id\n",
    "WHERE a.price_amount > 0\n",
    "    AND c2.funding_total > 0\n",
    "ORDER BY a.price_amount DESC, c2.name\n",
    "LIMIT 10;\n",
    "'''"
   ]
  },
  {
   "cell_type": "markdown",
   "id": "9f8448a3",
   "metadata": {},
   "source": [
    "## Задача №21 "
   ]
  },
  {
   "cell_type": "markdown",
   "id": "4ec93b92",
   "metadata": {},
   "source": [
    "Выгрузите таблицу, в которую войдут названия компаний из категории social, получившие финансирование с 2010 по 2013 год включительно. Проверьте, что сумма инвестиций не равна нулю.\n",
    "\n",
    "Выведите также номер месяца, в котором проходил раунд финансирования."
   ]
  },
  {
   "cell_type": "code",
   "execution_count": null,
   "id": "4cfa2675",
   "metadata": {},
   "outputs": [],
   "source": [
    "'''\n",
    "WITH\n",
    "i AS (SELECT  id,\n",
    "         name\n",
    "    FROM company \n",
    "    WHERE category_code = 'social'),\n",
    "b AS (SELECT company_id AS id,\n",
    "            EXTRACT(MONTH FROM CAST(funded_at AS date)) AS month\n",
    "    FROM funding_round\n",
    "    WHERE (EXTRACT(YEAR FROM CAST(funded_at AS date)) BETWEEN 2010 AND 2013)\n",
    "        AND raised_amount <> 0)\n",
    "SELECT i.name,\n",
    "    b.month\n",
    "FROM i JOIN b ON i.id = b.id;\n",
    "'''"
   ]
  },
  {
   "cell_type": "markdown",
   "id": "094ae695",
   "metadata": {},
   "source": [
    "## Задача №22"
   ]
  },
  {
   "cell_type": "markdown",
   "id": "8b49bb17",
   "metadata": {},
   "source": [
    "Отберите данные по месяцам с 2010 по 2013 год, когда проходили инвестиционные раунды. Сгруппируйте данные по номеру месяца и получите таблицу, в которой будут поля:\n",
    " - номер месяца, в котором проходили раунды;\n",
    " - количество уникальных названий фондов из США, которые инвестировали в этом месяце;\n",
    " - количество компаний, купленных за этот месяц;\n",
    " - общая сумма сделок по покупкам в этом месяце."
   ]
  },
  {
   "cell_type": "code",
   "execution_count": null,
   "id": "92a759c7",
   "metadata": {},
   "outputs": [],
   "source": [
    "'''\n",
    "WITH\n",
    "i AS (SELECT EXTRACT(MONTH FROM CAST(fr.funded_at AS date)) AS month,\n",
    "      COUNT(DISTINCT f.name) AS names\n",
    "    FROM fund AS f\n",
    "LEFT JOIN investment AS i ON f.id = i.fund_id\n",
    "LEFT JOIN funding_round AS fr ON i.funding_round_id = fr.id\n",
    "WHERE f.country_code = 'USA'\n",
    "    AND EXTRACT(YEAR FROM CAST(funded_at AS date)) BETWEEN 2010 AND 2013\n",
    "GROUP BY EXTRACT(MONTH FROM CAST(funded_at AS date))),\n",
    "b AS (SELECT EXTRACT(MONTH FROM CAST(a.acquired_at AS date)) AS month,\n",
    "          COUNT(a.acquired_company_id) AS how,\n",
    "          SUM(a.price_amount) AS price\n",
    "      FROM acquisition AS a\n",
    "      WHERE EXTRACT(YEAR FROM CAST(acquired_at AS date)) BETWEEN 2010 AND 2013\n",
    "      GROUP BY EXTRACT(MONTH FROM CAST(acquired_at AS date)))\n",
    "SELECT b.month,\n",
    "    i.names,\n",
    "    b.how,\n",
    "    b.price\n",
    "FROM i LEFT JOIN b ON i.month = b.month;\n",
    "'''"
   ]
  },
  {
   "cell_type": "markdown",
   "id": "8b523116",
   "metadata": {},
   "source": [
    "## Задача №23"
   ]
  },
  {
   "cell_type": "markdown",
   "id": "b6d6b75d",
   "metadata": {},
   "source": [
    "Составьте сводную таблицу и выведите среднюю сумму инвестиций для стран, в которых есть стартапы, зарегистрированные в 2011, 2012 и 2013 годах. \n",
    "\n",
    "Данные за каждый год должны быть в отдельном поле. \n",
    "\n",
    "Отсортируйте таблицу по среднему значению инвестиций за 2011 год от большего к меньшему."
   ]
  },
  {
   "cell_type": "code",
   "execution_count": null,
   "id": "d60e283b",
   "metadata": {},
   "outputs": [],
   "source": [
    "'''\n",
    "WITH\n",
    "i AS (SELECT country_code,\n",
    "      AVG(funding_total) AS t_2011\n",
    "    FROM company\n",
    "    WHERE EXTRACT(YEAR FROM CAST(founded_at AS date)) = 2011\n",
    "    GROUP BY country_code),\n",
    "b AS (SELECT country_code,\n",
    "      AVG(funding_total) AS t_2012\n",
    "    FROM company\n",
    "    WHERE EXTRACT(YEAR FROM CAST(founded_at AS date)) = 2012\n",
    "    GROUP BY country_code),\n",
    "c AS (SELECT country_code,\n",
    "      AVG(funding_total) AS t_2013\n",
    "    FROM company\n",
    "    WHERE EXTRACT(YEAR FROM CAST(founded_at AS date)) = 2013\n",
    "    GROUP BY country_code)\n",
    "SELECT i.country_code,\n",
    "    i.t_2011,\n",
    "    b.t_2012,\n",
    "    c.t_2013\n",
    "FROM i INNER JOIN b ON i.country_code = b.country_code\n",
    "     INNER JOIN c ON i.country_code = c.country_code\n",
    "ORDER BY i.t_2011 DESC;\n",
    "'''"
   ]
  }
 ],
 "metadata": {
  "kernelspec": {
   "display_name": "Python 3 (ipykernel)",
   "language": "python",
   "name": "python3"
  },
  "language_info": {
   "codemirror_mode": {
    "name": "ipython",
    "version": 3
   },
   "file_extension": ".py",
   "mimetype": "text/x-python",
   "name": "python",
   "nbconvert_exporter": "python",
   "pygments_lexer": "ipython3",
   "version": "3.11.3"
  }
 },
 "nbformat": 4,
 "nbformat_minor": 5
}
